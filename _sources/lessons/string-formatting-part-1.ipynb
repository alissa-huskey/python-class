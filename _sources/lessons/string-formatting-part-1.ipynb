{
 "cells": [
  {
   "cell_type": "markdown",
   "id": "04f58252",
   "metadata": {},
   "source": [
    "String formatting: Part 1\n",
    "=========================\n",
    "\n",
    "We often want to display text to the end user in a specific way. For example,\n",
    "we may want to display `25.375` as `$25.38` if it represents an amount of money\n",
    "but as `25%` if it represents a percentage.\n",
    "\n",
    "Python provides a number of tools for this, but for this lesson we'll focus on\n",
    "the built in `format()` function, which takes two arguments: the `value`, and the\n",
    "`formatting string`.\n",
    "\n",
    "The formatting string is a combination of specific letters or characters that\n",
    "controls the format. This is a mini-language with its own syntax, but this\n",
    "lesson will focus on a few of the most commonly used.\n",
    "\n",
    "Here's how you would use the `format()` method to print the aformentioned\n",
    "examples. *Don't worry, this is just a teaser--I don't expect you to understand\n",
    "this yet.*"
   ]
  },
  {
   "cell_type": "code",
   "execution_count": 1,
   "id": "662f7306",
   "metadata": {
    "class": "full-width"
   },
   "outputs": [
    {
     "name": "stdout",
     "output_type": "stream",
     "text": [
      "25.38\n",
      "25%\n"
     ]
    }
   ],
   "source": [
    "print(format(25.375, '.2f'))\n",
    "\n",
    "print(format(25.375/100, '.0%'))"
   ]
  },
  {
   "cell_type": "markdown",
   "id": "a555b1c5",
   "metadata": {},
   "source": [
    "Presentation\n",
    "------------\n",
    "\n",
    "{{ leftcol }}\n",
    "\n",
    "At the core of a formatting strings is its presentation. Each letter\n",
    "cooresponds to a specific input value type and output presentation. The most\n",
    "common are:\n",
    "\n",
    "{{ rightcol }}\n",
    "\n",
    "| Letter | Type           | Presentation | Example        |\n",
    "|--------|----------------|--------------|----------------|\n",
    "| `s`    | `str`          | string       | `\"hello\"`      |\n",
    "| `d`    | `int`          | decimal      | `\"1000\"`       |\n",
    "| `f`    | `float`, `int` | float        | `\"1.000000\"`   |\n",
    "| `%`    | `float`, `int` | percent      | `\"20.000000%\"` |\n",
    "\n",
    "{{ br }}\n",
    "\n",
    "{{ newrow }}\n",
    "\n",
    "So here's a simple example that formats an `int` value with a decimal\n",
    "presentation style.\n",
    "\n",
    "{{ rightcol }}"
   ]
  },
  {
   "cell_type": "code",
   "execution_count": 2,
   "id": "6ee2d4ac",
   "metadata": {
    "class": "full-width"
   },
   "outputs": [
    {
     "data": {
      "text/plain": [
       "'5.000000'"
      ]
     },
     "execution_count": 2,
     "metadata": {},
     "output_type": "execute_result"
    }
   ],
   "source": [
    "format(5, \"f\")"
   ]
  },
  {
   "cell_type": "markdown",
   "id": "e7de940b",
   "metadata": {},
   "source": [
    "{{ br }}\n",
    "\n",
    "{{ newrow }}\n",
    "\n",
    "If there is no presentation type letter in a formatting string, the default is\n",
    "`d` for numbers or `s` otherwise.\n",
    "\n",
    "So technically, these are equivalent.\n",
    "\n",
    "{{ rightcol }}"
   ]
  },
  {
   "cell_type": "code",
   "execution_count": 3,
   "id": "e9208a84",
   "metadata": {
    "class": "full-width"
   },
   "outputs": [
    {
     "data": {
      "text/plain": [
       "'hello'"
      ]
     },
     "execution_count": 3,
     "metadata": {},
     "output_type": "execute_result"
    }
   ],
   "source": [
    "format(\"hello\", \"\")\n",
    "format(\"hello\", \"s\")"
   ]
  },
  {
   "cell_type": "code",
   "execution_count": 4,
   "id": "1afef97b",
   "metadata": {
    "class": "full-width"
   },
   "outputs": [
    {
     "data": {
      "text/plain": [
       "'5'"
      ]
     },
     "execution_count": 4,
     "metadata": {},
     "output_type": "execute_result"
    }
   ],
   "source": [
    "format(5, \"\")\n",
    "format(5, \"d\")"
   ]
  },
  {
   "cell_type": "markdown",
   "id": "658cfe08",
   "metadata": {},
   "source": [
    "{{ endcols }}\n",
    "\n",
    "Precision\n",
    "---------\n",
    "\n",
    "{{ leftcol }}\n",
    "\n",
    "Precison goes before the presentation, with the syntax:\n",
    "\n",
    "{{ rightcol }}\n",
    "\n",
    "{samp}`.{NUMBER}`\n",
    "\n",
    "{{ newrow }}\n",
    "\n",
    "The `NUMBER` controls how many digits to display after the decimal point for\n",
    "floating point numbers.\n",
    "\n",
    "{{ rightcol }}"
   ]
  },
  {
   "cell_type": "code",
   "execution_count": 5,
   "id": "36174cd8",
   "metadata": {
    "class": "full-width"
   },
   "outputs": [
    {
     "data": {
      "text/plain": [
       "'2.50'"
      ]
     },
     "execution_count": 5,
     "metadata": {},
     "output_type": "execute_result"
    }
   ],
   "source": [
    "format(2.5, '.2f')"
   ]
  },
  {
   "cell_type": "markdown",
   "id": "c3639226",
   "metadata": {},
   "source": [
    "{{ br }}\n",
    "\n",
    "{{ newrow }}\n",
    "\n",
    "Or the maximum number of characters to show for strings.\n",
    "\n",
    "{{ rightcol }}"
   ]
  },
  {
   "cell_type": "code",
   "execution_count": 6,
   "id": "5724bb8b",
   "metadata": {
    "class": "full-width"
   },
   "outputs": [
    {
     "data": {
      "text/plain": [
       "'Mon'"
      ]
     },
     "execution_count": 6,
     "metadata": {},
     "output_type": "execute_result"
    }
   ],
   "source": [
    "format(\"Monday\", \".3s\")"
   ]
  },
  {
   "cell_type": "markdown",
   "id": "d21dafd4",
   "metadata": {},
   "source": [
    "{{ endcols }}\n",
    "\n",
    "Alignment\n",
    "---------\n",
    "\n",
    "{{ leftcol }}\n",
    "\n",
    "The formatting string for alignment goes before precision and consists of at\n",
    "least two parts:\n",
    "\n",
    "{{ rightcol }}\n",
    "\n",
    "{samp}`{ALIGNMENT} {WIDTH}`\n",
    "\n",
    "{{ newrow }}\n",
    "\n",
    "With one of these characters for alignment.\n",
    "\n",
    "{{ rightcol }}\n",
    "\n",
    "| Character | Alignment           |\n",
    "|-----------|---------------------|\n",
    "| `>`       | right               |\n",
    "| `<`       | left                |\n",
    "| `^`       | center              |\n",
    "| `=`       | align numeric signs |\n",
    "\n",
    "{{ newrow }}\n",
    "\n",
    "For example, to center a string to a width of `20`:\n",
    "\n",
    "{{ rightcol }}"
   ]
  },
  {
   "cell_type": "code",
   "execution_count": 7,
   "id": "19cf7690",
   "metadata": {
    "class": "full-width"
   },
   "outputs": [
    {
     "data": {
      "text/plain": [
       "'       hello        '"
      ]
     },
     "execution_count": 7,
     "metadata": {},
     "output_type": "execute_result"
    }
   ],
   "source": [
    "format(\"hello\", \"^20\")"
   ]
  },
  {
   "cell_type": "markdown",
   "id": "0e14b9e9",
   "metadata": {},
   "source": [
    "{{ newrow }}\n",
    "\n",
    "It works the same way for numbers.\n",
    "\n",
    "{{ rightcol }}"
   ]
  },
  {
   "cell_type": "code",
   "execution_count": 8,
   "id": "557802a5",
   "metadata": {
    "class": "full-width"
   },
   "outputs": [
    {
     "data": {
      "text/plain": [
       "'   22'"
      ]
     },
     "execution_count": 8,
     "metadata": {},
     "output_type": "execute_result"
    }
   ],
   "source": [
    " format(22, \">5d\")"
   ]
  },
  {
   "cell_type": "markdown",
   "id": "3ec2c492",
   "metadata": {},
   "source": [
    "{{ newrow }}\n",
    "\n",
    "But you'll most likely want to use the special number alignment character `=`,\n",
    "which ensures that signs are aligned.\n",
    "\n",
    "{{ rightcol }}"
   ]
  },
  {
   "cell_type": "code",
   "execution_count": 9,
   "id": "05774a5d",
   "metadata": {
    "class": "full-width"
   },
   "outputs": [
    {
     "name": "stdout",
     "output_type": "stream",
     "text": [
      "    >     = \n",
      "\n",
      "   25     25\n",
      " -436  - 436\n",
      "    8      8\n",
      "  150    150\n",
      "  -32  -  32\n",
      "   10     10\n"
     ]
    }
   ],
   "source": [
    "print(format(\">\", \">5s\"), format(\"=\", \">5s\"), \"\\n\")\n",
    "for x in (25, -436, 8, 150, -32, 10):\n",
    "   print(format(x, \">5d\"), format(x, \"=5d\"), sep=\"  \")"
   ]
  },
  {
   "cell_type": "markdown",
   "id": "7120643c",
   "metadata": {},
   "source": [
    "{{ newrow }}\n",
    "\n",
    "It is important to keep in mind that the width is the number of total\n",
    "characters in the output string, including any signs or decimal points.\n",
    "\n",
    "{{ newrow }}\n",
    "\n",
    "By the way, if we break down that last formatting string: `\"=8.2f\"`.\n",
    "\n",
    "{{ rightcol }}\n",
    "\n",
    "| Formatting string   | Refers to             | Meaning                             |\n",
    "|---------------------|-----------------------|-------------------------------------|\n",
    "| `=8`                | alignment             | numeric alignment, total width: `8` |\n",
    "| `.2`                | precision             | `2` digits after the decimal        |\n",
    "| `f`                 | presentation          | float                               |\n",
    "\n",
    "\n",
    "{{ endcols }}\n",
    "\n",
    "Fill\n",
    "----\n",
    "\n",
    "{{ leftcol }}\n",
    "\n",
    "There is one more optional part of alignment, the character to fill in any\n",
    "extra space with. By default, the fill character is a space.\n",
    "\n",
    "The following two examples are the same.\n",
    "\n",
    "{{ rightcol }}"
   ]
  },
  {
   "cell_type": "code",
   "execution_count": 10,
   "id": "7f4dc861",
   "metadata": {
    "class": "full-width"
   },
   "outputs": [
    {
     "data": {
      "text/plain": [
       "'       hello        '"
      ]
     },
     "execution_count": 10,
     "metadata": {},
     "output_type": "execute_result"
    }
   ],
   "source": [
    "format(\"hello\", \"^20\")"
   ]
  },
  {
   "cell_type": "code",
   "execution_count": 11,
   "id": "34294a61",
   "metadata": {
    "class": "full-width"
   },
   "outputs": [
    {
     "data": {
      "text/plain": [
       "'       hello        '"
      ]
     },
     "execution_count": 11,
     "metadata": {},
     "output_type": "execute_result"
    }
   ],
   "source": [
    "format(\"hello\", \" ^20\")"
   ]
  },
  {
   "cell_type": "markdown",
   "id": "c852a558",
   "metadata": {},
   "source": [
    "{{ newrow }}\n",
    "\n",
    "However, we can use any character for the fill character. Lets say instead we\n",
    "use the character `\"=\"`.\n",
    "\n",
    "{{ rightcol }}"
   ]
  },
  {
   "cell_type": "code",
   "execution_count": 12,
   "id": "f77d0cf4",
   "metadata": {
    "class": "full-width"
   },
   "outputs": [
    {
     "data": {
      "text/plain": [
       "'=======hello========'"
      ]
     },
     "execution_count": 12,
     "metadata": {},
     "output_type": "execute_result"
    }
   ],
   "source": [
    "format(\"hello\", \"=^20\")"
   ]
  },
  {
   "cell_type": "markdown",
   "id": "ff2f93ed",
   "metadata": {},
   "source": [
    "{{ newrow }}\n",
    "\n",
    "This is an easy way to make lots of stylish looking headers.\n",
    "\n",
    "{{ rightcol }}"
   ]
  },
  {
   "cell_type": "code",
   "execution_count": 13,
   "id": "4b965a06",
   "metadata": {
    "class": "full-width"
   },
   "outputs": [
    {
     "data": {
      "text/plain": [
       "'hello_______________'"
      ]
     },
     "execution_count": 13,
     "metadata": {},
     "output_type": "execute_result"
    }
   ],
   "source": [
    "format(\"hello\", \"_<20\")"
   ]
  },
  {
   "cell_type": "code",
   "execution_count": 14,
   "id": "ee95687b",
   "metadata": {
    "class": "full-width"
   },
   "outputs": [
    {
     "data": {
      "text/plain": [
       "'...............hello'"
      ]
     },
     "execution_count": 14,
     "metadata": {},
     "output_type": "execute_result"
    }
   ],
   "source": [
    "format(\"hello\", \".>20\")"
   ]
  },
  {
   "cell_type": "markdown",
   "id": "33266889",
   "metadata": {},
   "source": [
    "{{ newrow }}\n",
    "\n",
    "Note, if you want space between your fill character and the text, add them in\n",
    "the text itself rather than the formatting spec.\n",
    "\n",
    "{{ rightcol }}"
   ]
  },
  {
   "cell_type": "code",
   "execution_count": 15,
   "id": "7d9094eb",
   "metadata": {
    "class": "full-width"
   },
   "outputs": [
    {
     "data": {
      "text/plain": [
       "'====== hello ======='"
      ]
     },
     "execution_count": 15,
     "metadata": {},
     "output_type": "execute_result"
    }
   ],
   "source": [
    "format(\" hello \", \"=^20\")"
   ]
  },
  {
   "cell_type": "code",
   "execution_count": 16,
   "id": "8642b036",
   "metadata": {
    "class": "full-width"
   },
   "outputs": [
    {
     "data": {
      "text/plain": [
       "'hello ______________'"
      ]
     },
     "execution_count": 16,
     "metadata": {},
     "output_type": "execute_result"
    }
   ],
   "source": [
    "format(\"hello \", \"_<20\")"
   ]
  },
  {
   "cell_type": "code",
   "execution_count": 17,
   "id": "1e858839",
   "metadata": {
    "class": "full-width"
   },
   "outputs": [
    {
     "data": {
      "text/plain": [
       "'.............. hello'"
      ]
     },
     "execution_count": 17,
     "metadata": {},
     "output_type": "execute_result"
    }
   ],
   "source": [
    "format(\" hello\", \".>20\")"
   ]
  },
  {
   "cell_type": "markdown",
   "id": "bfbcfaaf",
   "metadata": {},
   "source": [
    "{{ newrow }}\n",
    "\n",
    "A fill character is also used to zero-pad numbers:\n",
    "\n",
    "{{ rightcol }}"
   ]
  },
  {
   "cell_type": "code",
   "execution_count": 18,
   "id": "252c31d5",
   "metadata": {
    "class": "full-width"
   },
   "outputs": [
    {
     "data": {
      "text/plain": [
       "'02'"
      ]
     },
     "execution_count": 18,
     "metadata": {},
     "output_type": "execute_result"
    }
   ],
   "source": [
    "format(2, \"0>2d\")"
   ]
  },
  {
   "cell_type": "code",
   "execution_count": 19,
   "id": "096581a9",
   "metadata": {
    "class": "full-width"
   },
   "outputs": [
    {
     "data": {
      "text/plain": [
       "'05.20'"
      ]
     },
     "execution_count": 19,
     "metadata": {},
     "output_type": "execute_result"
    }
   ],
   "source": [
    "format(5.2, \"0>5.2f\")"
   ]
  },
  {
   "cell_type": "markdown",
   "id": "b96b559c",
   "metadata": {},
   "source": [
    "{{ endcols }}\n",
    "\n",
    "Exercises\n",
    "---------\n",
    "\n",
    "`````{exercise} String Formatting\n",
    ":label: string-formatting-exercise\n",
    "\n",
    "Use the `format()` function to:\n",
    "\n",
    "1. Format the number `48.7052` to two decimal points.\n",
    "1. Format the number `2.5` to two decimal points.\n",
    "1. Format `.25` to `25%`\n",
    "1. Truncate the string `\"September\"` to a width of `3` characters\n",
    "1. Center the string `\"Game Over\"` to a width of `80`\n",
    "1. Right align the text `\"8 of 10\"` to a width of `80`\n",
    "1. Left align the string `\"Question\"` with a fill character of `\"=\"` to a width of `30` characters.\n",
    "\n",
    "`````\n",
    "\n",
    "`````{solution} string-formatting-exercise\n",
    ":class: dropdown\n",
    "\n",
    "```{code-block} python\n",
    ":caption: String Formatting Exercise\n",
    ":class: full-width\n",
    ">>> format(48.7052, \".2f\")          # 1\n",
    "'48.71'\n",
    "\n",
    ">>> format(2.5, \".2f\")              # 2\n",
    "'2.50'\n",
    "\n",
    ">>> format(.25, \".0%\")              # 3\n",
    "'25%'\n",
    "\n",
    ">>> format(\"September\", \".3s\")      # 4\n",
    "'Sep'\n",
    "\n",
    ">>> format(\"Game Over\", \"^80\")      # 5\n",
    "'                                   Game Over                                    '\n",
    "\n",
    ">>> format(\"8 of 10\", \">80\")        # 6\n",
    "'                                                                         8 of 10'\n",
    "\n",
    ">>> format(\"Question \", \"=<30\")     # 7\n",
    "'Question ====================='\n",
    "\n",
    "```\n",
    "\n",
    "`````\n",
    "\n",
    "`````{exercise} Align Numbers\n",
    ":label: align-numbers-exercise\n",
    "\n",
    "Copy the following function `rand_nums()` then call it to generate a list of\n",
    "`10` positive and negative numbers, both floats and ints.\n",
    "\n",
    "Print the list so that the decimal points and `-` signs line up.\n",
    "\n",
    ":::{dropdown} Show `rand_nums()` code\n",
    "\n",
    "```{literalinclude} ../../pythonclass/exercises/rand_nums.py\n",
    ":linenos:\n",
    "```\n",
    "\n",
    ":::\n",
    "\n",
    "```{dropdown} Need help?\n",
    "1. Paste the above `rand_nums()` function into your file.\n",
    "1. Call it and assign the retuned value to the variable `numbers`.\n",
    "1. Use a `for` loop to iterate over `numbers` with the variable name `num`. \\\n",
    "   In each iteration:\n",
    "   * Use the `format()` function to format `num` with the format string indicating:\n",
    "      - `float` presentation\n",
    "      - `2` decimal places percision\n",
    "      - numeric sign alignment\n",
    "      - width of `7` characters\n",
    "   * print the returned value\n",
    "```\n",
    "\n",
    "**Example output**:\n",
    "\n",
    "```text\n",
    "-471.00\n",
    " 434.00\n",
    "-421.00\n",
    "-459.99\n",
    "-399.98\n",
    " 371.07\n",
    " 200.02\n",
    "  29.00\n",
    "  32.00\n",
    " 315.00\n",
    "```\n",
    "\n",
    "`````\n",
    "\n",
    "`````{solution} align-numbers-exercise\n",
    ":class: dropdown\n",
    "\n",
    "```{code-block} python\n",
    ":caption: Align Numbers Exercise\n",
    ":class: full-width\n",
    ":linenos:\n",
    "\n",
    "numbers = rand_nums()\n",
    "\n",
    "for num in numbers:\n",
    "  print(format(num, \"=7.2f\"))\n",
    "\n",
    "```\n",
    "\n",
    "`````\n",
    "\n",
    "Reference\n",
    "---------\n",
    "\n",
    "### Presentations\n",
    "\n",
    "| Letter   | Type           | Presentation | Details                                             | Example (Input)   | (Output)                   |\n",
    "|----------|----------------|--------------|-----------------------------------------------------|--------------------------|----------------------------|\n",
    "| `s`      | `str`          | string       |                                                     | `\"hello\"`                | `\"hello\"`                  |\n",
    "| `d`, `i` | `int`          | decimal      | [^fmt-alias]                                        | `1000`                   | `\"1000\"`                   |\n",
    "| `n`      | `int`          | decimal      | with number sepertors                               | `1000`                   | `\"1,000\"`                  |\n",
    "| `f`      | `float`, `int` | float        |                                                     | `1.0`                    | `\"1.000000\"`               |\n",
    "| `%`      | `float`, `int` | percent      |                                                     | `0.2`                    | `\"20.000000%\"`             |\n",
    "| `e`, `E` | `float`, `int` | float        | scientific notation                     [^fmt-case] | `1.5`                    | `\"1.500000e+00\"`           |\n",
    "| `g`, `G` | `float`, `int` | float        | normal or scientific depending on size  [^fmt-case] | `1.5` {{ br }} `1000000` | `\"1.5\"` {{ br }} `\"1e+06\"` |\n",
    "| `b`      | `int`          | decimal      | binary                                              | `25`                     | `\"1010\"`                   |\n",
    "| `o`      | `int`          | decimal      | octal                                               | `10`                     | `\"12\"`                     |\n",
    "| `x`, `X` | `int`          | decimal      | hex                                     [^fmt-case] | `10`                     | `\"a\"`                      |\n",
    "| `c`      | `int`          | string       | single character                                    | `65`                     | `\"A\"`                      |\n",
    "\n",
    "[^fmt-case]: case of letter indicates case of output\n",
    "[^fmt-alias]: alias\n",
    "\n",
    "### See also\n",
    "\n",
    ":::{seealso}\n",
    "\n",
    "* [Format String Syntax](https://docs.python.org/3/library/string.html#format-specification-mini-language)\n",
    "\n",
    ":::"
   ]
  }
 ],
 "metadata": {
  "jupytext": {
   "formats": "md:myst",
   "text_representation": {
    "extension": ".md",
    "format_name": "myst"
   }
  },
  "kernelspec": {
   "display_name": "Python 3",
   "language": "python",
   "name": "python3"
  },
  "language_info": {
   "codemirror_mode": {
    "name": "ipython",
    "version": 3
   },
   "file_extension": ".py",
   "mimetype": "text/x-python",
   "name": "python",
   "nbconvert_exporter": "python",
   "pygments_lexer": "ipython3",
   "version": "3.8.12"
  },
  "source_map": [
   11,
   31,
   36,
   65,
   68,
   81,
   87,
   91,
   113,
   116,
   126,
   129,
   165,
   168,
   176,
   179,
   188,
   193,
   227,
   232,
   235,
   244,
   247,
   255,
   260,
   263,
   273,
   278,
   283,
   286,
   295,
   300,
   303
  ]
 },
 "nbformat": 4,
 "nbformat_minor": 5
}