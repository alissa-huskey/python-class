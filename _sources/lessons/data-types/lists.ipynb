{
 "cells": [
  {
   "cell_type": "markdown",
   "id": "9e8ced4f",
   "metadata": {},
   "source": [
    "Lists\n",
    "=====\n",
    "\n",
    "{{ leftcol | replace(\"col\", \"col-8\")  }}\n",
    "\n",
    "An ordered collection of arbitrary objects accessed via index numbers.\n",
    "\n",
    "```{contents} Table of Contents\n",
    ":backlinks: top\n",
    ":local:\n",
    "```\n",
    "\n",
    "{{ rightcol | replace(\"col\", \"col-4 text-right\") }}\n",
    "\n",
    ":::{fieldlist}\n",
    "\n",
    ":Type:        `list`\n",
    ":Synatx:      {samp}`[{item},...]`\n",
    ":Bases:       Sequence, Iterable\n",
    ":State:       Mutable\n",
    ":Position:    Ordered\n",
    ":Composition: Heterogeneous\n",
    ":Diversity:   Repeatable\n",
    ":Access:      Subscriptable\n",
    ":Value:       Not hashable\n",
    "\n",
    ":::\n",
    "\n",
    "{{ endcols }}"
   ]
  },
  {
   "cell_type": "code",
   "execution_count": 1,
   "id": "c81e238c",
   "metadata": {
    "tags": [
     "remove-input",
     "thebe-init"
    ]
   },
   "outputs": [],
   "source": [
    "\"\"\"setup pprint method\"\"\"\n",
    "\n",
    "from pprint import pformat\n",
    "\n",
    "def pprint(obj):\n",
    "  \"\"\"pretty print obj if defined, otherwise print an equal number of lines\"\"\"\n",
    "  if obj:\n",
    "    print(pformat(obj, width=40))\n",
    "  else:\n",
    "    print(\"-\" + (\"\\n\"*(len(GLOBAL)-1)) + repr(obj))"
   ]
  },
  {
   "cell_type": "markdown",
   "id": "ef47eb50",
   "metadata": {},
   "source": [
    "Basics\n",
    "------\n",
    "\n",
    "### Creating\n",
    "\n",
    "There are several ways to create a new list. The simplest is to enclose the\n",
    "elements, seperated by commas, in square brackets (`[` and `]`):"
   ]
  },
  {
   "cell_type": "code",
   "execution_count": 2,
   "id": "d6a7d3ca",
   "metadata": {
    "tags": [
     "thebe-init"
    ]
   },
   "outputs": [],
   "source": [
    "cities = [\"London\", \"Paris\", \"Berlin\"]"
   ]
  },
  {
   "cell_type": "code",
   "execution_count": 3,
   "id": "32e59c66",
   "metadata": {
    "tags": [
     "thebe-init",
     "remove-input"
    ]
   },
   "outputs": [],
   "source": [
    "# set global to cities list for pprint\n",
    "GLOBAL = cities"
   ]
  },
  {
   "cell_type": "markdown",
   "id": "c570b8c4",
   "metadata": {},
   "source": [
    "Each element is assigned a successive {term}`index number`, starting at `0`.\n",
    "Under the hood, the `cities` list looks like this:\n",
    "\n",
    "```{kroki}\n",
    ":type: ditaa\n",
    "+----------------------------------------+\n",
    "|                                        |\n",
    "| cities (list)                          |\n",
    "|                                        |\n",
    "|   +----------+----------+----------+   |\n",
    "|   |          |          |          |   |\n",
    "|   | London   | Paris    | Berlin   |   |\n",
    "|   |          |          |          |   |\n",
    "|   +----------+----------+----------+   |\n",
    "|   |    0 cCFF|    1 cCFF|    2 cCFF|   |\n",
    "|   +----------+----------+----------+   |\n",
    "|   |   -3 cCCF|   -2 cCCF|   -1 cCCF|   |\n",
    "|   +----------+----------+----------+   |\n",
    "|                                        |\n",
    "+----------------------------------------+\n",
    "\n",
    "  /----\\               /----\\\n",
    "  |cCFF| index number  |cCCF| negative index\n",
    "  \\----/               \\----/\n",
    "\n",
    "```\n",
    "\n",
    "### Accessing\n",
    "\n",
    "Items are accessed via {term}`subscription`, using `[` `]` after the object\n",
    "to enclose a selector expression. For example, use the index number to select\n",
    "an individual item."
   ]
  },
  {
   "cell_type": "code",
   "execution_count": 4,
   "id": "eb5a0703",
   "metadata": {},
   "outputs": [
    {
     "name": "stdout",
     "output_type": "stream",
     "text": [
      "London\n"
     ]
    }
   ],
   "source": [
    "print(cities[0])"
   ]
  },
  {
   "cell_type": "markdown",
   "id": "75742a34",
   "metadata": {},
   "source": [
    "You can use a negative index number to access elements starting at the end.\n",
    "\n",
    "Negative index numbers are shorthand for\n",
    "{samp}`{length of list} + {negative index value}`."
   ]
  },
  {
   "cell_type": "code",
   "execution_count": 5,
   "id": "01f191e0",
   "metadata": {},
   "outputs": [
    {
     "name": "stdout",
     "output_type": "stream",
     "text": [
      "Berlin\n"
     ]
    }
   ],
   "source": [
    "print(cities[-1])"
   ]
  },
  {
   "cell_type": "markdown",
   "id": "39bbc940",
   "metadata": {},
   "source": [
    "Subscription is also used to change list elements."
   ]
  },
  {
   "cell_type": "code",
   "execution_count": 6,
   "id": "465cca8d",
   "metadata": {},
   "outputs": [
    {
     "name": "stdout",
     "output_type": "stream",
     "text": [
      "['London', 'Amsterdam', 'Berlin']\n"
     ]
    }
   ],
   "source": [
    "cities[1] = \"Amsterdam\"\n",
    "print(cities)"
   ]
  },
  {
   "cell_type": "markdown",
   "id": "e4d08c19",
   "metadata": {},
   "source": [
    "### Adding\n",
    "\n",
    "To add an element to the end of a list, use the `.append()` method."
   ]
  },
  {
   "cell_type": "code",
   "execution_count": 7,
   "id": "678e069c",
   "metadata": {
    "tags": [
     "thebe-init"
    ]
   },
   "outputs": [
    {
     "name": "stdout",
     "output_type": "stream",
     "text": [
      "['London', 'Amsterdam', 'Berlin', 'Dublin']\n"
     ]
    }
   ],
   "source": [
    "cities.append(\"Dublin\")\n",
    "print(cities)"
   ]
  },
  {
   "cell_type": "markdown",
   "id": "1324bd66",
   "metadata": {},
   "source": [
    "Or you can add an item at a specific position with the `.insert()` method."
   ]
  },
  {
   "cell_type": "code",
   "execution_count": 8,
   "id": "74875914",
   "metadata": {
    "tags": [
     "thebe-init"
    ]
   },
   "outputs": [
    {
     "name": "stdout",
     "output_type": "stream",
     "text": [
      "['London', 'Italy', 'Amsterdam', 'Berlin', 'Dublin']\n"
     ]
    }
   ],
   "source": [
    "cities.insert(1, \"Italy\")\n",
    "print(cities)"
   ]
  },
  {
   "cell_type": "markdown",
   "id": "0e42f003",
   "metadata": {},
   "source": [
    "Or you can add all the items from another {term}`iterable` with the `.extend()`\n",
    "method."
   ]
  },
  {
   "cell_type": "code",
   "execution_count": 9,
   "id": "6cc15ad3",
   "metadata": {
    "tags": [
     "thebe-init"
    ]
   },
   "outputs": [
    {
     "name": "stdout",
     "output_type": "stream",
     "text": [
      "['London',\n",
      " 'Italy',\n",
      " 'Amsterdam',\n",
      " 'Berlin',\n",
      " 'Dublin',\n",
      " 'San Francisco',\n",
      " 'Brooklyn',\n",
      " 'Denver']\n"
     ]
    }
   ],
   "source": [
    "cities.extend([\"San Francisco\", \"Brooklyn\", \"Denver\"])\n",
    "pprint(cities)"
   ]
  },
  {
   "cell_type": "markdown",
   "id": "b10f68c6",
   "metadata": {},
   "source": [
    "### Removing\n",
    "\n",
    "Use the `del` keyword to remove an element by index."
   ]
  },
  {
   "cell_type": "code",
   "execution_count": 10,
   "id": "69031b9c",
   "metadata": {
    "tags": [
     "thebe-init"
    ]
   },
   "outputs": [
    {
     "name": "stdout",
     "output_type": "stream",
     "text": [
      "['London', 'Amsterdam', 'Berlin', 'Dublin', 'San Francisco', 'Brooklyn', 'Denver']\n"
     ]
    }
   ],
   "source": [
    "del cities[1]\n",
    "print(cities)"
   ]
  },
  {
   "cell_type": "markdown",
   "id": "bcd1b6a8",
   "metadata": {},
   "source": [
    "Or to remove an element by value, use the `.remove()` method."
   ]
  },
  {
   "cell_type": "code",
   "execution_count": 11,
   "id": "9433fa10",
   "metadata": {
    "tags": [
     "thebe-init"
    ]
   },
   "outputs": [
    {
     "name": "stdout",
     "output_type": "stream",
     "text": [
      "['Amsterdam', 'Berlin', 'Dublin', 'San Francisco', 'Brooklyn', 'Denver']\n"
     ]
    }
   ],
   "source": [
    "cities.remove(\"London\")\n",
    "print(cities)"
   ]
  },
  {
   "cell_type": "markdown",
   "id": "74c0f981",
   "metadata": {},
   "source": [
    "Values\n",
    "------\n",
    "\n",
    "The `list` type is {term}`heterogeneous`, which means it can contain arbitrary\n",
    "objects of any type. So far in this lesson our example list has contained all\n",
    "`str` objects.  But in fact, we can mix and match."
   ]
  },
  {
   "cell_type": "code",
   "execution_count": 12,
   "id": "5a56945a",
   "metadata": {},
   "outputs": [
    {
     "data": {
      "text/plain": [
       "[None, True, 'two', 3.0, 4]"
      ]
     },
     "execution_count": 12,
     "metadata": {},
     "output_type": "execute_result"
    }
   ],
   "source": [
    "[None, True, 'two', 3.0, 4]"
   ]
  },
  {
   "cell_type": "markdown",
   "id": "d0a7cf30",
   "metadata": {},
   "source": [
    "We can use {term}`multiple assignment` to easily assign assign all of the\n",
    "values in a list to a series of variables."
   ]
  },
  {
   "cell_type": "code",
   "execution_count": 13,
   "id": "69487399",
   "metadata": {},
   "outputs": [
    {
     "name": "stdout",
     "output_type": "stream",
     "text": [
      "Hitchhiker's Guide to the Galaxy (1979) by Douglas Adams: 5 stars\n"
     ]
    }
   ],
   "source": [
    "book = [5, \"Hitchhiker's Guide to the Galaxy\", \"Douglas Adams\", 1979]\n",
    "\n",
    "rating, title, author, year = book\n",
    "\n",
    "print(f\"{title} ({year}) by {author}: {rating} stars\")"
   ]
  },
  {
   "cell_type": "markdown",
   "id": "f54951b1",
   "metadata": {},
   "source": [
    "Lists can also contain other lists."
   ]
  },
  {
   "cell_type": "code",
   "execution_count": 14,
   "id": "4c916b6d",
   "metadata": {
    "tags": [
     "thebe-init"
    ]
   },
   "outputs": [],
   "source": [
    "meals = [\n",
    "  [\"omelet\", \"turkey wrap\", \"tacos\"],\n",
    "  [\"oatmeal\", \"turkey burger\", \"tamales\"],\n",
    "  [\"yogurt\", \"chicken salad\", \"enchiladas\"],\n",
    "]"
   ]
  },
  {
   "cell_type": "markdown",
   "id": "9ca3b5f8",
   "metadata": {},
   "source": [
    "You can access items in the nested lists by using multiple indexing operations."
   ]
  },
  {
   "cell_type": "code",
   "execution_count": 15,
   "id": "f6cb36d3",
   "metadata": {},
   "outputs": [
    {
     "name": "stdout",
     "output_type": "stream",
     "text": [
      "Dinner tonight is: tacos.\n",
      "Tomorrow for breakfast we're having: oatmeal.\n"
     ]
    }
   ],
   "source": [
    "print(f\"Dinner tonight is: {meals[0][2]}.\")\n",
    "print(f\"Tomorrow for breakfast we're having: {meals[1][0]}.\")"
   ]
  },
  {
   "cell_type": "markdown",
   "id": "f6b18a47",
   "metadata": {},
   "source": [
    "Iteration\n",
    "---------\n",
    "\n",
    "Iterate over each element using a `for` loop."
   ]
  },
  {
   "cell_type": "code",
   "execution_count": 16,
   "id": "24ad12d6",
   "metadata": {},
   "outputs": [
    {
     "name": "stdout",
     "output_type": "stream",
     "text": [
      "Amsterdam\n",
      "Berlin\n",
      "Dublin\n",
      "San Francisco\n",
      "Brooklyn\n",
      "Denver\n"
     ]
    }
   ],
   "source": [
    "for item in cities:\n",
    "  print(item)"
   ]
  },
  {
   "cell_type": "markdown",
   "id": "1252d25a",
   "metadata": {},
   "source": [
    "To include the index number, use the `enumerate()` function."
   ]
  },
  {
   "cell_type": "code",
   "execution_count": 17,
   "id": "998a3bed",
   "metadata": {},
   "outputs": [
    {
     "name": "stdout",
     "output_type": "stream",
     "text": [
      "0 Amsterdam\n",
      "1 Berlin\n",
      "2 Dublin\n",
      "3 San Francisco\n",
      "4 Brooklyn\n",
      "5 Denver\n"
     ]
    }
   ],
   "source": [
    "for i, item in enumerate(cities):\n",
    "  print(i, item)"
   ]
  },
  {
   "cell_type": "markdown",
   "id": "f322ca95",
   "metadata": {},
   "source": [
    "To iterate over a nested list, you'll need nested for loops. The `VAR` in the\n",
    "first loop will point to the child list; the nested `VAR` will point to the\n",
    "child list elements."
   ]
  },
  {
   "cell_type": "code",
   "execution_count": 18,
   "id": "5fd2e6e6",
   "metadata": {},
   "outputs": [
    {
     "name": "stdout",
     "output_type": "stream",
     "text": [
      " 1   2   3   4  \n",
      " 2   4   6   8  \n",
      " 3   6   9  12  \n",
      " 4   8  12  16  \n"
     ]
    }
   ],
   "source": [
    "table = [\n",
    "  [1, 2, 3, 4],\n",
    "  [2, 4, 6, 8],\n",
    "  [3, 6, 9, 12],\n",
    "  [4, 8, 12, 16],\n",
    "]\n",
    "\n",
    "# iterate over the table list and assign each child list to row\n",
    "for row in table:\n",
    "\n",
    "   # iterate over the child list and assign each element to product\n",
    "   for product in row:\n",
    "\n",
    "       # print the number, right aligned, followed by two spaces\n",
    "       print(str(product).rjust(2), end=\"  \")\n",
    "\n",
    "   # print a new line at the end of every row\n",
    "   print()"
   ]
  },
  {
   "cell_type": "markdown",
   "id": "67b740c9",
   "metadata": {},
   "source": [
    "If you are certain to have the same number of items in every row, you can use\n",
    "multiple assignment in the for loop `VAR`."
   ]
  },
  {
   "cell_type": "code",
   "execution_count": 19,
   "id": "66834343",
   "metadata": {},
   "outputs": [
    {
     "name": "stdout",
     "output_type": "stream",
     "text": [
      "Breakfast: omelet\n",
      "Lunch: turkey wrap\n",
      "Dinner: tacos\n",
      "\n",
      "Breakfast: oatmeal\n",
      "Lunch: turkey burger\n",
      "Dinner: tamales\n",
      "\n",
      "Breakfast: yogurt\n",
      "Lunch: chicken salad\n",
      "Dinner: enchiladas\n",
      "\n"
     ]
    }
   ],
   "source": [
    "for breakfast, lunch, dinner in meals:\n",
    "   print(f\"Breakfast: {breakfast}\")\n",
    "   print(f\"Lunch: {lunch}\")\n",
    "   print(f\"Dinner: {dinner}\")\n",
    "   print()"
   ]
  },
  {
   "cell_type": "markdown",
   "id": "ee647d6a",
   "metadata": {},
   "source": [
    "You can even combine this technique with `enumerate()` elements by enclosing\n",
    "the child element variable names in `(` `)`."
   ]
  },
  {
   "cell_type": "code",
   "execution_count": 20,
   "id": "14640f08",
   "metadata": {},
   "outputs": [
    {
     "name": "stdout",
     "output_type": "stream",
     "text": [
      "### Today\n",
      "\n",
      "Breakfast: omelet\n",
      "Lunch: turkey wrap\n",
      "Dinner: tacos\n",
      "\n",
      "### Tomorrow\n",
      "\n",
      "Breakfast: oatmeal\n",
      "Lunch: turkey burger\n",
      "Dinner: tamales\n",
      "\n",
      "### In 2 days\n",
      "\n",
      "Breakfast: yogurt\n",
      "Lunch: chicken salad\n",
      "Dinner: enchiladas\n",
      "\n"
     ]
    }
   ],
   "source": [
    "for i, (breakfast, lunch, dinner) in enumerate(meals):\n",
    "   if i == 0:\n",
    "       day = \"Today\"\n",
    "   elif i == 1:\n",
    "       day = \"Tomorrow\"\n",
    "   else:\n",
    "       day = f\"In {i} days\"\n",
    "\n",
    "   print(f\"### {day}\\n\")\n",
    "   print(f\"Breakfast: {breakfast}\")\n",
    "   print(f\"Lunch: {lunch}\")\n",
    "   print(f\"Dinner: {dinner}\")\n",
    "   print()"
   ]
  },
  {
   "cell_type": "markdown",
   "id": "22fb1bf7",
   "metadata": {},
   "source": [
    "Slices\n",
    "------\n",
    "\n",
    "You often want to extract part of a list. This could be accomplished using a\n",
    "`for` loop, for example:"
   ]
  },
  {
   "cell_type": "code",
   "execution_count": 21,
   "id": "90ae4e87",
   "metadata": {},
   "outputs": [
    {
     "name": "stdout",
     "output_type": "stream",
     "text": [
      "['Dublin', 'San Francisco', 'Brooklyn']\n"
     ]
    }
   ],
   "source": [
    "partial, start, stop = [], 2, 5\n",
    "\n",
    "for i, item in enumerate(cities):\n",
    "  if i >= start and i < stop:\n",
    "    partial.append(item)\n",
    "\n",
    "print(partial)"
   ]
  },
  {
   "cell_type": "markdown",
   "id": "97f8918e",
   "metadata": {},
   "source": [
    "Python provides handy dandy slice functionality, which is also supported by\n",
    "subscription.\n",
    "\n",
    "The syntax is: {samp}`{COLLECTION}[{START}:{STOP}]`\n",
    "\n",
    "Using this feature we can extract the same part of the list like so:"
   ]
  },
  {
   "cell_type": "code",
   "execution_count": 22,
   "id": "e3505368",
   "metadata": {},
   "outputs": [
    {
     "data": {
      "text/plain": [
       "['Dublin', 'San Francisco', 'Brooklyn']"
      ]
     },
     "execution_count": 22,
     "metadata": {},
     "output_type": "execute_result"
    }
   ],
   "source": [
    "cities[2:5]"
   ]
  },
  {
   "cell_type": "markdown",
   "id": "28dc54d6",
   "metadata": {},
   "source": [
    "A missing `STOP` value will default to the end of the list."
   ]
  },
  {
   "cell_type": "code",
   "execution_count": 23,
   "id": "02960e57",
   "metadata": {},
   "outputs": [
    {
     "data": {
      "text/plain": [
       "['Dublin', 'San Francisco', 'Brooklyn', 'Denver']"
      ]
     },
     "execution_count": 23,
     "metadata": {},
     "output_type": "execute_result"
    }
   ],
   "source": [
    "cities[2:]"
   ]
  },
  {
   "cell_type": "markdown",
   "id": "95570c10",
   "metadata": {},
   "source": [
    "A missing `START` value will default to the beginning of the list."
   ]
  },
  {
   "cell_type": "code",
   "execution_count": 24,
   "id": "d600c9d7",
   "metadata": {},
   "outputs": [
    {
     "data": {
      "text/plain": [
       "['Amsterdam', 'Berlin']"
      ]
     },
     "execution_count": 24,
     "metadata": {},
     "output_type": "execute_result"
    }
   ],
   "source": [
    "cities[:2]"
   ]
  },
  {
   "cell_type": "markdown",
   "id": "159686d5",
   "metadata": {},
   "source": [
    "If both are missing, the slice will be a copy of the whole list."
   ]
  },
  {
   "cell_type": "code",
   "execution_count": 25,
   "id": "82ff7a90",
   "metadata": {},
   "outputs": [
    {
     "data": {
      "text/plain": [
       "['Amsterdam', 'Berlin', 'Dublin', 'San Francisco', 'Brooklyn', 'Denver']"
      ]
     },
     "execution_count": 25,
     "metadata": {},
     "output_type": "execute_result"
    }
   ],
   "source": [
    "cities[:]"
   ]
  },
  {
   "cell_type": "markdown",
   "id": "23caf3e0",
   "metadata": {},
   "source": [
    "Membership\n",
    "----------\n",
    "\n",
    "Check if list contains value using the `in` operator:"
   ]
  },
  {
   "cell_type": "code",
   "execution_count": 26,
   "id": "beafd058",
   "metadata": {},
   "outputs": [
    {
     "data": {
      "text/plain": [
       "False"
      ]
     },
     "execution_count": 26,
     "metadata": {},
     "output_type": "execute_result"
    }
   ],
   "source": [
    "\"London\" in cities"
   ]
  },
  {
   "cell_type": "markdown",
   "id": "25dfeaf2",
   "metadata": {},
   "source": [
    "Check if list does not contains value using the `not in` operator:"
   ]
  },
  {
   "cell_type": "code",
   "execution_count": 27,
   "id": "c7c33bec",
   "metadata": {},
   "outputs": [
    {
     "data": {
      "text/plain": [
       "True"
      ]
     },
     "execution_count": 27,
     "metadata": {},
     "output_type": "execute_result"
    }
   ],
   "source": [
    "\"London\" not in cities"
   ]
  },
  {
   "cell_type": "markdown",
   "id": "c18382b2",
   "metadata": {},
   "source": [
    "To look up the index number of a particular value, use the `.index()` method.\n",
    "\n",
    "Get the first index number of value:"
   ]
  },
  {
   "cell_type": "code",
   "execution_count": 28,
   "id": "12679515",
   "metadata": {},
   "outputs": [
    {
     "data": {
      "text/plain": [
       "2"
      ]
     },
     "execution_count": 28,
     "metadata": {},
     "output_type": "execute_result"
    }
   ],
   "source": [
    "cities.index(\"Dublin\")"
   ]
  },
  {
   "cell_type": "markdown",
   "id": "b6c6206a",
   "metadata": {},
   "source": [
    "Sorting\n",
    "-------\n",
    "\n",
    "There are two ways to sort a list\n",
    "\n",
    "* {samp}`sorted({list})` -- returns a new sorted list\n",
    "* {samp}`{list}.sort()` -- sorts the list in place\n",
    "\n",
    "To demonstrate this, we'll use the `FRUIT` list."
   ]
  },
  {
   "cell_type": "code",
   "execution_count": 29,
   "id": "3b3620a9",
   "metadata": {
    "tags": [
     "thebe-init"
    ]
   },
   "outputs": [],
   "source": [
    "# define global FRUIT list\n",
    "FRUIT = [\"cherry\", \"apple\", \"date\", \"bananna\", \"elderberry\"]"
   ]
  },
  {
   "cell_type": "markdown",
   "id": "20d2f37f",
   "metadata": {},
   "source": [
    "We'll make copies and sort using both methods side by side."
   ]
  },
  {
   "cell_type": "code",
   "execution_count": 30,
   "id": "7c106419",
   "metadata": {
    "tags": [
     "thebe-init",
     "remove-input"
    ]
   },
   "outputs": [],
   "source": [
    "# set global to FRUIT list for pprint\n",
    "GLOBAL = FRUIT"
   ]
  },
  {
   "cell_type": "markdown",
   "id": "7c0b86c3",
   "metadata": {},
   "source": [
    "{{ leftcol }}\n",
    "\n",
    "```{rubric} Returned sorting\n",
    "```"
   ]
  },
  {
   "cell_type": "code",
   "execution_count": 31,
   "id": "54cec531",
   "metadata": {
    "tags": [
     "thebe-init"
    ]
   },
   "outputs": [
    {
     "name": "stdout",
     "output_type": "stream",
     "text": [
      "['cherry',\n",
      " 'apple',\n",
      " 'date',\n",
      " 'bananna',\n",
      " 'elderberry']\n"
     ]
    }
   ],
   "source": [
    "# make a fresh copy of FRUIT\n",
    "fruit = FRUIT[:]\n",
    "pprint(fruit)"
   ]
  },
  {
   "cell_type": "code",
   "execution_count": 32,
   "id": "51556dee",
   "metadata": {
    "tags": [
     "thebe-init"
    ]
   },
   "outputs": [
    {
     "name": "stdout",
     "output_type": "stream",
     "text": [
      "['apple',\n",
      " 'bananna',\n",
      " 'cherry',\n",
      " 'date',\n",
      " 'elderberry']\n"
     ]
    }
   ],
   "source": [
    "# sorted() returns a new list\n",
    "result = sorted(fruit)\n",
    "pprint(result)"
   ]
  },
  {
   "cell_type": "code",
   "execution_count": 33,
   "id": "36524fd8",
   "metadata": {},
   "outputs": [
    {
     "name": "stdout",
     "output_type": "stream",
     "text": [
      "['cherry',\n",
      " 'apple',\n",
      " 'date',\n",
      " 'bananna',\n",
      " 'elderberry']\n"
     ]
    }
   ],
   "source": [
    "# and leaves fruit alone\n",
    "pprint(fruit)"
   ]
  },
  {
   "cell_type": "markdown",
   "id": "42e125b1",
   "metadata": {},
   "source": [
    "{{ rightcol }}\n",
    "\n",
    "```{rubric} In-place sorting\n",
    "```"
   ]
  },
  {
   "cell_type": "code",
   "execution_count": 34,
   "id": "4098adfa",
   "metadata": {
    "tags": [
     "thebe-init"
    ]
   },
   "outputs": [
    {
     "name": "stdout",
     "output_type": "stream",
     "text": [
      "['cherry',\n",
      " 'apple',\n",
      " 'date',\n",
      " 'bananna',\n",
      " 'elderberry']\n"
     ]
    }
   ],
   "source": [
    "# make a fresh copy of FRUIT\n",
    "fruit = FRUIT[:]\n",
    "pprint(fruit)"
   ]
  },
  {
   "cell_type": "code",
   "execution_count": 35,
   "id": "85a9c85d",
   "metadata": {
    "tags": [
     "thebe-init"
    ]
   },
   "outputs": [
    {
     "name": "stdout",
     "output_type": "stream",
     "text": [
      "-\n",
      "\n",
      "\n",
      "\n",
      "None\n"
     ]
    }
   ],
   "source": [
    "# .sort() returns None\n",
    "result = fruit.sort()\n",
    "pprint(result)"
   ]
  },
  {
   "cell_type": "code",
   "execution_count": 36,
   "id": "ec36d79d",
   "metadata": {},
   "outputs": [
    {
     "name": "stdout",
     "output_type": "stream",
     "text": [
      "['apple',\n",
      " 'bananna',\n",
      " 'cherry',\n",
      " 'date',\n",
      " 'elderberry']\n"
     ]
    }
   ],
   "source": [
    "# but fruit was modified in place\n",
    "pprint(fruit)"
   ]
  },
  {
   "cell_type": "markdown",
   "id": "3f5c6a44",
   "metadata": {},
   "source": [
    "{{ endcols }}\n",
    "\n",
    "Exercises\n",
    "---------\n",
    "\n",
    "`````{exercise} Appointment Maker\n",
    ":label: appointment-exercise\n",
    "\n",
    "This exercise is to find the overlapping days that two people are available.\n",
    "\n",
    "1. Make two lists `my_days` and `your_days`, which each contain a list of\n",
    "   weekday names that each hypothetical person is available.\n",
    "2. Make an empty list `shared_days`.\n",
    "3. Add items to the `shared_days` list that are in both the `my_days` and\n",
    "   `your_days` lists.\n",
    "   ```{dropdown} Need a hint?\n",
    "   Iterate over one of the lists, then use the `in` operator to check if that\n",
    "   day is in the other list. If it is, then use the `.append()` method to add\n",
    "   that day to `shared_days`.\n",
    "   ```\n",
    "4. If there are no items in `shared_days` print a message saying that there are\n",
    "   no shared days available.\n",
    "5. Otherwise, print a message that the following days will work, then print\n",
    "   each day on a new line.\n",
    "6. Bonus: Make a function called `find_shared_days()` that takes `my_days` and\n",
    "   `your_days` as arguments and returns `shared_days`.\n",
    "\n",
    "Example output:\n",
    "```text\n",
    "The following days will work:\n",
    "* Monday\n",
    "* Thursday\n",
    "```\n",
    "\n",
    "Or:\n",
    "```text\n",
    "No shared days available, sadface.\n",
    "```\n",
    "\n",
    "`````\n",
    "\n",
    "`````{solution} appointment-exercise\n",
    ":class: dropdown\n",
    "\n",
    "```{code-block} python\n",
    ":caption: Appointment Maker Exercise\n",
    ":class: full-width\n",
    ":linenos:\n",
    "\n",
    "my_days = [\"monday\", \"tuesday\", \"friday\"]\n",
    "your_days = [\"monday\", \"wednesday\", \"thursday\"]\n",
    "shared_days = []\n",
    "\n",
    "for day in my_days:\n",
    "    if day in your_days:\n",
    "        shared_days.append(day)\n",
    "\n",
    "if not shared_days:\n",
    "    print(\"No shared days available, sadface.\")\n",
    "else:\n",
    "    print(\"The following days will work:\")\n",
    "    for day in shared_days:\n",
    "        print(\"*\", day.title())\n",
    "`````\n",
    "\n",
    "Reference\n",
    "---------\n",
    "\n",
    "```{glossary} lists\n",
    "\n",
    "heterogeneous\n",
    "  Elements in the collection may be of any type.\n",
    "\n",
    "homogeneous\n",
    "  All elements in the collection are of the same type.\n",
    "\n",
    "```\n",
    "\n",
    "```{seealso}\n",
    "\n",
    "* [Lists Reference](../../reference/lists.md)\n",
    "\n",
    "```\n",
    "\n",
    "----\n",
    "\n",
    "% TODO\n",
    "% - [x] nesting\n",
    "% - [ ] copying\n",
    "% - [ ] exercises\n",
    "% - [ ] glossary terms\n",
    "% - [x] multiple assignment"
   ]
  }
 ],
 "metadata": {
  "jupytext": {
   "formats": "md:myst",
   "text_representation": {
    "extension": ".md",
    "format_name": "myst"
   }
  },
  "kernelspec": {
   "display_name": "Python 3",
   "language": "python",
   "name": "python3"
  },
  "language_info": {
   "codemirror_mode": {
    "name": "ipython",
    "version": 3
   },
   "file_extension": ".py",
   "mimetype": "text/x-python",
   "name": "python",
   "nbconvert_exporter": "python",
   "pygments_lexer": "ipython3",
   "version": "3.8.11"
  },
  "source_map": [
   11,
   43,
   55,
   65,
   70,
   74,
   109,
   111,
   118,
   120,
   124,
   127,
   133,
   137,
   141,
   145,
   150,
   154,
   160,
   164,
   168,
   172,
   181,
   183,
   188,
   194,
   198,
   205,
   209,
   212,
   219,
   222,
   226,
   229,
   235,
   254,
   259,
   265,
   271,
   285,
   293,
   301,
   310,
   312,
   316,
   318,
   322,
   324,
   328,
   330,
   337,
   339,
   343,
   345,
   351,
   353,
   365,
   369,
   372,
   376,
   383,
   390,
   397,
   400,
   407,
   414,
   421,
   424
  ]
 },
 "nbformat": 4,
 "nbformat_minor": 5
}