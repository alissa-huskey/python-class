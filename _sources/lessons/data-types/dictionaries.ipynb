{
 "cells": [
  {
   "cell_type": "markdown",
   "id": "73493335",
   "metadata": {},
   "source": [
    "Dictionaries\n",
    "============\n",
    "\n",
    "{{ leftcol | replace(\"col\", \"col-8\")  }}\n",
    "\n",
    "A collection of *key: value* pairs.\n",
    "\n",
    "```{contents} Table of Contents\n",
    ":backlinks: top\n",
    ":local:\n",
    "```\n",
    "\n",
    "{{ rightcol | replace(\"col\", \"col-4 text-right\") }}\n",
    "\n",
    ":::{fieldlist}\n",
    "\n",
    ":Type:        `dict`\n",
    ":Synatx:      {samp}`\\{{item},...\\}`\n",
    ":Bases:       Mapping\n",
    ":State:       Mutable\n",
    ":Position:    Ordered\n",
    ":Composition: Heterogeneous\n",
    ":Diversity:   Repeatable\n",
    ":Access:      Subscriptable\n",
    ":Value:       Not hashable\n",
    "\n",
    ":::\n",
    "\n",
    "{{ endcols }}\n",
    "\n",
    "Basics\n",
    "------\n",
    "\n",
    "A dictionary is a collection of key value pairs. Each key is connected to a\n",
    "value, which makes them a handy way to look up a particular value.\n",
    "\n",
    "### Creating\n",
    "\n",
    "To create a dictionary, enclose comma-seperated key value pairs in curly braces\n",
    "`{` `}` with a `:` between each key and value."
   ]
  },
  {
   "cell_type": "code",
   "execution_count": 1,
   "id": "3d379295",
   "metadata": {
    "class": "full-width",
    "tags": [
     "thebe-init"
    ]
   },
   "outputs": [],
   "source": [
    "book = {\n",
    "  \"title\": \"Last Chance to See\",\n",
    "  \"author\": \"Douglas Adams\",\n",
    "  \"year\": 1990,\n",
    "}"
   ]
  },
  {
   "cell_type": "markdown",
   "id": "69aae6a8",
   "metadata": {},
   "source": [
    "### Accessing\n",
    "\n",
    "Items are accessed via {term}`subscription`, using `[` `]` after the object to\n",
    "enclose the key."
   ]
  },
  {
   "cell_type": "code",
   "execution_count": 2,
   "id": "20da9860",
   "metadata": {
    "class": "full-width"
   },
   "outputs": [
    {
     "name": "stdout",
     "output_type": "stream",
     "text": [
      "Title: Last Chance to See\n",
      "Author: Douglas Adams\n",
      "Published: 1990\n"
     ]
    }
   ],
   "source": [
    "print(\"Title:\", book[\"title\"])\n",
    "print(\"Author:\", book[\"author\"])\n",
    "print(\"Published:\", book[\"year\"])"
   ]
  },
  {
   "cell_type": "markdown",
   "id": "a5a22bc8",
   "metadata": {},
   "source": [
    "If you try to access a key that does not exist, you will encounter a\n",
    "`KeyError`."
   ]
  },
  {
   "cell_type": "code",
   "execution_count": 3,
   "id": "9bdad8f0",
   "metadata": {
    "class": "full-width",
    "tags": [
     "raises-exception"
    ]
   },
   "outputs": [
    {
     "ename": "KeyError",
     "evalue": "'series'",
     "output_type": "error",
     "traceback": [
      "\u001b[0;31m---------------------------------------------------------------------------\u001b[0m",
      "\u001b[0;31mKeyError\u001b[0m                                  Traceback (most recent call last)",
      "\u001b[0;32m/tmp/ipykernel_1680/1856190195.py\u001b[0m in \u001b[0;36m<module>\u001b[0;34m\u001b[0m\n\u001b[0;32m----> 1\u001b[0;31m \u001b[0mprint\u001b[0m\u001b[0;34m(\u001b[0m\u001b[0;34m\"Series:\"\u001b[0m\u001b[0;34m,\u001b[0m \u001b[0mbook\u001b[0m\u001b[0;34m[\u001b[0m\u001b[0;34m\"series\"\u001b[0m\u001b[0;34m]\u001b[0m\u001b[0;34m)\u001b[0m\u001b[0;34m\u001b[0m\u001b[0;34m\u001b[0m\u001b[0m\n\u001b[0m",
      "\u001b[0;31mKeyError\u001b[0m: 'series'"
     ]
    }
   ],
   "source": [
    "print(\"Series:\", book[\"series\"])"
   ]
  },
  {
   "cell_type": "markdown",
   "id": "1e1a9f75",
   "metadata": {},
   "source": [
    "However, you can avoid this using the `.get()` method, which two arguments: the\n",
    "key, and an optional default value."
   ]
  },
  {
   "cell_type": "code",
   "execution_count": 4,
   "id": "c8d1d69a",
   "metadata": {
    "class": "full-width",
    "tags": [
     "raises-exception"
    ]
   },
   "outputs": [
    {
     "name": "stdout",
     "output_type": "stream",
     "text": [
      "Series: NA\n"
     ]
    }
   ],
   "source": [
    "series = book.get(\"series\", \"NA\")\n",
    "print(\"Series:\", series)"
   ]
  },
  {
   "cell_type": "markdown",
   "id": "cf1b2a0f",
   "metadata": {},
   "source": [
    "### Modifying\n",
    "\n",
    "Adding or changing elements in the list is done the same way, also using subscription."
   ]
  },
  {
   "cell_type": "code",
   "execution_count": 5,
   "id": "64553676",
   "metadata": {
    "class": "full-width",
    "tags": [
     "thebe-init"
    ]
   },
   "outputs": [
    {
     "name": "stdout",
     "output_type": "stream",
     "text": [
      "{'author': 'Douglas Adams, Mark Carwardine',\n",
      " 'genre': 'Nonfiction',\n",
      " 'title': 'Last Chance to See',\n",
      " 'year': 1990}\n"
     ]
    }
   ],
   "source": [
    "from pprint import pprint\n",
    "\n",
    "book[\"genre\"] = \"Nonfiction\"\n",
    "book[\"author\"] = \"Douglas Adams, Mark Carwardine\"\n",
    "\n",
    "pprint(book)"
   ]
  },
  {
   "cell_type": "markdown",
   "id": "78d3d134",
   "metadata": {},
   "source": [
    "You can also change multiple elements at once using the `.update()`\n",
    "method, which takes one argument, a dictionary. Any keys already present in the\n",
    "original dictionary will be changed, and any not in the original dictionary\n",
    "will be added. The remaining elements will be left as they are."
   ]
  },
  {
   "cell_type": "code",
   "execution_count": 6,
   "id": "4fdad9c2",
   "metadata": {
    "class": "full-width",
    "tags": [
     "thebe-init"
    ]
   },
   "outputs": [
    {
     "name": "stdout",
     "output_type": "stream",
     "text": [
      "{'author': 'Douglas Adams, Mark Carwardine',\n",
      " 'genre': 'Science',\n",
      " 'isbn': '0345371984',\n",
      " 'pages': 256,\n",
      " 'title': 'Last Chance to See',\n",
      " 'year': 1990}\n"
     ]
    }
   ],
   "source": [
    "book.update({\"isbn\": \"0345371984\", \"genre\": \"Science\", \"pages\": 256})\n",
    "\n",
    "pprint(book)"
   ]
  },
  {
   "cell_type": "markdown",
   "id": "2580e5da",
   "metadata": {},
   "source": [
    "### Removing\n",
    "\n",
    "To remove elements you can use the `del` keyword."
   ]
  },
  {
   "cell_type": "code",
   "execution_count": 7,
   "id": "16f6ea07",
   "metadata": {
    "class": "full-width",
    "tags": [
     "thebe-init"
    ]
   },
   "outputs": [
    {
     "name": "stdout",
     "output_type": "stream",
     "text": [
      "{'author': 'Douglas Adams, Mark Carwardine',\n",
      " 'genre': 'Science',\n",
      " 'isbn': '0345371984',\n",
      " 'title': 'Last Chance to See',\n",
      " 'year': 1990}\n"
     ]
    }
   ],
   "source": [
    "del book[\"pages\"]\n",
    "\n",
    "pprint(book)"
   ]
  },
  {
   "cell_type": "markdown",
   "id": "c6d122b5",
   "metadata": {},
   "source": [
    "You can also use the `.pop()` method, which returns the deleted element. It has\n",
    "the added benefit that you can pass it a default value to avoid a `KeyError`\n",
    "exception."
   ]
  },
  {
   "cell_type": "code",
   "execution_count": 8,
   "id": "a67e3cf7",
   "metadata": {
    "class": "full-width",
    "tags": [
     "thebe-init"
    ]
   },
   "outputs": [
    {
     "name": "stdout",
     "output_type": "stream",
     "text": [
      "{'author': 'Douglas Adams, Mark Carwardine',\n",
      " 'genre': 'Science',\n",
      " 'isbn': '0345371984',\n",
      " 'title': 'Last Chance to See',\n",
      " 'year': 1990}\n"
     ]
    }
   ],
   "source": [
    "format = book.pop(\"format\", \"Unknown\")\n",
    "pprint(book)"
   ]
  },
  {
   "cell_type": "markdown",
   "id": "e30fde30",
   "metadata": {},
   "source": [
    "### Exercise\n",
    "\n",
    "`````{exercise} Word calculator\n",
    ":label: word-calculator-exercise\n",
    "\n",
    "Make a dictionary of numbers where the keyword is a word (like `\"one\"`) and the\n",
    "value is an integer (like `1`). Assign it to the variable `numbers`.\n",
    "\n",
    "Write an `add()` function that takes two string arguments, adds together the\n",
    "value in the `numbers` dictionary associated with those keys, and returns the\n",
    "result.\n",
    "\n",
    "**Example Usage**\n",
    "\n",
    "``` python\n",
    ">>> add(\"one\", \"three\")\n",
    "4\n",
    "```\n",
    "\n",
    "**Solution template**\n",
    "\n",
    "```python\n",
    "def add(a, b):\n",
    "  \"\"\"Add the value of two number strings.\n",
    "\n",
    "  >>> add(\"one\", \"three\")\n",
    "  4\n",
    "  \"\"\"\n",
    "```\n",
    "\n",
    "\n",
    "`````\n",
    "\n",
    "`````{solution} word-calculator-exercise\n",
    ":class: dropdown\n",
    "\n",
    "```{code-block} python\n",
    ":caption: Name Exercise\n",
    ":class: full-width\n",
    ":linenos:\n",
    "\n",
    "numbers = {\n",
    "  \"one\": 1,\n",
    "  \"two\": 2,\n",
    "  \"three\": 3,\n",
    "  \"four\": 4,\n",
    "  \"five\": 5,\n",
    "  \"six\": 6,\n",
    "  \"seven\": 7,\n",
    "  \"eight\": 8,\n",
    "  \"nine\": 9,\n",
    "  \"ten\": 10,\n",
    "}\n",
    "\n",
    "def add(a, b):\n",
    "  \"\"\"Add the value of two number strings.\n",
    "\n",
    "  >>> add(\"one\", \"three\")\n",
    "  4\n",
    "  \"\"\"\n",
    "  return numbers[a] + numbers[b]\n",
    "`````\n",
    "\n",
    "\n",
    "% TODO\n",
    "% [ ] ordered version 3.7+\n",
    "% [ ] values that can be used as keys\n",
    "% [ ] no duplicate keys, but duplicate values\n",
    "% [x] creating\n",
    "% [x] accessing\n",
    "%     [x] with key\n",
    "%     [x] get\n",
    "% [x] removing\n",
    "%     [x] pop\n",
    "%     [x] del\n",
    "% [ ] values\n",
    "% [ ] iteration\n",
    "% [ ] membership\n",
    "%     [ ] keys\n",
    "%     [ ] values\n",
    "% [ ] exercise"
   ]
  }
 ],
 "metadata": {
  "jupytext": {
   "formats": "md:myst",
   "text_representation": {
    "extension": ".md",
    "format_name": "myst"
   }
  },
  "kernelspec": {
   "display_name": "Python 3",
   "language": "python",
   "name": "python3"
  },
  "language_info": {
   "codemirror_mode": {
    "name": "ipython",
    "version": 3
   },
   "file_extension": ".py",
   "mimetype": "text/x-python",
   "name": "python",
   "nbconvert_exporter": "python",
   "pygments_lexer": "ipython3",
   "version": "3.8.11"
  },
  "source_map": [
   11,
   54,
   63,
   70,
   75,
   80,
   85,
   90,
   96,
   102,
   112,
   119,
   126,
   132,
   139,
   145,
   151
  ]
 },
 "nbformat": 4,
 "nbformat_minor": 5
}