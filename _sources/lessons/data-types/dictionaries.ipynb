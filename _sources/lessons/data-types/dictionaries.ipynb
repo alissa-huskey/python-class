{
 "cells": [
  {
   "cell_type": "markdown",
   "id": "d8c4f240",
   "metadata": {},
   "source": [
    "Dictionaries\n",
    "============\n",
    "\n",
    "{{ leftcol | replace(\"col\", \"col-8\")  }}\n",
    "\n",
    "A collection of *key: value* pairs.\n",
    "\n",
    "```{contents} Table of Contents\n",
    ":backlinks: top\n",
    ":local:\n",
    "```\n",
    "\n",
    "{{ rightcol | replace(\"col\", \"col-4 text-right\") }}\n",
    "\n",
    ":::{fieldlist}\n",
    "\n",
    ":Type:        `dict`\n",
    ":Synatx:      {samp}`\\{{item},...\\}`\n",
    ":Bases:       Mapping\n",
    ":State:       Mutable\n",
    ":Position:    Ordered\n",
    ":Composition: Heterogeneous\n",
    ":Diversity:   Repeatable\n",
    ":Access:      Subscriptable\n",
    ":Value:       Not hashable\n",
    "\n",
    ":::\n",
    "\n",
    "{{ endcols }}\n",
    "\n",
    "Basics\n",
    "------\n",
    "\n",
    "A dictionary is a collection of key value pairs. Each key is connected to a\n",
    "value, which makes them a handy way to look up a particular value.\n",
    "\n",
    "### Creating\n",
    "\n",
    "To create a dictionary, enclose comma-seperated key value pairs in curly braces\n",
    "`{` `}` with a `:` between each key and value."
   ]
  },
  {
   "cell_type": "code",
   "execution_count": 1,
   "id": "784ff205",
   "metadata": {
    "class": "full-width",
    "tags": [
     "thebe-init"
    ]
   },
   "outputs": [],
   "source": [
    "book = {\n",
    "  \"title\": \"Last Chance to See\",\n",
    "  \"author\": \"Douglas Adams\",\n",
    "  \"year\": 1990,\n",
    "}"
   ]
  },
  {
   "cell_type": "markdown",
   "id": "dbd34783",
   "metadata": {},
   "source": [
    "### Accessing\n",
    "\n",
    "Items are accessed via {term}`subscription`, using `[` `]` after the object to\n",
    "enclose the key."
   ]
  },
  {
   "cell_type": "code",
   "execution_count": 2,
   "id": "233c7d1a",
   "metadata": {
    "class": "full-width"
   },
   "outputs": [
    {
     "name": "stdout",
     "output_type": "stream",
     "text": [
      "Title: Last Chance to See\n",
      "Author: Douglas Adams\n",
      "Published: 1990\n"
     ]
    }
   ],
   "source": [
    "print(\"Title:\", book[\"title\"])\n",
    "print(\"Author:\", book[\"author\"])\n",
    "print(\"Published:\", book[\"year\"])"
   ]
  },
  {
   "cell_type": "markdown",
   "id": "733960bc",
   "metadata": {},
   "source": [
    "If you try to access a key that does not exist, you will encounter a\n",
    "`KeyError`."
   ]
  },
  {
   "cell_type": "code",
   "execution_count": 3,
   "id": "e4d3c6a9",
   "metadata": {
    "class": "full-width",
    "tags": [
     "raises-exception"
    ]
   },
   "outputs": [
    {
     "ename": "KeyError",
     "evalue": "'series'",
     "output_type": "error",
     "traceback": [
      "\u001b[0;31m---------------------------------------------------------------------------\u001b[0m",
      "\u001b[0;31mKeyError\u001b[0m                                  Traceback (most recent call last)",
      "\u001b[0;32m/tmp/ipykernel_1812/1856190195.py\u001b[0m in \u001b[0;36m<module>\u001b[0;34m\u001b[0m\n\u001b[0;32m----> 1\u001b[0;31m \u001b[0mprint\u001b[0m\u001b[0;34m(\u001b[0m\u001b[0;34m\"Series:\"\u001b[0m\u001b[0;34m,\u001b[0m \u001b[0mbook\u001b[0m\u001b[0;34m[\u001b[0m\u001b[0;34m\"series\"\u001b[0m\u001b[0;34m]\u001b[0m\u001b[0;34m)\u001b[0m\u001b[0;34m\u001b[0m\u001b[0;34m\u001b[0m\u001b[0m\n\u001b[0m",
      "\u001b[0;31mKeyError\u001b[0m: 'series'"
     ]
    }
   ],
   "source": [
    "print(\"Series:\", book[\"series\"])"
   ]
  },
  {
   "cell_type": "markdown",
   "id": "d10a3c5f",
   "metadata": {},
   "source": [
    "However, you can avoid this using the `.get()` method, which takes two\n",
    "arguments: the key, and an optional default value."
   ]
  },
  {
   "cell_type": "code",
   "execution_count": 4,
   "id": "dbc8201f",
   "metadata": {
    "class": "full-width",
    "tags": [
     "raises-exception"
    ]
   },
   "outputs": [
    {
     "name": "stdout",
     "output_type": "stream",
     "text": [
      "Series: NA\n"
     ]
    }
   ],
   "source": [
    "series = book.get(\"series\", \"NA\")\n",
    "print(\"Series:\", series)"
   ]
  },
  {
   "cell_type": "markdown",
   "id": "196e7014",
   "metadata": {},
   "source": [
    "### Modifying\n",
    "\n",
    "Adding or changing elements in the list is done the same way, also using subscription."
   ]
  },
  {
   "cell_type": "code",
   "execution_count": 5,
   "id": "c8030ea8",
   "metadata": {
    "class": "full-width",
    "tags": [
     "thebe-init"
    ]
   },
   "outputs": [
    {
     "name": "stdout",
     "output_type": "stream",
     "text": [
      "{'author': 'Douglas Adams, Mark Carwardine',\n",
      " 'genre': 'Nonfiction',\n",
      " 'title': 'Last Chance to See',\n",
      " 'year': 1990}\n"
     ]
    }
   ],
   "source": [
    "from pprint import pprint\n",
    "\n",
    "book[\"genre\"] = \"Nonfiction\"\n",
    "book[\"author\"] = \"Douglas Adams, Mark Carwardine\"\n",
    "\n",
    "pprint(book)"
   ]
  },
  {
   "cell_type": "markdown",
   "id": "41b4c29a",
   "metadata": {},
   "source": [
    "You can also change multiple elements at once using the `.update()`\n",
    "method, which takes one argument, a dictionary. Any keys already present in the\n",
    "original dictionary will be changed, and any not in the original dictionary\n",
    "will be added. The remaining elements will be left as they are."
   ]
  },
  {
   "cell_type": "code",
   "execution_count": 6,
   "id": "f7f0d196",
   "metadata": {
    "class": "full-width",
    "tags": [
     "thebe-init"
    ]
   },
   "outputs": [
    {
     "name": "stdout",
     "output_type": "stream",
     "text": [
      "{'author': 'Douglas Adams, Mark Carwardine',\n",
      " 'genre': 'Science',\n",
      " 'isbn': '0345371984',\n",
      " 'pages': 256,\n",
      " 'title': 'Last Chance to See',\n",
      " 'year': 1990}\n"
     ]
    }
   ],
   "source": [
    "book.update({\"isbn\": \"0345371984\", \"genre\": \"Science\", \"pages\": 256})\n",
    "\n",
    "pprint(book)"
   ]
  },
  {
   "cell_type": "markdown",
   "id": "a12bb86b",
   "metadata": {},
   "source": [
    "### Removing\n",
    "\n",
    "To remove elements you can use the `del` keyword."
   ]
  },
  {
   "cell_type": "code",
   "execution_count": 7,
   "id": "9bcd1163",
   "metadata": {
    "class": "full-width",
    "tags": [
     "thebe-init"
    ]
   },
   "outputs": [
    {
     "name": "stdout",
     "output_type": "stream",
     "text": [
      "{'author': 'Douglas Adams, Mark Carwardine',\n",
      " 'genre': 'Science',\n",
      " 'isbn': '0345371984',\n",
      " 'title': 'Last Chance to See',\n",
      " 'year': 1990}\n"
     ]
    }
   ],
   "source": [
    "del book[\"pages\"]\n",
    "\n",
    "pprint(book)"
   ]
  },
  {
   "cell_type": "markdown",
   "id": "73ed4bcc",
   "metadata": {},
   "source": [
    "You can also use the `.pop()` method, which returns the deleted element. It has\n",
    "the added benefit that you can pass it a default value to avoid a `KeyError`\n",
    "exception."
   ]
  },
  {
   "cell_type": "code",
   "execution_count": 8,
   "id": "0a40b438",
   "metadata": {
    "class": "full-width",
    "tags": [
     "thebe-init"
    ]
   },
   "outputs": [
    {
     "name": "stdout",
     "output_type": "stream",
     "text": [
      "{'author': 'Douglas Adams, Mark Carwardine',\n",
      " 'genre': 'Science',\n",
      " 'isbn': '0345371984',\n",
      " 'title': 'Last Chance to See',\n",
      " 'year': 1990}\n"
     ]
    }
   ],
   "source": [
    "format = book.pop(\"format\", \"Unknown\")\n",
    "pprint(book)"
   ]
  },
  {
   "cell_type": "markdown",
   "id": "aca554eb",
   "metadata": {},
   "source": [
    "### Exercises\n",
    "\n",
    "`````{exercise} Word calculator\n",
    ":label: word-calculator-exercise\n",
    "\n",
    "Make a dictionary of numbers where the keyword is a word (like `\"one\"`) and the\n",
    "value is an integer (like `1`). Assign it to the variable `numbers`.\n",
    "\n",
    "Write an `add()` function that takes two string arguments, adds together the\n",
    "value in the `numbers` dictionary associated with those keys, and returns the\n",
    "result.\n",
    "\n",
    "**Example Usage**\n",
    "\n",
    "``` python\n",
    ">>> add(\"one\", \"three\")\n",
    "4\n",
    "```\n",
    "\n",
    "**Solution template**\n",
    "\n",
    "```python\n",
    "def add(a, b):\n",
    "  \"\"\"Add the value of two number strings.\n",
    "\n",
    "  >>> add(\"one\", \"three\")\n",
    "  4\n",
    "  \"\"\"\n",
    "```\n",
    "\n",
    "`````\n",
    "\n",
    "`````{solution} word-calculator-exercise\n",
    ":class: dropdown\n",
    "\n",
    "```{code-block} python\n",
    ":caption: Word Calculator Exercise\n",
    ":class: full-width\n",
    ":linenos:\n",
    "\n",
    "numbers = {\n",
    "  \"one\": 1,\n",
    "  \"two\": 2,\n",
    "  \"three\": 3,\n",
    "  \"four\": 4,\n",
    "  \"five\": 5,\n",
    "  \"six\": 6,\n",
    "  \"seven\": 7,\n",
    "  \"eight\": 8,\n",
    "  \"nine\": 9,\n",
    "  \"ten\": 10,\n",
    "}\n",
    "\n",
    "def add(a, b):\n",
    "  \"\"\"Add the value of two number strings.\n",
    "\n",
    "  >>> add(\"one\", \"three\")\n",
    "  4\n",
    "  \"\"\"\n",
    "  return numbers[a] + numbers[b]\n",
    "`````\n",
    "\n",
    "`````{exercise} Scrabble Score\n",
    ":label: scrabble-score-exercise\n",
    "\n",
    "In this exercise you'll write a function that calculates the scrabble score for\n",
    "a list of letters.\n",
    "\n",
    "1. Make a dictionary assigned to the global variable `POINTS` where each key is\n",
    "   a letter with a value of the cooresponding point, as listed below.\n",
    "   | Points | Letters                         |\n",
    "   |--------|---------------------------------|\n",
    "   | 1      | A, E, I, L, N, O, R, S, T and U |\n",
    "   | 2      | D and G                         |\n",
    "   | 3      | B, C, M and P                   |\n",
    "   | 4      | F, H, V, W and Y                |\n",
    "2. Write a function `score()` that takes one argument, a string or list of\n",
    "   `letters`. Use the `POINTS` dictionary to look up the value of each letter and\n",
    "   add them together, then return the total.\n",
    "   ```{dropdown} Need a hint?\n",
    "   * set a variable `total` to `0`\n",
    "   * iterate over each letter in the list\n",
    "     - get the point value for each letter from the `POINTS` dictionary\n",
    "     - add it to `total`\n",
    "   * return `total`\n",
    "   ```\n",
    "\n",
    "**Example Usage**\n",
    "\n",
    "``` python\n",
    ">>> score(\"blank\")\n",
    "11\n",
    ">>> score([\"d\", \"i\", \"r\", \"t\"])\n",
    "5\n",
    "```\n",
    "\n",
    "**Solution template**\n",
    "\n",
    "```python\n",
    "def score(letters):\n",
    "    \"\"\"Return the scrabble score for a list of letters\n",
    "    >>> score(\"blank\")\n",
    "    11\n",
    "    >>> score(\"dirt\")\n",
    "    5\n",
    "    >>> score(\"fajita\")\n",
    "    16\n",
    "    \"\"\"\n",
    "```\n",
    "\n",
    "`````\n",
    "\n",
    "`````{solution} scrabble-score-exercise\n",
    ":class: dropdown\n",
    "\n",
    "```{literalinclude} ../../../pythonclass/exercises/scrabble.py\n",
    ":caption: Scrabble Score Exercise\n",
    ":class: full-width\n",
    ":linenos:\n",
    "\n",
    "`````\n",
    "\n",
    "Membership\n",
    "----------\n",
    "\n",
    "### Keys and values\n",
    "\n",
    "You can get a list of all of the keys in a dictionary using the `.keys()` method."
   ]
  },
  {
   "cell_type": "code",
   "execution_count": 9,
   "id": "0e1cf37a",
   "metadata": {
    "class": "full-width"
   },
   "outputs": [
    {
     "name": "stdout",
     "output_type": "stream",
     "text": [
      "dict_keys(['title', 'author', 'year', 'genre', 'isbn'])\n"
     ]
    }
   ],
   "source": [
    "print(book.keys())"
   ]
  },
  {
   "cell_type": "markdown",
   "id": "40b56368",
   "metadata": {},
   "source": [
    "Similarly, you can get a list of all of the values in a dictionary using the `.values()` method."
   ]
  },
  {
   "cell_type": "code",
   "execution_count": 10,
   "id": "af9c5951",
   "metadata": {
    "class": "full-width"
   },
   "outputs": [
    {
     "name": "stdout",
     "output_type": "stream",
     "text": [
      "dict_values(['Last Chance to See', 'Douglas Adams, Mark Carwardine', 1990, 'Science', '0345371984'])\n"
     ]
    }
   ],
   "source": [
    "print(book.values())"
   ]
  },
  {
   "cell_type": "markdown",
   "id": "e5b19b1d",
   "metadata": {},
   "source": [
    "Both of these are {term}`iterables` which can be converted to a `list`."
   ]
  },
  {
   "cell_type": "code",
   "execution_count": 11,
   "id": "0d85a08c",
   "metadata": {
    "class": "full-width"
   },
   "outputs": [
    {
     "name": "stdout",
     "output_type": "stream",
     "text": [
      "['title', 'author', 'year', 'genre', 'isbn']\n",
      "['Last Chance to See',\n",
      " 'Douglas Adams, Mark Carwardine',\n",
      " 1990,\n",
      " 'Science',\n",
      " '0345371984']\n"
     ]
    }
   ],
   "source": [
    "keys = list(book.keys())\n",
    "pprint(keys)\n",
    "\n",
    "values = list(book.values())\n",
    "pprint(values)"
   ]
  },
  {
   "cell_type": "markdown",
   "id": "5f83bd08",
   "metadata": {},
   "source": [
    "### Key types\n",
    "\n",
    "The `book` dictionary uses strings for keys, but you can actually use nearly\n",
    "any type as a key."
   ]
  },
  {
   "cell_type": "code",
   "execution_count": 12,
   "id": "7b2e6ca4",
   "metadata": {
    "class": "full-width"
   },
   "outputs": [
    {
     "name": "stdout",
     "output_type": "stream",
     "text": [
      "thirty\n"
     ]
    }
   ],
   "source": [
    "numbers = {\n",
    "  10: \"ten\",\n",
    "  20: \"twenty\",\n",
    "  30: \"thirty\",\n",
    "}\n",
    "\n",
    "print(numbers[30])"
   ]
  },
  {
   "cell_type": "markdown",
   "id": "07adaef3",
   "metadata": {},
   "source": [
    "You can mix and match the type of keys."
   ]
  },
  {
   "cell_type": "code",
   "execution_count": 13,
   "id": "1624d91a",
   "metadata": {
    "class": "full-width"
   },
   "outputs": [
    {
     "name": "stdout",
     "output_type": "stream",
     "text": [
      "half\n"
     ]
    }
   ],
   "source": [
    "numbers = {\n",
    "  10: \"ten\",\n",
    "  20: \"twenty\",\n",
    "  30: \"thirty\",\n",
    "  0.5: \"half\",\n",
    "  0.25: \"a quarter\",\n",
    "  0.125: \"one eighth\",\n",
    "}\n",
    "\n",
    "print(numbers[0.5])"
   ]
  },
  {
   "cell_type": "markdown",
   "id": "cbac1418",
   "metadata": {},
   "source": [
    "You can even use a `tuple` objects as keys."
   ]
  },
  {
   "cell_type": "code",
   "execution_count": 14,
   "id": "9df79eaa",
   "metadata": {
    "class": "full-width"
   },
   "outputs": [
    {
     "name": "stdout",
     "output_type": "stream",
     "text": [
      "half past eight\n"
     ]
    }
   ],
   "source": [
    "times = {\n",
    "  (12, 0): \"noon\",\n",
    "  (8, 30): \"half past eight\",\n",
    "  (24, 0): \"midnight\",\n",
    "  (9, 45): \"quarter to nine\",\n",
    "}\n",
    "\n",
    "print(times[(8, 30)])"
   ]
  },
  {
   "cell_type": "markdown",
   "id": "be58db3e",
   "metadata": {},
   "source": [
    "You just can't use {term}`mutable` objects as keys, like `dict` or `list` objects."
   ]
  },
  {
   "cell_type": "code",
   "execution_count": 15,
   "id": "40d7eca5",
   "metadata": {
    "class": "full-width",
    "tags": [
     "raises-exception"
    ]
   },
   "outputs": [
    {
     "ename": "TypeError",
     "evalue": "unhashable type: 'list'",
     "output_type": "error",
     "traceback": [
      "\u001b[0;31m---------------------------------------------------------------------------\u001b[0m",
      "\u001b[0;31mTypeError\u001b[0m                                 Traceback (most recent call last)",
      "\u001b[0;32m/tmp/ipykernel_1812/599626864.py\u001b[0m in \u001b[0;36m<module>\u001b[0;34m\u001b[0m\n\u001b[0;32m----> 1\u001b[0;31m times = {\n\u001b[0m\u001b[1;32m      2\u001b[0m   \u001b[0;34m[\u001b[0m\u001b[0;36m12\u001b[0m\u001b[0;34m,\u001b[0m \u001b[0;36m0\u001b[0m\u001b[0;34m]\u001b[0m\u001b[0;34m:\u001b[0m \u001b[0;34m\"noon\"\u001b[0m\u001b[0;34m,\u001b[0m\u001b[0;34m\u001b[0m\u001b[0;34m\u001b[0m\u001b[0m\n\u001b[1;32m      3\u001b[0m }\n",
      "\u001b[0;31mTypeError\u001b[0m: unhashable type: 'list'"
     ]
    }
   ],
   "source": [
    "times = {\n",
    "  [12, 0]: \"noon\",\n",
    "}"
   ]
  },
  {
   "cell_type": "markdown",
   "id": "88af5f4c",
   "metadata": {},
   "source": [
    "### Conditions\n",
    "\n",
    "You can check if a dictionary has a particular key using the `in` operator.\n",
    "\n",
    "```{code-block} python\n",
    ":class: full-width\n",
    ">>> \"title\" in book\n",
    "True\n",
    ">>> \"series\" in book\n",
    "False\n",
    "```\n",
    "\n",
    "To check if a dictionary has a particular value you'll also use the `in`\n",
    "operator, but on the `.values()` method.\n",
    "\n",
    "```{code-block} python\n",
    ":class: full-width\n",
    ">>> 1990 in book.values()\n",
    "True\n",
    ">>> \"Orson Scott Card\" in book.values()\n",
    "False\n",
    "```\n",
    "\n",
    "### Nested values\n",
    "\n",
    "Values can be anything you want, even other dictionaries or lists."
   ]
  },
  {
   "cell_type": "code",
   "execution_count": 16,
   "id": "5e708a33",
   "metadata": {
    "class": "full-width",
    "tags": [
     "thebe-init"
    ]
   },
   "outputs": [],
   "source": [
    "favorites = {\n",
    "  \"jessica\": {\n",
    "    \"color\": \"purple\",\n",
    "    \"movie\": \"Pulp Fiction\",\n",
    "    \"book\": \"The Lion, the Witch and the Wardrobe\",\n",
    "    \"song\": \"Another One Bites the Dust\",\n",
    "  },\n",
    "  \"eric\": {\n",
    "    \"color\": \"green\",\n",
    "    \"movie\": \"Goodfellas\",\n",
    "    \"book\": \"The Lion, the Witch and the Wardrobe\",\n",
    "    \"song\": \"Good Vibrations\",\n",
    "  }\n",
    "}"
   ]
  },
  {
   "cell_type": "markdown",
   "id": "a855fa54",
   "metadata": {},
   "source": [
    "You can access items in the nested lists by using multiple subscription\n",
    "operations, with brackets back to back."
   ]
  },
  {
   "cell_type": "code",
   "execution_count": 17,
   "id": "bf33badd",
   "metadata": {
    "class": "full-width"
   },
   "outputs": [
    {
     "name": "stdout",
     "output_type": "stream",
     "text": [
      "Jessica's favorite book is: The Lion, the Witch and the Wardrobe\n"
     ]
    }
   ],
   "source": [
    "print(\"Jessica's favorite book is:\", favorites[\"jessica\"][\"book\"])"
   ]
  },
  {
   "cell_type": "markdown",
   "id": "ac192707",
   "metadata": {},
   "source": [
    "Another way to do this is to retrieve each level and store it in a variable."
   ]
  },
  {
   "cell_type": "code",
   "execution_count": 18,
   "id": "62d8925f",
   "metadata": {
    "class": "full-width"
   },
   "outputs": [
    {
     "name": "stdout",
     "output_type": "stream",
     "text": [
      "Jessica's favorite book is: The Lion, the Witch and the Wardrobe\n"
     ]
    }
   ],
   "source": [
    "jessica = favorites[\"jessica\"]\n",
    "print(\"Jessica's favorite book is:\", jessica[\"book\"])"
   ]
  },
  {
   "cell_type": "markdown",
   "id": "69d543b0",
   "metadata": {},
   "source": [
    "% Iteration\n",
    "% ---------\n",
    "\n",
    "% When used as a {term}`iterable`, dictionaries often act like a {term}`sequence`\n",
    "% of keys.\n",
    "\n",
    "% For \n",
    "\n",
    "\n",
    "----\n",
    "\n",
    "% TODO\n",
    "% [ ] ordered version 3.7+\n",
    "% [ ] no duplicate keys, but duplicate values\n",
    "% [x] creating\n",
    "% [x] accessing\n",
    "%     [x] with key\n",
    "%     [x] get\n",
    "% [x] removing\n",
    "%     [x] pop\n",
    "%     [x] del\n",
    "% [x] values\n",
    "% [x] membership\n",
    "%     [x] keys\n",
    "%     [x] values\n",
    "%     [x] values that can be used as keys\n",
    "% [ ] iteration\n",
    "% [ ] exercise\n",
    "% [ ] under the hood\n",
    "%     [ ] tuples"
   ]
  }
 ],
 "metadata": {
  "jupytext": {
   "formats": "md:myst",
   "text_representation": {
    "extension": ".md",
    "format_name": "myst"
   }
  },
  "kernelspec": {
   "display_name": "Python 3",
   "language": "python",
   "name": "python3"
  },
  "language_info": {
   "codemirror_mode": {
    "name": "ipython",
    "version": 3
   },
   "file_extension": ".py",
   "mimetype": "text/x-python",
   "name": "python",
   "nbconvert_exporter": "python",
   "pygments_lexer": "ipython3",
   "version": "3.8.11"
  },
  "source_map": [
   11,
   54,
   63,
   70,
   75,
   80,
   85,
   90,
   96,
   102,
   112,
   119,
   126,
   132,
   139,
   145,
   151,
   282,
   286,
   290,
   294,
   298,
   306,
   313,
   323,
   327,
   340,
   344,
   354,
   358,
   366,
   395,
   413,
   417,
   421,
   425,
   430
  ]
 },
 "nbformat": 4,
 "nbformat_minor": 5
}