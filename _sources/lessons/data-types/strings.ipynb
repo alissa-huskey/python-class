{
 "cells": [
  {
   "cell_type": "markdown",
   "id": "bb23da21",
   "metadata": {},
   "source": [
    "Strings\n",
    "=======\n",
    "\n",
    "{{ leftcol | replace(\"col\", \"col-8\")  }}\n",
    "\n",
    "An ordered collection of characters accessed via index numbers.\n",
    "\n",
    "```{contents} Table of Contents\n",
    ":backlinks: top\n",
    ":local:\n",
    "```\n",
    "\n",
    "{{ rightcol | replace(\"col\", \"col-4 text-right\") }}\n",
    "\n",
    ":::{fieldlist}\n",
    "\n",
    ":Type:        `str`\n",
    ":Synatx:      {samp}`\"{char},...\"`\n",
    ":Bases:       Sequence, Iterable\n",
    ":State:       Immutable\n",
    ":Position:    Ordered\n",
    ":Composition: Homogeneous\n",
    ":Diversity:   Repeatable\n",
    ":Access:      Subscriptable\n",
    ":Value:       Hashable\n",
    "\n",
    ":::\n",
    "\n",
    "{{ endcols }}\n",
    "\n",
    "Part 1: Introduction\n",
    "--------------------\n",
    "\n",
    "While most of the time we can think of strings as text data, under the hood\n",
    "strings are a {term}`sequence` of characters.\n",
    "\n",
    "### Part 1.1: Creating\n",
    "\n",
    "{{ left }}\n",
    "\n",
    "Strings store text data and can be enclosed in either single or double quotes.\n",
    "\n",
    "{{ right }}"
   ]
  },
  {
   "cell_type": "code",
   "execution_count": 1,
   "id": "ea01023d",
   "metadata": {},
   "outputs": [
    {
     "data": {
      "text/plain": [
       "'\"Well hello!\", he said.'"
      ]
     },
     "execution_count": 1,
     "metadata": {},
     "output_type": "execute_result"
    }
   ],
   "source": [
    "\"\"\n",
    "\"Hello.\"\n",
    "'Farewell.'\n",
    "\"It's a lovely day.\"\n",
    "'\"Well hello!\", he said.'"
   ]
  },
  {
   "cell_type": "markdown",
   "id": "14cec59a",
   "metadata": {},
   "source": [
    "{{ row }}\n",
    "\n",
    "For a string that spans multiple lines, enclose it in triple double (`\"\"\"`) or\n",
    "triple single (`'''`) quotes.\n",
    "\n",
    "{{ right }}"
   ]
  },
  {
   "cell_type": "code",
   "execution_count": 2,
   "id": "aeb992b7",
   "metadata": {},
   "outputs": [
    {
     "name": "stdout",
     "output_type": "stream",
     "text": [
      "Roses are red,\n",
      "Violets are blue,\n",
      "Sugar is sweet,\n",
      "And so are you.\n"
     ]
    }
   ],
   "source": [
    "rhyme = \"\"\"Roses are red,\n",
    "Violets are blue,\n",
    "Sugar is sweet,\n",
    "And so are you.\"\"\"\n",
    "\n",
    "print(rhyme)"
   ]
  },
  {
   "cell_type": "markdown",
   "id": "42a9c150",
   "metadata": {},
   "source": [
    "{{ row }}\n",
    "\n",
    "Backslashes (`\\`) are used to escape quotes or to indicate special characters,\n",
    "like `\\n` for a new line.\n",
    "\n",
    "{{ right }}"
   ]
  },
  {
   "cell_type": "code",
   "execution_count": 3,
   "id": "be713254",
   "metadata": {},
   "outputs": [
    {
     "name": "stdout",
     "output_type": "stream",
     "text": [
      "It's a nice day.\n",
      "line one\n",
      "line two\n"
     ]
    }
   ],
   "source": [
    "print('It\\'s a nice day.')\n",
    "print(\"line one\\nline two\")"
   ]
  },
  {
   "cell_type": "markdown",
   "id": "f44a1832",
   "metadata": {},
   "source": [
    "{{ row }}\n",
    "\n",
    "For strings that contain backslashes use a double backslash (`\\\\`) or prefix\n",
    "the string with the letter `r` for a raw string.\n",
    "\n",
    "{{ right }}"
   ]
  },
  {
   "cell_type": "code",
   "execution_count": 4,
   "id": "0534f945",
   "metadata": {},
   "outputs": [
    {
     "name": "stdout",
     "output_type": "stream",
     "text": [
      "\"\\n\" is used to add a newline\n",
      "C:\\Documents\\nodes\n"
     ]
    }
   ],
   "source": [
    "print('\"\\\\n\" is used to add a newline')\n",
    "print(r\"C:\\Documents\\nodes\")"
   ]
  },
  {
   "cell_type": "markdown",
   "id": "2f75ba88",
   "metadata": {},
   "source": [
    "{{ endcols }}\n",
    "\n",
    "### Part 1.2: Exercise\n",
    "\n",
    "`````{exercise} String Creation\n",
    ":label: string-create-exercise\n",
    "\n",
    "1. Use a docstring to split the lymric or lullaby of your choice into a multi-line string\n",
    "   and assign it to the variable `verse`, then print it.\n",
    "2. Using one double-string or single-quoted string, print the words `\"one\"`,\n",
    "   `\"two\"`, and `\"three\"` on three seperate lines.\n",
    "3. Print a double quoted string that includes double quotes. Print a single\n",
    "   quoted string that includes single quotes.\n",
    "4. Print a string that includes backslashes by escaping the backslash. Print a\n",
    "   second string that includes backslashes using an r-string.\n",
    "\n",
    "`````\n",
    "\n",
    "`````{solution} string-create-exercise\n",
    "\n",
    ":::{dropdown} #1: Verse Docstring\n",
    "\n",
    "```{code-block} python\n",
    ":caption: \"String Creation Exercise #1\"\n",
    ":class: full-width\n",
    ":linenos:\n",
    "verse = \"\"\"Jack and Jill\n",
    "Went up the hill\n",
    "To fetch a pail of water\n",
    "Jack fell down and broke his crown\n",
    "And Jill came tumbling after.\"\"\"\n",
    "\n",
    "print(verse)\n",
    "```\n",
    "\n",
    ":::\n",
    "\n",
    ":::{dropdown} #2: One, Two, Three lines, muah hah haa!\n",
    "\n",
    "```{code-block} python\n",
    ":caption: \"String Creation Exercise #2\"\n",
    ":class: full-width\n",
    ":linenos:\n",
    "print(\"one\\ntwo\\nthree\")\n",
    "```\n",
    "\n",
    ":::\n",
    "\n",
    ":::{dropdown} #3: Quotable quotes\n",
    "\n",
    "```{code-block} python\n",
    ":caption: \"String Creation Exercise #3\"\n",
    ":class: full-width\n",
    ":linenos:\n",
    "print('...for he\\'s a jolly good fellow, that nobody can deny!')\n",
    "print(\"She muttered, \\\"Well, I for one can deny it.\\\"\")\n",
    "```\n",
    "\n",
    ":::\n",
    "\n",
    ":::{dropdown} #4: Sometimes backslashes just want to be seen\n",
    "\n",
    "```{code-block} python\n",
    ":caption: \"String Creation Exercise #4\"\n",
    ":class: full-width\n",
    ":linenos:\n",
    "print('This is a backslash: \"\\\\\".')\n",
    "print(r'So is this: \"\\\".')\n",
    "```\n",
    "\n",
    ":::\n",
    "\n",
    "`````\n",
    "\n",
    "### Part 1.2: Modifying\n",
    "\n",
    "Strings are {term}`immutable`, which means that once created, they cannot be\n",
    "changed.  But it's only the exact object stored in memory that can't be\n",
    "changed. Most of the time, we don't care so much about the exact object, just\n",
    "the end result.\n",
    "\n",
    "What you can do is create a new string cobbled together from the parts of other\n",
    "strings, and you can even assign it back to the same variable name.\n",
    "\n",
    "{{ left }}\n",
    "\n",
    "Strings can be {term}`concatenated <concatenate>` (joined together) by using\n",
    "the `+` operator.\n",
    "\n",
    "{{ right }}"
   ]
  },
  {
   "cell_type": "code",
   "execution_count": 5,
   "id": "4c2bace0",
   "metadata": {},
   "outputs": [
    {
     "name": "stdout",
     "output_type": "stream",
     "text": [
      "Welcome to coding class.\n"
     ]
    }
   ],
   "source": [
    "name = \"coding class\"\n",
    "print(\"Welcome to \" + name + \".\")"
   ]
  },
  {
   "cell_type": "markdown",
   "id": "03a2a2ab",
   "metadata": {},
   "source": [
    "{{ row }}\n",
    "\n",
    "String literals (the ones in quotes) next to each other are automatically\n",
    "concatenated.\n",
    "\n",
    "{{ right }}"
   ]
  },
  {
   "cell_type": "code",
   "execution_count": 6,
   "id": "b82aab00",
   "metadata": {},
   "outputs": [
    {
     "name": "stdout",
     "output_type": "stream",
     "text": [
      "Today we're talking aboutstrings.\n"
     ]
    }
   ],
   "source": [
    "text = \"Today we're talking about\" 'strings.'\n",
    "print(text)"
   ]
  },
  {
   "cell_type": "markdown",
   "id": "83c4dd58",
   "metadata": {},
   "source": [
    "{{ row }}\n",
    "\n",
    "You can take advantage of this to break long text into\n",
    "multiple lines of code. Put strings on consecutive lines\n",
    "without separating commas and enclose the whole expression\n",
    "in parentheses `(` `)`.\n",
    "\n",
    "{{ right }}"
   ]
  },
  {
   "cell_type": "code",
   "execution_count": 7,
   "id": "7a9e9eb5",
   "metadata": {},
   "outputs": [
    {
     "name": "stdout",
     "output_type": "stream",
     "text": [
      "Lorem ipsum dolor sit amet, consectetur adipiscing elit, sed do eiusmod tempor incididunt ut labore et dolore magna aliqua. Ut enim ad minim veniam, quis nostrud exercitation ullamco laboris nisi ut aliquip ex ea commodo consequat.\n"
     ]
    }
   ],
   "source": [
    "text = (\n",
    "  \"Lorem ipsum dolor sit amet, consectetur \"\n",
    "  \"adipiscing elit, sed do eiusmod tempor \"\n",
    "  \"incididunt ut labore et dolore magna \"\n",
    "  \"aliqua. Ut enim ad minim veniam, quis \"\n",
    "  \"nostrud exercitation ullamco laboris \"\n",
    "  \"nisi ut aliquip ex ea commodo consequat.\"\n",
    ")\n",
    "\n",
    "print(text)"
   ]
  },
  {
   "cell_type": "markdown",
   "id": "033fdd7e",
   "metadata": {},
   "source": [
    "{{ row }}\n",
    "\n",
    "To effectively append to an existing string, you can use the `+=` operator.\n",
    "\n",
    "{{ right }}"
   ]
  },
  {
   "cell_type": "code",
   "execution_count": 8,
   "id": "b5244b7d",
   "metadata": {},
   "outputs": [
    {
     "name": "stdout",
     "output_type": "stream",
     "text": [
      "Unfinished business.\n"
     ]
    }
   ],
   "source": [
    "text = \"Unfinished \"\n",
    "text += \"business.\"\n",
    "print(text)"
   ]
  },
  {
   "cell_type": "markdown",
   "id": "24b02315",
   "metadata": {},
   "source": [
    "{{ row }}\n",
    "\n",
    "You can repeat a string multiple times using the `*` operator.\n",
    "\n",
    "{{ right }}"
   ]
  },
  {
   "cell_type": "code",
   "execution_count": 9,
   "id": "ea0af711",
   "metadata": {},
   "outputs": [
    {
     "name": "stdout",
     "output_type": "stream",
     "text": [
      "The horror! The horror! \n"
     ]
    }
   ],
   "source": [
    "text = \"The horror! \" * 2\n",
    "print(text)"
   ]
  },
  {
   "cell_type": "markdown",
   "id": "10ba0699",
   "metadata": {},
   "source": [
    "{{ row }}\n",
    "\n",
    "Similarly you can use the `*=` operator to effectively append a value to itself\n",
    "a number of times.\n",
    "\n",
    "{{ right }}"
   ]
  },
  {
   "cell_type": "code",
   "execution_count": 10,
   "id": "84ed5d70",
   "metadata": {},
   "outputs": [
    {
     "name": "stdout",
     "output_type": "stream",
     "text": [
      "All work and no play makes Jack a dull boy.\n",
      "All work and no play makes Jack a dull boy.\n",
      "All work and no play makes Jack a dull boy.\n",
      "All work and no play makes Jack a dull boy.\n",
      "All work and no play makes Jack a dull boy.\n",
      "\n"
     ]
    }
   ],
   "source": [
    "text = \"All work and no play makes Jack a dull boy.\\n\"\n",
    "text *= 5\n",
    "print(text)"
   ]
  },
  {
   "cell_type": "markdown",
   "id": "462faf98",
   "metadata": {},
   "source": [
    "{{ row }}\n",
    "\n",
    "Use an f-string for string {term}`interpolation` by prefixing the string with the\n",
    "letter `f` then enclose the variable or other evaluated code curly braces (`{` `}`).\n",
    "\n",
    "{{ right }}"
   ]
  },
  {
   "cell_type": "code",
   "execution_count": 11,
   "id": "82d10e1c",
   "metadata": {},
   "outputs": [
    {
     "name": "stdout",
     "output_type": "stream",
     "text": [
      "I am buying 5 apples for $1.25 each.\n",
      "The total is $6.25.\n"
     ]
    }
   ],
   "source": [
    "price = 1.25\n",
    "count = 5\n",
    "\n",
    "print(f\"I am buying {count} apples for ${price} each.\")\n",
    "print(f\"The total is ${price*count}.\")"
   ]
  },
  {
   "cell_type": "markdown",
   "id": "ee24f4c0",
   "metadata": {},
   "source": [
    "{{ endcols }}\n",
    "\n",
    "### Part 1.2: Exercise\n",
    "\n",
    "`````{exercise} String Modification\n",
    ":label: string-modify-exercise\n",
    "\n",
    "1. Use the `+` operator to join two strings together and print the result.\n",
    "2. Concatonate two string literals without using the `+` operator and print the result.\n",
    "3. Choose a long paragraph of text. Break it up onto multiple lines **in your\n",
    "   code** while still all on one line in the string itself. Assign it to the\n",
    "   variable `paragraph` and print it.\n",
    "4. Assign the string `\"Four out of five dentists agree: \"` to the varable `text`.\n",
    "   Choose something the dentists agree on and on a new line, append it to\n",
    "   `text`. Print `text`.\n",
    "6. Use both the `+` and `*` operators to assign the string `\"Noooooo!\"` to the\n",
    "   variable `text` then print it. Change the number of `\"o\"`s and print it again.\n",
    "5. Pick something that Bart Simpson may have written on the blackboard and\n",
    "   assign it to the variable `admonition`. Append it to itself `10` times then\n",
    "   print it. \\\n",
    "   *Note: This should take no more than 2 lines of code.*\n",
    "   *Bonus: Write a function to do this.*\n",
    "6. Choose a name and assign it to the variable `name`. Using an f-string, print: \\\n",
    "   {samp}`\"Hello my name is: {NAME}.\"`\n",
    "7. Create a visual line by repeating the underscore character (`\"_\"`) some\n",
    "   number of times, (say, `20`) and assign it to the variable `line`. Using an\n",
    "   f-string, make a string with a single line of a sign-up sheet that looks\n",
    "   something like this: \n",
    "\n",
    "   `\"Name: ____________________   Email: ____________________\"`\n",
    "\n",
    "   Assign it to the variable `row` and print it `25` times to generate a\n",
    "   sign-up sheet.\n",
    "\n",
    "`````\n",
    "\n",
    "`````{solution} string-modify-exercise\n",
    "\n",
    ":::{dropdown} #1: Concatonate with `+`\n",
    "\n",
    "```{code-block} python\n",
    ":caption: \"String Modification Exercise #1\"\n",
    ":class: full-width\n",
    ":linenos:\n",
    "text = \"Hello \" + \"world!\"\n",
    "print(text)\n",
    "```\n",
    "\n",
    ":::\n",
    "\n",
    ":::{dropdown} #2: Concatonate without an operator\n",
    "\n",
    "```{code-block} python\n",
    ":caption: \"String Modification Exercise #2\"\n",
    ":class: full-width\n",
    ":linenos:\n",
    "text = \"Goodbye \" \"cruel world!\"\n",
    "print(text)\n",
    "```\n",
    "\n",
    ":::\n",
    "\n",
    ":::{dropdown} #3: Paragraph concatonation\n",
    "\n",
    "```{code-block} python\n",
    ":caption: \"String Modification Exercise #3\"\n",
    ":class: full-width\n",
    ":linenos:\n",
    "paragraph = (\n",
    "  \"Quo usque tandem abutere, Catilina, \"\n",
    "  \"patientia nostra? Quam diu etiam \"\n",
    "  \"furor iste tuus nos eludet? Quem \"\n",
    "  \"ad finem sese effrenata iactabit \"\n",
    "  \"audacia?\"\n",
    ")\n",
    "print(paragraph)\n",
    "```\n",
    "\n",
    ":::\n",
    "\n",
    ":::{dropdown} #4: Dentists conclude...\n",
    "\n",
    "```{code-block} python\n",
    ":caption: \"String Modification Exercise #4\"\n",
    ":class: full-width\n",
    ":linenos:\n",
    "text = \"Four out of five dentists agree: \"\n",
    "text += \"that other guy is nuts.\"\n",
    "print(text)\n",
    "```\n",
    "\n",
    ":::\n",
    "\n",
    ":::{dropdown} #5a: Variously emphatic `\"No!\"`\n",
    "\n",
    "```{code-block} python\n",
    ":caption: \"String Modification Exercise #5a\"\n",
    ":class: full-width\n",
    ":linenos:\n",
    "text = \"N\" + (\"o\"*1) + \"!\"\n",
    "print(text)\n",
    "\n",
    "text = \"N\" + (\"o\"*3) + \"!\"\n",
    "print(text)\n",
    "\n",
    "text = \"N\" + (\"o\"*8) + \"!\"\n",
    "print(text)\n",
    "```\n",
    "\n",
    ":::\n",
    "\n",
    ":::{dropdown} #5b: (Bonus) Efficient variously emphatic `\"No!\"`\n",
    "\n",
    "```{code-block} python\n",
    ":caption: \"String Modification Exercise #5b\"\n",
    ":class: full-width\n",
    ":linenos:\n",
    "def no(ohs):\n",
    "  text = \"N\" + (\"o\"*ohs) + \"!\"\n",
    "  print(text)\n",
    "\n",
    "no(1)\n",
    "no(3)\n",
    "no(8)\n",
    "```\n",
    "\n",
    ":::\n",
    "\n",
    ":::{dropdown} #6: Chalkboard repetition\n",
    "\n",
    "```{code-block} python\n",
    ":caption: \"String Modification Exercise #6\"\n",
    ":class: full-width\n",
    ":linenos:\n",
    "admonition = \"I will not repeat myself.\\n\"\n",
    "admonition *= 10\n",
    "print(admonition)\n",
    "```\n",
    "\n",
    ":::\n",
    "\n",
    ":::{dropdown} #7: Nametag\n",
    "\n",
    "```{code-block} python\n",
    ":caption: \"String Modification Exercise #7\"\n",
    ":class: full-width\n",
    ":linenos:\n",
    "name = \"Inigo Montoya\"\n",
    "print(f\"Hello my name is: {name}.\")\n",
    "```\n",
    "\n",
    ":::\n",
    "\n",
    ":::{dropdown} #8: Sign-up Sheet\n",
    "\n",
    "```{code-block} python\n",
    ":caption: \"String Modification Exercise #8\"\n",
    ":class: full-width\n",
    ":linenos:\n",
    "line = \"_\" * 20\n",
    "row = f\"Name: {line}    Email: {line}\\n\"\n",
    "print(row * 25)\n",
    "```\n",
    "\n",
    ":::\n",
    "\n",
    "`````\n",
    "\n",
    "\n",
    "---\n",
    "\n",
    "\n",
    "% TODO\n",
    "% [ ] operators\n",
    "%     [x] `+`, `*`\n",
    "%     [ ] `in`, `not in`\n",
    "% [ ] replace\n",
    "% [ ] methods, rmethods, lmethods\n",
    "% [ ] subscription, characters, slicing\n",
    "% [ ] partial string matching with `in`\n",
    "% [x] escaping, raw, escape sequences\n",
    "% [ ] chr() ord()\n",
    "% [ ] templates\n",
    "% [ ] strings <=> lists\n",
    "%     [ ] str.join()\n",
    "%     [ ] list(str)\n",
    "%     [ ] str.partition()\n",
    "%     [ ] str.split()\n",
    "%     [ ] str.splitlines()\n",
    "% [ ] textwrap\n",
    "% [ ] regex\n",
    "% [x] f-strings\n",
    "% [ ] `len()`\n",
    "% [ ] bytes, b'chars', bytesarray\n",
    "% [ ] string.ascii_lowercase, etc\n",
    "% [ ] encodings: ascii, utf-8 (unicode), `ascii()`\n",
    "\n",
    "% REFERENCE\n",
    "% https://realpython.com/python-strings/\n",
    "\n",
    "\n",
    "% EXERCISES\n",
    "% [ ] merge text onto a single line and remove indentation\n",
    "% [ ] convert underscore <=> camelcase\n",
    "% [ ] check for word word variant (ing, ed, s)\n",
    "% [ ] rot13 cypher\n",
    "% [ ] check if two values are equal, ignoring case and leading or tailing whitespace\n",
    "% [ ] remove the substring \" and\" from a string like \"one, two, and three\"\n",
    "% [ ] get the sum of a list of numbers sent as a string: \"10,20,30,40,50,60,70\"\n",
    "% [ ] format a credit card number: output: \"1234-5678-9878-0434\" input: may or may not include spaces or dashes\n",
    "% [ ] print two columns\n",
    "% [ ] indent the first line of each paragraph\n",
    "% [ ] given list:\n",
    "%     gadgets = [\"Mobile\", \"Laptop\", 100, \"Camera\", 310.28, \"Speakers\", 27.00, \"Television\", 1000, \"Laptop Case\", \"Camera Lens\"]\n",
    "%     make dict:\n",
    "%     { \"Mobile Laptop\": 100, \"Camera\": 310.28, ...}\n",
    "% [ ] given text input like:\n",
    "%     Mary|76 72 71 68 85 69,\n",
    "%     John|69 67 68 71 68 67,\n",
    "%     Anne|80 69 59 82 71 81,\n",
    "%     Mark|79 81 74 71 69 73\n",
    "%     make dict:\n",
    "%     {\"mary\": 441, \"john\": 410}\n",
    "% [ ] Caesar cipher\n",
    "% [ ] find token in command\n",
    "%     given string:\n",
    "%     `\"buy wood stove\"`\n",
    "%     and list:\n",
    "%     [\"stove\", \"wood stove\"]\n",
    "%     find:\n",
    "%     \"wood stove\"\n",
    "% [ ] check if a string is a url/phone number @regex"
   ]
  }
 ],
 "metadata": {
  "jupytext": {
   "formats": "md:myst",
   "text_representation": {
    "extension": ".md",
    "format_name": "myst"
   }
  },
  "kernelspec": {
   "display_name": "Python 3",
   "language": "python",
   "name": "python3"
  },
  "language_info": {
   "codemirror_mode": {
    "name": "ipython",
    "version": 3
   },
   "file_extension": ".py",
   "mimetype": "text/x-python",
   "name": "python",
   "nbconvert_exporter": "python",
   "pygments_lexer": "ipython3",
   "version": "3.8.12"
  },
  "source_map": [
   17,
   63,
   69,
   78,
   85,
   94,
   97,
   106,
   109,
   202,
   205,
   214,
   217,
   228,
   239,
   247,
   251,
   259,
   262,
   271,
   275,
   284,
   290
  ],
  "substitutions": {
   "label": "<div class=\"text-right\">Syntax:</div>",
   "left": "{{ leftcol | replace(\"col\", \"col-5\") }}",
   "right": "{{ rightcol | replace(\"col\", \"col-7\") }}",
   "row": "{{ newrow | replace(\"col\", \"col-5\") }}"
  }
 },
 "nbformat": 4,
 "nbformat_minor": 5
}