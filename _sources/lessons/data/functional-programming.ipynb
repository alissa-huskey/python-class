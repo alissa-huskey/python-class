{
 "cells": [
  {
   "cell_type": "markdown",
   "id": "e2601b2e",
   "metadata": {},
   "source": [
    "Functional Programming\n",
    "======================\n",
    "\n",
    "```{contents} Table of Contents\n",
    ":backlinks: \"entry\"\n",
    "```\n",
    "\n",
    "Introduction\n",
    "------------\n",
    "\n",
    "The code we have written so far in this class has either been\n",
    "{term}`procedural <procedural programming>` or\n",
    "{term}`object oriented <object oriented programming>`. Today we're going to\n",
    "learn about another programming paradigm: functional programming.\n",
    "\n",
    "{term}`Functional programming <functional programming>` is an approach to\n",
    "programming that focuses computations via {term}`modular`, {term}`stateless`,\n",
    "{term}`deterministic`, {term}`goal oriented <declarative>` functions.\n",
    "\n",
    "Procedural code is comprised of statements describing the exact steps to solve\n",
    "a particular problem and usually involve making modifications to global or\n",
    "external values along the way. In functional programming on the other hand, you\n",
    "rely on tools built into the language to decide how to go about solving the\n",
    "problem, which you provide with functions that describe the desired result.\n",
    "These tend to be more expression, and ideally return the processed data without\n",
    "changing the external {term}`state`.\n",
    "\n",
    "Functional programming is a concise and a powerful tool for data processing.\n",
    "The results are often less error prone and (once you get the hang of it) more\n",
    "readable than the procedural equivalent.\n",
    "\n",
    "In this lesson you'll learn the functional programming features provided by\n",
    "Python.\n",
    "\n",
    "Part 1: Mapping\n",
    "---------------\n",
    "\n",
    "Generating a new collection by applying the same transformation to every item\n",
    "in a container is called {term}`mapping <map>`.\n",
    "\n",
    "### Part 1.1: Procedural\n",
    "\n",
    "The procedural way to map an iterable is via the old standby, the `for` loop.\n",
    "\n",
    "{{ leftcol }}\n",
    "\n",
    "In this example we append to a list `converted` which contains all elements of\n",
    "the `date` list with `str()` applied.\n",
    "\n",
    "Appending to `converted` is an example of what is meant when we say that the\n",
    "shared state has been changed.\n",
    "\n",
    "{{ rightcol }}"
   ]
  },
  {
   "cell_type": "code",
   "execution_count": 1,
   "id": "4686a21c",
   "metadata": {},
   "outputs": [
    {
     "name": "stdout",
     "output_type": "stream",
     "text": [
      "['Wednesday', 'Nov', '4', '2021']\n"
     ]
    }
   ],
   "source": [
    "date = [\"Wednesday\", \"Nov\", 4, 2021]\n",
    "\n",
    "converted = []\n",
    "\n",
    "for elm in date:\n",
    "    converted.append(str(elm))\n",
    "\n",
    "print(converted)"
   ]
  },
  {
   "cell_type": "markdown",
   "id": "cbeb7f80",
   "metadata": {},
   "source": [
    "{{ endcols }}\n",
    "\n",
    "### Part 1.2: `map()`\n",
    "\n",
    "Python provides a built in `map()` function which does the same thing in a\n",
    "single function call.\n",
    "\n",
    ":::{hint}\n",
    "\n",
    "`map()` returns a {term}`iterator` object which is displayed as something like\n",
    "`<map at 0x10f174b80>`. Convert it to a `list` to see the contents.\n",
    "\n",
    ":::\n",
    "\n",
    "{{ leftcol }}\n",
    "\n",
    "`map()` takes two arguments: the function to apply then the iterator.\n",
    "\n",
    "{{ rightcol }}"
   ]
  },
  {
   "cell_type": "code",
   "execution_count": 2,
   "id": "f1eb2c2e",
   "metadata": {},
   "outputs": [
    {
     "data": {
      "text/plain": [
       "['Wednesday', 'Nov', '4', '2021']"
      ]
     },
     "execution_count": 2,
     "metadata": {},
     "output_type": "execute_result"
    }
   ],
   "source": [
    "date = [\"Wednesday\", \"Nov\", 4, 2021]\n",
    "converted = map(str, date)\n",
    "\n",
    "list(converted)"
   ]
  },
  {
   "cell_type": "markdown",
   "id": "ea904d8e",
   "metadata": {},
   "source": [
    "{{ newrow }}\n",
    "\n",
    "You can use any {term}`callable`, such as {term}`lambda`...\n",
    "\n",
    "{{ rightcol }}"
   ]
  },
  {
   "cell_type": "code",
   "execution_count": 3,
   "id": "a580c82b",
   "metadata": {},
   "outputs": [
    {
     "data": {
      "text/plain": [
       "['Mon', 'Tue', 'Wed', 'Thu', 'Fri', 'Sat', 'Sun']"
      ]
     },
     "execution_count": 3,
     "metadata": {},
     "output_type": "execute_result"
    }
   ],
   "source": [
    "days = [\n",
    "    'Monday',\n",
    "    'Tuesday',\n",
    "    'Wednesday',\n",
    "    'Thursday',\n",
    "    'Friday',\n",
    "    'Saturday',\n",
    "    'Sunday'\n",
    "]\n",
    "\n",
    "list(map(lambda x: x[:3], days))"
   ]
  },
  {
   "cell_type": "markdown",
   "id": "6dc218a9",
   "metadata": {},
   "source": [
    "{{ newrow }}\n",
    "\n",
    "...a user defined function...\n",
    "\n",
    "{{ rightcol }}"
   ]
  },
  {
   "cell_type": "code",
   "execution_count": 4,
   "id": "f861bb64",
   "metadata": {},
   "outputs": [
    {
     "data": {
      "text/plain": [
       "[0.25, 0.4, 0.08]"
      ]
     },
     "execution_count": 4,
     "metadata": {},
     "output_type": "execute_result"
    }
   ],
   "source": [
    "from fractions import Fraction\n",
    "\n",
    "def to_dec(val):\n",
    "    num = Fraction(str(val))\n",
    "    return round(num.numerator / num.denominator, 2)\n",
    "\n",
    "measurements = [\"1/4\", \"2/5\", \"5/64\"]\n",
    "list(map(to_dec, measurements))"
   ]
  },
  {
   "cell_type": "markdown",
   "id": "665aa488",
   "metadata": {},
   "source": [
    "{{ newrow }}\n",
    "\n",
    "...or a type.\n",
    "\n",
    "{{ rightcol }}"
   ]
  },
  {
   "cell_type": "code",
   "execution_count": 5,
   "id": "a92fd1c7",
   "metadata": {},
   "outputs": [
    {
     "data": {
      "text/plain": [
       "[PosixPath('README.md'), PosixPath('pyproject.toml'), PosixPath('bin/build')]"
      ]
     },
     "execution_count": 5,
     "metadata": {},
     "output_type": "execute_result"
    }
   ],
   "source": [
    "from pathlib import Path\n",
    "\n",
    "files = [\n",
    "    \"README.md\",\n",
    "    \"pyproject.toml\",\n",
    "    \"bin/build\",\n",
    "]\n",
    "\n",
    "list(map(Path, files))"
   ]
  },
  {
   "cell_type": "markdown",
   "id": "06aa915c",
   "metadata": {},
   "source": [
    "{{ newrow }}\n",
    "\n",
    "You can even use type methods.\n",
    "\n",
    "{{ rightcol }}"
   ]
  },
  {
   "cell_type": "code",
   "execution_count": 6,
   "id": "1595c758",
   "metadata": {},
   "outputs": [
    {
     "data": {
      "text/plain": [
       "['Clarify', 'Whereby', 'Above', 'Strong', 'Able']"
      ]
     },
     "execution_count": 6,
     "metadata": {},
     "output_type": "execute_result"
    }
   ],
   "source": [
    "words = [\n",
    "   'clarify',\n",
    "   'whereby',\n",
    "   'above',\n",
    "   'strong',\n",
    "   'able',\n",
    "]\n",
    "\n",
    "list(map(str.capitalize, words))"
   ]
  },
  {
   "cell_type": "markdown",
   "id": "6448d3bd",
   "metadata": {},
   "source": [
    "{{ endcols }}\n",
    "\n",
    "### Part 1.2: Exercise\n",
    "\n",
    "`````{exercise} Map\n",
    ":label: map-exercise\n",
    "\n",
    "Write a function `normalize()` that takes one argument `text` and returns a\n",
    "lowercased version with leading and trailing whitespace removed and spaces\n",
    "replace with underscores.\n",
    "\n",
    "Map the following list of `files` list using both a `for` loop and `map()`.\n",
    "\n",
    "```python\n",
    "files = [\n",
    "  \"Oxford English Dictionary.txt\",\n",
    "  \"ColorFAQ.txt\",\n",
    "  \"custom.css\",\n",
    "  \"weather.json\",\n",
    "]\n",
    "```\n",
    "\n",
    "`````\n",
    "\n",
    "`````{solution} map-exercise\n",
    ":class: dropdown\n",
    "\n",
    "```{code-block} python\n",
    ":caption: \"Map Exercise\"\n",
    ":class: full-width\n",
    ":linenos:\n",
    "\n",
    "def normalize(text):\n",
    "    return text.strip().lower().replace(\" \", \"_\")\n",
    "\n",
    "files = [\n",
    "  \"Oxford English Dictionary.txt\",\n",
    "  \"ColorFAQ.txt\",\n",
    "  \"custom.css\",\n",
    "  \"weather.json\",\n",
    "]\n",
    "\n",
    "transformed = []\n",
    "\n",
    "for x in files:\n",
    "    transformed.append(normalize(x))\n",
    "\n",
    "transformed = list(map(normalize, files))\n",
    "\n",
    "```\n",
    "\n",
    "`````\n",
    "\n",
    "\n",
    "### Part 1.3: Multiple Args\n",
    "\n",
    "For a transformation callable that takes multiple arguments, you can provide\n",
    "multiple iterables to `map()`.\n",
    "\n",
    "{{ leftcol }}\n",
    "\n",
    "One value from each iterable will be passed as an argument each iteration.\n",
    "\n",
    "{{ rightcol }}"
   ]
  },
  {
   "cell_type": "code",
   "execution_count": 7,
   "id": "19e42c0e",
   "metadata": {},
   "outputs": [
    {
     "data": {
      "text/plain": [
       "['a1', 'b2', 'c3']"
      ]
     },
     "execution_count": 7,
     "metadata": {},
     "output_type": "execute_result"
    }
   ],
   "source": [
    "from operator import add\n",
    "\n",
    "list(map(add, \"abc\", \"123\"))"
   ]
  },
  {
   "cell_type": "markdown",
   "id": "532704e7",
   "metadata": {},
   "source": [
    "{{ endcols }}\n",
    "\n",
    "### Part 1.3: Exercise\n",
    "\n",
    "`````{exercise} Mapping Multiple Args\n",
    ":label: map-multiple-exercise\n",
    "\n",
    "Using `map()` apply the function `operator.mul` to multiply each of the\n",
    "following `prices` keys by their exchange rate value.\n",
    "\n",
    "```python\n",
    "rates = {\n",
    "    \"USD\": 1,\n",
    "    \"EUR\": .86,\n",
    "    \"CAD\": 1.24,\n",
    "    \"GBP\": 0.73,\n",
    "    \"MXN\": 20.83,\n",
    "}\n",
    "\n",
    "prices = {\n",
    "  141: rates[\"EUR\"],\n",
    "  45: rates[\"USD\"],\n",
    "  47: rates[\"GBP\"],\n",
    "  155: rates[\"CAD\"]\n",
    "}\n",
    "```\n",
    "\n",
    "`````\n",
    "\n",
    "`````{solution} map-multiple-exercise\n",
    ":class: dropdown\n",
    "\n",
    "```{code-block} python\n",
    ":caption: \"Mapping Multiple Args Exercise\"\n",
    ":class: full-width\n",
    ":linenos:\n",
    "\n",
    "from operator import mul\n",
    "\n",
    "rates = {\n",
    "    \"USD\": 1,\n",
    "    \"EUR\": .86,\n",
    "    \"CAD\": 1.24,\n",
    "    \"GBP\": 0.73,\n",
    "    \"MXN\": 20.83,\n",
    "}\n",
    "\n",
    "prices = {\n",
    "  141: rates[\"EUR\"],\n",
    "  45: rates[\"USD\"],\n",
    "  47: rates[\"GBP\"],\n",
    "  155: rates[\"CAD\"]\n",
    "}\n",
    "\n",
    "list(map(mul, prices.keys(), prices.values()))\n",
    "\n",
    "```\n",
    "\n",
    "`````\n",
    "\n",
    "Part 2: Filter\n",
    "--------------\n",
    "\n",
    "Generating a new collection containing only items that match a certain condition\n",
    "is called {term}`filtering <filter>`.\n",
    "\n",
    "### Part 2.1: Proceedural\n",
    "\n",
    "{{ leftcol }}\n",
    "\n",
    "Here is how you would filter the old fashioned way, via a `for` loop.\n",
    "\n",
    "{{ rightcol }}"
   ]
  },
  {
   "cell_type": "code",
   "execution_count": 8,
   "id": "c36c59b6",
   "metadata": {},
   "outputs": [
    {
     "data": {
      "text/plain": [
       "[88, 80, 58, 28]"
      ]
     },
     "execution_count": 8,
     "metadata": {},
     "output_type": "execute_result"
    }
   ],
   "source": [
    "numbers = [13, 88, 80, 58, 23, 33, 31, 28]\n",
    "\n",
    "even = []\n",
    "\n",
    "for num in numbers:\n",
    "    if num % 2 == 0:\n",
    "        even.append(num)\n",
    "\n",
    "even"
   ]
  },
  {
   "cell_type": "markdown",
   "id": "bfb16619",
   "metadata": {},
   "source": [
    "{{ endcols }}\n",
    "\n",
    "### Part 2.2: `filter()`\n",
    "\n",
    "Python provides a built in `filter()` function.\n",
    "\n",
    "{{ leftcol }}\n",
    "\n",
    "`filter()` takes two arguments: a boolean function that serves as the filtering\n",
    "condition followed by the iterable to filter.\n",
    "\n",
    "{{ rightcol }}"
   ]
  },
  {
   "cell_type": "code",
   "execution_count": 9,
   "id": "35a0fde5",
   "metadata": {},
   "outputs": [
    {
     "data": {
      "text/plain": [
       "[88, 80, 58, 28]"
      ]
     },
     "execution_count": 9,
     "metadata": {},
     "output_type": "execute_result"
    }
   ],
   "source": [
    "def is_even(num):\n",
    "    return num % 2 == 0\n",
    "\n",
    "numbers = [13, 88, 80, 58, 23, 33, 31, 28]\n",
    "\n",
    "list(filter(is_even, numbers))"
   ]
  },
  {
   "cell_type": "markdown",
   "id": "7cf55258",
   "metadata": {},
   "source": [
    "{{ newrow }}\n",
    "\n",
    "As with `map()` you can use any kind of callable as the filtering function.\n",
    "\n",
    "{{ rightcol }}"
   ]
  },
  {
   "cell_type": "code",
   "execution_count": 10,
   "id": "aeb6d24e",
   "metadata": {},
   "outputs": [
    {
     "data": {
      "text/plain": [
       "['Tiger', 'Dragon']"
      ]
     },
     "execution_count": 10,
     "metadata": {},
     "output_type": "execute_result"
    }
   ],
   "source": [
    "animals = [\"ox\", \"Tiger\", \"rabbit\", \"Dragon\"]\n",
    "\n",
    "list(filter(str.istitle, animals))"
   ]
  },
  {
   "cell_type": "markdown",
   "id": "609ccad9",
   "metadata": {},
   "source": [
    "{{ newrow }}\n",
    "\n",
    "Keep in mind, the result is evaluated in a boolean context, meaning that\n",
    "{term}`falsy` values will be filtered out.\n",
    "\n",
    "{{ rightcol }}"
   ]
  },
  {
   "cell_type": "code",
   "execution_count": 11,
   "id": "07c0fe9d",
   "metadata": {},
   "outputs": [
    {
     "data": {
      "text/plain": [
       "[168, 123, 118]"
      ]
     },
     "execution_count": 11,
     "metadata": {},
     "output_type": "execute_result"
    }
   ],
   "source": [
    "numbers = [55, 38, 168, 71, 123, 31, 118, 15]\n",
    "\n",
    "list(filter(lambda x: x//100, numbers))"
   ]
  },
  {
   "cell_type": "markdown",
   "id": "07eb6130",
   "metadata": {},
   "source": [
    "{{ endcols }}\n",
    "\n",
    "### Part 2.3: Truthy filtering\n",
    "\n",
    "Often you just want to filter a list for non-empty or {term}`truthy` values.\n",
    "\n",
    "{{ leftcol }}\n",
    "\n",
    "If you pass `None` as the first argument to `filter()`, it will return only\n",
    "{term}`truthy` values. In this example, all blank lines will be filtered out.\n",
    "\n",
    "{{ rightcol }}"
   ]
  },
  {
   "cell_type": "code",
   "execution_count": 12,
   "id": "d3f3f5d5",
   "metadata": {},
   "outputs": [
    {
     "data": {
      "text/plain": [
       "['\"The sun was shining on the sea,',\n",
       " '      Shining with all his might:',\n",
       " 'He did his very best to make',\n",
       " '      The billows smooth and bright —',\n",
       " 'And this was odd, because it was',\n",
       " '      The middle of the night.']"
      ]
     },
     "execution_count": 12,
     "metadata": {},
     "output_type": "execute_result"
    }
   ],
   "source": [
    "poem = \"\"\"\n",
    "\"The sun was shining on the sea,\n",
    "      Shining with all his might:\n",
    "\n",
    "He did his very best to make\n",
    "      The billows smooth and bright —\n",
    "\n",
    "And this was odd, because it was\n",
    "      The middle of the night.\n",
    "\"\"\"\n",
    "\n",
    "list(filter(None, poem.splitlines()))"
   ]
  },
  {
   "cell_type": "markdown",
   "id": "646df7eb",
   "metadata": {},
   "source": [
    "{{ endcols }}\n",
    "\n",
    "Part 3: Reducing\n",
    "----------------\n",
    "\n",
    "{term}`Aggregation <aggregation>` operations, or those that apply the same\n",
    "operation, cumulatively, to each element in a collection to arrive at a single\n",
    "value is called {term}`reducing <reduce>`.\n",
    "\n",
    "### Part 3.1: Proceedural\n",
    "\n",
    "{{ leftcol }}\n",
    "\n",
    "Here's an example of how you would reduce via a `for` loop.\n",
    "\n",
    "In this example, we add each number in the `numbers` list to the previous total\n",
    "to arrive at the sum of all numbers in the sequence.\n",
    "\n",
    "{{ rightcol }}"
   ]
  },
  {
   "cell_type": "code",
   "execution_count": 13,
   "id": "31021124",
   "metadata": {},
   "outputs": [
    {
     "name": "stdout",
     "output_type": "stream",
     "text": [
      "23\n"
     ]
    }
   ],
   "source": [
    "numbers = [9, 7, 5, 1, 1]\n",
    "\n",
    "total = 0\n",
    "\n",
    "for num in numbers:\n",
    "    total = total + num\n",
    "\n",
    "print(total)"
   ]
  },
  {
   "cell_type": "markdown",
   "id": "77c95482",
   "metadata": {},
   "source": [
    "{{ endcols }}\n",
    "\n",
    "### Part 3.2: `reduce()`\n",
    "\n",
    "Python provides the `reduce()` function from the `functools` module.\n",
    "\n",
    "{{ leftcol }}\n",
    "\n",
    "It takes two arguments: the function to apply followed by the iterable to apply\n",
    "it to.\n",
    "\n",
    "In this example, we use the `operator.add` function to calculate the sum of all\n",
    "`numbers`.\n",
    "\n",
    "{{ rightcol }}"
   ]
  },
  {
   "cell_type": "code",
   "execution_count": 14,
   "id": "2f1b036c",
   "metadata": {},
   "outputs": [
    {
     "name": "stdout",
     "output_type": "stream",
     "text": [
      "23\n"
     ]
    }
   ],
   "source": [
    "from functools import reduce\n",
    "from operator import add\n",
    "\n",
    "numbers = [9, 7, 5, 1, 1]\n",
    "\n",
    "total = reduce(add, numbers)\n",
    "\n",
    "print(total)"
   ]
  },
  {
   "cell_type": "markdown",
   "id": "4fd8eb09",
   "metadata": {},
   "source": [
    "{{ newrow }}\n",
    "\n",
    "Any function used in `reduce()` must take two arguments:\n",
    "\n",
    "* result -- the accumulated value of all previous operations\n",
    "* current -- the current sequence element\n",
    "\n",
    "It must return a single value which will be the result value for the next\n",
    "iteration, or returned by `reduce()` after the last element.\n",
    "\n",
    "{{ rightcol }}"
   ]
  },
  {
   "cell_type": "code",
   "execution_count": 15,
   "id": "f5dd0d40",
   "metadata": {},
   "outputs": [],
   "source": [
    "def func(res, cur):\n",
    "    \"\"\"Signature for `reduce()` functions.\"\"\"\n",
    "    # calculate value here\n",
    "    value = ...\n",
    "    # returned value will be the\n",
    "    # next iterations res\n",
    "    return value"
   ]
  },
  {
   "cell_type": "markdown",
   "id": "ef9cf53d",
   "metadata": {},
   "source": [
    "{{ newrow }}\n",
    "\n",
    "In this example we re-implement the `add()` function, using the parameter name\n",
    "`running_total` for the result and `number` for the current element.\n",
    "\n",
    "{{ rightcol }}"
   ]
  },
  {
   "cell_type": "code",
   "execution_count": 16,
   "id": "03b48cda",
   "metadata": {},
   "outputs": [
    {
     "name": "stdout",
     "output_type": "stream",
     "text": [
      "23\n"
     ]
    }
   ],
   "source": [
    "def add(running_total, number):\n",
    "    value = running_total + number\n",
    "    return value\n",
    "\n",
    "total = reduce(add, numbers)\n",
    "\n",
    "print(total)"
   ]
  },
  {
   "cell_type": "markdown",
   "id": "c87b581a",
   "metadata": {},
   "source": [
    "{{ endcols }}\n",
    "\n",
    "### Part 3.2: Exercise\n",
    "\n",
    "`````{exercise} Reduce\n",
    ":label: reduce-exercise\n",
    "\n",
    "Make a list assigned to the variable `letters` with all the letters in the\n",
    "[word of the day](https://www.dictionary.com/e/word-of-the-day/).\n",
    "\n",
    "Concatonate all letters using both a `for` loop and the `functools.reduce()`\n",
    "function.\n",
    "\n",
    "`````\n",
    "\n",
    "`````{solution} reduce-exercise\n",
    ":class: dropdown\n",
    "\n",
    "```{code-block} python\n",
    ":caption: \"Reduce Exercise\"\n",
    ":class: full-width\n",
    ":linenos:\n",
    "\n",
    "from operator import add\n",
    "from functools import reduce\n",
    "\n",
    "letters = ['g', 'r', 'i', 's', 'l', 'y']\n",
    "\n",
    "word = \"\"\n",
    "\n",
    "for letter in letters:\n",
    "    word += letter\n",
    "\n",
    "print(word)\n",
    "\n",
    "word = reduce(add, letters)\n",
    "\n",
    "print(word)\n",
    "```\n",
    "\n",
    "`````\n",
    "\n",
    "### Part 3.3: Initial value\n",
    "\n",
    "`reduce()` determines the initial value of `res` by calling the type of the\n",
    "first element of the iterable. For example, if your iterable is `[1, 2, 3]`,\n",
    "the initial value of `res` will be `int()` or `0`.\n",
    "\n",
    "If you need a different initial value, you can pass it as the optional third\n",
    "argument.\n",
    "\n",
    "{{ leftcol }}\n",
    "\n",
    "In this example we are converting a tuple of integers into strings then\n",
    "concatenating them.\n",
    "\n",
    "`reduce()` would choose `0` as the initial value, but we can override that by\n",
    "passing an empty string (`\"\"`) as the third argument.\n",
    "\n",
    "{{ rightcol }}"
   ]
  },
  {
   "cell_type": "code",
   "execution_count": 17,
   "id": "78c07ca0",
   "metadata": {},
   "outputs": [
    {
     "data": {
      "text/plain": [
       "'123'"
      ]
     },
     "execution_count": 17,
     "metadata": {},
     "output_type": "execute_result"
    }
   ],
   "source": [
    "numbers = [1, 2, 3]\n",
    "\n",
    "reduce(\n",
    "    lambda res, cur: res + str(cur),\n",
    "    numbers,\n",
    "    \"\"\n",
    ")"
   ]
  },
  {
   "cell_type": "markdown",
   "id": "31627fb5",
   "metadata": {},
   "source": [
    "{{ newrow }}\n",
    "\n",
    "Here is a more complicated example that removes all punctuation characters from\n",
    "a string by iterating over a string containing the punctuation characters, and\n",
    "using the string to strip as the initial value.\n",
    "\n",
    "{{ rightcol }}"
   ]
  },
  {
   "cell_type": "code",
   "execution_count": 18,
   "id": "f7095f3d",
   "metadata": {},
   "outputs": [
    {
     "data": {
      "text/plain": [
       "'helloworldpy'"
      ]
     },
     "execution_count": 18,
     "metadata": {},
     "output_type": "execute_result"
    }
   ],
   "source": [
    "import string\n",
    "from functools import reduce\n",
    "\n",
    "filename = \"hello_world.py\"\n",
    "\n",
    "reduce(\n",
    "    lambda text, char: text.replace(char, \"\"),\n",
    "    string.punctuation,\n",
    "    filename\n",
    ")"
   ]
  },
  {
   "cell_type": "markdown",
   "id": "86993498",
   "metadata": {},
   "source": [
    "{{ endcols }}\n",
    "\n",
    "### Part 3.3: Exercise\n",
    "\n",
    "`````{exercise} Initializer\n",
    ":label: reduce-initializer-exercise\n",
    "\n",
    "Use `reduce()` to count the number of vowels in a string.\n",
    "\n",
    "`````\n",
    "\n",
    "`````{solution} reduce-initializer-exercise\n",
    ":class: dropdown\n",
    "\n",
    "```{code-block} python\n",
    ":caption: \"Initializer Exercise\"\n",
    ":class: full-width\n",
    ":linenos:\n",
    "\n",
    "def addifvowel(total, char):\n",
    "   if char.lower() in \"aeiou\":\n",
    "       return total + 1\n",
    "   else:\n",
    "       return total\n",
    "\n",
    "\n",
    "text = \"Einstein\"\n",
    "reduce(addifvowel, text, 0)\n",
    "\n",
    "```\n",
    "\n",
    "`````\n",
    "\n",
    "Challenges\n",
    "----------\n",
    "\n",
    "This section contains a series of more challenging exercises using `map()`,\n",
    "`filter()` or `range()`.\n",
    "\n",
    "### Fibonacci sequence\n",
    "\n",
    "`````{exercise} Fibonacci\n",
    ":label: fibonacci-exercise\n",
    "\n",
    "Use `reduce()` to generate a list containing the first `10` numbers of the\n",
    "[fibonacci sequence][] in which each successive number is the result of adding\n",
    "the preceeding two.\n",
    "\n",
    "**Example output**\n",
    "\n",
    "```\n",
    "[0, 1, 1, 2, 3, 5, 8, 13, 21, 34, 55, 89]\n",
    "```\n",
    "\n",
    "`````\n",
    "\n",
    "`````{solution} fibonacci-exercise\n",
    ":class: dropdown\n",
    "\n",
    "```{code-block} python\n",
    ":caption: \"Fibonacci Exercise\"\n",
    ":class: full-width\n",
    "reduce(lambda seq, _: seq + [sum(seq[-2:])], range(10), [0, 1])\n",
    "\n",
    "```\n",
    "\n",
    "`````\n",
    "\n",
    "[fibonacci sequence]: https://en.wikipedia.org/wiki/Fibonacci_number\n",
    "\n",
    "### RGB to Hex Color Code\n",
    "\n",
    "`````{exercise} RGB to Hex\n",
    ":label: rgb-to-hex-exercise\n",
    "\n",
    "Use `reduce()` to convert a iterable of three RGB color values from `0-255` to\n",
    "a six character string containing the equivalant [hex color code][].\n",
    "\n",
    "```{dropdown} Need a hint?\n",
    "Use [string formatting][] to convert hex.\n",
    "```\n",
    "\n",
    "**Example**\n",
    "\n",
    "```python\n",
    "(255, 255, 0)  # RGB input\n",
    "'ffff00'       # hex output\n",
    "```\n",
    "\n",
    "`````\n",
    "\n",
    "`````{solution} rgb-to-hex-exercise\n",
    ":class: dropdown\n",
    "\n",
    "```{code-block} python\n",
    ":caption: \"RGB to Hex Exercise\"\n",
    ":class: full-width\n",
    ":linenos:\n",
    "\n",
    "yellow = (255, 255, 0)\n",
    "\n",
    "reduce(lambda hex, val: hex + f\"{val:02x}\", yellow, \"\")\n",
    "\n",
    "```\n",
    "\n",
    "`````\n",
    "\n",
    "[hex color code]: https://www.pluralsight.com/blog/tutorials/understanding-hexadecimal-colors-simple\n",
    "[string formatting]: https://alissa-huskey.github.io/python-class/lessons/string-formatting-part-1.html#presentations\n",
    "\n",
    "\n",
    "Reference\n",
    "---------\n",
    "\n",
    "### Glossary\n",
    "\n",
    "```{glossary} functional-programming\n",
    "\n",
    "callable\n",
    "  Any object that can be called such as a function, method, or type.\n",
    "\n",
    "map\n",
    "  A functional programming function that applies a function to every element of\n",
    "  an iterable and returns a collection of results.\n",
    "\n",
    "  See also: [map](https://en.wikipedia.org/wiki/Map_(higher-order_function)).\n",
    "\n",
    "\n",
    "filter\n",
    "  A functional programming function that applies a predicate function to every\n",
    "  element of an iterable and returns a collection that contains the elements for\n",
    "  which the predicate evaluated to `True`.\n",
    "\n",
    "  See also: [filter](https://en.wikipedia.org/wiki/Filter_(higher-order_function)).\n",
    "\n",
    "\n",
    "reduce\n",
    "  A functional programming function that applies a function to an every element\n",
    "  of an iterable and returns a single cumulative value.\n",
    "\n",
    "  See also: [reduce](https://en.wikipedia.org/wiki/Fold_(higher-order_function)).\n",
    "\n",
    "\n",
    "predicate\n",
    "  A function that returns a boolean value of some condition.\n",
    "\n",
    "  See also: [predicate](https://en.wikipedia.org/wiki/Predicate_(mathematical_logic)).\n",
    "\n",
    "\n",
    "aggregation\n",
    "  Grouping together multiple values to calculate a single summary value.\n",
    "\n",
    "\n",
    "procedural programming\n",
    "  Code comprised of a list of instructions to tell the computer what to do step\n",
    "  by step. Code is organized into functions (proceedures).\n",
    "\n",
    "  See also: [procedural programming](https://en.wikipedia.org/wiki/Procedural_programming).\n",
    "\n",
    "\n",
    "object oriented programming\n",
    "  An approach to programing focused on encapsulating data and behavior into\n",
    "  objects. Code is organized into classes, objects and methods.\n",
    "\n",
    "  See also: [object oriented programming](https://en.wikipedia.org/wiki/Object-oriented_programming).\n",
    "\n",
    "\n",
    "functional programming\n",
    "  An approach to programming that focuses computations via modular, isolated,\n",
    "  deterministic, goal oriented functions.\n",
    "\n",
    "  See also: [functional programming](https://en.wikipedia.org/wiki/Functional_programming).\n",
    "\n",
    "\n",
    "deterministic\n",
    "  When an algorithm, given particular input, will always produce the same\n",
    "  output regardless of any external factors. In contrast to\n",
    "  {term}`nondeterministic`.\n",
    "\n",
    "  See also: [deterministic](https://en.wikipedia.org/wiki/Deterministic_algorithm).\n",
    "\n",
    "\n",
    "nondeterministic\n",
    "  When an algorithm may exhibit different behavior for the same input. In\n",
    "  contrast to {term}`deterministic`.\n",
    "\n",
    "  See also: [nondeterministic](https://en.wikipedia.org/wiki/Nondeterministic_algorithm).\n",
    "\n",
    "\n",
    "modular\n",
    "  A software design technique that emphasizes separating the functionality of a\n",
    "  program into independent, interchangeable modules, such that each contains\n",
    "  everything necessary to execute only one aspect of the desired functionality.\n",
    "\n",
    "  See also: [modular](https://en.wikipedia.org/wiki/Modular_programming).\n",
    "\n",
    "\n",
    "imperative\n",
    "imperative programming\n",
    "  An approach to programming that involves describing the exact steps the\n",
    "  program should take via a series of statements that make updates to the\n",
    "  shared state. In contrast to {term}`declarative programming`.\n",
    "\n",
    "  See also: [imperative programming](https://en.wikipedia.org/wiki/Imperative_programming).\n",
    "\n",
    "\n",
    "declarative\n",
    "declarative programming\n",
    "  An approach to programming that involves describing what the program should\n",
    "  do via expressions and tools built into the language rather than describing\n",
    "  how to do it via a series of statements. In contrast to\n",
    "  {term}`imperative programming`.\n",
    "\n",
    "  See also: [declarative programming](https://en.wikipedia.org/wiki/Declarative_programming).\n",
    "\n",
    "\n",
    "state\n",
    "  The information retained throughout a programs runtime--for example the data\n",
    "  stored in variables or loaded in from a file.\n",
    "\n",
    "  See also: [state](https://en.wikipedia.org/wiki/State_(computer_science)).\n",
    "\n",
    "\n",
    "statefulness\n",
    "stateful\n",
    "  A term describing software, a software component (like a function), or a\n",
    "  protocol that references information from previous operations and/or makes\n",
    "  changes to the information available for future operations.\n",
    "  In contrast to {term}`statelessness`.\n",
    "\n",
    "\n",
    "statelessness\n",
    "stateless\n",
    "  A term describing software, a software component (like a function), or a\n",
    "  protocol that does not reference information from previous operations nor\n",
    "  have any [side effects][] such as saving state for future\n",
    "  operations. Instead each operation starts from scratch based only on the\n",
    "  input and the only thing effected is the returned output.\n",
    "  In contrast to {term}`statefulness`.\n",
    "\n",
    "```\n",
    "\n",
    "[side effects]: https://en.wikipedia.org/wiki/Side_effect_(computer_science)\n",
    "\n",
    "### See Also\n",
    "\n",
    "```{seealso}\n",
    "\n",
    "* [python.org > Functional Programming HOWTO](https://docs.python.org/3/howto/functional.html)\n",
    "* [Functional Programming in Python](https://realpython.com/python-functional-programming/)\n",
    "* [python.org > Built-in Functions > map()](https://docs.python.org/3/library/functions.html#map)\n",
    "* [python.org > Built-in Functions > filter()](https://docs.python.org/3/library/functions.html#filter)\n",
    "* [python.org > Built-in Functions > reduce()](https://docs.python.org/3/library/functools.html?highlight=reduce#functools.reduce)\n",
    "* [Python's map(): Processing Iterables Without a Loop](https://realpython.com/python-map-function/)\n",
    "* [Understanding The Python Reduce Function With Examples](https://melvinkoh.me/understanding-the-python-reduce-function-with-examples-ck7mzz8l200na8ss1ogdvw5c5?guid=none&deviceId=fb7e31e2-51ab-45db-a5d8-d71705d2ec8c)\n",
    "\n",
    "```\n",
    "\n",
    "### Summary\n",
    "\n",
    "* `map()` is used to transform elements\n",
    "* `filter()` is used to select elements\n",
    "* `reduce()` is used for aggregation\n",
    "\n",
    "% TODO\n",
    "% - x if c else y\n",
    "% - c and x or y"
   ]
  }
 ],
 "metadata": {
  "jupytext": {
   "formats": "md:myst",
   "text_representation": {
    "extension": ".md",
    "format_name": "myst"
   }
  },
  "kernelspec": {
   "display_name": "Python 3",
   "language": "python",
   "name": "python3"
  },
  "language_info": {
   "codemirror_mode": {
    "name": "ipython",
    "version": 3
   },
   "file_extension": ".py",
   "mimetype": "text/x-python",
   "name": "python",
   "nbconvert_exporter": "python",
   "pygments_lexer": "ipython3",
   "version": "3.8.12"
  },
  "source_map": [
   11,
   66,
   75,
   97,
   102,
   110,
   122,
   130,
   139,
   147,
   157,
   165,
   175,
   242,
   246,
   322,
   332,
   347,
   354,
   362,
   366,
   375,
   379,
   394,
   407,
   429,
   438,
   456,
   465,
   479,
   487,
   496,
   504,
   567,
   575,
   585,
   596
  ]
 },
 "nbformat": 4,
 "nbformat_minor": 5
}