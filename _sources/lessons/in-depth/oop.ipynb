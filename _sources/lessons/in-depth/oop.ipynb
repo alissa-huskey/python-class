{
 "cells": [
  {
   "cell_type": "markdown",
   "id": "7fbe8652",
   "metadata": {},
   "source": [
    "Object Oriented Programming\n",
    "===========================\n",
    "\n",
    "Object oriented programming is a way to organize your code around objects, or\n",
    "types, instead of functions or dictionaries.\n",
    "\n",
    "It allows us to define our own types and give those types properties and behaviors.\n",
    "\n",
    "```{contents} Table of Contents\n",
    ":backlinks: top\n",
    ":local:\n",
    "```\n",
    "\n",
    "Part 1: Classes\n",
    "---------------\n",
    "\n",
    "Lets think back to our old pypet program. We had something like this:\n",
    "\n",
    "```{code-block} python\n",
    ":caption: old pypet.py\n",
    ":class: full-width\n",
    ":linenos:\n",
    "\n",
    "cat = {\n",
    "    'name': \"Flufosourus\",\n",
    "    'weight': 7,\n",
    "    'is_hungry': True,\n",
    "    'pic': \"(=^o.o^=)__\",\n",
    "}\n",
    "\n",
    "fish = {\n",
    "    'name': \"Scaley\",\n",
    "    'weight': 0.5,\n",
    "    'is_hungry': False,\n",
    "    'pic': \"<`)))><\",\n",
    "}\n",
    "\n",
    "def feed(pet):\n",
    "    if pet[\"is_hungry\"]:\n",
    "        print(\"Feeding: \" + pet[\"name\"])\n",
    "        pet[\"is_hungry\"] = False\n",
    "        pet[\"weight\"] = pet[\"weight\"] + 1\n",
    "    else:\n",
    "        print(pet[\"name\"] + \"is not hungry, thanks anyway.\")\n",
    "\n",
    "def main():\n",
    "  feed(cat)\n",
    "  feed(fish)\n",
    "\n",
    "if __name__ == \"__main__\":\n",
    "  main()\n",
    "```\n",
    "\n",
    "There are a lot of similarites between each of our pets, aren't there? Each one\n",
    "has a `name`, a `weight`, a `pic` and an `is_hungry` value.\n",
    "\n",
    "In this lesson we'll rewrite that using object oriented programming, staring by\n",
    "creating an `Animal` class.\n",
    "\n",
    "### Part 1.1: Simple Classes\n",
    "\n",
    "{{ leftcol }}\n",
    "\n",
    "Here is the simplest class.\n",
    "\n",
    "{{ rightcol }}"
   ]
  },
  {
   "cell_type": "code",
   "execution_count": 1,
   "id": "c91743cb",
   "metadata": {
    "class": "full-width"
   },
   "outputs": [],
   "source": [
    "class Animal:\n",
    "    ..."
   ]
  },
  {
   "cell_type": "markdown",
   "id": "61a49e44",
   "metadata": {},
   "source": [
    "{{ newrow }}\n",
    "\n",
    "Now we can create a new animal instance like so:\n",
    "\n",
    "{{ rightcol }}"
   ]
  },
  {
   "cell_type": "code",
   "execution_count": 2,
   "id": "cba315e2",
   "metadata": {
    "class": "full-width"
   },
   "outputs": [
    {
     "data": {
      "text/plain": [
       "__main__.Animal"
      ]
     },
     "execution_count": 2,
     "metadata": {},
     "output_type": "execute_result"
    }
   ],
   "source": [
    "cat = Animal()\n",
    "type(cat)"
   ]
  },
  {
   "cell_type": "markdown",
   "id": "dc3b7fac",
   "metadata": {},
   "source": [
    "{{ newrow }}\n",
    "\n",
    "We could assign properties to `cat` after it has been instantiated.\n",
    "\n",
    "{{ rightcol }}"
   ]
  },
  {
   "cell_type": "code",
   "execution_count": 3,
   "id": "31db24e0",
   "metadata": {
    "class": "full-width"
   },
   "outputs": [
    {
     "name": "stdout",
     "output_type": "stream",
     "text": [
      "Flufosourus\n",
      "(=^o.o^=)__\n"
     ]
    }
   ],
   "source": [
    "cat.name = \"Flufosourus\"\n",
    "cat.weight = 7\n",
    "cat.is_hungry = False\n",
    "cat.pic = \"(=^o.o^=)__\"\n",
    "\n",
    "print(cat.name)\n",
    "print(cat.pic)"
   ]
  },
  {
   "cell_type": "markdown",
   "id": "1eb617ad",
   "metadata": {},
   "source": [
    "{{ endcols }}\n",
    "\n",
    "### Part 1.1 Exercise\n",
    "\n",
    "`````{exercise} Car class\n",
    ":label: car-class-exercise\n",
    "\n",
    "1. Create a `Car` class.\n",
    "2. Make a new `Car` object and assign it to the variable `car`.\n",
    "3. Add properties for `make`, `model`, `color` and `year`.\n",
    "3. Print those properties `make`, `model`, `color` and `year`.\n",
    "\n",
    "`````\n",
    "\n",
    "`````{solution} car-class-exercise\n",
    ":class: dropdown\n",
    "\n",
    "```{code-block} python\n",
    ":caption: Car Class Exercise\n",
    ":class: full-width\n",
    ":linenos:\n",
    "\n",
    "class Car:\n",
    "  ...\n",
    "\n",
    "car = Car()\n",
    "car.make = \"Honda\"\n",
    "car.model = \"Accord\"\n",
    "car.year = 2010\n",
    "car.color = \"Black\"\n",
    "\n",
    "print(car.color, car.make, car.model, car.year)\n",
    "\n",
    "```\n",
    "\n",
    "`````\n",
    "\n",
    "\n",
    "### Part 1.2: Constructors\n",
    "\n",
    "Usually when we create a class, we have an idea of what properties it is going\n",
    "to have. Instead of relying on the programmer to assign arbitrary properties,\n",
    "we often want the programmer to provide those values when the object is being\n",
    "created.\n",
    "\n",
    "This is where a constructor comes in.  A constructor is a {term}`dunder method`\n",
    "that is used to create new instances of that class like when you call\n",
    "`Animal()`.\n",
    "\n",
    "{{ leftcol }}\n",
    "\n",
    "To make a constructor we'll add the `__init__` method to the `Animal` class.\n",
    "Class methods always take at least one argument `self`, which is a special\n",
    "variable that refers to the object itself.\n",
    "\n",
    "{{ rightcol }}"
   ]
  },
  {
   "cell_type": "code",
   "execution_count": 4,
   "id": "7252853e",
   "metadata": {
    "class": "full-width"
   },
   "outputs": [],
   "source": [
    "class Animal:\n",
    "    def __init__(self):\n",
    "        print(\"Here is a new animal.\")"
   ]
  },
  {
   "cell_type": "markdown",
   "id": "0ed84acc",
   "metadata": {},
   "source": [
    "{{ newrow }}\n",
    "\n",
    "Now lets see what happens when we create a new `Animal` object.\n",
    "\n",
    "{{ rightcol }}"
   ]
  },
  {
   "cell_type": "code",
   "execution_count": 5,
   "id": "cbd37003",
   "metadata": {
    "class": "full-width"
   },
   "outputs": [
    {
     "name": "stdout",
     "output_type": "stream",
     "text": [
      "Here is a new animal.\n"
     ]
    }
   ],
   "source": [
    "cat = Animal()"
   ]
  },
  {
   "cell_type": "markdown",
   "id": "e2d1a1d6",
   "metadata": {},
   "source": [
    "{{ endcols }}\n",
    "\n",
    "To make this class more useful, lets have `__init__` take the arguments `name`,\n",
    "`pic`, `weight` and `is_hungry`. Then we'll use `self` to assign each of these\n",
    "values to their respective properties on the object."
   ]
  },
  {
   "cell_type": "code",
   "execution_count": 6,
   "id": "46b7d5b6",
   "metadata": {
    "class": "full-width"
   },
   "outputs": [],
   "source": [
    "class Animal:\n",
    "    def __init__(self, name, pic, weight, is_hungry):\n",
    "        self.name = name\n",
    "        self.pic = pic\n",
    "        self.weight = weight\n",
    "        self.is_hungry = is_hungry\n",
    "\n",
    "        print(f\"Here is your new animal: {self.name}.\")"
   ]
  },
  {
   "cell_type": "markdown",
   "id": "bbb059ec",
   "metadata": {},
   "source": [
    "{{ br }}\n",
    "\n",
    "{{ leftcol }}\n",
    "\n",
    "Now we can pass in arguments when we instantiate the object.\n",
    "\n",
    "{{ rightcol }}"
   ]
  },
  {
   "cell_type": "code",
   "execution_count": 7,
   "id": "895594f5",
   "metadata": {
    "class": "full-width"
   },
   "outputs": [
    {
     "name": "stdout",
     "output_type": "stream",
     "text": [
      "Here is your new animal: Flufosourus.\n"
     ]
    }
   ],
   "source": [
    "cat = Animal(\n",
    "  \"Flufosourus\",\n",
    "  \"(=^o.o^=)__\",\n",
    "  7,\n",
    "  True\n",
    ")"
   ]
  },
  {
   "cell_type": "markdown",
   "id": "d566f35b",
   "metadata": {},
   "source": [
    "{{ newrow }}\n",
    "\n",
    "And each of the properties that we assigned on `self` will now be available\n",
    "from `cat`.\n",
    "\n",
    "{{ rightcol }}"
   ]
  },
  {
   "cell_type": "code",
   "execution_count": 8,
   "id": "fedb049f",
   "metadata": {
    "class": "full-width"
   },
   "outputs": [
    {
     "name": "stdout",
     "output_type": "stream",
     "text": [
      "Flufosourus\n",
      "(=^o.o^=)__\n"
     ]
    }
   ],
   "source": [
    "print(cat.name)\n",
    "print(cat.pic)"
   ]
  },
  {
   "cell_type": "markdown",
   "id": "3080ea7d",
   "metadata": {},
   "source": [
    "{{ endcols }}\n",
    "\n",
    "### Part 1.2 Exercise\n",
    "\n",
    "`````{exercise} Car Constructor\n",
    ":label: car-constructor-exercise\n",
    "\n",
    "1. Add an `__init__` method to your car class that takes the arguments `make`,\n",
    "   `model`, `year`, and `color`.\n",
    "2. Remove the lines where you set the properties on `car`.\n",
    "3. Modify your code that creates the `car` object to send those values as\n",
    "   arguments to `Car`.\n",
    "\n",
    "`````\n",
    "\n",
    "`````{solution} car-constructor-exercise\n",
    ":class: dropdown\n",
    "\n",
    "```{code-block} python\n",
    ":caption: Car Constructor Exercise\n",
    ":class: full-width\n",
    ":linenos:\n",
    "\n",
    "class Car:\n",
    "    def __init__(self, make, model, year, color):\n",
    "        self.make = make\n",
    "        self.model = model\n",
    "        self.year = year\n",
    "        self.color = color\n",
    "\n",
    "car = Car(\n",
    "  \"Honda\",\n",
    "  \"Accord\",\n",
    "  2010,\n",
    "  \"Black\",\n",
    ")\n",
    "\n",
    "print(car.color, car.make, car.model, car.year)\n",
    "\n",
    "```\n",
    "\n",
    "`````\n",
    "\n",
    "### Part 1.3 Default and Keyword Arguments\n",
    "\n",
    "Often you want to give an property a default value if the user does not\n",
    "specify the value. You can do this in the method definition with\n",
    "{samp}`{PARAM}={DEFAULT_VALUE}`.\n",
    "\n",
    "Lets make `is_hungry` `False` by default."
   ]
  },
  {
   "cell_type": "code",
   "execution_count": 9,
   "id": "51b1279a",
   "metadata": {
    "class": "full-width"
   },
   "outputs": [],
   "source": [
    "class Animal:\n",
    "    def __init__(self, name, pic, weight, is_hungry=False):\n",
    "        self.name = name\n",
    "        self.pic = pic\n",
    "        self.weight = weight\n",
    "        self.is_hungry = is_hungry"
   ]
  },
  {
   "cell_type": "markdown",
   "id": "6d81504a",
   "metadata": {},
   "source": [
    "{{ leftcol }}\n",
    "\n",
    "Now when we create the `cat` object, we can choose to leave off the `is_hungry`\n",
    "argument, and it will get set to `False`.\n",
    "\n",
    "{{ rightcol }}"
   ]
  },
  {
   "cell_type": "code",
   "execution_count": 10,
   "id": "915ec6d8",
   "metadata": {
    "class": "full-width"
   },
   "outputs": [
    {
     "name": "stdout",
     "output_type": "stream",
     "text": [
      "False\n"
     ]
    }
   ],
   "source": [
    "cat = Animal(\n",
    "  \"Flufosourus\",\n",
    "  \"(=^o.o^=)__\",\n",
    "  7,\n",
    ")\n",
    "\n",
    "print(cat.is_hungry)"
   ]
  },
  {
   "cell_type": "markdown",
   "id": "89a86263",
   "metadata": {},
   "source": [
    "{{ newrow }}\n",
    "\n",
    "If you have more than two arguments or if it isn't obvious what the arguments\n",
    "are just by looking at it, it can make your code clearer to use\n",
    "{term}`keyword arguments`.\n",
    "\n",
    "To do this, just put {samp}`{NAME}={VALUE}` when calling the constructor.\n",
    "\n",
    "{{ rightcol }}"
   ]
  },
  {
   "cell_type": "code",
   "execution_count": 11,
   "id": "1ae622a5",
   "metadata": {
    "class": "full-width"
   },
   "outputs": [],
   "source": [
    "cat = Animal(\n",
    "  name=\"Flufosourus\",\n",
    "  pic=\"(=^o.o^=)__\",\n",
    "  weight=7,\n",
    ")"
   ]
  },
  {
   "cell_type": "markdown",
   "id": "3bf3640a",
   "metadata": {},
   "source": [
    "{{ endcols }}\n",
    "\n",
    "### Part 1.3 Exercises\n",
    "\n",
    "`````{exercise} Car Keyword Arguments\n",
    ":label: car-keyword-args-exercise\n",
    "\n",
    "Modify where you create the car object to use keyword arguments.\n",
    "\n",
    "`````\n",
    "\n",
    "`````{solution} car-keyword-args-exercise\n",
    ":class: dropdown\n",
    "\n",
    "```{code-block} python\n",
    ":caption: Car Keyword Arguments Exercise\n",
    ":class: full-width\n",
    ":linenos:\n",
    "\n",
    "car = Car(\n",
    "  make=\"Honda\",\n",
    "  model=\"Accord\",\n",
    "  year=2010,\n",
    "  color=\"Black\",\n",
    ")\n",
    "\n",
    "```\n",
    "\n",
    "`````\n",
    "\n",
    "\n",
    "`````{exercise} Car Default\n",
    ":label: car-default-exercise\n",
    "\n",
    "1. Add an `is_clean` argument to the `Car` constructor and set it to `False` by\n",
    "   default.\n",
    "2. In the constructor, set the `is_clean` property on `self` to the value of\n",
    "   the `is_clean` argument.\n",
    "3. After creating the `car` object, print the value of `car.is_clean`.\n",
    "4. Make a second `Car` object named `truck` with different values for the\n",
    "   `make`, `model` and so on. Pass `True` for `is_clean`.\n",
    "5. Print the properties for `truck`, including `is_clean`.\n",
    "\n",
    "`````\n",
    "\n",
    "`````{solution} car-default-exercise\n",
    ":class: dropdown\n",
    "\n",
    "```{code-block} python\n",
    ":caption: Car Default Exercise\n",
    ":class: full-width\n",
    ":linenos:\n",
    "\n",
    "class Car:\n",
    "    def __init__(self, make, model, year, color, is_clean=False):\n",
    "        self.make = make\n",
    "        self.model = model\n",
    "        self.year = year\n",
    "        self.color = color\n",
    "        self.is_clean = is_clean\n",
    "\n",
    "car = Car(\n",
    "  make=\"Honda\",\n",
    "  model=\"Accord\",\n",
    "  year=2010,\n",
    "  color=\"Black\",\n",
    ")\n",
    "\n",
    "truck = Car(\n",
    "  make=\"Ford\",\n",
    "  model=\"F-150\",\n",
    "  year=2021,\n",
    "  color=\"Red\",\n",
    "  is_clean=True,\n",
    ")\n",
    "\n",
    "print(car.is_clean)\n",
    "print(truck.color, truck.year, truck.make, truck.model, truck.is_clean)\n",
    "\n",
    "```\n",
    "\n",
    "`````\n",
    "\n",
    "\n",
    "### Part 1.4: Methods\n",
    "\n",
    "A benfit to writing things in an object oriented way is that data and the\n",
    "behavior associated with it are all packaged together. That means that an\n",
    "objects methods already have access to its properties.\n",
    "\n",
    "To demonstrate this, lets add a `feed()` method to the `Animal` class."
   ]
  },
  {
   "cell_type": "code",
   "execution_count": 12,
   "id": "2c3bc807",
   "metadata": {
    "class": "full-width"
   },
   "outputs": [
    {
     "name": "stdout",
     "output_type": "stream",
     "text": [
      "Here is your new animal: Flufosourus.\n",
      "Flufosourus\n",
      "(=^o.o^=)__\n"
     ]
    }
   ],
   "source": [
    "class Animal:\n",
    "    def __init__(self, name, pic, weight, is_hungry=False):\n",
    "        self.name = name\n",
    "        self.pic = pic\n",
    "        self.weight = weight\n",
    "        self.is_hungry = is_hungry\n",
    "\n",
    "        print(f\"Here is your new animal: {self.name}.\")\n",
    "\n",
    "    def feed(self):\n",
    "        if self.is_hungry:\n",
    "            print(\"Feeding: \" + self.name)\n",
    "            self.is_hungry = False\n",
    "            self.weight = self.weight + 1\n",
    "        else:\n",
    "            print(self.name + \"is not hungry, thanks anyway.\")\n",
    "\n",
    "cat = Animal(\n",
    "    \"Flufosourus\",\n",
    "    \"(=^o.o^=)__\",\n",
    "    7,\n",
    "    True\n",
    ")\n",
    "\n",
    "print(cat.name)\n",
    "print(cat.pic)"
   ]
  },
  {
   "cell_type": "markdown",
   "id": "70585695",
   "metadata": {},
   "source": [
    "{{ br }}\n",
    "\n",
    "{{ leftcol }}\n",
    "\n",
    "Now we can call `cat.feed()`.\n",
    "\n",
    "{{ rightcol }}"
   ]
  },
  {
   "cell_type": "code",
   "execution_count": 13,
   "id": "81e23883",
   "metadata": {
    "class": "full-width"
   },
   "outputs": [
    {
     "name": "stdout",
     "output_type": "stream",
     "text": [
      "Feeding: Flufosourus\n"
     ]
    }
   ],
   "source": [
    "cat.feed()"
   ]
  },
  {
   "cell_type": "markdown",
   "id": "a82231ea",
   "metadata": {},
   "source": [
    "{{ newrow }}\n",
    "\n",
    "And we can see that `cat.weight` and `cat.is_hungry` have both been changed.\n",
    "\n",
    "{{ rightcol }}"
   ]
  },
  {
   "cell_type": "code",
   "execution_count": 14,
   "id": "38b5ece0",
   "metadata": {
    "class": "full-width"
   },
   "outputs": [
    {
     "name": "stdout",
     "output_type": "stream",
     "text": [
      "8\n",
      "False\n"
     ]
    }
   ],
   "source": [
    "print(cat.weight)\n",
    "print(cat.is_hungry)"
   ]
  },
  {
   "cell_type": "markdown",
   "id": "4335afac",
   "metadata": {},
   "source": [
    "{{ endcols }}\n",
    "\n",
    "### Part 1.4 Exercise\n",
    "\n",
    "`````{exercise} Car Method\n",
    ":label: car-method-exercise\n",
    "\n",
    "1. Add a `wash` method to your `Car` class that:\n",
    "\n",
    "    * prints {samp}`washing the {YEAR} {MAKE} {MODEL}`\n",
    "    * changes `is_clean` to `True`.\n",
    "2. Call the `wash()` method on `car` and `truck` then print the `is_clean` property of each.\n",
    "\n",
    "`````\n",
    "\n",
    "`````{solution} car-method-exercise\n",
    ":class: dropdown\n",
    "\n",
    "```{code-block} python\n",
    ":caption: Car Method Exercise\n",
    ":class: full-width\n",
    ":linenos:\n",
    "\n",
    "class Car:\n",
    "    def __init__(self, make, model, year, color, is_clean=False):\n",
    "        self.make = make\n",
    "        self.model = model\n",
    "        self.year = year\n",
    "        self.color = color\n",
    "        self.is_clean = is_clean\n",
    "\n",
    "    def wash(self):\n",
    "        print(f\"Washing the {self.year} {self.make} {self.model}\")\n",
    "        self.is_clean = True\n",
    "\n",
    "car = Car(\n",
    "  make=\"Honda\",\n",
    "  model=\"Accord\",\n",
    "  year=2010,\n",
    "  color=\"Black\",\n",
    ")\n",
    "\n",
    "truck = Car(\n",
    "  make=\"Ford\",\n",
    "  model=\"F-150\",\n",
    "  year=2021,\n",
    "  color=\"Red\",\n",
    "  is_clean=True,\n",
    ")\n",
    "\n",
    "car.wash()\n",
    "truck.wash()\n",
    "\n",
    "print(car.is_clean)\n",
    "print(truck.is_clean)\n",
    "\n",
    "```\n",
    "\n",
    "`````\n",
    "\n",
    "### Part 1.5: Class Properties\n",
    "\n",
    "When you set properties inside the class via `self.`, or outside of the class\n",
    "using an object that has already been instantiated, these properties are called\n",
    "{term}`instance properties <instance property>`, which means that they belong\n",
    "to an individual object.\n",
    "\n",
    "You can also set properties that belong to the class and are the same for all\n",
    "instances.\n",
    "\n",
    "{{ leftcol }}\n",
    "\n",
    "You can do this just like assigning any variable, except inside the class.\n",
    "\n",
    "{{ rightcol }}"
   ]
  },
  {
   "cell_type": "code",
   "execution_count": 15,
   "id": "53c83e2e",
   "metadata": {
    "class": "full-width"
   },
   "outputs": [],
   "source": [
    "class Animal:\n",
    "    ears = 2\n",
    "\n",
    "    def __init__(self, name, pic, weight, is_hungry=False):\n",
    "        self.name = name\n",
    "        self.pic = pic\n",
    "        self.weight = weight\n",
    "        self.is_hungry = is_hungry\n",
    "\n",
    "    def feed(self):\n",
    "        if self.is_hungry:\n",
    "            print(\"Feeding: \" + self.name)\n",
    "            self.is_hungry = False\n",
    "            self.weight = self.weight + 1\n",
    "        else:\n",
    "            print(self.name + \"is not hungry, thanks anyway.\")"
   ]
  },
  {
   "cell_type": "markdown",
   "id": "b2a56123",
   "metadata": {},
   "source": [
    "{{ newrow }}\n",
    "\n",
    "You can then access it via {term}`dot notation` on the class.\n",
    "\n",
    "{{ rightcol }}"
   ]
  },
  {
   "cell_type": "code",
   "execution_count": 16,
   "id": "7e397fde",
   "metadata": {},
   "outputs": [
    {
     "data": {
      "text/plain": [
       "2"
      ]
     },
     "execution_count": 16,
     "metadata": {},
     "output_type": "execute_result"
    }
   ],
   "source": [
    "Animal.ears"
   ]
  },
  {
   "cell_type": "markdown",
   "id": "2d3d9129",
   "metadata": {},
   "source": [
    "{{ newrow }}\n",
    "\n",
    "As well as on every instance of that class.\n",
    "\n",
    "{{ rightcol }}"
   ]
  },
  {
   "cell_type": "code",
   "execution_count": 17,
   "id": "e156fa2b",
   "metadata": {},
   "outputs": [
    {
     "data": {
      "text/plain": [
       "2"
      ]
     },
     "execution_count": 17,
     "metadata": {},
     "output_type": "execute_result"
    }
   ],
   "source": [
    "cat = Animal(\n",
    "    \"Flufosourus\",\n",
    "    \"(=^o.o^=)__\",\n",
    "    7,\n",
    "    True\n",
    ")\n",
    "\n",
    "cat.ears"
   ]
  },
  {
   "cell_type": "markdown",
   "id": "11c948d8",
   "metadata": {},
   "source": [
    "{{ newrow }}\n",
    "\n",
    "You can change the value on any particular instance, but the class value will\n",
    "remain the same. This can be handy for defaults values.\n",
    "\n",
    "{{ rightcol }}"
   ]
  },
  {
   "cell_type": "code",
   "execution_count": 18,
   "id": "6bf7525e",
   "metadata": {},
   "outputs": [
    {
     "name": "stdout",
     "output_type": "stream",
     "text": [
      "Medusa's: 0\n",
      "Animal: 2\n"
     ]
    }
   ],
   "source": [
    "snake = Animal(\n",
    "    \"Medusa\",\n",
    "    r\"_/\\__/\\_/--{ :>~\",\n",
    "    2,\n",
    ")\n",
    "\n",
    "snake.ears = 0\n",
    "\n",
    "print(\"Medusa's:\", snake.ears)\n",
    "print(\"Animal:\", Animal.ears)"
   ]
  },
  {
   "cell_type": "markdown",
   "id": "fe78c9b9",
   "metadata": {},
   "source": [
    "{{ endcols }}\n",
    "\n",
    "### Part 1.5: Exercise\n",
    "\n",
    "`````{exercise} Class Properties\n",
    ":label: class-properties-exercise\n",
    "\n",
    "Add the class property `doors` to the `Car` class and assign it the value of\n",
    "`4`. After creating your `truck` object, set the value of its `doors` property\n",
    "to `2`. Print the value of `Car.doors`, `car.doors` and `truck.doors`.\n",
    "\n",
    "`````\n",
    "\n",
    "`````{solution} class-properties-exercise\n",
    ":class: dropdown\n",
    "\n",
    "```{code-block} python\n",
    ":caption: \"Class Properties Exercise\"\n",
    ":class: full-width\n",
    ":linenos:\n",
    "class Car:\n",
    "    doors = 4\n",
    "\n",
    "    def __init__(self, make, model, year, color, is_clean=False):\n",
    "        self.make = make\n",
    "        self.model = model\n",
    "        self.year = year\n",
    "        self.color = color\n",
    "        self.is_clean = is_clean\n",
    "\n",
    "    def wash(self):\n",
    "        print(f\"Washing the {self.year} {self.make} {self.model}\")\n",
    "        self.is_clean = True\n",
    "\n",
    "car = Car(\n",
    "  make=\"Honda\",\n",
    "  model=\"Accord\",\n",
    "  year=2010,\n",
    "  color=\"Black\",\n",
    ")\n",
    "\n",
    "truck = Car(\n",
    "  make=\"Ford\",\n",
    "  model=\"F-150\",\n",
    "  year=2021,\n",
    "  color=\"Red\",\n",
    "  is_clean=True,\n",
    ")\n",
    "\n",
    "truck.doors = 2\n",
    "\n",
    "print(Car.doors)\n",
    "print(car.doors)\n",
    "print(truck.doors)\n",
    "```\n",
    "\n",
    "`````\n",
    "\n",
    "### Part 1.6: Gotchas with Mutable Types\n",
    "\n",
    "You have to be careful with {term}`mutable` types when it comes to default\n",
    "arguments or class properties, as they can lead to unexpected behavior.\n",
    "\n",
    "{{ leftcol }}\n",
    "\n",
    "Let's say we add a class attribute `toys` to the `Animal` class, and assign it\n",
    "to an empty list.\n",
    "\n",
    "{{ rightcol }}"
   ]
  },
  {
   "cell_type": "code",
   "execution_count": 19,
   "id": "a50e11aa",
   "metadata": {
    "class": "full-width"
   },
   "outputs": [],
   "source": [
    "class Animal:\n",
    "    ears = 2\n",
    "    toys = []\n",
    "\n",
    "    def __init__(self, name, pic, weight, is_hungry=False):\n",
    "        self.name = name\n",
    "        self.pic = pic\n",
    "        self.weight = weight\n",
    "        self.is_hungry = is_hungry\n",
    "\n",
    "    def feed(self):\n",
    "        if self.is_hungry:\n",
    "            print(\"Feeding: \" + self.name)\n",
    "            self.is_hungry = False\n",
    "            self.weight = self.weight + 1\n",
    "        else:\n",
    "            print(self.name + \"is not hungry, thanks anyway.\")"
   ]
  },
  {
   "cell_type": "markdown",
   "id": "8e9016a2",
   "metadata": {},
   "source": [
    "{{ newrow }}\n",
    "\n",
    "Then we create a `cat` object and add some `toys`.\n",
    "\n",
    "{{ rightcol }}"
   ]
  },
  {
   "cell_type": "code",
   "execution_count": 20,
   "id": "ae640138",
   "metadata": {},
   "outputs": [
    {
     "name": "stdout",
     "output_type": "stream",
     "text": [
      "['catnip mouse', 'cardboard box', 'laser pointer']\n"
     ]
    }
   ],
   "source": [
    "cat = Animal(\n",
    "    \"Flufosourus\",\n",
    "    \"(=^o.o^=)__\",\n",
    "    7,\n",
    ")\n",
    "\n",
    "cat.toys.append(\"catnip mouse\")\n",
    "cat.toys.append(\"cardboard box\")\n",
    "cat.toys.append(\"laser pointer\")\n",
    "\n",
    "print(cat.toys)"
   ]
  },
  {
   "cell_type": "markdown",
   "id": "9cc85f3f",
   "metadata": {},
   "source": [
    "{{ newrow }}\n",
    "\n",
    "What would `toys` contain on a new `snake` object?\n",
    "\n",
    "You may be surprised to see that it has the same contents as the `cat` object.\n",
    "That is because all instances share the *exact same object*. Since a list is\n",
    "mutable, (unlike an integer or string), any instance can make changes that will\n",
    "apply to all instances of the same class.\n",
    "\n",
    "{{ rightcol }}"
   ]
  },
  {
   "cell_type": "code",
   "execution_count": 21,
   "id": "0b8353b7",
   "metadata": {},
   "outputs": [
    {
     "name": "stdout",
     "output_type": "stream",
     "text": [
      "['catnip mouse', 'cardboard box', 'laser pointer']\n"
     ]
    }
   ],
   "source": [
    "snake = Animal(\n",
    "    \"Medusa\",\n",
    "    r\"_/\\__/\\_/--{ :>~\",\n",
    "    2,\n",
    ")\n",
    "\n",
    "print(snake.toys)"
   ]
  },
  {
   "cell_type": "markdown",
   "id": "8148e477",
   "metadata": {},
   "source": [
    "{{ endcols }}\n",
    "\n",
    "The same behavior is seen when using a mutable object for a default value.\n",
    "\n",
    "This is because the default value is created *when the method or function is\n",
    "defined*, __not__ when an object is instantiated."
   ]
  },
  {
   "cell_type": "code",
   "execution_count": 22,
   "id": "285869e2",
   "metadata": {
    "class": "full-width"
   },
   "outputs": [],
   "source": [
    "class Animal:\n",
    "    ears = 2\n",
    "\n",
    "    def __init__(self, name, pic, weight, is_hungry=False, toys=[]):\n",
    "        self.name = name\n",
    "        self.pic = pic\n",
    "        self.weight = weight\n",
    "        self.is_hungry = is_hungry\n",
    "        self.toys = toys\n",
    "\n",
    "    def feed(self):\n",
    "        if self.is_hungry:\n",
    "            print(\"Feeding: \" + self.name)\n",
    "            self.is_hungry = False\n",
    "            self.weight = self.weight + 1\n",
    "        else:\n",
    "            print(self.name + \"is not hungry, thanks anyway.\")"
   ]
  },
  {
   "cell_type": "markdown",
   "id": "530ce6a1",
   "metadata": {},
   "source": [
    "{{ leftcol }}\n",
    "\n",
    "As a result, all instances that use the default value share the exact same\n",
    "object.\n",
    "\n",
    "{{ rightcol }}"
   ]
  },
  {
   "cell_type": "code",
   "execution_count": 23,
   "id": "b090b9f5",
   "metadata": {},
   "outputs": [
    {
     "name": "stdout",
     "output_type": "stream",
     "text": [
      "['catnip mouse', 'cardboard box', 'laser pointer']\n"
     ]
    }
   ],
   "source": [
    "cat = Animal(\n",
    "    \"Flufosourus\",\n",
    "    \"(=^o.o^=)__\",\n",
    "    7,\n",
    ")\n",
    "\n",
    "cat.toys.append(\"catnip mouse\")\n",
    "cat.toys.append(\"cardboard box\")\n",
    "cat.toys.append(\"laser pointer\")\n",
    "\n",
    "print(cat.toys)"
   ]
  },
  {
   "cell_type": "code",
   "execution_count": 24,
   "id": "a6d38757",
   "metadata": {},
   "outputs": [
    {
     "name": "stdout",
     "output_type": "stream",
     "text": [
      "['catnip mouse', 'cardboard box', 'laser pointer']\n"
     ]
    }
   ],
   "source": [
    "snake = Animal(\n",
    "    \"Medusa\",\n",
    "    r\"_/\\__/\\_/--{ :>~\",\n",
    "    2,\n",
    ")\n",
    "\n",
    "print(snake.toys)"
   ]
  },
  {
   "cell_type": "markdown",
   "id": "1bf9d525",
   "metadata": {},
   "source": [
    "{{ endcols }}\n",
    "\n",
    "The moral of the story is, if you want a mutable property that is different for\n",
    "each instance of a class, assign it in the `__init__()` function."
   ]
  },
  {
   "cell_type": "code",
   "execution_count": 25,
   "id": "fb4e1141",
   "metadata": {
    "class": "full-width"
   },
   "outputs": [],
   "source": [
    "class Animal:\n",
    "    ears = 2\n",
    "\n",
    "    def __init__(self, name, pic, weight, is_hungry=False, toys=None):\n",
    "        self.name = name\n",
    "        self.pic = pic\n",
    "        self.weight = weight\n",
    "        self.is_hungry = is_hungry\n",
    "\n",
    "        if not toys:\n",
    "            toys = []\n",
    "\n",
    "        self.toys = toys\n",
    "\n",
    "    def feed(self):\n",
    "        if self.is_hungry:\n",
    "            print(\"Feeding: \" + self.name)\n",
    "            self.is_hungry = False\n",
    "            self.weight = self.weight + 1\n",
    "        else:\n",
    "            print(self.name + \"is not hungry, thanks anyway.\")"
   ]
  },
  {
   "cell_type": "markdown",
   "id": "17792884",
   "metadata": {},
   "source": [
    "{{ leftcol }}\n",
    "\n",
    "This will ensure the mutable property is created when the object is\n",
    "instantiated so it will be different for each instance.\n",
    "\n",
    "{{ rightcol }}"
   ]
  },
  {
   "cell_type": "code",
   "execution_count": 26,
   "id": "3aa1d441",
   "metadata": {},
   "outputs": [
    {
     "name": "stdout",
     "output_type": "stream",
     "text": [
      "['catnip mouse', 'cardboard box', 'laser pointer']\n"
     ]
    }
   ],
   "source": [
    "cat = Animal(\n",
    "    \"Flufosourus\",\n",
    "    \"(=^o.o^=)__\",\n",
    "    7,\n",
    ")\n",
    "\n",
    "cat.toys.append(\"catnip mouse\")\n",
    "cat.toys.append(\"cardboard box\")\n",
    "cat.toys.append(\"laser pointer\")\n",
    "\n",
    "print(cat.toys)"
   ]
  },
  {
   "cell_type": "code",
   "execution_count": 27,
   "id": "05c107ca",
   "metadata": {},
   "outputs": [
    {
     "name": "stdout",
     "output_type": "stream",
     "text": [
      "[]\n"
     ]
    }
   ],
   "source": [
    "snake = Animal(\n",
    "    \"Medusa\",\n",
    "    r\"_/\\__/\\_/--{ :>~\",\n",
    "    2,\n",
    ")\n",
    "\n",
    "print(snake.toys)"
   ]
  },
  {
   "cell_type": "markdown",
   "id": "98f6980c",
   "metadata": {},
   "source": [
    "{{ endcols }}\n",
    "\n",
    "### Part 1.6: Exercise\n",
    "\n",
    "`````{exercise} Mutable Gotchas\n",
    ":label: mutable-gotchas-exercise\n",
    "\n",
    "1. Add the class property `features` to your `Car` class and assign it to an\n",
    "   empty list. Append some `features` to your `car` object. Print `car.features`\n",
    "   and `truck.features`.\n",
    "1. Remove the `features` class property, and instead add it as an argument to\n",
    "   `__init__` with an empty list for a default value.  Append some `features` to\n",
    "   your `car` object. Print `car.features` and `truck.features`.\n",
    "1. Change the `features` default to `None`. In your `__init__` function, check\n",
    "   if `features` is {term}`falsy`. If it is, set it to an empty list. Append some\n",
    "   `features` to your `car` object. Print `car.features` and `truck.features`.\n",
    "\n",
    "`````\n",
    "\n",
    "\n",
    "\n",
    "Reference\n",
    "---------\n",
    "\n",
    "### Glossary\n",
    "\n",
    "```{glossary}\n",
    "\n",
    "class variable\n",
    "class property\n",
    "class attribute\n",
    "    A variable that belongs to a class as well as all instances of that class.\n",
    "\n",
    "instance variable\n",
    "instance property\n",
    "instance attribute\n",
    "    A variable that belongs to one specific object, or instance.\n",
    "```\n",
    "\n",
    "----\n",
    "\n",
    "% [ ] TODO\n",
    "% [ ] class methods\n",
    "% [ ] @property\n",
    "% [ ] inheritance\n",
    "%     [ ] super\n",
    "% [ ] dunder methods: __str__, __iter__, __call__"
   ]
  }
 ],
 "metadata": {
  ":depth": 2,
  "jupytext": {
   "formats": "md:myst",
   "text_representation": {
    "extension": ".md",
    "format_name": "myst"
   }
  },
  "kernelspec": {
   "display_name": "Python 3",
   "language": "python",
   "name": "python3"
  },
  "language_info": {
   "codemirror_mode": {
    "name": "ipython",
    "version": 3
   },
   "file_extension": ".py",
   "mimetype": "text/x-python",
   "name": "python",
   "nbconvert_exporter": "python",
   "pygments_lexer": "ipython3",
   "version": "3.8.12"
  },
  "source_map": [
   12,
   80,
   84,
   92,
   96,
   104,
   113,
   172,
   178,
   186,
   189,
   197,
   208,
   218,
   226,
   235,
   239,
   292,
   301,
   310,
   319,
   331,
   339,
   433,
   462,
   472,
   476,
   484,
   490,
   568,
   587,
   595,
   597,
   605,
   614,
   623,
   634,
   706,
   726,
   734,
   746,
   759,
   767,
   776,
   796,
   805,
   819,
   827,
   834,
   858,
   867,
   881,
   889
  ]
 },
 "nbformat": 4,
 "nbformat_minor": 5
}