{
 "cells": [
  {
   "cell_type": "markdown",
   "id": "c32ae5de",
   "metadata": {},
   "source": [
    "Object Oriented Programming\n",
    "===========================\n",
    "\n",
    "```{contents} Table of Contents\n",
    ":backlinks: top\n",
    ":local:\n",
    "```\n",
    "\n",
    "Object oriented programming is a way to organize your code around objects, or\n",
    "types, instead of functions or dictionaries.\n",
    "\n",
    "It allows us to define our own types and give those types attributes and behaviors.\n",
    "\n",
    "Part 1: Classes\n",
    "---------------\n",
    "\n",
    "Lets think back to our old pypet program. We had something like this:\n",
    "\n",
    "```{code-block} python\n",
    ":caption: old pypet.py\n",
    ":class: full-width\n",
    ":linenos:\n",
    "\n",
    "cat = {\n",
    "    'name': \"Flufosourus\",\n",
    "    'weight': 7,\n",
    "    'is_hungry': True,\n",
    "    'pic': \"(=^o.o^=)__\",\n",
    "}\n",
    "\n",
    "fish = {\n",
    "    'name': \"Scaley\",\n",
    "    'weight': 0.5,\n",
    "    'is_hungry': False,\n",
    "    'pic': \"<`)))><\",\n",
    "}\n",
    "\n",
    "def feed(pet):\n",
    "    if pet[\"is_hungry\"]:\n",
    "        print(\"Feeding: \" + pet[\"name\"])\n",
    "        pet[\"is_hungry\"] = False\n",
    "        pet[\"weight\"] = pet[\"weight\"] + 1\n",
    "    else:\n",
    "        print(pet[\"name\"] + \"is not hungry, thanks anyway.\")\n",
    "\n",
    "def main():\n",
    "  feed(cat)\n",
    "  feed(fish)\n",
    "\n",
    "if __name__ == \"__main__\":\n",
    "  main()\n",
    "```\n",
    "\n",
    "There are a lot of similarites between each of our pets, aren't there? Each one\n",
    "has a `name`, a `weight`, a `pic` and an `is_hungry` value.\n",
    "\n",
    "In this lesson we'll rewrite that using object oriented programming, staring by\n",
    "creating an `Animal` class.\n",
    "\n",
    "### Part 1.1: Simple classes\n",
    "\n",
    "{{ leftcol }}\n",
    "\n",
    "Here is the simplest class.\n",
    "\n",
    "{{ rightcol }}"
   ]
  },
  {
   "cell_type": "code",
   "execution_count": 1,
   "id": "177e96c6",
   "metadata": {
    "class": "full-width"
   },
   "outputs": [],
   "source": [
    "class Animal:\n",
    "    ..."
   ]
  },
  {
   "cell_type": "markdown",
   "id": "91f6350f",
   "metadata": {},
   "source": [
    "{{ newrow }}\n",
    "\n",
    "Now we can create a new animal instance like so:\n",
    "\n",
    "{{ rightcol }}"
   ]
  },
  {
   "cell_type": "code",
   "execution_count": 2,
   "id": "a17ec277",
   "metadata": {
    "class": "full-width"
   },
   "outputs": [
    {
     "data": {
      "text/plain": [
       "__main__.Animal"
      ]
     },
     "execution_count": 2,
     "metadata": {},
     "output_type": "execute_result"
    }
   ],
   "source": [
    "cat = Animal()\n",
    "type(cat)"
   ]
  },
  {
   "cell_type": "markdown",
   "id": "91e9ccd6",
   "metadata": {},
   "source": [
    "{{ newrow }}\n",
    "\n",
    "We could assign attributes to `cat` after it has been instantiated.\n",
    "\n",
    "{{ rightcol }}"
   ]
  },
  {
   "cell_type": "code",
   "execution_count": 3,
   "id": "fc8cbafe",
   "metadata": {
    "class": "full-width"
   },
   "outputs": [
    {
     "name": "stdout",
     "output_type": "stream",
     "text": [
      "Flufosourus\n",
      "(=^o.o^=)__\n"
     ]
    }
   ],
   "source": [
    "cat.name = \"Flufosourus\"\n",
    "cat.weight = 7\n",
    "cat.is_hungry = False\n",
    "cat.pic = \"(=^o.o^=)__\"\n",
    "\n",
    "print(cat.name)\n",
    "print(cat.pic)"
   ]
  },
  {
   "cell_type": "markdown",
   "id": "eb9698d8",
   "metadata": {},
   "source": [
    "{{ endcols }}\n",
    "\n",
    "### Part 1.1 Exercise\n",
    "\n",
    "`````{exercise} Car class\n",
    ":label: car-class-exercise\n",
    "\n",
    "1. Create a `Car` class.\n",
    "2. Make a new `Car` object and assign it to the variable `car`.\n",
    "3. Add attributes for `make`, `model`, `color` and `year`.\n",
    "3. Print those attributes `make`, `model`, `color` and `year`.\n",
    "\n",
    "`````\n",
    "\n",
    "`````{solution} car-class-exercise\n",
    ":class: dropdown\n",
    "\n",
    "```{code-block} python\n",
    ":caption: Car Class Exercise\n",
    ":class: full-width\n",
    ":linenos:\n",
    "\n",
    "class Car:\n",
    "  ...\n",
    "\n",
    "car = Car()\n",
    "car.make = \"Honda\"\n",
    "car.model = \"Accord\"\n",
    "car.year = 2010\n",
    "car.color = \"Black\"\n",
    "\n",
    "print(car.color, car.make, car.model, car.year)\n",
    "\n",
    "```\n",
    "\n",
    "`````\n",
    "\n",
    "\n",
    "### Part 1.2: Constructors\n",
    "\n",
    "Usually when we create a class, we have an idea of what attributes it is going\n",
    "to have. Instead of relying on the programmer to assign arbitrary attributes,\n",
    "we often want the programmer to provide those values when the object is being\n",
    "created.\n",
    "\n",
    "This is where a constructor comes in.  A constructor is a {term}`dunder method`\n",
    "that is used to create new instances of that class like when you call\n",
    "`Animal()`.\n",
    "\n",
    "{{ leftcol }}\n",
    "\n",
    "To make a constructor we'll add the `__init__` method to the `Animal` class.\n",
    "Class methods always take at least one argument `self`, which is a special\n",
    "variable that refers to the object itself.\n",
    "\n",
    "{{ rightcol }}"
   ]
  },
  {
   "cell_type": "code",
   "execution_count": 4,
   "id": "8a9f6461",
   "metadata": {
    "class": "full-width"
   },
   "outputs": [],
   "source": [
    "class Animal:\n",
    "    def __init__(self):\n",
    "        print(\"Here is a new animal.\")"
   ]
  },
  {
   "cell_type": "markdown",
   "id": "a0737dd3",
   "metadata": {},
   "source": [
    "{{ newrow }}\n",
    "\n",
    "Now lets see what happens when we create a new `Animal` object.\n",
    "\n",
    "{{ rightcol }}"
   ]
  },
  {
   "cell_type": "code",
   "execution_count": 5,
   "id": "dd9060f9",
   "metadata": {
    "class": "full-width"
   },
   "outputs": [
    {
     "name": "stdout",
     "output_type": "stream",
     "text": [
      "Here is a new animal.\n"
     ]
    }
   ],
   "source": [
    "cat = Animal()"
   ]
  },
  {
   "cell_type": "markdown",
   "id": "552ed8d6",
   "metadata": {},
   "source": [
    "{{ endcols }}\n",
    "\n",
    "To make this class more useful, lets have `__init__` take the arguments `name`,\n",
    "`pic`, `weight` and `is_hungry`. Then we'll use `self` to assign each of these\n",
    "values to their respective attribute on the object."
   ]
  },
  {
   "cell_type": "code",
   "execution_count": 6,
   "id": "f75155fc",
   "metadata": {
    "class": "full-width"
   },
   "outputs": [],
   "source": [
    "class Animal:\n",
    "    def __init__(self, name, pic, weight, is_hungry):\n",
    "        self.name = name\n",
    "        self.pic = pic\n",
    "        self.weight = weight\n",
    "        self.is_hungry = is_hungry\n",
    "\n",
    "        print(f\"Here is your new animal: {self.name}.\")"
   ]
  },
  {
   "cell_type": "markdown",
   "id": "88284c4b",
   "metadata": {},
   "source": [
    "{{ br }}\n",
    "\n",
    "{{ leftcol }}\n",
    "\n",
    "Now we can pass in arguments when we instantiate the object.\n",
    "\n",
    "{{ rightcol }}"
   ]
  },
  {
   "cell_type": "code",
   "execution_count": 7,
   "id": "f7d5261f",
   "metadata": {
    "class": "full-width"
   },
   "outputs": [
    {
     "name": "stdout",
     "output_type": "stream",
     "text": [
      "Here is your new animal: Flufosourus.\n"
     ]
    }
   ],
   "source": [
    "cat = Animal(\n",
    "  \"Flufosourus\",\n",
    "  \"(=^o.o^=)__\",\n",
    "  7,\n",
    "  True\n",
    ")"
   ]
  },
  {
   "cell_type": "markdown",
   "id": "70cd67a7",
   "metadata": {},
   "source": [
    "{{ newrow }}\n",
    "\n",
    "And each of the attributes that we assigned on `self` will now be available\n",
    "from `cat`.\n",
    "\n",
    "{{ rightcol }}"
   ]
  },
  {
   "cell_type": "code",
   "execution_count": 8,
   "id": "35603f00",
   "metadata": {
    "class": "full-width"
   },
   "outputs": [
    {
     "name": "stdout",
     "output_type": "stream",
     "text": [
      "Flufosourus\n",
      "(=^o.o^=)__\n"
     ]
    }
   ],
   "source": [
    "print(cat.name)\n",
    "print(cat.pic)"
   ]
  },
  {
   "cell_type": "markdown",
   "id": "ccdf3e8c",
   "metadata": {},
   "source": [
    "{{ endcols }}\n",
    "\n",
    "### Part 1.2 Exercise\n",
    "\n",
    "`````{exercise} Car Constructor\n",
    ":label: car-constructor-exercise\n",
    "\n",
    "1. Add an `__init__` method to your car class that takes the arguments `make`,\n",
    "   `model`, `year`, and `color`.\n",
    "2. When you create your `car` object, send those values as arguments to `Car`.\n",
    "\n",
    "`````\n",
    "\n",
    "`````{solution} car-constructor-exercise\n",
    ":class: dropdown\n",
    "\n",
    "```{code-block} python\n",
    ":caption: Car Constructor Exercise\n",
    ":class: full-width\n",
    ":linenos:\n",
    "\n",
    "class Car:\n",
    "    def __init__(self, make, model, year, color):\n",
    "        self.make = make\n",
    "        self.model = model\n",
    "        self.year = year\n",
    "        self.color = color\n",
    "\n",
    "car = Car(\n",
    "  \"Honda\",\n",
    "  \"Accord\",\n",
    "  2010,\n",
    "  \"Black\",\n",
    ")\n",
    "\n",
    "print(car.color, car.make, car.model, car.year)\n",
    "\n",
    "```\n",
    "\n",
    "`````"
   ]
  }
 ],
 "metadata": {
  "jupytext": {
   "formats": "md:myst",
   "text_representation": {
    "extension": ".md",
    "format_name": "myst"
   }
  },
  "kernelspec": {
   "display_name": "Python 3",
   "language": "python",
   "name": "python3"
  },
  "language_info": {
   "codemirror_mode": {
    "name": "ipython",
    "version": 3
   },
   "file_extension": ".py",
   "mimetype": "text/x-python",
   "name": "python",
   "nbconvert_exporter": "python",
   "pygments_lexer": "ipython3",
   "version": "3.8.12"
  },
  "source_map": [
   11,
   79,
   83,
   91,
   95,
   103,
   112,
   171,
   177,
   185,
   188,
   196,
   207,
   217,
   225,
   234,
   238
  ]
 },
 "nbformat": 4,
 "nbformat_minor": 5
}