{
 "cells": [
  {
   "cell_type": "markdown",
   "id": "e29b6c12",
   "metadata": {},
   "source": [
    "Object Oriented Programming\n",
    "===========================\n",
    "\n",
    "Object oriented programming is a way to organize your code around objects, or\n",
    "types, instead of functions or dictionaries.\n",
    "\n",
    "It allows us to define our own types and give those types properties and behaviors.\n",
    "\n",
    "```{contents} Table of Contents\n",
    ":backlinks: top\n",
    ":local:\n",
    "```\n",
    "\n",
    "Part 1: Classes\n",
    "---------------\n",
    "\n",
    "Lets think back to our old pypet program. We had something like this:\n",
    "\n",
    "```{code-block} python\n",
    ":caption: old pypet.py\n",
    ":class: full-width\n",
    ":linenos:\n",
    "\n",
    "cat = {\n",
    "    'name': \"Flufosourus\",\n",
    "    'weight': 7,\n",
    "    'is_hungry': True,\n",
    "    'pic': \"(=^o.o^=)__\",\n",
    "}\n",
    "\n",
    "fish = {\n",
    "    'name': \"Scaley\",\n",
    "    'weight': 0.5,\n",
    "    'is_hungry': False,\n",
    "    'pic': \"<`)))><\",\n",
    "}\n",
    "\n",
    "def feed(pet):\n",
    "    if pet[\"is_hungry\"]:\n",
    "        print(\"Feeding: \" + pet[\"name\"])\n",
    "        pet[\"is_hungry\"] = False\n",
    "        pet[\"weight\"] = pet[\"weight\"] + 1\n",
    "    else:\n",
    "        print(pet[\"name\"] + \"is not hungry, thanks anyway.\")\n",
    "\n",
    "def main():\n",
    "  feed(cat)\n",
    "  feed(fish)\n",
    "\n",
    "if __name__ == \"__main__\":\n",
    "  main()\n",
    "```\n",
    "\n",
    "There are a lot of similarites between each of our pets, aren't there? Each one\n",
    "has a `name`, a `weight`, a `pic` and an `is_hungry` value.\n",
    "\n",
    "In this lesson we'll rewrite that using object oriented programming, staring by\n",
    "creating an `Animal` class.\n",
    "\n",
    "### Part 1.1: Simple classes\n",
    "\n",
    "{{ leftcol }}\n",
    "\n",
    "Here is the simplest class.\n",
    "\n",
    "{{ rightcol }}"
   ]
  },
  {
   "cell_type": "code",
   "execution_count": 1,
   "id": "3c1b4882",
   "metadata": {
    "class": "full-width"
   },
   "outputs": [],
   "source": [
    "class Animal:\n",
    "    ..."
   ]
  },
  {
   "cell_type": "markdown",
   "id": "a242212c",
   "metadata": {},
   "source": [
    "{{ newrow }}\n",
    "\n",
    "Now we can create a new animal instance like so:\n",
    "\n",
    "{{ rightcol }}"
   ]
  },
  {
   "cell_type": "code",
   "execution_count": 2,
   "id": "a3c40a55",
   "metadata": {
    "class": "full-width"
   },
   "outputs": [
    {
     "data": {
      "text/plain": [
       "__main__.Animal"
      ]
     },
     "execution_count": 2,
     "metadata": {},
     "output_type": "execute_result"
    }
   ],
   "source": [
    "cat = Animal()\n",
    "type(cat)"
   ]
  },
  {
   "cell_type": "markdown",
   "id": "a65566be",
   "metadata": {},
   "source": [
    "{{ newrow }}\n",
    "\n",
    "We could assign properties to `cat` after it has been instantiated.\n",
    "\n",
    "{{ rightcol }}"
   ]
  },
  {
   "cell_type": "code",
   "execution_count": 3,
   "id": "90f67a3b",
   "metadata": {
    "class": "full-width"
   },
   "outputs": [
    {
     "name": "stdout",
     "output_type": "stream",
     "text": [
      "Flufosourus\n",
      "(=^o.o^=)__\n"
     ]
    }
   ],
   "source": [
    "cat.name = \"Flufosourus\"\n",
    "cat.weight = 7\n",
    "cat.is_hungry = False\n",
    "cat.pic = \"(=^o.o^=)__\"\n",
    "\n",
    "print(cat.name)\n",
    "print(cat.pic)"
   ]
  },
  {
   "cell_type": "markdown",
   "id": "91ef31be",
   "metadata": {},
   "source": [
    "{{ endcols }}\n",
    "\n",
    "### Part 1.1 Exercise\n",
    "\n",
    "`````{exercise} Car class\n",
    ":label: car-class-exercise\n",
    "\n",
    "1. Create a `Car` class.\n",
    "2. Make a new `Car` object and assign it to the variable `car`.\n",
    "3. Add properties for `make`, `model`, `color` and `year`.\n",
    "3. Print those properties `make`, `model`, `color` and `year`.\n",
    "\n",
    "`````\n",
    "\n",
    "`````{solution} car-class-exercise\n",
    ":class: dropdown\n",
    "\n",
    "```{code-block} python\n",
    ":caption: Car Class Exercise\n",
    ":class: full-width\n",
    ":linenos:\n",
    "\n",
    "class Car:\n",
    "  ...\n",
    "\n",
    "car = Car()\n",
    "car.make = \"Honda\"\n",
    "car.model = \"Accord\"\n",
    "car.year = 2010\n",
    "car.color = \"Black\"\n",
    "\n",
    "print(car.color, car.make, car.model, car.year)\n",
    "\n",
    "```\n",
    "\n",
    "`````\n",
    "\n",
    "\n",
    "### Part 1.2: Constructors\n",
    "\n",
    "Usually when we create a class, we have an idea of what properties it is going\n",
    "to have. Instead of relying on the programmer to assign arbitrary properties,\n",
    "we often want the programmer to provide those values when the object is being\n",
    "created.\n",
    "\n",
    "This is where a constructor comes in.  A constructor is a {term}`dunder method`\n",
    "that is used to create new instances of that class like when you call\n",
    "`Animal()`.\n",
    "\n",
    "{{ leftcol }}\n",
    "\n",
    "To make a constructor we'll add the `__init__` method to the `Animal` class.\n",
    "Class methods always take at least one argument `self`, which is a special\n",
    "variable that refers to the object itself.\n",
    "\n",
    "{{ rightcol }}"
   ]
  },
  {
   "cell_type": "code",
   "execution_count": 4,
   "id": "d4889bb1",
   "metadata": {
    "class": "full-width"
   },
   "outputs": [],
   "source": [
    "class Animal:\n",
    "    def __init__(self):\n",
    "        print(\"Here is a new animal.\")"
   ]
  },
  {
   "cell_type": "markdown",
   "id": "4c086f40",
   "metadata": {},
   "source": [
    "{{ newrow }}\n",
    "\n",
    "Now lets see what happens when we create a new `Animal` object.\n",
    "\n",
    "{{ rightcol }}"
   ]
  },
  {
   "cell_type": "code",
   "execution_count": 5,
   "id": "12c1b7bb",
   "metadata": {
    "class": "full-width"
   },
   "outputs": [
    {
     "name": "stdout",
     "output_type": "stream",
     "text": [
      "Here is a new animal.\n"
     ]
    }
   ],
   "source": [
    "cat = Animal()"
   ]
  },
  {
   "cell_type": "markdown",
   "id": "34b77412",
   "metadata": {},
   "source": [
    "{{ endcols }}\n",
    "\n",
    "To make this class more useful, lets have `__init__` take the arguments `name`,\n",
    "`pic`, `weight` and `is_hungry`. Then we'll use `self` to assign each of these\n",
    "values to their respective properties on the object."
   ]
  },
  {
   "cell_type": "code",
   "execution_count": 6,
   "id": "b79a6966",
   "metadata": {
    "class": "full-width"
   },
   "outputs": [],
   "source": [
    "class Animal:\n",
    "    def __init__(self, name, pic, weight, is_hungry):\n",
    "        self.name = name\n",
    "        self.pic = pic\n",
    "        self.weight = weight\n",
    "        self.is_hungry = is_hungry\n",
    "\n",
    "        print(f\"Here is your new animal: {self.name}.\")"
   ]
  },
  {
   "cell_type": "markdown",
   "id": "8aaa3fd1",
   "metadata": {},
   "source": [
    "{{ br }}\n",
    "\n",
    "{{ leftcol }}\n",
    "\n",
    "Now we can pass in arguments when we instantiate the object.\n",
    "\n",
    "{{ rightcol }}"
   ]
  },
  {
   "cell_type": "code",
   "execution_count": 7,
   "id": "4bad86fd",
   "metadata": {
    "class": "full-width"
   },
   "outputs": [
    {
     "name": "stdout",
     "output_type": "stream",
     "text": [
      "Here is your new animal: Flufosourus.\n"
     ]
    }
   ],
   "source": [
    "cat = Animal(\n",
    "  \"Flufosourus\",\n",
    "  \"(=^o.o^=)__\",\n",
    "  7,\n",
    "  True\n",
    ")"
   ]
  },
  {
   "cell_type": "markdown",
   "id": "b818bad0",
   "metadata": {},
   "source": [
    "{{ newrow }}\n",
    "\n",
    "And each of the properties that we assigned on `self` will now be available\n",
    "from `cat`.\n",
    "\n",
    "{{ rightcol }}"
   ]
  },
  {
   "cell_type": "code",
   "execution_count": 8,
   "id": "3bcfa8e7",
   "metadata": {
    "class": "full-width"
   },
   "outputs": [
    {
     "name": "stdout",
     "output_type": "stream",
     "text": [
      "Flufosourus\n",
      "(=^o.o^=)__\n"
     ]
    }
   ],
   "source": [
    "print(cat.name)\n",
    "print(cat.pic)"
   ]
  },
  {
   "cell_type": "markdown",
   "id": "88b53516",
   "metadata": {},
   "source": [
    "{{ endcols }}\n",
    "\n",
    "### Part 1.2 Exercise\n",
    "\n",
    "`````{exercise} Car Constructor\n",
    ":label: car-constructor-exercise\n",
    "\n",
    "1. Add an `__init__` method to your car class that takes the arguments `make`,\n",
    "   `model`, `year`, and `color`.\n",
    "2. Remove the lines where you set the properties on `car`.\n",
    "3. Modify your code that creates the `car` object to send those values as\n",
    "   arguments to `Car`.\n",
    "\n",
    "`````\n",
    "\n",
    "`````{solution} car-constructor-exercise\n",
    ":class: dropdown\n",
    "\n",
    "```{code-block} python\n",
    ":caption: Car Constructor Exercise\n",
    ":class: full-width\n",
    ":linenos:\n",
    "\n",
    "class Car:\n",
    "    def __init__(self, make, model, year, color):\n",
    "        self.make = make\n",
    "        self.model = model\n",
    "        self.year = year\n",
    "        self.color = color\n",
    "\n",
    "car = Car(\n",
    "  \"Honda\",\n",
    "  \"Accord\",\n",
    "  2010,\n",
    "  \"Black\",\n",
    ")\n",
    "\n",
    "print(car.color, car.make, car.model, car.year)\n",
    "\n",
    "```\n",
    "\n",
    "`````\n",
    "\n",
    "### Part 1.3 Default and keyword arguments\n",
    "\n",
    "Often you want to give an property a default value if the user does not\n",
    "specify the value. You can do this in the method definition with\n",
    "{samp}`{PARAM}={DEFAULT_VALUE}`.\n",
    "\n",
    "Lets make `is_hungry` `False` by default."
   ]
  },
  {
   "cell_type": "code",
   "execution_count": 9,
   "id": "14287c45",
   "metadata": {
    "class": "full-width"
   },
   "outputs": [],
   "source": [
    "class Animal:\n",
    "    def __init__(self, name, pic, weight, is_hungry=False):\n",
    "        self.name = name\n",
    "        self.pic = pic\n",
    "        self.weight = weight\n",
    "        self.is_hungry = is_hungry\n",
    "\n",
    "        print(f\"Here is your new animal: {self.name}.\")"
   ]
  },
  {
   "cell_type": "markdown",
   "id": "dab64bb7",
   "metadata": {},
   "source": [
    "{{ leftcol }}\n",
    "\n",
    "Now when we create the `cat` object, we can choose to leave off the `is_hungry`\n",
    "argument, and it will get set to `False`.\n",
    "\n",
    "{{ rightcol }}"
   ]
  },
  {
   "cell_type": "code",
   "execution_count": 10,
   "id": "37831f91",
   "metadata": {
    "class": "full-width"
   },
   "outputs": [
    {
     "name": "stdout",
     "output_type": "stream",
     "text": [
      "Here is your new animal: Flufosourus.\n",
      "False\n"
     ]
    }
   ],
   "source": [
    "cat = Animal(\n",
    "  \"Flufosourus\",\n",
    "  \"(=^o.o^=)__\",\n",
    "  7,\n",
    ")\n",
    "\n",
    "print(cat.is_hungry)"
   ]
  },
  {
   "cell_type": "markdown",
   "id": "4083e807",
   "metadata": {},
   "source": [
    "{{ newrow }}\n",
    "\n",
    "If you have more than two arguments, or if it isn't obvious what the arguments\n",
    "are just by looking at it, it's can make your code clearer to use\n",
    "{term}`keyword arguments`.\n",
    "\n",
    "To do this, just put {samp}`{NAME}={VALUE}` when calling the constructor.\n",
    "\n",
    "{{ rightcol }}"
   ]
  },
  {
   "cell_type": "code",
   "execution_count": 11,
   "id": "d160230d",
   "metadata": {
    "class": "full-width"
   },
   "outputs": [
    {
     "name": "stdout",
     "output_type": "stream",
     "text": [
      "Here is your new animal: Flufosourus.\n"
     ]
    }
   ],
   "source": [
    "cat = Animal(\n",
    "  name=\"Flufosourus\",\n",
    "  pic=\"(=^o.o^=)__\",\n",
    "  weight=7,\n",
    ")"
   ]
  },
  {
   "cell_type": "markdown",
   "id": "ac661d98",
   "metadata": {},
   "source": [
    "{{ endcols }}\n",
    "\n",
    "### Part 1.3 Exercises\n",
    "\n",
    "`````{exercise} Car Keyword Arguments\n",
    ":label: car-keyword-args-exercise\n",
    "\n",
    "Modify where you create the car object to use keyword arguments.\n",
    "\n",
    "`````\n",
    "\n",
    "`````{solution} car-keyword-args-exercise\n",
    ":class: dropdown\n",
    "\n",
    "```{code-block} python\n",
    ":caption: Car Keyword Arguments Exercise\n",
    ":class: full-width\n",
    ":linenos:\n",
    "\n",
    "car = Car(\n",
    "  make=\"Honda\",\n",
    "  model=\"Accord\",\n",
    "  year=2010,\n",
    "  color=\"Black\",\n",
    ")\n",
    "\n",
    "```\n",
    "\n",
    "`````\n",
    "\n",
    "\n",
    "`````{exercise} Car Default\n",
    ":label: car-default-exercise\n",
    "\n",
    "1. Add an `is_clean` argument to the `Car` constructor and set it to `False` by\n",
    "   default.\n",
    "2. In the constructor, set the `is_clean` property on `self` to the value of\n",
    "   the `is_clean` argument.\n",
    "3. After creating the `car` object, print the value of `car.is_clean`.\n",
    "4. Make a second `Car` object named `truck` with different values for the\n",
    "   `make`, `model` and so on. Pass `True` for `is_clean`.\n",
    "5. Print the properties for `truck`, including `is_clean`.\n",
    "\n",
    "`````\n",
    "\n",
    "`````{solution} car-default-exercise\n",
    ":class: dropdown\n",
    "\n",
    "```{code-block} python\n",
    ":caption: Car Default Exercise\n",
    ":class: full-width\n",
    ":linenos:\n",
    "\n",
    "class Car:\n",
    "    def __init__(self, make, model, year, color, is_clean=False):\n",
    "        self.make = make\n",
    "        self.model = model\n",
    "        self.year = year\n",
    "        self.color = color\n",
    "        self.is_clean = is_clean\n",
    "\n",
    "car = Car(\n",
    "  make=\"Honda\",\n",
    "  model=\"Accord\",\n",
    "  year=2010,\n",
    "  color=\"Black\",\n",
    ")\n",
    "\n",
    "truck = Car(\n",
    "  make=\"Ford\",\n",
    "  model=\"F-150\",\n",
    "  year=2021,\n",
    "  color=\"Red\",\n",
    "  is_clean=True,\n",
    ")\n",
    "\n",
    "print(car.is_clean)\n",
    "print(truck.color, truck.year, truck.make, truck.model, truck.is_clean)\n",
    "\n",
    "```\n",
    "\n",
    "`````\n",
    "\n",
    "\n",
    "### Part 1.4: Methods\n",
    "\n",
    "A benfit to writing things in an object oriented way is that data and the\n",
    "behavior associated with it are all packaged together. That means that an\n",
    "objects methods already have access to its properties.\n",
    "\n",
    "To demonstrate this, lets add a `feed()` method to the `Animal` class."
   ]
  },
  {
   "cell_type": "code",
   "execution_count": 12,
   "id": "1f15f0cb",
   "metadata": {
    "class": "full-width"
   },
   "outputs": [
    {
     "name": "stdout",
     "output_type": "stream",
     "text": [
      "Here is your new animal: Flufosourus.\n",
      "Flufosourus\n",
      "(=^o.o^=)__\n"
     ]
    }
   ],
   "source": [
    "class Animal:\n",
    "    def __init__(self, name, pic, weight, is_hungry=False):\n",
    "        self.name = name\n",
    "        self.pic = pic\n",
    "        self.weight = weight\n",
    "        self.is_hungry = is_hungry\n",
    "\n",
    "        print(f\"Here is your new animal: {self.name}.\")\n",
    "\n",
    "    def feed(self):\n",
    "        if self.is_hungry:\n",
    "            print(\"Feeding: \" + self.name)\n",
    "            self.is_hungry = False\n",
    "            self.weight = self.weight + 1\n",
    "        else:\n",
    "            print(self.name + \"is not hungry, thanks anyway.\")\n",
    "\n",
    "cat = Animal(\n",
    "    \"Flufosourus\",\n",
    "    \"(=^o.o^=)__\",\n",
    "    7,\n",
    "    True\n",
    ")\n",
    "\n",
    "print(cat.name)\n",
    "print(cat.pic)"
   ]
  },
  {
   "cell_type": "markdown",
   "id": "444512f9",
   "metadata": {},
   "source": [
    "{{ br }}\n",
    "\n",
    "{{ leftcol }}\n",
    "\n",
    "Now we can call `cat.feed()`.\n",
    "\n",
    "{{ rightcol }}"
   ]
  },
  {
   "cell_type": "code",
   "execution_count": 13,
   "id": "eca04a8d",
   "metadata": {
    "class": "full-width"
   },
   "outputs": [
    {
     "name": "stdout",
     "output_type": "stream",
     "text": [
      "Feeding: Flufosourus\n"
     ]
    }
   ],
   "source": [
    "cat.feed()"
   ]
  },
  {
   "cell_type": "markdown",
   "id": "f8f27c57",
   "metadata": {},
   "source": [
    "{{ newrow }}\n",
    "\n",
    "And we can see that `cat.weight` and `cat.is_hungry` have both been changed.\n",
    "\n",
    "{{ rightcol }}"
   ]
  },
  {
   "cell_type": "code",
   "execution_count": 14,
   "id": "529a80e7",
   "metadata": {
    "class": "full-width"
   },
   "outputs": [
    {
     "name": "stdout",
     "output_type": "stream",
     "text": [
      "8\n",
      "False\n"
     ]
    }
   ],
   "source": [
    "print(cat.weight)\n",
    "print(cat.is_hungry)"
   ]
  },
  {
   "cell_type": "markdown",
   "id": "20f47269",
   "metadata": {},
   "source": [
    "{{ endcols }}\n",
    "\n",
    "### Part 1.4 Exercise\n",
    "\n",
    "`````{exercise} Car Method\n",
    ":label: car-method-exercise\n",
    "\n",
    "1. Add a `wash` method to your `Car` class that:\n",
    "\n",
    "    * prints {samp}`washing the {YEAR} {MAKE} {MODEL}`\n",
    "    * changes `is_clean` to `True`.\n",
    "2. Call the `wash()` method on `car` and `truck` then print the `is_clean` property of each.\n",
    "\n",
    "`````\n",
    "\n",
    "`````{solution} car-method-exercise\n",
    ":class: dropdown\n",
    "\n",
    "```{code-block} python\n",
    ":caption: Car Method Exercise\n",
    ":class: full-width\n",
    ":linenos:\n",
    "\n",
    "class Car:\n",
    "    def __init__(self, make, model, year, color, is_clean=False):\n",
    "        self.make = make\n",
    "        self.model = model\n",
    "        self.year = year\n",
    "        self.color = color\n",
    "        self.is_clean = is_clean\n",
    "\n",
    "    def wash(self):\n",
    "        print(f\"Washing the {self.year} {self.make} {self.model}\")\n",
    "        self.is_clean = True\n",
    "\n",
    "car = Car(\n",
    "  make=\"Honda\",\n",
    "  model=\"Accord\",\n",
    "  year=2010,\n",
    "  color=\"Black\",\n",
    ")\n",
    "\n",
    "truck = Car(\n",
    "  make=\"Ford\",\n",
    "  model=\"F-150\",\n",
    "  year=2021,\n",
    "  color=\"Red\",\n",
    "  is_clean=True,\n",
    ")\n",
    "\n",
    "car.wash()\n",
    "truck.wash()\n",
    "\n",
    "print(car.is_clean)\n",
    "print(truck.is_clean)\n",
    "\n",
    "```\n",
    "\n",
    "`````\n",
    "\n",
    "----\n",
    "\n",
    "% [ ] TODO\n",
    "% [ ] properties\n",
    "% [ ] inheritance\n",
    "% [ ] super"
   ]
  }
 ],
 "metadata": {
  "jupytext": {
   "formats": "md:myst",
   "text_representation": {
    "extension": ".md",
    "format_name": "myst"
   }
  },
  "kernelspec": {
   "display_name": "Python 3",
   "language": "python",
   "name": "python3"
  },
  "language_info": {
   "codemirror_mode": {
    "name": "ipython",
    "version": 3
   },
   "file_extension": ".py",
   "mimetype": "text/x-python",
   "name": "python",
   "nbconvert_exporter": "python",
   "pygments_lexer": "ipython3",
   "version": "3.8.12"
  },
  "source_map": [
   11,
   79,
   83,
   91,
   95,
   103,
   112,
   171,
   177,
   185,
   188,
   196,
   207,
   217,
   225,
   234,
   238,
   291,
   302,
   311,
   320,
   332,
   340,
   434,
   463,
   473,
   477,
   485,
   491
  ]
 },
 "nbformat": 4,
 "nbformat_minor": 5
}