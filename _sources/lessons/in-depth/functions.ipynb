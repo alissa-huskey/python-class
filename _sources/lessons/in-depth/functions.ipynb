{
 "cells": [
  {
   "cell_type": "markdown",
   "id": "a9c87114",
   "metadata": {},
   "source": [
    "Functions\n",
    "=========\n",
    "\n",
    "In this lesson you'll learn about some slightly more advanced or obscure\n",
    "function writing.\n",
    "\n",
    ":::{important}\n",
    "\n",
    "Be sure to complete the fundamentals [](../functions.md) lesson first.\n",
    "\n",
    ":::\n",
    "\n",
    "```{contents} Table of Contents\n",
    ":backlinks: top\n",
    ":local:\n",
    ":depth: 2\n",
    "```\n",
    "\n",
    "Part 1: Optional arguments\n",
    "--------------------------\n",
    "\n",
    "### Part 1.1: Default Values\n",
    "\n",
    "{{ leftcol }}\n",
    "\n",
    "You can make an argument optional by giving it a default value.\n",
    "\n",
    "{{ rightcol }}"
   ]
  },
  {
   "cell_type": "code",
   "execution_count": 1,
   "id": "9467fa19",
   "metadata": {
    "class": "full-width"
   },
   "outputs": [],
   "source": [
    "def hr(width=20):\n",
    "    print(\"-\" * width)"
   ]
  },
  {
   "cell_type": "markdown",
   "id": "c82ddb60",
   "metadata": {},
   "source": [
    "{{ newrow }}\n",
    "\n",
    "When you call the function, you can pass an argument as you normally would.\n",
    "\n",
    "{{ rightcol }}"
   ]
  },
  {
   "cell_type": "code",
   "execution_count": 2,
   "id": "c0bec6f3",
   "metadata": {
    "class": "full-width"
   },
   "outputs": [
    {
     "name": "stdout",
     "output_type": "stream",
     "text": [
      "----------\n"
     ]
    }
   ],
   "source": [
    "hr(10)"
   ]
  },
  {
   "cell_type": "markdown",
   "id": "ad7ed161",
   "metadata": {},
   "source": [
    "{{ newrow }}\n",
    "\n",
    "Or skip the argument to use the default value.\n",
    "\n",
    "{{ rightcol }}"
   ]
  },
  {
   "cell_type": "code",
   "execution_count": 3,
   "id": "3608dbe0",
   "metadata": {
    "class": "full-width"
   },
   "outputs": [
    {
     "name": "stdout",
     "output_type": "stream",
     "text": [
      "--------------------\n"
     ]
    }
   ],
   "source": [
    "hr()"
   ]
  },
  {
   "cell_type": "markdown",
   "id": "9128b9b2",
   "metadata": {},
   "source": [
    "{{ newrow }}\n",
    "\n",
    "Any parameters without default values have to go before any with default\n",
    "values.\n",
    "\n",
    "{{ rightcol }}"
   ]
  },
  {
   "cell_type": "code",
   "execution_count": 4,
   "id": "df0939e3",
   "metadata": {
    "class": "full-width"
   },
   "outputs": [],
   "source": [
    "def hr(char, width=20):\n",
    "    print(char * width)"
   ]
  },
  {
   "cell_type": "markdown",
   "id": "36d2306b",
   "metadata": {},
   "source": [
    "{{ endcols }}\n",
    "\n",
    "### Part 1.2: Exercise\n",
    "\n",
    "`````{exercise} Defaults\n",
    ":label: defaults-exercise\n",
    "\n",
    "Define a function `write()` that takes three arguments:\n",
    "\n",
    "* `message`\n",
    "* `before` with a default of `0`\n",
    "* `after` with a default of `0`\n",
    "\n",
    "The function should print `message` with the specified number of blank lines\n",
    "`before` and `after`, then print the string `\"----\"` at the end.\n",
    "\n",
    "Call it with all variations of missing and present default arguments.\n",
    "\n",
    "`````\n",
    "\n",
    "`````{solution} defaults-exercise\n",
    ":class: dropdown\n",
    "\n",
    "```{code-block} python\n",
    ":caption: \"Defaults Exercise\"\n",
    ":class: full-width\n",
    ":linenos:\n",
    "\n",
    "def write(message, before=0, after=0):\n",
    "  print(\"\\n\"*before, end=\"\")\n",
    "  print(message)\n",
    "  print(\"\\n\"*after, end=\"\")\n",
    "  print(\"----\")\n",
    "\n",
    "write(\"hello\")\n",
    "write(\"bonjour\", after=1)\n",
    "write(\"hola\", before=1)\n",
    "write(\"aloha\", before=1, after=1)\n",
    "```\n",
    "\n",
    "`````\n",
    "\n",
    "### Part 1.3: Mutable Defaults\n",
    "\n",
    "{{ leftcol }}\n",
    "\n",
    "Avoid using a {term}`mutable` object as a default value, since it is evaluated\n",
    "only once when the function is defined.\n",
    "\n",
    "{{ rightcol }}"
   ]
  },
  {
   "cell_type": "code",
   "execution_count": 5,
   "id": "5230a332",
   "metadata": {
    "class": "full-width"
   },
   "outputs": [],
   "source": [
    "def setup(project, options={}):\n",
    "    if \"title\" not in options:\n",
    "        options[\"title\"] = project\n",
    "    print(id(options), options)"
   ]
  },
  {
   "cell_type": "markdown",
   "id": "98915f29",
   "metadata": {},
   "source": [
    "{{ newrow }}\n",
    "\n",
    "Therefore any call that uses the default value will have the *exact same\n",
    "object*.\n",
    "\n",
    "{{ rightcol }}"
   ]
  },
  {
   "cell_type": "code",
   "execution_count": 6,
   "id": "6e25a494",
   "metadata": {
    "class": "full-width"
   },
   "outputs": [
    {
     "name": "stdout",
     "output_type": "stream",
     "text": [
      "140245994574144 {'title': 'home'}\n",
      "140245994574144 {'title': 'home'}\n",
      "140245994572928 {'title': 'School Work'}\n"
     ]
    }
   ],
   "source": [
    "setup(\"home\")\n",
    "setup(\"work\")\n",
    "setup(\"school\", {\"title\": \"School Work\"})"
   ]
  },
  {
   "cell_type": "markdown",
   "id": "493d6264",
   "metadata": {},
   "source": [
    "{{ newrow }}\n",
    "\n",
    "For mutable types, set the default value to `None`. Then in the body of the\n",
    "function, assign the value if the argument is {term}`falsy`.\n",
    "\n",
    "{{ rightcol }}"
   ]
  },
  {
   "cell_type": "code",
   "execution_count": 7,
   "id": "367e6db6",
   "metadata": {
    "class": "full-width"
   },
   "outputs": [],
   "source": [
    "def setup(project, options=None):\n",
    "    if not options:\n",
    "        options = {}\n",
    "    if \"title\" not in options:\n",
    "        options[\"title\"] = project\n",
    "    print(id(options), options)"
   ]
  },
  {
   "cell_type": "markdown",
   "id": "588190d0",
   "metadata": {},
   "source": [
    "{{ newrow }}\n",
    "\n",
    "This will ensure that every time the function is called, a new value is created\n",
    "and assigned.\n",
    "\n",
    "{{ rightcol }}"
   ]
  },
  {
   "cell_type": "code",
   "execution_count": 8,
   "id": "649bb9f7",
   "metadata": {
    "class": "full-width"
   },
   "outputs": [
    {
     "name": "stdout",
     "output_type": "stream",
     "text": [
      "140245994573888 {'title': 'home'}\n",
      "140245994555584 {'title': 'work'}\n",
      "140245994576512 {'title': 'School Work'}\n"
     ]
    }
   ],
   "source": [
    "setup(\"home\")\n",
    "setup(\"work\")\n",
    "setup(\"school\", {\"title\": \"School Work\"})"
   ]
  },
  {
   "cell_type": "markdown",
   "id": "7f819899",
   "metadata": {},
   "source": [
    "{{ newrow }}\n",
    "\n",
    "A shorthand for this is:\n",
    "\n",
    "{samp}`{NAME} = {NAME} or {DEFAULT}`\n",
    "\n",
    "{{ rightcol }}"
   ]
  },
  {
   "cell_type": "code",
   "execution_count": 9,
   "id": "ee4f893b",
   "metadata": {
    "class": "full-width"
   },
   "outputs": [],
   "source": [
    "def setup(project, options=None):\n",
    "    options = options or {}\n",
    "    if \"title\" not in options:\n",
    "        options[\"title\"] = project\n",
    "    print(id(options), options)"
   ]
  },
  {
   "cell_type": "markdown",
   "id": "c36d98f4",
   "metadata": {},
   "source": [
    "{{ newrow }}\n",
    "\n",
    "{{ rightcol }}"
   ]
  },
  {
   "cell_type": "code",
   "execution_count": 10,
   "id": "1eca1858",
   "metadata": {
    "class": "full-width"
   },
   "outputs": [
    {
     "name": "stdout",
     "output_type": "stream",
     "text": [
      "140245994561472 {'title': 'home'}\n",
      "140245994573568 {'title': 'work'}\n",
      "140245994576512 {'title': 'School Work'}\n"
     ]
    }
   ],
   "source": [
    "setup(\"home\")\n",
    "setup(\"work\")\n",
    "setup(\"school\", {\"title\": \"School Work\"})"
   ]
  },
  {
   "cell_type": "markdown",
   "id": "8dcad251",
   "metadata": {},
   "source": [
    "{{ endcols }}\n",
    "\n",
    "% ### Part 1.4: Exercise\n",
    "\n",
    "% `````{exercise} Mutable Defaults\n",
    "% :label: mutable-defaults-exercise\n",
    "\n",
    "% `````\n",
    "\n",
    "% `````{solution} mutable-defaults-exercise\n",
    "% :class: dropdown\n",
    "\n",
    "% ```{code-block} python\n",
    "% :caption: \"Mutable Defaults Exercise\"\n",
    "% :class: full-width\n",
    "% :linenos:\n",
    "\n",
    "% ```\n",
    "\n",
    "% `````\n",
    "\n",
    "Part 2: Arbitrary arguments\n",
    "---------------------------\n",
    "\n",
    "Sometimes you want a function to be able to take an arbitrary arguments. These\n",
    "are called {term}`variadic` arguments.\n",
    "\n",
    "### Part 2.1: Positional\n",
    "\n",
    "{{ leftcol }}\n",
    "\n",
    "This can be done with a single asterisk before a parameter name.  Any\n",
    "positional arguments will then be in a tuple with that name, in this case\n",
    "`args`.\n",
    "\n",
    "{{ rightcol }}"
   ]
  },
  {
   "cell_type": "code",
   "execution_count": 11,
   "id": "99fe7ea2",
   "metadata": {
    "class": "full-width"
   },
   "outputs": [],
   "source": [
    "def thing(*args):\n",
    "    print(args)\n",
    "    if args:\n",
    "      print(args[0])"
   ]
  },
  {
   "cell_type": "markdown",
   "id": "f6c0d968",
   "metadata": {},
   "source": [
    "{{ newrow }}\n",
    "\n",
    "You can then call it with no arguments...\n",
    "\n",
    "{{ rightcol }}"
   ]
  },
  {
   "cell_type": "code",
   "execution_count": 12,
   "id": "6514e3fd",
   "metadata": {
    "class": "full-width"
   },
   "outputs": [
    {
     "name": "stdout",
     "output_type": "stream",
     "text": [
      "()\n"
     ]
    }
   ],
   "source": [
    "thing()"
   ]
  },
  {
   "cell_type": "markdown",
   "id": "cc80b13b",
   "metadata": {},
   "source": [
    "{{ newrow }}\n",
    "\n",
    "One argument...\n",
    "\n",
    "{{ rightcol }}"
   ]
  },
  {
   "cell_type": "code",
   "execution_count": 13,
   "id": "4f70408d",
   "metadata": {
    "class": "full-width"
   },
   "outputs": [
    {
     "name": "stdout",
     "output_type": "stream",
     "text": [
      "('a',)\n",
      "a\n"
     ]
    }
   ],
   "source": [
    "thing(\"a\")"
   ]
  },
  {
   "cell_type": "markdown",
   "id": "46281d9d",
   "metadata": {},
   "source": [
    "{{ newrow }}\n",
    "\n",
    "Or any number of arguments...\n",
    "\n",
    "{{ rightcol }}"
   ]
  },
  {
   "cell_type": "code",
   "execution_count": 14,
   "id": "4bc7c085",
   "metadata": {
    "class": "full-width"
   },
   "outputs": [
    {
     "name": "stdout",
     "output_type": "stream",
     "text": [
      "('a', 'b', 'c', 'd', 'e')\n",
      "a\n"
     ]
    }
   ],
   "source": [
    "thing(\"a\", \"b\", \"c\", \"d\", \"e\")"
   ]
  },
  {
   "cell_type": "markdown",
   "id": "5f3032fd",
   "metadata": {},
   "source": [
    "{{ newrow }}\n",
    "\n",
    "If you mix positional arguments and variadic the positional arguments must\n",
    "be first in the function definition.\n",
    "\n",
    "{{ rightcol }}"
   ]
  },
  {
   "cell_type": "code",
   "execution_count": 15,
   "id": "5af11a66",
   "metadata": {
    "class": "full-width"
   },
   "outputs": [],
   "source": [
    "def thing(stuff, *args):\n",
    "    print(stuff, args)\n",
    "    if args:\n",
    "      print(args[0])"
   ]
  },
  {
   "cell_type": "markdown",
   "id": "bf2334c9",
   "metadata": {},
   "source": [
    "{{ newrow }}\n",
    "\n",
    "Arguments with default values go after `*args`.\n",
    "\n",
    "{{ rightcol }}"
   ]
  },
  {
   "cell_type": "code",
   "execution_count": 16,
   "id": "00955ff8",
   "metadata": {
    "class": "full-width"
   },
   "outputs": [],
   "source": [
    "def thing(stuff, *args, data=None):\n",
    "    print(stuff, args, data)\n",
    "    if args:\n",
    "      print(args[0])"
   ]
  },
  {
   "cell_type": "markdown",
   "id": "f4f0e17a",
   "metadata": {},
   "source": [
    "{{ newrow }}\n",
    "\n",
    "Note that when calling a function that like this you'll need to use\n",
    "{term}`keyword arguments` to specify the parameter name of any arguments with\n",
    "default values. If you send it as a positional argument, it will be part of\n",
    "`args`.\n",
    "\n",
    "{{ rightcol }}"
   ]
  },
  {
   "cell_type": "code",
   "execution_count": 17,
   "id": "11d2c767",
   "metadata": {
    "class": "full-width"
   },
   "outputs": [
    {
     "name": "stdout",
     "output_type": "stream",
     "text": [
      "abc ([1, 2, 3],) None\n",
      "[1, 2, 3]\n"
     ]
    }
   ],
   "source": [
    "thing(\"abc\", [1, 2, 3])"
   ]
  },
  {
   "cell_type": "code",
   "execution_count": 18,
   "id": "83e4861e",
   "metadata": {
    "class": "full-width"
   },
   "outputs": [
    {
     "name": "stdout",
     "output_type": "stream",
     "text": [
      "abc () [1, 2, 3]\n"
     ]
    }
   ],
   "source": [
    "thing(\"abc\", data=[1, 2, 3])"
   ]
  },
  {
   "cell_type": "markdown",
   "id": "dfc9be7f",
   "metadata": {},
   "source": [
    "{{ endcols }}\n",
    "\n",
    "### Part 2.1: Exercise\n",
    "\n",
    "`````{exercise} Arbitrary Positional Arguments\n",
    ":label: arbitrary-positional-exercise\n",
    "\n",
    "Modify your `write()` so that it takes an arbitrary number of positional\n",
    "arguments instead of message. It should converts all to strings then join them\n",
    "with a space between each before printing.\n",
    "\n",
    "**Example Usage**\n",
    "\n",
    "```python\n",
    ">>> write(\"abc\", 123)\n",
    "abc, 123\n",
    "----\n",
    "\n",
    "```\n",
    "\n",
    "`````\n",
    "\n",
    "`````{solution} arbitrary-positional-exercise\n",
    ":class: dropdown\n",
    "\n",
    "```{code-block} python\n",
    ":caption: \"Arbitrary Positional Arguments Exercise\"\n",
    ":class: full-width\n",
    ":linenos:\n",
    "\n",
    "def write(*args, before=0, after=0):\n",
    "    args = map(str, args)\n",
    "    message = \" \".join(args)\n",
    "\n",
    "    print(\"\\n\"*before, end=\"\")\n",
    "    print(message)\n",
    "    print(\"\\n\"*after, end=\"\")\n",
    "    print(\"----\")\n",
    "\n",
    "```\n",
    "\n",
    "`````\n",
    "\n",
    "\n",
    "### Part 2.2: Keyword\n",
    "\n",
    "{{ leftcol }}\n",
    "\n",
    "To take arbitrary keyword arguments, put two asterisks before a parameter name.\n",
    "\n",
    "{{ rightcol }}"
   ]
  },
  {
   "cell_type": "code",
   "execution_count": 19,
   "id": "26a70edf",
   "metadata": {
    "class": "full-width"
   },
   "outputs": [],
   "source": [
    "def thing(**kwargs):\n",
    "    print(kwargs)\n",
    "    if \"a\" in kwargs:\n",
    "        print(kwargs[\"a\"])"
   ]
  },
  {
   "cell_type": "markdown",
   "id": "e3584bf5",
   "metadata": {},
   "source": [
    "{{ newrow }}\n",
    "\n",
    "The keyword arguments will then be in a dictionary with that name, in this case\n",
    "`kwargs`.\n",
    "\n",
    "{{ rightcol }}"
   ]
  },
  {
   "cell_type": "code",
   "execution_count": 20,
   "id": "166bb4d1",
   "metadata": {
    "class": "full-width"
   },
   "outputs": [
    {
     "name": "stdout",
     "output_type": "stream",
     "text": [
      "{'a': 1, 'b': 2, 'c': 3}\n",
      "1\n"
     ]
    }
   ],
   "source": [
    "thing(a=1, b=2, c=3)"
   ]
  },
  {
   "cell_type": "markdown",
   "id": "e982619f",
   "metadata": {},
   "source": [
    "{{ newrow }}\n",
    "\n",
    "Variadic keyword arguments go after parameters with default values in the\n",
    "function definition.\n",
    "\n",
    "{{ rightcol }}"
   ]
  },
  {
   "cell_type": "code",
   "execution_count": 21,
   "id": "fac0d7c5",
   "metadata": {
    "class": "full-width"
   },
   "outputs": [],
   "source": [
    "def thing(stuff, *args, data=None, **kwargs):\n",
    "    print(stuff, args, data, kwargs)\n",
    "    if args:\n",
    "      print(args[0])"
   ]
  },
  {
   "cell_type": "markdown",
   "id": "319dd528",
   "metadata": {},
   "source": [
    "{{ endcols }}\n",
    "\n",
    "### Part 2.2: Exercise\n",
    "\n",
    "`````{exercise} Arbitrary Keyword Arguments\n",
    ":label: arbitrary-keyword-exercise\n",
    "\n",
    "Modify `write()` to also take arbitrary keyword arguments. Each keyword\n",
    "argument should be formatted into a string: {samp}`{NAME}={VALUE}`, then\n",
    "printed (along with any arguments) seperated by commas.\n",
    "\n",
    "**Example Usage**\n",
    "\n",
    "```python\n",
    ">>> write(\"abc\", 123, a=1, b=2.0, c=\"three\")\n",
    "abc 123 a=1 b=2.0 c='three'\n",
    "----\n",
    "\n",
    "```\n",
    "\n",
    "`````\n",
    "\n",
    "`````{solution} arbitrary-keyword-exercise\n",
    ":class: dropdown\n",
    "\n",
    "```{code-block} python\n",
    ":caption: \"Arbitrary Keyword Arguments Exercise\"\n",
    ":class: full-width\n",
    ":linenos:\n",
    "\n",
    "def write(*args, before=0, after=0, **kwargs):\n",
    "    args = [str(x) for x in args]\n",
    "    args += [f\"{k}={v!r}\" for k,v in kwargs.items()]\n",
    "    message = \" \".join(args)\n",
    "\n",
    "    print(\"\\n\"*before, end=\"\")\n",
    "    print(message)\n",
    "    print(\"\\n\"*after, end=\"\")\n",
    "    print(\"----\")\n",
    "\n",
    "```\n",
    "\n",
    "`````\n",
    "\n",
    "Part 3: Unpacking Arguments\n",
    "---------------------------\n",
    "\n",
    "Sometimes want a function to take arbitrary arguments, sometimes you want to\n",
    "send all of the values in a list or dictionary as arguments to a function. This\n",
    "is known as {term}`unpacking`.\n",
    "\n",
    "### Part 3.1: Sequences\n",
    "\n",
    "{{ leftcol }}\n",
    "\n",
    "To send all elements in a list, tuple, or other {term}`sequence`, put an asterisk\n",
    "before the object.\n",
    "\n",
    "{{ rightcol }}"
   ]
  },
  {
   "cell_type": "code",
   "execution_count": 22,
   "id": "c326114f",
   "metadata": {
    "class": "full-width"
   },
   "outputs": [
    {
     "name": "stdout",
     "output_type": "stream",
     "text": [
      "Garnet Amethyst Aquam Diamond Emerald\n"
     ]
    }
   ],
   "source": [
    "birth_stones = [\n",
    "    \"Garnet\",\n",
    "    \"Amethyst\",\n",
    "    \"Aquam\",\n",
    "    \"Diamond\",\n",
    "    \"Emerald\"\n",
    "]\n",
    "print(*birth_stones)"
   ]
  },
  {
   "cell_type": "markdown",
   "id": "a79b5280",
   "metadata": {},
   "source": [
    "{{ newrow }}\n",
    "\n",
    "You can unpack more than one sequence.\n",
    "\n",
    "{{ rightcol }}"
   ]
  },
  {
   "cell_type": "code",
   "execution_count": 23,
   "id": "b71a45dd",
   "metadata": {
    "class": "full-width"
   },
   "outputs": [
    {
     "name": "stdout",
     "output_type": "stream",
     "text": [
      "Garnet Amethyst Aquam Diamond Emerald Carnation Violet Jonquil Sweet Pea Lily\n"
     ]
    }
   ],
   "source": [
    "birth_stones = [\n",
    "    \"Garnet\",\n",
    "    \"Amethyst\",\n",
    "    \"Aquam\",\n",
    "    \"Diamond\",\n",
    "    \"Emerald\"\n",
    "]\n",
    "\n",
    "flowers = (\n",
    "    \"Carnation\",\n",
    "    \"Violet\",\n",
    "    \"Jonquil\",\n",
    "    \"Sweet Pea\",\n",
    "    \"Lily\"\n",
    ")\n",
    "print(*birth_stones, *flowers)"
   ]
  },
  {
   "cell_type": "markdown",
   "id": "288ae84f",
   "metadata": {},
   "source": [
    "{{ newrow }}\n",
    "\n",
    "All unpacked sequences must go before any keyword arguments.\n",
    "\n",
    "{{ rightcol }}"
   ]
  },
  {
   "cell_type": "code",
   "execution_count": 24,
   "id": "276675e5",
   "metadata": {
    "class": "full-width"
   },
   "outputs": [
    {
     "name": "stdout",
     "output_type": "stream",
     "text": [
      "Stones and flowers:\n",
      "Garnet\n",
      "Amethyst\n",
      "Aquam\n",
      "Diamond\n",
      "Emerald\n",
      "Carnation\n",
      "Violet\n",
      "Jonquil\n",
      "Sweet Pea\n",
      "Lily\n"
     ]
    }
   ],
   "source": [
    "birth_stones = [\n",
    "    \"Garnet\",\n",
    "    \"Amethyst\",\n",
    "    \"Aquam\",\n",
    "    \"Diamond\",\n",
    "    \"Emerald\"\n",
    "]\n",
    "\n",
    "flowers = (\n",
    "    \"Carnation\",\n",
    "    \"Violet\",\n",
    "    \"Jonquil\",\n",
    "    \"Sweet Pea\",\n",
    "    \"Lily\"\n",
    ")\n",
    "print(\"Stones and flowers:\", *birth_stones, *flowers, sep=\"\\n\")"
   ]
  },
  {
   "cell_type": "markdown",
   "id": "63921d65",
   "metadata": {},
   "source": [
    "{{ endcols }}\n",
    "\n",
    "### Part 3.1: Exercise\n",
    "\n",
    "`````{exercise} Unpacking Sequences\n",
    ":label: unpacking-sequences-exercise\n",
    "\n",
    "Make a list of cities you've lived in. Print them by unpacking the list as\n",
    "arguments to the `print()` function. Bonus: Mix with positional and keyword\n",
    "arguments.\n",
    "\n",
    "`````\n",
    "\n",
    "`````{solution} unpacking-sequences-exercise\n",
    ":class: dropdown\n",
    "\n",
    "```{code-block} python\n",
    ":caption: \"Unpacking Sequences Exercise\"\n",
    ":class: full-width\n",
    ":linenos:\n",
    "\n",
    "cities = [\n",
    "    \"Oceanside, CA\",\n",
    "    \"San Francisco, CA\",\n",
    "    \"Lafayette, CA\",\n",
    "    \"Denver, CO\",\n",
    "]\n",
    "\n",
    "print(*cities)\n",
    "print(\"Cities I've lived in:\", *cities, sep=\"\\n\")\n",
    "\n",
    "```\n",
    "\n",
    "`````\n",
    "\n",
    "### Part 3.1: Mappings\n",
    "\n",
    "{{ leftcol }}\n",
    "\n",
    "To send all elements of a dictionary as {term}`keyword arguments`, put two\n",
    "asterisks before the dictionary.\n",
    "\n",
    "{{ rightcol }}"
   ]
  },
  {
   "cell_type": "code",
   "execution_count": 25,
   "id": "ab916bd9",
   "metadata": {
    "class": "full-width"
   },
   "outputs": [
    {
     "name": "stdout",
     "output_type": "stream",
     "text": [
      "Hex Color: #21abcd is RGB: (33, 171, 205)\n"
     ]
    }
   ],
   "source": [
    "def show(red, green, blue, hex_code):\n",
    "    print(f\"Hex Color: #{hex_code} is RGB: ({red}, {green}, {blue})\")\n",
    "\n",
    "color = {\n",
    "  \"hex_code\": \"21abcd\",\n",
    "  \"red\": 33,\n",
    "  \"green\": 171,\n",
    "  \"blue\": 205,\n",
    "}\n",
    "\n",
    "show(**color)"
   ]
  },
  {
   "cell_type": "markdown",
   "id": "dd59ca9f",
   "metadata": {},
   "source": [
    "{{ newrow }}\n",
    "\n",
    "As with unpacking sequences, you can unpack multiple dictionaries.\n",
    "\n",
    "{{ rightcol }}"
   ]
  },
  {
   "cell_type": "code",
   "execution_count": 26,
   "id": "b4102f02",
   "metadata": {
    "class": "full-width"
   },
   "outputs": [
    {
     "name": "stdout",
     "output_type": "stream",
     "text": [
      "Hex Color: #21abcd is RGB: (33, 171, 205)\n"
     ]
    }
   ],
   "source": [
    "color = {\n",
    "  \"hex_code\": \"21abcd\",\n",
    "}\n",
    "\n",
    "rgb = {\n",
    "  \"red\": 33,\n",
    "  \"green\": 171,\n",
    "  \"blue\": 205,\n",
    "}\n",
    "\n",
    "show(**color, **rgb)"
   ]
  },
  {
   "cell_type": "markdown",
   "id": "eb328e21",
   "metadata": {},
   "source": [
    "{{ newrow }}\n",
    "\n",
    "The unpacked keyword arguments must go after any positional arguments.\n",
    "\n",
    "{{ rightcol }}"
   ]
  },
  {
   "cell_type": "code",
   "execution_count": 27,
   "id": "a74c4474",
   "metadata": {
    "class": "full-width"
   },
   "outputs": [
    {
     "name": "stdout",
     "output_type": "stream",
     "text": [
      "Hex Color: ##FF0000 is RGB: (255, 0, 0)\n"
     ]
    }
   ],
   "source": [
    "color = {\n",
    "    \"green\": 0,\n",
    "    \"blue\": 0,\n",
    "}\n",
    "\n",
    "show(255, **color, hex_code=\"#FF0000\")"
   ]
  },
  {
   "cell_type": "markdown",
   "id": "45f8855b",
   "metadata": {},
   "source": [
    "{{ endcols }}\n",
    "\n",
    "### Part 3.2: Exercise\n",
    "\n",
    "`````{exercise} Unpacking Mappings\n",
    ":label: unpacking-mappings-exercise\n",
    "\n",
    "Make a dictionary called `options` that includes some of the values for `sep`,\n",
    "`end` or `file`. Unpack `options` it as arguments to `print()` after printing\n",
    "your previous list of cities.\n",
    "\n",
    "`````\n",
    "\n",
    "`````{solution} unpacking-mappings-exercise\n",
    ":class: dropdown\n",
    "\n",
    "```{code-block} python\n",
    ":caption: \"Unpacking Mappings Exercise\"\n",
    ":class: full-width\n",
    ":linenos:\n",
    "\n",
    "options = {\"sep\": \"; \", \"end\": \"\\n\\n\"}\n",
    "print(*cities, **options)\n",
    "\n",
    "```\n",
    "\n",
    "`````\n",
    "\n",
    "Part 4: Annotations\n",
    "-------------------\n",
    "\n",
    "Python provides a syntax for documenting the type of various values called\n",
    "annotations. While annotations have no effect on how a function behaves, it can\n",
    "be helpful in clarifying the intended usage.\n",
    "\n",
    "### Part 4.1: Parameter Hints\n",
    "\n",
    "{{ leftcol }}\n",
    "\n",
    "You can specify the expected type of each parameter by adding a colon after the\n",
    "parameter name, followed by the type.\n",
    "\n",
    "{{ rightcol }}\n",
    "\n",
    "```{code-block-hl} python\n",
    ":class: full-width\n",
    "\n",
    "def debug(message!!!: str!!!):\n",
    "    print(message)\n",
    "```\n",
    "\n",
    "{{ endcols }}\n",
    "\n",
    "### Part 4.2: Variable Hints\n",
    "\n",
    "{{ leftcol }}\n",
    "\n",
    "Incidentally, you can specify the type of a particular variable the same\n",
    "way.\n",
    "\n",
    "{{ rightcol }}\n",
    "\n",
    "```{code-block-hl} python\n",
    ":class: full-width\n",
    "\n",
    "maximum!!!: int!!! = 100\n",
    "name!!!: str!!!\n",
    "```\n",
    "\n",
    "{{ endcols }}\n",
    "\n",
    "### Part 4.3: Return hints\n",
    "\n",
    "{{ leftcol }}\n",
    "\n",
    "You can specify the type of any returned value by adding `->` followed by the\n",
    "type before the colon.\n",
    "\n",
    "{{ rightcol }}\n",
    "\n",
    "```{code-block-hl} python\n",
    ":class: full-width\n",
    "\n",
    "from random import randint\n",
    "\n",
    "def random(limit: int=10) !!!-> int!!!:\n",
    "    return randint(1, limit)\n",
    "```\n",
    "\n",
    "{{ endcols }}\n",
    "\n",
    "Be aware that is strictly documentation. An annotation does not change or\n",
    "enforce the type of a given value.\n",
    "\n",
    "### Part 4.4: Exercise\n",
    "\n",
    "`````{exercise} Annotations\n",
    ":label: annotations-exercise\n",
    "\n",
    "Write a function `get_keys()` that takes two arguments: `source` (dict) and\n",
    "`keys` (list).  It should return a dictionary containing all key value pairs\n",
    "from `source` for keys in `keys`.\n",
    "\n",
    "Annotate both the parameters and return value.\n",
    "\n",
    "** Example Usage**\n",
    "\n",
    "```{code-block} python\n",
    ":class: full-width\n",
    ":linenos:\n",
    "\n",
    ">>> import string\n",
    ">>> alpha = dict(zip(string.ascii_lowercase, range(1, 27)))\n",
    "\n",
    ">>> get_keys(alpha, [\"x\", \"y\", \"x\"])\n",
    "{'x': 24, 'y': 25, 'z': 26}\n",
    "```\n",
    "\n",
    "`````\n",
    "\n",
    "`````{solution} annotations-exercise\n",
    ":class: dropdown\n",
    "\n",
    "```{code-block} python\n",
    ":caption: \"Annotations Exercise\"\n",
    ":class: full-width\n",
    ":linenos:\n",
    "\n",
    "def get_keys(source: dict, keys: list) -> dict:\n",
    "     return {k: source.get(k) for k in keys}\n",
    "```\n",
    "\n",
    "`````\n",
    "\n",
    "Part 5: Lambdas\n",
    "---------------\n",
    "\n",
    "Python provides an inline syntax for short functions that return the results of\n",
    "a single expression called {term}`lambdas <lambda>`.\n",
    "\n",
    "{{ leftcol }}\n",
    "\n",
    "```{code-block-hl} python\n",
    ":class: full-width\n",
    "\n",
    "def random():\n",
    "    return !!!randint(1, 100)!!!\n",
    "```\n",
    "\n",
    "{{ rightcol }}\n",
    "\n",
    "```{code-block-hl} python\n",
    ":class: full-width\n",
    "\n",
    "random = lambda: !!!randint(1, 100)!!!\n",
    "```\n",
    "\n",
    "{{ newrow }}\n",
    "\n",
    "```{code-block-hl} python\n",
    ":class: full-width\n",
    "\n",
    "def random(!!!limit!!!):\n",
    "    return !!!randint(1, limit)!!!\n",
    "```\n",
    "\n",
    "{{ rightcol }}\n",
    "\n",
    "```{code-block-hl} python\n",
    ":class: full-width\n",
    "\n",
    "random = lambda !!!limit!!!: !!!randint(1, limit)!!!\n",
    "```\n",
    "\n",
    "{{ endcols }}\n",
    "\n",
    "% TODO\n",
    "% [ ] defaults\n",
    "% [ ] sort\n",
    "\n",
    "Part 6: Shorthand\n",
    "-----------------\n",
    "\n",
    "It is possible, though not recommended, to write a function (or any other\n",
    "compound statement) all on one line, assuming that it contains a single line.\n",
    "\n",
    "The following two functions are equivalent.\n",
    "\n",
    "{{ leftcol }}\n",
    "\n",
    "```{code-block} python\n",
    ":class: full-width\n",
    ":linenos:\n",
    "\n",
    "def hello():\n",
    "  print(\"hello\")\n",
    "\n",
    "```\n",
    "\n",
    "{{ rightcol }}\n",
    "\n",
    "```{code-block} python\n",
    ":class: full-width\n",
    ":linenos:\n",
    "\n",
    "def hello(): print(\"hello\")\n",
    "\n",
    "```\n",
    "\n",
    "{{ endcols }}\n",
    "\n",
    "Reference\n",
    "---------\n",
    "\n",
    "### Glossary\n",
    "\n",
    "```{glossary} functions\n",
    "variadic\n",
    "variadic arguments\n",
    "    When any number of arguments may be passed to a function or method.\n",
    "\n",
    "annotations\n",
    "type hints\n",
    "  Syntax for specifying the type of a variable, class attribute, function\n",
    "  parameter or return value.\n",
    "\n",
    "lambda\n",
    "  An anonymous inline function consisting of a single expression.\n",
    "\n",
    "unpacking\n",
    "unpacking arguments\n",
    "  Sending all elements in a collection as arguments to a function call.\n",
    "```\n",
    "\n",
    "### See Also\n",
    "\n",
    "```{seealso}\n",
    "\n",
    "* [python.org > Tutorial > More on Defining Functions](https://docs.python.org/3/tutorial/controlflow.html#more-on-defining-functions)\n",
    "* [python.org > Tutorial > Lambda Expressions](https://docs.python.org/3/tutorial/controlflow.html#lambda-expressions)\n",
    "* [python.org > Tutorial > Function Annotations](https://docs.python.org/3/tutorial/controlflow.html#function-annotations)\n",
    "* [python.org > Glossary > type hint](https://docs.python.org/3/glossary.html#term-type-hint)\n",
    "* [Defining Your Own Python Function](https://realpython.com/defining-your-own-python-function/)\n",
    "\n",
    "```\n",
    "\n",
    "\n",
    "\n",
    "% TODO\n",
    "% [ ] `/`: positional only\n",
    "% [ ] `*`: keyword only\n",
    "% [ ] unpacking: *args\n",
    "% [ ] unpacking: **kwargs\n",
    "% [ ] decorators\n",
    "% [ ] recursive functions\n",
    "% [ ] sending functions as arguments\n",
    "% [ ] return multiple values\n",
    "% [x] default arguments\n",
    "%     [x] note about mutable types ie `def x(y=[])`\n",
    "%     [x] order of default args\n",
    "% [x] annotations\n",
    "% [x] one line functions\n",
    "% [x] lambda"
   ]
  }
 ],
 "metadata": {
  "depth": 2,
  "jupytext": {
   "formats": "md:myst",
   "text_representation": {
    "extension": ".md",
    "format_name": "myst"
   }
  },
  "kernelspec": {
   "display_name": "Python 3",
   "language": "python",
   "name": "python3"
  },
  "language_info": {
   "codemirror_mode": {
    "name": "ipython",
    "version": 3
   },
   "file_extension": ".py",
   "mimetype": "text/x-python",
   "name": "python",
   "nbconvert_exporter": "python",
   "pygments_lexer": "ipython3",
   "version": "3.8.12"
  },
  "source_map": [
   12,
   42,
   46,
   54,
   57,
   65,
   68,
   77,
   81,
   134,
   141,
   150,
   155,
   164,
   172,
   181,
   186,
   196,
   203,
   209,
   214,
   253,
   260,
   268,
   271,
   279,
   282,
   290,
   293,
   302,
   309,
   317,
   324,
   335,
   341,
   345,
   399,
   405,
   414,
   417,
   426,
   433,
   495,
   505,
   513,
   531,
   539,
   557,
   603,
   616,
   624,
   638,
   646,
   654
  ]
 },
 "nbformat": 4,
 "nbformat_minor": 5
}