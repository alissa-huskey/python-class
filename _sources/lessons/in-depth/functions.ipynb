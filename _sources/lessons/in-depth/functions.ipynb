{
 "cells": [
  {
   "cell_type": "markdown",
   "id": "d945814d",
   "metadata": {},
   "source": [
    "Functions\n",
    "=========\n",
    "\n",
    "In this lesson you'll learn about some slightly more advanced or obscure\n",
    "function writing.\n",
    "\n",
    ":::{important}\n",
    "\n",
    "Be sure to complete the fundamentals [](../functions.md) lesson first.\n",
    "\n",
    ":::\n",
    "\n",
    "```{contents} Table of Contents\n",
    ":backlinks: top\n",
    ":local:\n",
    ":depth: 2\n",
    "```\n",
    "\n",
    "Part 1: Optional arguments\n",
    "--------------------------\n",
    "\n",
    "### Part 1.1: Default Values\n",
    "\n",
    "{{ leftcol }}\n",
    "\n",
    "You can make an argument optional by giving it a default value.\n",
    "\n",
    "{{ rightcol }}"
   ]
  },
  {
   "cell_type": "code",
   "execution_count": 1,
   "id": "6a9d7665",
   "metadata": {
    "class": "full-width"
   },
   "outputs": [],
   "source": [
    "def hr(width=20):\n",
    "    print(\"-\" * width)"
   ]
  },
  {
   "cell_type": "markdown",
   "id": "114537a3",
   "metadata": {},
   "source": [
    "{{ newrow }}\n",
    "\n",
    "When you call the function, you can pass an arguent as you normally would.\n",
    "\n",
    "{{ rightcol }}"
   ]
  },
  {
   "cell_type": "code",
   "execution_count": 2,
   "id": "0bda66f6",
   "metadata": {
    "class": "full-width"
   },
   "outputs": [
    {
     "name": "stdout",
     "output_type": "stream",
     "text": [
      "----------\n"
     ]
    }
   ],
   "source": [
    "hr(10)"
   ]
  },
  {
   "cell_type": "markdown",
   "id": "5bf32c0c",
   "metadata": {},
   "source": [
    "{{ newrow }}\n",
    "\n",
    "Or skip the argument to use the default value.\n",
    "\n",
    "{{ rightcol }}"
   ]
  },
  {
   "cell_type": "code",
   "execution_count": 3,
   "id": "7d44531a",
   "metadata": {
    "class": "full-width"
   },
   "outputs": [
    {
     "name": "stdout",
     "output_type": "stream",
     "text": [
      "--------------------\n"
     ]
    }
   ],
   "source": [
    "hr()"
   ]
  },
  {
   "cell_type": "markdown",
   "id": "f890cf3f",
   "metadata": {},
   "source": [
    "{{ newrow }}\n",
    "\n",
    "Any parameters without default values have to go before any with default\n",
    "values.\n",
    "\n",
    "{{ rightcol }}"
   ]
  },
  {
   "cell_type": "code",
   "execution_count": 4,
   "id": "ea0cd4e8",
   "metadata": {
    "class": "full-width"
   },
   "outputs": [],
   "source": [
    "def hr(char, width=20):\n",
    "    print(char * width)"
   ]
  },
  {
   "cell_type": "markdown",
   "id": "ac8d8f1a",
   "metadata": {},
   "source": [
    "{{ endcols }}\n",
    "\n",
    "### Part 1.2: Exercise\n",
    "\n",
    "`````{exercise} Defaults\n",
    ":label: defaults-exercise\n",
    "\n",
    "Define a function `write()` that takes three arguments:\n",
    "\n",
    "* `message`\n",
    "* `before` with a default of `0`\n",
    "* `after` with a default of `0`\n",
    "\n",
    "The function should print `message` with the specified number of blank lines\n",
    "`before` and `after`, then print the string `\"----\"` at the end.\n",
    "\n",
    "Call it with all variations of missing and present default arguments.\n",
    "\n",
    "`````\n",
    "\n",
    "`````{solution} defaults-exercise\n",
    ":class: dropdown\n",
    "\n",
    "```{code-block} python\n",
    ":caption: \"Defaults Exercise\"\n",
    ":class: full-width\n",
    ":linenos:\n",
    "\n",
    "def write(message, before=0, after=0):\n",
    "  print(\"\\n\"*before, end=\"\")\n",
    "  print(message)\n",
    "  print(\"\\n\"*after, end=\"\")\n",
    "  print(\"----\")\n",
    "\n",
    "write(\"hello\")\n",
    "write(\"bonjour\", after=1)\n",
    "write(\"hola\", before=1)\n",
    "write(\"aloha\", before=1, after=1)\n",
    "```\n",
    "\n",
    "`````\n",
    "\n",
    "### Part 1.3: Mutable Defaults\n",
    "\n",
    "{{ leftcol }}\n",
    "\n",
    "Avoid using a {term}`mutable` object as a default value, since it is evaluated\n",
    "only once when the function is defined.\n",
    "\n",
    "{{ rightcol }}"
   ]
  },
  {
   "cell_type": "code",
   "execution_count": 5,
   "id": "53bf07d0",
   "metadata": {
    "class": "full-width"
   },
   "outputs": [],
   "source": [
    "def setup(project, options={}):\n",
    "    if \"title\" not in options:\n",
    "        options[\"title\"] = project\n",
    "    print(id(options), options)"
   ]
  },
  {
   "cell_type": "markdown",
   "id": "28d81bf8",
   "metadata": {},
   "source": [
    "{{ newrow }}\n",
    "\n",
    "Therefore any call that uses the default value will have the *exact same\n",
    "object*.\n",
    "\n",
    "{{ rightcol }}"
   ]
  },
  {
   "cell_type": "code",
   "execution_count": 6,
   "id": "97021752",
   "metadata": {
    "class": "full-width"
   },
   "outputs": [
    {
     "name": "stdout",
     "output_type": "stream",
     "text": [
      "140097286336576 {'title': 'home'}\n",
      "140097286336576 {'title': 'home'}\n",
      "140097538362304 {'title': 'School Work'}\n"
     ]
    }
   ],
   "source": [
    "setup(\"home\")\n",
    "setup(\"work\")\n",
    "setup(\"school\", {\"title\": \"School Work\"})"
   ]
  },
  {
   "cell_type": "markdown",
   "id": "006d4c46",
   "metadata": {},
   "source": [
    "{{ newrow }}\n",
    "\n",
    "For mutable types, set the default value to `None`. Then in the body of the\n",
    "function, assign the value if the argument is {term}`falsy`.\n",
    "\n",
    "{{ rightcol }}"
   ]
  },
  {
   "cell_type": "code",
   "execution_count": 7,
   "id": "ba04b895",
   "metadata": {
    "class": "full-width"
   },
   "outputs": [],
   "source": [
    "def setup(project, options=None):\n",
    "    if not options:\n",
    "        options = {}\n",
    "    if \"title\" not in options:\n",
    "        options[\"title\"] = project\n",
    "    print(id(options), options)"
   ]
  },
  {
   "cell_type": "markdown",
   "id": "1f674161",
   "metadata": {},
   "source": [
    "{{ newrow }}\n",
    "\n",
    "This will ensure that every time the function is called, a new value is created\n",
    "and assigned.\n",
    "\n",
    "{{ rightcol }}"
   ]
  },
  {
   "cell_type": "code",
   "execution_count": 8,
   "id": "1709b782",
   "metadata": {
    "class": "full-width"
   },
   "outputs": [
    {
     "name": "stdout",
     "output_type": "stream",
     "text": [
      "140097286339904 {'title': 'home'}\n",
      "140097286327616 {'title': 'work'}\n",
      "140097286340544 {'title': 'School Work'}\n"
     ]
    }
   ],
   "source": [
    "setup(\"home\")\n",
    "setup(\"work\")\n",
    "setup(\"school\", {\"title\": \"School Work\"})"
   ]
  },
  {
   "cell_type": "markdown",
   "id": "7cc040c9",
   "metadata": {},
   "source": [
    "{{ newrow }}\n",
    "\n",
    "A shorthand for this is:\n",
    "\n",
    "{samp}`{NAME} = {NAME} or {DEFAULT}`\n",
    "\n",
    "{{ rightcol }}"
   ]
  },
  {
   "cell_type": "code",
   "execution_count": 9,
   "id": "36032a57",
   "metadata": {
    "class": "full-width"
   },
   "outputs": [],
   "source": [
    "def setup(project, options=None):\n",
    "    options = options or {}\n",
    "    if \"title\" not in options:\n",
    "        options[\"title\"] = project\n",
    "    print(id(options), options)"
   ]
  },
  {
   "cell_type": "markdown",
   "id": "9471b2ae",
   "metadata": {},
   "source": [
    "{{ newrow }}\n",
    "\n",
    "{{ rightcol }}"
   ]
  },
  {
   "cell_type": "code",
   "execution_count": 10,
   "id": "3edc54c3",
   "metadata": {
    "class": "full-width"
   },
   "outputs": [
    {
     "name": "stdout",
     "output_type": "stream",
     "text": [
      "140097286356800 {'title': 'home'}\n",
      "140097286339008 {'title': 'work'}\n",
      "140097286326272 {'title': 'School Work'}\n"
     ]
    }
   ],
   "source": [
    "setup(\"home\")\n",
    "setup(\"work\")\n",
    "setup(\"school\", {\"title\": \"School Work\"})"
   ]
  },
  {
   "cell_type": "markdown",
   "id": "ce75a635",
   "metadata": {},
   "source": [
    "{{ endcols }}\n",
    "\n",
    "% ### Part 1.4: Exercise\n",
    "\n",
    "% `````{exercise} Mutable Defaults\n",
    "% :label: mutable-defaults-exercise\n",
    "\n",
    "% `````\n",
    "\n",
    "% `````{solution} mutable-defaults-exercise\n",
    "% :class: dropdown\n",
    "\n",
    "% ```{code-block} python\n",
    "% :caption: \"Mutable Defaults Exercise\"\n",
    "% :class: full-width\n",
    "% :linenos:\n",
    "\n",
    "% ```\n",
    "\n",
    "% `````\n",
    "\n",
    "Part 2: Arbitrary arguments\n",
    "---------------------------\n",
    "\n",
    "Sometimes you want a function to be able to take an arbitrary arguments. These\n",
    "are called {term}`variadic` arguments.\n",
    "\n",
    "### Part 2.1: Positional\n",
    "\n",
    "{{ leftcol }}\n",
    "\n",
    "This can be done with a single asterisk before a parameter name.  Any\n",
    "positional arguments will then be in a tuple with that name, in this case\n",
    "`args`.\n",
    "\n",
    "{{ rightcol }}"
   ]
  },
  {
   "cell_type": "code",
   "execution_count": 11,
   "id": "80fec37d",
   "metadata": {
    "class": "full-width"
   },
   "outputs": [],
   "source": [
    "def thing(*args):\n",
    "    print(args)\n",
    "    if args:\n",
    "      print(args[0])"
   ]
  },
  {
   "cell_type": "markdown",
   "id": "f674925f",
   "metadata": {},
   "source": [
    "{{ newrow }}\n",
    "\n",
    "You can then call it with no arguments...\n",
    "\n",
    "{{ rightcol }}"
   ]
  },
  {
   "cell_type": "code",
   "execution_count": 12,
   "id": "f3a14bfc",
   "metadata": {
    "class": "full-width"
   },
   "outputs": [
    {
     "name": "stdout",
     "output_type": "stream",
     "text": [
      "()\n"
     ]
    }
   ],
   "source": [
    "thing()"
   ]
  },
  {
   "cell_type": "markdown",
   "id": "7a76a212",
   "metadata": {},
   "source": [
    "{{ newrow }}\n",
    "\n",
    "One argument...\n",
    "\n",
    "{{ rightcol }}"
   ]
  },
  {
   "cell_type": "code",
   "execution_count": 13,
   "id": "638d5869",
   "metadata": {
    "class": "full-width"
   },
   "outputs": [
    {
     "name": "stdout",
     "output_type": "stream",
     "text": [
      "('a',)\n",
      "a\n"
     ]
    }
   ],
   "source": [
    "thing(\"a\")"
   ]
  },
  {
   "cell_type": "markdown",
   "id": "1e28fa13",
   "metadata": {},
   "source": [
    "{{ newrow }}\n",
    "\n",
    "Or any number of arguments...\n",
    "\n",
    "{{ rightcol }}"
   ]
  },
  {
   "cell_type": "code",
   "execution_count": 14,
   "id": "1c2e9668",
   "metadata": {
    "class": "full-width"
   },
   "outputs": [
    {
     "name": "stdout",
     "output_type": "stream",
     "text": [
      "('a', 'b', 'c', 'd', 'e')\n",
      "a\n"
     ]
    }
   ],
   "source": [
    "thing(\"a\", \"b\", \"c\", \"d\", \"e\")"
   ]
  },
  {
   "cell_type": "markdown",
   "id": "70738aa1",
   "metadata": {},
   "source": [
    "{{ endcols }}\n",
    "\n",
    "### Part 2.2: Keyword\n",
    "\n",
    "{{ leftcol }}\n",
    "\n",
    "To take arbitrary keyword arguments, put two astricks before a paramater name.\n",
    "The keyword arguments will then be in a dictionary with that name, in this case\n",
    "`kwargs`.\n",
    "\n",
    "{{ rightcol }}"
   ]
  },
  {
   "cell_type": "code",
   "execution_count": 15,
   "id": "d5d91dd6",
   "metadata": {
    "class": "full-width"
   },
   "outputs": [],
   "source": [
    "def thing(**kwargs):\n",
    "    print(kwargs)\n",
    "    if \"a\" in kwargs:\n",
    "        print(kwargs[\"a\"])"
   ]
  },
  {
   "cell_type": "markdown",
   "id": "286ca0df",
   "metadata": {},
   "source": [
    "{{ newrow }}\n",
    "\n",
    "Then any keyword arguments will be in a dictionary with that name.\n",
    "\n",
    "{{ rightcol }}"
   ]
  },
  {
   "cell_type": "code",
   "execution_count": 16,
   "id": "9fd45b75",
   "metadata": {
    "class": "full-width"
   },
   "outputs": [
    {
     "name": "stdout",
     "output_type": "stream",
     "text": [
      "{'a': 1, 'b': 2, 'c': 3}\n",
      "1\n"
     ]
    }
   ],
   "source": [
    "thing(a=1, b=2, c=3)"
   ]
  },
  {
   "cell_type": "markdown",
   "id": "15ae29cb",
   "metadata": {},
   "source": [
    "{{ endcols }}\n",
    "\n",
    "Part 3: Unpacking Arguments\n",
    "---------------------------\n",
    "\n",
    "Sometimes want a function to take arbitrary arguments, sometimes you want to\n",
    "send all of the values in a list or dictionary as arguments to a function. This\n",
    "is known as {term}`unpacking`.\n",
    "\n",
    "### Part 3.1: Calling\n",
    "\n",
    "{{ leftcol }}\n",
    "\n",
    "To send all elements in a list, tuple, or other {term}`sequence`, put an astrisk\n",
    "before the object.\n",
    "\n",
    "{{ rightcol }}"
   ]
  },
  {
   "cell_type": "code",
   "execution_count": 17,
   "id": "118dcb80",
   "metadata": {
    "class": "full-width"
   },
   "outputs": [
    {
     "name": "stdout",
     "output_type": "stream",
     "text": [
      "Garnet Amethyst Aquam Diamond Emerald\n"
     ]
    }
   ],
   "source": [
    "birth_stones = [\n",
    "    \"Garnet\",\n",
    "    \"Amethyst\",\n",
    "    \"Aquam\",\n",
    "    \"Diamond\",\n",
    "    \"Emerald\"\n",
    "]\n",
    "print(*birth_stones)"
   ]
  },
  {
   "cell_type": "markdown",
   "id": "a41152b3",
   "metadata": {},
   "source": [
    "{{ newrow }}\n",
    "\n",
    "To send all elements of a dictionary as {term}`keyword arguments`, put two\n",
    "astricts before the dictionary.\n",
    "\n",
    "{{ rightcol }}"
   ]
  },
  {
   "cell_type": "code",
   "execution_count": 18,
   "id": "3dafbcd8",
   "metadata": {
    "class": "full-width"
   },
   "outputs": [
    {
     "name": "stdout",
     "output_type": "stream",
     "text": [
      "Hex Color: #21abcd is RGB: (33, 171, 205)\n"
     ]
    }
   ],
   "source": [
    "def show(red, green, blue, hex_code):\n",
    "    print(f\"Hex Color: #{hex_code} is RGB: ({red}, {green}, {blue})\")\n",
    "\n",
    "color = {\n",
    "  \"hex_code\": \"21abcd\",\n",
    "  \"red\": 33,\n",
    "  \"green\": 171,\n",
    "  \"blue\": 205,\n",
    "}\n",
    "\n",
    "show(**color)"
   ]
  },
  {
   "cell_type": "markdown",
   "id": "8ead0f1f",
   "metadata": {},
   "source": [
    "{{ endcols }}\n",
    "\n",
    "% ### Part 3.2: Exercises\n",
    "\n",
    "% TODO\n",
    "% [ ] order of positional, kwargs, unpacked args\n",
    "\n",
    "\n",
    "\n",
    "Part 4: Annotations\n",
    "-------------------\n",
    "\n",
    "Python provides a syntax for documenting the type of various values called\n",
    "annotations. While annotations have no effect on how a function behaves, it can\n",
    "be helpful in clarifying the intended usage.\n",
    "\n",
    "### Part 4.1: Parameter Hints\n",
    "\n",
    "{{ leftcol }}\n",
    "\n",
    "You can specify the expected type of each parameter by adding a colon after the\n",
    "parameter name, followed by the type.\n",
    "\n",
    "{{ rightcol }}\n",
    "\n",
    "```{code-block-hl} python\n",
    ":class: full-width\n",
    "\n",
    "def debug(message!!!: str!!!):\n",
    "    print(message)\n",
    "```\n",
    "\n",
    "{{ endcols }}\n",
    "\n",
    "### Part 4.2: Variable Hints\n",
    "\n",
    "{{ leftcol }}\n",
    "\n",
    "Incidentally, you can specify the the type of a particular variable the same\n",
    "way.\n",
    "\n",
    "{{ rightcol }}\n",
    "\n",
    "```{code-block-hl} python\n",
    ":class: full-width\n",
    "\n",
    "maximum!!!: int!!! = 100\n",
    "name!!!: str!!!\n",
    "```\n",
    "\n",
    "{{ endcols }}\n",
    "\n",
    "### Part 4.3: Return hints\n",
    "\n",
    "{{ leftcol }}\n",
    "\n",
    "You can specify the type of any returned value by adding `->` followed by the\n",
    "type before the colon.\n",
    "\n",
    "{{ rightcol }}\n",
    "\n",
    "```{code-block-hl} python\n",
    ":class: full-width\n",
    "\n",
    "from random import randint\n",
    "\n",
    "def random(limit: int=10) !!!-> int!!!:\n",
    "    return randint(1, limit)\n",
    "```\n",
    "\n",
    "{{ endcols }}\n",
    "\n",
    "Be aware that is strictly documentation. An annotation does not change or\n",
    "enforce a the type of a given value.\n",
    "\n",
    "Part 5: Lambdas\n",
    "---------------\n",
    "\n",
    "Python provides an inline syntax for short functions that return the results of\n",
    "a single expression called {term}`lambdas <lambda>`.\n",
    "\n",
    "{{ leftcol }}\n",
    "\n",
    "```{code-block-hl} python\n",
    ":class: full-width\n",
    "\n",
    "def random():\n",
    "    return !!!randint(1, 100)!!!\n",
    "```\n",
    "\n",
    "{{ rightcol }}\n",
    "\n",
    "```{code-block-hl} python\n",
    ":class: full-width\n",
    "\n",
    "random = lambda: !!!randint(1, 100)!!!\n",
    "```\n",
    "\n",
    "{{ newrow }}\n",
    "\n",
    "```{code-block-hl} python\n",
    ":class: full-width\n",
    "\n",
    "def random(!!!limit!!!):\n",
    "    return !!!randint(1, limit)!!!\n",
    "```\n",
    "\n",
    "{{ rightcol }}\n",
    "\n",
    "```{code-block-hl} python\n",
    ":class: full-width\n",
    "\n",
    "random = lambda !!!limit!!!: !!!randint(1, limit)!!!\n",
    "```\n",
    "\n",
    "{{ endcols }}\n",
    "\n",
    "% TODO\n",
    "% [ ] defaults\n",
    "% [ ] sort\n",
    "\n",
    "Part 6: Shorthand\n",
    "-----------------\n",
    "\n",
    "It is possible, though not recommended, to write a function (or any other\n",
    "compound statement) all on one line, assuming that it contains a single line.\n",
    "\n",
    "The following two functions are equilivant.\n",
    "\n",
    "{{ leftcol }}\n",
    "\n",
    "```{code-block} python\n",
    ":class: full-width\n",
    ":linenos:\n",
    "\n",
    "def hello():\n",
    "  print(\"hello\")\n",
    "\n",
    "```\n",
    "\n",
    "{{ rightcol }}\n",
    "\n",
    "```{code-block} python\n",
    ":class: full-width\n",
    ":linenos:\n",
    "\n",
    "def hello(): print(\"hello\")\n",
    "\n",
    "```\n",
    "\n",
    "{{ endcols }}\n",
    "\n",
    "Reference\n",
    "---------\n",
    "\n",
    "### Glossary\n",
    "\n",
    "```{glossary} functions\n",
    "variadic\n",
    "variadic arguments\n",
    "    When any number of arguments may be passed to a function or method.\n",
    "\n",
    "annotations\n",
    "type hints\n",
    "  Syntax for specifying the type of a variable, class attribute, function\n",
    "  parameter or return value.\n",
    "\n",
    "lambda\n",
    "  An anonymous inline function consisting of a single expression.\n",
    "\n",
    "unpacking\n",
    "unpacking arguments\n",
    "  Sending all elements in a collection as arguments to a function call.\n",
    "```\n",
    "\n",
    "### See Also\n",
    "\n",
    "```{seealso}\n",
    "\n",
    "* [python.org > Tutorial > More on Defining Functions](https://docs.python.org/3/tutorial/controlflow.html#more-on-defining-functions)\n",
    "* [python.org > Tutorial > Lambda Expressions](https://docs.python.org/3/tutorial/controlflow.html#lambda-expressions)\n",
    "* [python.org > Tutorial > Function Annotations](https://docs.python.org/3/tutorial/controlflow.html#function-annotations)\n",
    "* [python.org > Glossary > type hint](https://docs.python.org/3/glossary.html#term-type-hint)\n",
    "* [Defining Your Own Python Function](https://realpython.com/defining-your-own-python-function/)\n",
    "\n",
    "```\n",
    "\n",
    "\n",
    "\n",
    "% TODO\n",
    "% [ ] `/`: positional only\n",
    "% [ ] `*`: keyword only\n",
    "% [ ] unpacking: *args\n",
    "% [ ] unpacking: **kwargs\n",
    "% [ ] decorators\n",
    "% [ ] recursive functions\n",
    "% [ ] sending functions as arguments\n",
    "% [ ] return multiple values\n",
    "% [x] default arguments\n",
    "%     [x] note about mutable types ie `def x(y=[])`\n",
    "%     [x] order of default args\n",
    "% [x] annotations\n",
    "% [x] one line functions\n",
    "% [x] lambda"
   ]
  }
 ],
 "metadata": {
  "depth": 2,
  "jupytext": {
   "formats": "md:myst",
   "text_representation": {
    "extension": ".md",
    "format_name": "myst"
   }
  },
  "kernelspec": {
   "display_name": "Python 3",
   "language": "python",
   "name": "python3"
  },
  "language_info": {
   "codemirror_mode": {
    "name": "ipython",
    "version": 3
   },
   "file_extension": ".py",
   "mimetype": "text/x-python",
   "name": "python",
   "nbconvert_exporter": "python",
   "pygments_lexer": "ipython3",
   "version": "3.8.12"
  },
  "source_map": [
   12,
   42,
   46,
   54,
   57,
   65,
   68,
   77,
   81,
   134,
   141,
   150,
   155,
   164,
   172,
   181,
   186,
   196,
   203,
   209,
   214,
   253,
   260,
   268,
   271,
   279,
   282,
   290,
   293,
   307,
   313,
   321,
   324,
   344,
   354,
   363,
   376
  ]
 },
 "nbformat": 4,
 "nbformat_minor": 5
}