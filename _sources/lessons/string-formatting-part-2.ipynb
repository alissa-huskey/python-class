{
 "cells": [
  {
   "cell_type": "markdown",
   "id": "fce66c9e",
   "metadata": {},
   "source": [
    "String formatting: Part 2\n",
    "=========================\n",
    "\n",
    "In [part 1](string-formatting-part-1.md) we learned about formatting strings,\n",
    "sometimes called the formatting spec (short for specification), which are used\n",
    "to tell Python how a value should be displayed. And we learned how to use them\n",
    "in the `format()` function.\n",
    "\n",
    "Today we are going to learn some of the other ways to use formatting strings.\n",
    "\n",
    "The `format()` function\n",
    "-----------------------\n",
    "\n",
    "{{ leftcol }}\n",
    "\n",
    "First lets do a quick review of the `format()` function.\n",
    "\n",
    "{{ label }}\n",
    "\n",
    "{{ rightcol }}\n",
    "\n",
    "{samp}`format({VALUE}, {SPEC})`\n",
    "\n",
    ":::{table}\n",
    ":class: notitle\n",
    "\n",
    "|          |                                                                          |\n",
    "|----------|--------------------------------------------------------------------------|\n",
    "| `VALUE`  | the value to format                                                      |\n",
    "| `SPEC`   | the formatting specification                                             |\n",
    "\n",
    ":::\n",
    "\n",
    "{{ newrow }}\n",
    "\n",
    "In this example, the `VALUE` is `\"Monday\"`.\n",
    "\n",
    "The `SPEC` is `\".3s\"` which means:\n",
    "\n",
    "* a precision of `3` should be used\n",
    "* with a `string` presentation\n",
    "\n",
    "{{ rightcol }}"
   ]
  },
  {
   "cell_type": "code",
   "execution_count": 1,
   "id": "6a161df3",
   "metadata": {
    "class": "full-width"
   },
   "outputs": [
    {
     "data": {
      "text/plain": [
       "'Mon'"
      ]
     },
     "execution_count": 1,
     "metadata": {},
     "output_type": "execute_result"
    }
   ],
   "source": [
    "format(\"Monday\", \".3s\")"
   ]
  },
  {
   "cell_type": "markdown",
   "id": "f2f08b5b",
   "metadata": {},
   "source": [
    "{{ endcols }}\n",
    "\n",
    "The `str.format()` method\n",
    "-------------------------\n",
    "\n",
    "{{ leftcol }}\n",
    "\n",
    "The `.format()` method on `str` objects also uses formatting strings. Here is\n",
    "how we would do the same thing with the `.format()` method.\n",
    "\n",
    "{{ rightcol }}"
   ]
  },
  {
   "cell_type": "code",
   "execution_count": 2,
   "id": "153ba3ff",
   "metadata": {
    "class": "full-width"
   },
   "outputs": [
    {
     "data": {
      "text/plain": [
       "'Mon'"
      ]
     },
     "execution_count": 2,
     "metadata": {},
     "output_type": "execute_result"
    }
   ],
   "source": [
    "\"{0:.3s}\".format(\"Monday\")"
   ]
  },
  {
   "cell_type": "markdown",
   "id": "5f7aeef8",
   "metadata": {},
   "source": [
    "{{ newrow }}\n",
    "\n",
    "<div class=\"text-right\">The syntax is:</div>\n",
    "\n",
    "{{ rightcol }}\n",
    "\n",
    "{samp}`\\{{POSITION}:{SPEC}\\}.format(VALUE)`\n",
    "\n",
    "|            |                                                                          |\n",
    "|------------|--------------------------------------------------------------------------|\n",
    "| `{}`       | curly braces placeholders which indicate where the value should go       |\n",
    "| `POSITION` | argument position                                                        |\n",
    "| `:`        | a colon is used to indicate that the `SPEC` follows                      |\n",
    "| `SPEC`     | the formatting specification                                             |\n",
    "| `VALUE`    | the value to format                                                      |\n",
    "\n",
    "{{ newrow }}\n",
    "\n",
    "You might be wondering where that `0` for `POSITION` come from.\n",
    "\n",
    "Well you see, one of the advantages to using `.format()` is that you can pass\n",
    "it multiple values. When you do that, each argument has its own position.\n",
    "\n",
    "{{ rightcol }}"
   ]
  },
  {
   "cell_type": "code",
   "execution_count": 3,
   "id": "b4668373",
   "metadata": {
    "class": "full-width"
   },
   "outputs": [
    {
     "data": {
      "text/plain": [
       "'Mon 5.24'"
      ]
     },
     "execution_count": 3,
     "metadata": {},
     "output_type": "execute_result"
    }
   ],
   "source": [
    "\"{0:.3s} {1:.2f}\".format(\"Monday\", 5.2423)"
   ]
  },
  {
   "cell_type": "markdown",
   "id": "60648ee7",
   "metadata": {},
   "source": [
    "{{ newrow }}\n",
    "\n",
    "If you don't provide a position, each argument will be substituted in the same\n",
    "order that the placeholders (`{}`) appear.\n",
    "\n",
    "{{ rightcol }}"
   ]
  },
  {
   "cell_type": "code",
   "execution_count": 4,
   "id": "69d7d772",
   "metadata": {
    "class": "full-width"
   },
   "outputs": [
    {
     "data": {
      "text/plain": [
       "'Mon 5.24'"
      ]
     },
     "execution_count": 4,
     "metadata": {},
     "output_type": "execute_result"
    }
   ],
   "source": [
    "\"{:.3s} {:.2f}\".format(\"Monday\", 5.2423)"
   ]
  },
  {
   "cell_type": "markdown",
   "id": "dc66f922",
   "metadata": {},
   "source": [
    "{{ newrow }}\n",
    "\n",
    "Or you can include the position to change the order in which they appear.\n",
    "\n",
    "{{ rightcol }}"
   ]
  },
  {
   "cell_type": "code",
   "execution_count": 5,
   "id": "2ee3540a",
   "metadata": {
    "class": "full-width"
   },
   "outputs": [
    {
     "data": {
      "text/plain": [
       "'5.24 Mon'"
      ]
     },
     "execution_count": 5,
     "metadata": {},
     "output_type": "execute_result"
    }
   ],
   "source": [
    "\"{1:.2f} {0:.3s}\".format(\"Monday\", 5.2423)"
   ]
  },
  {
   "cell_type": "markdown",
   "id": "9f700fe7",
   "metadata": {},
   "source": [
    "{{ newrow }}\n",
    "\n",
    "Another advantage of `.format()` is that anything not in curley braces is\n",
    "interpreted literally.\n",
    "\n",
    "{{ rightcol }}"
   ]
  },
  {
   "cell_type": "code",
   "execution_count": 6,
   "id": "1a2e4874",
   "metadata": {
    "class": "full-width"
   },
   "outputs": [
    {
     "data": {
      "text/plain": [
       "'The price on Mon is: $5.24'"
      ]
     },
     "execution_count": 6,
     "metadata": {},
     "output_type": "execute_result"
    }
   ],
   "source": [
    "\"The price on {:.3s} is: ${:.2f}\".format(\"Monday\", 5.2423)"
   ]
  },
  {
   "cell_type": "markdown",
   "id": "32f4412f",
   "metadata": {},
   "source": [
    "{{ newrow }}\n",
    "\n",
    "You can also send keyword arguments to `.format()`. Then, instead of using\n",
    "position numbers, you use variable names.\n",
    "\n",
    "{{ rightcol }}"
   ]
  },
  {
   "cell_type": "code",
   "execution_count": 7,
   "id": "d01358e3",
   "metadata": {
    "class": "full-width"
   },
   "outputs": [
    {
     "data": {
      "text/plain": [
       "'The price on Mon is: $5.24'"
      ]
     },
     "execution_count": 7,
     "metadata": {},
     "output_type": "execute_result"
    }
   ],
   "source": [
    "blueprint = \"The price on {day:.3s} is: ${cost:.2f}\"\n",
    "blueprint.format(\n",
    "  day=\"Monday\",\n",
    "  cost=5.2423,\n",
    ")"
   ]
  },
  {
   "cell_type": "markdown",
   "id": "bbeaa45a",
   "metadata": {},
   "source": [
    "{{ endcols }}\n",
    "\n",
    "### Exercises\n",
    "\n",
    "`````{exercise} Format Email Address\n",
    ":label: format-email-exercise\n",
    "\n",
    "Given the following values:\n",
    "\n",
    "```python\n",
    "user = \"joe\"\n",
    "domain = \"gmail\"\n",
    "extension = \"com\"\n",
    "```\n",
    "\n",
    "Use `.format()` to print the string:\n",
    "\n",
    "`\"joe@gmail.com\"`\n",
    "\n",
    "Bonus: Write a `format_email()` function that takes three arguments, `name`,\n",
    "`domain`, and `extension` and returns a formatted email address string.\n",
    "\n",
    "`````\n",
    "\n",
    "`````{solution} format-email-exercise\n",
    "\n",
    ":::{dropdown} Click to show\n",
    "\n",
    "```python\n",
    ">>> \"{user}@{domain}.{extension}\".format(user=\"joe\", domain=\"gmail\", extension=\"com\")\n",
    "'joe@gmail.com'\n",
    "```\n",
    ":::\n",
    "\n",
    ":::{dropdown} Click to show: Bonus\n",
    "\n",
    "```{code-block} python\n",
    ":class: full-width\n",
    "\n",
    "def format_email(user, domain, extension):\n",
    "  return \"{}@{}.{}\".format(user, domain, extension)\n",
    "\n",
    "print(format_email(\"joe\", \"gmail\", \"com\"))\n",
    "```\n",
    "\n",
    ":::\n",
    "\n",
    ":::{dropdown} Click to show: Bonus alternate\n",
    "\n",
    "```{code-block} python\n",
    ":class: full-width\n",
    "\n",
    "def format_email(user, domain, extension):\n",
    "  return \"{user}@{domain}.{extension}\".format(user=user, domain=domain, extension=extension)\n",
    "\n",
    "print(format_email(\"joe\", \"gmail\", \"com\"))\n",
    "```\n",
    "\n",
    ":::\n",
    "\n",
    "`````\n",
    "\n",
    "f-strings\n",
    "---------\n",
    "\n",
    "{{ leftcol }}\n",
    "\n",
    "Since we so frequently need to format strings, Python provides a shortcut\n",
    "called f-strings, which have the letter `f` immediately before the opening\n",
    "single or double quote.\n",
    "\n",
    "F-strings works just the same as `.format()`, except variables are used instead\n",
    "of keyword arguments.\n",
    "\n",
    "\n",
    "{{ rightcol }}"
   ]
  },
  {
   "cell_type": "code",
   "execution_count": 8,
   "id": "b48b3217",
   "metadata": {
    "class": "full-width"
   },
   "outputs": [
    {
     "data": {
      "text/plain": [
       "'The price on Mon is: $5.24'"
      ]
     },
     "execution_count": 8,
     "metadata": {},
     "output_type": "execute_result"
    }
   ],
   "source": [
    "day = \"Monday\"\n",
    "cost = 5.2423\n",
    "\n",
    "f\"The price on {day:.3s} is: ${cost:.2f}\""
   ]
  },
  {
   "cell_type": "markdown",
   "id": "b106e5e0",
   "metadata": {},
   "source": [
    "{{ endcols }}\n",
    "\n",
    "### Exercise\n",
    "\n",
    "`````{exercise} Street Address\n",
    ":label: street-address-exercise\n",
    "\n",
    "Given the following values:\n",
    "\n",
    "```python\n",
    "street = \"1600 Pennsylvania Ave NW\"\n",
    "city = \"Washington\"\n",
    "state = \"DC\"\n",
    "zip = \"20500\"\n",
    "```\n",
    "\n",
    "Use an f-string to print the following:\n",
    "\n",
    "```text\n",
    "1600 Pennsylvania Ave NW\n",
    "Washington, DC 20500\n",
    "```\n",
    "\n",
    "Bonus: Write a `format_address()` function that takes the arguments `street`,\n",
    "`city`, `state` and `zip` and returns a formatted address string.\n",
    "\n",
    "`````\n",
    "\n",
    "`````{solution} street-address-exercise\n",
    "\n",
    ":::{dropdown} Click to show\n",
    "\n",
    "```{code-block} python\n",
    ":class: full-width\n",
    "\n",
    ">>> street = \"1600 Pennsylvania Ave NW\"\n",
    ">>> city = \"Washington\"\n",
    ">>> state = \"DC\"\n",
    ">>> zip = \"20500\"\n",
    ">>> print(f\"{street}\\n{city}, {state} {zip}\")\n",
    "1600 Pennsylvania Ave NW\n",
    "Washington, DC 20500\n",
    "```\n",
    "\n",
    ":::\n",
    "\n",
    ":::{dropdown} Click to show: Bonus\n",
    "\n",
    "```{code-block} python\n",
    ":class: full-width\n",
    ":linenos:\n",
    "\n",
    "def format_address(street, city, state, zip):\n",
    "  return f\"{street}\\n{city}, {state} {zip}\"\n",
    "\n",
    "print(format_address(\n",
    "  \"1600 Pennsylvania Ave NW\",\n",
    "  \"Washington\",\n",
    "  \"DC\",\n",
    "  \"20500\",\n",
    "))\n",
    "```\n",
    "\n",
    ":::\n",
    "\n",
    "\n",
    "\n",
    "`````"
   ]
  }
 ],
 "metadata": {
  "jupytext": {
   "formats": "md:myst",
   "text_representation": {
    "extension": ".md",
    "format_name": "myst"
   }
  },
  "kernelspec": {
   "display_name": "Python 3",
   "language": "python",
   "name": "python3"
  },
  "language_info": {
   "codemirror_mode": {
    "name": "ipython",
    "version": 3
   },
   "file_extension": ".py",
   "mimetype": "text/x-python",
   "name": "python",
   "nbconvert_exporter": "python",
   "pygments_lexer": "ipython3",
   "version": "3.8.13"
  },
  "source_map": [
   14,
   59,
   62,
   76,
   80,
   107,
   111,
   120,
   124,
   132,
   136,
   145,
   149,
   158,
   166,
   245,
   252
  ],
  "substitutions": {
   "label": "<div class=\"text-right\">Syntax:</div>"
  }
 },
 "nbformat": 4,
 "nbformat_minor": 5
}