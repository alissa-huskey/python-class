{
 "cells": [
  {
   "cell_type": "markdown",
   "id": "0ab969a8",
   "metadata": {},
   "source": [
    "String formatting: Part 2\n",
    "=========================\n",
    "\n",
    "In [part 1](string-formatting-part-1.md) we learned about formatting strings,\n",
    "sometimes called the formatting spec (short for specification), which are used\n",
    "to tell Python how a value should be displayed. And we learned how to use them\n",
    "in the `format()` function.\n",
    "\n",
    "Today we are going to learn some of the other ways to use formatting strings.\n",
    "\n",
    "The `format()` function\n",
    "-----------------------\n",
    "\n",
    "{{ leftcol }}\n",
    "\n",
    "First lets do a quick review of the `format()` function.\n",
    "\n",
    "{{ label }}\n",
    "\n",
    "{{ rightcol }}\n",
    "\n",
    "{samp}`format({VALUE}, {SPEC})`\n",
    "\n",
    ":::{table}\n",
    ":class: notitle\n",
    "\n",
    "|          |                                                                          |\n",
    "|----------|--------------------------------------------------------------------------|\n",
    "| `VALUE`  | the value to format                                                      |\n",
    "| `SPEC`   | the formatting specification                                             |\n",
    "\n",
    ":::\n",
    "\n",
    "{{ newrow }}\n",
    "\n",
    "In this example, the `VALUE` is `\"Monday\"`.\n",
    "\n",
    "The `SPEC` is `\".3s\"` which means:\n",
    "\n",
    "* a precision of `3` should be used\n",
    "* with a `string` presentation\n",
    "\n",
    "{{ rightcol }}"
   ]
  },
  {
   "cell_type": "code",
   "execution_count": 1,
   "id": "a1762b96",
   "metadata": {
    "class": "full-width"
   },
   "outputs": [
    {
     "data": {
      "text/plain": [
       "'Mon'"
      ]
     },
     "execution_count": 1,
     "metadata": {},
     "output_type": "execute_result"
    }
   ],
   "source": [
    "format(\"Monday\", \".3s\")"
   ]
  },
  {
   "cell_type": "markdown",
   "id": "677d023b",
   "metadata": {},
   "source": [
    "{{ endcols }}\n",
    "\n",
    "The `str.format()` method\n",
    "-------------------------\n",
    "\n",
    "{{ leftcol }}\n",
    "\n",
    "The `.format()` method on `str` objects also uses formatting strings. Here is\n",
    "how we would do the same thing with the `.format()` method.\n",
    "\n",
    "{{ rightcol }}"
   ]
  },
  {
   "cell_type": "code",
   "execution_count": 2,
   "id": "5f41257c",
   "metadata": {
    "class": "full-width"
   },
   "outputs": [
    {
     "data": {
      "text/plain": [
       "'Mon'"
      ]
     },
     "execution_count": 2,
     "metadata": {},
     "output_type": "execute_result"
    }
   ],
   "source": [
    "\"{0:.3s}\".format(\"Monday\")"
   ]
  },
  {
   "cell_type": "markdown",
   "id": "a01a1141",
   "metadata": {},
   "source": [
    "{{ newrow }}\n",
    "\n",
    "<div class=\"text-right\">The syntax is:</div>\n",
    "\n",
    "{{ rightcol }}\n",
    "\n",
    "{samp}`\\{{POSITION}:{SPEC}\\}.format(VALUE)`\n",
    "\n",
    "|            |                                                                          |\n",
    "|------------|--------------------------------------------------------------------------|\n",
    "| `{}`       | curly braces placeholders which indicate where the value should go       |\n",
    "| `POSITION` | argument position                                                        |\n",
    "| `:`        | a colon is used to indicate that the `SPEC` follows                      |\n",
    "| `SPEC`     | the formatting specification                                             |\n",
    "| `VALUE`    | the value to format                                                      |\n",
    "\n",
    "{{ newrow }}\n",
    "\n",
    "You might be wondering where that `0` for `POSITION` come from.\n",
    "\n",
    "Well you see, one of the advantages to using `.format()` is that you can pass\n",
    "it multiple values. When you do that, each argument has its own position.\n",
    "\n",
    "{{ rightcol }}"
   ]
  },
  {
   "cell_type": "code",
   "execution_count": 3,
   "id": "e9afb274",
   "metadata": {
    "class": "full-width"
   },
   "outputs": [
    {
     "data": {
      "text/plain": [
       "'Mon 5.24'"
      ]
     },
     "execution_count": 3,
     "metadata": {},
     "output_type": "execute_result"
    }
   ],
   "source": [
    "\"{0:.3s} {1:.2f}\".format(\"Monday\", 5.2423)"
   ]
  },
  {
   "cell_type": "markdown",
   "id": "ca9bc1ef",
   "metadata": {},
   "source": [
    "{{ newrow }}\n",
    "\n",
    "If you don't provide a position, each argument will be substituted in the same\n",
    "order that the placeholders (`{}`) appear.\n",
    "\n",
    "{{ rightcol }}"
   ]
  },
  {
   "cell_type": "code",
   "execution_count": 4,
   "id": "1c246884",
   "metadata": {
    "class": "full-width"
   },
   "outputs": [
    {
     "data": {
      "text/plain": [
       "'Mon 5.24'"
      ]
     },
     "execution_count": 4,
     "metadata": {},
     "output_type": "execute_result"
    }
   ],
   "source": [
    "\"{:.3s} {:.2f}\".format(\"Monday\", 5.2423)"
   ]
  },
  {
   "cell_type": "markdown",
   "id": "4db4be7f",
   "metadata": {},
   "source": [
    "{{ newrow }}\n",
    "\n",
    "Or you can include the position to change the order in which they appear.\n",
    "\n",
    "{{ rightcol }}"
   ]
  },
  {
   "cell_type": "code",
   "execution_count": 5,
   "id": "04d7125c",
   "metadata": {
    "class": "full-width"
   },
   "outputs": [
    {
     "data": {
      "text/plain": [
       "'5.24 Mon'"
      ]
     },
     "execution_count": 5,
     "metadata": {},
     "output_type": "execute_result"
    }
   ],
   "source": [
    "\"{1:.2f} {0:.3s}\".format(\"Monday\", 5.2423)"
   ]
  },
  {
   "cell_type": "markdown",
   "id": "0710183a",
   "metadata": {},
   "source": [
    "{{ newrow }}\n",
    "\n",
    "Another advantage of `.format()` is that anything not in curley braces is\n",
    "interpreted literally.\n",
    "\n",
    "{{ rightcol }}"
   ]
  },
  {
   "cell_type": "code",
   "execution_count": 6,
   "id": "3e06211a",
   "metadata": {
    "class": "full-width"
   },
   "outputs": [
    {
     "data": {
      "text/plain": [
       "'The price on Mon is: $5.24'"
      ]
     },
     "execution_count": 6,
     "metadata": {},
     "output_type": "execute_result"
    }
   ],
   "source": [
    "\"The price on {:.3s} is: ${:.2f}\".format(\"Monday\", 5.2423)"
   ]
  },
  {
   "cell_type": "markdown",
   "id": "d8064f5b",
   "metadata": {},
   "source": [
    "{{ newrow }}\n",
    "\n",
    "You can also send keyword arguments to `.format()`. Then, instead of using\n",
    "position numbers, you use variable names.\n",
    "\n",
    "{{ rightcol }}"
   ]
  },
  {
   "cell_type": "code",
   "execution_count": 7,
   "id": "e9e6f11f",
   "metadata": {
    "class": "full-width"
   },
   "outputs": [
    {
     "data": {
      "text/plain": [
       "'The price on Mon is: $5.24'"
      ]
     },
     "execution_count": 7,
     "metadata": {},
     "output_type": "execute_result"
    }
   ],
   "source": [
    "blueprint = \"The price on {day:.3s} is: ${cost:.2f}\"\n",
    "blueprint.format(\n",
    "  day=\"Monday\",\n",
    "  cost=5.2423,\n",
    ")"
   ]
  },
  {
   "cell_type": "markdown",
   "id": "91b99782",
   "metadata": {},
   "source": [
    "{{ endcols }}"
   ]
  }
 ],
 "metadata": {
  "jupytext": {
   "formats": "md:myst",
   "text_representation": {
    "extension": ".md",
    "format_name": "myst"
   }
  },
  "kernelspec": {
   "display_name": "Python 3",
   "language": "python",
   "name": "python3"
  },
  "language_info": {
   "codemirror_mode": {
    "name": "ipython",
    "version": 3
   },
   "file_extension": ".py",
   "mimetype": "text/x-python",
   "name": "python",
   "nbconvert_exporter": "python",
   "pygments_lexer": "ipython3",
   "version": "3.8.12"
  },
  "source_map": [
   14,
   59,
   62,
   76,
   80,
   107,
   111,
   120,
   124,
   132,
   136,
   145,
   149,
   158,
   166
  ],
  "substitutions": {
   "label": "<div class=\"text-right\">Syntax:</div>"
  }
 },
 "nbformat": 4,
 "nbformat_minor": 5
}