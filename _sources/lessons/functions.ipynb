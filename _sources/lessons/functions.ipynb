{
 "cells": [
  {
   "cell_type": "markdown",
   "id": "aab99ed3",
   "metadata": {},
   "source": [
    "Functions\n",
    "=========\n",
    "\n",
    "Often in programming you want to do the same task again and again. Instead of\n",
    "repeatedly typing the same code or copy and pasting it, you can save the code\n",
    "in a reusable function.\n",
    "\n",
    "A function is a set of Python instructions or {term}`statements <statement>`\n",
    "that can be executed later. If you're familiar with macros in spreadsheet\n",
    "programs, it's kind of like that.\n",
    "\n",
    "```{contents} Table of Contents\n",
    ":backlinks: top\n",
    ":local:\n",
    "```\n",
    "\n",
    "Part 1: Defining and calling\n",
    "----------------------------\n",
    "\n",
    "```{image} assets/playing-piano.jpg\n",
    ":align: right\n",
    ":scale: 35%\n",
    "```\n",
    "\n",
    "When you create or {term}`define` a function, you can imagine it's like a\n",
    "[music roll][music-roll] for a [self-playing piano][playing-piano].\n",
    "\n",
    "Later when you want to use or \"play\" it, you {term}`call` the function.\n",
    "\n",
    "{{ clear }}\n",
    "\n",
    "{{ br }}\n",
    "\n",
    "{{ leftcol }}\n",
    "\n",
    "<div class=\"text-right\"> Function syntax: </div>\n",
    "\n",
    "{{ br }}\n",
    "\n",
    "To define a function you'll write a {term}`compound statement` that starts with\n",
    "the `def` keyword. Next choose a name or {term}`identifier` that will be used\n",
    "to call it, followed immediately by a pair of parenthesis and a colon.\n",
    "\n",
    "On a new, indented line, add the statements that make up what the function\n",
    "does. Each of the statements indented at the same level will be part of the\n",
    "function.\n",
    "\n",
    "{{ rightcol }}\n",
    "\n",
    "```{include} ../templates/syntax/def.md\n",
    "```\n",
    "\n",
    "```{include} ../templates/desc/def.md\n",
    "```\n",
    "\n",
    "{{ newrow }}\n",
    "\n",
    "Here's a simple example.\n",
    "\n",
    "{{ rightcol }}"
   ]
  },
  {
   "cell_type": "code",
   "execution_count": 1,
   "id": "2688c3fc",
   "metadata": {},
   "outputs": [],
   "source": [
    "def hello():\n",
    "    print(\"Hello.\")"
   ]
  },
  {
   "cell_type": "markdown",
   "id": "826c5032",
   "metadata": {},
   "source": [
    "{{ newrow }}\n",
    "\n",
    "To {term}`call` a function add a pair of parenthesis immediately after the\n",
    "function name. For example, here's how to call the `hello` function.\n",
    "\n",
    "{{ rightcol }}"
   ]
  },
  {
   "cell_type": "code",
   "execution_count": 2,
   "id": "af069168",
   "metadata": {},
   "outputs": [
    {
     "name": "stdout",
     "output_type": "stream",
     "text": [
      "Hello.\n"
     ]
    }
   ],
   "source": [
    "hello()"
   ]
  },
  {
   "cell_type": "markdown",
   "id": "52c255a3",
   "metadata": {},
   "source": [
    "{{ endcols }}\n",
    "\n",
    "### Part 1: Exercise\n",
    "\n",
    "```{exercise} horizontal line function\n",
    ":label: hr-exercise\n",
    "\n",
    "Write a function called `hr` to print a line of dashes 100 characters wide, like so:\n",
    "\n",
    "`--------------------------------------------------`\n",
    "\n",
    "\n",
    "```\n",
    "\n",
    "`````{solution} hr-exercise\n",
    ":class: dropdown\n",
    "\n",
    "```{code-block} python\n",
    "def hr():\n",
    "  print(\"-\" * 100)\n",
    "```\n",
    "\n",
    "`````\n",
    "\n",
    "[music-roll]: https://en.wikipedia.org/wiki/Piano_roll\n",
    "[playing-piano]: https://en.wikipedia.org/wiki/Player_piano\n",
    "[piano]: assets/playing-piano.jpg\n",
    "\n",
    "Part 2: Parameters and Arguments\n",
    "--------------------------------\n",
    "\n",
    "While it is useful to be able to repeat exactly the same lines of code, often\n",
    "we want to repeat tasks that are *almost* the same. This is where parameters\n",
    "and arguments come in, because they let us change the value of specific\n",
    "variables when a function is called.\n",
    "\n",
    "### Part 2.1: Parameters and Arguments\n",
    "\n",
    "A {term}`parameter` is a variable name you give to data that the function gets\n",
    "later. You add it to the function definition as you'll see below.\n",
    "\n",
    "The actual values, called {term}`arguments <argument>`, get sent to the\n",
    "function and assigned when the function is called, then cease to exist when the\n",
    "function is done being executed.\n",
    "\n",
    "{{ leftcol }}\n",
    "\n",
    "To define a function with a parameter, put the parameter (variable) name you\n",
    "picked inside the paranthesis on the `def` line.\n",
    "\n",
    "{{ rightcol }}"
   ]
  },
  {
   "cell_type": "code",
   "execution_count": 3,
   "id": "ec1e357c",
   "metadata": {},
   "outputs": [],
   "source": [
    "def hello(name):\n",
    "    message = \"Hello \" + name + \".\"\n",
    "    print(message)"
   ]
  },
  {
   "cell_type": "markdown",
   "id": "92989924",
   "metadata": {},
   "source": [
    "{{ newrow }}\n",
    "\n",
    "{{ endcols }}\n",
    "\n",
    "{{ leftcol }}\n",
    "\n",
    "Similarly, put the {term}`argument`, (the variable value) inside the\n",
    "paranthesis when calling the function.\n",
    "\n",
    "{{ rightcol }}"
   ]
  },
  {
   "cell_type": "code",
   "execution_count": 4,
   "id": "91a79c81",
   "metadata": {
    "class": "full-width"
   },
   "outputs": [
    {
     "name": "stdout",
     "output_type": "stream",
     "text": [
      "Hello John.\n"
     ]
    }
   ],
   "source": [
    "hello(\"John\")"
   ]
  },
  {
   "cell_type": "markdown",
   "id": "e9c116ba",
   "metadata": {},
   "source": [
    "{{ endcols }}\n",
    "\n",
    "When the function is executed the argument value is assigned to a variable with\n",
    "the parameter name you chose. As if each time you call the function, the line\n",
    "{samp}`{PARAM} = {ARG}` is run first.\n",
    "\n",
    "{{ leftcol }}\n",
    "\n",
    "So that this:\n",
    "\n",
    "```{code-block-hl} python\n",
    "def hello(!!!name!!!):\n",
    "    message = \"Hello \" + name + \".\"\n",
    "    print(message)\n",
    "\n",
    "hello(!!!\"Mary\"!!!)\n",
    "```\n",
    "\n",
    "{{ rightcol }}\n",
    "\n",
    "Is equivalent to:\n",
    "\n",
    "```{code-block-hl} python\n",
    ":class: full-width\n",
    "!!!name!!! = !!!\"Mary\"!!!\n",
    "message = \"Hello \" + name + \".\"\n",
    "print(message)\n",
    "\n",
    "```\n",
    "\n",
    "{{ endcols }}\n",
    "\n",
    "{{ newrow }}\n",
    "\n",
    "Seperate multiple parameters with a comma.\n",
    "\n",
    "{{ rightcol }}"
   ]
  },
  {
   "cell_type": "code",
   "execution_count": 5,
   "id": "80ddb330",
   "metadata": {},
   "outputs": [],
   "source": [
    "def greet(time, name):\n",
    "  message = \"Good \" + time + \" \" + name + \".\"\n",
    "  print(message)"
   ]
  },
  {
   "cell_type": "markdown",
   "id": "e897c25d",
   "metadata": {},
   "source": [
    "{{ newrow }}\n",
    "\n",
    "The same with multiple arguments.\n",
    "\n",
    "{{ rightcol }}"
   ]
  },
  {
   "cell_type": "code",
   "execution_count": 6,
   "id": "36010e3a",
   "metadata": {
    "linenos": null
   },
   "outputs": [
    {
     "name": "stdout",
     "output_type": "stream",
     "text": [
      "Good morning Mr. Smith.\n",
      "Good afternoon Mrs. Doe.\n"
     ]
    }
   ],
   "source": [
    "greet(\"morning\", \"Mr. Smith\")\n",
    "greet(\"afternoon\", \"Mrs. Doe\")"
   ]
  },
  {
   "cell_type": "markdown",
   "id": "932784ce",
   "metadata": {},
   "source": [
    "{{ endcols }}\n",
    "\n",
    "### Part 2.1: Exercise\n",
    "\n",
    "`````{exercise} header function\n",
    ":label: header-exercise\n",
    "\n",
    "Write a `header()` function that takes one string parameter `title` and prints\n",
    "the title followed by a line of dashes the same length of the title, like so:\n",
    "\n",
    "```{code-block} python\n",
    ">>> header(\"Chapter One\")\n",
    "Chapter One\n",
    "-----------\n",
    "```\n",
    "\n",
    "`````\n",
    "\n",
    "`````{solution} header-exercise\n",
    ":class: dropdown\n",
    "\n",
    "```{code-block} python\n",
    "def header(title):\n",
    "  print(title)\n",
    "  print(\"-\" * len(title))\n",
    "```\n",
    "\n",
    "`````\n",
    "\n",
    "### Part 2.2: Positional Arguments\n",
    "\n",
    "Most of the time functions are called using {term}`positional arguments <positional argument>`. That\n",
    "is, each argument is assigned based on its position in the argument list.\n",
    "\n",
    "{{ leftcol }}\n",
    "\n",
    "Lets look at the following function as an example.\n",
    "\n",
    "{{ rightcol }}"
   ]
  },
  {
   "cell_type": "code",
   "execution_count": 7,
   "id": "f0131ff4",
   "metadata": {},
   "outputs": [],
   "source": [
    "def winners(first, second, third):\n",
    "  \"\"\"Print the contest winners\"\"\"\n",
    "  print(f\"The first place winner is: {first}\")\n",
    "  print(f\"The second place winner is: {second}\")\n",
    "  print(f\"The third place winner is: {third}\")\n"
   ]
  },
  {
   "cell_type": "markdown",
   "id": "eccc56c9",
   "metadata": {},
   "source": [
    "{{ newrow }}\n",
    "\n",
    "When we call it below, `\"Alex\"` is assigned to the variable `first` because\n",
    "that argument is the first one passed; `\"Bob\"` is assigned to `second` because\n",
    "that argument is the second passed, and so on.\n",
    "\n",
    "{{ rightcol }}"
   ]
  },
  {
   "cell_type": "code",
   "execution_count": 8,
   "id": "12985817",
   "metadata": {},
   "outputs": [
    {
     "name": "stdout",
     "output_type": "stream",
     "text": [
      "The first place winner is: Alex\n",
      "The second place winner is: Bob\n",
      "The third place winner is: Celeste\n"
     ]
    }
   ],
   "source": [
    "winners(\n",
    "  \"Alex\",\n",
    "  \"Bob\",\n",
    "  \"Celeste\",\n",
    ")"
   ]
  },
  {
   "cell_type": "markdown",
   "id": "f51df1ff",
   "metadata": {},
   "source": [
    "{{ newrow }}\n",
    "\n",
    "When calling functions this way, changing the order of the arguments will\n",
    "change the parameters they are assigned to.\n",
    "\n",
    "{{ rightcol }}"
   ]
  },
  {
   "cell_type": "code",
   "execution_count": 9,
   "id": "1fbd8728",
   "metadata": {},
   "outputs": [
    {
     "name": "stdout",
     "output_type": "stream",
     "text": [
      "The first place winner is: Celeste\n",
      "The second place winner is: Alex\n",
      "The third place winner is: Bob\n"
     ]
    }
   ],
   "source": [
    "winners(\n",
    "  \"Celeste\",\n",
    "  \"Alex\",\n",
    "  \"Bob\"\n",
    ")"
   ]
  },
  {
   "cell_type": "markdown",
   "id": "80f0036a",
   "metadata": {},
   "source": [
    "{{ endcols }}\n",
    "\n",
    "### Part 2.3: Keyword Arguments\n",
    "\n",
    "{{ leftcol }}\n",
    "\n",
    "You can also use {term}`keyword arguments <keyword argument>` when calling a function to make it\n",
    "clear which argument is which. Just put the parameter name followed by an `=`\n",
    "in front of the argument value.\n",
    "\n",
    "{{ rightcol }}"
   ]
  },
  {
   "cell_type": "code",
   "execution_count": 10,
   "id": "f35431a0",
   "metadata": {},
   "outputs": [
    {
     "name": "stdout",
     "output_type": "stream",
     "text": [
      "The first place winner is: Alex\n",
      "The second place winner is: Bob\n",
      "The third place winner is: Celeste\n"
     ]
    }
   ],
   "source": [
    "winners(\n",
    "  first=\"Alex\",\n",
    "  second=\"Bob\",\n",
    "  third=\"Celeste\"\n",
    ")"
   ]
  },
  {
   "cell_type": "markdown",
   "id": "32270dee",
   "metadata": {},
   "source": [
    "{{ newrow }}\n",
    "\n",
    "You can even mix and match positional arguments and keyword arguments, as long\n",
    "as you put all of the positional arguments first.\n",
    "\n",
    "{{ rightcol }}"
   ]
  },
  {
   "cell_type": "code",
   "execution_count": 11,
   "id": "97e293f0",
   "metadata": {},
   "outputs": [
    {
     "name": "stdout",
     "output_type": "stream",
     "text": [
      "The first place winner is: Alex\n",
      "The second place winner is: Bob\n",
      "The third place winner is: Celeste\n"
     ]
    }
   ],
   "source": [
    "winners(\n",
    "  \"Alex\",\n",
    "  second=\"Bob\",\n",
    "  third=\"Celeste\"\n",
    ")"
   ]
  },
  {
   "cell_type": "markdown",
   "id": "6176c00d",
   "metadata": {},
   "source": [
    "{{ newrow }}\n",
    "\n",
    "When using keyword arguments, you can change the order of your arguments\n",
    "without effecting how they are assigned.\n",
    "\n",
    "{{ rightcol }}"
   ]
  },
  {
   "cell_type": "code",
   "execution_count": 12,
   "id": "e507b97f",
   "metadata": {},
   "outputs": [
    {
     "name": "stdout",
     "output_type": "stream",
     "text": [
      "The first place winner is: Alex\n",
      "The second place winner is: Bob\n",
      "The third place winner is: Celeste\n"
     ]
    }
   ],
   "source": [
    "winners(\n",
    "  second=\"Bob\",\n",
    "  first=\"Alex\",\n",
    "  third=\"Celeste\"\n",
    ")"
   ]
  },
  {
   "cell_type": "markdown",
   "id": "b62f2f38",
   "metadata": {},
   "source": [
    "{{ newrow }}\n",
    "\n",
    "It can also be useful to use keyword arguments to make your code more clear.\n",
    "For example, imagine a `calculate_cost` function that takes a bunch of numeric\n",
    "arguments.\n",
    "\n",
    "{{ rightcol }}"
   ]
  },
  {
   "cell_type": "code",
   "execution_count": 13,
   "id": "e8366490",
   "metadata": {},
   "outputs": [],
   "source": [
    "def calculate_cost(price, quantity, tax, tip):\n",
    "  ..."
   ]
  },
  {
   "cell_type": "markdown",
   "id": "cf35f0c7",
   "metadata": {},
   "source": [
    "{{ newrow }}\n",
    "\n",
    "Which of the following lines of code do you think is easier to understand?\n",
    "\n",
    "{{ rightcol }}"
   ]
  },
  {
   "cell_type": "code",
   "execution_count": 14,
   "id": "0eed2ebd",
   "metadata": {},
   "outputs": [],
   "source": [
    "cost = calculate_cost(\n",
    "  4.75,\n",
    "  30,\n",
    "  0.08,\n",
    "  0.2,\n",
    ")"
   ]
  },
  {
   "cell_type": "code",
   "execution_count": 15,
   "id": "cb5e8ecb",
   "metadata": {},
   "outputs": [],
   "source": [
    "cost = calculate_cost(\n",
    "  price=4.75,\n",
    "  quantity=30,\n",
    "  tax=0.08,\n",
    "  tip=0.2,\n",
    ")"
   ]
  },
  {
   "cell_type": "markdown",
   "id": "dc4b8f8d",
   "metadata": {},
   "source": [
    "{{ newrow }}\n",
    "\n",
    "Some functions have default values for arguments, making them optional. When\n",
    "there are multiple arguments with default values, you can use keyword arguments\n",
    "to pass some arguments while skipping others.\n",
    "\n",
    "For example, the `print()` function can take the optional keyword arguments\n",
    "`end`, for what string to append to the end of the text (default `\"\\n\"`), and\n",
    "`sep`, for what string to put between each argument when printed (default: `\" \"`).\n",
    "\n",
    "You can use keyword arguments to specify either or both.\n",
    "\n",
    "{{ rightcol }}"
   ]
  },
  {
   "cell_type": "code",
   "execution_count": 16,
   "id": "d93b2124",
   "metadata": {},
   "outputs": [
    {
     "name": "stdout",
     "output_type": "stream",
     "text": [
      "hello\n",
      "there\n"
     ]
    }
   ],
   "source": [
    "# called normally without keyword arguments\n",
    "print(\"hello\")\n",
    "print(\"there\")"
   ]
  },
  {
   "cell_type": "code",
   "execution_count": 17,
   "id": "207c104d",
   "metadata": {},
   "outputs": [
    {
     "name": "stdout",
     "output_type": "stream",
     "text": [
      "hello there."
     ]
    }
   ],
   "source": [
    "# passing the `end` keyword argument\n",
    "print(\"hello\", end=\" \")\n",
    "print(\"there\", end=\".\")"
   ]
  },
  {
   "cell_type": "code",
   "execution_count": 18,
   "id": "b5faf3d3",
   "metadata": {},
   "outputs": [
    {
     "name": "stdout",
     "output_type": "stream",
     "text": [
      "555 555 5555\n"
     ]
    }
   ],
   "source": [
    "# called normally without keyword arguments\n",
    "print(\"555\", \"555\", \"5555\")"
   ]
  },
  {
   "cell_type": "code",
   "execution_count": 19,
   "id": "112e6ed8",
   "metadata": {},
   "outputs": [
    {
     "name": "stdout",
     "output_type": "stream",
     "text": [
      "555-555-5555\n"
     ]
    }
   ],
   "source": [
    "# passing the `sep` keyword argument\n",
    "print(\"555\", \"555\", \"5555\", sep=\"-\")"
   ]
  },
  {
   "cell_type": "markdown",
   "id": "81857b17",
   "metadata": {},
   "source": [
    "{{ endcols }}\n",
    "\n",
    "### Part 2.3: Exercises\n",
    "\n",
    "```{exercise} keyword arguments\n",
    ":label: keyword-arguments-exercise\n",
    "\n",
    "1. Call the `print()` function with the arguments `\"a\"`, `\"b\"`, and `\"c\"` with\n",
    "   a value of `\"\\n\"` for the `sep` keyword argument.\n",
    "2. Call the `print()` function multiple times in a row, with the value of `\"... \"`\n",
    "   for the `end` keyword argument.\n",
    "3. a. Write a function called `birthday` that takes the arguments `name`, `month`,\n",
    "   `day` and `year`, and prints `\"____s birthday is on ___ __, ____.\"`\n",
    "\n",
    "   For example:\n",
    "   \"Homer Simpsons birthday is on May 12, 1956.\"\n",
    "\n",
    "   b. Call it with multiple names and birthdays, using positional arguments and\n",
    "      keyword arguments.\n",
    "```\n",
    "\n",
    "`````{solution} keyword-arguments-exercise\n",
    ":class: dropdown\n",
    "\n",
    "\n",
    "1\\. Call the `print()` function with the arguments `\"a\"`, `\"b\"`, and `\"c\"` with\n",
    "   a value of `\"\\n\"` for the `sep` keyword argument.\n",
    "\n",
    "```{code-block} python\n",
    ">>> print(\"a\", \"b\", \"c\", sep=\"\\n\")\n",
    "a\n",
    "b\n",
    "c\n",
    "```\n",
    "\n",
    "2\\. Call the `print()` function multiple times in a row, with the value of `\"... \"`\n",
    "   for the `end` keyword argument.\n",
    "\n",
    "```{code-block} python\n",
    ">>> print(\"x\", end=\"... \") ; print(\"y\", end=\"... \") ; print(\"z\", end=\"... \")\n",
    "x... y... z...\n",
    "```\n",
    "\n",
    "3a. Write a function called `birthday` that takes the arguments `name`, `month`,\n",
    "   `day` and `year`, and prints `\"____s birthday is on ___ __, ____.\"`\n",
    "\n",
    "```{code-block} python\n",
    "def birthday(name, month, day, year):\n",
    "   print(f\"{name}s birthday is on {month} {day}, {year}.\")\n",
    "```\n",
    "\n",
    "3b. Call it with multiple names and birthdays, using positional arguments and\n",
    "    keyword arguments.\n",
    "\n",
    "```python\n",
    ">>> birthday(\"Homer Simpson\", \"May\", 12, 1956)\n",
    "Homer Simpsons birthday is on May 12, 1956.\n",
    "\n",
    ">>> birthday(name=\"Homer Simpson\", month=\"May\", day=12, year=1956)\n",
    "Homer Simpsons birthday is on May 12, 1956.\n",
    "\n",
    ">>> birthday(year=1984, month=\"April\", day=1, name=\"Bart Simpson\")\n",
    "Bart Simpsons birthday is on April 1, 1984.\n",
    "\n",
    ">>> birthday(month=\"May\", day=9, year=1986, name=\"Lisa Simpson\")\n",
    "Lisa Simpsons birthday is on May 9, 1986.\n",
    "```\n",
    "\n",
    "`````\n",
    "\n",
    "Part 3: Returning values\n",
    "------------------------\n",
    "\n",
    "The {term}`return` statement is used to exit a function and optionally send\n",
    "data back to the caller.\n",
    "\n",
    "{{ leftcol }}\n",
    "\n",
    "By itself `return` works similar to the `break` statement in a for loop. No\n",
    "other code in the function will be executed.\n",
    "\n",
    "{{ rightcol }}"
   ]
  },
  {
   "cell_type": "code",
   "execution_count": 20,
   "id": "32d32c9c",
   "metadata": {
    "linenos": null
   },
   "outputs": [
    {
     "name": "stdout",
     "output_type": "stream",
     "text": [
      "this will be printed\n"
     ]
    }
   ],
   "source": [
    "def print_stuff():\n",
    "  print(\"this will be printed\")\n",
    "  return\n",
    "  print(\"this will never be printed\")\n",
    "\n",
    "print_stuff()"
   ]
  },
  {
   "cell_type": "markdown",
   "id": "2911250a",
   "metadata": {},
   "source": [
    "{{ newrow }}\n",
    "\n",
    "It's common to `return` inside an `if` statement, for example, to avoid errors.\n",
    "\n",
    "{{ rightcol }}"
   ]
  },
  {
   "cell_type": "code",
   "execution_count": 21,
   "id": "7f463c39",
   "metadata": {},
   "outputs": [],
   "source": [
    "def hr(width):\n",
    "  if width < 0:\n",
    "    print(\"Error: width can't be negative\")\n",
    "    return\n",
    "\n",
    "  print(\"=\" * width)"
   ]
  },
  {
   "cell_type": "code",
   "execution_count": 22,
   "id": "91a2610a",
   "metadata": {},
   "outputs": [
    {
     "name": "stdout",
     "output_type": "stream",
     "text": [
      "Error: width can't be negative\n"
     ]
    }
   ],
   "source": [
    "hr(-10)"
   ]
  },
  {
   "cell_type": "code",
   "execution_count": 23,
   "id": "d3e65315",
   "metadata": {},
   "outputs": [
    {
     "name": "stdout",
     "output_type": "stream",
     "text": [
      "====================\n"
     ]
    }
   ],
   "source": [
    "hr(20)"
   ]
  },
  {
   "cell_type": "markdown",
   "id": "5a097083",
   "metadata": {},
   "source": [
    "{{ newrow }}\n",
    "\n",
    "The `return` statement can optionally send a value back to the caller, so that\n",
    "the function call will then evaluate to that value.\n",
    "\n",
    "{{ rightcol }}"
   ]
  },
  {
   "cell_type": "code",
   "execution_count": 24,
   "id": "633cbc0d",
   "metadata": {},
   "outputs": [],
   "source": [
    "def is_between(num, start_range, end_range):\n",
    "    if num >= start_range and num <= end_range:\n",
    "        return True\n",
    "    else:\n",
    "        return False"
   ]
  },
  {
   "cell_type": "markdown",
   "id": "1aa785e2",
   "metadata": {},
   "source": [
    "{{ newrow }}\n",
    "\n",
    "Then you can call the function anywhere you want to use the value it returns.\n",
    "\n",
    "For example, assigning it to a variable...\n",
    "\n",
    "{{ rightcol }}"
   ]
  },
  {
   "cell_type": "code",
   "execution_count": 25,
   "id": "211c5dd7",
   "metadata": {},
   "outputs": [
    {
     "name": "stdout",
     "output_type": "stream",
     "text": [
      "A person of 95\" can ride the ride.\n"
     ]
    }
   ],
   "source": [
    "from random import randint\n",
    "\n",
    "height = randint(36, 108)\n",
    "too_short = is_between(height, 1, 48)\n",
    "words = (\"can\", \"cannot\")\n",
    "\n",
    "print(f'A person of {height}\" {words[too_short]} ride the ride.')"
   ]
  },
  {
   "cell_type": "markdown",
   "id": "4d8ebd74",
   "metadata": {},
   "source": [
    "{{ newrow }}\n",
    "\n",
    "...in an `if` statement...\n",
    "\n",
    "{{ rightcol }}"
   ]
  },
  {
   "cell_type": "code",
   "execution_count": 26,
   "id": "fc14fd52",
   "metadata": {},
   "outputs": [
    {
     "name": "stdout",
     "output_type": "stream",
     "text": [
      "Error: Invalid score: 190\n"
     ]
    }
   ],
   "source": [
    "score = randint(-200, 200)\n",
    "\n",
    "if not is_between(score, 1, 100):\n",
    "    print(f\"Error: Invalid score: {score}\")\n",
    "else:\n",
    "    print(f\"Your score is: {score}%\")"
   ]
  },
  {
   "cell_type": "markdown",
   "id": "d53f6c0f",
   "metadata": {},
   "source": [
    "{{ newrow }}\n",
    "\n",
    "...or as part of an expression.\n",
    "\n",
    "{{ rightcol }}"
   ]
  },
  {
   "cell_type": "code",
   "execution_count": 27,
   "id": "ca2a5654",
   "metadata": {},
   "outputs": [
    {
     "name": "stdout",
     "output_type": "stream",
     "text": [
      "Invalid rating: 10\n"
     ]
    }
   ],
   "source": [
    "rating = randint(0, 10)\n",
    "text = is_between(rating, 1, 5) * f\"Stars: {'*' * rating}\"\n",
    "\n",
    "if not text:\n",
    "    print(f\"Invalid rating: {rating}\")\n",
    "else:\n",
    "    print(text)"
   ]
  },
  {
   "cell_type": "markdown",
   "id": "af1964a2",
   "metadata": {},
   "source": [
    "{{ endcols }}\n",
    "\n",
    "Lets take a look at the difference between printing in the function, and returning.\n",
    "\n",
    "{{ leftcol }}"
   ]
  },
  {
   "cell_type": "code",
   "execution_count": 28,
   "id": "5e658ff9",
   "metadata": {
    "caption": "prints a string",
    "linenos": null
   },
   "outputs": [],
   "source": [
    "def hello(name):\n",
    "  print(f\"hello {name}\")"
   ]
  },
  {
   "cell_type": "code",
   "execution_count": 29,
   "id": "eceecc2e",
   "metadata": {},
   "outputs": [
    {
     "name": "stdout",
     "output_type": "stream",
     "text": [
      "hello you\n"
     ]
    }
   ],
   "source": [
    "text = hello(\"you\")"
   ]
  },
  {
   "cell_type": "code",
   "execution_count": 30,
   "id": "033a2567",
   "metadata": {},
   "outputs": [
    {
     "name": "stdout",
     "output_type": "stream",
     "text": [
      "<class 'NoneType'>\n"
     ]
    }
   ],
   "source": [
    "print(type(text))"
   ]
  },
  {
   "cell_type": "code",
   "execution_count": 31,
   "id": "4b4cbfe4",
   "metadata": {},
   "outputs": [
    {
     "name": "stdout",
     "output_type": "stream",
     "text": [
      "None\n"
     ]
    }
   ],
   "source": [
    "print(text)"
   ]
  },
  {
   "cell_type": "markdown",
   "id": "4b6ff42a",
   "metadata": {},
   "source": [
    "When the function is called, the string `\"hello you\"` is\n",
    "printed. Since nothing is returned, `text` is `None`.\n",
    "\n",
    "{{ rightcol }}"
   ]
  },
  {
   "cell_type": "code",
   "execution_count": 32,
   "id": "81b16b28",
   "metadata": {},
   "outputs": [],
   "source": [
    "def hello(name):\n",
    "  return f\"hello {name}\""
   ]
  },
  {
   "cell_type": "code",
   "execution_count": 33,
   "id": "e8245c85",
   "metadata": {},
   "outputs": [],
   "source": [
    "text = hello(\"you\")"
   ]
  },
  {
   "cell_type": "markdown",
   "id": "d55f101e",
   "metadata": {},
   "source": [
    "{{ br }}\n",
    "{{ br }}\n",
    "{{ br }}\n",
    "{{ br }}"
   ]
  },
  {
   "cell_type": "code",
   "execution_count": 34,
   "id": "5e9822ea",
   "metadata": {},
   "outputs": [
    {
     "name": "stdout",
     "output_type": "stream",
     "text": [
      "<class 'str'>\n"
     ]
    }
   ],
   "source": [
    "print(type(text))"
   ]
  },
  {
   "cell_type": "code",
   "execution_count": 35,
   "id": "ca09ab0e",
   "metadata": {},
   "outputs": [
    {
     "name": "stdout",
     "output_type": "stream",
     "text": [
      "hello you\n"
     ]
    }
   ],
   "source": [
    "print(text)"
   ]
  },
  {
   "cell_type": "markdown",
   "id": "4c6a900f",
   "metadata": {},
   "source": [
    "Nothing is printed when the function is called and `text` is assigned the\n",
    "string `\"hello you\"`.\n",
    "\n",
    "{{ endcols }}\n",
    "\n",
    "### Part 3: Exercise\n",
    "\n",
    "```{exercise} random function\n",
    ":label: random-function-exercise\n",
    "\n",
    "Write a `number()` function to `return` a random number between `1` and `100`.\n",
    "\n",
    "```\n",
    "\n",
    "`````{solution} random-function-exercise\n",
    ":class: dropdown\n",
    "\n",
    "```{code-block} python\n",
    "import random\n",
    "\n",
    "def number():\n",
    "  return random.randint(1, 100)\n",
    "```\n",
    "\n",
    "`````\n",
    "\n",
    "Part 4: Docstrings\n",
    "------------------\n",
    "\n",
    "Docstrings are a special kind of string in Python that are enclosed with three\n",
    "single `'''` or double `\"\"\"` quotes.  They can be used as a normal string that\n",
    "has the added bonus of being able to span multiple lines.\n",
    "\n",
    "Their namesake, and the reason we are interested in them today, comes from the\n",
    "fact that when a docstring is the very first line of a file, function, or\n",
    "class, it serves as documentation."
   ]
  },
  {
   "cell_type": "code",
   "execution_count": 36,
   "id": "ca1dbc0a",
   "metadata": {},
   "outputs": [],
   "source": [
    "def greet(time, name):\n",
    "  \"\"\"Return a greeting message based on the time of day\"\"\"\n",
    "  message = \"Good \" + time + \" \" + name + \".\"\n",
    "  return message"
   ]
  },
  {
   "cell_type": "markdown",
   "id": "b9eca1e5",
   "metadata": {},
   "source": [
    "You can see this works like a comment while looking at the code. Niftier still,\n",
    "a functions docstring is saved by Python and can be used from the interpreters\n",
    "`help()` function.\n",
    "\n",
    "Say we have the following {file}`greetings.py` file:\n",
    "\n",
    "```{code-block} python\n",
    ":caption: greetings.py\n",
    ":linenos:\n",
    "\"\"\"Functions for greeting people\"\"\"\n",
    "\n",
    "def hello(name):\n",
    "    \"\"\"Print hello to name\"\"\"\n",
    "    message = \"Hello \" + name + \".\"\n",
    "    print(message)\n",
    "\n",
    "def greet(time, name):\n",
    "  \"\"\"Return a greeting message based on the time of day\"\"\"\n",
    "  message = \"Good \" + time + \" \" + name + \".\"\n",
    "  return message\n",
    "```\n",
    "\n",
    "We could then import our functions from a Python shell, and call the `help()` on\n",
    "our own `hello` function.\n",
    "\n",
    "```{code-block} python\n",
    ":caption: Python shell\n",
    "\n",
    ">>> from greetings import hello\n",
    ">>> help(hello)\n",
    "Help on function hello in module greetings:\n",
    "\n",
    "hello(name)\n",
    "    Print hello to name\n",
    "```\n",
    "\n",
    "Or we could do the same thing for the whole `greetings` module:\n",
    "\n",
    "```{code-block} python\n",
    ":caption: Python shell\n",
    ">>> import greetings\n",
    ">>> help(greetings)\n",
    "Help on module greetings:\n",
    "\n",
    "NAME\n",
    "    greetings - Functions for greeting people\n",
    "\n",
    "FUNCTIONS\n",
    "    greet(time, name)\n",
    "        Return a greeting message based on the time of day\n",
    "\n",
    "    hello(name)\n",
    "        Print hello to name\n",
    "\n",
    "FILE\n",
    "    .../greetings.py\n",
    "```\n",
    "\n",
    "Ideally all functions should have a simple doctring describing what the\n",
    "function does, any parameters, and any return value. For simple functions a\n",
    "one line brief description will do the trick.\n",
    "\n",
    "For more complicated functions, you can take advantage of the multiline\n",
    "abilities of docstrings to add detailed information. Here's a long docstring\n",
    "example.\n",
    "\n",
    "```{code-block} python\n",
    ":linenos:\n",
    "\n",
    "def prettify(message, align, width):\n",
    "    \"\"\"Return a formatted message\n",
    "\n",
    "    Params\n",
    "    ------\n",
    "    message (str): Message to format\n",
    "    align (str): Alignment of text (left, center, right)\n",
    "    width (int): Width of text\n",
    "\n",
    "    Returns\n",
    "    -------\n",
    "    message (str): formatted message\n",
    "\n",
    "    Examples\n",
    "    --------\n",
    "    >>> prettify(\"hello\", \"center\", 100)\n",
    "    '            hello             '\n",
    "    >>> prettify(\"goodbye\", \"right\", 100)\n",
    "    '                       goodbye'\n",
    "    \"\"\"\n",
    "\n",
    "    if align not in (\"left\", \"center\", \"right\"):\n",
    "      print(f\"Invalid align argument: '{align}'\")\n",
    "      return\n",
    "\n",
    "    if align == \"center\":\n",
    "      message = message.center(width)\n",
    "    elif align == \"right\":\n",
    "      message = message.rjust(width)\n",
    "\n",
    "    return message\n",
    "```\n",
    "\n",
    "Exercises\n",
    "---------\n",
    "\n",
    "### `welcome()` function\n",
    "\n",
    "`````{exercise} welcome\n",
    ":label: extra-exercise-a\n",
    "\n",
    "Write a function named `welcome` that prints `\"Welcome to coding class!\"`\n",
    "\n",
    "```python\n",
    ">>> welcome()\n",
    "```\n",
    "\n",
    "`````\n",
    "\n",
    "`````{solution} extra-exercise-a\n",
    ":class: dropdown\n",
    "\n",
    "```{code-block} python\n",
    ":linenos:\n",
    "def welcome():\n",
    "   print(\"Welcome to coding class!\")\n",
    "```\n",
    "\n",
    "```python\n",
    ">>> welcome()\n",
    "Welcome to coding class!\n",
    "```\n",
    "\n",
    "`````\n",
    "\n",
    "### `letter_count()` function\n",
    "\n",
    "`````{exercise} letter_count\n",
    ":label: extra-exercise-b\n",
    "\n",
    "Write a function called `letter_count` that takes one argument `text` and\n",
    "prints `\"There are __ characters in '___'.\"`  Call it multiple times with\n",
    "different arguments.\n",
    "\n",
    "`````\n",
    "\n",
    "`````{solution} extra-exercise-b\n",
    ":class: dropdown\n",
    "\n",
    "```{code-block} python\n",
    ":linenos:\n",
    "def letter_count(text):\n",
    "  print(f\"There are {len(text)} characters in '{text}'.\")\n",
    "```\n",
    "\n",
    "```python\n",
    ">>> letter_count(\"hello\")\n",
    "There are 5 characters in 'hello'.\n",
    "\n",
    ">>> letter_count(\"goodbye\")\n",
    "There are 7 characters in 'goodbye'.\n",
    "\n",
    ">>> letter_count(\"many thanks\")\n",
    "There are 11 characters in 'many thanks'.\n",
    "\n",
    ">>> letter_count(\"\")\n",
    "There are 0 characters in ''.\n",
    "```\n",
    "\n",
    "`````\n",
    "\n",
    "### `is_vowel()` function\n",
    "\n",
    "`````{exercise} is_vowel\n",
    ":label: extra-exercise-c\n",
    "\n",
    "a. Write a function named `is_vowel` that returns `True` if a character is a\n",
    "   vowel and `False` otherwise. Don't print anything in the function. Bonus:\n",
    "   make it case-insensitive.\n",
    "\n",
    "```python\n",
    ">>> is_vowel(\"a\")\n",
    "True\n",
    "\n",
    ">>> is_vowel(\"E\")\n",
    "True\n",
    "\n",
    ">>> is_vowel(\"c\")\n",
    "False\n",
    "\n",
    ">>> is_vowel(\"something\")\n",
    "False\n",
    "```\n",
    "\n",
    "b. Call the function with a letter assign the result to a variable like\n",
    "`answer`.  Print `\"is '_____' a vowel?: ___\"`. (Note: this should be\n",
    "__outside__ of the function.) Do this same thing with multiple arguments.\n",
    "\n",
    "`````\n",
    "\n",
    "`````{solution} extra-exercise-c\n",
    ":class: dropdown\n",
    "\n",
    "```{code-block} python\n",
    ":linenos:\n",
    "def is_vowel(letter):\n",
    "   return letter.lower() in [\"a\", \"e\", \"i\", \"o\", \"u\"]\n",
    "```\n",
    "\n",
    "```python\n",
    ">>> ltr = \"a\" ; answer = is_vowel(ltr)\n",
    ">>> print(f\"is '{ltr}' a vowel?: {answer}\")\n",
    "is 'a' a vowel?: True\n",
    "\n",
    ">>> ltr = \"z\" ; answer = is_vowel(ltr)\n",
    ">>> print(f\"is '{ltr}' a vowel?: {answer}\")\n",
    "is 'z' a vowel?: False\n",
    "\n",
    ">>> ltr = \"E\" ; answer = is_vowel(ltr)\n",
    ">>> print(f\"is '{ltr}' a vowel?: {answer}\")\n",
    "is 'E' a vowel?: True\n",
    "\n",
    ">>> ltr = \"word\" ; answer = is_vowel(ltr)\n",
    ">>> print(f\"is '{ltr}' a vowel?: {answer}\")\n",
    "is 'word' a vowel?: False\n",
    "\n",
    ">>> ltr = \"\" ; answer = is_vowel(ltr)\n",
    ">>> print(f\"is '{ltr}' a vowel?: {answer}\")\n",
    "is '' a vowel?: False\n",
    "```\n",
    "\n",
    "`````\n",
    "\n",
    "### `tip()` function\n",
    "\n",
    "`````{exercise} tip\n",
    ":label: extra-exercise-d\n",
    "a. Write a function `tip` that takes the arguments, `cost` and `percent`, and\n",
    "returns the tip amount. Do not print anything inside the function.\n",
    "\n",
    "```python\n",
    ">>> tip(100, 20)\n",
    "20.0\n",
    "```\n",
    "\n",
    "b. Call the function with an argument for `cost` and `percent` and assign the\n",
    "result to a variable like `amount`.  Print the result like: `\"A ____% tip on a\n",
    "$_____ bill is: $_____\"`. (Note: this should be __outside__ of the function.)\n",
    "Do this same thing with multiple arguments.\n",
    "\n",
    "`````\n",
    "\n",
    "`````{solution} extra-exercise-d\n",
    ":class: dropdown\n",
    "\n",
    "```{code-block} python\n",
    ":linenos:\n",
    "def tip(cost, percent):\n",
    "   return cost * (percent/100)\n",
    "```\n",
    "\n",
    "```python\n",
    ">>> c, p = 100, 20 ; amount = tip(c, p)\n",
    ">>> print(f\"A {p}% tip on a ${c} bill is: ${amount}\")\n",
    "A 20% tip on a $100 bill is: $20.0\n",
    "\n",
    ">>> c, p = 10, 15 ; amount = tip(c, p)\n",
    ">>> print(f\"A {p}% tip on a ${c} bill is: ${amount}\")\n",
    "A 15% tip on a $10 bill is: $1.5\n",
    "\n",
    ">>> c, p = 500, 10 ; amount = tip(c, p)\n",
    ">>> print(f\"A {p}% tip on a ${c} bill is: ${amount}\")\n",
    "A 10% tip on a $500 bill is: $50.0\n",
    "```\n",
    "\n",
    "`````\n",
    "\n",
    "### `total()` function\n",
    "\n",
    "`````{exercise} total\n",
    ":label: extra-exercise-e\n",
    "a. Write a function `total` that takes the arguments, `bill` and `tip_percent`,\n",
    "and returns the total including the tip. To calculate the tip call your\n",
    "`tip()` function from the `total()` function. Do not print anything inside the\n",
    "function.\n",
    "\n",
    "```python\n",
    ">>> total(100, 20)\n",
    "120.0\n",
    "```\n",
    "\n",
    "b. Call the function with an argument for `bill` and `tip_percent` and assign the\n",
    "result to a variable like `final`.  Print the result like:\n",
    "`\"The final total on a $___ bill including a __% tip is: $_____\"`.\n",
    "(Note: this should be __outside__ of the function.) Do this same thing with\n",
    "multiple arguments.\n",
    "\n",
    "`````\n",
    "\n",
    "`````{solution} extra-exercise-e\n",
    ":class: dropdown\n",
    "\n",
    "```{code-block} python\n",
    ":linenos:\n",
    "def total(bill, tip_percent):\n",
    "   return bill + tip(bill, tip_percent)\n",
    "```\n",
    "\n",
    "```python\n",
    ">>> b = 100 ; t = 20 ; final = total(b, t)\n",
    ">>> print(f\"The final total on a ${b} bill including a {t}% tip is: ${final}\")\n",
    "The final total on a $100 bill including a 20% tip is: $120.0\n",
    "\n",
    ">>> b = 10 ; t = 15 ; final = total(b, t)\n",
    ">>> print(f\"The final total on a ${b} bill including a {t}% tip is: ${final}\")\n",
    "The final total on a $10 bill including a 15% tip is: $11.5\n",
    "\n",
    ">>> b = 500 ; t = 10 ; final = total(b, t)\n",
    ">>> print(f\"The final total on a ${b} bill including a {t}% tip is: ${final}\")\n",
    "The final total on a $500 bill including a 10% tip is: $550.0\n",
    "```\n",
    "\n",
    "`````\n",
    "\n",
    "### Docstring exercise\n",
    "\n",
    "```{exercise} docstrings\n",
    ":label: docstrings-exercise\n",
    "\n",
    "Add a simple docstring to your file and all of the functions you've written\n",
    "today. Import them into a Python shell and use the `help()` function to view them.\n",
    "\n",
    "```\n",
    "\n",
    "Reference\n",
    "---------\n",
    "\n",
    "### Glossary\n",
    "\n",
    "```{glossary} functions\n",
    "\n",
    "argument\n",
    "  A {term}`value` that is passed as input to a function.\n",
    "\n",
    "call\n",
    "  code that tells the computer to {term}`execute` the code within a previously\n",
    "  defined function or method by using the function name followed by `(` `)`,\n",
    "  with any arguments inside the parenthisis.\n",
    "\n",
    "define\n",
    "defining a function\n",
    "  Creating a function by specifying its name, the parameters it takes, and what\n",
    "  it does. In Python, this is done using the `def` keyword.\n",
    "\n",
    "\n",
    "docstring\n",
    "  a special kind of string surrounded by triple double-quotes `\"\"\"` or triple\n",
    "  single-quotes `'''` that can span multiple lines. When a docstring appears as\n",
    "  the first expression in a file, module, class, or function it is stored by\n",
    "  Python as documentation and can be seen by using the `help()` function in the\n",
    "  {term}`Python shell`.\n",
    "\n",
    "function\n",
    "  a named block of reusable code. A function may or may not take arguments, and\n",
    "  may or may not return a value. In Python it is recommended to use the\n",
    "  `lower_case_with_underscores` for function names.\n",
    "\n",
    "keyword argument\n",
    "  when arguments passed to a function are preceeded by the paramater name and\n",
    "  an equals sign (`=`) so that they are assigned to the specified parameter\n",
    "  regardless of the order in which they appear\n",
    "\n",
    "parameter\n",
    "  The named variables that appear in a function definition to specify the\n",
    "  arguments it can accept.\n",
    "\n",
    "positional argument\n",
    "  when arguments are passed to a function so that they are assigned based on\n",
    "  the order in which they appear\n",
    "\n",
    "return\n",
    "  a statement that can be used in a function to exit the function and\n",
    "  optionally send a value to the caller\n",
    "\n",
    "```\n",
    "\n",
    "### See Also\n",
    "\n",
    "```{seealso}\n",
    "\n",
    "* [python.org > Tutorial > Defining Functions](https://docs.python.org/3/tutorial/controlflow.html#defining-functions)\n",
    "* [python.org > Tutorial > Documentation Strings](https://docs.python.org/3/tutorial/controlflow.html#tut-docstrings)\n",
    "* [Defining Your Own Python Function](https://realpython.com/defining-your-own-python-function/)\n",
    "* [Real Python > The Python return Statement: Usage and Best Practices](https://realpython.com/python-return-statement/)\n",
    "\n",
    "```"
   ]
  }
 ],
 "metadata": {
  "jupytext": {
   "formats": "md:myst",
   "text_representation": {
    "extension": ".md",
    "format_name": "myst"
   }
  },
  "kernelspec": {
   "display_name": "Python 3",
   "language": "python",
   "name": "python3"
  },
  "language_info": {
   "codemirror_mode": {
    "name": "ipython",
    "version": 3
   },
   "file_extension": ".py",
   "mimetype": "text/x-python",
   "name": "python",
   "nbconvert_exporter": "python",
   "pygments_lexer": "ipython3",
   "version": "3.8.12"
  },
  "source_map": [
   17,
   79,
   82,
   91,
   93,
   147,
   151,
   164,
   167,
   207,
   211,
   219,
   224,
   266,
   274,
   284,
   290,
   299,
   305,
   319,
   325,
   334,
   340,
   349,
   355,
   365,
   368,
   376,
   385,
   392,
   408,
   414,
   420,
   425,
   428,
   513,
   522,
   530,
   540,
   544,
   546,
   555,
   561,
   571,
   579,
   587,
   594,
   602,
   610,
   618,
   625,
   629,
   633,
   635,
   642,
   647,
   649,
   656,
   660,
   662,
   701,
   706
  ],
  "substitutions": {
   "label": "<div class=\"text-right\">Syntax:</div>",
   "left": "{{ leftcol | replace(\"col\", \"col-5\") }}",
   "right": "{{ rightcol | replace(\"col\", \"col-7\") }}",
   "row": "{{ newrow | replace(\"col\", \"col-5\") }}"
  }
 },
 "nbformat": 4,
 "nbformat_minor": 5
}