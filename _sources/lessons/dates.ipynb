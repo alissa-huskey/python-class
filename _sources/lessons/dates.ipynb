{
 "cells": [
  {
   "cell_type": "markdown",
   "id": "93193451",
   "metadata": {},
   "source": [
    "Dates and Times\n",
    "===============\n",
    "\n",
    "```{contents} Table of Contents\n",
    ":backlinks: top\n",
    ":local:\n",
    "```\n",
    "\n",
    "Dealing with dates and times is vital to many progamming tasks from something\n",
    "as simple as displaying the current date and time to pulling up all of the\n",
    "records that were created during a particular period of time.\n",
    "\n",
    "Dates and times have a surprising amount of complexity, between timezones,\n",
    "daylight savings times, leap years, and varrying month lengths. Luckily modern\n",
    "Python programmers don't need to figure this all out, but instead can rely on\n",
    "libraries to handle to package it into a few (relatively) simple types.\n",
    "\n",
    "Part 1: Datetime objects\n",
    "------------------------\n",
    "\n",
    "The `datetime` module provides types for manipulating dates and times. In this\n",
    "lesson we'll learn about the `datetime` type.\n",
    "\n",
    "### Part 1.1: The current date and time\n",
    "\n",
    "To get the current date and time, first you'll need to import the `datetime`\n",
    "type from the `datetime` module. Then you can call the `.today()` method, which\n",
    "will return a `datetime` object with the current date and time."
   ]
  },
  {
   "cell_type": "code",
   "execution_count": 1,
   "id": "eb6f5731",
   "metadata": {
    "class": "full-width"
   },
   "outputs": [],
   "source": [
    "from datetime import datetime\n",
    "now = datetime.today()"
   ]
  },
  {
   "cell_type": "markdown",
   "id": "769ce00a",
   "metadata": {},
   "source": [
    "### Part 1.2: Simple date and time formatting\n",
    "\n",
    "If you want to display a human-readable date or time, you can convert a\n",
    "datetime object to a string using the `str` type."
   ]
  },
  {
   "cell_type": "code",
   "execution_count": 2,
   "id": "2100e334",
   "metadata": {},
   "outputs": [
    {
     "name": "stdout",
     "output_type": "stream",
     "text": [
      "2022-03-24 04:17:58.934469\n"
     ]
    }
   ],
   "source": [
    "print(str(now))"
   ]
  },
  {
   "cell_type": "markdown",
   "id": "c57b1d8c",
   "metadata": {},
   "source": [
    "For just the date or time, you can call the `.date()` or `.time()` methods\n",
    "respectively, then convert the returned value to a string."
   ]
  },
  {
   "cell_type": "code",
   "execution_count": 3,
   "id": "73293dbd",
   "metadata": {},
   "outputs": [
    {
     "name": "stdout",
     "output_type": "stream",
     "text": [
      "2022-03-24\n",
      "04:17:58.934469\n"
     ]
    }
   ],
   "source": [
    "print(str(now.date()))\n",
    "print(str(now.time()))"
   ]
  },
  {
   "cell_type": "markdown",
   "id": "aea6a455",
   "metadata": {},
   "source": [
    "### Part 1.3: Individual values\n",
    "\n",
    "You can access individual parts of a `datetime` object via the following\n",
    "properties:\n",
    "\n",
    "- year\n",
    "- month\n",
    "- day\n",
    "- hour\n",
    "- minute\n",
    "- second\n",
    "- microsecond"
   ]
  },
  {
   "cell_type": "code",
   "execution_count": 4,
   "id": "d53a88e6",
   "metadata": {},
   "outputs": [
    {
     "name": "stdout",
     "output_type": "stream",
     "text": [
      "2022\n",
      "3\n",
      "24\n",
      "4\n",
      "17\n",
      "58\n",
      "934469\n"
     ]
    }
   ],
   "source": [
    "print(now.year)\n",
    "print(now.month)\n",
    "print(now.day)\n",
    "print(now.hour)\n",
    "print(now.minute)\n",
    "print(now.second)\n",
    "print(now.microsecond)"
   ]
  },
  {
   "cell_type": "markdown",
   "id": "8115da40",
   "metadata": {},
   "source": [
    "To get the day of the week you can call the `.weekday()` method. It will return\n",
    "an integer between `0` and `6` representing `Monday` through `Sunday`."
   ]
  },
  {
   "cell_type": "code",
   "execution_count": 5,
   "id": "ebd800cb",
   "metadata": {},
   "outputs": [
    {
     "name": "stdout",
     "output_type": "stream",
     "text": [
      "3\n"
     ]
    }
   ],
   "source": [
    "print(now.weekday())"
   ]
  },
  {
   "cell_type": "markdown",
   "id": "2748b08c",
   "metadata": {},
   "source": [
    "For a list-like iterable of day names in the correct order, you can import\n",
    "`day_name` from the `calendar` module."
   ]
  },
  {
   "cell_type": "code",
   "execution_count": 6,
   "id": "e5fb1504",
   "metadata": {},
   "outputs": [
    {
     "name": "stdout",
     "output_type": "stream",
     "text": [
      "['Monday', 'Tuesday', 'Wednesday', 'Thursday', 'Friday', 'Saturday', 'Sunday']\n"
     ]
    }
   ],
   "source": [
    "from calendar import day_name\n",
    "\n",
    "print(list(day_name))"
   ]
  },
  {
   "cell_type": "markdown",
   "id": "8bc026cb",
   "metadata": {},
   "source": [
    "You can then use the value returned by the `.weekday()` method as the index\n",
    "value of `day_name` to get the weekday name."
   ]
  },
  {
   "cell_type": "code",
   "execution_count": 7,
   "id": "11986ef5",
   "metadata": {},
   "outputs": [
    {
     "name": "stdout",
     "output_type": "stream",
     "text": [
      "Thursday\n"
     ]
    }
   ],
   "source": [
    "print(day_name[now.weekday()])"
   ]
  },
  {
   "cell_type": "markdown",
   "id": "e347ff10",
   "metadata": {},
   "source": [
    "### Part 1.4: Getting a specific date\n",
    "\n",
    "To create a `datetime` object with some other date and time, call the\n",
    "`datetime` type and pass integer arguments for at least the `year`, `month` and\n",
    "`day`.\n",
    "\n",
    "In this example, I'm making a `datetime` object for the date of the initial\n",
    "release of Python[^python-release]."
   ]
  },
  {
   "cell_type": "code",
   "execution_count": 8,
   "id": "8f73c51d",
   "metadata": {},
   "outputs": [
    {
     "data": {
      "text/plain": [
       "datetime.datetime(1991, 2, 20, 0, 0)"
      ]
     },
     "execution_count": 8,
     "metadata": {},
     "output_type": "execute_result"
    }
   ],
   "source": [
    "datetime(1991, 2, 20)"
   ]
  },
  {
   "cell_type": "markdown",
   "id": "10c6e7d5",
   "metadata": {},
   "source": [
    "You can also optionally also pass the `hour`, `minute`, `second` and\n",
    "`microsecond`."
   ]
  },
  {
   "cell_type": "code",
   "execution_count": 9,
   "id": "6a3e669b",
   "metadata": {},
   "outputs": [
    {
     "data": {
      "text/plain": [
       "datetime.datetime(1991, 2, 19, 10, 35, 26)"
      ]
     },
     "execution_count": 9,
     "metadata": {},
     "output_type": "execute_result"
    }
   ],
   "source": [
    "datetime(1991, 2, 19, 10, 35, 26)"
   ]
  },
  {
   "cell_type": "markdown",
   "id": "23e34f2c",
   "metadata": {},
   "source": [
    "[^python-release]: https://groups.google.com/g/alt.sources/c/O2ZSq7DiOwM/m/gcJTvCA27lMJ?pli=1\n",
    "\n",
    "Part 2: Date formatting\n",
    "-----------------------\n",
    "\n",
    "Since there are so many ways to represent a date or time, most programming\n",
    "languages provide a fairly standard set of {term}`date formatting codes`, where\n",
    "each code is a character prefixed by a `%` that is used to represent a\n",
    "particular field and presentation.\n",
    "\n",
    "These can then be put together in a string to indicate a how a date should be\n",
    "diplayed or interpreted.\n",
    "\n",
    "For example, the string `\"%Y-%m-%d %H:%M:%S\"` would represent a date like\n",
    "`\"1991-02-19 10:35:26\"`.\n",
    "\n",
    "For a full list of format codes see the [format codes table](#format-codes) in\n",
    "the reference section of this page.\n",
    "\n",
    "### Part 2.1: Displaying\n",
    "\n",
    "To display a date in a particular format, use the `.strftime()` method on a\n",
    "`datetime` object, and pass it a string with the date format you wish to use."
   ]
  },
  {
   "cell_type": "code",
   "execution_count": 10,
   "id": "5d7a40d3",
   "metadata": {},
   "outputs": [
    {
     "name": "stdout",
     "output_type": "stream",
     "text": [
      "2022-03-24 04:17:58\n"
     ]
    }
   ],
   "source": [
    "print(now.strftime('%Y-%m-%d %H:%M:%S'))"
   ]
  },
  {
   "cell_type": "markdown",
   "id": "96e9e85a",
   "metadata": {},
   "source": [
    "### Part 2.2: Interpreting\n",
    "\n",
    "If you have a date string that you want to turn into a `datetime` object, use\n",
    "the `.strptime()` method on the `datetime` type. Pass it two arguments: the\n",
    "date string and the format string."
   ]
  },
  {
   "cell_type": "code",
   "execution_count": 11,
   "id": "7fb8b5e0",
   "metadata": {},
   "outputs": [
    {
     "data": {
      "text/plain": [
       "datetime.datetime(2020, 6, 5, 0, 0)"
      ]
     },
     "execution_count": 11,
     "metadata": {},
     "output_type": "execute_result"
    }
   ],
   "source": [
    "datetime.strptime(\"6/5/20\", \"%m/%d/%y\")"
   ]
  },
  {
   "cell_type": "markdown",
   "id": "78cb078e",
   "metadata": {},
   "source": [
    "Part 3: Relative dates and times\n",
    "--------------------------------\n",
    "\n",
    "When working with dates and times we often care about the amount of time since\n",
    "or until a particular date, or the times between two dates and times.\n",
    "\n",
    "### Part 3.1: Durations\n",
    "\n",
    "Python provides the `timedelta` type to represent a duration of time, which you\n",
    "can import from the `datetime` module.\n",
    "\n",
    "To construct a `timedelta` object, pass a keyword argument with an integer\n",
    "value for any of the following:\n",
    "\n",
    "- days\n",
    "- seconds\n",
    "- microseconds\n",
    "- milliseconds\n",
    "- minutes\n",
    "- hours\n",
    "- weeks\n",
    "\n",
    "For example, to make a `timedelta` object representing a quarter hour you would\n",
    "pass `minutes=15`."
   ]
  },
  {
   "cell_type": "code",
   "execution_count": 12,
   "id": "e61504df",
   "metadata": {},
   "outputs": [
    {
     "data": {
      "text/plain": [
       "datetime.timedelta(seconds=900)"
      ]
     },
     "execution_count": 12,
     "metadata": {},
     "output_type": "execute_result"
    }
   ],
   "source": [
    "from datetime import timedelta\n",
    "\n",
    "timedelta(minutes=15)"
   ]
  },
  {
   "cell_type": "markdown",
   "id": "99c1274a",
   "metadata": {},
   "source": [
    "You can also do math with `timedelta` objects."
   ]
  },
  {
   "cell_type": "code",
   "execution_count": 13,
   "id": "a8aa4c28",
   "metadata": {},
   "outputs": [
    {
     "data": {
      "text/plain": [
       "2.0"
      ]
     },
     "execution_count": 13,
     "metadata": {},
     "output_type": "execute_result"
    }
   ],
   "source": [
    "week = timedelta(weeks=1)\n",
    "fortnight = timedelta(days=14)\n",
    "\n",
    "fortnight / week"
   ]
  },
  {
   "cell_type": "markdown",
   "id": "ff0e6a9e",
   "metadata": {},
   "source": [
    "While `timedelta` objects can be created in any of the above units of\n",
    "measurement, they are stored in `days` and `seconds`. For example, here we\n",
    "create a `moment` timedelta of `1` minute and `30` seconds."
   ]
  },
  {
   "cell_type": "code",
   "execution_count": 14,
   "id": "dc4a5c2a",
   "metadata": {},
   "outputs": [],
   "source": [
    "moment = timedelta(minutes=1, seconds=30)"
   ]
  },
  {
   "cell_type": "markdown",
   "id": "0c51f6bc",
   "metadata": {},
   "source": [
    "This is stored as `90` seconds."
   ]
  },
  {
   "cell_type": "code",
   "execution_count": 15,
   "id": "4e011e25",
   "metadata": {},
   "outputs": [
    {
     "name": "stdout",
     "output_type": "stream",
     "text": [
      "90\n"
     ]
    }
   ],
   "source": [
    "print(moment.seconds)"
   ]
  },
  {
   "cell_type": "code",
   "execution_count": 16,
   "id": "228286d3",
   "metadata": {},
   "outputs": [
    {
     "name": "stdout",
     "output_type": "stream",
     "text": [
      "1\n",
      "43200\n"
     ]
    }
   ],
   "source": [
    "delta = timedelta(days=1, hours=12)\n",
    "print(delta.days)\n",
    "print(delta.seconds)"
   ]
  },
  {
   "cell_type": "markdown",
   "id": "e315b823",
   "metadata": {},
   "source": [
    "### Part 3.2: Adding and subtracting from dates"
   ]
  },
  {
   "cell_type": "code",
   "execution_count": 17,
   "id": "75e60cd8",
   "metadata": {},
   "outputs": [
    {
     "name": "stdout",
     "output_type": "stream",
     "text": [
      "last week: 2022-03-17 04:17:58.934469\n"
     ]
    }
   ],
   "source": [
    "week = timedelta(days=7)\n",
    "last_week = now - week\n",
    "\n",
    "print(\"last week:\", last_week)"
   ]
  },
  {
   "cell_type": "code",
   "execution_count": 18,
   "id": "529c2226",
   "metadata": {},
   "outputs": [
    {
     "name": "stdout",
     "output_type": "stream",
     "text": [
      "tomorrow: 2022-03-25 04:17:58.934469\n"
     ]
    }
   ],
   "source": [
    "tomorrow = now + timedelta(days=1)\n",
    "\n",
    "print(\"tomorrow:\", tomorrow)"
   ]
  },
  {
   "cell_type": "markdown",
   "id": "d624f371",
   "metadata": {},
   "source": [
    "### Part 3.3: Difference between dates"
   ]
  },
  {
   "cell_type": "code",
   "execution_count": 19,
   "id": "4c346f30",
   "metadata": {},
   "outputs": [
    {
     "name": "stdout",
     "output_type": "stream",
     "text": [
      "657 days, 4:17:58.934469\n"
     ]
    }
   ],
   "source": [
    "birthday = datetime(2020, 6, 5)\n",
    "age = now - birthday\n",
    "\n",
    "print(age)"
   ]
  },
  {
   "cell_type": "markdown",
   "id": "8f5969f9",
   "metadata": {},
   "source": [
    "% ### Part 3 Exercises\n",
    "\n",
    "% `````{exercise} Name\n",
    "% :label: label-exercise\n",
    "% \n",
    "% 1. Get the timedelta for a `fortnight` (`2` weeks).\n",
    "\n",
    "% `````\n",
    "% \n",
    "% `````{solution} label-exercise\n",
    "% :class: dropdown\n",
    "% \n",
    "% ```{code-block} python\n",
    "% :caption: \"Name Exercise\"\n",
    "% :class: full-width\n",
    "% :linenos:\n",
    "% \n",
    "% ```\n",
    "% \n",
    "% `````\n",
    "\n",
    "% Part 4: Timestamps and seconds math\n",
    "% -----------------------------------\n",
    "\n",
    "% Another way to represent a date and time is known as an\n",
    "% {term}`epoch timestamp`.\n",
    "\n",
    "% ```{code-cell} python\n",
    "% now.timestamp()\n",
    "% ```\n",
    "\n",
    "% ```{code-cell} python\n",
    "% # first moon walk\n",
    "% # July 20, 1969\n",
    "% ```\n",
    "\n",
    "\n",
    "Reference\n",
    "---------\n",
    "\n",
    "### Format Codes\n",
    "\n",
    "| Code(s) |        | Field         | Example                          | Format details                              |\n",
    "|---------|--------|---------------|----------------------------------|---------------------------------------------|\n",
    "| `%a`    |        | Weekday       | `\"Sun\"`                          | abbreviated name                            |\n",
    "| `%A`    |        | Weekday       | `\"Sunday\"`                       | full name                                   |\n",
    "| `%u`    |        | Weekday       | `\"7\"`                            | as number, Monday=1 (Solars: Sunday=1)      |\n",
    "| `%w`    |        | Weekday       | `\"0\"`                            | as number, Sunday=0                         |\n",
    "| `%b`    | `%h`   | Month         | `\"Sep\"`                          | abbreviated name                            |\n",
    "| `%B`    |        | Month         | `\"September\"`                    | full name                                   |\n",
    "| `%m`    |        | Month         | `\"09\"`                           | as number, zero-padded                      |\n",
    "| `%d`    |        | Day of Month  | `\"08\"`                           | as number, zero-padded                      |\n",
    "| `%e`    | `%-d`  | Day of Month  | `\"8\"`                            | as number                                   |\n",
    "| `%y`    | `%g`   | Year          | `\"13\"`                           | two digit                                   |\n",
    "| `%Y`    | `%G`   | Year          | `\"2013\"`                         | four digit                                  |\n",
    "| `%H`    | `%I`   | Hour          | `\"07\"`                           | 24-hour clock, zero-padded                  |\n",
    "| `%-H`   | `%-I`  | Hour          | `\"7\"`                            | 24-hour clock                               |\n",
    "| `%M`    |        | Minute        | `\"45\"`                           | minute                                      |\n",
    "| `%S`    |        | Second        | `\"01\"`                           | second                                      |\n",
    "| `%f`    |        | Microsecond   | `\"936048\"`                       | zero-padded microsecond                     |\n",
    "| `%p`    |        | Time Period   | `\"AM\"`                           | AM or PM                                    |\n",
    "| `%Z`    |        | Timezone      | `\"MTD\"`                          | name                                        |\n",
    "| `%Z`    |        | Timezone      | `\"-0600\"`                        | abbreviation                                |\n",
    "| `%s`    |        | Epoch Seconds | `\"1632494701\"`                   | epoch timestamp                             |\n",
    "| `%j`    |        | Day of Year   | `\"267\"`                          | zero-padded number, up to 366               |\n",
    "| `%C`    |        | Century       | `\"20\"`                           | number (first two digits of year)           |\n",
    "| `%W`    |        | Week of Year  | `\"01\"`                           | year starts at first Monday                 |\n",
    "| `%U`    |        | Week of Year  | `\"38\"`                           | year starts at first Sunday                 |\n",
    "| `%V`    |        | Week of Year  | `\"38\"`                           | year starts at first Monday with 4+ days    |\n",
    "| `%c`    |        | Date and Time | `\"Fri Sep 24 08:45:01 2021\"`     | preferred                                   |\n",
    "| `%+`    |        | Date and Time | `\"Fri Sep 24 08:45:01 MDT 2021\"` | national                                    |\n",
    "| `%F`    |        | Date          | `\"2021-09-24\"`                   | same as %Y-%m-%d                            |\n",
    "| `%D`    |        | Date          | `\"09/24/21\"`                     | same as %m/%d/%y                            |\n",
    "| `%x`    |        | Date          | `\"09/24/2021\"`                   | preferred                                   |\n",
    "| `%r`    |        | Time          | `\"08:45:01 AM\"`                  | 12 hour notation                            |\n",
    "| `%T`    |        | Time          | `\"08:45:01\"`                     | %H:%M:%S                                    |\n",
    "| `%R`    |        | Time          | `\"08:45\"`                        | 24 hour notation                            |\n",
    "| `%X`    |        | Time          | `\"08:45:01\"`                     | preferred                                   |\n",
    "| `%n`    |        | Character     | `\"\\n\"`                           | newline                                     |\n",
    "| `%t`    |        | Character     | `\"\\t\"`                           | tab                                         |\n",
    "| `%%`    |        | Character     | `\"%\"`                            | literal %                                   |\n",
    "\n",
    "### See also\n",
    "\n",
    "```{seealso}\n",
    "\n",
    "* [Python.org Docs > datetime Objects](https://docs.python.org/3/library/datetime.html#datetime-objects)\n",
    "* [Python.org Tutorial > 10.8 Dates and Times](https://docs.python.org/3/tutorial/stdlib.html#dates-and-times)\n",
    "* [Format Codes](https://docs.python.org/3/library/datetime.html#strftime-and-strptime-format-codes)\n",
    "* [Format Codes Specification](https://www.ibm.com/docs/en/zos/2.2.0?topic=services-ceeftdsformat-time-date-into-character-string)\n",
    "\n",
    "```\n",
    "\n",
    "### Glossary\n",
    "\n",
    "```{glossary} Dates\n",
    "\n",
    "date formatting codes\n",
    "  A set of characters prefixed by `%` which represent a particular date or time\n",
    "  field and presentation. For example `\"%m\"` is for the month as a number `01`-`12`\n",
    "  while `\"%M\"` is for the full month name and `\"%b\"` is for the abbreviated\n",
    "  month name.\n",
    "\n",
    "timestamp\n",
    "epoch timestamp\n",
    "unix timestamp\n",
    "  A representation of a particular point in time as an integer, the number of\n",
    "  seconds since Jan 01 1970 UTC.\n",
    "\n",
    "```\n",
    "\n",
    "\n",
    "----\n",
    "\n",
    "% TODO\n",
    "% [x] datetime objects\n",
    "% [x] datetime.today() / datetime.now()\n",
    "% [ ] epoch / fromtimestamp / t.timestamp()\n",
    "% [ ] isoformat / from isoformat\n",
    "% [x] strftime / strptime\n",
    "% [ ] compare format codes to standard\n",
    "% [ ] relativedelta\n",
    "% [ ] timezones\n",
    "%     - datetime.fold\n",
    "%     - datetime.tzinfo"
   ]
  }
 ],
 "metadata": {
  "jupytext": {
   "formats": "md:myst",
   "text_representation": {
    "extension": ".md",
    "format_name": "myst"
   }
  },
  "kernelspec": {
   "display_name": "Python 3",
   "language": "python",
   "name": "python3"
  },
  "language_info": {
   "codemirror_mode": {
    "name": "ipython",
    "version": 3
   },
   "file_extension": ".py",
   "mimetype": "text/x-python",
   "name": "python",
   "nbconvert_exporter": "python",
   "pygments_lexer": "ipython3",
   "version": "3.8.12"
  },
  "source_map": [
   11,
   42,
   47,
   54,
   56,
   61,
   64,
   79,
   87,
   92,
   94,
   99,
   103,
   108,
   110,
   121,
   123,
   128,
   130,
   156,
   158,
   166,
   168,
   195,
   199,
   203,
   208,
   214,
   216,
   220,
   225,
   229,
   234,
   241,
   245,
   249,
   254
  ]
 },
 "nbformat": 4,
 "nbformat_minor": 5
}