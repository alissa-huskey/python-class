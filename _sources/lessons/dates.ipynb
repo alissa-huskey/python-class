{
 "cells": [
  {
   "cell_type": "markdown",
   "id": "ddf1afb3",
   "metadata": {},
   "source": [
    "Dates and Times\n",
    "==============="
   ]
  },
  {
   "cell_type": "code",
   "execution_count": 1,
   "id": "3ba9fc32",
   "metadata": {
    "class": "full-width"
   },
   "outputs": [
    {
     "name": "stdout",
     "output_type": "stream",
     "text": [
      "2021-10-05\n",
      "23:28:31.850751\n",
      "2021-10-05 23:28:31.850751\n"
     ]
    }
   ],
   "source": [
    "from datetime import datetime\n",
    "now = datetime.now()\n",
    "\n",
    "print(now.date())\n",
    "print(now.time())\n",
    "print(now)"
   ]
  },
  {
   "cell_type": "markdown",
   "id": "434911e2",
   "metadata": {},
   "source": [
    "Reference\n",
    "---------\n",
    "\n",
    "### Format Codes\n",
    "\n",
    "| Code(s) |        | Part          | Example                          | Format details                              |\n",
    "|---------|--------|---------------|----------------------------------|---------------------------------------------|\n",
    "| `%a`    |        | Weekday       | `\"Sun\"`                          | abbreviated name                            |\n",
    "| `%A`    |        | Weekday       | `\"Sunday\"`                       | full name                                   |\n",
    "| `%u`    |        | Weekday       | `\"7\"`                            | as number, Monday=1 (Solars: Sunday=1)      |\n",
    "| `%w`    |        | Weekday       | `\"0\"`                            | as number, Sunday=0                         |\n",
    "| `%b`    | `%h`   | Month         | `\"Sep\"`                          | abbreviated name                            |\n",
    "| `%B`    |        | Month         | `\"September\"`                    | full name                                   |\n",
    "| `%m`    |        | Month         | `\"09\"`                           | as number, zero-padded                      |\n",
    "| `%d`    |        | Day of Month  | `\"08\"`                           | as number, zero-padded                      |\n",
    "| `%e`    | `%-d`  | Day of Month  | `\"8\"`                            | as number                                   |\n",
    "| `%y`    | `%g`   | Year          | `\"13\"`                           | two digit                                   |\n",
    "| `%Y`    | `%G`   | Year          | `\"2013\"`                         | four digit                                  |\n",
    "| `%H`    | `%I`   | Hour          | `\"07\"`                           | 24-hour clock, zero-padded                  |\n",
    "| `%-H`   | `%-I`  | Hour          | `\"7\"`                            | 24-hour clock                               |\n",
    "| `%M`    |        | Minute        | `\"45\"`                           | minute                                      |\n",
    "| `%S`    |        | Second        | `\"01\"`                           | second                                      |\n",
    "| `%f`    |        | Microsecond   | `\"936048\"`                       | zero-padded microsecond                     |\n",
    "| `%p`    |        | Time Period   | `\"AM\"`                           | AM or PM                                    |\n",
    "| `%Z`    |        | Timezone      | `\"MTD\"`                          | name                                        |\n",
    "| `%Z`    |        | Timezone      | `\"-0600\"`                        | abbreviation                                |\n",
    "| `%s`    |        | Epoch Seconds | `\"1632494701\"`                   | epoch timestamp                             |\n",
    "| `%j`    |        | Day of Year   | `\"267\"`                          | zero-padded number, up to 366               |\n",
    "| `%C`    |        | Century       | `\"20\"`                           | number (first two digits of year)           |\n",
    "| `%W`    |        | Week of Year  | `\"01\"`                           | year starts at first Monday                 |\n",
    "| `%U`    |        | Week of Year  | `\"38\"`                           | year starts at first Sunday                 |\n",
    "| `%V`    |        | Week of Year  | `\"38\"`                           | year starts at first Monday with 4+ days    |\n",
    "| `%c`    |        | Date and Time | `\"Fri Sep 24 08:45:01 2021\"`     | preferred                                   |\n",
    "| `%+`    |        | Date and Time | `\"Fri Sep 24 08:45:01 MDT 2021\"` | national                                    |\n",
    "| `%F`    |        | Date          | `\"2021-09-24\"`                   | same as %Y-%m-%d                            |\n",
    "| `%D`    |        | Date          | `\"09/24/21\"`                     | same as %m/%d/%y                            |\n",
    "| `%x`    |        | Date          | `\"09/24/2021\"`                   | preferred                                   |\n",
    "| `%r`    |        | Time          | `\"08:45:01 AM\"`                  | 12 hour notation                            |\n",
    "| `%T`    |        | Time          | `\"08:45:01\"`                     | %H:%M:%S                                    |\n",
    "| `%R`    |        | Time          | `\"08:45\"`                        | 24 hour notation                            |\n",
    "| `%X`    |        | Time          | `\"08:45:01\"`                     | preferred                                   |\n",
    "| `%n`    |        | Character     | `\"\\n\"`                           | newline                                     |\n",
    "| `%t`    |        | Character     | `\"\\t\"`                           | tab                                         |\n",
    "| `%%`    |        | Character     | `\"%\"`                            | literal %                                   |\n",
    "\n",
    "### See also\n",
    "\n",
    "```{seealso}\n",
    "\n",
    "* [Format Codes](https://docs.python.org/3/library/datetime.html#strftime-and-strptime-format-codes)\n",
    "\n",
    "```\n",
    "\n",
    "\n",
    "\n",
    "----\n",
    "\n",
    "% TODO\n",
    "% [ ] datetime objects\n",
    "% [ ] datetime.today() / datetime.now()\n",
    "% [ ] epoch / fromtimestamp / t.timestamp()\n",
    "% [ ] isoformat / from isoformat\n",
    "% [ ] strftime / strptime\n",
    "%\n",
    "% [ ] relativedelta\n",
    "% [ ] timezones"
   ]
  }
 ],
 "metadata": {
  "jupytext": {
   "formats": "md:myst",
   "text_representation": {
    "extension": ".md",
    "format_name": "myst"
   }
  },
  "kernelspec": {
   "display_name": "Python 3",
   "language": "python",
   "name": "python3"
  },
  "language_info": {
   "codemirror_mode": {
    "name": "ipython",
    "version": 3
   },
   "file_extension": ".py",
   "mimetype": "text/x-python",
   "name": "python",
   "nbconvert_exporter": "python",
   "pygments_lexer": "ipython3",
   "version": "3.8.12"
  },
  "source_map": [
   11,
   16,
   25
  ]
 },
 "nbformat": 4,
 "nbformat_minor": 5
}