{
 "cells": [
  {
   "cell_type": "markdown",
   "id": "e886b98e",
   "metadata": {},
   "source": [
    "For Loops\n",
    "=========\n",
    "\n",
    "A `while` loop continues for as long as a condition is met, a `for` loop on the\n",
    "other hand repeats for every element in an iterable.\n",
    "\n",
    "```{include} ../toc.md\n",
    "```\n",
    "\n",
    "Part 1: Syntax\n",
    "--------------\n",
    "\n",
    "The syntax for a for loop is:\n",
    "\n",
    "{{ leftcol | replace(\"col\", \"col-5\") }}\n",
    "\n",
    "```{include} ../templates/syntax/for.md\n",
    "```\n",
    "\n",
    "{{ rightcol | replace(\"col\", \"col-7\") }}\n",
    "\n",
    "```{include} ../templates/desc/for.md\n",
    "```\n",
    "\n",
    "{{ endcols }}\n",
    "\n",
    "Here's a simple example that iterates over a `list` of strings.\n",
    "\n",
    "```{literalinclude} ../templates/examples/for.py\n",
    ":caption: \"`for` loop example\"\n",
    ":linenos:\n",
    "```\n",
    "\n",
    "### Part 1.1: Exercise\n",
    "\n",
    "```{exercise} Movies\n",
    ":label: movies-exercise\n",
    "\n",
    "Iterate over a `list` of `movies` and print each one out using a `for` loop.\n",
    "```\n",
    "\n",
    "`````{solution} movies-exercise\n",
    ":class: dropdown\n",
    "\n",
    "```{code-block} python\n",
    ":caption: Movies Exercise\n",
    ":linenos:\n",
    "\n",
    "movies = [\n",
    "  \"Treasure Planet\",\n",
    "  \"Finding Nemo\",\n",
    "  \"Kung Fu Panda\",\n",
    "  \"Wall-E\",\n",
    "  \"Lilo & Stitch\",\n",
    "]\n",
    "\n",
    "for name in movies:\n",
    "  print(movie)\n",
    "```\n",
    "\n",
    "`````\n",
    "\n",
    "Part 2: Iterables and iterators\n",
    "-------------------------------\n",
    "\n",
    "Some objects in Python are {term}`iterable`--that is, an object that can be\n",
    "iterated over. For example, `list`, `tuple` and `range` objects are all\n",
    "iterable.\n",
    "\n",
    "All iterables can be converted to an {term}`iterator`, which is an object that\n",
    "will keep returning elements until there are no more left.\n",
    "\n",
    "To demonstrate this we'll create a `colors` `list` then convert the it to a\n",
    "`colors_iterator` using the `iter()` function."
   ]
  },
  {
   "cell_type": "code",
   "execution_count": 1,
   "id": "9d4609c3",
   "metadata": {},
   "outputs": [],
   "source": [
    "colors = [\"red\", \"green\", \"blue\"]\n",
    "colors_iterator = iter(colors)"
   ]
  },
  {
   "cell_type": "markdown",
   "id": "cf18f4cd",
   "metadata": {},
   "source": [
    "Then we'll keep requesting items using the `next()` function, until we\n",
    "encounter a `StopIteration` exception."
   ]
  },
  {
   "cell_type": "code",
   "execution_count": 2,
   "id": "d1746d7a",
   "metadata": {},
   "outputs": [
    {
     "data": {
      "text/plain": [
       "'red'"
      ]
     },
     "execution_count": 2,
     "metadata": {},
     "output_type": "execute_result"
    }
   ],
   "source": [
    "next(colors_iterator)"
   ]
  },
  {
   "cell_type": "code",
   "execution_count": 3,
   "id": "d18a7629",
   "metadata": {},
   "outputs": [
    {
     "data": {
      "text/plain": [
       "'green'"
      ]
     },
     "execution_count": 3,
     "metadata": {},
     "output_type": "execute_result"
    }
   ],
   "source": [
    "next(colors_iterator)"
   ]
  },
  {
   "cell_type": "code",
   "execution_count": 4,
   "id": "57d69d20",
   "metadata": {},
   "outputs": [
    {
     "data": {
      "text/plain": [
       "'blue'"
      ]
     },
     "execution_count": 4,
     "metadata": {},
     "output_type": "execute_result"
    }
   ],
   "source": [
    "next(colors_iterator)"
   ]
  },
  {
   "cell_type": "code",
   "execution_count": 5,
   "id": "9f036c28",
   "metadata": {
    "tags": [
     "raises-exception"
    ]
   },
   "outputs": [
    {
     "ename": "StopIteration",
     "evalue": "",
     "output_type": "error",
     "traceback": [
      "\u001b[0;31m---------------------------------------------------------------------------\u001b[0m",
      "\u001b[0;31mStopIteration\u001b[0m                             Traceback (most recent call last)",
      "Cell \u001b[0;32mIn[5], line 1\u001b[0m\n\u001b[0;32m----> 1\u001b[0m \u001b[38;5;28;43mnext\u001b[39;49m\u001b[43m(\u001b[49m\u001b[43mcolors_iterator\u001b[49m\u001b[43m)\u001b[49m\n",
      "\u001b[0;31mStopIteration\u001b[0m: "
     ]
    }
   ],
   "source": [
    "next(colors_iterator)"
   ]
  },
  {
   "cell_type": "markdown",
   "id": "64b341d6",
   "metadata": {},
   "source": [
    "### Part 2.1: Exercise\n",
    "\n",
    "```{exercise} Iterators\n",
    ":label: iterator-exercise\n",
    "\n",
    "1. Create a list containing the letters in your name assigned to the variable `letters`.\n",
    "2. Convert the list to an iterator using the `iter()` function and assign it to the variable `letters_iterator`.\n",
    "3. Keep calling `next()` with the argument `letters_iterator` until you encounter a `StopIteration` exception.\n",
    "```\n",
    "\n",
    "`````{solution} iterator-exercise\n",
    ":class: dropdown\n",
    "\n",
    "```{code-block} python\n",
    ":caption:  Iterators Exercise\n",
    "\n",
    ">>> letters = list(\"alissa\")\n",
    ">>> letters_iterator = iter(letters)\n",
    ">>> next(letters_iterator)\n",
    "'a'\n",
    "\n",
    ">>> next(letters_iterator)\n",
    "'l'\n",
    "\n",
    ">>> next(letters_iterator)\n",
    "'i'\n",
    "\n",
    ">>> next(letters_iterator)\n",
    "'s'\n",
    "\n",
    ">>> next(letters_iterator)\n",
    "'s'\n",
    "\n",
    ">>> next(letters_iterator)\n",
    "'a'\n",
    "\n",
    ">>> next(letters_iterator)\n",
    "---------------------------------------------------------------------------\n",
    "StopIteration                             Traceback (most recent call last)\n",
    "<ipython-input-51-15be8840759d> in <module>\n",
    "----> 1 next(letters_iterator)\n",
    "\n",
    "```\n",
    "`````\n",
    "\n",
    "Part 3: Under the hood\n",
    "----------------------\n",
    "\n",
    "Now that you know what iterables and iterators are, we demystify for loops.\n",
    "\n",
    "Lets look at the syntax again.\n",
    "\n",
    "```{include} ../templates/syntax/for.md\n",
    "```\n",
    "\n",
    "Here's what's happening behind the scenes:\n",
    "\n",
    "1. `ITERABLE` is converted to an iterator object using `iter()`, or rather its {term}`magic method`\n",
    "2. Each iteration, `next()` is called, and the results are assigned to `VAR`\n",
    "3. The `BODY` statements are executed\n",
    "3. When `next()` results in a `StopIteration` exception it is discarded and the loop ends\n",
    "\n",
    "\n",
    "Lets revisit our `for` loop example, and see if we can deconstruct the behavior\n",
    "of a `for` loop. First we'll create a `houses` list, and convert it to a\n",
    "`houses_iter` using the `iter()` function."
   ]
  },
  {
   "cell_type": "code",
   "execution_count": 6,
   "id": "29ef60a9",
   "metadata": {},
   "outputs": [],
   "source": [
    "# create iterable\n",
    "houses = [\n",
    "  \"Arryn\",\n",
    "  \"Baratheon\",\n",
    "  \"Greyjoy\",\n",
    "  \"Lannister\",\n",
    "  \"Martell\",\n",
    "  \"Stark\",\n",
    "  \"Targaryen\",\n",
    "  \"Tully\",\n",
    "  \"Tyrell\",\n",
    "]\n",
    "\n",
    "# create iterator\n",
    "houses_iter = iter(houses)"
   ]
  },
  {
   "cell_type": "markdown",
   "id": "6023e0a5",
   "metadata": {},
   "source": [
    "Now we'll call `next()` in a `while` loop, and assign the results to `name`."
   ]
  },
  {
   "cell_type": "code",
   "execution_count": 7,
   "id": "df67887e",
   "metadata": {
    "tags": [
     "raises-exception"
    ]
   },
   "outputs": [
    {
     "name": "stdout",
     "output_type": "stream",
     "text": [
      "House Arryn\n",
      "House Baratheon\n",
      "House Greyjoy\n",
      "House Lannister\n",
      "House Martell\n",
      "House Stark\n",
      "House Targaryen\n",
      "House Tully\n",
      "House Tyrell\n"
     ]
    },
    {
     "ename": "StopIteration",
     "evalue": "",
     "output_type": "error",
     "traceback": [
      "\u001b[0;31m---------------------------------------------------------------------------\u001b[0m",
      "\u001b[0;31mStopIteration\u001b[0m                             Traceback (most recent call last)",
      "Cell \u001b[0;32mIn[7], line 4\u001b[0m\n\u001b[1;32m      1\u001b[0m \u001b[38;5;66;03m# loop forever\u001b[39;00m\n\u001b[1;32m      2\u001b[0m \u001b[38;5;28;01mwhile\u001b[39;00m \u001b[38;5;28;01mTrue\u001b[39;00m:\n\u001b[1;32m      3\u001b[0m     \u001b[38;5;66;03m# assign VAR to the results of next()\u001b[39;00m\n\u001b[0;32m----> 4\u001b[0m     name \u001b[38;5;241m=\u001b[39m \u001b[38;5;28;43mnext\u001b[39;49m\u001b[43m(\u001b[49m\u001b[43mhouses_iter\u001b[49m\u001b[43m)\u001b[49m\n\u001b[1;32m      6\u001b[0m     \u001b[38;5;66;03m# BODY statements\u001b[39;00m\n\u001b[1;32m      7\u001b[0m     \u001b[38;5;28mprint\u001b[39m(\u001b[38;5;124mf\u001b[39m\u001b[38;5;124m\"\u001b[39m\u001b[38;5;124mHouse \u001b[39m\u001b[38;5;132;01m{\u001b[39;00mname\u001b[38;5;132;01m}\u001b[39;00m\u001b[38;5;124m\"\u001b[39m)\n",
      "\u001b[0;31mStopIteration\u001b[0m: "
     ]
    }
   ],
   "source": [
    "# loop forever\n",
    "while True:\n",
    "    # assign VAR to the results of next()\n",
    "    name = next(houses_iter)\n",
    "\n",
    "    # BODY statements\n",
    "    print(f\"House {name}\")"
   ]
  },
  {
   "cell_type": "markdown",
   "id": "09349671",
   "metadata": {},
   "source": [
    "This is close, but we're still seeing that `StopIteration` exception. To\n",
    "suppress it we'll need a try-except block."
   ]
  },
  {
   "cell_type": "code",
   "execution_count": 8,
   "id": "1956d712",
   "metadata": {
    "tags": [
     "raises-exception"
    ]
   },
   "outputs": [
    {
     "name": "stdout",
     "output_type": "stream",
     "text": [
      "House Arryn\n",
      "House Baratheon\n",
      "House Greyjoy\n",
      "House Lannister\n",
      "House Martell\n",
      "House Stark\n",
      "House Targaryen\n",
      "House Tully\n",
      "House Tyrell\n"
     ]
    }
   ],
   "source": [
    "# create iterator\n",
    "houses_iter = iter(houses)\n",
    "\n",
    "# loop forever\n",
    "while True:\n",
    "\n",
    "    # any code that may raise an exception goes under the try header\n",
    "    try:\n",
    "\n",
    "        # assign VAR to the results of next()\n",
    "        name = next(houses_iter)\n",
    "\n",
    "    # the type of exception that we want to catch\n",
    "    # instead of raising it, the body statements will be executed\n",
    "    except StopIteration:\n",
    "\n",
    "        # StopIteration means there are no more elements, so exit the loop\n",
    "        break\n",
    "\n",
    "    # BODY statements\n",
    "    print(f\"House {name}\")"
   ]
  },
  {
   "cell_type": "markdown",
   "id": "cc50aa92",
   "metadata": {},
   "source": [
    "Now we have a `while` loop that replicates the behavior of a `for` loop. Here they are side by side.\n",
    "\n",
    "<div class=\"row\"><div class=\"col\">\n",
    "\n",
    "```{code-block-hl} python\n",
    "houses = [\n",
    "  \"Arryn\",\n",
    "  \"Baratheon\",\n",
    "  \"Greyjoy\",\n",
    "  \"Lannister\",\n",
    "  \"Martell\",\n",
    "  \"Stark\",\n",
    "  \"Targaryen\",\n",
    "  \"Tully\",\n",
    "  \"Tyrell\",\n",
    "]\n",
    "\n",
    "houses_iter = iter(!!!houses!!!)\n",
    "\n",
    "while True:\n",
    "    try:\n",
    "      !!!name!!! = next(houses_iter)\n",
    "    except StopIteration:\n",
    "      break\n",
    "\n",
    "    print(f\"House {name}\")\n",
    "\n",
    "```\n",
    "\n",
    "</div><div class=\"col\">\n",
    "\n",
    "```{code-block-hl} python\n",
    "houses = [\n",
    "  \"Arryn\",\n",
    "  \"Baratheon\",\n",
    "  \"Greyjoy\",\n",
    "  \"Lannister\",\n",
    "  \"Martell\",\n",
    "  \"Stark\",\n",
    "  \"Targaryen\",\n",
    "  \"Tully\",\n",
    "  \"Tyrell\",\n",
    "]\n",
    "\n",
    "for !!!name!!! in !!!houses!!!:\n",
    "  print(f\"House {name}\")\n",
    "\n",
    "```\n",
    "</div></div>\n",
    "\n",
    "### Part 3.1: Exercise\n",
    "\n",
    "```{exercise} Game Characters\n",
    ":label: characters-exercise\n",
    "\n",
    "1. Make a `list` of game character `roles`.\n",
    "1. write a `while` loop\n",
    "   1. Convert the `list` to an `roles_iter` iterator using the `iter()` function\n",
    "   1. Make a `while` loop with the condition `True`\n",
    "   1. Get each `role` element from the `roles_iter` by calling `next()`\n",
    "   1. Print the `role`\n",
    "   1. Suppress the error with a try-except block\n",
    "2. write a `for` loop\n",
    "   1. Make a `for` loop with the variable name `role` and the iterable `roles`\n",
    "   1. Print the `role`\n",
    "\n",
    "```\n",
    "\n",
    "`````{solution} characters-exercise\n",
    ":class: dropdown\n",
    "\n",
    "```{code-block} python\n",
    ":caption: Characters Exercise\n",
    ":linenos:\n",
    "\n",
    "WIDTH = 30\n",
    "roles = [\"mage\", \"thief\", \"warrior\"]\n",
    "\n",
    "print(\"WHILE LOOP \".ljust(WIDTH, \"#\"))\n",
    "roles_iterator = iter(roles)\n",
    "while True:\n",
    "    try:\n",
    "      role = next(roles_iterator)\n",
    "    except StopIteration:\n",
    "        break\n",
    "    print(role)\n",
    "\n",
    "\n",
    "print(\"FOR LOOP \".ljust(WIDTH, \"#\"))\n",
    "for role in roles:\n",
    "  print(role)\n",
    "\n",
    "```\n",
    "\n",
    "`````\n",
    "\n",
    "Part 4: Multiple assignment\n",
    "---------------------------\n",
    "\n",
    "Depending on the type passed to it, `next()` may sometimes return more than one\n",
    "value. The classic example of this is {samp}`{dict}.items()`."
   ]
  },
  {
   "cell_type": "code",
   "execution_count": 9,
   "id": "52b6b1f4",
   "metadata": {},
   "outputs": [],
   "source": [
    "suites = {\n",
    "  \"heart\": \"red\",\n",
    "  \"diamond\": \"red\",\n",
    "  \"club\": \"black\",\n",
    "  \"spade\": \"black\",\n",
    "}\n",
    "suites_iterator = iter(suites.items())"
   ]
  },
  {
   "cell_type": "code",
   "execution_count": 10,
   "id": "91ecbcda",
   "metadata": {},
   "outputs": [
    {
     "data": {
      "text/plain": [
       "('heart', 'red')"
      ]
     },
     "execution_count": 10,
     "metadata": {},
     "output_type": "execute_result"
    }
   ],
   "source": [
    "next(suites_iterator)"
   ]
  },
  {
   "cell_type": "markdown",
   "id": "61d8f968",
   "metadata": {},
   "source": [
    "You can see that `next()` returns a `tuple` that contains two items. We can\n",
    "assign this to a single variable, which will then contain the entire `tuple.`"
   ]
  },
  {
   "cell_type": "code",
   "execution_count": 11,
   "id": "9892c297",
   "metadata": {},
   "outputs": [
    {
     "data": {
      "text/plain": [
       "('diamond', 'red')"
      ]
     },
     "execution_count": 11,
     "metadata": {},
     "output_type": "execute_result"
    }
   ],
   "source": [
    "item = next(suites_iterator)\n",
    "item"
   ]
  },
  {
   "cell_type": "markdown",
   "id": "a297b42b",
   "metadata": {},
   "source": [
    "Or we could use {term}`multiple assignment` to assign each item in the `tuple`\n",
    "to a corresponding variable. There must be the same number of variables to the\n",
    "left of the `=` as there are items in the `tuple` separated by `,`."
   ]
  },
  {
   "cell_type": "code",
   "execution_count": 12,
   "id": "81a6ee64",
   "metadata": {},
   "outputs": [],
   "source": [
    "suit, color = next(suites_iterator)"
   ]
  },
  {
   "cell_type": "code",
   "execution_count": 13,
   "id": "ffe0b721",
   "metadata": {},
   "outputs": [
    {
     "data": {
      "text/plain": [
       "'club'"
      ]
     },
     "execution_count": 13,
     "metadata": {},
     "output_type": "execute_result"
    }
   ],
   "source": [
    "suit"
   ]
  },
  {
   "cell_type": "code",
   "execution_count": 14,
   "id": "294bb02b",
   "metadata": {},
   "outputs": [
    {
     "data": {
      "text/plain": [
       "'black'"
      ]
     },
     "execution_count": 14,
     "metadata": {},
     "output_type": "execute_result"
    }
   ],
   "source": [
    "color"
   ]
  },
  {
   "cell_type": "markdown",
   "id": "8db9bf69",
   "metadata": {},
   "source": [
    "Lets put this assignment fanciness in a `while` loop."
   ]
  },
  {
   "cell_type": "code",
   "execution_count": 15,
   "id": "ab56703a",
   "metadata": {},
   "outputs": [
    {
     "name": "stdout",
     "output_type": "stream",
     "text": [
      "The heart suit is red.\n",
      "The diamond suit is red.\n",
      "The club suit is black.\n",
      "The spade suit is black.\n"
     ]
    }
   ],
   "source": [
    "suites_iterator = iter(suites.items())\n",
    "\n",
    "while True:\n",
    "    try:\n",
    "      suit, color = next(suites_iterator)\n",
    "    except StopIteration:\n",
    "      break\n",
    "\n",
    "    print(f\"The {suit} suit is {color}.\")"
   ]
  },
  {
   "cell_type": "markdown",
   "id": "6fa3e592",
   "metadata": {},
   "source": [
    "And lets see how it looks in a `for` loop."
   ]
  },
  {
   "cell_type": "code",
   "execution_count": 16,
   "id": "58d37d4a",
   "metadata": {},
   "outputs": [
    {
     "name": "stdout",
     "output_type": "stream",
     "text": [
      "The heart suit is red.\n",
      "The diamond suit is red.\n",
      "The club suit is black.\n",
      "The spade suit is black.\n"
     ]
    }
   ],
   "source": [
    "for suit, color in suites.items():\n",
    "    print(f\"The {suit} suit is {color}.\")"
   ]
  },
  {
   "cell_type": "markdown",
   "id": "27b2be51",
   "metadata": {},
   "source": [
    "Here they are side by side.\n",
    "\n",
    "<div class=\"row\"><div class=\"col\">\n",
    "\n",
    "```{code-block-hl} python\n",
    ":linenos:\n",
    "\n",
    "suites = {\n",
    "  \"heart\": \"red\",\n",
    "  \"diamond\": \"red\",\n",
    "  \"club\": \"black\",\n",
    "  \"spade\": \"black\",\n",
    "}\n",
    "\n",
    "suites_iterator = iter(!!!suites.items()!!!)\n",
    "\n",
    "while True:\n",
    "    try:\n",
    "      !!!suit, color!!! = next(suites_iterator)\n",
    "    except StopIteration:\n",
    "      break\n",
    "\n",
    "    print(f\"The {suit} suit is {color}.\")\n",
    "```\n",
    "</div><div class=\"col\">\n",
    "\n",
    "```{code-block-hl} python\n",
    ":linenos:\n",
    "\n",
    "suites = {\n",
    "  \"heart\": \"red\",\n",
    "  \"diamond\": \"red\",\n",
    "  \"club\": \"black\",\n",
    "  \"spade\": \"black\",\n",
    "}\n",
    "\n",
    "for !!!suit, color!!! in !!!suites.items()!!!:\n",
    "    print(f\"The {suit} suit is {color}.\")\n",
    "\n",
    "```\n",
    "\n",
    "</div></div>\n",
    "\n",
    "### Part 4.1: Exercise\n",
    "\n",
    "```{exercise} Game Tools\n",
    ":label: toolss-exercise\n",
    "\n",
    "1. Make a `dict` of game character `tools`, where the key is the `role` and the value is a `tool`.\n",
    "1. write a `while` loop\n",
    "   1. Convert `tools.items()` to an `tools_iter` iterator using the `iter()` function\n",
    "   1. Make a `while` loop with the condition `True`\n",
    "   1. Get each `role` and `tool` element from the `tools_iter` by calling `next()`\n",
    "   1. Print the {samp}`\"A {role}s favorite tool is their trusty: {tool}.\"`\n",
    "   1. Suppress the error with a try-except block\n",
    "2. write a `for` loop\n",
    "   1. Make a `for` loop with the variable name `tool` and the iterable `tools`\n",
    "   1. Print the `tool`\n",
    "\n",
    "```\n",
    "\n",
    "`````{solution} skills-exercise\n",
    ":class: dropdown\n",
    "\n",
    "```{code-block} python\n",
    ":caption: Skills Exercise\n",
    ":linenos:\n",
    "\n",
    "WIDTH = 30\n",
    "tools = {\n",
    "  \"mage\": \"wand\",\n",
    "  \"thief\": \"lockpick set\",\n",
    "  \"warrior\": \"sword\",\n",
    "}\n",
    "tools_iter = iter(tools.items())\n",
    "\n",
    "print(\"WHILE LOOP \".ljust(WIDTH, \"#\"))\n",
    "while True:\n",
    "  try:\n",
    "    role, tool = next(tools_iter)\n",
    "  except StopIteration:\n",
    "    break\n",
    "  print(f\"A {role}s favorite tool is their trusty: {tool}.\")\n",
    "\n",
    "print(\"FOR LOOP \".ljust(WIDTH, \"#\"))\n",
    "for role, tool in tools.items():\n",
    "  print(f\"A {role}s favorite tool is their trusty: {tool}.\")\n",
    "\n",
    "```\n",
    "\n",
    "`````\n",
    "\n",
    "Part 5: Incrementing\n",
    "--------------------\n",
    "\n",
    "Sometimes we need to keep track of the number associated with each item in an\n",
    "iterable. One way to do this would be to increment a number each iteration."
   ]
  },
  {
   "cell_type": "code",
   "execution_count": 17,
   "id": "5591a944",
   "metadata": {},
   "outputs": [
    {
     "name": "stdout",
     "output_type": "stream",
     "text": [
      "0 red\n",
      "1 orange\n",
      "2 yellow\n",
      "3 green\n",
      "4 blue\n",
      "5 indigo\n",
      "6 violet\n"
     ]
    }
   ],
   "source": [
    "i = 0\n",
    "rainbow = [\"red\", \"orange\", \"yellow\", \"green\", \"blue\", \"indigo\", \"violet\"]\n",
    "\n",
    "for color in rainbow:\n",
    "  print(i, color)\n",
    "  i += 1"
   ]
  },
  {
   "cell_type": "markdown",
   "id": "ce443489",
   "metadata": {},
   "source": [
    "An easier way to do this is to use the `enumerate()` function which returns an\n",
    "iterator. Each iteration it yields a tuple containing the count and the next\n",
    "item.\n",
    "\n",
    "Lets take a look at what happens when we pass the `rainbow` list to\n",
    "`enumerate()`. (Notice that we convert the iterator to a list so we can see its\n",
    "contents.)"
   ]
  },
  {
   "cell_type": "code",
   "execution_count": 18,
   "id": "55565127",
   "metadata": {},
   "outputs": [
    {
     "data": {
      "text/plain": [
       "[(0, 'red'),\n",
       " (1, 'orange'),\n",
       " (2, 'yellow'),\n",
       " (3, 'green'),\n",
       " (4, 'blue'),\n",
       " (5, 'indigo'),\n",
       " (6, 'violet')]"
      ]
     },
     "execution_count": 18,
     "metadata": {},
     "output_type": "execute_result"
    }
   ],
   "source": [
    "list(enumerate(rainbow))"
   ]
  },
  {
   "cell_type": "markdown",
   "id": "43c7110d",
   "metadata": {},
   "source": [
    "To use this in a `for` loop, we'll call `enumerate()` on the `ITERABLE`. Then\n",
    "we'll change `VAR` so that it assigns both `i` and `color`."
   ]
  },
  {
   "cell_type": "code",
   "execution_count": 19,
   "id": "57d72abf",
   "metadata": {},
   "outputs": [
    {
     "name": "stdout",
     "output_type": "stream",
     "text": [
      "0 red\n",
      "1 orange\n",
      "2 yellow\n",
      "3 green\n",
      "4 blue\n",
      "5 indigo\n",
      "6 violet\n"
     ]
    }
   ],
   "source": [
    "rainbow = [\"red\", \"orange\", \"yellow\", \"green\", \"blue\", \"indigo\", \"violet\"]\n",
    "\n",
    "for i, color in enumerate(rainbow):\n",
    "  print(i, color)"
   ]
  },
  {
   "cell_type": "markdown",
   "id": "60d8eea4",
   "metadata": {},
   "source": [
    "We can change the number that `emumerate()` starts at by passing an optional\n",
    "second argument."
   ]
  },
  {
   "cell_type": "code",
   "execution_count": 20,
   "id": "e936fde0",
   "metadata": {},
   "outputs": [
    {
     "name": "stdout",
     "output_type": "stream",
     "text": [
      "1 red\n",
      "2 orange\n",
      "3 yellow\n",
      "4 green\n",
      "5 blue\n",
      "6 indigo\n",
      "7 violet\n"
     ]
    }
   ],
   "source": [
    "rainbow = [\"red\", \"orange\", \"yellow\", \"green\", \"blue\", \"indigo\", \"violet\"]\n",
    "\n",
    "for i, color in enumerate(rainbow, 1):\n",
    "  print(i, color)"
   ]
  },
  {
   "cell_type": "markdown",
   "id": "cb983580",
   "metadata": {},
   "source": [
    "But what happens if you want to enumerate an iterable that yields multiple\n",
    "items per iteration? Is it possible to assign the number and the other items to\n",
    "their respective variable names?\n",
    "\n",
    "Lets take a look at what happens when we pass a {samp}`{dict}.items()` treatable to\n",
    "`enumerate()`."
   ]
  },
  {
   "cell_type": "code",
   "execution_count": 21,
   "id": "0a28f382",
   "metadata": {},
   "outputs": [
    {
     "data": {
      "text/plain": [
       "[(0, ('heart', 'red')),\n",
       " (1, ('diamond', 'red')),\n",
       " (2, ('club', 'black')),\n",
       " (3, ('spade', 'black'))]"
      ]
     },
     "execution_count": 21,
     "metadata": {},
     "output_type": "execute_result"
    }
   ],
   "source": [
    "suites = {\n",
    "  \"heart\": \"red\",\n",
    "  \"diamond\": \"red\",\n",
    "  \"club\": \"black\",\n",
    "  \"spade\": \"black\",\n",
    "}\n",
    "\n",
    "list(enumerate(suites.items()))"
   ]
  },
  {
   "cell_type": "markdown",
   "id": "15457614",
   "metadata": {},
   "source": [
    "The iterable now yields a tuple containing the count, and each item is a\n",
    "tuple containing the key and value like so: {samp}`({COUNT}, ({KEY}, {VALUE}))`\n",
    "\n",
    "To use this in a for loop, simply enclose the key-value tuple in parenthesis."
   ]
  },
  {
   "cell_type": "code",
   "execution_count": 22,
   "id": "69250cc7",
   "metadata": {},
   "outputs": [
    {
     "name": "stdout",
     "output_type": "stream",
     "text": [
      "1. The heart suit is red.\n",
      "2. The diamond suit is red.\n",
      "3. The club suit is black.\n",
      "4. The spade suit is black.\n"
     ]
    }
   ],
   "source": [
    "suites = {\n",
    "  \"heart\": \"red\",\n",
    "  \"diamond\": \"red\",\n",
    "  \"club\": \"black\",\n",
    "  \"spade\": \"black\",\n",
    "}\n",
    "\n",
    "for i, (suit, color) in enumerate(suites.items(), 1):\n",
    "    print(f\"{i}. The {suit} suit is {color}.\")"
   ]
  },
  {
   "cell_type": "markdown",
   "id": "453555f2",
   "metadata": {},
   "source": [
    "### Part 5.1: Exercise\n",
    "\n",
    "`````{exercise} Number Names\n",
    ":label: number-names-exercise\n",
    "\n",
    "Use the `enumerate` function to print the numerical values `1` through `5` next\n",
    "to the names of those numbers (`\"one\"` through `\"five\"`).\n",
    "\n",
    "```{dropdown} Need help?\n",
    "1. Make a list assigned to the variable `numbers` containing the names of the\n",
    "numbers `\"one\"` through `\"five\"`.\n",
    "2. Write a `for` loop using the variable names `i` and `name` that iterates over\n",
    "the value returned from calling `enumerate()` with the arguments `numbers`\n",
    "and `1`. \\\n",
    "   In the for loop:\n",
    "   * print `i` and `name`\n",
    "```\n",
    "\n",
    "**Example output**:\n",
    "\n",
    "```{code-block} text\n",
    ":caption: example output\n",
    "1 one\n",
    "2 two\n",
    "3 three\n",
    "4 four\n",
    "5 five\n",
    "```\n",
    "\n",
    "`````\n",
    "\n",
    "`````{solution} number-names-exercise\n",
    ":class: dropdown\n",
    "\n",
    "```{code-block} python\n",
    ":caption: Number Names Exercise\n",
    ":linenos:\n",
    "\n",
    "numbers = [\"one\", \"two\", \"three\", \"four\", \"five\"]\n",
    "\n",
    "for i, name in enumerate(numbers, 1):\n",
    "  print(i, name)\n",
    "\n",
    "```\n",
    "\n",
    "`````\n",
    "\n",
    "Part 6: Comparing loops\n",
    "-----------------------\n",
    "\n",
    "Lets do some side-by-side comparisons of the same code written as a `while` loop\n",
    "and a `for` loop.\n",
    "\n",
    "On the left will be the `while` loop code and on the right will be the `for` loop code.\n",
    "\n",
    "### Part 6.1: list iteration with `next()`\n",
    "\n",
    "In this example we'll iterate over a `colors` `list`.\n",
    "\n",
    "On the left we will use a `while` loop to iterate over a `list` by converting\n",
    "it using the `iter()` function, then calling `next()` on the resulting\n",
    "iterator.\n",
    "\n",
    "On the right the same code as a `for` loop, where the use of `iter()` and\n",
    "`next()` happens behind the scenes.\n",
    "\n",
    "<div class=\"row\"><div class=\"col\">\n",
    "\n",
    "```{code-block-hl} python\n",
    ":caption: \"Iter example A-1: `list` iteration via `while` loop\"\n",
    "colors = [\"red\", \"green\", \"blue\"]\n",
    "colors_iterator = iter(!!!colors!!!)\n",
    "while True:\n",
    "    try:\n",
    "        !!!color!!! = next(colors_iterator)\n",
    "    except StopIteration:\n",
    "        break\n",
    "    print(color)\n",
    "```\n",
    "\n",
    "</div><div class=\"col\">\n",
    "\n",
    "```{code-block-hl} python\n",
    ":caption: \"Iter example A-2: `list` iteration via `for` loop\"\n",
    "colors = [\"red\", \"green\", \"blue\"]\n",
    "for !!!color!!! in !!!colors!!!:\n",
    "  print(color)\n",
    "```\n",
    "\n",
    "</div></div>\n",
    "\n",
    "### Part 6.2: range iteration with `next()`\n",
    "\n",
    "Lets do the same comparison with a `range` object.\n",
    "\n",
    "On the left we will use a `while` loop to iterate over a `range` by converting\n",
    "it using the `iter()` function, then calling `next()` on the resulting\n",
    "iterator.\n",
    "\n",
    "On the right is the same code as a `for` loop.\n",
    "\n",
    "<div class=\"row\"><div class=\"col\">\n",
    "\n",
    "```{code-block-hl} python\n",
    ":caption: \"Iter example B-1: `range` iteration via `while` loop (error surpressed)\"\n",
    "numbers = range(1, 4)\n",
    "numbers_iter = iter(!!!numbers!!!)\n",
    "while True:\n",
    "  try:\n",
    "    !!!num!!! = next(numbers_iter)\n",
    "  except StopIteration:\n",
    "    break\n",
    "\n",
    "  print(num)\n",
    "```\n",
    "\n",
    "</div><div class=\"col\">\n",
    "\n",
    "```{code-block-hl} python\n",
    ":caption: \"Iter example B-2: `range` iteration via `for` loop\"\n",
    "numbers = range(1, 4)\n",
    "for !!!num!!! in !!!numbers!!!:\n",
    "  print(num)\n",
    "```\n",
    "\n",
    "</div></div>\n",
    "\n",
    "### Part 6.3: list iteration with subscription\n",
    "\n",
    "In this example we'll iterate over the `colors` `list` as before, except now\n",
    "we'll use an incrementing index number to get each element using\n",
    "{term}`bracket notation` or {term}`subscription`.\n",
    "\n",
    "While you can achieve similar results this way, subscription is not a perfect\n",
    "mirror of an analogous `for` loop. It's not quite as accurate in terms of what\n",
    "goes on under the hood and in fact not all iterable objects provide access via\n",
    "bracket notation.\n",
    "\n",
    "Even so, the this familiar pattern may help to shed some light on `for` loop\n",
    "behavior.\n",
    "\n",
    "<div class=\"row\"><div class=\"col\">\n",
    "\n",
    "```{code-block-hl} python\n",
    ":caption: \"Bracket example C-1: `list` iteration via `while` loop\"\n",
    "\n",
    "colors = [\"red\", \"green\", \"blue\"]\n",
    "idx = 0\n",
    "\n",
    "while idx < len(!!!colors!!!):\n",
    "    !!!color!!! = !!!colors!!![idx]\n",
    "    print(color)\n",
    "    idx += 1\n",
    "```\n",
    "\n",
    "</div><div class=\"col\">\n",
    "\n",
    "```{code-block-hl} python\n",
    ":caption: \"Subscript example C-2: `list` iteration via `for` loop\"\n",
    "\n",
    "colors = [\"red\", \"green\", \"blue\"]\n",
    "\n",
    "for !!!color!!! in !!!colors!!!:\n",
    "  print(color)\n",
    "```\n",
    "\n",
    "</div></div>\n",
    "\n",
    "### Part 6.4: string iteration with subscription\n",
    "\n",
    "In this example we'll iterate over each `letter` in the string `word` using\n",
    "bracket notation.\n",
    "\n",
    "<div class=\"row\"><div class=\"col\">\n",
    "\n",
    "```{code-block-hl} python\n",
    ":caption: \"Bracket example D-1: `str` iteration via `while` loop\"\n",
    "\n",
    "word = \"flibbertigibbet\"\n",
    "idx = 0\n",
    "\n",
    "while idx < len(!!!word!!!):\n",
    "    !!!letter!!! = !!!word!!![idx]\n",
    "    print(letter)\n",
    "    idx += 1\n",
    "```\n",
    "\n",
    "</div><div class=\"col\">\n",
    "\n",
    "```{code-block-hl} python\n",
    ":caption: \"Bracket example D-2: `list` iteration via `for` loop\"\n",
    "\n",
    "word = \"flibbertigibbet\"\n",
    "\n",
    "for !!!letter!!! in !!!word!!!:\n",
    "  print(letter)\n",
    "```\n",
    "\n",
    "</div></div>\n",
    "\n",
    "Part 7: Exercises\n",
    "-----------------\n",
    "\n",
    "### Part 7.1: Game Skills\n",
    "\n",
    "```{exercise} Game Skills\n",
    ":label: skills-exercise\n",
    "\n",
    "1. Make a `list` of game character `skills`.\n",
    "1. write a `while` loop\n",
    "   1. Assign the `idx` var to `0`\n",
    "   1. Make a `while` loop with the condition that `idx` is less than the length of `skills`\n",
    "      1. Get each element from `skills` using bracket notation `idx` and assign it to `skill`\n",
    "      1. Increment `idx`\n",
    "      1. Print the `skill`\n",
    "2. write a `for` loop\n",
    "   1. Make a `for` loop with the variable name `skill` and the iterable `skills`\n",
    "      1. Print the `skill`\n",
    "\n",
    "```\n",
    "\n",
    "`````{solution} skills-exercise\n",
    ":class: dropdown\n",
    "\n",
    "```{code-block} python\n",
    ":caption: Skills Exercise\n",
    ":linenos:\n",
    "\n",
    "WIDTH = 30\n",
    "skills = [\"heal\", \"attack\", \"acquire\"]\n",
    "idx = 0\n",
    "\n",
    "print(\"WHILE LOOP \".ljust(WIDTH, \"#\"))\n",
    "while idx < len(skills):\n",
    "  skill = skills[idx]\n",
    "  print(skill)\n",
    "  idx += 1\n",
    "\n",
    "print(\"FOR LOOP \".ljust(WIDTH, \"#\"))\n",
    "for skill in skills:\n",
    "  print(skill)\n",
    "\n",
    "```\n",
    "\n",
    "`````\n",
    "\n",
    "### Part 7.2: Weekdays\n",
    "\n",
    "```{exercise} Weekdays\n",
    ":label: label-exercise\n",
    "\n",
    "Print the weekday names horizontally and seperated by `|`.\n",
    "\n",
    "1. Make a `WEEKDAYS` `list` of names.\n",
    "1. Use a `for` loop to iterated over each `day`.\n",
    "1. Print each `day` centered to the same `size` (somewhere around `10` to `20`)\n",
    "   with seperated by vertical bars (`|`). \\\n",
    "   *Hint: using the `.center()` method.*\n",
    "\n",
    "Example output:\n",
    "\n",
    "`|   Monday   |  Tuesday   | Wednesday  |  Thursday  |   Friday   |`\n",
    "\n",
    "\n",
    "```\n",
    "\n",
    "`````{solution} label-exercise\n",
    ":class: dropdown\n",
    "\n",
    "```{code-block} python\n",
    ":caption: Weekdays Exercise\n",
    ":linenos:\n",
    "\n",
    "SIZE=10\n",
    "SEP = \" | \"\n",
    "WEEKDAYS = [\n",
    "  \"Monday\",\n",
    "  \"Tuesday\",\n",
    "  \"Wednesday\",\n",
    "  \"Thursday\",\n",
    "  \"Friday\",\n",
    "]\n",
    "\n",
    "strings = [SEP]\n",
    "\n",
    "for day in WEEKDAYS:\n",
    "  title = day.center(SIZE)\n",
    "  strings = strings + [title, SEP]\n",
    "\n",
    "print(*strings, sep=\"\")\n",
    "```\n",
    "\n",
    "`````\n",
    "\n",
    "Reference\n",
    "---------\n",
    "\n",
    "### Glossary\n",
    "\n",
    "```{glossary} for-loops\n",
    "\n",
    "iterable\n",
    "  An object that can be iterated over. One that provides the `.__iter__()`\n",
    "  method used by the `iter()` function.\n",
    "\n",
    "iterator\n",
    "  An object that provides a `.__next__()` method, used by the built in function\n",
    "  `next()`,  which, when called repeatedly, will keep returning elements until\n",
    "  there are no more left.\n",
    "\n",
    "multiple assignment\n",
    "  Assigning the contents of an itrable to multiple variables on the same line\n",
    "  with the same number of variables names to the left of the `=` as there are\n",
    "  items in the iterable seperated by `,`. \\\n",
    "  For example: \\\n",
    "  `from, to = (1, 100)` \\\n",
    "  `first, last = \"a\", \"b\"`\n",
    "\n",
    "```\n",
    "\n",
    "### See also\n",
    "\n",
    "```{seealso}\n",
    "\n",
    "* [python.org > Iterator Types](https://docs.python.org/3/library/stdtypes.html#typeiter)\n",
    "* [python.org > Expressions > Subscriptions](https://docs.python.org/3/reference/expressions.html#subscriptions)\n",
    "* [Loop Better: a deeper look at iteration in Python](https://treyhunner.com/2019/06/loop-better-a-deeper-look-at-iteration-in-python/)\n",
    "* [Python’s built-in container data types: categorisation and iteration](http://blog.wachowicz.eu/?p=132)\n",
    "\n",
    "```\n",
    "\n",
    "----\n",
    "\n",
    "% TODO .....\n",
    "% [ ] break and continue\n",
    "% [ ] different types, converting using list()\n",
    "% [ ] iterators are one way\n",
    "% [ ] enumerate()\n",
    "% [x] multiple assignment\n",
    "% [x] exercises\n",
    "% [x] fix old exercses"
   ]
  }
 ],
 "metadata": {
  "jupytext": {
   "formats": "md:myst",
   "text_representation": {
    "extension": ".md",
    "format_name": "myst"
   }
  },
  "kernelspec": {
   "display_name": "Python 3",
   "language": "python",
   "name": "python3"
  },
  "language_info": {
   "codemirror_mode": {
    "name": "ipython",
    "version": 3
   },
   "file_extension": ".py",
   "mimetype": "text/x-python",
   "name": "python",
   "nbconvert_exporter": "python",
   "pygments_lexer": "ipython3",
   "version": "3.8.16"
  },
  "source_map": [
   11,
   88,
   91,
   96,
   100,
   104,
   108,
   111,
   180,
   196,
   200,
   209,
   214,
   238,
   342,
   352,
   354,
   359,
   362,
   368,
   372,
   376,
   378,
   382,
   392,
   396,
   399,
   499,
   506,
   516,
   518,
   523,
   528,
   533,
   538,
   547,
   557,
   564,
   575
  ]
 },
 "nbformat": 4,
 "nbformat_minor": 5
}