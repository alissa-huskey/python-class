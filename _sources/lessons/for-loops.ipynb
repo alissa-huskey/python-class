{
 "cells": [
  {
   "cell_type": "markdown",
   "id": "ce327138",
   "metadata": {},
   "source": [
    "For Loops\n",
    "=========\n",
    "\n",
    "A `while` loop continues for as long as a condition is met, a `for` loop on the\n",
    "other hand repeats for every element in an iterable.\n",
    "\n",
    "```{contents} Table of Contents\n",
    ":backlinks: top\n",
    ":local:\n",
    "```\n",
    "\n",
    "Syntax\n",
    "------\n",
    "\n",
    "The syntax for a for loop is:\n",
    "\n",
    "```{include} ../templates/syntax/for.md\n",
    "```\n",
    "\n",
    "Here's a simple example that iterates over a `list` of strings.\n",
    "\n",
    "```{include} ../templates/examples/for.md\n",
    "```\n",
    "\n",
    "### Exercise\n",
    "\n",
    "```{exercise} Movies\n",
    ":label: movies-exercise\n",
    "\n",
    "Iterate over a `list` of `movies` and print each one out using a `for` loop.\n",
    "```\n",
    "\n",
    "`````{solution} movies-exercise\n",
    ":class: dropdown\n",
    "\n",
    "```{code-block} python\n",
    ":caption: Movies Exercise\n",
    ":class: full-width\n",
    ":linenos:\n",
    "\n",
    "movies = [\n",
    "  \"Treasure Planet\",\n",
    "  \"Finding Nemo\",\n",
    "  \"Kung Fu Panda\",\n",
    "  \"Wall-E\",\n",
    "  \"Lilo & Stitch\",\n",
    "]\n",
    "\n",
    "for name in movies:\n",
    "  print(movie)\n",
    "```\n",
    "\n",
    "`````\n",
    "\n",
    "Iterables and iterators\n",
    "-----------------------\n",
    "\n",
    "Some objects in Python are {term}`iterable`--that is, an object that can be\n",
    "itereated over. For example, `list`, `tuple` and `range` objects are all\n",
    "iterable.\n",
    "\n",
    "All iterables can be converted to an {term}`iterator`, which is an object that\n",
    "will keep returning elements until there are no more left.\n",
    "\n",
    "To demonstrate this we'll create a `colors` `list` then convert the it to a\n",
    "`colors_iterator` using the `iter()` function."
   ]
  },
  {
   "cell_type": "code",
   "execution_count": 1,
   "id": "eed590f3",
   "metadata": {
    "class": "full-width"
   },
   "outputs": [],
   "source": [
    "colors = [\"red\", \"green\", \"blue\"]\n",
    "colors_iterator = iter(colors)"
   ]
  },
  {
   "cell_type": "markdown",
   "id": "b16992f5",
   "metadata": {},
   "source": [
    "Then we'll keep requesting items using the `next()` function, until we\n",
    "encounter a `StopIteration` exception."
   ]
  },
  {
   "cell_type": "code",
   "execution_count": 2,
   "id": "a55fa16c",
   "metadata": {},
   "outputs": [
    {
     "data": {
      "text/plain": [
       "'red'"
      ]
     },
     "execution_count": 2,
     "metadata": {},
     "output_type": "execute_result"
    }
   ],
   "source": [
    "next(colors_iterator)"
   ]
  },
  {
   "cell_type": "code",
   "execution_count": 3,
   "id": "9b3c1f60",
   "metadata": {},
   "outputs": [
    {
     "data": {
      "text/plain": [
       "'green'"
      ]
     },
     "execution_count": 3,
     "metadata": {},
     "output_type": "execute_result"
    }
   ],
   "source": [
    "next(colors_iterator)"
   ]
  },
  {
   "cell_type": "code",
   "execution_count": 4,
   "id": "4f653d47",
   "metadata": {},
   "outputs": [
    {
     "data": {
      "text/plain": [
       "'blue'"
      ]
     },
     "execution_count": 4,
     "metadata": {},
     "output_type": "execute_result"
    }
   ],
   "source": [
    "next(colors_iterator)"
   ]
  },
  {
   "cell_type": "code",
   "execution_count": 5,
   "id": "427a389c",
   "metadata": {
    "tags": [
     "raises-exception"
    ]
   },
   "outputs": [
    {
     "ename": "StopIteration",
     "evalue": "",
     "output_type": "error",
     "traceback": [
      "\u001b[0;31m---------------------------------------------------------------------------\u001b[0m",
      "\u001b[0;31mStopIteration\u001b[0m                             Traceback (most recent call last)",
      "\u001b[0;32m/tmp/ipykernel_1878/455980397.py\u001b[0m in \u001b[0;36m<module>\u001b[0;34m\u001b[0m\n\u001b[0;32m----> 1\u001b[0;31m \u001b[0mnext\u001b[0m\u001b[0;34m(\u001b[0m\u001b[0mcolors_iterator\u001b[0m\u001b[0;34m)\u001b[0m\u001b[0;34m\u001b[0m\u001b[0;34m\u001b[0m\u001b[0m\n\u001b[0m",
      "\u001b[0;31mStopIteration\u001b[0m: "
     ]
    }
   ],
   "source": [
    "next(colors_iterator)"
   ]
  },
  {
   "cell_type": "markdown",
   "id": "b694ad05",
   "metadata": {},
   "source": [
    "### Exercise\n",
    "\n",
    "```{exercise} Iterators\n",
    ":label: iterator-exercise\n",
    "\n",
    "1. Create a list containing the letters in your name assigned to the variable `letters`.\n",
    "2. Convert the list to an iterator using the `iter()` function and assign it to the variable `letters_iterator`.\n",
    "3. Keep calling `next()` with the argument `letters_iterator` until you encounter a `StopIteration` exception.\n",
    "```\n",
    "\n",
    "`````{solution} iterator-exercise\n",
    ":class: dropdown\n",
    "\n",
    "```{code-block} python\n",
    ":caption:  Iterators Exercise\n",
    ":class: full-width\n",
    "\n",
    ">>> letters = list(\"alissa\")\n",
    ">>> letters_iterator = iter(letters)\n",
    ">>> next(letters_iterator)\n",
    "'a'\n",
    "\n",
    ">>> next(letters_iterator)\n",
    "'l'\n",
    "\n",
    ">>> next(letters_iterator)\n",
    "'i'\n",
    "\n",
    ">>> next(letters_iterator)\n",
    "'s'\n",
    "\n",
    ">>> next(letters_iterator)\n",
    "'s'\n",
    "\n",
    ">>> next(letters_iterator)\n",
    "'a'\n",
    "\n",
    ">>> next(letters_iterator)\n",
    "---------------------------------------------------------------------------\n",
    "StopIteration                             Traceback (most recent call last)\n",
    "<ipython-input-51-15be8840759d> in <module>\n",
    "----> 1 next(letters_iterator)\n",
    "\n",
    "```\n",
    "`````\n",
    "\n",
    "Under the hood\n",
    "--------------\n",
    "\n",
    "Now that you know what iterables and iterators are, we demystify for loops.\n",
    "\n",
    "Lets look at the syntax again.\n",
    "\n",
    "```{include} ../templates/syntax/for.md\n",
    "```\n",
    "\n",
    "Here's what's happening behind the scenes:\n",
    "\n",
    "1. `ITERABLE` is converted to an iterator object using `iter()`, or rather its {term}`magic method`\n",
    "2. Each iteration, `next()` is called, and the results are assigned to `VAR`\n",
    "3. The `BODY` statements are executed\n",
    "3. When `next()` results in a `StopIteration` exception it is discarded and the loop ends\n",
    "\n",
    "\n",
    "Lets revisit our `for` loop example, and see if we can deconstruct the behavior\n",
    "of a `for` loop. First we'll create a `houses` list, and convert it to a\n",
    "`houses_iter` using the `iter()` function."
   ]
  },
  {
   "cell_type": "code",
   "execution_count": 6,
   "id": "29355e80",
   "metadata": {
    "class": "full-width"
   },
   "outputs": [],
   "source": [
    "# create iterable\n",
    "houses = [\n",
    "  \"Arryn\",\n",
    "  \"Baratheon\",\n",
    "  \"Greyjoy\",\n",
    "  \"Lannister\",\n",
    "  \"Martell\",\n",
    "  \"Stark\",\n",
    "  \"Targaryen\",\n",
    "  \"Tully\",\n",
    "  \"Tyrell\",\n",
    "]\n",
    "\n",
    "# create iterator\n",
    "houses_iter = iter(houses)"
   ]
  },
  {
   "cell_type": "markdown",
   "id": "c4d946b8",
   "metadata": {},
   "source": [
    "Now we'll call `next()` in a `while` loop, and assign the results to `name`."
   ]
  },
  {
   "cell_type": "code",
   "execution_count": 7,
   "id": "8528cee3",
   "metadata": {
    "class": "full-width",
    "tags": [
     "raises-exception"
    ]
   },
   "outputs": [
    {
     "name": "stdout",
     "output_type": "stream",
     "text": [
      "House Arryn\n",
      "House Baratheon\n",
      "House Greyjoy\n",
      "House Lannister\n",
      "House Martell\n",
      "House Stark\n",
      "House Targaryen\n",
      "House Tully\n",
      "House Tyrell\n"
     ]
    },
    {
     "ename": "StopIteration",
     "evalue": "",
     "output_type": "error",
     "traceback": [
      "\u001b[0;31m---------------------------------------------------------------------------\u001b[0m",
      "\u001b[0;31mStopIteration\u001b[0m                             Traceback (most recent call last)",
      "\u001b[0;32m/tmp/ipykernel_1878/1649516371.py\u001b[0m in \u001b[0;36m<module>\u001b[0;34m\u001b[0m\n\u001b[1;32m      2\u001b[0m \u001b[0;32mwhile\u001b[0m \u001b[0;32mTrue\u001b[0m\u001b[0;34m:\u001b[0m\u001b[0;34m\u001b[0m\u001b[0;34m\u001b[0m\u001b[0m\n\u001b[1;32m      3\u001b[0m     \u001b[0;31m# assign VAR to the results of next()\u001b[0m\u001b[0;34m\u001b[0m\u001b[0;34m\u001b[0m\u001b[0;34m\u001b[0m\u001b[0m\n\u001b[0;32m----> 4\u001b[0;31m     \u001b[0mname\u001b[0m \u001b[0;34m=\u001b[0m \u001b[0mnext\u001b[0m\u001b[0;34m(\u001b[0m\u001b[0mhouses_iter\u001b[0m\u001b[0;34m)\u001b[0m\u001b[0;34m\u001b[0m\u001b[0;34m\u001b[0m\u001b[0m\n\u001b[0m\u001b[1;32m      5\u001b[0m \u001b[0;34m\u001b[0m\u001b[0m\n\u001b[1;32m      6\u001b[0m     \u001b[0;31m# BODY statements\u001b[0m\u001b[0;34m\u001b[0m\u001b[0;34m\u001b[0m\u001b[0;34m\u001b[0m\u001b[0m\n",
      "\u001b[0;31mStopIteration\u001b[0m: "
     ]
    }
   ],
   "source": [
    "# loop forever\n",
    "while True:\n",
    "    # assign VAR to the results of next()\n",
    "    name = next(houses_iter)\n",
    "\n",
    "    # BODY statements\n",
    "    print(f\"House {name}\")"
   ]
  },
  {
   "cell_type": "markdown",
   "id": "b4be7ea4",
   "metadata": {},
   "source": [
    "This is close, but we're still seeing that `StopIteration` exception. To\n",
    "supress it we'll need a try-except block."
   ]
  },
  {
   "cell_type": "code",
   "execution_count": 8,
   "id": "36945f6d",
   "metadata": {
    "class": "full-width",
    "tags": [
     "raises-exception"
    ]
   },
   "outputs": [
    {
     "name": "stdout",
     "output_type": "stream",
     "text": [
      "House Arryn\n",
      "House Baratheon\n",
      "House Greyjoy\n",
      "House Lannister\n",
      "House Martell\n",
      "House Stark\n",
      "House Targaryen\n",
      "House Tully\n",
      "House Tyrell\n"
     ]
    }
   ],
   "source": [
    "# create iterator\n",
    "houses_iter = iter(houses)\n",
    "\n",
    "# loop forever\n",
    "while True:\n",
    "\n",
    "    # any code that may raise an exception goes under the try header\n",
    "    try:\n",
    "\n",
    "        # assign VAR to the results of next()\n",
    "        name = next(houses_iter)\n",
    "\n",
    "    # the type of exception that we want to catch\n",
    "    # instead of raising it, the body statements will be executed\n",
    "    except StopIteration:\n",
    "\n",
    "        # StopIteration means there are no more elements, so exit the loop\n",
    "        break\n",
    "\n",
    "    # BODY statements\n",
    "    print(f\"House {name}\")"
   ]
  },
  {
   "cell_type": "markdown",
   "id": "70afbe5f",
   "metadata": {},
   "source": [
    "Now we have a `while` loop that replicates the behavior of a `for` loop. Here they are side by side.\n",
    "\n",
    "<div class=\"row\"><div class=\"col\">\n",
    "\n",
    "```{code-block-hl} python\n",
    ":class: full-width\n",
    "houses = [\n",
    "  \"Arryn\",\n",
    "  \"Baratheon\",\n",
    "  \"Greyjoy\",\n",
    "  \"Lannister\",\n",
    "  \"Martell\",\n",
    "  \"Stark\",\n",
    "  \"Targaryen\",\n",
    "  \"Tully\",\n",
    "  \"Tyrell\",\n",
    "]\n",
    "\n",
    "houses_iter = iter(!!!houses!!!)\n",
    "\n",
    "while True:\n",
    "    try:\n",
    "      !!!name!!! = next(houses_iter)\n",
    "    except StopIteration:\n",
    "      break\n",
    "\n",
    "    print(f\"House {name}\")\n",
    "\n",
    "```\n",
    "\n",
    "</div><div class=\"col\">\n",
    "\n",
    "```{code-block-hl} python\n",
    ":class: full-width\n",
    "houses = [\n",
    "  \"Arryn\",\n",
    "  \"Baratheon\",\n",
    "  \"Greyjoy\",\n",
    "  \"Lannister\",\n",
    "  \"Martell\",\n",
    "  \"Stark\",\n",
    "  \"Targaryen\",\n",
    "  \"Tully\",\n",
    "  \"Tyrell\",\n",
    "]\n",
    "\n",
    "for !!!name!!! in !!!houses!!!:\n",
    "  print(f\"House {name}\")\n",
    "\n",
    "```\n",
    "</div></div>\n",
    "\n",
    "### Exercise\n",
    "\n",
    "```{exercise} Game Characters\n",
    ":label: characters-exercise\n",
    "\n",
    "1. Make a `list` of game character `roles`.\n",
    "1. write a `while` loop\n",
    "   1. Convert the `list` to an `roles_iter` iterator using the `iter()` function\n",
    "   1. Make a `while` loop with the condition `True`\n",
    "   1. Get each `role` element from the `roles_iter` by calling `next()`\n",
    "   1. Print the `role`\n",
    "   1. Suppress the error with a try-except block\n",
    "2. write a `for` loop\n",
    "   1. Make a `for` loop with the variable name `role` and the iterable `roles`\n",
    "   1. Print the `role`\n",
    "\n",
    "```\n",
    "\n",
    "`````{solution} characters-exercise\n",
    ":class: dropdown\n",
    "\n",
    "```{code-block} python\n",
    ":caption: Characters Exercise\n",
    ":class: full-width\n",
    ":linenos:\n",
    "\n",
    "WIDTH = 30\n",
    "roles = [\"mage\", \"thief\", \"warrior\"]\n",
    "\n",
    "print(\"WHILE LOOP \".ljust(WIDTH, \"#\"))\n",
    "roles_iterator = iter(roles)\n",
    "while True:\n",
    "    try:\n",
    "      role = next(roles_iterator)\n",
    "    except StopIteration:\n",
    "        break\n",
    "    print(role)\n",
    "\n",
    "\n",
    "print(\"FOR LOOP \".ljust(WIDTH, \"#\"))\n",
    "for role in roles:\n",
    "  print(role)\n",
    "\n",
    "```\n",
    "\n",
    "`````\n",
    "\n",
    "Multiple assignment\n",
    "-------------------\n",
    "\n",
    "Depending on the type passed to it, `next()` may sometimes return more than one\n",
    "value. The classic example of this is {samp}`{dict}.items()`."
   ]
  },
  {
   "cell_type": "code",
   "execution_count": 9,
   "id": "2ae4c902",
   "metadata": {
    "class": "full-width"
   },
   "outputs": [],
   "source": [
    "suites = {\n",
    "  \"heart\": \"red\",\n",
    "  \"diamond\": \"red\",\n",
    "  \"club\": \"black\",\n",
    "  \"spade\": \"black\",\n",
    "}\n",
    "suites_iterator = iter(suites.items())"
   ]
  },
  {
   "cell_type": "code",
   "execution_count": 10,
   "id": "5cf9e3de",
   "metadata": {},
   "outputs": [
    {
     "data": {
      "text/plain": [
       "('heart', 'red')"
      ]
     },
     "execution_count": 10,
     "metadata": {},
     "output_type": "execute_result"
    }
   ],
   "source": [
    "next(suites_iterator)"
   ]
  },
  {
   "cell_type": "markdown",
   "id": "ce3a0e9d",
   "metadata": {},
   "source": [
    "You can see that `next()` returns a `tuple` that contains two items. We can\n",
    "assign this to a single variable, which will then contain the entire `tuple.`"
   ]
  },
  {
   "cell_type": "code",
   "execution_count": 11,
   "id": "7c58aa71",
   "metadata": {},
   "outputs": [
    {
     "data": {
      "text/plain": [
       "('diamond', 'red')"
      ]
     },
     "execution_count": 11,
     "metadata": {},
     "output_type": "execute_result"
    }
   ],
   "source": [
    "item = next(suites_iterator)\n",
    "item"
   ]
  },
  {
   "cell_type": "markdown",
   "id": "1146b3f6",
   "metadata": {},
   "source": [
    "Or we could use {term}`multiple assignment` to assign each item in the `tuple`\n",
    "to a cooresponding variable. There must be the same number of variables to the\n",
    "left of the `=` as there are items in the `tuple` seperated by `,`."
   ]
  },
  {
   "cell_type": "code",
   "execution_count": 12,
   "id": "76c8c94f",
   "metadata": {},
   "outputs": [],
   "source": [
    "suit, color = next(suites_iterator)"
   ]
  },
  {
   "cell_type": "code",
   "execution_count": 13,
   "id": "8e7ee7e9",
   "metadata": {},
   "outputs": [
    {
     "data": {
      "text/plain": [
       "'club'"
      ]
     },
     "execution_count": 13,
     "metadata": {},
     "output_type": "execute_result"
    }
   ],
   "source": [
    "suit"
   ]
  },
  {
   "cell_type": "code",
   "execution_count": 14,
   "id": "a4e18418",
   "metadata": {},
   "outputs": [
    {
     "data": {
      "text/plain": [
       "'black'"
      ]
     },
     "execution_count": 14,
     "metadata": {},
     "output_type": "execute_result"
    }
   ],
   "source": [
    "color"
   ]
  },
  {
   "cell_type": "markdown",
   "id": "b4868661",
   "metadata": {},
   "source": [
    "Lets put this assignment fanciness in a `while` loop."
   ]
  },
  {
   "cell_type": "code",
   "execution_count": 15,
   "id": "8a6ba6f4",
   "metadata": {
    "class": "full-width"
   },
   "outputs": [
    {
     "name": "stdout",
     "output_type": "stream",
     "text": [
      "The heart suit is red.\n",
      "The diamond suit is red.\n",
      "The club suit is black.\n",
      "The spade suit is black.\n"
     ]
    }
   ],
   "source": [
    "suites_iterator = iter(suites.items())\n",
    "\n",
    "while True:\n",
    "    try:\n",
    "      suit, color = next(suites_iterator)\n",
    "    except StopIteration:\n",
    "      break\n",
    "\n",
    "    print(f\"The {suit} suit is {color}.\")"
   ]
  },
  {
   "cell_type": "markdown",
   "id": "0126f3e5",
   "metadata": {},
   "source": [
    "And lets see how it looks in a `for` loop."
   ]
  },
  {
   "cell_type": "code",
   "execution_count": 16,
   "id": "c0ab7cb4",
   "metadata": {
    "class": "full-width"
   },
   "outputs": [
    {
     "name": "stdout",
     "output_type": "stream",
     "text": [
      "The heart suit is red.\n",
      "The diamond suit is red.\n",
      "The club suit is black.\n",
      "The spade suit is black.\n"
     ]
    }
   ],
   "source": [
    "for suit, color in suites.items():\n",
    "    print(f\"The {suit} suit is {color}.\")"
   ]
  },
  {
   "cell_type": "markdown",
   "id": "66e74303",
   "metadata": {},
   "source": [
    "Here they are side by side.\n",
    "\n",
    "<div class=\"row\"><div class=\"col\">\n",
    "\n",
    "```{code-block-hl} python\n",
    ":class: full-width\n",
    ":linenos:\n",
    "\n",
    "suites = {\n",
    "  \"heart\": \"red\",\n",
    "  \"diamond\": \"red\",\n",
    "  \"club\": \"black\",\n",
    "  \"spade\": \"black\",\n",
    "}\n",
    "\n",
    "suites_iterator = iter(!!!suites.items()!!!)\n",
    "\n",
    "while True:\n",
    "    try:\n",
    "      !!!suit, color!!! = next(suites_iterator)\n",
    "    except StopIteration:\n",
    "      break\n",
    "\n",
    "    print(f\"The {suit} suit is {color}.\")\n",
    "```\n",
    "</div><div class=\"col\">\n",
    "\n",
    "```{code-block-hl} python\n",
    ":class: full-width\n",
    ":linenos:\n",
    "\n",
    "suites = {\n",
    "  \"heart\": \"red\",\n",
    "  \"diamond\": \"red\",\n",
    "  \"club\": \"black\",\n",
    "  \"spade\": \"black\",\n",
    "}\n",
    "\n",
    "for !!!suit, color!!! in !!!suites.items()!!!:\n",
    "    print(f\"The {suit} suit is {color}.\")\n",
    "\n",
    "```\n",
    "\n",
    "</div></div>\n",
    "\n",
    "### Exercise\n",
    "\n",
    "```{exercise} Game Tools\n",
    ":label: toolss-exercise\n",
    "\n",
    "1. Make a `dict` of game character `tools`, where the key is the `role` and the value is a `tool`.\n",
    "1. write a `while` loop\n",
    "   1. Convert `tools.items()` to an `tools_iter` iterator using the `iter()` function\n",
    "   1. Make a `while` loop with the condition `True`\n",
    "   1. Get each `role` and `tool` element from the `tools_iter` by calling `next()`\n",
    "   1. Print the {samp}`\"A {role}s favorite tool is their trusty: {tool}.\"`\n",
    "   1. Suppress the error with a try-except block\n",
    "2. write a `for` loop\n",
    "   1. Make a `for` loop with the variable name `tool` and the iterable `tools`\n",
    "   1. Print the `tool`\n",
    "\n",
    "```\n",
    "\n",
    "`````{solution} skills-exercise\n",
    ":class: dropdown\n",
    "\n",
    "```{code-block} python\n",
    ":caption: Skills Exercise\n",
    ":class: full-width\n",
    ":linenos:\n",
    "\n",
    "WIDTH = 30\n",
    "tools = {\n",
    "  \"mage\": \"wand\",\n",
    "  \"thief\": \"lockpick set\",\n",
    "  \"warrior\": \"sword\",\n",
    "}\n",
    "tools_iter = iter(tools.items())\n",
    "\n",
    "print(\"WHILE LOOP \".ljust(WIDTH, \"#\"))\n",
    "while True:\n",
    "  try:\n",
    "    role, tool = next(tools_iter)\n",
    "  except StopIteration:\n",
    "    break\n",
    "  print(f\"A {role}s favorite tool is their trusty: {tool}.\")\n",
    "\n",
    "print(\"FOR LOOP \".ljust(WIDTH, \"#\"))\n",
    "for role, tool in tools.items():\n",
    "  print(f\"A {role}s favorite tool is their trusty: {tool}.\")\n",
    "\n",
    "```\n",
    "\n",
    "`````\n",
    "\n",
    "Comparing loops\n",
    "---------------\n",
    "\n",
    "Lets do some side-by-side comparisons of the same code written as a `while` loop\n",
    "and a `for` loop.\n",
    "\n",
    "On the left will be the `while` loop code and on the right will be the `for` loop code.\n",
    "\n",
    "### Example A: list iteration with `next()`\n",
    "\n",
    "In this example we'll iterate over a `colors` `list`.\n",
    "\n",
    "On the left we will use a `while` loop to iterate over a `list` by converting\n",
    "it using the `iter()` function, then calling `next()` on the resulting\n",
    "iterator.\n",
    "\n",
    "On the right the same code as a `for` loop, where the use of `iter()` and\n",
    "`next()` happens behind the scenes.\n",
    "\n",
    "<div class=\"row\"><div class=\"col\">\n",
    "\n",
    "```{code-block-hl} python\n",
    ":caption: \"Iter example A-1: `list` iteration via `while` loop\"\n",
    ":class: full-width\n",
    "colors = [\"red\", \"green\", \"blue\"]\n",
    "colors_iterator = iter(!!!colors!!!)\n",
    "while True:\n",
    "    try:\n",
    "        !!!color!!! = next(colors_iterator)\n",
    "    except StopIteration:\n",
    "        break\n",
    "    print(color)\n",
    "```\n",
    "\n",
    "</div><div class=\"col\">\n",
    "\n",
    "```{code-block-hl} python\n",
    ":caption: \"Iter example A-2: `list` iteration via `for` loop\"\n",
    ":class: full-width\n",
    "colors = [\"red\", \"green\", \"blue\"]\n",
    "for !!!color!!! in !!!colors!!!:\n",
    "  print(color)\n",
    "```\n",
    "\n",
    "</div></div>\n",
    "\n",
    "### Example B: range iteration with `next()`\n",
    "\n",
    "Lets do the same comparison with a `range` object.\n",
    "\n",
    "On the left we will use a `while` loop to iterate over a `range` by converting\n",
    "it using the `iter()` function, then calling `next()` on the resulting\n",
    "iterator.\n",
    "\n",
    "On the right is the same code as a `for` loop.\n",
    "\n",
    "<div class=\"row\"><div class=\"col\">\n",
    "\n",
    "```{code-block-hl} python\n",
    ":caption: \"Iter example B-1: `range` iteration via `while` loop (error surpressed)\"\n",
    ":class: full-width\n",
    "numbers = range(1, 4)\n",
    "numbers_iter = iter(!!!numbers!!!)\n",
    "while True:\n",
    "  try:\n",
    "    !!!num!!! = next(numbers_iter)\n",
    "  except StopIteration:\n",
    "    break\n",
    "\n",
    "  print(num)\n",
    "```\n",
    "\n",
    "</div><div class=\"col\">\n",
    "\n",
    "```{code-block-hl} python\n",
    ":caption: \"Iter example B-2: `range` iteration via `for` loop\"\n",
    ":class: full-width\n",
    "numbers = range(1, 4)\n",
    "for !!!num!!! in !!!numbers!!!:\n",
    "  print(num)\n",
    "```\n",
    "\n",
    "</div></div>\n",
    "\n",
    "### Example C: list iteration with subscription\n",
    "\n",
    "In this example we'll iterate over the `colors` `list` as before, except now\n",
    "we'll use an incrementing index number to get each element using\n",
    "{term}`bracket notation` or {term}`subscription`.\n",
    "\n",
    "While you can achieve similar results this way, subscription is not a perfect\n",
    "mirror of an analogous `for` loop. It's not quite as accurate in terms of what\n",
    "goes on under the hood and in fact not all iterable objects provide access via\n",
    "bracket notation.\n",
    "\n",
    "Even so, the this familiar pattern may help to shed some light on `for` loop\n",
    "behavior.\n",
    "\n",
    "<div class=\"row\"><div class=\"col\">\n",
    "\n",
    "```{code-block-hl} python\n",
    ":caption: \"Bracket example C-1: `list` iteration via `while` loop\"\n",
    ":class: full-width\n",
    "\n",
    "colors = [\"red\", \"green\", \"blue\"]\n",
    "idx = 0\n",
    "\n",
    "while idx < len(!!!colors!!!):\n",
    "    !!!color!!! = !!!colors!!![idx]\n",
    "    print(color)\n",
    "    idx += 1\n",
    "```\n",
    "\n",
    "</div><div class=\"col\">\n",
    "\n",
    "```{code-block-hl} python\n",
    ":caption: \"Subscript example C-2: `list` iteration via `for` loop\"\n",
    ":class: full-width\n",
    "\n",
    "colors = [\"red\", \"green\", \"blue\"]\n",
    "\n",
    "for !!!color!!! in !!!colors!!!:\n",
    "  print(color)\n",
    "```\n",
    "\n",
    "</div></div>\n",
    "\n",
    "### Example D: string iteration with subscription\n",
    "\n",
    "In this example we'll iterate over each `letter` in the string `word` using\n",
    "bracket notaton.\n",
    "\n",
    "<div class=\"row\"><div class=\"col\">\n",
    "\n",
    "```{code-block-hl} python\n",
    ":caption: \"Bracket example D-1: `str` iteration via `while` loop\"\n",
    ":class: full-width\n",
    "\n",
    "word = \"flibbertigibbet\"\n",
    "idx = 0\n",
    "\n",
    "while idx < len(!!!word!!!):\n",
    "    !!!letter!!! = !!!word!!![idx]\n",
    "    print(letter)\n",
    "    idx += 1\n",
    "```\n",
    "\n",
    "</div><div class=\"col\">\n",
    "\n",
    "```{code-block-hl} python\n",
    ":caption: \"Bracket example D-2: `list` iteration via `for` loop\"\n",
    ":class: full-width\n",
    "\n",
    "word = \"flibbertigibbet\"\n",
    "\n",
    "for !!!letter!!! in !!!word!!!:\n",
    "  print(letter)\n",
    "```\n",
    "\n",
    "</div></div>\n",
    "\n",
    "Exercises\n",
    "---------\n",
    "\n",
    "```{exercise} Game Skills\n",
    ":label: skills-exercise\n",
    "\n",
    "1. Make a `list` of game character `skills`.\n",
    "1. write a `while` loop\n",
    "   1. Assign the `idx` var to `0`\n",
    "   1. Make a `while` loop with the condition that `idx` is less than the length of `skills`\n",
    "      1. Get each element from `skills` using bracket notation `idx` and assign it to `skill`\n",
    "      1. Increment `idx`\n",
    "      1. Print the `skill`\n",
    "2. write a `for` loop\n",
    "   1. Make a `for` loop with the variable name `skill` and the iterable `skills`\n",
    "      1. Print the `skill`\n",
    "\n",
    "```\n",
    "\n",
    "`````{solution} skills-exercise\n",
    ":class: dropdown\n",
    "\n",
    "```{code-block} python\n",
    ":caption: Skills Exercise\n",
    ":class: full-width\n",
    ":linenos:\n",
    "\n",
    "WIDTH = 30\n",
    "skills = [\"heal\", \"attack\", \"acquire\"]\n",
    "idx = 0\n",
    "\n",
    "print(\"WHILE LOOP \".ljust(WIDTH, \"#\"))\n",
    "while idx < len(skills):\n",
    "  skill = skills[idx]\n",
    "  print(skill)\n",
    "  idx += 1\n",
    "\n",
    "print(\"FOR LOOP \".ljust(WIDTH, \"#\"))\n",
    "for skill in skills:\n",
    "  print(skill)\n",
    "\n",
    "```\n",
    "\n",
    "`````\n",
    "\n",
    "```{exercise} Weekdays\n",
    ":label: label-exercise\n",
    "\n",
    "Print the weekday names horizontally and seperated by `|`.\n",
    "\n",
    "1. Make a `WEEKDAYS` `list` of names.\n",
    "1. Use a `for` loop to iterated over each `day`.\n",
    "1. Print each `day` centered to the same `size` (somewhere around `10` to `20`)\n",
    "   with seperated by vertical bars (`|`). \\\n",
    "   *Hint: using the `.center()` method.*\n",
    "\n",
    "Example output:\n",
    "\n",
    "`|   Monday   |  Tuesday   | Wednesday  |  Thursday  |   Friday   |`\n",
    "\n",
    "\n",
    "```\n",
    "\n",
    "`````{solution} label-exercise\n",
    ":class: dropdown\n",
    "\n",
    "```{code-block} python\n",
    ":caption: Weekdays Exercise\n",
    ":class: full-width\n",
    ":linenos:\n",
    "\n",
    "SIZE=10\n",
    "SEP = \" | \"\n",
    "WEEKDAYS = [\n",
    "  \"Monday\",\n",
    "  \"Tuesday\",\n",
    "  \"Wednesday\",\n",
    "  \"Thursday\",\n",
    "  \"Friday\",\n",
    "]\n",
    "\n",
    "strings = [SEP]\n",
    "\n",
    "for day in WEEKDAYS:\n",
    "  title = day.center(SIZE)\n",
    "  strings = strings + [title, SEP]\n",
    "\n",
    "print(*strings, sep=\"\")\n",
    "```\n",
    "\n",
    "`````\n",
    "\n",
    "Reference\n",
    "---------\n",
    "\n",
    "### Glossary\n",
    "\n",
    "```{glossary} for-loops\n",
    "\n",
    "iterable\n",
    "  An object that can be iterated over. One that provides the `.__iter__()`\n",
    "  method used by the `iter()` function.\n",
    "\n",
    "iterator\n",
    "  An object that provides a `.__next__()` method, used by the built in function\n",
    "  `next()`,  which, when called repeatedly, will keep returning elements until\n",
    "  there are no more left.\n",
    "\n",
    "multiple assignment\n",
    "  Assigning the contents of an itrable to multiple variables on the same line\n",
    "  with the same number of variables names to the left of the `=` as there are\n",
    "  items in the iterable seperated by `,`. \\\n",
    "  For example: \\\n",
    "  `from, to = (1, 100)` \\\n",
    "  `first, last = \"a\", \"b\"`\n",
    "\n",
    "```\n",
    "\n",
    "### See also\n",
    "\n",
    "```{seealso}\n",
    "\n",
    "* [python.org > Iterator Types](https://docs.python.org/3/library/stdtypes.html#typeiter)\n",
    "* [python.org > Expressions > Subscriptions](https://docs.python.org/3/reference/expressions.html#subscriptions)\n",
    "* [Loop Better: a deeper look at iteration in Python](https://treyhunner.com/2019/06/loop-better-a-deeper-look-at-iteration-in-python/)\n",
    "* [Python’s built-in container data types: categorisation and iteration](http://blog.wachowicz.eu/?p=132)\n",
    "\n",
    "```\n",
    "\n",
    "----\n",
    "\n",
    "% TODO .....\n",
    "% [ ] break and continue\n",
    "% [ ] different types, converting using list()\n",
    "% [ ] iterators are one way\n",
    "% [ ] enumerate()\n",
    "% [x] multiple assignment\n",
    "% [x] exercises\n",
    "% [x] fix old exercses"
   ]
  }
 ],
 "metadata": {
  "jupytext": {
   "formats": "md:myst",
   "text_representation": {
    "extension": ".md",
    "format_name": "myst"
   }
  },
  "kernelspec": {
   "display_name": "Python 3",
   "language": "python",
   "name": "python3"
  },
  "language_info": {
   "codemirror_mode": {
    "name": "ipython",
    "version": 3
   },
   "file_extension": ".py",
   "mimetype": "text/x-python",
   "name": "python",
   "nbconvert_exporter": "python",
   "pygments_lexer": "ipython3",
   "version": "3.8.11"
  },
  "source_map": [
   11,
   80,
   84,
   89,
   93,
   97,
   101,
   104,
   174,
   191,
   195,
   205,
   210,
   235,
   342,
   353,
   355,
   360,
   363,
   369,
   373,
   377,
   379,
   383,
   394,
   398,
   402
  ]
 },
 "nbformat": 4,
 "nbformat_minor": 5
}