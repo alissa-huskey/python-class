{
 "cells": [
  {
   "cell_type": "markdown",
   "id": "4ce06324",
   "metadata": {},
   "source": [
    "Syntax\n",
    "======\n",
    "\n",
    "In this section we'll learn the basic Python syntax.\n",
    "\n",
    "```{contents} Table of Contents\n",
    ":backlinks: top\n",
    ":local:\n",
    "```\n",
    "\n",
    "Introduction\n",
    "------------\n",
    "\n",
    "Syntax is set of grammar and punctuation rules that define how to put words and\n",
    "symbols together to properly form a particular language.\n",
    "\n",
    "In the English language for example, we know a sentence is made up of a subject\n",
    "and predicate, that the first letter should be capitalized, and that\n",
    "it should end in a period, question mark, or exclamation point.\n",
    "\n",
    "Python is a programming language, intended to read by a computer. In order to\n",
    "write code that the computer can understand, we need to understand the syntax.\n",
    "\n",
    "Structure\n",
    "---------\n",
    "\n",
    "A program is made up of a series of instructions which are read and executed in\n",
    "order from top to bottom.\n",
    "\n",
    "To get a better idea of what is involved, lets consider the following simple\n",
    "example:"
   ]
  },
  {
   "cell_type": "code",
   "execution_count": 1,
   "id": "e343115a",
   "metadata": {
    "class": "full-width",
    "linenos": null
   },
   "outputs": [
    {
     "name": "stdout",
     "output_type": "stream",
     "text": [
      "Hello world!\n"
     ]
    }
   ],
   "source": [
    "# My first Python program\n",
    "print(\"Hello world!\")"
   ]
  },
  {
   "cell_type": "markdown",
   "id": "763fc6f5",
   "metadata": {},
   "source": [
    "### Comments\n",
    "\n",
    "{{ left }}\n",
    "\n",
    "You can leave notes for your own reference starting with a `#`. This tells\n",
    "Python to ignore everything that follows until the end of the line.\n",
    "\n",
    "{{ right }}\n",
    "\n",
    "```{code-block-hl} python\n",
    ":linenos:\n",
    ":class: full-width thebe-align\n",
    ":emphasize-lines: \"1\"\n",
    "\n",
    "# My first Python program\n",
    "print(\"Hello world!\")\n",
    "```\n",
    "\n",
    "{{ endcols }}\n",
    "\n",
    "### Statements\n",
    "\n",
    "{{ left }}\n",
    "\n",
    "A statement is an instruction that Python can execute as a unit, analagous to a\n",
    "sentence.  In its simplest form it's is a line of code that does something.\n",
    "\n",
    "{{ right }}\n",
    "\n",
    "```{code-block} python\n",
    ":linenos:\n",
    ":class: full-width thebe-align\n",
    ":emphasize-lines: \"2\"\n",
    "\n",
    "# My first Python program\n",
    "print(\"Hello world!\")\n",
    "```\n",
    "\n",
    "{{ endcols }}\n",
    "\n",
    "### Expressions\n",
    "\n",
    "{{ left }}\n",
    "\n",
    "A statement may contain one or more expressions. An expression is any piece\n",
    "of code that produces a value.\n",
    "\n",
    "{{ right }}\n",
    "\n",
    "```{code-block-hl} python\n",
    ":class: full-width thebe-align\n",
    ":linenos:\n",
    "\n",
    "# My first Python program\n",
    "print(!!!\"Hello world!\"!!!)\n",
    "```\n",
    "\n",
    "{{ endcols }}\n",
    "\n",
    "{{ left }}\n",
    "\n",
    "Parentheses can be used around part of an expression to change order of\n",
    "operation.\n",
    "\n",
    "{{ right }}"
   ]
  },
  {
   "cell_type": "code",
   "execution_count": 2,
   "id": "92005e03",
   "metadata": {
    "class": "full-width",
    "linenos": null
   },
   "outputs": [
    {
     "data": {
      "text/plain": [
       "10"
      ]
     },
     "execution_count": 2,
     "metadata": {},
     "output_type": "execute_result"
    }
   ],
   "source": [
    "2 * 3 + 4"
   ]
  },
  {
   "cell_type": "code",
   "execution_count": 3,
   "id": "e423d6bc",
   "metadata": {
    "class": "full-width",
    "linenos": null
   },
   "outputs": [
    {
     "data": {
      "text/plain": [
       "14"
      ]
     },
     "execution_count": 3,
     "metadata": {},
     "output_type": "execute_result"
    }
   ],
   "source": [
    "2 * (3 + 4)"
   ]
  },
  {
   "cell_type": "markdown",
   "id": "96fad3f7",
   "metadata": {},
   "source": [
    "{{ endcols }}\n",
    "\n",
    "Values\n",
    "------\n",
    "\n",
    "Every value has a type and each type has its own syntax. Let's take a look at\n",
    "the following example with a summary of the simple types and how variables are\n",
    "saved."
   ]
  },
  {
   "cell_type": "code",
   "execution_count": 4,
   "id": "b0e5c1ab",
   "metadata": {},
   "outputs": [
    {
     "name": "stdout",
     "output_type": "stream",
     "text": [
      "Hello.\n"
     ]
    }
   ],
   "source": [
    "greeting = \"Hello.\" # string         (str)\n",
    "health = 100        # integer        (int)\n",
    "delay = 0.1         # floating point (float)\n",
    "verbose = True      # boolean        (bool)\n",
    "winner = None       # NoneType\n",
    "\n",
    "print(greeting)"
   ]
  },
  {
   "cell_type": "markdown",
   "id": "69f7faa0",
   "metadata": {},
   "source": [
    "### Variables\n",
    "\n",
    "{{ left }}\n",
    "\n",
    "Save a value to be easily used later in the code by giving it a name.  To\n",
    "create a variable simply {term}`assign` a value to it it using the equals sign\n",
    "(`=`).\n",
    "\n",
    "Syntax: {samp}`{NAME} = {VALUE}`\n",
    "\n",
    "{{ right }}\n",
    "\n",
    "```{code-block-hl} python\n",
    ":linenos:\n",
    "\n",
    "!!!greeting = \"Hello.\"!!! # string         (str)\n",
    "!!!health = 100!!!        # integer        (int)\n",
    "!!!delay = 0.1!!!         # floating point (float)\n",
    "!!!verbose = True!!!      # boolean        (bool)\n",
    "!!!winner = None!!!       # NoneType\n",
    "```\n",
    "\n",
    "{{ row }}\n",
    "\n",
    "To {term}`reference` a variable, or retrieve the data you stored, use the variable name.\n",
    "\n",
    "{{ right }}\n",
    "\n",
    "```{code-block-hl} python\n",
    ":lineno-start: 7\n",
    "\n",
    "print(!!!greeting!!!)\n",
    "```\n",
    "\n",
    "{{ row }}\n",
    "\n",
    "Assign multiple variables at once by putting the same number of variables on\n",
    "the left of the equals sign as values on the right, seperated by commas.\n",
    "\n",
    "Syntax: \\\n",
    "{samp}`NAME1, NAME2... = VAL1, VAL2...`\n",
    "\n",
    "{{ right }}\n",
    "\n",
    "```{code-block} python\n",
    "red, green, blue = 0, 255, 125\n",
    "```\n",
    "\n",
    "{{ row }}\n",
    "\n",
    "Or the same number of variables on the left of the equals sign as elements in a\n",
    "sequence such as a list.\n",
    "\n",
    "Syntax: {samp}`NAME1, NAME2... = SEQUENCE`\n",
    "\n",
    "{{ right }}\n",
    "\n",
    "```{code-block} python\n",
    "x, y = [-10, 10]\n",
    "```\n",
    "\n",
    "{{ endcols }}\n",
    "\n",
    "### Types\n",
    "\n",
    "Lets take a closer look at the standard built in types.\n",
    "\n",
    "`````{list-table}\n",
    ":widths: 15, 10, 35, 35\n",
    ":header-rows: 1\n",
    "\n",
    "* - Name\n",
    "  - Type\n",
    "  - Description\n",
    "  - Examples\n",
    "\n",
    "* - <label>Strings</label>\n",
    "  - `str`\n",
    "  - Text data enclosed in either single or double quotes.\n",
    "  - ```python\n",
    "    \"Hello\"\n",
    "    'Goodbye'\n",
    "    ```\n",
    "\n",
    "* - <label>Integers</label>\n",
    "  - `int`\n",
    "  - Whole numbers.\n",
    "  - ```python\n",
    "    10\n",
    "    0\n",
    "    -55\n",
    "    ```\n",
    "\n",
    "* - <label>Floating point</label>\n",
    "  - `float`\n",
    "  - Numbers with a decimal point.\n",
    "  - ```python\n",
    "    .1\n",
    "    1.5\n",
    "    -0.25\n",
    "    ```\n",
    "\n",
    "* - <label>Boolean</label>\n",
    "  - `bool`\n",
    "  - Either `True` or `False` with the first letter capitalized.\n",
    "  - ```python\n",
    "    True\n",
    "    False\n",
    "    ```\n",
    "\n",
    "* - <label>None</label>\n",
    "  -\n",
    "  - A single value `None` with the first letter capitalized. Used to indicate\n",
    "    that the value has not been set.\n",
    "  - ```python\n",
    "    None\n",
    "    ```\n",
    "\n",
    "* - <label>List</label>\n",
    "  - `list`\n",
    "  - An ordered collection of arbitrary objects seperated by commas and enclosed in square brackets (`[` `]`).\n",
    "  - ```python\n",
    "    []\n",
    "    [1, 2, 3]\n",
    "    ```\n",
    "\n",
    "* - <label>Dictionary</label>\n",
    "  - `dict`\n",
    "  - A collection of {samp}`{key}: {value}` pairs seperated by commas and enclosed in curly braces (`{` `}`).\n",
    "  - ```python\n",
    "    {}\n",
    "    {\"a\": 1, \"b\": 2, \"c\": 3}\n",
    "    ```\n",
    "\n",
    "* - <label>Tuple</label>\n",
    "  - `tuple`\n",
    "  - An ordered, immutable collection of arbitrary objects seperated by commas and enclosed in parenthesis (`(` `)`)\n",
    "  - ```python\n",
    "    ()\n",
    "    (1,)\n",
    "    (1, 2, 3)\n",
    "    1, 2, 3\n",
    "    ```\n",
    "\n",
    "* - <label>Set</label>\n",
    "  - `set`\n",
    "  - An unordered collection of unique elements seperated by commas and enclosed in curly braces (`{` `}`).\n",
    "  - ```python\n",
    "    set()\n",
    "    {1, 2, 3}\n",
    "    ```\n",
    "`````\n",
    "\n",
    "### Strings\n",
    "\n",
    "{{ left }}\n",
    "\n",
    "Strings store text data and can be enclosed in either single or double quotes.\n",
    "\n",
    "{{ right }}"
   ]
  },
  {
   "cell_type": "code",
   "execution_count": 5,
   "id": "3bc2bb97",
   "metadata": {},
   "outputs": [
    {
     "data": {
      "text/plain": [
       "'\"Well hello!\", he said.'"
      ]
     },
     "execution_count": 5,
     "metadata": {},
     "output_type": "execute_result"
    }
   ],
   "source": [
    "\"\"\n",
    "\"Hello.\"\n",
    "'Farewell.'\n",
    "\"It's a lovely day.\"\n",
    "'\"Well hello!\", he said.'"
   ]
  },
  {
   "cell_type": "markdown",
   "id": "ace09e7d",
   "metadata": {},
   "source": [
    "{{ row }}\n",
    "\n",
    "For a string that spans multiple lines, enclose it in tripple double (`\"\"\"`) or\n",
    "tripple single (`'''`) quotes.\n",
    "\n",
    "{{ right }}"
   ]
  },
  {
   "cell_type": "code",
   "execution_count": 6,
   "id": "e2e577f2",
   "metadata": {},
   "outputs": [
    {
     "name": "stdout",
     "output_type": "stream",
     "text": [
      "Roses are red,\n",
      "Violets are blue,\n",
      "Sugar is sweet,\n",
      "And so are you.\n"
     ]
    }
   ],
   "source": [
    "rhyme = \"\"\"Roses are red,\n",
    "Violets are blue,\n",
    "Sugar is sweet,\n",
    "And so are you.\"\"\"\n",
    "\n",
    "print(rhyme)"
   ]
  },
  {
   "cell_type": "markdown",
   "id": "856878de",
   "metadata": {},
   "source": [
    "{{ row }}\n",
    "\n",
    "To break long text into multiple lines of code, put strings on concecutive\n",
    "lines (without seperating commas) and enclose the whole expression in\n",
    "parentheses `(` `)`.\n",
    "\n",
    "{{ right }}"
   ]
  },
  {
   "cell_type": "code",
   "execution_count": 7,
   "id": "5ca73841",
   "metadata": {},
   "outputs": [
    {
     "name": "stdout",
     "output_type": "stream",
     "text": [
      "Lorem ipsum dolor sit amet, consectetur adipiscing elit, sed do eiusmod tempor incididunt ut labore et dolore magna aliqua. Ut enim ad minim veniam, quis nostrud exercitation ullamco laboris nisi ut aliquip ex ea commodo consequat.\n"
     ]
    }
   ],
   "source": [
    "text = (\n",
    "  \"Lorem ipsum dolor sit amet, consectetur \"\n",
    "  \"adipiscing elit, sed do eiusmod tempor \"\n",
    "  \"incididunt ut labore et dolore magna \"\n",
    "  \"aliqua. Ut enim ad minim veniam, quis \"\n",
    "  \"nostrud exercitation ullamco laboris \"\n",
    "  \"nisi ut aliquip ex ea commodo consequat.\"\n",
    ")\n",
    "\n",
    "print(text)"
   ]
  },
  {
   "cell_type": "markdown",
   "id": "74defef1",
   "metadata": {},
   "source": [
    "{{ row }}\n",
    "\n",
    "Backslashes (`\\`) are used to escape quotes or to indicate special characters,\n",
    "like `\\n` for a new line.\n",
    "\n",
    "{{ right }}"
   ]
  },
  {
   "cell_type": "code",
   "execution_count": 8,
   "id": "fa265f52",
   "metadata": {},
   "outputs": [
    {
     "name": "stdout",
     "output_type": "stream",
     "text": [
      "It's a nice day.\n",
      "line one\n",
      "line two\n"
     ]
    }
   ],
   "source": [
    "print('It\\'s a nice day.')\n",
    "print(\"line one\\nline two\")"
   ]
  },
  {
   "cell_type": "markdown",
   "id": "aab4bc23",
   "metadata": {},
   "source": [
    "{{ row }}\n",
    "\n",
    "For strings that contain backslashes use a double backslash (`\\\\`) or prefix\n",
    "the string with the letter `r` for a raw string.\n",
    "\n",
    "{{ right }}"
   ]
  },
  {
   "cell_type": "code",
   "execution_count": 9,
   "id": "f64c9ffa",
   "metadata": {},
   "outputs": [
    {
     "name": "stdout",
     "output_type": "stream",
     "text": [
      "\"\\n\" is used to add a newline\n",
      "C:\\Documents\\nodes\n"
     ]
    }
   ],
   "source": [
    "print('\"\\\\n\" is used to add a newline')\n",
    "print(r\"C:\\Documents\\nodes\")"
   ]
  },
  {
   "cell_type": "markdown",
   "id": "edd70763",
   "metadata": {},
   "source": [
    "{{ row }}\n",
    "\n",
    "Strings can be concatenated (joined together) by using the `+` operator.\n",
    "\n",
    "String literals (i.e. the ones in quotes) next to each other are automatically\n",
    "concatonated.\n",
    "\n",
    "{{ right }}"
   ]
  },
  {
   "cell_type": "code",
   "execution_count": 10,
   "id": "299e836a",
   "metadata": {},
   "outputs": [
    {
     "name": "stdout",
     "output_type": "stream",
     "text": [
      "Welcome to coding class.\n",
      "Today we're talking aboutstrings.\n"
     ]
    }
   ],
   "source": [
    "name = \"coding class\"\n",
    "print(\"Welcome to \" + name + \".\")\n",
    "\n",
    "text = \"Today we're talking about\" 'strings.'\n",
    "print(text)"
   ]
  },
  {
   "cell_type": "markdown",
   "id": "f32b6cf3",
   "metadata": {},
   "source": [
    "{{ row }}\n",
    "\n",
    "Use an f-string for string interpoliation by prefixing the string with the\n",
    "letter `f` then enclose the variable or other evaluated code curly braces (`{` `}`).\n",
    "\n",
    "{{ right }}"
   ]
  },
  {
   "cell_type": "code",
   "execution_count": 11,
   "id": "c3acd120",
   "metadata": {},
   "outputs": [
    {
     "name": "stdout",
     "output_type": "stream",
     "text": [
      "I am buying 5 apples for $1.25 each.\n",
      "The total is $6.25.\n"
     ]
    }
   ],
   "source": [
    "price = 1.25\n",
    "count = 5\n",
    "\n",
    "print(f\"I am buying {count} apples for ${price} each.\")\n",
    "print(f\"The total is ${price*count}.\")"
   ]
  },
  {
   "cell_type": "markdown",
   "id": "947d7e4e",
   "metadata": {},
   "source": [
    "{{ endcols }}\n",
    "\n",
    "### Lists\n",
    "\n",
    "A list is an ordered collection of arbitrary objects.\n",
    "\n",
    "{{ left }}\n",
    "\n",
    "To create one, enclose comma-seperated values in square brackets \\\n",
    "(`[` `]`), or an empty pair of square brackets for an empty list.\n",
    "\n",
    "{{ right }}"
   ]
  },
  {
   "cell_type": "code",
   "execution_count": 12,
   "id": "50592ee7",
   "metadata": {},
   "outputs": [
    {
     "data": {
      "text/plain": [
       "[1, 2, 3]"
      ]
     },
     "execution_count": 12,
     "metadata": {},
     "output_type": "execute_result"
    }
   ],
   "source": [
    "[]\n",
    "[1, 2, 3]"
   ]
  },
  {
   "cell_type": "markdown",
   "id": "90970d49",
   "metadata": {},
   "source": [
    "{{ row }}\n",
    "\n",
    "Long lists can be split onto multiple lines after the commas.\n",
    "\n",
    "{{ right }}"
   ]
  },
  {
   "cell_type": "code",
   "execution_count": 13,
   "id": "1aa0d401",
   "metadata": {
    "tabs": [
     "thebe-init"
    ]
   },
   "outputs": [],
   "source": [
    "rainbow = [\n",
    "  \"red\",\n",
    "  \"orange\",\n",
    "  \"yellow\",\n",
    "  \"green\",\n",
    "  \"blue\",\n",
    "  \"indigo\",\n",
    "  \"purple\",\n",
    "]"
   ]
  },
  {
   "cell_type": "markdown",
   "id": "a9bae518",
   "metadata": {},
   "source": [
    "{{ row }}\n",
    "\n",
    "List elements are primarily accessed, changed, or removed using\n",
    "{term}`subscription` via either index numbers or slices.\n",
    "\n",
    "{{ right }}"
   ]
  },
  {
   "cell_type": "code",
   "execution_count": 14,
   "id": "559fa3a7",
   "metadata": {
    "tabs": [
     "thebe-init"
    ]
   },
   "outputs": [
    {
     "name": "stdout",
     "output_type": "stream",
     "text": [
      "red\n",
      "violet\n",
      "['red', 'orange', 'yellow']\n"
     ]
    }
   ],
   "source": [
    "# changing\n",
    "rainbow[-1] = \"violet\"\n",
    "\n",
    "# removing\n",
    "del rainbow[-2]\n",
    "\n",
    "# accessing\n",
    "print(rainbow[0])\n",
    "print(rainbow[-1])\n",
    "print(rainbow[0:3])"
   ]
  },
  {
   "cell_type": "markdown",
   "id": "ab10e27b",
   "metadata": {},
   "source": [
    "{{ endcols }}\n",
    "\n",
    "### Dictionaries\n",
    "\n",
    "A dictionary is a collection of key value pairs.\n",
    "\n",
    "{{ left }}\n",
    "\n",
    "To create one, enclose comma-seperated key value pairs in curly braces (`{` `}`) with\n",
    "a colon (`:`) between each key and value. Or use an empty pair of curly brackets\n",
    "to make an empty dictionary.\n",
    "\n",
    "{{ right }}"
   ]
  },
  {
   "cell_type": "code",
   "execution_count": 15,
   "id": "f4c1c483",
   "metadata": {
    "tags": [
     "thebe-init"
    ]
   },
   "outputs": [],
   "source": [
    "pet = {}\n",
    "\n",
    "garfield = {\"name\": \"garfield\", \"kind\": \"cat\", \"color\": \"orange\"}"
   ]
  },
  {
   "cell_type": "markdown",
   "id": "8723a155",
   "metadata": {},
   "source": [
    "{{ row }}\n",
    "\n",
    "Long dictionaries can be split onto multiple lines after the commas.\n",
    "\n",
    "{{ right }}"
   ]
  },
  {
   "cell_type": "code",
   "execution_count": 16,
   "id": "ee41af19",
   "metadata": {
    "tags": [
     "thebe-init"
    ]
   },
   "outputs": [],
   "source": [
    "toothless = {\n",
    "  \"name\": \"Toothless\",\n",
    "  \"kind\": \"dragon\",\n",
    "  \"color\": \"black\",\n",
    "  \"pic\": \"/|\\\\{O_O}/|\\\\\",\n",
    "  \"age\": 24,\n",
    "}"
   ]
  },
  {
   "cell_type": "markdown",
   "id": "cf43ae79",
   "metadata": {},
   "source": [
    "{{ row }}\n",
    "\n",
    "List elements are primarily accessed, added, changed, or removed using\n",
    "{term}`subscription` via keys.\n",
    "\n",
    "{{ right }}"
   ]
  },
  {
   "cell_type": "code",
   "execution_count": 17,
   "id": "f98a5ffa",
   "metadata": {},
   "outputs": [
    {
     "name": "stdout",
     "output_type": "stream",
     "text": [
      "Toothless : /|\\{O_O}/|\\\n",
      "Garfield : (=^o.o^=)__\n"
     ]
    }
   ],
   "source": [
    "# changing\n",
    "garfield[\"name\"] = \"Garfield\"\n",
    "\n",
    "# adding\n",
    "garfield[\"pic\"] = \"(=^o.o^=)__\"\n",
    "\n",
    "# removing\n",
    "del toothless[\"age\"]\n",
    "\n",
    "# accessing\n",
    "print(toothless[\"name\"], \":\", toothless[\"pic\"])\n",
    "print(garfield[\"name\"], \":\", garfield[\"pic\"])"
   ]
  },
  {
   "cell_type": "markdown",
   "id": "004c2607",
   "metadata": {},
   "source": [
    "{{ endcols }}\n",
    "\n",
    "### Tuples\n",
    "\n",
    "A tuple is an immutable collection of arbitrary objects.\n",
    "\n",
    "{{ left }}\n",
    "\n",
    "To create one, enclose comma-seperated values in parenthesis \\\n",
    "(`(` `)`), or an empty pair of parenthesis for an empty tuple.\n",
    "\n",
    "{{ right }}"
   ]
  },
  {
   "cell_type": "code",
   "execution_count": 18,
   "id": "7d62bd22",
   "metadata": {
    "tabs": [
     "thebe-init"
    ]
   },
   "outputs": [
    {
     "data": {
      "text/plain": [
       "(1, 2, 3)"
      ]
     },
     "execution_count": 18,
     "metadata": {},
     "output_type": "execute_result"
    }
   ],
   "source": [
    "()\n",
    "(1, 2, 3)"
   ]
  },
  {
   "cell_type": "markdown",
   "id": "8a3e6fb0",
   "metadata": {},
   "source": [
    "{{ row }}\n",
    "\n",
    "A tuple can also be created using comma seperated values without the\n",
    "parenthesis.\n",
    "\n",
    "{{ right }}"
   ]
  },
  {
   "cell_type": "code",
   "execution_count": 19,
   "id": "6be64bd6",
   "metadata": {
    "tabs": [
     "thebe-init"
    ]
   },
   "outputs": [
    {
     "data": {
      "text/plain": [
       "(1, 2, 3)"
      ]
     },
     "execution_count": 19,
     "metadata": {},
     "output_type": "execute_result"
    }
   ],
   "source": [
    "1, 2, 3"
   ]
  },
  {
   "cell_type": "markdown",
   "id": "256a41ad",
   "metadata": {},
   "source": [
    "{{ row }}\n",
    "\n",
    "Though parenthesis are required when splitting tuples onto multiple lines.\n",
    "\n",
    "{{ right }}"
   ]
  },
  {
   "cell_type": "code",
   "execution_count": 20,
   "id": "383bf86c",
   "metadata": {},
   "outputs": [],
   "source": [
    "words = (\n",
    "  \"target\",\n",
    "  \"specify\",\n",
    "  \"incline\",\n",
    "  \"college\",\n",
    "  \"forget\",\n",
    "  \"recent\",\n",
    ")"
   ]
  },
  {
   "cell_type": "markdown",
   "id": "fc14fb90",
   "metadata": {},
   "source": [
    "{{ row }}\n",
    "\n",
    "Creating a tuple with only one item is a bit tricky, since parenthesis are\n",
    "used for both expression grouping and tuples.\n",
    "\n",
    "Use a trailing comma to create a tuple with one item.\n",
    "\n",
    "{{ right }}"
   ]
  },
  {
   "cell_type": "code",
   "execution_count": 21,
   "id": "85ccaa9f",
   "metadata": {},
   "outputs": [
    {
     "data": {
      "text/plain": [
       "1"
      ]
     },
     "execution_count": 21,
     "metadata": {},
     "output_type": "execute_result"
    }
   ],
   "source": [
    "# parens are interpreted as grouping\n",
    "# so this is an int instead of a tuple\n",
    "(1)"
   ]
  },
  {
   "cell_type": "code",
   "execution_count": 22,
   "id": "5142f050",
   "metadata": {},
   "outputs": [
    {
     "name": "stdout",
     "output_type": "stream",
     "text": [
      "(1,)\n",
      "(1,)\n"
     ]
    }
   ],
   "source": [
    "# use a trailing comma to create a tuple\n",
    "# with one item\n",
    "nums = (1,)\n",
    "print(nums)\n",
    "\n",
    "# with or without the parenthesis\n",
    "nums = 1,\n",
    "print(nums)"
   ]
  },
  {
   "cell_type": "markdown",
   "id": "fab5fed1",
   "metadata": {},
   "source": [
    "{{ row }}\n",
    "\n",
    "Tuple elements are accessed using {term}`subscription` via index numbers or\n",
    "slices.\n",
    "\n",
    "{{ right }}"
   ]
  },
  {
   "cell_type": "code",
   "execution_count": 23,
   "id": "47f14911",
   "metadata": {},
   "outputs": [
    {
     "name": "stdout",
     "output_type": "stream",
     "text": [
      "target\n",
      "recent\n",
      "('target', 'specify', 'incline')\n"
     ]
    }
   ],
   "source": [
    "print(words[0])\n",
    "print(words[-1])\n",
    "print(words[0:3])"
   ]
  },
  {
   "cell_type": "markdown",
   "id": "ba7877db",
   "metadata": {},
   "source": [
    "{{ endcols }}\n",
    "\n",
    "Tuples are immutable, so items cannot be modified or removed.\n",
    "\n",
    "### Sets\n",
    "\n",
    "A set is an unordered collection with no duplicate elements.\n",
    "\n",
    "{{ left }}\n",
    "\n",
    "To create one, enclose comma-seperated values in curly braces \\\n",
    "(`{` `}`).\n",
    "\n",
    "{{ right }}"
   ]
  },
  {
   "cell_type": "code",
   "execution_count": 24,
   "id": "81264cad",
   "metadata": {},
   "outputs": [
    {
     "data": {
      "text/plain": [
       "{1, 2, 3}"
      ]
     },
     "execution_count": 24,
     "metadata": {},
     "output_type": "execute_result"
    }
   ],
   "source": [
    "{1, 2, 3, 3, 2, 1}"
   ]
  },
  {
   "cell_type": "markdown",
   "id": "82f378c6",
   "metadata": {},
   "source": [
    "{{ row }}\n",
    "\n",
    "Since curley braces are also used for dictionaries, use `set()` to create an\n",
    "empty set.\n",
    "\n",
    "{{ right }}"
   ]
  },
  {
   "cell_type": "code",
   "execution_count": 25,
   "id": "8fb6bbf1",
   "metadata": {},
   "outputs": [
    {
     "data": {
      "text/plain": [
       "set()"
      ]
     },
     "execution_count": 25,
     "metadata": {},
     "output_type": "execute_result"
    }
   ],
   "source": [
    "set()"
   ]
  },
  {
   "cell_type": "markdown",
   "id": "227b31b4",
   "metadata": {},
   "source": [
    "{{ endcols }}\n",
    "\n",
    "Sets are unordered, so {term}`subscription` is not supported.\n",
    "\n",
    "Flow Control\n",
    "------------\n",
    "\n",
    "### if statements\n",
    "\n",
    "{term}`If statements <if statement>` are used to only execute code under\n",
    "certain conditions.\n",
    "\n",
    "{{ left }}\n",
    "\n",
    "If statements always start with an `if` clause. The syntax is:\n",
    "\n",
    "{{ right }}\n",
    "\n",
    "```{include} ../templates/syntax/if.md\n",
    "```\n",
    "\n",
    "```{include} ../templates/desc/if.md\n",
    "```\n",
    "\n",
    "<br>\n",
    "\n",
    "{{ row }}\n",
    "\n",
    "In this example, `\"Would you like a beer?\"` will only be printed if `age >= 21`.\n",
    "\n",
    "{{ right }}\n",
    "\n",
    "```{literalinclude} ../templates/examples/if.py\n",
    ":class: full-width\n",
    ":linenos:\n",
    ":emphasize-lines: \"5-6\"\n",
    "```\n",
    "\n",
    "<br>\n",
    "\n",
    "{{ row }}\n",
    "\n",
    "An if statement may contain zero or more `elif` clauses. The syntax is:\n",
    "\n",
    "{{ right }}\n",
    "\n",
    "```{include} ../templates/syntax/elif.md\n",
    "```\n",
    "\n",
    "```{include} ../templates/desc/elif.md\n",
    "```\n",
    "\n",
    "<br>\n",
    "\n",
    "{{ row }}\n",
    "\n",
    "This example contains two `elif` clauses.\n",
    "\n",
    "{{ right }}\n",
    "\n",
    "```{literalinclude} ../templates/examples/if.py\n",
    ":class: full-width\n",
    ":linenos:\n",
    ":emphasize-lines: \"7-10\"\n",
    "```\n",
    "\n",
    "<br>\n",
    "\n",
    "{{ row }}\n",
    "\n",
    "And an if statement may optionally end with an `else` clause. The syntax is:\n",
    "\n",
    "{{ right }}\n",
    "\n",
    "```{include} ../templates/syntax/else.md\n",
    "```\n",
    "\n",
    "```{include} ../templates/desc/else.md\n",
    "```\n",
    "\n",
    "<br>\n",
    "\n",
    "{{ row }}\n",
    "\n",
    "In this example, `\"Hello.\"` is printed if all preceeding conditions evaluated to\n",
    "`False`.\n",
    "\n",
    "{{ right }}\n",
    "\n",
    "```{literalinclude} ../templates/examples/if.py\n",
    ":class: full-width\n",
    ":linenos:\n",
    ":emphasize-lines: \"11-12\"\n",
    "```\n",
    "\n",
    "{{ endcols }}\n",
    "\n",
    "\n",
    "### for loops\n",
    "\n",
    "{{ left }}\n",
    "\n",
    "{{ right }}\n",
    "\n",
    "```{include} ../templates/syntax/for.md\n",
    "```\n",
    "\n",
    "```{include} ../templates/desc/for.md\n",
    "```\n",
    "\n",
    "{{ row }}\n",
    "\n",
    "{{ right }}\n",
    "\n",
    "```{literalinclude} ../templates/examples/for.py\n",
    ":linenos:\n",
    "```\n",
    "\n",
    "{{ endcols }}\n",
    "\n",
    "### while loops\n",
    "\n",
    "{{ left }}\n",
    "\n",
    "{{ right }}\n",
    "\n",
    "```{include} ../templates/syntax/while.md\n",
    "```\n",
    "\n",
    "```{include} ../templates/desc/while.md\n",
    "```\n",
    "\n",
    "<br>\n",
    "\n",
    "{{ row }}\n",
    "\n",
    "{{ right }}\n",
    "\n",
    "```{literalinclude} ../templates/examples/while.py\n",
    ":linenos:\n",
    "```\n",
    "\n",
    "{{ endcols}}\n",
    "\n",
    "### Functions\n",
    "\n",
    "A {term}`function` is a set of Python instructions or statements that can be\n",
    "executed, or called, later.\n",
    "\n",
    "{{ left }}\n",
    "\n",
    "{{ right }}\n",
    "\n",
    "```{include} ../templates/syntax/def.md\n",
    "```\n",
    "\n",
    "```{include} ../templates/desc/def.md\n",
    "```\n",
    "\n",
    "<br>\n",
    "\n",
    "{{ row }}\n",
    "\n",
    "{{ right }}\n",
    "\n",
    "```{literalinclude} ../templates/examples/def.py\n",
    ":linenos:\n",
    "```\n",
    "\n",
    "{{ endcols }}\n",
    "\n",
    "### Calls\n",
    "\n",
    "{{ left }}\n",
    "\n",
    "Call a function by adding a set of parenthesis after the name. \\\n",
    "Syntax: {samp}`{NAME}()`\n",
    "\n",
    "{{ right }}"
   ]
  },
  {
   "cell_type": "code",
   "execution_count": 26,
   "id": "13db97f0",
   "metadata": {
    "class": "full-width"
   },
   "outputs": [
    {
     "name": "stdout",
     "output_type": "stream",
     "text": [
      "\n"
     ]
    }
   ],
   "source": [
    "print()"
   ]
  },
  {
   "cell_type": "markdown",
   "id": "737ff976",
   "metadata": {},
   "source": [
    "{{ row }}\n",
    "\n",
    "Put arguments inside the parenthesis. \\\n",
    "Syntax: {samp}`{NAME}({ARG})`\n",
    "\n",
    "{{ right }}"
   ]
  },
  {
   "cell_type": "code",
   "execution_count": 27,
   "id": "0d92c63f",
   "metadata": {
    "class": "full-width"
   },
   "outputs": [
    {
     "name": "stdout",
     "output_type": "stream",
     "text": [
      "Welcome!\n"
     ]
    }
   ],
   "source": [
    "print(\"Welcome!\")"
   ]
  },
  {
   "cell_type": "markdown",
   "id": "b37be023",
   "metadata": {},
   "source": [
    "{{ row }}\n",
    "\n",
    "Seperate multiple arguments with commas. \\\n",
    "Syntax: {samp}`{NAME}({ARG1}, {ARG2}...)`\n",
    "\n",
    "{{ right }}"
   ]
  },
  {
   "cell_type": "code",
   "execution_count": 28,
   "id": "83204cb3",
   "metadata": {
    "class": "full-width"
   },
   "outputs": [
    {
     "name": "stdout",
     "output_type": "stream",
     "text": [
      "Welcome Mario\n"
     ]
    }
   ],
   "source": [
    "name = \"Mario\"\n",
    "print(\"Welcome\", name)"
   ]
  },
  {
   "cell_type": "markdown",
   "id": "eab77a8a",
   "metadata": {},
   "source": [
    "{{ endcols }}\n",
    "\n",
    "Reference\n",
    "---------\n",
    "\n",
    "### Glossary\n",
    "\n",
    "```{glossary} syntax\n",
    "\n",
    "comment\n",
    "  Parts in a source-code file which are ignored when the program is run. In\n",
    "  Python add a `#` to the beginning a line to indicate that it is a comment.\n",
    "  You can also comment out only part of a line by adding `#` followed by the\n",
    "  comment text to the end of an expression. It is recommended to follow the `#`\n",
    "  by a single space before the text of the comment.\n",
    "\n",
    "keyword\n",
    "  Reserved words that have special meanings in a programming language so that\n",
    "  they cannot be used as an identifier. Some examples of keywords in Python are\n",
    "  `for`, `if`, and `def`.\n",
    "\n",
    "syntax\n",
    "  A set of rules that determine how a programming language is understood by the\n",
    "  computer. Grammar, but for code.\n",
    "\n",
    "assign\n",
    "  A {term}`statement` that sets the {term}`value` of a variable name.\n",
    "\n",
    "identifier\n",
    "  The name that refers to a some programming element, such as a variable,\n",
    "  class, function or module.\n",
    "\n",
    "variable\n",
    "  A name given to a value.\n",
    "\n",
    "```\n",
    "\n",
    "### See also\n",
    "\n",
    ":::{seealso}\n",
    "\n",
    "* [Learn X in Y Minutes: Python](https://learnxinyminutes.com/docs/python/)\n",
    "* [A Quick Tour of Python Language Syntax](https://jakevdp.github.io/WhirlwindTourOfPython/02-basic-python-syntax.html)\n",
    "* [Python Programming Reference Sheet](https://pythonprinciples.com/reference/)\n",
    "\n",
    ":::\n",
    "\n",
    "\n",
    "----\n",
    "\n",
    "% TODO\n",
    "% [ ] docstrings\n",
    "% [x] comments\n",
    "% [x] parens for grouping, order of operation\n",
    "% [ ] line splitting\n",
    "% [.] types\n",
    "%     [x] list\n",
    "%     [.] dict\n",
    "%     [x] str\n",
    "%     [x] None\n",
    "%     [ ] set\n",
    "%     [ ] tuple\n",
    "% [ ] flow control\n",
    "%     [ ] if\n",
    "%     [ ] while\n",
    "%     [ ] for\n",
    "%         [ ] break\n",
    "%         [ ] continue\n",
    "%     [.] functions\n",
    "%         [ ] return\n",
    "% [ ] confusing\n",
    "%     [ ] nested function calls\n",
    "%     [ ] subscription and dot notation on values\n",
    "%     [ ] expressions inside functions\n",
    "% [ ] gotchas\n",
    "%     [ ] parenthesis: tuples, precedence, functions\n",
    "%     [ ] sets and dicts use `{}`\n",
    "%     [ ] `x + 1` vs `x = x + 1`\n",
    "%     [ ] `if function`\n",
    "%     [ ] missing commas from list means concatonation\n",
    "%\n",
    "% [ ] keywords\n",
    "% [ ] case sensitive\n",
    "\n",
    "% https://jakevdp.github.io/WhirlwindTourOfPython/02-basic-python-syntax.html\n",
    "% https://www.101computing.net/wp/wp-content/uploads/Python-Cheat-Sheet.pdf\n",
    "% https://ddi.ifi.lmu.de/probestudium/2013/ws-i-3d-programmierung/tutorials/python-referenzkarte\n",
    "% https://www.codecademy.com/learn/introduction-to-python-dvp/modules/python-syntax-dvp/cheatsheet\n",
    "% https://pythonprinciples.com/reference/\n",
    "% https://programmingwithmosh.com/python/python-3-cheat-sheet/\n",
    "\n",
    "\n",
    "\n",
    "```{toctree}\n",
    ":hidden:\n",
    ":titlesonly:\n",
    "\n",
    "\n",
    "expressions\n",
    "statements\n",
    "variables\n",
    "```"
   ]
  }
 ],
 "metadata": {
  "jupytext": {
   "formats": "md:myst",
   "text_representation": {
    "extension": ".md",
    "format_name": "myst"
   }
  },
  "kernelspec": {
   "display_name": "Python 3",
   "language": "python",
   "name": "python3"
  },
  "language_info": {
   "codemirror_mode": {
    "name": "ipython",
    "version": 3
   },
   "file_extension": ".py",
   "mimetype": "text/x-python",
   "name": "python",
   "nbconvert_exporter": "python",
   "pygments_lexer": "ipython3",
   "version": "3.8.11"
  },
  "source_map": [
   16,
   49,
   55,
   123,
   130,
   135,
   146,
   154,
   317,
   323,
   332,
   339,
   349,
   360,
   369,
   372,
   381,
   384,
   395,
   401,
   410,
   416,
   431,
   434,
   442,
   453,
   462,
   475,
   491,
   497,
   505,
   515,
   524,
   538,
   553,
   557,
   566,
   569,
   577,
   586,
   597,
   603,
   612,
   621,
   626,
   643,
   645,
   654,
   656,
   838,
   842,
   851,
   855,
   864,
   869
  ],
  "substitutions": {
   "left": "{{ leftcol | replace(\"col\", \"col-5\") }}",
   "right": "{{ rightcol | replace(\"col\", \"col-7\") }}",
   "row": "{{ newrow | replace(\"col\", \"col-5\") }}"
  }
 },
 "nbformat": 4,
 "nbformat_minor": 5
}