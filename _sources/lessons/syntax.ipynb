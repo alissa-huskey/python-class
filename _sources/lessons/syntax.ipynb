{
 "cells": [
  {
   "cell_type": "markdown",
   "id": "c2e19430",
   "metadata": {},
   "source": [
    "Syntax\n",
    "======\n",
    "\n",
    "In this section we'll learn the basic Python syntax.\n",
    "\n",
    "```{contents} Table of Contents\n",
    ":backlinks: top\n",
    ":local:\n",
    "```\n",
    "\n",
    "Introduction\n",
    "------------\n",
    "\n",
    "Syntax is set of grammar and punctuation rules that define how to put words and\n",
    "symbols together to properly form a particular language.\n",
    "\n",
    "In the English language for example, we know a sentence is made up of a subject\n",
    "and predicate, that the first letter should be capitalized, and that\n",
    "it should end in a period, question mark, or exclamation point.\n",
    "\n",
    "Python is a programming language, intended to read by a computer. In order to\n",
    "write code that the computer can understand, we need to understand the syntax.\n",
    "\n",
    "Structure\n",
    "---------\n",
    "\n",
    "A program is made up of a series of instructions which are read and executed in\n",
    "order from top to bottom.\n",
    "\n",
    "To get a better idea of what is involved, lets consider the following simple\n",
    "example:"
   ]
  },
  {
   "cell_type": "code",
   "execution_count": 1,
   "id": "9c68e102",
   "metadata": {
    "class": "full-width",
    "linenos": null
   },
   "outputs": [
    {
     "name": "stdout",
     "output_type": "stream",
     "text": [
      "                              Good morning world!                               \n"
     ]
    }
   ],
   "source": [
    "\"\"\"My first program\"\"\"\n",
    "\n",
    "import time\n",
    "\n",
    "width = 80\n",
    "today = time.localtime()\n",
    "\n",
    "greeting = \"Hello\"\n",
    "\n",
    "if today.tm_hour < 11:\n",
    "  greeting = \"Good morning\"  # before 12pm\n",
    "\n",
    "# put together the message and make it centered\n",
    "message = (greeting + \" world!\").center(width)\n",
    "\n",
    "print(message)"
   ]
  },
  {
   "cell_type": "markdown",
   "id": "480b0e95",
   "metadata": {},
   "source": [
    "### Docstrings\n",
    "\n",
    "{{ left }}\n",
    "\n",
    "When the first line of a program or function is enclosed in triple single\n",
    "(`'''`) or triple double (`\"\"\"`) quotes, it is a special kind of string\n",
    "intended for documentation called a {term}`docstring`.\n",
    "\n",
    "{{ right }}\n",
    "\n",
    "```{code-block} python\n",
    ":class: full-width\n",
    ":emphasize-lines: \"1\"\n",
    ":linenos:\n",
    "\n",
    "\"\"\"My first program\"\"\"\n",
    "```\n",
    "\n",
    "{{ endcols }}\n",
    "\n",
    "### Comments\n",
    "\n",
    "{{ left }}\n",
    "\n",
    "You can leave notes for future reference starting with a `#`. This tells\n",
    "Python to ignore everything that follows until the end of the line.\n",
    "\n",
    "{{ right }}\n",
    "\n",
    "```{literalinclude} ../templates/examples/syntax.py\n",
    ":class: full-width\n",
    ":emphasize-lines: 1\n",
    ":lines: \"14-15\"\n",
    ":linenos:\n",
    "```\n",
    "\n",
    "{{ row }}\n",
    "\n",
    "A comment doesn't have to be at the start of the line.\n",
    "\n",
    "{{ right }}\n",
    "\n",
    "```{code-block-hl} python\n",
    ":linenos:\n",
    ":class: full-width\n",
    ":lineno-start: 11\n",
    "\n",
    "if today.tm_hour < 11:\n",
    "  greeting = \"Good morning\"  !!!# before 12pm!!!\n",
    "```\n",
    "\n",
    "{{ endcols }}\n",
    "\n",
    "### Keywords\n",
    "\n",
    "{{ left }}\n",
    "\n",
    "Keywords are reserved words that have a special meaning in Python. A keyword\n",
    "cannot be used as a function or variable.\n",
    "\n",
    "{{ right }}\n",
    "\n",
    "```{code-block-hl} python\n",
    ":class: full-width\n",
    ":linenos:\n",
    "\n",
    "!!!import !!!time\n",
    "!!!import !!!shutil\n",
    "```\n",
    "\n",
    "```{code-block-hl} python\n",
    ":class: full-width\n",
    ":lineno-start: 11\n",
    "\n",
    "!!!if!!! today.tm_hour < 11:\n",
    "```\n",
    "\n",
    "{{ row }}\n",
    "\n",
    "A list of all keywords is available in the `keyword` module `kwlist`.\n",
    "\n",
    "{{ right }}\n",
    "\n",
    "\n",
    ":::{dropdown} Show Keywords\n",
    ":title: +text-center\n",
    ":container: +keywords-list\n",
    "\n",
    "```{include} keywords.md\n",
    "```\n",
    "\n",
    ":::\n",
    "\n",
    "{{ endcols }}\n",
    "\n",
    "### Statements\n",
    "\n",
    "{{ left }}\n",
    "\n",
    "Code is made up of a series of instructions to the computer called\n",
    "{term}`statements <statement>`.\n",
    "\n",
    "{{ right }}\n",
    "\n",
    "`````{dropdown} **...**\n",
    ":title: +text-center\n",
    "\n",
    "```{code-block-hl} python\n",
    ":linenos:\n",
    ":emphasize-lines: \"3-10, 14-16\"\n",
    ":caption: all statements\n",
    "\n",
    "\"\"\"My first program\"\"\"\n",
    "\n",
    "import time\n",
    "\n",
    "width = 80\n",
    "today = time.localtime()\n",
    "\n",
    "greeting = \"Hello\"\n",
    "\n",
    "if today.tm_hour < 11:\n",
    "  !!!greeting = \"Good morning\"!!!  # before 12pm\n",
    "\n",
    "# put together the message and make it centered\n",
    "message = (greeting + \" world!\").center(width)\n",
    "\n",
    "print(message)\n",
    "```\n",
    "\n",
    "`````\n",
    "\n",
    "{{ row }}\n",
    "\n",
    "The {term}`simple <simple statement>` form is a single line of code, kind of\n",
    "like a sentence that says what to do.\n",
    "\n",
    "{{ right }}\n",
    "\n",
    "```{code-block-hl} python\n",
    ":linenos:\n",
    ":class: full-width\n",
    ":emphasize-lines: \"3\"\n",
    ":caption: a simple statement\n",
    "\n",
    "\"\"\"My first program\"\"\"\n",
    "\n",
    "import time\n",
    "```\n",
    "\n",
    "`````{dropdown} See more\n",
    ":title: +text-center\n",
    "\n",
    "```{code-block-hl} python\n",
    ":linenos:\n",
    ":emphasize-lines: \"1-4, 10-12\"\n",
    ":caption: all simple statements\n",
    ":lineno-start: 4\n",
    "\n",
    "width = 80\n",
    "today = time.localtime()\n",
    "\n",
    "greeting = \"Hello\"\n",
    "\n",
    "if today.tm_hour < 11:\n",
    "  !!!greeting = \"Good morning\"!!!  # before 12pm\n",
    "\n",
    "# put together the message and make it centered\n",
    "message = (greeting + \" world!\").center(width)\n",
    "\n",
    "print(message)\n",
    "```\n",
    "\n",
    "`````\n",
    "\n",
    "{{ row }}\n",
    "\n",
    "Various kinds of {term}`compound statements <compound statement>` are used to\n",
    "group together and control part of a program.\n",
    "\n",
    "{{ label }}\n",
    "\n",
    "\n",
    "{{ right }}\n",
    "\n",
    "```{include} ../templates/syntax/compound-statement.md\n",
    "```\n",
    "\n",
    "```{include} ../templates/desc/compound-statement.md\n",
    "```\n",
    "\n",
    "{{ row }}\n",
    "\n",
    "While the full {term}`header` syntax depends on the statement, they all begin\n",
    "with a keyword and end with a colon (`:`).\n",
    "\n",
    "{{ right }}\n",
    "\n",
    "```{code-block-hl} python\n",
    ":class: full-width\n",
    ":lineno-start: 11\n",
    ":caption: header line\n",
    "\n",
    "!!!if!!! today.tm_hour < 11!!!:!!!\n",
    "  greeting = \"Good morning \"  # before 12pm\n",
    "```\n",
    "\n",
    "{{ row }}\n",
    "\n",
    "Its {term}`body` of statements are indented under the header.\n",
    "\n",
    "{{ right }}\n",
    "\n",
    "```{code-block-hl} python\n",
    ":class: full-width\n",
    ":lineno-start: 11\n",
    ":caption: indented body line\n",
    "\n",
    "if today.tm_hour < 11:\n",
    "!!!  !!!greeting = \"Good morning\"  # before 12pm\n",
    "```\n",
    "\n",
    "{{ endcols }}\n",
    "\n",
    "### Expressions\n",
    "\n",
    "{{ left }}\n",
    "\n",
    "A statement may contain one or more {term}`expressions <expression>`, which is\n",
    "any piece of code that resolves to a value.\n",
    "\n",
    "{{ right }}\n",
    "\n",
    "```{code-block-hl} python\n",
    ":class: full-width\n",
    ":linenos:\n",
    ":lineno-start: 9\n",
    "\n",
    "greeting = !!!\"Hello\"!!!\n",
    "```\n",
    "\n",
    ":::{dropdown} See more\n",
    ":title: +text-center\n",
    "\n",
    "```{code-block-hl} python\n",
    ":class: full-width\n",
    ":linenos:\n",
    ":caption: all expressions\n",
    "\n",
    "!!!\"\"\"My first program\"\"\"!!!\n",
    "\n",
    "import time\n",
    "import shutil\n",
    "\n",
    "width = !!!80!!!\n",
    "today = !!!time.localtime()!!!\n",
    "\n",
    "greeting = !!!\"Hello\"!!!\n",
    "\n",
    "if !!!today.tm_hour < 11!!!:\n",
    "  greeting = !!!\"Good morning\"!!!  # before 12pm\n",
    "\n",
    "# put together the message and make it centered\n",
    "message = !!!(greeting + \"world!\").center(width)!!!\n",
    "\n",
    "print(!!!message!!!)\n",
    "```\n",
    "\n",
    ":::\n",
    "\n",
    "{{ row }}\n",
    "\n",
    "Parentheses can be used around part of an expression to control order of\n",
    "operation or grouping.\n",
    "\n",
    "{{ right }}\n",
    "\n",
    "```{code-block-hl} python\n",
    ":class: full-width\n",
    ":linenos:\n",
    ":lineno-start: 15\n",
    "\n",
    "message = !!!(greeting + \"world!\")!!!.center(width)\n",
    "```\n",
    "\n",
    "{{ br * 2 }}\n",
    "\n",
    "{{ row }}\n",
    "\n",
    "Often more than one expression is needed to make a value.\n",
    "\n",
    "One expression is then made up of two or more other expressions, each of which\n",
    "must be {term}`evaluated <evaluate>` to produce a value, before being combined\n",
    "together into the final result.\n",
    "\n",
    "They are evaluated in the order of inside outward then left to right.\n",
    "\n",
    "{{ right }}\n",
    "\n",
    "```{code-block-hl} python\n",
    "---\n",
    "class: full-width\n",
    "caption: |\n",
    "  step #1 innermost variables and literal values: \\\n",
    "  `message = (\"Hello\" + \"world!\").center(80)`\n",
    "---\n",
    "\n",
    "\n",
    "message = (!!!greeting!!! + !!!\"world!\"!!!).center(!!!width!!!)\n",
    "```\n",
    "\n",
    "```{code-block-hl} python\n",
    "---\n",
    "class: full-width\n",
    "caption: |\n",
    "  step #2 remaining inner expression: \\\n",
    "  `message = (\"Hello world!\").center(80)`\n",
    "---\n",
    "\n",
    "message = (!!!greeting + \"world!\"!!!).center(width)\n",
    "```\n",
    "\n",
    "```{code-block-hl} python\n",
    "---\n",
    "class: full-width\n",
    "caption: |\n",
    "  step #3 leftmost expression: \\\n",
    "  `message = \"Hello world!\".center(80)`\n",
    "---\n",
    "\n",
    "message = !!!(greeting + \"world!\")!!!.center(width)\n",
    "```\n",
    "\n",
    "```{code-block-hl} python\n",
    "---\n",
    "class: full-width\n",
    "caption: |\n",
    "  step #4 next expression to the right: \\\n",
    "  `message = \"                                  Hello world!                                  \"`\n",
    "---\n",
    "\n",
    "message = !!!(greeting + \"world!\").center(width)!!!\n",
    "```\n",
    "\n",
    "{{ endcols }}\n",
    "\n",
    "Values\n",
    "------\n",
    "\n",
    "Every value has a type and each type has its own syntax. Let's take a look at\n",
    "the following example with a summary of the simple types and how variables are\n",
    "saved."
   ]
  },
  {
   "cell_type": "code",
   "execution_count": 2,
   "id": "8746ba8c",
   "metadata": {},
   "outputs": [
    {
     "name": "stdout",
     "output_type": "stream",
     "text": [
      "Hello.\n"
     ]
    }
   ],
   "source": [
    "greeting = \"Hello.\" # string         (str)\n",
    "health = 100        # integer        (int)\n",
    "delay = 0.1         # floating point (float)\n",
    "verbose = True      # boolean        (bool)\n",
    "winner = None       # NoneType\n",
    "\n",
    "# list (list)\n",
    "letters = [\"a\", \"b\", \"c\", \"d\", \"e\", \"f\"]\n",
    "\n",
    "# dictionary (dict)\n",
    "numbers = {\n",
    "  \"I\": 1,\n",
    "  \"II\": 2,\n",
    "  \"III\": 3,\n",
    "  \"IV\": 4,\n",
    "  \"V\": 5,\n",
    "}\n",
    "\n",
    "print(greeting)"
   ]
  },
  {
   "cell_type": "markdown",
   "id": "3bff17f1",
   "metadata": {},
   "source": [
    "### Variables\n",
    "\n",
    "{{ left }}\n",
    "\n",
    "Save a value to be easily used later in the code by giving it a name.  To\n",
    "create a variable simply {term}`assign` a value to it it using the equals sign\n",
    "(`=`).\n",
    "\n",
    "Syntax: {samp}`{NAME} = {VALUE}`\n",
    "\n",
    "{{ right }}\n",
    "\n",
    "```{code-block-hl} python\n",
    ":linenos:\n",
    "\n",
    "!!!greeting = \"Hello.\"!!! # string         (str)\n",
    "!!!health = 100!!!        # integer        (int)\n",
    "!!!delay = 0.1!!!         # floating point (float)\n",
    "!!!verbose = True!!!      # boolean        (bool)\n",
    "!!!winner = None!!!       # NoneType\n",
    "```\n",
    "\n",
    "{{ row }}\n",
    "\n",
    "To {term}`reference` a variable, or retrieve the data you stored, use the variable name.\n",
    "\n",
    "{{ right }}\n",
    "\n",
    "```{code-block-hl} python\n",
    ":lineno-start: 7\n",
    "\n",
    "print(!!!greeting!!!)\n",
    "```\n",
    "\n",
    "{{ row }}\n",
    "\n",
    "Assign multiple variables at once by putting the same number of variables on\n",
    "the left of the equals sign as values on the right, separated by commas.\n",
    "\n",
    "Syntax: \\\n",
    "{samp}`NAME1, NAME2... = VAL1, VAL2...`\n",
    "\n",
    "{{ right }}\n",
    "\n",
    "```{code-block} python\n",
    "red, green, blue = 0, 255, 125\n",
    "```\n",
    "\n",
    "{{ row }}\n",
    "\n",
    "Or the same number of variables on the left of the equals sign as elements in a\n",
    "sequence such as a list.\n",
    "\n",
    "Syntax: {samp}`NAME1, NAME2... = SEQUENCE`\n",
    "\n",
    "{{ right }}\n",
    "\n",
    "```{code-block} python\n",
    "x, y = [-10, 10]\n",
    "```\n",
    "\n",
    "{{ endcols }}\n",
    "\n",
    "### Bracket notation\n",
    "\n",
    "Many {term}`container` types (like lists and dictionaries) support the use of\n",
    "{term}`subscription` or {term}`bracket notation` to select elements from the\n",
    "collection. Add square brackets (`[` `]`) after a value enclosing a selector\n",
    "expression.\n",
    "\n",
    "Syntax: {samp}`{VALUE}[{EXPRESSION}]`\n",
    "\n",
    "{{ left }}\n",
    "\n",
    "Depending on the type, a selector expression may be a negative or positive {term}`index number`...\n",
    "\n",
    "{{ right }}\n",
    "\n",
    "```{code-block-hl} python\n",
    "letters!!![0]!!!\n",
    "letters!!![-1]!!!\n",
    "```\n",
    "\n",
    "{{ row }}\n",
    "\n",
    "... a {term}`key`...\n",
    "\n",
    "{{ right }}\n",
    "\n",
    "```{code-block-hl} python\n",
    "numbers!!![\"IV\"]!!!\n",
    "```\n",
    "\n",
    "{{ row }}\n",
    "\n",
    "...or a {term}`slice`.\n",
    "\n",
    "{{ right }}\n",
    "\n",
    "```{code-block-hl} python\n",
    "letters!!![2:4]!!!\n",
    "```\n",
    "\n",
    "{{ row }}\n",
    "\n",
    "As with any expression, variables can be used in selector expressions.\n",
    "\n",
    "{{ right }}\n",
    "\n",
    "```{code-block-hl} python\n",
    "idx = 2\n",
    "letters!!![idx]!!!\n",
    "letters!!![idx:]!!!\n",
    "```\n",
    "\n",
    "{{ row }}\n",
    "\n",
    "Bracket notation is most often used on a variable, but in fact it can be used\n",
    "on any expression that results in a type that supports it.\n",
    "\n",
    "{{ right }}\n",
    "\n",
    "```{code-block-hl} python\n",
    "!!!\"hello\"!!![2]\n",
    "!!!list(\"abc\")!!![-1]\n",
    "!!!{\"a\": 1}!!![\"a\"]\n",
    "```\n",
    "\n",
    "{{ endcols }}\n",
    "\n",
    "### Dot notation\n",
    "\n",
    "{{ left }}\n",
    "\n",
    "Use {term}`dot notation` to access {term}`members` of a given value by adding a\n",
    "period (`.`) after a value followed by the member name.\n",
    "\n",
    "Syntax: {samp}`{VALUE}.{MEMBER}`\n",
    "\n",
    "{{ right }}\n",
    "\n",
    "```{code-block-hl} python\n",
    "letters!!!.sort!!!()\n",
    "```\n",
    "\n",
    "{{ row }}\n",
    "\n",
    "While dot notation is most often used on a variable, it can actually be used on\n",
    "any expression.\n",
    "\n",
    "{{ right }}\n",
    "\n",
    "```{code-block-hl} python\n",
    "!!!\"hello\"!!!.upper()\n",
    "```\n",
    "\n",
    "{{ row }}\n",
    "\n",
    "This means it is possible to {term}`chain <chaining>` or string together\n",
    "multiple attribute references, as long as each concecutive member returns a\n",
    "value.\n",
    "\n",
    "{{ right }}\n",
    "\n",
    "```{code-block-hl} python\n",
    "name = input(\"Full Name: \")!!!.title!!!()!!!.strip!!!()\n",
    "```\n",
    "\n",
    "{{ endcols }}\n",
    "\n",
    "### Calls\n",
    "\n",
    "{{ left }}\n",
    "\n",
    "Call a function by adding a set of parenthesis after the name.\n",
    "\n",
    "Syntax: {samp}`{NAME}()`\n",
    "\n",
    "{{ right }}"
   ]
  },
  {
   "cell_type": "code",
   "execution_count": 3,
   "id": "6a094d47",
   "metadata": {
    "class": "full-width"
   },
   "outputs": [
    {
     "name": "stdout",
     "output_type": "stream",
     "text": [
      "\n"
     ]
    }
   ],
   "source": [
    "print()"
   ]
  },
  {
   "cell_type": "markdown",
   "id": "9ada653a",
   "metadata": {},
   "source": [
    "{{ row }}\n",
    "\n",
    "Put arguments inside the parenthesis.\n",
    "\n",
    "Syntax: {samp}`{NAME}({ARG})`\n",
    "\n",
    "{{ right }}"
   ]
  },
  {
   "cell_type": "code",
   "execution_count": 4,
   "id": "41035f15",
   "metadata": {
    "class": "full-width"
   },
   "outputs": [
    {
     "name": "stdout",
     "output_type": "stream",
     "text": [
      "Welcome!\n"
     ]
    }
   ],
   "source": [
    "print(\"Welcome!\")"
   ]
  },
  {
   "cell_type": "markdown",
   "id": "de482a4b",
   "metadata": {},
   "source": [
    "{{ row }}\n",
    "\n",
    "Separate multiple {term}`arguments <argument>` with commas.\n",
    "\n",
    "Syntax: {samp}`{NAME}({ARG1}, {ARG2}...)`\n",
    "\n",
    "{{ right }}"
   ]
  },
  {
   "cell_type": "code",
   "execution_count": 5,
   "id": "5e0c53d9",
   "metadata": {
    "class": "full-width"
   },
   "outputs": [
    {
     "name": "stdout",
     "output_type": "stream",
     "text": [
      "Welcome Mario\n"
     ]
    }
   ],
   "source": [
    "name = \"Mario\"\n",
    "print(\"Welcome\", name)"
   ]
  },
  {
   "cell_type": "markdown",
   "id": "bd991150",
   "metadata": {},
   "source": [
    "{{ endcols }}\n",
    "\n",
    "Types\n",
    "-----\n",
    "\n",
    "Lets take a closer look at the standard built in types.\n",
    "\n",
    "`````{list-table}\n",
    ":widths: 15, 10, 35, 35\n",
    ":header-rows: 1\n",
    "\n",
    "* - Name\n",
    "  - Type\n",
    "  - Description\n",
    "  - Examples\n",
    "\n",
    "* - <label>None</label>\n",
    "  -\n",
    "  - A single value `None` with the first letter capitalized. Used to indicate\n",
    "    that the value has not been set.\n",
    "  - ```python\n",
    "    None\n",
    "    ```\n",
    "\n",
    "* - <label>Boolean</label>\n",
    "  - `bool`\n",
    "  - Either `True` or `False` with the first letter capitalized.\n",
    "  - ```python\n",
    "    True\n",
    "    False\n",
    "    ```\n",
    "\n",
    "* - <label>Integer</label>\n",
    "  - `int`\n",
    "  - Whole numbers.\n",
    "  - ```python\n",
    "    10\n",
    "    0\n",
    "    -55\n",
    "    ```\n",
    "\n",
    "* - <label>Floating point</label>\n",
    "  - `float`\n",
    "  - Numbers with a decimal point.\n",
    "  - ```python\n",
    "    .1\n",
    "    1.5\n",
    "    -0.25\n",
    "    ```\n",
    "\n",
    "* - <label>String</label>\n",
    "  - `str`\n",
    "  - Text data enclosed in either single or double quotes.\n",
    "  - ```python\n",
    "    \"Hello\"\n",
    "    'Goodbye'\n",
    "    ```\n",
    "\n",
    "* - <label>List</label>\n",
    "  - `list`\n",
    "  - An ordered collection of arbitrary objects seperated by commas and enclosed in square brackets (`[` `]`).\n",
    "  - ```python\n",
    "    []\n",
    "    [1, 2, 3]\n",
    "    ```\n",
    "\n",
    "* - <label>Dictionary</label>\n",
    "  - `dict`\n",
    "  - A collection of {samp}`{key}: {value}` pairs seperated by commas and enclosed in curly braces (`{` `}`).\n",
    "  - ```python\n",
    "    {}\n",
    "    {\"a\": 1, \"b\": 2, \"c\": 3}\n",
    "    ```\n",
    "\n",
    "* - <label>Tuple</label>\n",
    "  - `tuple`\n",
    "  - An ordered, immutable collection of arbitrary objects seperated by commas and enclosed in parenthesis (`(` `)`)\n",
    "  - ```python\n",
    "    ()\n",
    "    (1,)\n",
    "    (1, 2, 3)\n",
    "    1, 2, 3\n",
    "    ```\n",
    "\n",
    "* - <label>Set</label>\n",
    "  - `set`\n",
    "  - An unordered collection of unique elements seperated by commas and enclosed in curly braces (`{` `}`).\n",
    "  - ```python\n",
    "    set()\n",
    "    {1, 2, 3}\n",
    "    ```\n",
    "`````\n",
    "\n",
    "### Strings\n",
    "\n",
    "{{ left }}\n",
    "\n",
    "Strings store text data and can be enclosed in either single or double quotes.\n",
    "\n",
    "{{ right }}"
   ]
  },
  {
   "cell_type": "code",
   "execution_count": 6,
   "id": "d035b94c",
   "metadata": {},
   "outputs": [
    {
     "data": {
      "text/plain": [
       "'\"Well hello!\", he said.'"
      ]
     },
     "execution_count": 6,
     "metadata": {},
     "output_type": "execute_result"
    }
   ],
   "source": [
    "\"\"\n",
    "\"Hello.\"\n",
    "'Farewell.'\n",
    "\"It's a lovely day.\"\n",
    "'\"Well hello!\", he said.'"
   ]
  },
  {
   "cell_type": "markdown",
   "id": "1fb87399",
   "metadata": {},
   "source": [
    "{{ row }}\n",
    "\n",
    "For a string that spans multiple lines, enclose it in triple double (`\"\"\"`) or\n",
    "triple single (`'''`) quotes.\n",
    "\n",
    "{{ right }}"
   ]
  },
  {
   "cell_type": "code",
   "execution_count": 7,
   "id": "e7055f38",
   "metadata": {},
   "outputs": [
    {
     "name": "stdout",
     "output_type": "stream",
     "text": [
      "Roses are red,\n",
      "Violets are blue,\n",
      "Sugar is sweet,\n",
      "And so are you.\n"
     ]
    }
   ],
   "source": [
    "rhyme = \"\"\"Roses are red,\n",
    "Violets are blue,\n",
    "Sugar is sweet,\n",
    "And so are you.\"\"\"\n",
    "\n",
    "print(rhyme)"
   ]
  },
  {
   "cell_type": "markdown",
   "id": "cb377de0",
   "metadata": {},
   "source": [
    "{{ row }}\n",
    "\n",
    "To break long text into multiple lines of code, put strings on consecutive\n",
    "lines (without separating commas) and enclose the whole expression in\n",
    "parentheses `(` `)`.\n",
    "\n",
    "{{ right }}"
   ]
  },
  {
   "cell_type": "code",
   "execution_count": 8,
   "id": "3bc9bb2a",
   "metadata": {},
   "outputs": [
    {
     "name": "stdout",
     "output_type": "stream",
     "text": [
      "Lorem ipsum dolor sit amet, consectetur adipiscing elit, sed do eiusmod tempor incididunt ut labore et dolore magna aliqua. Ut enim ad minim veniam, quis nostrud exercitation ullamco laboris nisi ut aliquip ex ea commodo consequat.\n"
     ]
    }
   ],
   "source": [
    "text = (\n",
    "  \"Lorem ipsum dolor sit amet, consectetur \"\n",
    "  \"adipiscing elit, sed do eiusmod tempor \"\n",
    "  \"incididunt ut labore et dolore magna \"\n",
    "  \"aliqua. Ut enim ad minim veniam, quis \"\n",
    "  \"nostrud exercitation ullamco laboris \"\n",
    "  \"nisi ut aliquip ex ea commodo consequat.\"\n",
    ")\n",
    "\n",
    "print(text)"
   ]
  },
  {
   "cell_type": "markdown",
   "id": "97532957",
   "metadata": {},
   "source": [
    "{{ row }}\n",
    "\n",
    "Backslashes (`\\`) are used to escape quotes or to indicate special characters,\n",
    "like `\\n` for a new line.\n",
    "\n",
    "{{ right }}"
   ]
  },
  {
   "cell_type": "code",
   "execution_count": 9,
   "id": "cb4a5553",
   "metadata": {},
   "outputs": [
    {
     "name": "stdout",
     "output_type": "stream",
     "text": [
      "It's a nice day.\n",
      "line one\n",
      "line two\n"
     ]
    }
   ],
   "source": [
    "print('It\\'s a nice day.')\n",
    "print(\"line one\\nline two\")"
   ]
  },
  {
   "cell_type": "markdown",
   "id": "1318e852",
   "metadata": {},
   "source": [
    "{{ row }}\n",
    "\n",
    "For strings that contain backslashes use a double backslash (`\\\\`) or prefix\n",
    "the string with the letter `r` for a raw string.\n",
    "\n",
    "{{ right }}"
   ]
  },
  {
   "cell_type": "code",
   "execution_count": 10,
   "id": "e86d9098",
   "metadata": {},
   "outputs": [
    {
     "name": "stdout",
     "output_type": "stream",
     "text": [
      "\"\\n\" is used to add a newline\n",
      "C:\\Documents\\nodes\n"
     ]
    }
   ],
   "source": [
    "print('\"\\\\n\" is used to add a newline')\n",
    "print(r\"C:\\Documents\\nodes\")"
   ]
  },
  {
   "cell_type": "markdown",
   "id": "23769fab",
   "metadata": {},
   "source": [
    "{{ row }}\n",
    "\n",
    "Strings can be {term}`concatenated <concatenate>` (joined together) by using\n",
    "the `+` operator.\n",
    "\n",
    "String literals (the ones in quotes) next to each other are automatically\n",
    "concatenated.\n",
    "\n",
    "{{ right }}"
   ]
  },
  {
   "cell_type": "code",
   "execution_count": 11,
   "id": "75d261fb",
   "metadata": {},
   "outputs": [
    {
     "name": "stdout",
     "output_type": "stream",
     "text": [
      "Welcome to coding class.\n",
      "Today we're talking aboutstrings.\n"
     ]
    }
   ],
   "source": [
    "name = \"coding class\"\n",
    "print(\"Welcome to \" + name + \".\")\n",
    "\n",
    "text = \"Today we're talking about\" 'strings.'\n",
    "print(text)"
   ]
  },
  {
   "cell_type": "markdown",
   "id": "95dd8ff4",
   "metadata": {},
   "source": [
    "{{ row }}\n",
    "\n",
    "Use an f-string for string {term}`interpolation` by prefixing the string with the\n",
    "letter `f` then enclose the variable or other evaluated code curly braces (`{` `}`).\n",
    "\n",
    "{{ right }}"
   ]
  },
  {
   "cell_type": "code",
   "execution_count": 12,
   "id": "2f3eb6d0",
   "metadata": {},
   "outputs": [
    {
     "name": "stdout",
     "output_type": "stream",
     "text": [
      "I am buying 5 apples for $1.25 each.\n",
      "The total is $6.25.\n"
     ]
    }
   ],
   "source": [
    "price = 1.25\n",
    "count = 5\n",
    "\n",
    "print(f\"I am buying {count} apples for ${price} each.\")\n",
    "print(f\"The total is ${price*count}.\")"
   ]
  },
  {
   "cell_type": "markdown",
   "id": "719ced68",
   "metadata": {},
   "source": [
    "{{ endcols }}\n",
    "\n",
    "### Lists\n",
    "\n",
    "A list is an ordered collection of arbitrary objects.\n",
    "\n",
    "{{ left }}\n",
    "\n",
    "To create one, enclose comma-separated values in square brackets \\\n",
    "(`[` `]`), or an empty pair of square brackets for an empty list.\n",
    "\n",
    "{{ right }}"
   ]
  },
  {
   "cell_type": "code",
   "execution_count": 13,
   "id": "30165b36",
   "metadata": {},
   "outputs": [
    {
     "data": {
      "text/plain": [
       "[1, 2, 3]"
      ]
     },
     "execution_count": 13,
     "metadata": {},
     "output_type": "execute_result"
    }
   ],
   "source": [
    "[]\n",
    "[1, 2, 3]"
   ]
  },
  {
   "cell_type": "markdown",
   "id": "3235ad1f",
   "metadata": {},
   "source": [
    "{{ row }}\n",
    "\n",
    "Long lists can be split onto multiple lines after the commas.\n",
    "\n",
    "{{ right }}"
   ]
  },
  {
   "cell_type": "code",
   "execution_count": 14,
   "id": "06ccf972",
   "metadata": {
    "tabs": [
     "thebe-init"
    ]
   },
   "outputs": [],
   "source": [
    "rainbow = [\n",
    "  \"red\",\n",
    "  \"orange\",\n",
    "  \"yellow\",\n",
    "  \"green\",\n",
    "  \"blue\",\n",
    "  \"indigo\",\n",
    "  \"purple\",\n",
    "]"
   ]
  },
  {
   "cell_type": "markdown",
   "id": "5b96b328",
   "metadata": {},
   "source": [
    "{{ row }}\n",
    "\n",
    "List elements are primarily accessed, changed, or removed using\n",
    "{term}`subscription` via either index numbers or slices.\n",
    "\n",
    "{{ right }}"
   ]
  },
  {
   "cell_type": "code",
   "execution_count": 15,
   "id": "6a7bafb4",
   "metadata": {
    "tabs": [
     "thebe-init"
    ]
   },
   "outputs": [
    {
     "name": "stdout",
     "output_type": "stream",
     "text": [
      "red\n",
      "violet\n",
      "['red', 'orange', 'yellow']\n"
     ]
    }
   ],
   "source": [
    "# changing\n",
    "rainbow[-1] = \"violet\"\n",
    "\n",
    "# removing\n",
    "del rainbow[-2]\n",
    "\n",
    "# accessing\n",
    "print(rainbow[0])\n",
    "print(rainbow[-1])\n",
    "print(rainbow[0:3])"
   ]
  },
  {
   "cell_type": "markdown",
   "id": "1d4e4850",
   "metadata": {},
   "source": [
    "{{ endcols }}\n",
    "\n",
    "### Dictionaries\n",
    "\n",
    "A dictionary is a collection of key value pairs.\n",
    "\n",
    "{{ left }}\n",
    "\n",
    "To create one, enclose comma-separated key value pairs in curly braces (`{` `}`) with\n",
    "a colon (`:`) between each key and value. Or use an empty pair of curly brackets\n",
    "to make an empty dictionary.\n",
    "\n",
    "{{ right }}"
   ]
  },
  {
   "cell_type": "code",
   "execution_count": 16,
   "id": "4a523e2a",
   "metadata": {
    "tags": [
     "thebe-init"
    ]
   },
   "outputs": [],
   "source": [
    "pet = {}\n",
    "\n",
    "garfield = {\"name\": \"garfield\", \"kind\": \"cat\", \"color\": \"orange\"}"
   ]
  },
  {
   "cell_type": "markdown",
   "id": "f5f7d13a",
   "metadata": {},
   "source": [
    "{{ row }}\n",
    "\n",
    "Long dictionaries can be split onto multiple lines after the commas.\n",
    "\n",
    "{{ right }}"
   ]
  },
  {
   "cell_type": "code",
   "execution_count": 17,
   "id": "35aeaec2",
   "metadata": {
    "tags": [
     "thebe-init"
    ]
   },
   "outputs": [],
   "source": [
    "toothless = {\n",
    "  \"name\": \"Toothless\",\n",
    "  \"kind\": \"dragon\",\n",
    "  \"color\": \"black\",\n",
    "  \"pic\": \"/|\\\\{O_O}/|\\\\\",\n",
    "  \"age\": 24,\n",
    "}"
   ]
  },
  {
   "cell_type": "markdown",
   "id": "d228f14e",
   "metadata": {},
   "source": [
    "{{ row }}\n",
    "\n",
    "List elements are primarily accessed, added, changed, or removed using\n",
    "{term}`subscription` via keys.\n",
    "\n",
    "{{ right }}"
   ]
  },
  {
   "cell_type": "code",
   "execution_count": 18,
   "id": "e30cb18e",
   "metadata": {},
   "outputs": [
    {
     "name": "stdout",
     "output_type": "stream",
     "text": [
      "Toothless : /|\\{O_O}/|\\\n",
      "Garfield : (=^o.o^=)__\n"
     ]
    }
   ],
   "source": [
    "# changing\n",
    "garfield[\"name\"] = \"Garfield\"\n",
    "\n",
    "# adding\n",
    "garfield[\"pic\"] = \"(=^o.o^=)__\"\n",
    "\n",
    "# removing\n",
    "del toothless[\"age\"]\n",
    "\n",
    "# accessing\n",
    "print(toothless[\"name\"], \":\", toothless[\"pic\"])\n",
    "print(garfield[\"name\"], \":\", garfield[\"pic\"])"
   ]
  },
  {
   "cell_type": "markdown",
   "id": "4eacba53",
   "metadata": {},
   "source": [
    "{{ endcols }}\n",
    "\n",
    "### Tuples\n",
    "\n",
    "A tuple is an immutable collection of arbitrary objects.\n",
    "\n",
    "{{ left }}\n",
    "\n",
    "To create one, enclose comma-separated values in parenthesis \\\n",
    "(`(` `)`), or an empty pair of parenthesis for an empty tuple.\n",
    "\n",
    "{{ right }}"
   ]
  },
  {
   "cell_type": "code",
   "execution_count": 19,
   "id": "4ea7f598",
   "metadata": {
    "tabs": [
     "thebe-init"
    ]
   },
   "outputs": [
    {
     "data": {
      "text/plain": [
       "(1, 2, 3)"
      ]
     },
     "execution_count": 19,
     "metadata": {},
     "output_type": "execute_result"
    }
   ],
   "source": [
    "()\n",
    "(1, 2, 3)"
   ]
  },
  {
   "cell_type": "markdown",
   "id": "149bf06a",
   "metadata": {},
   "source": [
    "{{ row }}\n",
    "\n",
    "A tuple can also be created using comma separated values without the\n",
    "parenthesis.\n",
    "\n",
    "{{ right }}"
   ]
  },
  {
   "cell_type": "code",
   "execution_count": 20,
   "id": "2b3fe95e",
   "metadata": {
    "tabs": [
     "thebe-init"
    ]
   },
   "outputs": [
    {
     "data": {
      "text/plain": [
       "(1, 2, 3)"
      ]
     },
     "execution_count": 20,
     "metadata": {},
     "output_type": "execute_result"
    }
   ],
   "source": [
    "1, 2, 3"
   ]
  },
  {
   "cell_type": "markdown",
   "id": "6c60fa2a",
   "metadata": {},
   "source": [
    "{{ row }}\n",
    "\n",
    "Though parenthesis are required when splitting tuples onto multiple lines.\n",
    "\n",
    "{{ right }}"
   ]
  },
  {
   "cell_type": "code",
   "execution_count": 21,
   "id": "ae89d0aa",
   "metadata": {},
   "outputs": [],
   "source": [
    "words = (\n",
    "  \"target\",\n",
    "  \"specify\",\n",
    "  \"incline\",\n",
    "  \"college\",\n",
    "  \"forget\",\n",
    "  \"recent\",\n",
    ")"
   ]
  },
  {
   "cell_type": "markdown",
   "id": "1836eac3",
   "metadata": {},
   "source": [
    "{{ row }}\n",
    "\n",
    "Creating a tuple with only one item is a bit tricky, since parenthesis are\n",
    "used for both expression grouping and tuples.\n",
    "\n",
    "Use a trailing comma to create a tuple with one item.\n",
    "\n",
    "{{ right }}"
   ]
  },
  {
   "cell_type": "code",
   "execution_count": 22,
   "id": "96cb7a28",
   "metadata": {},
   "outputs": [
    {
     "data": {
      "text/plain": [
       "1"
      ]
     },
     "execution_count": 22,
     "metadata": {},
     "output_type": "execute_result"
    }
   ],
   "source": [
    "# parens are interpreted as grouping\n",
    "# so this is an int instead of a tuple\n",
    "(1)"
   ]
  },
  {
   "cell_type": "code",
   "execution_count": 23,
   "id": "248be904",
   "metadata": {},
   "outputs": [
    {
     "name": "stdout",
     "output_type": "stream",
     "text": [
      "(1,)\n",
      "(1,)\n"
     ]
    }
   ],
   "source": [
    "# use a trailing comma to create a tuple\n",
    "# with one item\n",
    "nums = (1,)\n",
    "print(nums)\n",
    "\n",
    "# with or without the parenthesis\n",
    "nums = 1,\n",
    "print(nums)"
   ]
  },
  {
   "cell_type": "markdown",
   "id": "e182ab22",
   "metadata": {},
   "source": [
    "{{ row }}\n",
    "\n",
    "Tuple elements are accessed using {term}`subscription` via index numbers or\n",
    "slices.\n",
    "\n",
    "{{ right }}"
   ]
  },
  {
   "cell_type": "code",
   "execution_count": 24,
   "id": "9e1671e5",
   "metadata": {},
   "outputs": [
    {
     "name": "stdout",
     "output_type": "stream",
     "text": [
      "target\n",
      "recent\n",
      "('target', 'specify', 'incline')\n"
     ]
    }
   ],
   "source": [
    "print(words[0])\n",
    "print(words[-1])\n",
    "print(words[0:3])"
   ]
  },
  {
   "cell_type": "markdown",
   "id": "62fe2ba2",
   "metadata": {},
   "source": [
    "{{ endcols }}\n",
    "\n",
    "Tuples are immutable, so items cannot be modified or removed.\n",
    "\n",
    "### Sets\n",
    "\n",
    "A set is an unordered collection with no duplicate elements.\n",
    "\n",
    "{{ left }}\n",
    "\n",
    "To create one, enclose comma-separated values in curly braces \\\n",
    "(`{` `}`).\n",
    "\n",
    "{{ right }}"
   ]
  },
  {
   "cell_type": "code",
   "execution_count": 25,
   "id": "ec237cf2",
   "metadata": {},
   "outputs": [
    {
     "data": {
      "text/plain": [
       "{1, 2, 3}"
      ]
     },
     "execution_count": 25,
     "metadata": {},
     "output_type": "execute_result"
    }
   ],
   "source": [
    "{1, 2, 3, 3, 2, 1}"
   ]
  },
  {
   "cell_type": "markdown",
   "id": "34c335e7",
   "metadata": {},
   "source": [
    "{{ row }}\n",
    "\n",
    "Since curly braces are also used for dictionaries, use `set()` to create an\n",
    "empty set.\n",
    "\n",
    "{{ right }}"
   ]
  },
  {
   "cell_type": "code",
   "execution_count": 26,
   "id": "b01b6db5",
   "metadata": {},
   "outputs": [
    {
     "data": {
      "text/plain": [
       "set()"
      ]
     },
     "execution_count": 26,
     "metadata": {},
     "output_type": "execute_result"
    }
   ],
   "source": [
    "set()"
   ]
  },
  {
   "cell_type": "markdown",
   "id": "82c12385",
   "metadata": {},
   "source": [
    "{{ endcols }}\n",
    "\n",
    "Sets are unordered, so {term}`subscription` is not supported.\n",
    "\n",
    "Flow Control\n",
    "------------\n",
    "\n",
    "### if statements\n",
    "\n",
    "{term}`If statements <if statement>` are used to only execute code under\n",
    "certain conditions.\n",
    "\n",
    "{{ left }}\n",
    "\n",
    "If statements always start with an `if` {term}`clause`.\n",
    "\n",
    "{{ label }}\n",
    "\n",
    "{{ right }}\n",
    "\n",
    "```{include} ../templates/syntax/if.md\n",
    "```\n",
    "\n",
    "```{include} ../templates/desc/if.md\n",
    "```\n",
    "\n",
    "{{ row }}\n",
    "\n",
    "In this example, `\"Would you like a beer?\"` will only be printed if `age >= 21`.\n",
    "\n",
    "{{ right }}\n",
    "\n",
    "```{literalinclude} ../templates/examples/if.py\n",
    ":class: full-width\n",
    ":linenos:\n",
    ":emphasize-lines: \"5-6\"\n",
    "```\n",
    "\n",
    "{{ row }}\n",
    "\n",
    "An if statement may contain zero or more `elif` clauses.\n",
    "\n",
    "{{ label }}\n",
    "\n",
    "{{ right }}\n",
    "\n",
    "```{include} ../templates/syntax/elif.md\n",
    "```\n",
    "\n",
    "```{include} ../templates/desc/elif.md\n",
    "```\n",
    "\n",
    "{{ row }}\n",
    "\n",
    "This example contains two `elif` clauses.\n",
    "\n",
    "{{ right }}\n",
    "\n",
    "```{literalinclude} ../templates/examples/if.py\n",
    ":class: full-width\n",
    ":linenos:\n",
    ":emphasize-lines: \"7-10\"\n",
    "```\n",
    "\n",
    "{{ row }}\n",
    "\n",
    "And an if statement may optionally end with an `else` clause. These body\n",
    "statements will be executed if none of the previous conditions are met.\n",
    "\n",
    "{{ label }}\n",
    "\n",
    "{{ right }}\n",
    "\n",
    "```{include} ../templates/syntax/else.md\n",
    "```\n",
    "\n",
    "```{include} ../templates/desc/else.md\n",
    "```\n",
    "\n",
    "{{ row }}\n",
    "\n",
    "In this example, `\"Hello.\"` is printed if all preceding conditions evaluated to\n",
    "`False`.\n",
    "\n",
    "{{ right }}\n",
    "\n",
    "```{literalinclude} ../templates/examples/if.py\n",
    ":class: full-width\n",
    ":linenos:\n",
    ":emphasize-lines: \"11-12\"\n",
    "```\n",
    "\n",
    "{{ endcols }}\n",
    "\n",
    "\n",
    "### for loops\n",
    "\n",
    "\n",
    "{{ left }}\n",
    "\n",
    "For loops are used to iterate over every element in a sequence and repeat a\n",
    "block of code each time.\n",
    "\n",
    "{{ label }}\n",
    "\n",
    "{{ right }}\n",
    "\n",
    "```{include} ../templates/syntax/for.md\n",
    "```\n",
    "\n",
    "```{include} ../templates/desc/for.md\n",
    "```\n",
    "\n",
    "{{ row }}\n",
    "\n",
    "{{ right }}\n",
    "\n",
    "```{literalinclude} ../templates/examples/for.py\n",
    ":linenos:\n",
    "```\n",
    "\n",
    "{{ endcols }}\n",
    "\n",
    "### while loops\n",
    "\n",
    "{{ left }}\n",
    "\n",
    "A `while` loop is used to repeat a block of code as long as an\n",
    "expression evaluates to `True`.\n",
    "\n",
    "{{ label }}\n",
    "\n",
    "{{ right }}\n",
    "\n",
    "```{include} ../templates/syntax/while.md\n",
    "```\n",
    "\n",
    "```{include} ../templates/desc/while.md\n",
    "```\n",
    "\n",
    "{{ row }}\n",
    "\n",
    "{{ right }}\n",
    "\n",
    "```{literalinclude} ../templates/examples/while.py\n",
    ":linenos:\n",
    "```\n",
    "\n",
    "{{ endcols }}\n",
    "\n",
    "### Functions\n",
    "\n",
    "{{ left }}\n",
    "\n",
    "A {term}`function` is a set of Python instructions or statements that can be\n",
    "executed, or called, later.\n",
    "\n",
    "{{ label }}\n",
    "\n",
    "{{ right }}\n",
    "\n",
    "```{include} ../templates/syntax/def.md\n",
    "```\n",
    "\n",
    "```{include} ../templates/desc/def.md\n",
    "```\n",
    "\n",
    "{{ row }}\n",
    "\n",
    "{{ right }}\n",
    "\n",
    "```{literalinclude} ../templates/examples/def.py\n",
    ":linenos:\n",
    "```\n",
    "\n",
    "{{ endcols }}\n",
    "\n",
    "Reference\n",
    "---------\n",
    "\n",
    "### Glossary\n",
    "\n",
    "```{glossary} syntax\n",
    "\n",
    "chaining\n",
    "method chaining\n",
    "  Stringing together multiple {term}`dot notation` attribute references.\n",
    "\n",
    "comment\n",
    "  Parts in a source-code file which are ignored when the program is run. In\n",
    "  Python add a `#` to the beginning a line to indicate that it is a comment.\n",
    "  You can also comment out only part of a line by adding `#` followed by the\n",
    "  comment text to the end of an expression. It is recommended to follow the `#`\n",
    "  by a single space before the text of the comment.\n",
    "\n",
    "keyword\n",
    "  Reserved words that have special meanings in a programming language so that\n",
    "  they cannot be used as an identifier. Some examples of keywords in Python are\n",
    "  `for`, `if`, and `def`.\n",
    "\n",
    "syntax\n",
    "  A set of rules that determine how a programming language is understood by the\n",
    "  computer. Grammar, but for code.\n",
    "\n",
    "assign\n",
    "  A {term}`statement` that sets the {term}`value` of a variable name.\n",
    "\n",
    "identifier\n",
    "  The name that refers to a some programming element, such as a variable,\n",
    "  class, function or module.\n",
    "\n",
    "variable\n",
    "  A name given to a value.\n",
    "\n",
    "```\n",
    "\n",
    "### See also\n",
    "\n",
    ":::{seealso}\n",
    "\n",
    "* [Learn X in Y Minutes: Python](https://learnxinyminutes.com/docs/python/)\n",
    "* [A Quick Tour of Python Language Syntax](https://jakevdp.github.io/WhirlwindTourOfPython/02-basic-python-syntax.html)\n",
    "* [Python Programming Reference Sheet](https://pythonprinciples.com/reference/)\n",
    "\n",
    ":::\n",
    "\n",
    "\n",
    "----\n",
    "\n",
    "% TODO\n",
    "% [x] docstrings\n",
    "% [x] comments\n",
    "% [x] parens for grouping, order of operation\n",
    "% [ ] line splitting\n",
    "% [x] subscription\n",
    "% [ ] dot notation\n",
    "% [ ] case sensitive\n",
    "% [ ] operators\n",
    "% [ ] delimiters\n",
    "% [x] types\n",
    "%     [x] list\n",
    "%     [.] dict\n",
    "%     [x] str\n",
    "%     [x] None\n",
    "%     [x] set\n",
    "%     [x] tuple\n",
    "% [x] flow control\n",
    "%     [x] if\n",
    "%     [x] while\n",
    "%     [x] for\n",
    "%     [x] functions\n",
    "% [ ] confusing\n",
    "%     [ ] nested function calls\n",
    "%     [ ] subscription and dot notation on values\n",
    "%     [ ] expressions inside functions\n",
    "% [ ] gotchas\n",
    "%     [ ] parenthesis: tuples, precedence, functions\n",
    "%     [ ] sets and dicts use `{}`\n",
    "%     [ ] `x + 1` vs `x = x + 1`\n",
    "%     [ ] `if function`\n",
    "%     [ ] missing commas from list means concatonation\n",
    "%\n",
    "% [x] keywords\n",
    "\n",
    "% https://www.101computing.net/wp/wp-content/uploads/Python-Cheat-Sheet.pdf\n",
    "% https://ddi.ifi.lmu.de/probestudium/2013/ws-i-3d-programmierung/tutorials/python-referenzkarte\n",
    "% https://www.codecademy.com/learn/introduction-to-python-dvp/modules/python-syntax-dvp/cheatsheet\n",
    "% https://pythonprinciples.com/reference/\n",
    "% https://programmingwithmosh.com/python/python-3-cheat-sheet/\n",
    "\n",
    "\n",
    "\n",
    "```{toctree}\n",
    ":hidden:\n",
    ":titlesonly:\n",
    "\n",
    "\n",
    "expressions\n",
    "statements\n",
    "variables\n",
    "```"
   ]
  }
 ],
 "metadata": {
  "jupytext": {
   "formats": "md:myst",
   "text_representation": {
    "extension": ".md",
    "format_name": "myst"
   }
  },
  "kernelspec": {
   "display_name": "Python 3",
   "language": "python",
   "name": "python3"
  },
  "language_info": {
   "codemirror_mode": {
    "name": "ipython",
    "version": 3
   },
   "file_extension": ".py",
   "mimetype": "text/x-python",
   "name": "python",
   "nbconvert_exporter": "python",
   "pygments_lexer": "ipython3",
   "version": "3.8.12"
  },
  "source_map": [
   17,
   50,
   69,
   424,
   444,
   626,
   630,
   640,
   644,
   654,
   659,
   762,
   768,
   777,
   784,
   794,
   805,
   814,
   817,
   826,
   829,
   841,
   847,
   856,
   862,
   877,
   880,
   888,
   899,
   908,
   921,
   937,
   943,
   951,
   961,
   970,
   984,
   999,
   1003,
   1012,
   1015,
   1023,
   1032,
   1043,
   1049,
   1058,
   1067,
   1072,
   1089,
   1091,
   1100,
   1102
  ],
  "substitutions": {
   "label": "<div class=\"text-right\">Syntax:</div>",
   "left": "{{ leftcol | replace(\"col\", \"col-5\") }}",
   "right": "{{ rightcol | replace(\"col\", \"col-7\") }}",
   "row": "{{ newrow | replace(\"col\", \"col-5\") }}"
  }
 },
 "nbformat": 4,
 "nbformat_minor": 5
}