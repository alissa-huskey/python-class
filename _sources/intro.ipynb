{
 "cells": [
  {
   "cell_type": "markdown",
   "id": "fbef5af9",
   "metadata": {},
   "source": [
    "Python Class\n",
    "============\n",
    "\n",
    "Welcome to the new and improved Python class.\n",
    "\n",
    ":::{tip}\n",
    "\n",
    "* Use the left sidebar to navigate lessons, guides and all of the other class content.\n",
    "\n",
    "* ![collapse][] This icon collapses the left sidebar.\n",
    "\n",
    "* ![fullscreen][] This icon switches to fullscreen mode.\n",
    "\n",
    "* ![launch][] Look for this icon at the top of the page to launch interactive mode.\n",
    "\n",
    ":::\n",
    "\n",
    "Contents\n",
    "========\n",
    "\n",
    "```{tableofcontents}\n",
    "```\n",
    "\n",
    "[collapse]: assets/collapse-icon.png\n",
    "[fullscreen]: assets/fullscreen-icon.png\n",
    "[launch]: assets/rocket-icon.png"
   ]
  }
 ],
 "metadata": {
  "jupytext": {
   "formats": "md:myst",
   "text_representation": {
    "extension": ".md",
    "format_name": "myst"
   }
  },
  "kernelspec": {
   "display_name": "Python 3",
   "language": "python",
   "name": "python3"
  },
  "language_info": {
   "codemirror_mode": {
    "name": "ipython",
    "version": 3
   },
   "file_extension": ".py",
   "mimetype": "text/x-python",
   "name": "python",
   "nbconvert_exporter": "python",
   "pygments_lexer": "ipython3",
   "version": "3.8.16"
  },
  "source_map": [
   11
  ]
 },
 "nbformat": 4,
 "nbformat_minor": 5
}