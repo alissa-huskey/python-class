{
 "cells": [
  {
   "cell_type": "markdown",
   "id": "c4e895f4",
   "metadata": {},
   "source": [
    "Python Shell\n",
    "============\n",
    "\n",
    "The Python Shell is a way to play around with Python code without needing to\n",
    "save a new file.  It can be useful when you're trying to figure things out.\n",
    "Think of it like a chalkboard -- what you type will only be saved as long as\n",
    "the shell is open.\n",
    "\n",
    "You can access it from a few places but here I want to show you how to use it\n",
    "from repl.it.\n",
    "\n",
    "```{contents} Table of Contents\n",
    ":backlinks: top\n",
    ":local:\n",
    "```\n",
    "\n",
    "Part 1. Open the Python Shell\n",
    "-----------------------------\n",
    "\n",
    "::::::{margin}\n",
    "\n",
    ":::{admonition} Need help?\n",
    ":class: hint\n",
    "\n",
    "For help getting to the command line see [Starting a\n",
    "Terminal](../tools/terminal.html#starting-a-terminal) in the\n",
    "[Terminal](terminal.md) tool guide.\n",
    "\n",
    ":::\n",
    "\n",
    "::::::\n",
    "\n",
    "At the {term}`command line` type `python` and hit enter. The prompt will change\n",
    "to three `>>>`.\n",
    "\n",
    "That means you're in the Python Shell.\n",
    "\n",
    "```{code-block} python\n",
    ":caption: Python shell\n",
    "Python 2.7.17 (default, Apr 15 2020, 17:20:14)\n",
    "[GCC 7.5.0] on linux2\n",
    "Type \"help\", \"copyright\", \"credits\" or \"license\" for more information.\n",
    ">>>\n",
    "```\n",
    "\n",
    "In these lessons we show Python shell examples in one of the following styles:\n",
    "\n",
    "{{ leftcol | replace(\"col\", \"col align-top\") }}\n",
    "\n",
    "```{code-block} python\n",
    ":caption: Python shell\n",
    ">>> print(\"like this...\")\n",
    "like this...\n",
    "```\n",
    "\n",
    "The caption `Python Shell` tells you that this is executed in the Python\n",
    "Shell. The `>>>` are input lines, and the rest are output.\n",
    "\n",
    "This should look very similar to what you see in your own Python shell.\n",
    "\n",
    "{{ rightcol }}"
   ]
  },
  {
   "cell_type": "code",
   "execution_count": 1,
   "id": "0f6f92d9",
   "metadata": {},
   "outputs": [
    {
     "name": "stdout",
     "output_type": "stream",
     "text": [
      "...or like that\n"
     ]
    }
   ],
   "source": [
    "print(\"...or like that\")"
   ]
  },
  {
   "cell_type": "markdown",
   "id": "0118096c",
   "metadata": {},
   "source": [
    "The green border tells you that this code that you can edit live on this site\n",
    "(by clicking the ![launch][] icon at the top of the page), or type into your\n",
    "own Python shell.\n",
    "\n",
    "The box labeled `In` is input code and the box labled `Out` is output.\n",
    "\n",
    "[launch]: ../assets/rocket-icon.png\n",
    "\n",
    "{{ endcols }}\n",
    "\n",
    "\n",
    "Part 2. Simple expressions\n",
    "--------------------------\n",
    "\n",
    "Here you can type simple expressions to see what they will do. Here are a few things to try."
   ]
  },
  {
   "cell_type": "code",
   "execution_count": 2,
   "id": "78ee0216",
   "metadata": {},
   "outputs": [
    {
     "data": {
      "text/plain": [
       "10220"
      ]
     },
     "execution_count": 2,
     "metadata": {},
     "output_type": "execute_result"
    }
   ],
   "source": [
    "age = 28\n",
    "age * 365"
   ]
  },
  {
   "cell_type": "code",
   "execution_count": 3,
   "id": "9f258282",
   "metadata": {},
   "outputs": [
    {
     "name": "stdout",
     "output_type": "stream",
     "text": [
      "Hello Jayson. What a nice hat you are wearing!\n"
     ]
    }
   ],
   "source": [
    "name = \"Jayson\"\n",
    "clothing = \"hat\"\n",
    "print(\"Hello \" + name + \". What a nice \" + clothing + \" you are wearing!\")"
   ]
  },
  {
   "cell_type": "markdown",
   "id": "636f63f1",
   "metadata": {},
   "source": [
    "It can be helpful to test out {term}`conditionals` that you would want to put in an {term}`if statement`."
   ]
  },
  {
   "cell_type": "code",
   "execution_count": 4,
   "id": "93a52677",
   "metadata": {},
   "outputs": [
    {
     "data": {
      "text/plain": [
       "True"
      ]
     },
     "execution_count": 4,
     "metadata": {},
     "output_type": "execute_result"
    }
   ],
   "source": [
    "False == 0"
   ]
  },
  {
   "cell_type": "code",
   "execution_count": 5,
   "id": "1334688d",
   "metadata": {},
   "outputs": [
    {
     "data": {
      "text/plain": [
       "True"
      ]
     },
     "execution_count": 5,
     "metadata": {},
     "output_type": "execute_result"
    }
   ],
   "source": [
    "2.0 == 2"
   ]
  },
  {
   "cell_type": "code",
   "execution_count": 6,
   "id": "ac16ed34",
   "metadata": {},
   "outputs": [
    {
     "data": {
      "text/plain": [
       "True"
      ]
     },
     "execution_count": 6,
     "metadata": {},
     "output_type": "execute_result"
    }
   ],
   "source": [
    "2 + 2 == 4"
   ]
  },
  {
   "cell_type": "code",
   "execution_count": 7,
   "id": "0cbaf142",
   "metadata": {},
   "outputs": [
    {
     "data": {
      "text/plain": [
       "True"
      ]
     },
     "execution_count": 7,
     "metadata": {},
     "output_type": "execute_result"
    }
   ],
   "source": [
    "2 + 2 + 2 == 2 * 3"
   ]
  },
  {
   "cell_type": "code",
   "execution_count": 8,
   "id": "0d5f4de7",
   "metadata": {},
   "outputs": [
    {
     "data": {
      "text/plain": [
       "True"
      ]
     },
     "execution_count": 8,
     "metadata": {},
     "output_type": "execute_result"
    }
   ],
   "source": [
    "min_age = 21\n",
    "age = 28\n",
    "age >= min_age"
   ]
  },
  {
   "cell_type": "markdown",
   "id": "4e2263f6",
   "metadata": {},
   "source": [
    "Type some expressions of your own.\n",
    "\n",
    "\n",
    "Part 3. The semicolon shorthand\n",
    "-------------------------------\n",
    "\n",
    "You can put two lines of code on the same line putting a `;` where the line\n",
    "break would be. This is not recommended in your scripts but it can be a useful\n",
    "shorthand in the Python Shell.\n",
    "\n",
    "For example, we could change the above to:"
   ]
  },
  {
   "cell_type": "code",
   "execution_count": 9,
   "id": "0457849c",
   "metadata": {},
   "outputs": [
    {
     "name": "stdout",
     "output_type": "stream",
     "text": [
      "Hello Jayson. What a nice hat you are wearing!\n"
     ]
    }
   ],
   "source": [
    "name = \"Jayson\" ; clothing = \"hat\"\n",
    "print(\"Hello \" + name + \". What a nice \" + clothing + \" you are wearing!\")"
   ]
  },
  {
   "cell_type": "markdown",
   "id": "65fc1029",
   "metadata": {},
   "source": [
    "Part 4. Use Up-arrow and Down-arrow to repeat history\n",
    "-----------------------------------------------------\n",
    "\n",
    "You can use the up arrow to fill in previously typed lines in your history.\n",
    "Imagine we made a mistake.\n",
    "\n",
    "```{code-block} python\n",
    ":caption: Python shell\n",
    ">>> print(\"Hello world)\n",
    "  File \"<stdin>\", line 1\n",
    "    print(\"Hello world)\n",
    "                      ^\n",
    "SyntaxError: EOL while scanning string literal\n",
    "```\n",
    "\n",
    "We can hit the up-arrow once to bring the last line back, then fix the misake\n",
    "and press enter.\n",
    "\n",
    "```{code-block} python\n",
    ":caption: Python shell\n",
    ">>> print(\"Hello world\")\n",
    "Hello world\n",
    "```\n",
    "\n",
    "Pressing the up-arrow more than once will bring back lines from further back in\n",
    "the history. The down arrow will bring us to more recent lines.\n",
    "\n",
    "For example, we could use the up-arrow to bring back the line where we define\n",
    "the `name` and `clothing` variables and change their values. After pressing\n",
    "enter, we could use the up-arrow again to bring back the `print` line to repeat\n",
    "it with the new values.\n",
    "\n",
    "```{code-block} python\n",
    ":caption: Python shell\n",
    ">>> name = \"Cody\" ; clothing = \"shirt\"\n",
    ">>> print(\"Hello \" + name + \". What a nice \" + clothing + \" you are wearing!\")\n",
    "Hello Cody. What a nice shirt you are wearing!\n",
    ">>> name = \"Sean\" ; clothing = \"face\"\n",
    ">>> print(\"Hello \" + name + \". What a nice \" + clothing + \" you are wearing!\")\n",
    "Hello Sean. What a nice face you are wearing!\n",
    "```\n",
    "\n",
    "\n",
    "Part 5. Tab completion\n",
    "----------------------\n",
    "\n",
    "To save typing time the Python Shell uses a nifty trick called\n",
    "{term}`tab completion`. For identifiers that are either built-in or ones that we\n",
    "define, it we can type out just the first few characters then hit the Tab key,\n",
    "and it will attempt to guess the rest.\n",
    "\n",
    "Try typing `pri` and then hit the tab key.\n",
    "\n",
    "```{code-block} python\n",
    ":caption: Python shell\n",
    ">>> print(\n",
    "```\n",
    "\n",
    "If there are multiple possible identifiers that could match those characters,\n",
    "tab-completion will fill in up to the place where they are different, then show\n",
    "a list of the matches. For example, if we had `favorite_color` and\n",
    "`favorite_season` defined, and then we typed `fav` followed by the tab key we\n",
    "would see:\n",
    "\n",
    "```{code-block} python\n",
    ":caption: Python shell\n",
    ">>> favorite_color = \"black\"\n",
    ">>> favorite_season = \"fall\"\n",
    ">>> fav\n",
    "favorite_color   favorite_season\n",
    ">>> favorite_\n",
    "```\n",
    "\n",
    "We could then type just the letter `c` then tab to have it fill in\n",
    "`favorite_color`.\n",
    "\n",
    "\n",
    "Part 6. Inspect thyself\n",
    "-----------------------\n",
    "\n",
    "Python has some helper functions that you can use to figure out more\n",
    "information about the things you have defined.\n",
    "\n",
    "The `type()` function will tell you what type a variable is."
   ]
  },
  {
   "cell_type": "code",
   "execution_count": 10,
   "id": "ce0c06c4",
   "metadata": {
    "caption": "Python shell"
   },
   "outputs": [
    {
     "data": {
      "text/plain": [
       "int"
      ]
     },
     "execution_count": 10,
     "metadata": {},
     "output_type": "execute_result"
    }
   ],
   "source": [
    "five = 5\n",
    "type(five)"
   ]
  },
  {
   "cell_type": "code",
   "execution_count": 11,
   "id": "fa286b33",
   "metadata": {},
   "outputs": [
    {
     "data": {
      "text/plain": [
       "float"
      ]
     },
     "execution_count": 11,
     "metadata": {},
     "output_type": "execute_result"
    }
   ],
   "source": [
    "five = 5.0\n",
    "type(five)"
   ]
  },
  {
   "cell_type": "code",
   "execution_count": 12,
   "id": "79370664",
   "metadata": {},
   "outputs": [
    {
     "data": {
      "text/plain": [
       "str"
      ]
     },
     "execution_count": 12,
     "metadata": {},
     "output_type": "execute_result"
    }
   ],
   "source": [
    "five = \"5\"\n",
    "type(five)"
   ]
  },
  {
   "cell_type": "code",
   "execution_count": 13,
   "id": "e13d4aba",
   "metadata": {},
   "outputs": [
    {
     "data": {
      "text/plain": [
       "builtin_function_or_method"
      ]
     },
     "execution_count": 13,
     "metadata": {},
     "output_type": "execute_result"
    }
   ],
   "source": [
    "type(print)"
   ]
  },
  {
   "cell_type": "markdown",
   "id": "0849ead1",
   "metadata": {},
   "source": [
    "The `callable()` function will tell you if an object is a function or not."
   ]
  },
  {
   "cell_type": "code",
   "execution_count": 14,
   "id": "b649e56b",
   "metadata": {
    "caption": "Python shell"
   },
   "outputs": [
    {
     "data": {
      "text/plain": [
       "False"
      ]
     },
     "execution_count": 14,
     "metadata": {},
     "output_type": "execute_result"
    }
   ],
   "source": [
    "callable(five)"
   ]
  },
  {
   "cell_type": "code",
   "execution_count": 15,
   "id": "8902db8f",
   "metadata": {},
   "outputs": [
    {
     "data": {
      "text/plain": [
       "True"
      ]
     },
     "execution_count": 15,
     "metadata": {},
     "output_type": "execute_result"
    }
   ],
   "source": [
    "callable(print)"
   ]
  },
  {
   "cell_type": "markdown",
   "id": "a7e09b64",
   "metadata": {},
   "source": [
    "Part 7. Get help\n",
    "----------------\n",
    "\n",
    "The Python Shell includes a handy `help()` function that you can use to get\n",
    "more information about all sorts of things.\n",
    "\n",
    "You can pass it a string with the name of a funciton you would like more information about."
   ]
  },
  {
   "cell_type": "code",
   "execution_count": 16,
   "id": "f745226c",
   "metadata": {
    "tags": [
     "output_scroll"
    ]
   },
   "outputs": [
    {
     "name": "stdout",
     "output_type": "stream",
     "text": [
      "Help on built-in function print in module builtins:\n",
      "\n",
      "print(...)\n",
      "    print(value, ..., sep=' ', end='\\n', file=sys.stdout, flush=False)\n",
      "    \n",
      "    Prints the values to a stream, or to sys.stdout by default.\n",
      "    Optional keyword arguments:\n",
      "    file:  a file-like object (stream); defaults to the current sys.stdout.\n",
      "    sep:   string inserted between values, default a space.\n",
      "    end:   string appended after the last value, default a newline.\n",
      "    flush: whether to forcibly flush the stream.\n",
      "\n"
     ]
    }
   ],
   "source": [
    "help(\"print\")"
   ]
  },
  {
   "cell_type": "code",
   "execution_count": 17,
   "id": "4fa6118f",
   "metadata": {
    "tags": [
     "output_scroll"
    ]
   },
   "outputs": [
    {
     "name": "stdout",
     "output_type": "stream",
     "text": [
      "Help on method raw_input in module ipykernel.kernelbase:\n",
      "\n",
      "input = raw_input(prompt='') method of ipykernel.ipkernel.IPythonKernel instance\n",
      "    Forward raw_input to frontends\n",
      "    \n",
      "    Raises\n",
      "    ------\n",
      "    StdinNotImplementedError if active frontend doesn't support stdin.\n",
      "\n"
     ]
    }
   ],
   "source": [
    "help(\"input\")"
   ]
  },
  {
   "cell_type": "code",
   "execution_count": 18,
   "id": "0d80022c",
   "metadata": {
    "tags": [
     "output_scroll"
    ]
   },
   "outputs": [
    {
     "name": "stdout",
     "output_type": "stream",
     "text": [
      "The \"if\" statement\n",
      "******************\n",
      "\n",
      "The \"if\" statement is used for conditional execution:\n",
      "\n",
      "   if_stmt ::= \"if\" assignment_expression \":\" suite\n",
      "               (\"elif\" assignment_expression \":\" suite)*\n",
      "               [\"else\" \":\" suite]\n",
      "\n",
      "It selects exactly one of the suites by evaluating the expressions one\n",
      "by one until one is found to be true (see section Boolean operations\n",
      "for the definition of true and false); then that suite is executed\n",
      "(and no other part of the \"if\" statement is executed or evaluated).\n",
      "If all expressions are false, the suite of the \"else\" clause, if\n",
      "present, is executed.\n",
      "\n",
      "Related help topics: TRUTHVALUE\n",
      "\n"
     ]
    }
   ],
   "source": [
    "help(\"if\")"
   ]
  },
  {
   "cell_type": "markdown",
   "id": "279ce323",
   "metadata": {},
   "source": [
    "You can also call `help()` without arguments to get Python's Interactive Help.\n",
    "This will change the prompt to `help>`.\n",
    "\n",
    "```{code-block} python\n",
    ":caption: Python shell\n",
    ">>> help()\n",
    "\n",
    "Welcome to Python 3.8's help utility!\n",
    "\n",
    "...\n",
    "help>\n",
    "```\n",
    "\n",
    "You can type anything you would have passed as an argument to the `help()`\n",
    "function. For example, typing `print` at the `help>` prompt is the same as\n",
    "typing `help(\"print\")` at the Python prompt.\n",
    "\n",
    "\n",
    "```{code-block} python\n",
    ":caption: Python shell\n",
    "help> print\n",
    "Help on built-in function print in module builtins:\n",
    "\n",
    "print(...)\n",
    "    print(value, ..., sep=' ', end='\\n', file=sys.stdout, flush=False)\n",
    "\n",
    "    Prints the values to a stream, or to sys.stdout by default.\n",
    "...\n",
    "```\n",
    "\n",
    "\n",
    "Additionally you can type:\n",
    "\n",
    "- `topics` - A list of general topics that you can get more information about,\n",
    "  where each topic is in all caps. For example `STRINGS`, `FUNCTIONS`, and\n",
    "  `CALLS`.\n",
    "- `keywords` - A list of reserved words that have special meanings so that they\n",
    "  cannot be used as variable or function names. Some examples of keywords in\n",
    "  python are `for`, `if`, and `def`.\n",
    "- `symbols` - A list of punctuation symbols that have special meanings. For\n",
    "  example `=`, `,`, and `+`.\n",
    "- `modules` - (NOTE: Do not run this in repl.it, as it's buggy and might mess up your\n",
    "  repl.) A list of available modules.\n",
    "\n",
    "\n",
    "```{code-block} python\n",
    ":caption: Python shell\n",
    "help> keywords\n",
    "\n",
    "Here is a list of the Python keywords.  Enter any keyword to get more help.\n",
    "\n",
    "False               class               from                or\n",
    "None                continue            global              pass\n",
    "True                def                 if                  raise\n",
    "...\n",
    "```\n",
    "\n",
    "To get back to the normal Python shell type `quit()` or press `Ctrl-D`.\n",
    "\n",
    "Glossary\n",
    "--------\n",
    "\n",
    "```{glossary} python-shell\n",
    "\n",
    "prompt\n",
    "  Characters displayed by the interpreter to indicate that it is ready to take\n",
    "  input from the user.\n",
    "\n",
    "Python shell\n",
    "Python interpreter\n",
    "  a {term}`REPL` for Python code\n",
    "\n",
    "  an interface where you can type in python code, and it will run it and print\n",
    "  out the results\n",
    "\n",
    "read-evaluate-print-loop\n",
    "REPL\n",
    "  An interactive tool or environment that takes code input,\n",
    "  {term}`evaluates` or {term}`executes` it, and displays the\n",
    "  output or resulting value to the user. {term}`shells` are a subset of\n",
    "  REPLs. More advanced REPL tools and systems are comprised of an input or\n",
    "  editor pane, and an output or results pane. Many online REPLs exist such as\n",
    "  play.golang.org for Go, pythonfiddle.com for Python, try.ruby-lang.org for\n",
    "  Ruby and repl.it.\n",
    "\n",
    "tab completion\n",
    "  A feature in many REPLs where pressing {kbd}`TAB` after a few letters of a\n",
    "  name (like a command or variable) will attempt to guess the rest.\n",
    "```"
   ]
  }
 ],
 "metadata": {
  "jupytext": {
   "formats": "md:myst",
   "text_representation": {
    "extension": ".md",
    "format_name": "myst"
   }
  },
  "kernelspec": {
   "display_name": "Python 3",
   "language": "python",
   "name": "python3"
  },
  "language_info": {
   "codemirror_mode": {
    "name": "ipython",
    "version": 3
   },
   "file_extension": ".py",
   "mimetype": "text/x-python",
   "name": "python",
   "nbconvert_exporter": "python",
   "pygments_lexer": "ipython3",
   "version": "3.8.12"
  },
  "source_map": [
   11,
   74,
   76,
   95,
   100,
   104,
   108,
   112,
   116,
   120,
   124,
   128,
   142,
   145,
   233,
   239,
   244,
   249,
   251,
   255,
   260,
   262,
   272,
   278,
   284,
   288
  ]
 },
 "nbformat": 4,
 "nbformat_minor": 5
}