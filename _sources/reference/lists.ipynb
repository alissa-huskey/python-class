{
 "cells": [
  {
   "cell_type": "markdown",
   "id": "c2ecb615",
   "metadata": {},
   "source": [
    "Lists\n",
    "=====\n",
    "\n",
    "This page contains brief code snippets for `list` related operations. It is\n",
    "intended as a resource for quickly looking up the syntax for a particular task,\n",
    "most likely to jog a students memory.\n",
    "\n",
    "While you may well learn something here, it is not written as a lesson.\n",
    "\n",
    ":::{tip}\n",
    "\n",
    "You can modify and execute any of the code on this page.\n",
    "\n",
    "1. ![launch][] just click this icon at the top of the page\n",
    "1. ![live][] followed by this one\n",
    "\n",
    ":::\n",
    "\n",
    "[launch]: ../assets/rocket-icon.png\n",
    "[live]: ../assets/live-icon.png\n",
    "\n",
    "```{include} ../toc.md\n",
    "```\n",
    "\n",
    "Creating\n",
    "--------\n",
    "\n",
    "### Bracket syntax\n",
    "\n",
    "Create an empty list using `[` `]`:"
   ]
  },
  {
   "cell_type": "code",
   "execution_count": 1,
   "id": "4cffa873",
   "metadata": {},
   "outputs": [
    {
     "name": "stdout",
     "output_type": "stream",
     "text": [
      "[]\n"
     ]
    }
   ],
   "source": [
    "a_list  = []\n",
    "print(a_list)"
   ]
  },
  {
   "cell_type": "markdown",
   "id": "c2e44492",
   "metadata": {},
   "source": [
    "Create a list of `3` `None` elements:"
   ]
  },
  {
   "cell_type": "code",
   "execution_count": 2,
   "id": "c1c313d8",
   "metadata": {},
   "outputs": [
    {
     "name": "stdout",
     "output_type": "stream",
     "text": [
      "[None, None, None]\n"
     ]
    }
   ],
   "source": [
    "b_list  = [None] * 3\n",
    "print(b_list)"
   ]
  },
  {
   "cell_type": "markdown",
   "id": "47177071",
   "metadata": {},
   "source": [
    "Create a list with initial elements:"
   ]
  },
  {
   "cell_type": "code",
   "execution_count": 3,
   "id": "c27769ad",
   "metadata": {
    "tags": [
     "thebe-init"
    ]
   },
   "outputs": [
    {
     "name": "stdout",
     "output_type": "stream",
     "text": [
      "[0, 1, 2, 3, 4, 5]\n"
     ]
    }
   ],
   "source": [
    "numbers = [0, 1, 2, 3, 4, 5]\n",
    "print(numbers)"
   ]
  },
  {
   "cell_type": "markdown",
   "id": "9e8c2ebf",
   "metadata": {},
   "source": [
    "### list constructor\n",
    "\n",
    "Create an empty list using the `list()` constructor:"
   ]
  },
  {
   "cell_type": "code",
   "execution_count": 4,
   "id": "1001ba53",
   "metadata": {},
   "outputs": [
    {
     "name": "stdout",
     "output_type": "stream",
     "text": [
      "[]\n"
     ]
    }
   ],
   "source": [
    "c_list  = list()\n",
    "print(c_list)"
   ]
  },
  {
   "cell_type": "markdown",
   "id": "2f75637c",
   "metadata": {},
   "source": [
    "Create a list from another iterable:"
   ]
  },
  {
   "cell_type": "code",
   "execution_count": 5,
   "id": "fa56cbaf",
   "metadata": {
    "tags": [
     "thebe-init"
    ]
   },
   "outputs": [
    {
     "name": "stdout",
     "output_type": "stream",
     "text": [
      "['a', 'b', 'c', 'd', 'e', 'f', 'g', 'h', 'i', 'j', 'k', 'l', 'm', 'n', 'o', 'p', 'q', 'r', 's', 't', 'u', 'v', 'w', 'x', 'y', 'z']\n"
     ]
    }
   ],
   "source": [
    "letters = list(\"abcdefghijklmnopqrstuvwxyz\")\n",
    "print(letters)"
   ]
  },
  {
   "cell_type": "markdown",
   "id": "0d1df084",
   "metadata": {},
   "source": [
    "Selecting Elements\n",
    "------------------\n",
    "\n",
    "Elements are accessed via {term}`subscription` with the syntax: {samp}`{COLLECTION}[{SELECTOR}]`.\n",
    "\n",
    "The `SELECTOR` can be:\n",
    "\n",
    "* {term}`index number`\n",
    "* {term}`negative index number`\n",
    "* {term}`slice`\n",
    "\n",
    "### Via index number\n",
    "\n",
    "First element:"
   ]
  },
  {
   "cell_type": "code",
   "execution_count": 6,
   "id": "3cda0246",
   "metadata": {},
   "outputs": [
    {
     "name": "stdout",
     "output_type": "stream",
     "text": [
      "a\n"
     ]
    }
   ],
   "source": [
    "print(letters[0])"
   ]
  },
  {
   "cell_type": "markdown",
   "id": "44b15266",
   "metadata": {},
   "source": [
    "Second element:"
   ]
  },
  {
   "cell_type": "code",
   "execution_count": 7,
   "id": "c6f8385f",
   "metadata": {},
   "outputs": [
    {
     "name": "stdout",
     "output_type": "stream",
     "text": [
      "b\n"
     ]
    }
   ],
   "source": [
    "print(letters[1])"
   ]
  },
  {
   "cell_type": "markdown",
   "id": "a6b58164",
   "metadata": {},
   "source": [
    "Last element:"
   ]
  },
  {
   "cell_type": "code",
   "execution_count": 8,
   "id": "a7ed19db",
   "metadata": {},
   "outputs": [
    {
     "name": "stdout",
     "output_type": "stream",
     "text": [
      "z\n"
     ]
    }
   ],
   "source": [
    "print(letters[-1])"
   ]
  },
  {
   "cell_type": "markdown",
   "id": "bb1edb83",
   "metadata": {},
   "source": [
    "### Via slice\n",
    "\n",
    "Or the `SELECTOR` can be a {term}`slice`.\n",
    "\n",
    "The syntax is either of the following.\n",
    "\n",
    "* {samp}`{COLLECTION}[{START}:{STOP}]`\n",
    "* {samp}`{COLLECTION}[{START}:{STOP}:{STEP}]`\n",
    "\n",
    "From `numbers[1]` to before `numbers[3]`:"
   ]
  },
  {
   "cell_type": "code",
   "execution_count": 9,
   "id": "0d8477df",
   "metadata": {},
   "outputs": [
    {
     "name": "stdout",
     "output_type": "stream",
     "text": [
      "[1, 2]\n"
     ]
    }
   ],
   "source": [
    "print(numbers[1:3])"
   ]
  },
  {
   "cell_type": "markdown",
   "id": "b3fa7d19",
   "metadata": {},
   "source": [
    "All but the first element:"
   ]
  },
  {
   "cell_type": "code",
   "execution_count": 10,
   "id": "0c60f21f",
   "metadata": {},
   "outputs": [
    {
     "name": "stdout",
     "output_type": "stream",
     "text": [
      "[1, 2, 3, 4, 5]\n"
     ]
    }
   ],
   "source": [
    "print(numbers[1:])"
   ]
  },
  {
   "cell_type": "markdown",
   "id": "83606221",
   "metadata": {},
   "source": [
    "All but the last element:"
   ]
  },
  {
   "cell_type": "code",
   "execution_count": 11,
   "id": "d774dcec",
   "metadata": {},
   "outputs": [
    {
     "name": "stdout",
     "output_type": "stream",
     "text": [
      "[0, 1, 2, 3, 4]\n"
     ]
    }
   ],
   "source": [
    "print(numbers[:-1])"
   ]
  },
  {
   "cell_type": "markdown",
   "id": "ec3c4700",
   "metadata": {},
   "source": [
    "Every other element from `numbers[3]` to before `numbers[15]`:"
   ]
  },
  {
   "cell_type": "code",
   "execution_count": 12,
   "id": "4511660c",
   "metadata": {},
   "outputs": [
    {
     "name": "stdout",
     "output_type": "stream",
     "text": [
      "[3, 5]\n"
     ]
    }
   ],
   "source": [
    "print(numbers[3:15:2])"
   ]
  },
  {
   "cell_type": "markdown",
   "id": "b41a8ca2",
   "metadata": {},
   "source": [
    "Elements in reversed order with a negative `STEP` number and a `START` that is\n",
    "greater than `STOP`."
   ]
  },
  {
   "cell_type": "code",
   "execution_count": 13,
   "id": "6e810d6d",
   "metadata": {},
   "outputs": [
    {
     "name": "stdout",
     "output_type": "stream",
     "text": [
      "[2, 1, 0]\n",
      "[5, 4]\n"
     ]
    }
   ],
   "source": [
    "print(numbers[2::-1])\n",
    "print(numbers[-1:-3:-1])"
   ]
  },
  {
   "cell_type": "markdown",
   "id": "9b9a726e",
   "metadata": {},
   "source": [
    "Entire list:"
   ]
  },
  {
   "cell_type": "code",
   "execution_count": 14,
   "id": "95edc727",
   "metadata": {},
   "outputs": [
    {
     "name": "stdout",
     "output_type": "stream",
     "text": [
      "[0, 1, 2, 3, 4, 5]\n"
     ]
    }
   ],
   "source": [
    "print(numbers[:])"
   ]
  },
  {
   "cell_type": "markdown",
   "id": "d4d6c8ca",
   "metadata": {},
   "source": [
    "### Exceptions\n",
    "\n",
    "An `IndexError` exception will be raised for any selectors using using\n",
    "non-existent index numbers."
   ]
  },
  {
   "cell_type": "code",
   "execution_count": 15,
   "id": "934fcb8d",
   "metadata": {
    "tags": [
     "raises-exception"
    ]
   },
   "outputs": [
    {
     "ename": "IndexError",
     "evalue": "list index out of range",
     "output_type": "error",
     "traceback": [
      "\u001b[0;31m---------------------------------------------------------------------------\u001b[0m",
      "\u001b[0;31mIndexError\u001b[0m                                Traceback (most recent call last)",
      "Cell \u001b[0;32mIn[15], line 1\u001b[0m\n\u001b[0;32m----> 1\u001b[0m value \u001b[38;5;241m=\u001b[39m \u001b[43mnumbers\u001b[49m\u001b[43m[\u001b[49m\u001b[38;5;241;43m10\u001b[39;49m\u001b[43m]\u001b[49m\n\u001b[1;32m      2\u001b[0m \u001b[38;5;28mprint\u001b[39m(value)\n",
      "\u001b[0;31mIndexError\u001b[0m: list index out of range"
     ]
    }
   ],
   "source": [
    "value = numbers[10]\n",
    "print(value)"
   ]
  },
  {
   "cell_type": "code",
   "execution_count": 16,
   "id": "5615d1e1",
   "metadata": {
    "tags": [
     "raises-exception"
    ]
   },
   "outputs": [
    {
     "ename": "IndexError",
     "evalue": "list index out of range",
     "output_type": "error",
     "traceback": [
      "\u001b[0;31m---------------------------------------------------------------------------\u001b[0m",
      "\u001b[0;31mIndexError\u001b[0m                                Traceback (most recent call last)",
      "Cell \u001b[0;32mIn[16], line 1\u001b[0m\n\u001b[0;32m----> 1\u001b[0m value \u001b[38;5;241m=\u001b[39m \u001b[43mnumbers\u001b[49m\u001b[43m[\u001b[49m\u001b[38;5;241;43m-\u001b[39;49m\u001b[38;5;241;43m10\u001b[39;49m\u001b[43m]\u001b[49m\n\u001b[1;32m      2\u001b[0m \u001b[38;5;28mprint\u001b[39m(value)\n",
      "\u001b[0;31mIndexError\u001b[0m: list index out of range"
     ]
    }
   ],
   "source": [
    "value = numbers[-10]\n",
    "print(value)"
   ]
  },
  {
   "cell_type": "markdown",
   "id": "ef7d2dce",
   "metadata": {},
   "source": [
    "Suppress errors with a try except block:"
   ]
  },
  {
   "cell_type": "code",
   "execution_count": 17,
   "id": "73667c55",
   "metadata": {},
   "outputs": [
    {
     "name": "stdout",
     "output_type": "stream",
     "text": [
      "None\n"
     ]
    }
   ],
   "source": [
    "try:\n",
    "  value = numbers[10]\n",
    "except IndexError:\n",
    "  value = None\n",
    "\n",
    "print(value)"
   ]
  },
  {
   "cell_type": "markdown",
   "id": "b7bacac2",
   "metadata": {},
   "source": [
    "Modification\n",
    "------------\n",
    "\n",
    "### Change\n",
    "\n",
    "#### By index"
   ]
  },
  {
   "cell_type": "code",
   "execution_count": 18,
   "id": "f0a6c03a",
   "metadata": {},
   "outputs": [
    {
     "name": "stdout",
     "output_type": "stream",
     "text": [
      "[0, 100, 2, 3, 4, 5]\n"
     ]
    }
   ],
   "source": [
    "numbers[1] = 100\n",
    "print(numbers)"
   ]
  },
  {
   "cell_type": "markdown",
   "id": "00edbdb7",
   "metadata": {},
   "source": [
    "#### By slice"
   ]
  },
  {
   "cell_type": "code",
   "execution_count": 19,
   "id": "6ff3794b",
   "metadata": {},
   "outputs": [
    {
     "name": "stdout",
     "output_type": "stream",
     "text": [
      "[0, 100, 2, 300, 400, 5]\n"
     ]
    }
   ],
   "source": [
    "numbers[3:5] = [300, 400]\n",
    "print(numbers)"
   ]
  },
  {
   "cell_type": "markdown",
   "id": "5f7026ce",
   "metadata": {},
   "source": [
    "### Add"
   ]
  },
  {
   "cell_type": "code",
   "execution_count": 20,
   "id": "8cedc1a6",
   "metadata": {
    "tags": [
     "thebe-init"
    ]
   },
   "outputs": [
    {
     "name": "stdout",
     "output_type": "stream",
     "text": [
      "['bear', 'chimpanzee', 'elephant']\n"
     ]
    }
   ],
   "source": [
    "animals = [\"bear\", \"chimpanzee\", \"elephant\"]\n",
    "print(animals)"
   ]
  },
  {
   "cell_type": "markdown",
   "id": "1117e838",
   "metadata": {},
   "source": [
    "#### To end"
   ]
  },
  {
   "cell_type": "code",
   "execution_count": 21,
   "id": "ec3bbf52",
   "metadata": {},
   "outputs": [
    {
     "name": "stdout",
     "output_type": "stream",
     "text": [
      "['bear', 'chimpanzee', 'elephant', 'hedgehog']\n"
     ]
    }
   ],
   "source": [
    "animals.append(\"hedgehog\")\n",
    "print(animals)"
   ]
  },
  {
   "cell_type": "markdown",
   "id": "e88eb2e6",
   "metadata": {},
   "source": [
    "#### At a specific position"
   ]
  },
  {
   "cell_type": "code",
   "execution_count": 22,
   "id": "280c8459",
   "metadata": {},
   "outputs": [
    {
     "name": "stdout",
     "output_type": "stream",
     "text": [
      "['bear', 'chimpanzee', 'dolphin', 'elephant', 'hedgehog']\n"
     ]
    }
   ],
   "source": [
    "animals.insert(2, \"dolphin\")\n",
    "print(animals)"
   ]
  },
  {
   "cell_type": "code",
   "execution_count": 23,
   "id": "306b0ef3",
   "metadata": {},
   "outputs": [
    {
     "name": "stdout",
     "output_type": "stream",
     "text": [
      "['antelope', 'bear', 'chimpanzee', 'dolphin', 'elephant', 'hedgehog']\n"
     ]
    }
   ],
   "source": [
    "animals.insert(0, \"antelope\")\n",
    "print(animals)"
   ]
  },
  {
   "cell_type": "markdown",
   "id": "42ba34e0",
   "metadata": {},
   "source": [
    "#### From iterable\n",
    "\n",
    "##### Using `.extend()`"
   ]
  },
  {
   "cell_type": "code",
   "execution_count": 24,
   "id": "1a5bb1b4",
   "metadata": {},
   "outputs": [
    {
     "name": "stdout",
     "output_type": "stream",
     "text": [
      "['antelope',\n",
      " 'bear',\n",
      " 'chimpanzee',\n",
      " 'dolphin',\n",
      " 'elephant',\n",
      " 'hedgehog',\n",
      " 'lynx',\n",
      " 'ocelot',\n",
      " 'puma']\n"
     ]
    }
   ],
   "source": [
    "from pprint import pprint\n",
    "\n",
    "animals.extend([\"lynx\", \"ocelot\", \"puma\"])\n",
    "pprint(animals)"
   ]
  },
  {
   "cell_type": "markdown",
   "id": "e786848d",
   "metadata": {},
   "source": [
    "##### With concatenation"
   ]
  },
  {
   "cell_type": "code",
   "execution_count": 25,
   "id": "ea9c76bc",
   "metadata": {},
   "outputs": [
    {
     "name": "stdout",
     "output_type": "stream",
     "text": [
      "['antelope',\n",
      " 'bear',\n",
      " 'chimpanzee',\n",
      " 'dolphin',\n",
      " 'elephant',\n",
      " 'hedgehog',\n",
      " 'lynx',\n",
      " 'ocelot',\n",
      " 'puma',\n",
      " 'skink',\n",
      " 'turtle',\n",
      " 'viper']\n"
     ]
    }
   ],
   "source": [
    "animals = animals + [\"skink\", \"turtle\", \"viper\"]\n",
    "pprint(animals)"
   ]
  },
  {
   "cell_type": "markdown",
   "id": "aefc3bdb",
   "metadata": {},
   "source": [
    "Or using the `+=` operator:"
   ]
  },
  {
   "cell_type": "code",
   "execution_count": 26,
   "id": "c84e6ecb",
   "metadata": {},
   "outputs": [
    {
     "name": "stdout",
     "output_type": "stream",
     "text": [
      "['antelope',\n",
      " 'bear',\n",
      " 'chimpanzee',\n",
      " 'dolphin',\n",
      " 'elephant',\n",
      " 'hedgehog',\n",
      " 'lynx',\n",
      " 'ocelot',\n",
      " 'puma',\n",
      " 'skink',\n",
      " 'turtle',\n",
      " 'viper',\n",
      " 'wolf',\n",
      " 'zebra']\n"
     ]
    }
   ],
   "source": [
    "animals += [\"wolf\", \"zebra\"]\n",
    "pprint(animals)"
   ]
  },
  {
   "cell_type": "markdown",
   "id": "a7fe07c5",
   "metadata": {},
   "source": [
    "##### Repeatedly with multiplication"
   ]
  },
  {
   "cell_type": "code",
   "execution_count": 27,
   "id": "e32625ac",
   "metadata": {},
   "outputs": [
    {
     "name": "stdout",
     "output_type": "stream",
     "text": [
      "['rinse', 'repeat']\n",
      "['rinse', 'repeat', 'rinse', 'repeat', 'rinse', 'repeat']\n"
     ]
    }
   ],
   "source": [
    "steps = [\"rinse\", \"repeat\"]\n",
    "print(steps)\n",
    "\n",
    "steps = (steps * 3)\n",
    "print(steps)"
   ]
  },
  {
   "cell_type": "markdown",
   "id": "0eb498ef",
   "metadata": {},
   "source": [
    "Or using the `*=` operator:"
   ]
  },
  {
   "cell_type": "code",
   "execution_count": 28,
   "id": "a18bea44",
   "metadata": {},
   "outputs": [
    {
     "name": "stdout",
     "output_type": "stream",
     "text": [
      "['rinse', 'repeat']\n",
      "['rinse', 'repeat', 'rinse', 'repeat', 'rinse', 'repeat']\n"
     ]
    }
   ],
   "source": [
    "steps = [\"rinse\", \"repeat\"]\n",
    "print(steps)\n",
    "\n",
    "steps *= 3\n",
    "print(steps)"
   ]
  },
  {
   "cell_type": "markdown",
   "id": "88037d05",
   "metadata": {},
   "source": [
    "### Remove"
   ]
  },
  {
   "cell_type": "code",
   "execution_count": 29,
   "id": "8f3c5e08",
   "metadata": {},
   "outputs": [
    {
     "name": "stdout",
     "output_type": "stream",
     "text": [
      "['H', 'e', 'l', 'l', ' ', 'w', 'o', 'r', 'l', 'd']\n"
     ]
    }
   ],
   "source": [
    "chars = list(\"Hello world\")\n",
    "\n",
    "del chars[4]\n",
    "print(chars)"
   ]
  },
  {
   "cell_type": "markdown",
   "id": "0840f1b4",
   "metadata": {},
   "source": [
    "#### By index"
   ]
  },
  {
   "cell_type": "code",
   "execution_count": 30,
   "id": "4291682b",
   "metadata": {},
   "outputs": [
    {
     "name": "stdout",
     "output_type": "stream",
     "text": [
      "['H', 'e', 'l', 'l', ' ', 'w', 'o', 'r', 'l', 'd']\n"
     ]
    }
   ],
   "source": [
    "chars = list(\"Hello world\")\n",
    "\n",
    "del chars[4]\n",
    "print(chars)"
   ]
  },
  {
   "cell_type": "markdown",
   "id": "b9f31c59",
   "metadata": {},
   "source": [
    "#### By value\n",
    "\n",
    "Remove first occurrence of value using the `.remove() method`:"
   ]
  },
  {
   "cell_type": "code",
   "execution_count": 31,
   "id": "dd8159ca",
   "metadata": {},
   "outputs": [
    {
     "name": "stdout",
     "output_type": "stream",
     "text": [
      "['H', 'e', 'l', 'o', ' ', 'w', 'o', 'r', 'l', 'd']\n"
     ]
    }
   ],
   "source": [
    "chars = list(\"Hello world\")\n",
    "\n",
    "chars.remove(\"l\")\n",
    "print(chars)"
   ]
  },
  {
   "cell_type": "markdown",
   "id": "ea53a6e3",
   "metadata": {},
   "source": [
    "#### By slice\n",
    "\n",
    "Using the `del` keyword:"
   ]
  },
  {
   "cell_type": "code",
   "execution_count": 32,
   "id": "e6d20013",
   "metadata": {},
   "outputs": [
    {
     "name": "stdout",
     "output_type": "stream",
     "text": [
      "['H', 'e', 'l', 'd']\n"
     ]
    }
   ],
   "source": [
    "chars = list(\"Hello world\")\n",
    "\n",
    "del chars[2:9]\n",
    "print(chars)"
   ]
  },
  {
   "cell_type": "markdown",
   "id": "78b730ee",
   "metadata": {},
   "source": [
    "By assigning to an empty list:"
   ]
  },
  {
   "cell_type": "code",
   "execution_count": 33,
   "id": "ac803a21",
   "metadata": {},
   "outputs": [
    {
     "name": "stdout",
     "output_type": "stream",
     "text": [
      "['l', 'o', ' ', 'w', 'o', 'r', 'l', 'd']\n"
     ]
    }
   ],
   "source": [
    "chars = list(\"Hello world\")\n",
    "\n",
    "chars[0:3] = []\n",
    "print(chars)"
   ]
  },
  {
   "cell_type": "markdown",
   "id": "2c3964f6",
   "metadata": {},
   "source": [
    "#### All elements"
   ]
  },
  {
   "cell_type": "code",
   "execution_count": 34,
   "id": "bd80db4a",
   "metadata": {},
   "outputs": [
    {
     "name": "stdout",
     "output_type": "stream",
     "text": [
      "[]\n"
     ]
    }
   ],
   "source": [
    "chars = list(\"Hello world\")\n",
    "\n",
    "chars.clear()\n",
    "print(chars)"
   ]
  },
  {
   "cell_type": "markdown",
   "id": "9c8f2994",
   "metadata": {},
   "source": [
    "#### Remove and return\n",
    "\n",
    "##### The last element"
   ]
  },
  {
   "cell_type": "code",
   "execution_count": 35,
   "id": "59ed2b52",
   "metadata": {},
   "outputs": [
    {
     "name": "stdout",
     "output_type": "stream",
     "text": [
      "removed: 'd' \n",
      "\n",
      "['H', 'e', 'l', 'l', 'o', ' ', 'w', 'o', 'r', 'l']\n"
     ]
    }
   ],
   "source": [
    "chars = list(\"Hello world\")\n",
    "\n",
    "removed = chars.pop()\n",
    "\n",
    "print(\"removed:\", repr(removed), \"\\n\")\n",
    "print(chars)"
   ]
  },
  {
   "cell_type": "markdown",
   "id": "708ee13e",
   "metadata": {},
   "source": [
    "##### A specific element by position"
   ]
  },
  {
   "cell_type": "code",
   "execution_count": 36,
   "id": "fffbe503",
   "metadata": {},
   "outputs": [
    {
     "name": "stdout",
     "output_type": "stream",
     "text": [
      "removed: 'l' \n",
      "\n",
      "['H', 'e', 'l', 'o', ' ', 'w', 'o', 'r', 'l', 'd']\n"
     ]
    }
   ],
   "source": [
    "chars = list(\"Hello world\")\n",
    "\n",
    "removed = chars.pop(2)\n",
    "\n",
    "print(\"removed:\", repr(removed), \"\\n\")\n",
    "print(chars)"
   ]
  },
  {
   "cell_type": "markdown",
   "id": "768ba90f",
   "metadata": {},
   "source": [
    "Membership\n",
    "----------"
   ]
  },
  {
   "cell_type": "code",
   "execution_count": 37,
   "id": "3e1a20c7",
   "metadata": {
    "tags": [
     "thebe-init"
    ]
   },
   "outputs": [],
   "source": [
    "chars = list(\"Mississippi\")\n",
    "words = ['Welcome', 'to', 'Python', 'Class']"
   ]
  },
  {
   "cell_type": "markdown",
   "id": "a79cd613",
   "metadata": {},
   "source": [
    "### Contains\n",
    "\n",
    "Check if list contains value using the `in` operator:"
   ]
  },
  {
   "cell_type": "code",
   "execution_count": 38,
   "id": "7b8dccae",
   "metadata": {},
   "outputs": [
    {
     "data": {
      "text/plain": [
       "True"
      ]
     },
     "execution_count": 38,
     "metadata": {},
     "output_type": "execute_result"
    }
   ],
   "source": [
    "\"Class\" in words"
   ]
  },
  {
   "cell_type": "markdown",
   "id": "ea277b41",
   "metadata": {},
   "source": [
    "Check if list does not contains value using the `not in` operator:"
   ]
  },
  {
   "cell_type": "code",
   "execution_count": 39,
   "id": "dcdd18a4",
   "metadata": {},
   "outputs": [
    {
     "data": {
      "text/plain": [
       "False"
      ]
     },
     "execution_count": 39,
     "metadata": {},
     "output_type": "execute_result"
    }
   ],
   "source": [
    "\"Class\" not in words"
   ]
  },
  {
   "cell_type": "markdown",
   "id": "c9d63533",
   "metadata": {},
   "source": [
    "### Count\n",
    "\n",
    "Number of times value occurs in list:"
   ]
  },
  {
   "cell_type": "code",
   "execution_count": 40,
   "id": "1d6ccf40",
   "metadata": {},
   "outputs": [
    {
     "data": {
      "text/plain": [
       "4"
      ]
     },
     "execution_count": 40,
     "metadata": {},
     "output_type": "execute_result"
    }
   ],
   "source": [
    "chars.count(\"i\")"
   ]
  },
  {
   "cell_type": "markdown",
   "id": "4f1b4d9f",
   "metadata": {},
   "source": [
    "### Index\n",
    "\n",
    "To look up the index number of a particular value, use the `.index()` method.\n",
    "\n",
    "Get the first index number of value:"
   ]
  },
  {
   "cell_type": "code",
   "execution_count": 41,
   "id": "26344965",
   "metadata": {},
   "outputs": [
    {
     "data": {
      "text/plain": [
       "2"
      ]
     },
     "execution_count": 41,
     "metadata": {},
     "output_type": "execute_result"
    }
   ],
   "source": [
    "chars.index(\"s\")"
   ]
  },
  {
   "cell_type": "markdown",
   "id": "497fdc75",
   "metadata": {},
   "source": [
    "Same, but look in `chars[3:]`:"
   ]
  },
  {
   "cell_type": "code",
   "execution_count": 42,
   "id": "b30e59f1",
   "metadata": {},
   "outputs": [
    {
     "data": {
      "text/plain": [
       "3"
      ]
     },
     "execution_count": 42,
     "metadata": {},
     "output_type": "execute_result"
    }
   ],
   "source": [
    "chars.index(\"s\", 3)"
   ]
  },
  {
   "cell_type": "markdown",
   "id": "68fe8569",
   "metadata": {},
   "source": [
    "Same, but look in `chars[5:9]`:"
   ]
  },
  {
   "cell_type": "code",
   "execution_count": 43,
   "id": "e908fd7e",
   "metadata": {},
   "outputs": [
    {
     "data": {
      "text/plain": [
       "7"
      ]
     },
     "execution_count": 43,
     "metadata": {},
     "output_type": "execute_result"
    }
   ],
   "source": [
    "chars.index(\"i\", 5, 9)"
   ]
  },
  {
   "cell_type": "markdown",
   "id": "96b09fd1",
   "metadata": {},
   "source": [
    "Iteration\n",
    "---------\n",
    "\n",
    "### for loop\n",
    "\n",
    "Iterate over each element:"
   ]
  },
  {
   "cell_type": "code",
   "execution_count": 44,
   "id": "f51dbe90",
   "metadata": {},
   "outputs": [
    {
     "name": "stdout",
     "output_type": "stream",
     "text": [
      "red\n",
      "blue\n",
      "green\n"
     ]
    }
   ],
   "source": [
    "colors = [\"red\", \"blue\", \"green\"]\n",
    "for item in colors:\n",
    "  print(item)"
   ]
  },
  {
   "cell_type": "markdown",
   "id": "b4ab2c9a",
   "metadata": {},
   "source": [
    "#### enumerate\n",
    "\n",
    "Iterate over each index number and element:"
   ]
  },
  {
   "cell_type": "code",
   "execution_count": 45,
   "id": "6c98adb1",
   "metadata": {},
   "outputs": [
    {
     "name": "stdout",
     "output_type": "stream",
     "text": [
      "0"
     ]
    },
    {
     "name": "stdout",
     "output_type": "stream",
     "text": [
      " breakfast\n",
      "1 lunch\n",
      "2 dinner\n"
     ]
    }
   ],
   "source": [
    "meals = [\"breakfast\", \"lunch\", \"dinner\"]\n",
    "for i, item in enumerate(meals):\n",
    "  print(i, item)"
   ]
  },
  {
   "cell_type": "markdown",
   "id": "0a0b101a",
   "metadata": {},
   "source": [
    "Iterate over each index number and element value, starting `i` at `1`:"
   ]
  },
  {
   "cell_type": "code",
   "execution_count": 46,
   "id": "927b4fcf",
   "metadata": {},
   "outputs": [
    {
     "name": "stdout",
     "output_type": "stream",
     "text": [
      "1 water\n",
      "2 tea\n",
      "3 coffee\n"
     ]
    }
   ],
   "source": [
    "drinks = [\"water\", \"tea\", \"coffee\"]\n",
    "for i, item in enumerate(drinks, 1):\n",
    "  print(i, item)"
   ]
  },
  {
   "cell_type": "markdown",
   "id": "7b32c0dc",
   "metadata": {},
   "source": [
    "Aggregation\n",
    "-----------\n",
    "\n",
    "Functions that provide information about the container as a whole.\n",
    "\n",
    "### Length"
   ]
  },
  {
   "cell_type": "code",
   "execution_count": 47,
   "id": "84d7eace",
   "metadata": {},
   "outputs": [
    {
     "data": {
      "text/plain": [
       "4"
      ]
     },
     "execution_count": 47,
     "metadata": {},
     "output_type": "execute_result"
    }
   ],
   "source": [
    "len([0, 1, 2, 3])"
   ]
  },
  {
   "cell_type": "markdown",
   "id": "1c66bef8",
   "metadata": {},
   "source": [
    "### Maximum value"
   ]
  },
  {
   "cell_type": "code",
   "execution_count": 48,
   "id": "a9d482dd",
   "metadata": {},
   "outputs": [
    {
     "data": {
      "text/plain": [
       "3"
      ]
     },
     "execution_count": 48,
     "metadata": {},
     "output_type": "execute_result"
    }
   ],
   "source": [
    "max([0, 1, 2, 3])"
   ]
  },
  {
   "cell_type": "markdown",
   "id": "a9110a9b",
   "metadata": {},
   "source": [
    "### Minimum value"
   ]
  },
  {
   "cell_type": "code",
   "execution_count": 49,
   "id": "f313db3a",
   "metadata": {},
   "outputs": [
    {
     "data": {
      "text/plain": [
       "0"
      ]
     },
     "execution_count": 49,
     "metadata": {},
     "output_type": "execute_result"
    }
   ],
   "source": [
    "min([0, 1, 2, 3])"
   ]
  },
  {
   "cell_type": "markdown",
   "id": "4ec767bb",
   "metadata": {},
   "source": [
    "### Sum of values"
   ]
  },
  {
   "cell_type": "code",
   "execution_count": 50,
   "id": "461d6022",
   "metadata": {},
   "outputs": [
    {
     "data": {
      "text/plain": [
       "6"
      ]
     },
     "execution_count": 50,
     "metadata": {},
     "output_type": "execute_result"
    }
   ],
   "source": [
    "sum([0, 1, 2, 3])"
   ]
  },
  {
   "cell_type": "markdown",
   "id": "db197661",
   "metadata": {},
   "source": [
    "### any\n",
    "\n",
    "Return `True` if any elements are truthy:"
   ]
  },
  {
   "cell_type": "code",
   "execution_count": 51,
   "id": "037d37c0",
   "metadata": {},
   "outputs": [
    {
     "data": {
      "text/plain": [
       "False"
      ]
     },
     "execution_count": 51,
     "metadata": {},
     "output_type": "execute_result"
    }
   ],
   "source": [
    "any([0, False, \"\"])"
   ]
  },
  {
   "cell_type": "code",
   "execution_count": 52,
   "id": "706d0db3",
   "metadata": {},
   "outputs": [
    {
     "data": {
      "text/plain": [
       "True"
      ]
     },
     "execution_count": 52,
     "metadata": {},
     "output_type": "execute_result"
    }
   ],
   "source": [
    "any([0, 1, 2, 3])"
   ]
  },
  {
   "cell_type": "markdown",
   "id": "3ca1751f",
   "metadata": {},
   "source": [
    "### all\n",
    "\n",
    "Return `True` if all elements are truthy:"
   ]
  },
  {
   "cell_type": "code",
   "execution_count": 53,
   "id": "3741dca4",
   "metadata": {},
   "outputs": [
    {
     "data": {
      "text/plain": [
       "False"
      ]
     },
     "execution_count": 53,
     "metadata": {},
     "output_type": "execute_result"
    }
   ],
   "source": [
    "all([0, 1, 2, 3])"
   ]
  },
  {
   "cell_type": "code",
   "execution_count": 54,
   "id": "b7eea8c5",
   "metadata": {},
   "outputs": [
    {
     "data": {
      "text/plain": [
       "True"
      ]
     },
     "execution_count": 54,
     "metadata": {},
     "output_type": "execute_result"
    }
   ],
   "source": [
    "all([True, 1, \"hello\"])"
   ]
  },
  {
   "cell_type": "markdown",
   "id": "6018d1aa",
   "metadata": {},
   "source": [
    "Copying\n",
    "-------"
   ]
  },
  {
   "cell_type": "code",
   "execution_count": 55,
   "id": "426dd895",
   "metadata": {
    "tags": [
     "thebe-init"
    ]
   },
   "outputs": [],
   "source": [
    "DEFAULTS = [\n",
    "  {\n",
    "    'name': \"Joe Smith\",\n",
    "    'email': 'joe.smith@gmail.com',\n",
    "  },\n",
    "  {\n",
    "    'name': \"Jane Doe\",\n",
    "    'email': \"jane.doe@gmail.com\"\n",
    "  }\n",
    "]"
   ]
  },
  {
   "cell_type": "markdown",
   "id": "54da2a92",
   "metadata": {},
   "source": [
    "### Alias\n",
    "\n",
    "A {term}`reference` or {term}`alias` creates a new variable that points to the\n",
    "same object."
   ]
  },
  {
   "cell_type": "code",
   "execution_count": 56,
   "id": "b08d9957",
   "metadata": {},
   "outputs": [
    {
     "data": {
      "text/plain": [
       "True"
      ]
     },
     "execution_count": 56,
     "metadata": {},
     "output_type": "execute_result"
    }
   ],
   "source": [
    "authors = DEFAULTS\n",
    "\n",
    "authors is DEFAULTS"
   ]
  },
  {
   "cell_type": "markdown",
   "id": "ed9c44b9",
   "metadata": {},
   "source": [
    "### Shallow copy\n",
    "\n",
    "A {term}`shallow copy` creates a new container object then adds references to elements.\n",
    "\n",
    "Using `.copy()`:"
   ]
  },
  {
   "cell_type": "code",
   "execution_count": 57,
   "id": "661e0f7c",
   "metadata": {},
   "outputs": [
    {
     "name": "stdout",
     "output_type": "stream",
     "text": [
      "False\n",
      "True\n"
     ]
    }
   ],
   "source": [
    "authors = DEFAULTS.copy()\n",
    "\n",
    "print(authors is DEFAULTS)\n",
    "print(authors[0] is DEFAULTS[0])"
   ]
  },
  {
   "cell_type": "markdown",
   "id": "74ba2297",
   "metadata": {},
   "source": [
    "Using `copy.copy()`:"
   ]
  },
  {
   "cell_type": "code",
   "execution_count": 58,
   "id": "c89d96db",
   "metadata": {},
   "outputs": [
    {
     "name": "stdout",
     "output_type": "stream",
     "text": [
      "False\n",
      "True\n"
     ]
    }
   ],
   "source": [
    "import copy\n",
    "\n",
    "authors = copy.copy(DEFAULTS)\n",
    "\n",
    "print(authors is DEFAULTS)\n",
    "print(authors[0] is DEFAULTS[0])"
   ]
  },
  {
   "cell_type": "markdown",
   "id": "3bf9c486",
   "metadata": {},
   "source": [
    "Using a slice:"
   ]
  },
  {
   "cell_type": "code",
   "execution_count": 59,
   "id": "290a05de",
   "metadata": {},
   "outputs": [
    {
     "name": "stdout",
     "output_type": "stream",
     "text": [
      "False\n",
      "True\n"
     ]
    }
   ],
   "source": [
    "authors = DEFAULTS[:]\n",
    "\n",
    "print(authors is DEFAULTS)\n",
    "print(authors[0] is DEFAULTS[0])"
   ]
  },
  {
   "cell_type": "markdown",
   "id": "7fa59a4e",
   "metadata": {},
   "source": [
    "### Deep copy\n",
    "\n",
    "A {term}`deep copy` creates a new container object then recursively adds the copies of nested elements."
   ]
  },
  {
   "cell_type": "code",
   "execution_count": 60,
   "id": "1579fad4",
   "metadata": {},
   "outputs": [
    {
     "name": "stdout",
     "output_type": "stream",
     "text": [
      "False\n",
      "False\n"
     ]
    }
   ],
   "source": [
    "import copy\n",
    "authors = copy.deepcopy(DEFAULTS)\n",
    "\n",
    "print(authors is DEFAULTS)\n",
    "print(authors[0] is DEFAULTS[0])"
   ]
  },
  {
   "cell_type": "markdown",
   "id": "4f7b18b1",
   "metadata": {},
   "source": [
    "Sorting\n",
    "-------"
   ]
  },
  {
   "cell_type": "code",
   "execution_count": 61,
   "id": "cc7195f6",
   "metadata": {
    "tags": [
     "remove-input",
     "thebe-init"
    ]
   },
   "outputs": [],
   "source": [
    "\"\"\"setup for sorting section\"\"\"\n",
    "\n",
    "from pprint import pformat\n",
    "\n",
    "def pprint(obj):\n",
    "  \"\"\"pretty print obj if defined, otherwise print an equal number of lines\"\"\"\n",
    "  if obj:\n",
    "    print(pformat(obj, width=40))\n",
    "  else:\n",
    "    print(\"-\" + (\"\\n\"*(len(FRUIT)-1)) + repr(obj))"
   ]
  },
  {
   "cell_type": "code",
   "execution_count": 62,
   "id": "a9cc936c",
   "metadata": {
    "tags": [
     "thebe-init"
    ]
   },
   "outputs": [],
   "source": [
    "\"\"\"setup for sorting section\"\"\"\n",
    "\n",
    "# define global FRUIT list\n",
    "FRUIT = [\"cherry\", \"apple\", \"date\", \"bananna\", \"elderberry\"]"
   ]
  },
  {
   "cell_type": "markdown",
   "id": "68201594",
   "metadata": {},
   "source": [
    "### Returned sorting\n",
    "\n",
    "The following functions return a sorted version of the collection and leave\n",
    "original collection unmodified."
   ]
  },
  {
   "cell_type": "code",
   "execution_count": 63,
   "id": "1caa5fbb",
   "metadata": {
    "tags": [
     "thebe-init"
    ]
   },
   "outputs": [
    {
     "name": "stdout",
     "output_type": "stream",
     "text": [
      "['cherry',\n",
      " 'apple',\n",
      " 'date',\n",
      " 'bananna',\n",
      " 'elderberry']\n"
     ]
    }
   ],
   "source": [
    "# copy fruit list\n",
    "fruit = FRUIT[:]\n",
    "pprint(fruit)"
   ]
  },
  {
   "cell_type": "markdown",
   "id": "60b8c58f",
   "metadata": {},
   "source": [
    "#### Ascending order"
   ]
  },
  {
   "cell_type": "code",
   "execution_count": 64,
   "id": "92ce995c",
   "metadata": {},
   "outputs": [
    {
     "name": "stdout",
     "output_type": "stream",
     "text": [
      "['apple',\n",
      " 'bananna',\n",
      " 'cherry',\n",
      " 'date',\n",
      " 'elderberry']\n"
     ]
    }
   ],
   "source": [
    "result = sorted(fruit)\n",
    "pprint(result)"
   ]
  },
  {
   "cell_type": "markdown",
   "id": "53a69f09",
   "metadata": {},
   "source": [
    "#### Descending order"
   ]
  },
  {
   "cell_type": "code",
   "execution_count": 65,
   "id": "76fcedf2",
   "metadata": {},
   "outputs": [
    {
     "name": "stdout",
     "output_type": "stream",
     "text": [
      "['elderberry',\n",
      " 'date',\n",
      " 'cherry',\n",
      " 'bananna',\n",
      " 'apple']\n"
     ]
    }
   ],
   "source": [
    "result = sorted(fruit, reverse=True)\n",
    "pprint(result)"
   ]
  },
  {
   "cell_type": "markdown",
   "id": "f789e467",
   "metadata": {},
   "source": [
    "#### Reverse order"
   ]
  },
  {
   "cell_type": "code",
   "execution_count": 66,
   "id": "005db224",
   "metadata": {},
   "outputs": [
    {
     "name": "stdout",
     "output_type": "stream",
     "text": [
      "['elderberry',\n",
      " 'bananna',\n",
      " 'date',\n",
      " 'apple',\n",
      " 'cherry']\n"
     ]
    }
   ],
   "source": [
    "result = list(reversed(fruit))\n",
    "pprint(result)"
   ]
  },
  {
   "cell_type": "markdown",
   "id": "0a2731d3",
   "metadata": {},
   "source": [
    "#### Order by callable key\n",
    "\n",
    "Using function:"
   ]
  },
  {
   "cell_type": "code",
   "execution_count": 67,
   "id": "0f304ba0",
   "metadata": {},
   "outputs": [
    {
     "name": "stdout",
     "output_type": "stream",
     "text": [
      "['date',\n",
      " 'apple',\n",
      " 'cherry',\n",
      " 'bananna',\n",
      " 'elderberry']\n"
     ]
    }
   ],
   "source": [
    "def order_by_length(text):\n",
    "    return len(text)\n",
    "\n",
    "result = sorted(fruit, key=order_by_length)\n",
    "pprint(result)"
   ]
  },
  {
   "cell_type": "markdown",
   "id": "2867ed3c",
   "metadata": {},
   "source": [
    "Using lambda:"
   ]
  },
  {
   "cell_type": "code",
   "execution_count": 68,
   "id": "310b93e6",
   "metadata": {},
   "outputs": [
    {
     "name": "stdout",
     "output_type": "stream",
     "text": [
      "['date',\n",
      " 'apple',\n",
      " 'cherry',\n",
      " 'bananna',\n",
      " 'elderberry']\n"
     ]
    }
   ],
   "source": [
    "result = sorted(fruit, key=lambda v: len(v))\n",
    "pprint(result)"
   ]
  },
  {
   "cell_type": "markdown",
   "id": "27fa674f",
   "metadata": {},
   "source": [
    "### In-place sorting\n",
    "\n",
    "The following methods and functions change the order of the original collection\n",
    "and return `None`.\n",
    "\n",
    "#### Ascending order"
   ]
  },
  {
   "cell_type": "code",
   "execution_count": 69,
   "id": "6857df3c",
   "metadata": {},
   "outputs": [
    {
     "name": "stdout",
     "output_type": "stream",
     "text": [
      "['cherry',\n",
      " 'apple',\n",
      " 'date',\n",
      " 'bananna',\n",
      " 'elderberry']\n",
      "--------------\n",
      "['apple',\n",
      " 'bananna',\n",
      " 'cherry',\n",
      " 'date',\n",
      " 'elderberry']\n"
     ]
    }
   ],
   "source": [
    "# reset fruit list\n",
    "fruit = FRUIT[:]\n",
    "pprint(fruit)\n",
    "print(\"--------------\")\n",
    "\n",
    "fruit.sort()\n",
    "pprint(fruit)"
   ]
  },
  {
   "cell_type": "markdown",
   "id": "1fe3047c",
   "metadata": {},
   "source": [
    "#### Descending order"
   ]
  },
  {
   "cell_type": "code",
   "execution_count": 70,
   "id": "de62aa3f",
   "metadata": {},
   "outputs": [
    {
     "name": "stdout",
     "output_type": "stream",
     "text": [
      "['cherry',\n",
      " 'apple',\n",
      " 'date',\n",
      " 'bananna',\n",
      " 'elderberry']\n",
      "--------------\n",
      "['elderberry',\n",
      " 'date',\n",
      " 'cherry',\n",
      " 'bananna',\n",
      " 'apple']\n"
     ]
    }
   ],
   "source": [
    "# reset fruit list\n",
    "fruit = FRUIT[:]\n",
    "pprint(fruit)\n",
    "print(\"--------------\")\n",
    "\n",
    "fruit.sort(reverse=True)\n",
    "pprint(fruit)"
   ]
  },
  {
   "cell_type": "markdown",
   "id": "543edee4",
   "metadata": {},
   "source": [
    "#### Reverse order"
   ]
  },
  {
   "cell_type": "code",
   "execution_count": 71,
   "id": "8eb520c3",
   "metadata": {},
   "outputs": [
    {
     "name": "stdout",
     "output_type": "stream",
     "text": [
      "['cherry',\n",
      " 'apple',\n",
      " 'date',\n",
      " 'bananna',\n",
      " 'elderberry']\n",
      "--------------\n",
      "['elderberry',\n",
      " 'bananna',\n",
      " 'date',\n",
      " 'apple',\n",
      " 'cherry']\n"
     ]
    }
   ],
   "source": [
    "# reset fruit list\n",
    "fruit = FRUIT[:]\n",
    "pprint(fruit)\n",
    "print(\"--------------\")\n",
    "\n",
    "fruit.reverse()\n",
    "pprint(fruit)"
   ]
  },
  {
   "cell_type": "markdown",
   "id": "5c418dae",
   "metadata": {},
   "source": [
    "#### Order by callable key function\n",
    "\n",
    "Using function:"
   ]
  },
  {
   "cell_type": "code",
   "execution_count": 72,
   "id": "e7ec1dad",
   "metadata": {},
   "outputs": [
    {
     "name": "stdout",
     "output_type": "stream",
     "text": [
      "['cherry',\n",
      " 'apple',\n",
      " 'date',\n",
      " 'bananna',\n",
      " 'elderberry']\n",
      "--------------\n",
      "['date',\n",
      " 'apple',\n",
      " 'cherry',\n",
      " 'bananna',\n",
      " 'elderberry']\n"
     ]
    }
   ],
   "source": [
    "# reset fruit list\n",
    "fruit = FRUIT[:]\n",
    "pprint(fruit)\n",
    "print(\"--------------\")\n",
    "\n",
    "def order_by_length(text):\n",
    "    return len(text)\n",
    "\n",
    "fruit.sort(key=order_by_length)\n",
    "pprint(fruit)"
   ]
  },
  {
   "cell_type": "markdown",
   "id": "f9c399b9",
   "metadata": {},
   "source": [
    "Using lambda:"
   ]
  },
  {
   "cell_type": "code",
   "execution_count": 73,
   "id": "ce4dabfc",
   "metadata": {},
   "outputs": [
    {
     "name": "stdout",
     "output_type": "stream",
     "text": [
      "['cherry',\n",
      " 'apple',\n",
      " 'date',\n",
      " 'bananna',\n",
      " 'elderberry']\n",
      "--------------\n",
      "['date',\n",
      " 'apple',\n",
      " 'cherry',\n",
      " 'bananna',\n",
      " 'elderberry']\n"
     ]
    }
   ],
   "source": [
    "# reset fruit list\n",
    "fruit = FRUIT[:]\n",
    "pprint(fruit)\n",
    "print(\"--------------\")\n",
    "\n",
    "fruit.sort(key=lambda v:len(v))\n",
    "pprint(fruit)"
   ]
  },
  {
   "cell_type": "markdown",
   "id": "6ad6b8ad",
   "metadata": {},
   "source": [
    "#### Random order"
   ]
  },
  {
   "cell_type": "code",
   "execution_count": 74,
   "id": "dd11dd44",
   "metadata": {},
   "outputs": [
    {
     "name": "stdout",
     "output_type": "stream",
     "text": [
      "['cherry',\n",
      " 'apple',\n",
      " 'date',\n",
      " 'bananna',\n",
      " 'elderberry']\n",
      "--------------\n",
      "['date',\n",
      " 'cherry',\n",
      " 'apple',\n",
      " 'bananna',\n",
      " 'elderberry']\n"
     ]
    }
   ],
   "source": [
    "# reset fruit list\n",
    "fruit = FRUIT[:]\n",
    "pprint(fruit)\n",
    "print(\"--------------\")\n",
    "\n",
    "from random import shuffle\n",
    "shuffle(fruit)\n",
    "pprint(fruit)"
   ]
  },
  {
   "cell_type": "markdown",
   "id": "bc8f727d",
   "metadata": {},
   "source": [
    "Transformation\n",
    "--------------\n",
    "\n",
    "Generate a modified collection.\n",
    "\n",
    "### Mapping\n",
    "\n",
    "Produce a new collection containing the results from applying a function to\n",
    "each element in a collection."
   ]
  },
  {
   "cell_type": "code",
   "execution_count": 75,
   "id": "f068397e",
   "metadata": {
    "tags": [
     "thebe-init"
    ]
   },
   "outputs": [],
   "source": [
    "\"\"\"Setup for the Mapping section\"\"\"\n",
    "\n",
    "# the collection to base mappings on\n",
    "birth_years = [1954, 1956, 1984, 1986]\n",
    "\n",
    "# used in relative_age()\n",
    "REL_YEAR = 1994\n",
    "\n",
    "# the function to apply\n",
    "def relative_age(year):\n",
    "  return REL_YEAR - year"
   ]
  },
  {
   "cell_type": "markdown",
   "id": "c15cad83",
   "metadata": {},
   "source": [
    "#### Using a for loop"
   ]
  },
  {
   "cell_type": "code",
   "execution_count": 76,
   "id": "dc62c3f5",
   "metadata": {},
   "outputs": [
    {
     "name": "stdout",
     "output_type": "stream",
     "text": [
      "[40, 38, 10, 8]\n"
     ]
    }
   ],
   "source": [
    "# initialize a list the same size as birth_years filled with None values\n",
    "ages = [None] * len(birth_years)\n",
    "\n",
    "# iterate over birth years and map the cooresponding element in ages to\n",
    "# the results from applying the function to that element\n",
    "for i, year in enumerate(birth_years):\n",
    "  ages[i] = relative_age(year)\n",
    "\n",
    "# print the ages list\n",
    "print(ages)"
   ]
  },
  {
   "cell_type": "markdown",
   "id": "4c03bcc6",
   "metadata": {},
   "source": [
    "#### Using list comprehension"
   ]
  },
  {
   "cell_type": "code",
   "execution_count": 77,
   "id": "bfcb894b",
   "metadata": {
    "tags": [
     "thebe-init"
    ]
   },
   "outputs": [
    {
     "name": "stdout",
     "output_type": "stream",
     "text": [
      "[40, 38, 10, 8]\n"
     ]
    }
   ],
   "source": [
    "ages = [relative_age(year) for year in birth_years]\n",
    "\n",
    "print(ages)"
   ]
  },
  {
   "cell_type": "markdown",
   "id": "ba915225",
   "metadata": {},
   "source": [
    "#### Using map"
   ]
  },
  {
   "cell_type": "code",
   "execution_count": 78,
   "id": "e648f72b",
   "metadata": {},
   "outputs": [
    {
     "name": "stdout",
     "output_type": "stream",
     "text": [
      "[40, 38, 10, 8]\n"
     ]
    }
   ],
   "source": [
    "ages = list(map(relative_age, birth_years))\n",
    "\n",
    "print(ages)"
   ]
  },
  {
   "cell_type": "markdown",
   "id": "40c9f998",
   "metadata": {},
   "source": [
    "### Filtering\n",
    "\n",
    "Produce a new collection containing only elements which, when a applying a\n",
    "function, return a truthy value."
   ]
  },
  {
   "cell_type": "code",
   "execution_count": 79,
   "id": "719af1b4",
   "metadata": {
    "tags": [
     "thebe-init"
    ]
   },
   "outputs": [
    {
     "name": "stdout",
     "output_type": "stream",
     "text": [
      "[40, 38, 10, 8]\n"
     ]
    }
   ],
   "source": [
    "\"\"\"Setup for the Filtering section\"\"\"\n",
    "\n",
    "# the function to apply\n",
    "def is_adult(age):\n",
    "  return age >= 18\n",
    "\n",
    "# print the previously created ages collection to base the filterings on\n",
    "print(ages)"
   ]
  },
  {
   "cell_type": "markdown",
   "id": "62330147",
   "metadata": {},
   "source": [
    "#### Using a for loop"
   ]
  },
  {
   "cell_type": "code",
   "execution_count": 80,
   "id": "5a7a38a0",
   "metadata": {},
   "outputs": [
    {
     "name": "stdout",
     "output_type": "stream",
     "text": [
      "[40, 38]\n"
     ]
    }
   ],
   "source": [
    "# initialze an empty list\n",
    "adults = []\n",
    "\n",
    "# iterate over ages and append elements that results in True\n",
    "# when applying the filtering function\n",
    "for age in ages:\n",
    "  if is_adult(age):\n",
    "    adults.append(age)\n",
    "\n",
    "# print the adults list\n",
    "print(adults)"
   ]
  },
  {
   "cell_type": "markdown",
   "id": "822d202e",
   "metadata": {},
   "source": [
    "#### Using list comprehension"
   ]
  },
  {
   "cell_type": "code",
   "execution_count": 81,
   "id": "e1af52ca",
   "metadata": {},
   "outputs": [
    {
     "name": "stdout",
     "output_type": "stream",
     "text": [
      "[40, 38]\n"
     ]
    }
   ],
   "source": [
    "adults = [ age for age in ages if is_adult(age) ]\n",
    "\n",
    "print(adults)"
   ]
  },
  {
   "cell_type": "markdown",
   "id": "0fc3a0e5",
   "metadata": {},
   "source": [
    "#### Using filter"
   ]
  },
  {
   "cell_type": "code",
   "execution_count": 82,
   "id": "0544490b",
   "metadata": {},
   "outputs": [
    {
     "name": "stdout",
     "output_type": "stream",
     "text": [
      "[40, 38]\n"
     ]
    }
   ],
   "source": [
    "adults = list(filter(is_adult, ages))\n",
    "\n",
    "print(adults)"
   ]
  },
  {
   "cell_type": "markdown",
   "id": "264dd7f1",
   "metadata": {},
   "source": [
    "Typecasting\n",
    "-----------\n",
    "\n",
    "### str to list\n",
    "\n",
    "#### individual characters"
   ]
  },
  {
   "cell_type": "code",
   "execution_count": 83,
   "id": "69e3bc0d",
   "metadata": {},
   "outputs": [
    {
     "data": {
      "text/plain": [
       "['a', 'b', 'c']"
      ]
     },
     "execution_count": 83,
     "metadata": {},
     "output_type": "execute_result"
    }
   ],
   "source": [
    "list(\"abc\")"
   ]
  },
  {
   "cell_type": "markdown",
   "id": "8d6c41c4",
   "metadata": {},
   "source": [
    "#### split on whitespace"
   ]
  },
  {
   "cell_type": "code",
   "execution_count": 84,
   "id": "1e47e8ac",
   "metadata": {},
   "outputs": [
    {
     "data": {
      "text/plain": [
       "['list', 'info', 'search']"
      ]
     },
     "execution_count": 84,
     "metadata": {},
     "output_type": "execute_result"
    }
   ],
   "source": [
    "\"list info search\".split()"
   ]
  },
  {
   "cell_type": "markdown",
   "id": "58149be9",
   "metadata": {},
   "source": [
    "#### split on delimiter"
   ]
  },
  {
   "cell_type": "code",
   "execution_count": 85,
   "id": "d17504e7",
   "metadata": {},
   "outputs": [
    {
     "data": {
      "text/plain": [
       "['555', '555', '5555']"
      ]
     },
     "execution_count": 85,
     "metadata": {},
     "output_type": "execute_result"
    }
   ],
   "source": [
    "\"555-555-5555\".split(\"-\")"
   ]
  },
  {
   "cell_type": "markdown",
   "id": "14242917",
   "metadata": {},
   "source": [
    "#### split on newlines"
   ]
  },
  {
   "cell_type": "code",
   "execution_count": 86,
   "id": "bb799002",
   "metadata": {},
   "outputs": [
    {
     "data": {
      "text/plain": [
       "['a', 'b', 'c']"
      ]
     },
     "execution_count": 86,
     "metadata": {},
     "output_type": "execute_result"
    }
   ],
   "source": [
    "\"a\\nb\\nc\\n\".splitlines()"
   ]
  },
  {
   "cell_type": "markdown",
   "id": "4253dfbd",
   "metadata": {},
   "source": [
    "#### split on pattern"
   ]
  },
  {
   "cell_type": "code",
   "execution_count": 87,
   "id": "70515519",
   "metadata": {},
   "outputs": [
    {
     "data": {
      "text/plain": [
       "['github', 'com', 'git']"
      ]
     },
     "execution_count": 87,
     "metadata": {},
     "output_type": "execute_result"
    }
   ],
   "source": [
    "import re\n",
    "re.split(r\"[./]\", \"github.com/git\")"
   ]
  },
  {
   "cell_type": "markdown",
   "id": "ca7f9f16",
   "metadata": {},
   "source": [
    "### dict to list"
   ]
  },
  {
   "cell_type": "code",
   "execution_count": 88,
   "id": "148e867d",
   "metadata": {
    "tags": [
     "thebe-init"
    ]
   },
   "outputs": [],
   "source": [
    "fruit_sizes = {'cherry': 6, 'bananna': 7, 'date': 4, 'elderberry': 10, 'apple': 5}"
   ]
  },
  {
   "cell_type": "markdown",
   "id": "30275e11",
   "metadata": {},
   "source": [
    "#### keys"
   ]
  },
  {
   "cell_type": "code",
   "execution_count": 89,
   "id": "c899b977",
   "metadata": {},
   "outputs": [
    {
     "data": {
      "text/plain": [
       "['cherry', 'bananna', 'date', 'elderberry', 'apple']"
      ]
     },
     "execution_count": 89,
     "metadata": {},
     "output_type": "execute_result"
    }
   ],
   "source": [
    "list(fruit_sizes)"
   ]
  },
  {
   "cell_type": "code",
   "execution_count": 90,
   "id": "4fee1733",
   "metadata": {},
   "outputs": [
    {
     "data": {
      "text/plain": [
       "['cherry', 'bananna', 'date', 'elderberry', 'apple']"
      ]
     },
     "execution_count": 90,
     "metadata": {},
     "output_type": "execute_result"
    }
   ],
   "source": [
    "list(fruit_sizes.keys())"
   ]
  },
  {
   "cell_type": "markdown",
   "id": "f2012e18",
   "metadata": {},
   "source": [
    "#### values"
   ]
  },
  {
   "cell_type": "code",
   "execution_count": 91,
   "id": "b4f236bc",
   "metadata": {},
   "outputs": [
    {
     "data": {
      "text/plain": [
       "[6, 7, 4, 10, 5]"
      ]
     },
     "execution_count": 91,
     "metadata": {},
     "output_type": "execute_result"
    }
   ],
   "source": [
    "list(fruit_sizes.values())"
   ]
  },
  {
   "cell_type": "markdown",
   "id": "4f02010d",
   "metadata": {},
   "source": [
    "### list to string"
   ]
  },
  {
   "cell_type": "code",
   "execution_count": 92,
   "id": "9755d4ee",
   "metadata": {},
   "outputs": [
    {
     "data": {
      "text/plain": [
       "'abc'"
      ]
     },
     "execution_count": 92,
     "metadata": {},
     "output_type": "execute_result"
    }
   ],
   "source": [
    "\"\".join([\"a\", \"b\", \"c\"])"
   ]
  },
  {
   "cell_type": "markdown",
   "id": "5caa4d33",
   "metadata": {},
   "source": [
    "### list to dict"
   ]
  },
  {
   "cell_type": "code",
   "execution_count": 93,
   "id": "755b7c80",
   "metadata": {},
   "outputs": [
    {
     "data": {
      "text/plain": [
       "{'a': 1, 'b': 2}"
      ]
     },
     "execution_count": 93,
     "metadata": {},
     "output_type": "execute_result"
    }
   ],
   "source": [
    "dict([[\"a\", 1], [\"b\", 2]])"
   ]
  },
  {
   "cell_type": "code",
   "execution_count": 94,
   "id": "ea34e17b",
   "metadata": {},
   "outputs": [
    {
     "data": {
      "text/plain": [
       "{'a': 1, 'b': 2}"
      ]
     },
     "execution_count": 94,
     "metadata": {},
     "output_type": "execute_result"
    }
   ],
   "source": [
    "dict(zip([\"a\", \"b\"], [1, 2]))"
   ]
  },
  {
   "cell_type": "markdown",
   "id": "dd1c7a96",
   "metadata": {},
   "source": [
    "----\n",
    "\n",
    "% TODO\n",
    "% - [ ] nested lists\n",
    "% - [ ] comparisons"
   ]
  }
 ],
 "metadata": {
  "jupytext": {
   "formats": "md:myst",
   "text_representation": {
    "extension": ".md",
    "format_name": "myst"
   }
  },
  "kernelspec": {
   "display_name": "Python 3",
   "language": "python",
   "name": "python3"
  },
  "language_info": {
   "codemirror_mode": {
    "name": "ipython",
    "version": 3
   },
   "file_extension": ".py",
   "mimetype": "text/x-python",
   "name": "python",
   "nbconvert_exporter": "python",
   "pygments_lexer": "ipython3",
   "version": "3.8.16"
  },
  "source_map": [
   11,
   44,
   47,
   51,
   54,
   58,
   62,
   68,
   71,
   75,
   79,
   96,
   98,
   102,
   104,
   108,
   110,
   123,
   125,
   129,
   131,
   135,
   137,
   141,
   143,
   148,
   151,
   155,
   157,
   164,
   170,
   174,
   178,
   185,
   194,
   197,
   201,
   204,
   208,
   212,
   216,
   219,
   223,
   228,
   231,
   237,
   242,
   246,
   249,
   253,
   256,
   260,
   266,
   270,
   276,
   280,
   285,
   289,
   294,
   300,
   305,
   311,
   316,
   320,
   325,
   329,
   334,
   340,
   347,
   351,
   358,
   363,
   367,
   373,
   375,
   379,
   381,
   387,
   389,
   397,
   399,
   403,
   405,
   409,
   411,
   420,
   424,
   430,
   434,
   438,
   442,
   451,
   453,
   457,
   459,
   463,
   465,
   469,
   471,
   477,
   481,
   483,
   489,
   493,
   495,
   500,
   512,
   519,
   523,
   531,
   536,
   540,
   547,
   551,
   556,
   562,
   568,
   573,
   587,
   593,
   601,
   606,
   610,
   613,
   617,
   620,
   624,
   627,
   633,
   639,
   643,
   646,
   655,
   663,
   667,
   675,
   679,
   687,
   693,
   704,
   708,
   716,
   720,
   729,
   741,
   754,
   758,
   769,
   773,
   778,
   782,
   786,
   793,
   803,
   807,
   819,
   823,
   827,
   831,
   835,
   844,
   846,
   850,
   852,
   856,
   858,
   862,
   864,
   868,
   871,
   875,
   878,
   882,
   886,
   888,
   892,
   894,
   898,
   900,
   904,
   908,
   910
  ]
 },
 "nbformat": 4,
 "nbformat_minor": 5
}