{
 "cells": [
  {
   "cell_type": "markdown",
   "id": "dbd7d078",
   "metadata": {},
   "source": [
    "Lists\n",
    "=====\n",
    "\n",
    "This page contains brief code snippets for `list` related operations. It is\n",
    "intended as a resource for quickly looking up the syntax for a particular task,\n",
    "most likely to jog a students memory.\n",
    "\n",
    "While you may well learn something here, it is not written as a lesson.\n",
    "\n",
    ":::{tip}\n",
    "\n",
    "You can modify and execute any of the code on this page.\n",
    "\n",
    "1. ![launch][] just click this icon at the top of the page\n",
    "1. ![live][] followed by this one\n",
    "\n",
    ":::\n",
    "\n",
    "[launch]: ../assets/rocket-icon.png\n",
    "[live]: ../assets/live-icon.png\n",
    "\n",
    "```{contents} Table of Contents\n",
    ":backlinks: top\n",
    ":local:\n",
    "```\n",
    "\n",
    "Creating\n",
    "--------\n",
    "\n",
    "### Bracket syntax\n",
    "\n",
    "Create an empty list using `[` `]`:"
   ]
  },
  {
   "cell_type": "code",
   "execution_count": 1,
   "id": "f753842c",
   "metadata": {},
   "outputs": [
    {
     "name": "stdout",
     "output_type": "stream",
     "text": [
      "[]\n"
     ]
    }
   ],
   "source": [
    "a_list  = []\n",
    "print(a_list)"
   ]
  },
  {
   "cell_type": "markdown",
   "id": "134af7d6",
   "metadata": {},
   "source": [
    "Create a list of `3` `None` elements:"
   ]
  },
  {
   "cell_type": "code",
   "execution_count": 2,
   "id": "01950002",
   "metadata": {},
   "outputs": [
    {
     "name": "stdout",
     "output_type": "stream",
     "text": [
      "[None, None, None]\n"
     ]
    }
   ],
   "source": [
    "b_list  = [None] * 3\n",
    "print(b_list)"
   ]
  },
  {
   "cell_type": "markdown",
   "id": "6bfa461d",
   "metadata": {},
   "source": [
    "Create a list with initial elements:"
   ]
  },
  {
   "cell_type": "code",
   "execution_count": 3,
   "id": "03465ebd",
   "metadata": {
    "tags": [
     "thebe-init"
    ]
   },
   "outputs": [
    {
     "name": "stdout",
     "output_type": "stream",
     "text": [
      "[0, 1, 2, 3, 4, 5]\n"
     ]
    }
   ],
   "source": [
    "numbers = [0, 1, 2, 3, 4, 5]\n",
    "print(numbers)"
   ]
  },
  {
   "cell_type": "markdown",
   "id": "06dcd242",
   "metadata": {},
   "source": [
    "### list constructor\n",
    "\n",
    "Create an empty list using the `list()` constructor:"
   ]
  },
  {
   "cell_type": "code",
   "execution_count": 4,
   "id": "2fc4fb73",
   "metadata": {},
   "outputs": [
    {
     "name": "stdout",
     "output_type": "stream",
     "text": [
      "[]\n"
     ]
    }
   ],
   "source": [
    "c_list  = list()\n",
    "print(c_list)"
   ]
  },
  {
   "cell_type": "markdown",
   "id": "bffa7fa3",
   "metadata": {},
   "source": [
    "Create a list from another iterable:"
   ]
  },
  {
   "cell_type": "code",
   "execution_count": 5,
   "id": "5fb079ec",
   "metadata": {
    "tags": [
     "thebe-init"
    ]
   },
   "outputs": [
    {
     "name": "stdout",
     "output_type": "stream",
     "text": [
      "['a', 'b', 'c', 'd', 'e', 'f', 'g', 'h', 'i', 'j', 'k', 'l', 'm', 'n', 'o', 'p', 'q', 'r', 's', 't', 'u', 'v', 'w', 'x', 'y', 'z']\n"
     ]
    }
   ],
   "source": [
    "letters = list(\"abcdefghijklmnopqrstuvwxyz\")\n",
    "print(letters)"
   ]
  },
  {
   "cell_type": "markdown",
   "id": "61834d18",
   "metadata": {},
   "source": [
    "Selecting Elements\n",
    "------------------\n",
    "\n",
    "Elements are accessed via {term}`subscription` with the syntax: {samp}`{COLLECTION}[{SELECTOR}]`.\n",
    "\n",
    "The `SELECTOR` can be:\n",
    "\n",
    "* {term}`index number`\n",
    "* {term}`negative index number`\n",
    "* {term}`slice`\n",
    "\n",
    "### Via index number\n",
    "\n",
    "First element:"
   ]
  },
  {
   "cell_type": "code",
   "execution_count": 6,
   "id": "00eb110b",
   "metadata": {},
   "outputs": [
    {
     "name": "stdout",
     "output_type": "stream",
     "text": [
      "a\n"
     ]
    }
   ],
   "source": [
    "print(letters[0])"
   ]
  },
  {
   "cell_type": "markdown",
   "id": "97029071",
   "metadata": {},
   "source": [
    "Second element:"
   ]
  },
  {
   "cell_type": "code",
   "execution_count": 7,
   "id": "d09c035e",
   "metadata": {},
   "outputs": [
    {
     "name": "stdout",
     "output_type": "stream",
     "text": [
      "b\n"
     ]
    }
   ],
   "source": [
    "print(letters[1])"
   ]
  },
  {
   "cell_type": "markdown",
   "id": "1bbf019a",
   "metadata": {},
   "source": [
    "Last element:"
   ]
  },
  {
   "cell_type": "code",
   "execution_count": 8,
   "id": "697d0d1a",
   "metadata": {},
   "outputs": [
    {
     "name": "stdout",
     "output_type": "stream",
     "text": [
      "z\n"
     ]
    }
   ],
   "source": [
    "print(letters[-1])"
   ]
  },
  {
   "cell_type": "markdown",
   "id": "4752bdfc",
   "metadata": {},
   "source": [
    "### Via slice\n",
    "\n",
    "Or the `SELECTOR` can be a {term}`slice`.\n",
    "\n",
    "The synax is either of the following.\n",
    "\n",
    "* {samp}`{COLLECTION}[{START}:{STOP}]`\n",
    "* {samp}`{COLLECTION}[{START}:{STOP}:{STEP}]`\n",
    "\n",
    "From `numbers[1]` to before `numbers[3]`:"
   ]
  },
  {
   "cell_type": "code",
   "execution_count": 9,
   "id": "a341a7b3",
   "metadata": {},
   "outputs": [
    {
     "name": "stdout",
     "output_type": "stream",
     "text": [
      "[1, 2]\n"
     ]
    }
   ],
   "source": [
    "print(numbers[1:3])"
   ]
  },
  {
   "cell_type": "markdown",
   "id": "048c5bb2",
   "metadata": {},
   "source": [
    "All but the first element:"
   ]
  },
  {
   "cell_type": "code",
   "execution_count": 10,
   "id": "a849dc0e",
   "metadata": {},
   "outputs": [
    {
     "name": "stdout",
     "output_type": "stream",
     "text": [
      "[1, 2, 3, 4, 5]\n"
     ]
    }
   ],
   "source": [
    "print(numbers[1:])"
   ]
  },
  {
   "cell_type": "markdown",
   "id": "c0044d5f",
   "metadata": {},
   "source": [
    "All but the last element:"
   ]
  },
  {
   "cell_type": "code",
   "execution_count": 11,
   "id": "60ca89d0",
   "metadata": {},
   "outputs": [
    {
     "name": "stdout",
     "output_type": "stream",
     "text": [
      "[0, 1, 2, 3, 4]\n"
     ]
    }
   ],
   "source": [
    "print(numbers[:-1])"
   ]
  },
  {
   "cell_type": "markdown",
   "id": "87d888aa",
   "metadata": {},
   "source": [
    "Every other element from `numbers[3]` to before `numbers[15]`:"
   ]
  },
  {
   "cell_type": "code",
   "execution_count": 12,
   "id": "41b76516",
   "metadata": {},
   "outputs": [
    {
     "name": "stdout",
     "output_type": "stream",
     "text": [
      "[3, 5]\n"
     ]
    }
   ],
   "source": [
    "print(numbers[3:15:2])"
   ]
  },
  {
   "cell_type": "markdown",
   "id": "d52204df",
   "metadata": {},
   "source": [
    "Elements in reversed order with a negative `STEP` number and a `START` that is\n",
    "greater than `STOP`."
   ]
  },
  {
   "cell_type": "code",
   "execution_count": 13,
   "id": "5e99c350",
   "metadata": {},
   "outputs": [
    {
     "name": "stdout",
     "output_type": "stream",
     "text": [
      "[2, 1, 0]\n",
      "[5, 4]\n"
     ]
    }
   ],
   "source": [
    "print(numbers[2::-1])\n",
    "print(numbers[-1:-3:-1])"
   ]
  },
  {
   "cell_type": "markdown",
   "id": "37d4007c",
   "metadata": {},
   "source": [
    "Entire list:"
   ]
  },
  {
   "cell_type": "code",
   "execution_count": 14,
   "id": "c3dafe1f",
   "metadata": {},
   "outputs": [
    {
     "name": "stdout",
     "output_type": "stream",
     "text": [
      "[0, 1, 2, 3, 4, 5]\n"
     ]
    }
   ],
   "source": [
    "print(numbers[:])"
   ]
  },
  {
   "cell_type": "markdown",
   "id": "8592e528",
   "metadata": {},
   "source": [
    "### Exceptions\n",
    "\n",
    "An `IndexError` exception will be raised for any selectors using using\n",
    "non-existant index numbers."
   ]
  },
  {
   "cell_type": "code",
   "execution_count": 15,
   "id": "b7642ef3",
   "metadata": {
    "tags": [
     "raises-exception"
    ]
   },
   "outputs": [
    {
     "ename": "IndexError",
     "evalue": "list index out of range",
     "output_type": "error",
     "traceback": [
      "\u001b[0;31m---------------------------------------------------------------------------\u001b[0m",
      "\u001b[0;31mIndexError\u001b[0m                                Traceback (most recent call last)",
      "\u001b[0;32m/tmp/ipykernel_2082/2154710734.py\u001b[0m in \u001b[0;36m<module>\u001b[0;34m\u001b[0m\n\u001b[0;32m----> 1\u001b[0;31m \u001b[0mvalue\u001b[0m \u001b[0;34m=\u001b[0m \u001b[0mnumbers\u001b[0m\u001b[0;34m[\u001b[0m\u001b[0;36m10\u001b[0m\u001b[0;34m]\u001b[0m\u001b[0;34m\u001b[0m\u001b[0;34m\u001b[0m\u001b[0m\n\u001b[0m\u001b[1;32m      2\u001b[0m \u001b[0mprint\u001b[0m\u001b[0;34m(\u001b[0m\u001b[0mvalue\u001b[0m\u001b[0;34m)\u001b[0m\u001b[0;34m\u001b[0m\u001b[0;34m\u001b[0m\u001b[0m\n",
      "\u001b[0;31mIndexError\u001b[0m: list index out of range"
     ]
    }
   ],
   "source": [
    "value = numbers[10]\n",
    "print(value)"
   ]
  },
  {
   "cell_type": "code",
   "execution_count": 16,
   "id": "593d6d36",
   "metadata": {
    "tags": [
     "raises-exception"
    ]
   },
   "outputs": [
    {
     "ename": "IndexError",
     "evalue": "list index out of range",
     "output_type": "error",
     "traceback": [
      "\u001b[0;31m---------------------------------------------------------------------------\u001b[0m",
      "\u001b[0;31mIndexError\u001b[0m                                Traceback (most recent call last)",
      "\u001b[0;32m/tmp/ipykernel_2082/2526518119.py\u001b[0m in \u001b[0;36m<module>\u001b[0;34m\u001b[0m\n\u001b[0;32m----> 1\u001b[0;31m \u001b[0mvalue\u001b[0m \u001b[0;34m=\u001b[0m \u001b[0mnumbers\u001b[0m\u001b[0;34m[\u001b[0m\u001b[0;34m-\u001b[0m\u001b[0;36m10\u001b[0m\u001b[0;34m]\u001b[0m\u001b[0;34m\u001b[0m\u001b[0;34m\u001b[0m\u001b[0m\n\u001b[0m\u001b[1;32m      2\u001b[0m \u001b[0mprint\u001b[0m\u001b[0;34m(\u001b[0m\u001b[0mvalue\u001b[0m\u001b[0;34m)\u001b[0m\u001b[0;34m\u001b[0m\u001b[0;34m\u001b[0m\u001b[0m\n",
      "\u001b[0;31mIndexError\u001b[0m: list index out of range"
     ]
    }
   ],
   "source": [
    "value = numbers[-10]\n",
    "print(value)"
   ]
  },
  {
   "cell_type": "markdown",
   "id": "87da728e",
   "metadata": {},
   "source": [
    "Suppress errors with a try except block:"
   ]
  },
  {
   "cell_type": "code",
   "execution_count": 17,
   "id": "b85b900f",
   "metadata": {},
   "outputs": [
    {
     "name": "stdout",
     "output_type": "stream",
     "text": [
      "None\n"
     ]
    }
   ],
   "source": [
    "try:\n",
    "  value = numbers[10]\n",
    "except IndexError:\n",
    "  value = None\n",
    "\n",
    "print(value)"
   ]
  },
  {
   "cell_type": "markdown",
   "id": "df4e7d30",
   "metadata": {},
   "source": [
    "Modification\n",
    "------------\n",
    "\n",
    "### Change\n",
    "\n",
    "#### By index"
   ]
  },
  {
   "cell_type": "code",
   "execution_count": 18,
   "id": "a45f23d3",
   "metadata": {},
   "outputs": [
    {
     "name": "stdout",
     "output_type": "stream",
     "text": [
      "[0, 100, 2, 3, 4, 5]\n"
     ]
    }
   ],
   "source": [
    "numbers[1] = 100\n",
    "print(numbers)"
   ]
  },
  {
   "cell_type": "markdown",
   "id": "16fced0a",
   "metadata": {},
   "source": [
    "#### By slice"
   ]
  },
  {
   "cell_type": "code",
   "execution_count": 19,
   "id": "8fadead9",
   "metadata": {},
   "outputs": [
    {
     "name": "stdout",
     "output_type": "stream",
     "text": [
      "[0, 100, 2, 300, 400, 5]\n"
     ]
    }
   ],
   "source": [
    "numbers[3:5] = [300, 400]\n",
    "print(numbers)"
   ]
  },
  {
   "cell_type": "markdown",
   "id": "081fd2cb",
   "metadata": {},
   "source": [
    "### Add"
   ]
  },
  {
   "cell_type": "code",
   "execution_count": 20,
   "id": "459501b5",
   "metadata": {
    "tags": [
     "thebe-init"
    ]
   },
   "outputs": [
    {
     "name": "stdout",
     "output_type": "stream",
     "text": [
      "['bear', 'chimpanzee', 'elephant']\n"
     ]
    }
   ],
   "source": [
    "animals = [\"bear\", \"chimpanzee\", \"elephant\"]\n",
    "print(animals)"
   ]
  },
  {
   "cell_type": "markdown",
   "id": "7178d96a",
   "metadata": {},
   "source": [
    "#### To end"
   ]
  },
  {
   "cell_type": "code",
   "execution_count": 21,
   "id": "ad402dd7",
   "metadata": {},
   "outputs": [
    {
     "name": "stdout",
     "output_type": "stream",
     "text": [
      "['bear', 'chimpanzee', 'elephant', 'hedgehog']\n"
     ]
    }
   ],
   "source": [
    "animals.append(\"hedgehog\")\n",
    "print(animals)"
   ]
  },
  {
   "cell_type": "markdown",
   "id": "05bc2bf8",
   "metadata": {},
   "source": [
    "#### At a specific position"
   ]
  },
  {
   "cell_type": "code",
   "execution_count": 22,
   "id": "559760c0",
   "metadata": {},
   "outputs": [
    {
     "name": "stdout",
     "output_type": "stream",
     "text": [
      "['bear', 'chimpanzee', 'dolphin', 'elephant', 'hedgehog']\n"
     ]
    }
   ],
   "source": [
    "animals.insert(2, \"dolphin\")\n",
    "print(animals)"
   ]
  },
  {
   "cell_type": "code",
   "execution_count": 23,
   "id": "ea8c82ba",
   "metadata": {},
   "outputs": [
    {
     "name": "stdout",
     "output_type": "stream",
     "text": [
      "['antelope', 'bear', 'chimpanzee', 'dolphin', 'elephant', 'hedgehog']\n"
     ]
    }
   ],
   "source": [
    "animals.insert(0, \"antelope\")\n",
    "print(animals)"
   ]
  },
  {
   "cell_type": "markdown",
   "id": "5c79afd7",
   "metadata": {},
   "source": [
    "#### From iterable\n",
    "\n",
    "##### Using `.extend()`"
   ]
  },
  {
   "cell_type": "code",
   "execution_count": 24,
   "id": "40aae224",
   "metadata": {},
   "outputs": [
    {
     "name": "stdout",
     "output_type": "stream",
     "text": [
      "['antelope',\n",
      " 'bear',\n",
      " 'chimpanzee',\n",
      " 'dolphin',\n",
      " 'elephant',\n",
      " 'hedgehog',\n",
      " 'lynx',\n",
      " 'ocelot',\n",
      " 'puma']\n"
     ]
    }
   ],
   "source": [
    "from pprint import pprint\n",
    "\n",
    "animals.extend([\"lynx\", \"ocelot\", \"puma\"])\n",
    "pprint(animals)"
   ]
  },
  {
   "cell_type": "markdown",
   "id": "6c6df120",
   "metadata": {},
   "source": [
    "##### With concatonation"
   ]
  },
  {
   "cell_type": "code",
   "execution_count": 25,
   "id": "c69fb0ff",
   "metadata": {},
   "outputs": [
    {
     "name": "stdout",
     "output_type": "stream",
     "text": [
      "['antelope',\n",
      " 'bear',\n",
      " 'chimpanzee',\n",
      " 'dolphin',\n",
      " 'elephant',\n",
      " 'hedgehog',\n",
      " 'lynx',\n",
      " 'ocelot',\n",
      " 'puma',\n",
      " 'skink',\n",
      " 'turtle',\n",
      " 'viper']\n"
     ]
    }
   ],
   "source": [
    "animals = animals + [\"skink\", \"turtle\", \"viper\"]\n",
    "pprint(animals)"
   ]
  },
  {
   "cell_type": "markdown",
   "id": "98f59b85",
   "metadata": {},
   "source": [
    "Or using the `+=` operator:"
   ]
  },
  {
   "cell_type": "code",
   "execution_count": 26,
   "id": "7147e4fc",
   "metadata": {},
   "outputs": [
    {
     "name": "stdout",
     "output_type": "stream",
     "text": [
      "['antelope',\n",
      " 'bear',\n",
      " 'chimpanzee',\n",
      " 'dolphin',\n",
      " 'elephant',\n",
      " 'hedgehog',\n",
      " 'lynx',\n",
      " 'ocelot',\n",
      " 'puma',\n",
      " 'skink',\n",
      " 'turtle',\n",
      " 'viper',\n",
      " 'wolf',\n",
      " 'zebra']\n"
     ]
    }
   ],
   "source": [
    "animals += [\"wolf\", \"zebra\"]\n",
    "pprint(animals)"
   ]
  },
  {
   "cell_type": "markdown",
   "id": "5bcd339c",
   "metadata": {},
   "source": [
    "##### Repeteadly with multiplication"
   ]
  },
  {
   "cell_type": "code",
   "execution_count": 27,
   "id": "19d0afa6",
   "metadata": {},
   "outputs": [
    {
     "name": "stdout",
     "output_type": "stream",
     "text": [
      "['rinse', 'repeat']\n",
      "['rinse', 'repeat', 'rinse', 'repeat', 'rinse', 'repeat']\n"
     ]
    }
   ],
   "source": [
    "steps = [\"rinse\", \"repeat\"]\n",
    "print(steps)\n",
    "\n",
    "steps = (steps * 3)\n",
    "print(steps)"
   ]
  },
  {
   "cell_type": "markdown",
   "id": "8646e1cb",
   "metadata": {},
   "source": [
    "Or using the `*=` operator:"
   ]
  },
  {
   "cell_type": "code",
   "execution_count": 28,
   "id": "b25e55ba",
   "metadata": {},
   "outputs": [
    {
     "name": "stdout",
     "output_type": "stream",
     "text": [
      "['rinse', 'repeat']\n",
      "['rinse', 'repeat', 'rinse', 'repeat', 'rinse', 'repeat']\n"
     ]
    }
   ],
   "source": [
    "steps = [\"rinse\", \"repeat\"]\n",
    "print(steps)\n",
    "\n",
    "steps *= 3\n",
    "print(steps)"
   ]
  },
  {
   "cell_type": "markdown",
   "id": "6882b0b4",
   "metadata": {},
   "source": [
    "### Remove"
   ]
  },
  {
   "cell_type": "code",
   "execution_count": 29,
   "id": "28ce836f",
   "metadata": {},
   "outputs": [
    {
     "name": "stdout",
     "output_type": "stream",
     "text": [
      "['H', 'e', 'l', 'l', ' ', 'w', 'o', 'r', 'l', 'd']\n"
     ]
    }
   ],
   "source": [
    "chars = list(\"Hello world\")\n",
    "\n",
    "del chars[4]\n",
    "print(chars)"
   ]
  },
  {
   "cell_type": "markdown",
   "id": "9fd1d853",
   "metadata": {},
   "source": [
    "#### By index"
   ]
  },
  {
   "cell_type": "code",
   "execution_count": 30,
   "id": "1282238e",
   "metadata": {},
   "outputs": [
    {
     "name": "stdout",
     "output_type": "stream",
     "text": [
      "['H', 'e', 'l', 'l', ' ', 'w', 'o', 'r', 'l', 'd']\n"
     ]
    }
   ],
   "source": [
    "chars = list(\"Hello world\")\n",
    "\n",
    "del chars[4]\n",
    "print(chars)"
   ]
  },
  {
   "cell_type": "markdown",
   "id": "cd98072e",
   "metadata": {},
   "source": [
    "#### By value\n",
    "\n",
    "Remove first occurance of value using the `.remove() method`:"
   ]
  },
  {
   "cell_type": "code",
   "execution_count": 31,
   "id": "cfdd7dcf",
   "metadata": {},
   "outputs": [
    {
     "name": "stdout",
     "output_type": "stream",
     "text": [
      "['H', 'e', 'l', 'o', ' ', 'w', 'o', 'r', 'l', 'd']\n"
     ]
    }
   ],
   "source": [
    "chars = list(\"Hello world\")\n",
    "\n",
    "chars.remove(\"l\")\n",
    "print(chars)"
   ]
  },
  {
   "cell_type": "markdown",
   "id": "b8f32b27",
   "metadata": {},
   "source": [
    "#### By slice\n",
    "\n",
    "Using the `del` keyword:"
   ]
  },
  {
   "cell_type": "code",
   "execution_count": 32,
   "id": "6156e505",
   "metadata": {},
   "outputs": [
    {
     "name": "stdout",
     "output_type": "stream",
     "text": [
      "['H', 'e', 'l', 'd']\n"
     ]
    }
   ],
   "source": [
    "chars = list(\"Hello world\")\n",
    "\n",
    "del chars[2:9]\n",
    "print(chars)"
   ]
  },
  {
   "cell_type": "markdown",
   "id": "cd09b84b",
   "metadata": {},
   "source": [
    "By assigning to an empty list:"
   ]
  },
  {
   "cell_type": "code",
   "execution_count": 33,
   "id": "9d8ced62",
   "metadata": {},
   "outputs": [
    {
     "name": "stdout",
     "output_type": "stream",
     "text": [
      "['l', 'o', ' ', 'w', 'o', 'r', 'l', 'd']\n"
     ]
    }
   ],
   "source": [
    "chars = list(\"Hello world\")\n",
    "\n",
    "chars[0:3] = []\n",
    "print(chars)"
   ]
  },
  {
   "cell_type": "markdown",
   "id": "8344bb79",
   "metadata": {},
   "source": [
    "#### All elements"
   ]
  },
  {
   "cell_type": "code",
   "execution_count": 34,
   "id": "e045eb9e",
   "metadata": {},
   "outputs": [
    {
     "name": "stdout",
     "output_type": "stream",
     "text": [
      "[]\n"
     ]
    }
   ],
   "source": [
    "chars = list(\"Hello world\")\n",
    "\n",
    "chars.clear()\n",
    "print(chars)"
   ]
  },
  {
   "cell_type": "markdown",
   "id": "dae6489a",
   "metadata": {},
   "source": [
    "#### Remove and return\n",
    "\n",
    "##### The last element"
   ]
  },
  {
   "cell_type": "code",
   "execution_count": 35,
   "id": "f611d0d1",
   "metadata": {},
   "outputs": [
    {
     "name": "stdout",
     "output_type": "stream",
     "text": [
      "removed: 'd' \n",
      "\n",
      "['H', 'e', 'l', 'l', 'o', ' ', 'w', 'o', 'r', 'l']\n"
     ]
    }
   ],
   "source": [
    "chars = list(\"Hello world\")\n",
    "\n",
    "removed = chars.pop()\n",
    "\n",
    "print(\"removed:\", repr(removed), \"\\n\")\n",
    "print(chars)"
   ]
  },
  {
   "cell_type": "markdown",
   "id": "c2a58568",
   "metadata": {},
   "source": [
    "##### A specific element by position"
   ]
  },
  {
   "cell_type": "code",
   "execution_count": 36,
   "id": "c603d8be",
   "metadata": {},
   "outputs": [
    {
     "name": "stdout",
     "output_type": "stream",
     "text": [
      "removed: 'l' \n",
      "\n",
      "['H', 'e', 'l', 'o', ' ', 'w', 'o', 'r', 'l', 'd']\n"
     ]
    }
   ],
   "source": [
    "chars = list(\"Hello world\")\n",
    "\n",
    "removed = chars.pop(2)\n",
    "\n",
    "print(\"removed:\", repr(removed), \"\\n\")\n",
    "print(chars)"
   ]
  },
  {
   "cell_type": "markdown",
   "id": "fb39b6b3",
   "metadata": {},
   "source": [
    "Membership\n",
    "----------"
   ]
  },
  {
   "cell_type": "code",
   "execution_count": 37,
   "id": "11c3ffeb",
   "metadata": {
    "tags": [
     "thebe-init"
    ]
   },
   "outputs": [],
   "source": [
    "chars = list(\"Mississippi\")\n",
    "words = ['Welcome', 'to', 'Python', 'Class']"
   ]
  },
  {
   "cell_type": "markdown",
   "id": "05cd1e03",
   "metadata": {},
   "source": [
    "### Contains\n",
    "\n",
    "Check if list contains value using the `in` operator:"
   ]
  },
  {
   "cell_type": "code",
   "execution_count": 38,
   "id": "97ece0ca",
   "metadata": {},
   "outputs": [
    {
     "data": {
      "text/plain": [
       "True"
      ]
     },
     "execution_count": 38,
     "metadata": {},
     "output_type": "execute_result"
    }
   ],
   "source": [
    "\"Class\" in words"
   ]
  },
  {
   "cell_type": "markdown",
   "id": "04fe8bb6",
   "metadata": {},
   "source": [
    "Check if list does not contains value using the `not in` operator:"
   ]
  },
  {
   "cell_type": "code",
   "execution_count": 39,
   "id": "f283cffa",
   "metadata": {},
   "outputs": [
    {
     "data": {
      "text/plain": [
       "False"
      ]
     },
     "execution_count": 39,
     "metadata": {},
     "output_type": "execute_result"
    }
   ],
   "source": [
    "\"Class\" not in words"
   ]
  },
  {
   "cell_type": "markdown",
   "id": "53ae78b3",
   "metadata": {},
   "source": [
    "### Count\n",
    "\n",
    "Number of times value occurs in list:"
   ]
  },
  {
   "cell_type": "code",
   "execution_count": 40,
   "id": "d4d1fa3b",
   "metadata": {},
   "outputs": [
    {
     "data": {
      "text/plain": [
       "4"
      ]
     },
     "execution_count": 40,
     "metadata": {},
     "output_type": "execute_result"
    }
   ],
   "source": [
    "chars.count(\"i\")"
   ]
  },
  {
   "cell_type": "markdown",
   "id": "67689001",
   "metadata": {},
   "source": [
    "### Index\n",
    "\n",
    "To look up the index number of a particular value, use the `.index()` method.\n",
    "\n",
    "Get the first index number of value:"
   ]
  },
  {
   "cell_type": "code",
   "execution_count": 41,
   "id": "9701784d",
   "metadata": {},
   "outputs": [
    {
     "data": {
      "text/plain": [
       "2"
      ]
     },
     "execution_count": 41,
     "metadata": {},
     "output_type": "execute_result"
    }
   ],
   "source": [
    "chars.index(\"s\")"
   ]
  },
  {
   "cell_type": "markdown",
   "id": "dd28e488",
   "metadata": {},
   "source": [
    "Same, but look in `chars[3:]`:"
   ]
  },
  {
   "cell_type": "code",
   "execution_count": 42,
   "id": "78b934d5",
   "metadata": {},
   "outputs": [
    {
     "data": {
      "text/plain": [
       "3"
      ]
     },
     "execution_count": 42,
     "metadata": {},
     "output_type": "execute_result"
    }
   ],
   "source": [
    "chars.index(\"s\", 3)"
   ]
  },
  {
   "cell_type": "markdown",
   "id": "61ed3ee4",
   "metadata": {},
   "source": [
    "Same, but look in `chars[5:9]`:"
   ]
  },
  {
   "cell_type": "code",
   "execution_count": 43,
   "id": "e7bdfe3c",
   "metadata": {},
   "outputs": [
    {
     "data": {
      "text/plain": [
       "7"
      ]
     },
     "execution_count": 43,
     "metadata": {},
     "output_type": "execute_result"
    }
   ],
   "source": [
    "chars.index(\"i\", 5, 9)"
   ]
  },
  {
   "cell_type": "markdown",
   "id": "4a300373",
   "metadata": {},
   "source": [
    "Iteration\n",
    "---------\n",
    "\n",
    "### for loop\n",
    "\n",
    "Iterate over each element:"
   ]
  },
  {
   "cell_type": "code",
   "execution_count": 44,
   "id": "224ab371",
   "metadata": {},
   "outputs": [
    {
     "name": "stdout",
     "output_type": "stream",
     "text": [
      "red\n",
      "blue\n",
      "green\n"
     ]
    }
   ],
   "source": [
    "colors = [\"red\", \"blue\", \"green\"]\n",
    "for item in colors:\n",
    "  print(item)"
   ]
  },
  {
   "cell_type": "markdown",
   "id": "dce446db",
   "metadata": {},
   "source": [
    "#### enumerate\n",
    "\n",
    "Iterate over each index number and element:"
   ]
  },
  {
   "cell_type": "code",
   "execution_count": 45,
   "id": "6228504b",
   "metadata": {},
   "outputs": [
    {
     "name": "stdout",
     "output_type": "stream",
     "text": [
      "0 breakfast\n",
      "1 lunch\n",
      "2 dinner\n"
     ]
    }
   ],
   "source": [
    "meals = [\"breakfast\", \"lunch\", \"dinner\"]\n",
    "for i, item in enumerate(meals):\n",
    "  print(i, item)"
   ]
  },
  {
   "cell_type": "markdown",
   "id": "bcad6644",
   "metadata": {},
   "source": [
    "Iterate over each index number and element value, starting `i` at `1`:"
   ]
  },
  {
   "cell_type": "code",
   "execution_count": 46,
   "id": "5608222b",
   "metadata": {},
   "outputs": [
    {
     "name": "stdout",
     "output_type": "stream",
     "text": [
      "1 water\n",
      "2 tea\n",
      "3 coffee\n"
     ]
    }
   ],
   "source": [
    "drinks = [\"water\", \"tea\", \"coffee\"]\n",
    "for i, item in enumerate(drinks, 1):\n",
    "  print(i, item)"
   ]
  },
  {
   "cell_type": "markdown",
   "id": "be9aab8b",
   "metadata": {},
   "source": [
    "Aggregation\n",
    "-----------\n",
    "\n",
    "Functions that provide information about the container as a whole.\n",
    "\n",
    "### Length"
   ]
  },
  {
   "cell_type": "code",
   "execution_count": 47,
   "id": "8c136733",
   "metadata": {},
   "outputs": [
    {
     "data": {
      "text/plain": [
       "4"
      ]
     },
     "execution_count": 47,
     "metadata": {},
     "output_type": "execute_result"
    }
   ],
   "source": [
    "len([0, 1, 2, 3])"
   ]
  },
  {
   "cell_type": "markdown",
   "id": "0f47b44f",
   "metadata": {},
   "source": [
    "### Maximum value"
   ]
  },
  {
   "cell_type": "code",
   "execution_count": 48,
   "id": "e75283b4",
   "metadata": {},
   "outputs": [
    {
     "data": {
      "text/plain": [
       "3"
      ]
     },
     "execution_count": 48,
     "metadata": {},
     "output_type": "execute_result"
    }
   ],
   "source": [
    "max([0, 1, 2, 3])"
   ]
  },
  {
   "cell_type": "markdown",
   "id": "17f8a613",
   "metadata": {},
   "source": [
    "### Minimum value"
   ]
  },
  {
   "cell_type": "code",
   "execution_count": 49,
   "id": "34f6f38a",
   "metadata": {},
   "outputs": [
    {
     "data": {
      "text/plain": [
       "0"
      ]
     },
     "execution_count": 49,
     "metadata": {},
     "output_type": "execute_result"
    }
   ],
   "source": [
    "min([0, 1, 2, 3])"
   ]
  },
  {
   "cell_type": "markdown",
   "id": "0c9c2071",
   "metadata": {},
   "source": [
    "### Sum of values"
   ]
  },
  {
   "cell_type": "code",
   "execution_count": 50,
   "id": "f9dadd74",
   "metadata": {},
   "outputs": [
    {
     "data": {
      "text/plain": [
       "6"
      ]
     },
     "execution_count": 50,
     "metadata": {},
     "output_type": "execute_result"
    }
   ],
   "source": [
    "sum([0, 1, 2, 3])"
   ]
  },
  {
   "cell_type": "markdown",
   "id": "e57f5ba8",
   "metadata": {},
   "source": [
    "### any\n",
    "\n",
    "Return `True` if any elements are truthy:"
   ]
  },
  {
   "cell_type": "code",
   "execution_count": 51,
   "id": "698440dd",
   "metadata": {},
   "outputs": [
    {
     "data": {
      "text/plain": [
       "False"
      ]
     },
     "execution_count": 51,
     "metadata": {},
     "output_type": "execute_result"
    }
   ],
   "source": [
    "any([0, False, \"\"])"
   ]
  },
  {
   "cell_type": "code",
   "execution_count": 52,
   "id": "44a1e7ff",
   "metadata": {},
   "outputs": [
    {
     "data": {
      "text/plain": [
       "True"
      ]
     },
     "execution_count": 52,
     "metadata": {},
     "output_type": "execute_result"
    }
   ],
   "source": [
    "any([0, 1, 2, 3])"
   ]
  },
  {
   "cell_type": "markdown",
   "id": "1b1c37c3",
   "metadata": {},
   "source": [
    "### all\n",
    "\n",
    "Return `True` if all elements are truthy:"
   ]
  },
  {
   "cell_type": "code",
   "execution_count": 53,
   "id": "214e6d16",
   "metadata": {},
   "outputs": [
    {
     "data": {
      "text/plain": [
       "False"
      ]
     },
     "execution_count": 53,
     "metadata": {},
     "output_type": "execute_result"
    }
   ],
   "source": [
    "all([0, 1, 2, 3])"
   ]
  },
  {
   "cell_type": "code",
   "execution_count": 54,
   "id": "71eca4c0",
   "metadata": {},
   "outputs": [
    {
     "data": {
      "text/plain": [
       "True"
      ]
     },
     "execution_count": 54,
     "metadata": {},
     "output_type": "execute_result"
    }
   ],
   "source": [
    "all([True, 1, \"hello\"])"
   ]
  },
  {
   "cell_type": "markdown",
   "id": "8b67de89",
   "metadata": {},
   "source": [
    "Copying\n",
    "-------"
   ]
  },
  {
   "cell_type": "code",
   "execution_count": 55,
   "id": "97a4ab3b",
   "metadata": {
    "tags": [
     "thebe-init"
    ]
   },
   "outputs": [],
   "source": [
    "DEFAULTS = [\n",
    "  {\n",
    "    'name': \"Joe Smith\",\n",
    "    'email': 'joe.smith@gmail.com',\n",
    "  },\n",
    "  {\n",
    "    'name': \"Jane Doe\",\n",
    "    'email': \"jane.doe@gmail.com\"\n",
    "  }\n",
    "]"
   ]
  },
  {
   "cell_type": "markdown",
   "id": "85849ab9",
   "metadata": {},
   "source": [
    "### Alias\n",
    "\n",
    "A {term}`reference` or {term}`alias` creates a new variable that points to the\n",
    "same object."
   ]
  },
  {
   "cell_type": "code",
   "execution_count": 56,
   "id": "f8cc61e3",
   "metadata": {},
   "outputs": [
    {
     "data": {
      "text/plain": [
       "True"
      ]
     },
     "execution_count": 56,
     "metadata": {},
     "output_type": "execute_result"
    }
   ],
   "source": [
    "authors = DEFAULTS\n",
    "\n",
    "authors is DEFAULTS"
   ]
  },
  {
   "cell_type": "markdown",
   "id": "61e9c770",
   "metadata": {},
   "source": [
    "### Shallow copy\n",
    "\n",
    "A {term}`shallow copy` creates a new container object then adds references to elements.\n",
    "\n",
    "Using `.copy()`:"
   ]
  },
  {
   "cell_type": "code",
   "execution_count": 57,
   "id": "355ba7e0",
   "metadata": {},
   "outputs": [
    {
     "name": "stdout",
     "output_type": "stream",
     "text": [
      "False\n",
      "True\n"
     ]
    }
   ],
   "source": [
    "authors = DEFAULTS.copy()\n",
    "\n",
    "print(authors is DEFAULTS)\n",
    "print(authors[0] is DEFAULTS[0])"
   ]
  },
  {
   "cell_type": "markdown",
   "id": "ad829a25",
   "metadata": {},
   "source": [
    "Using `copy.copy()`:"
   ]
  },
  {
   "cell_type": "code",
   "execution_count": 58,
   "id": "675952f3",
   "metadata": {},
   "outputs": [
    {
     "name": "stdout",
     "output_type": "stream",
     "text": [
      "False\n",
      "True\n"
     ]
    }
   ],
   "source": [
    "import copy\n",
    "\n",
    "authors = copy.copy(DEFAULTS)\n",
    "\n",
    "print(authors is DEFAULTS)\n",
    "print(authors[0] is DEFAULTS[0])"
   ]
  },
  {
   "cell_type": "markdown",
   "id": "980e9b15",
   "metadata": {},
   "source": [
    "Using a slice:"
   ]
  },
  {
   "cell_type": "code",
   "execution_count": 59,
   "id": "a679f752",
   "metadata": {},
   "outputs": [
    {
     "name": "stdout",
     "output_type": "stream",
     "text": [
      "False\n",
      "True\n"
     ]
    }
   ],
   "source": [
    "authors = DEFAULTS[:]\n",
    "\n",
    "print(authors is DEFAULTS)\n",
    "print(authors[0] is DEFAULTS[0])"
   ]
  },
  {
   "cell_type": "markdown",
   "id": "ab298d7e",
   "metadata": {},
   "source": [
    "### Deep copy\n",
    "\n",
    "A {term}`deep copy` creates a new container object then recursively adds the copies of nested elements."
   ]
  },
  {
   "cell_type": "code",
   "execution_count": 60,
   "id": "09b97c56",
   "metadata": {},
   "outputs": [
    {
     "name": "stdout",
     "output_type": "stream",
     "text": [
      "False\n",
      "False\n"
     ]
    }
   ],
   "source": [
    "import copy\n",
    "authors = copy.deepcopy(DEFAULTS)\n",
    "\n",
    "print(authors is DEFAULTS)\n",
    "print(authors[0] is DEFAULTS[0])"
   ]
  },
  {
   "cell_type": "markdown",
   "id": "ce609406",
   "metadata": {},
   "source": [
    "Sorting\n",
    "-------"
   ]
  },
  {
   "cell_type": "code",
   "execution_count": 61,
   "id": "1e41d68c",
   "metadata": {
    "tags": [
     "remove-input",
     "thebe-init"
    ]
   },
   "outputs": [],
   "source": [
    "\"\"\"setup for sorting section\"\"\"\n",
    "\n",
    "from pprint import pformat\n",
    "\n",
    "def pprint(obj):\n",
    "  \"\"\"pretty print obj if defined, otherwise print an equal number of lines\"\"\"\n",
    "  if obj:\n",
    "    print(pformat(obj, width=40))\n",
    "  else:\n",
    "    print(\"-\" + (\"\\n\"*(len(FRUIT)-1)) + repr(obj))"
   ]
  },
  {
   "cell_type": "code",
   "execution_count": 62,
   "id": "5649b258",
   "metadata": {
    "tags": [
     "thebe-init"
    ]
   },
   "outputs": [],
   "source": [
    "\"\"\"setup for sorting section\"\"\"\n",
    "\n",
    "# define global FRUIT list\n",
    "FRUIT = [\"cherry\", \"apple\", \"date\", \"bananna\", \"elderberry\"]"
   ]
  },
  {
   "cell_type": "markdown",
   "id": "8bab6ca5",
   "metadata": {},
   "source": [
    "### Returned sorting\n",
    "\n",
    "The following functions return a sorted version of the collection and leave\n",
    "original collection unmodified."
   ]
  },
  {
   "cell_type": "code",
   "execution_count": 63,
   "id": "6b6b4ac9",
   "metadata": {
    "tags": [
     "thebe-init"
    ]
   },
   "outputs": [
    {
     "name": "stdout",
     "output_type": "stream",
     "text": [
      "['cherry',\n",
      " 'apple',\n",
      " 'date',\n",
      " 'bananna',\n",
      " 'elderberry']\n"
     ]
    }
   ],
   "source": [
    "# copy fruit list\n",
    "fruit = FRUIT[:]\n",
    "pprint(fruit)"
   ]
  },
  {
   "cell_type": "markdown",
   "id": "e40af0c5",
   "metadata": {},
   "source": [
    "#### Ascending order"
   ]
  },
  {
   "cell_type": "code",
   "execution_count": 64,
   "id": "1fe42131",
   "metadata": {},
   "outputs": [
    {
     "name": "stdout",
     "output_type": "stream",
     "text": [
      "['apple',\n",
      " 'bananna',\n",
      " 'cherry',\n",
      " 'date',\n",
      " 'elderberry']\n"
     ]
    }
   ],
   "source": [
    "result = sorted(fruit)\n",
    "pprint(result)"
   ]
  },
  {
   "cell_type": "markdown",
   "id": "02610604",
   "metadata": {},
   "source": [
    "#### Descending order"
   ]
  },
  {
   "cell_type": "code",
   "execution_count": 65,
   "id": "a24f633a",
   "metadata": {},
   "outputs": [
    {
     "name": "stdout",
     "output_type": "stream",
     "text": [
      "['elderberry',\n",
      " 'date',\n",
      " 'cherry',\n",
      " 'bananna',\n",
      " 'apple']\n"
     ]
    }
   ],
   "source": [
    "result = sorted(fruit, reverse=True)\n",
    "pprint(result)"
   ]
  },
  {
   "cell_type": "markdown",
   "id": "cb08df8b",
   "metadata": {},
   "source": [
    "#### Reverse order"
   ]
  },
  {
   "cell_type": "code",
   "execution_count": 66,
   "id": "0d189f83",
   "metadata": {},
   "outputs": [
    {
     "name": "stdout",
     "output_type": "stream",
     "text": [
      "['elderberry',\n",
      " 'bananna',\n",
      " 'date',\n",
      " 'apple',\n",
      " 'cherry']\n"
     ]
    }
   ],
   "source": [
    "result = list(reversed(fruit))\n",
    "pprint(result)"
   ]
  },
  {
   "cell_type": "markdown",
   "id": "ff227a75",
   "metadata": {},
   "source": [
    "#### Order by callable key\n",
    "\n",
    "Using function:"
   ]
  },
  {
   "cell_type": "code",
   "execution_count": 67,
   "id": "cbc15128",
   "metadata": {},
   "outputs": [
    {
     "name": "stdout",
     "output_type": "stream",
     "text": [
      "['date',\n",
      " 'apple',\n",
      " 'cherry',\n",
      " 'bananna',\n",
      " 'elderberry']\n"
     ]
    }
   ],
   "source": [
    "def order_by_length(text):\n",
    "    return len(text)\n",
    "\n",
    "result = sorted(fruit, key=order_by_length)\n",
    "pprint(result)"
   ]
  },
  {
   "cell_type": "markdown",
   "id": "de9ed8c1",
   "metadata": {},
   "source": [
    "Using lambda:"
   ]
  },
  {
   "cell_type": "code",
   "execution_count": 68,
   "id": "4d99aef6",
   "metadata": {},
   "outputs": [
    {
     "name": "stdout",
     "output_type": "stream",
     "text": [
      "['date',\n",
      " 'apple',\n",
      " 'cherry',\n",
      " 'bananna',\n",
      " 'elderberry']\n"
     ]
    }
   ],
   "source": [
    "result = sorted(fruit, key=lambda v: len(v))\n",
    "pprint(result)"
   ]
  },
  {
   "cell_type": "markdown",
   "id": "7da351f6",
   "metadata": {},
   "source": [
    "### In-place sorting\n",
    "\n",
    "The following methods and functions change the order of the original collection\n",
    "and return `None`.\n",
    "\n",
    "#### Ascending order"
   ]
  },
  {
   "cell_type": "code",
   "execution_count": 69,
   "id": "32f0ccb9",
   "metadata": {},
   "outputs": [
    {
     "name": "stdout",
     "output_type": "stream",
     "text": [
      "['cherry',\n",
      " 'apple',\n",
      " 'date',\n",
      " 'bananna',\n",
      " 'elderberry']\n",
      "--------------\n",
      "['apple',\n",
      " 'bananna',\n",
      " 'cherry',\n",
      " 'date',\n",
      " 'elderberry']\n"
     ]
    }
   ],
   "source": [
    "# reset fruit list\n",
    "fruit = FRUIT[:]\n",
    "pprint(fruit)\n",
    "print(\"--------------\")\n",
    "\n",
    "fruit.sort()\n",
    "pprint(fruit)"
   ]
  },
  {
   "cell_type": "markdown",
   "id": "1c058576",
   "metadata": {},
   "source": [
    "#### Descending order"
   ]
  },
  {
   "cell_type": "code",
   "execution_count": 70,
   "id": "8fdb11f3",
   "metadata": {},
   "outputs": [
    {
     "name": "stdout",
     "output_type": "stream",
     "text": [
      "['cherry',\n",
      " 'apple',\n",
      " 'date',\n",
      " 'bananna',\n",
      " 'elderberry']\n",
      "--------------\n",
      "['elderberry',\n",
      " 'date',\n",
      " 'cherry',\n",
      " 'bananna',\n",
      " 'apple']\n"
     ]
    }
   ],
   "source": [
    "# reset fruit list\n",
    "fruit = FRUIT[:]\n",
    "pprint(fruit)\n",
    "print(\"--------------\")\n",
    "\n",
    "fruit.sort(reverse=True)\n",
    "pprint(fruit)"
   ]
  },
  {
   "cell_type": "markdown",
   "id": "ff72ee85",
   "metadata": {},
   "source": [
    "#### Reverse order"
   ]
  },
  {
   "cell_type": "code",
   "execution_count": 71,
   "id": "19416399",
   "metadata": {},
   "outputs": [
    {
     "name": "stdout",
     "output_type": "stream",
     "text": [
      "['cherry',\n",
      " 'apple',\n",
      " 'date',\n",
      " 'bananna',\n",
      " 'elderberry']\n",
      "--------------\n",
      "['elderberry',\n",
      " 'bananna',\n",
      " 'date',\n",
      " 'apple',\n",
      " 'cherry']\n"
     ]
    }
   ],
   "source": [
    "# reset fruit list\n",
    "fruit = FRUIT[:]\n",
    "pprint(fruit)\n",
    "print(\"--------------\")\n",
    "\n",
    "fruit.reverse()\n",
    "pprint(fruit)"
   ]
  },
  {
   "cell_type": "markdown",
   "id": "c42a42c1",
   "metadata": {},
   "source": [
    "#### Order by callable key function\n",
    "\n",
    "Using function:"
   ]
  },
  {
   "cell_type": "code",
   "execution_count": 72,
   "id": "ee6794c2",
   "metadata": {},
   "outputs": [
    {
     "name": "stdout",
     "output_type": "stream",
     "text": [
      "['cherry',\n",
      " 'apple',\n",
      " 'date',\n",
      " 'bananna',\n",
      " 'elderberry']\n",
      "--------------\n",
      "['date',\n",
      " 'apple',\n",
      " 'cherry',\n",
      " 'bananna',\n",
      " 'elderberry']\n"
     ]
    }
   ],
   "source": [
    "# reset fruit list\n",
    "fruit = FRUIT[:]\n",
    "pprint(fruit)\n",
    "print(\"--------------\")\n",
    "\n",
    "def order_by_length(text):\n",
    "    return len(text)\n",
    "\n",
    "fruit.sort(key=order_by_length)\n",
    "pprint(fruit)"
   ]
  },
  {
   "cell_type": "markdown",
   "id": "0ee5f242",
   "metadata": {},
   "source": [
    "Using lambda:"
   ]
  },
  {
   "cell_type": "code",
   "execution_count": 73,
   "id": "bd9cb6e8",
   "metadata": {},
   "outputs": [
    {
     "name": "stdout",
     "output_type": "stream",
     "text": [
      "['cherry',\n",
      " 'apple',\n",
      " 'date',\n",
      " 'bananna',\n",
      " 'elderberry']\n",
      "--------------\n",
      "['date',\n",
      " 'apple',\n",
      " 'cherry',\n",
      " 'bananna',\n",
      " 'elderberry']\n"
     ]
    }
   ],
   "source": [
    "# reset fruit list\n",
    "fruit = FRUIT[:]\n",
    "pprint(fruit)\n",
    "print(\"--------------\")\n",
    "\n",
    "fruit.sort(key=lambda v:len(v))\n",
    "pprint(fruit)"
   ]
  },
  {
   "cell_type": "markdown",
   "id": "d42d5d31",
   "metadata": {},
   "source": [
    "#### Random order"
   ]
  },
  {
   "cell_type": "code",
   "execution_count": 74,
   "id": "d11e1775",
   "metadata": {},
   "outputs": [
    {
     "name": "stdout",
     "output_type": "stream",
     "text": [
      "['cherry',\n",
      " 'apple',\n",
      " 'date',\n",
      " 'bananna',\n",
      " 'elderberry']\n",
      "--------------\n",
      "['bananna',\n",
      " 'date',\n",
      " 'cherry',\n",
      " 'apple',\n",
      " 'elderberry']\n"
     ]
    }
   ],
   "source": [
    "# reset fruit list\n",
    "fruit = FRUIT[:]\n",
    "pprint(fruit)\n",
    "print(\"--------------\")\n",
    "\n",
    "from random import shuffle\n",
    "shuffle(fruit)\n",
    "pprint(fruit)"
   ]
  },
  {
   "cell_type": "markdown",
   "id": "382eec7b",
   "metadata": {},
   "source": [
    "Transformation\n",
    "--------------\n",
    "\n",
    "Generate a modified collection.\n",
    "\n",
    "### Mapping\n",
    "\n",
    "Produce a new collection containing the results from applying a function to\n",
    "each element in a collection."
   ]
  },
  {
   "cell_type": "code",
   "execution_count": 75,
   "id": "abc476c6",
   "metadata": {
    "tags": [
     "thebe-init"
    ]
   },
   "outputs": [],
   "source": [
    "\"\"\"Setup for the Mapping section\"\"\"\n",
    "\n",
    "# the collection to base mappings on\n",
    "birth_years = [1954, 1956, 1984, 1986]\n",
    "\n",
    "# used in relative_age()\n",
    "REL_YEAR = 1994\n",
    "\n",
    "# the function to apply\n",
    "def relative_age(year):\n",
    "  return REL_YEAR - year"
   ]
  },
  {
   "cell_type": "markdown",
   "id": "18101b20",
   "metadata": {},
   "source": [
    "#### Using a for loop"
   ]
  },
  {
   "cell_type": "code",
   "execution_count": 76,
   "id": "24b4a89f",
   "metadata": {},
   "outputs": [
    {
     "name": "stdout",
     "output_type": "stream",
     "text": [
      "[40, 38, 10, 8]\n"
     ]
    }
   ],
   "source": [
    "# initialize a list the same size as birth_years filled with None values\n",
    "ages = [None] * len(birth_years)\n",
    "\n",
    "# iterate over birth years and map the cooresponding element in ages to\n",
    "# the results from applying the function to that element\n",
    "for i, year in enumerate(birth_years):\n",
    "  ages[i] = relative_age(year)\n",
    "\n",
    "# print the ages list\n",
    "print(ages)"
   ]
  },
  {
   "cell_type": "markdown",
   "id": "c1191085",
   "metadata": {},
   "source": [
    "#### Using list comprehension"
   ]
  },
  {
   "cell_type": "code",
   "execution_count": 77,
   "id": "4296d8d0",
   "metadata": {
    "tags": [
     "thebe-init"
    ]
   },
   "outputs": [
    {
     "name": "stdout",
     "output_type": "stream",
     "text": [
      "[40, 38, 10, 8]\n"
     ]
    }
   ],
   "source": [
    "ages = [relative_age(year) for year in birth_years]\n",
    "\n",
    "print(ages)"
   ]
  },
  {
   "cell_type": "markdown",
   "id": "22e6e1c7",
   "metadata": {},
   "source": [
    "#### Using map"
   ]
  },
  {
   "cell_type": "code",
   "execution_count": 78,
   "id": "78311cb8",
   "metadata": {},
   "outputs": [
    {
     "name": "stdout",
     "output_type": "stream",
     "text": [
      "[40, 38, 10, 8]\n"
     ]
    }
   ],
   "source": [
    "ages = list(map(relative_age, birth_years))\n",
    "\n",
    "print(ages)"
   ]
  },
  {
   "cell_type": "markdown",
   "id": "efcf93b0",
   "metadata": {},
   "source": [
    "### Filtering\n",
    "\n",
    "Produce a new collection containing only elements which, when a applying a\n",
    "function, return a truthy value."
   ]
  },
  {
   "cell_type": "code",
   "execution_count": 79,
   "id": "e53a506f",
   "metadata": {
    "tags": [
     "thebe-init"
    ]
   },
   "outputs": [
    {
     "name": "stdout",
     "output_type": "stream",
     "text": [
      "[40, 38, 10, 8]\n"
     ]
    }
   ],
   "source": [
    "\"\"\"Setup for the Filtering section\"\"\"\n",
    "\n",
    "# the function to apply\n",
    "def is_adult(age):\n",
    "  return age >= 18\n",
    "\n",
    "# print the previously created ages collection to base the filterings on\n",
    "print(ages)"
   ]
  },
  {
   "cell_type": "markdown",
   "id": "1b90123d",
   "metadata": {},
   "source": [
    "#### Using a for loop"
   ]
  },
  {
   "cell_type": "code",
   "execution_count": 80,
   "id": "5e4255f6",
   "metadata": {},
   "outputs": [
    {
     "name": "stdout",
     "output_type": "stream",
     "text": [
      "[40, 38]\n"
     ]
    }
   ],
   "source": [
    "# initialze an empty list\n",
    "adults = []\n",
    "\n",
    "# iterate over ages and append elements that results in True\n",
    "# when applying the filtering function\n",
    "for age in ages:\n",
    "  if is_adult(age):\n",
    "    adults.append(age)\n",
    "\n",
    "# print the adults list\n",
    "print(adults)"
   ]
  },
  {
   "cell_type": "markdown",
   "id": "4dfe35b5",
   "metadata": {},
   "source": [
    "#### Using list comprehension"
   ]
  },
  {
   "cell_type": "code",
   "execution_count": 81,
   "id": "26b56a1c",
   "metadata": {},
   "outputs": [
    {
     "name": "stdout",
     "output_type": "stream",
     "text": [
      "[40, 38]\n"
     ]
    }
   ],
   "source": [
    "adults = [ age for age in ages if is_adult(age) ]\n",
    "\n",
    "print(adults)"
   ]
  },
  {
   "cell_type": "markdown",
   "id": "87874998",
   "metadata": {},
   "source": [
    "#### Using filter"
   ]
  },
  {
   "cell_type": "code",
   "execution_count": 82,
   "id": "dd8aa653",
   "metadata": {},
   "outputs": [
    {
     "name": "stdout",
     "output_type": "stream",
     "text": [
      "[40, 38]\n"
     ]
    }
   ],
   "source": [
    "adults = list(filter(is_adult, ages))\n",
    "\n",
    "print(adults)"
   ]
  },
  {
   "cell_type": "markdown",
   "id": "d00e4925",
   "metadata": {},
   "source": [
    "Typecasting\n",
    "-----------\n",
    "\n",
    "### str to list\n",
    "\n",
    "#### individual characters"
   ]
  },
  {
   "cell_type": "code",
   "execution_count": 83,
   "id": "aa46938b",
   "metadata": {},
   "outputs": [
    {
     "data": {
      "text/plain": [
       "['a', 'b', 'c']"
      ]
     },
     "execution_count": 83,
     "metadata": {},
     "output_type": "execute_result"
    }
   ],
   "source": [
    "list(\"abc\")"
   ]
  },
  {
   "cell_type": "markdown",
   "id": "a1c30ded",
   "metadata": {},
   "source": [
    "#### split on whitespace"
   ]
  },
  {
   "cell_type": "code",
   "execution_count": 84,
   "id": "b4d6400e",
   "metadata": {},
   "outputs": [
    {
     "data": {
      "text/plain": [
       "['list', 'info', 'search']"
      ]
     },
     "execution_count": 84,
     "metadata": {},
     "output_type": "execute_result"
    }
   ],
   "source": [
    "\"list info search\".split()"
   ]
  },
  {
   "cell_type": "markdown",
   "id": "9cf1d553",
   "metadata": {},
   "source": [
    "#### split on delimiter"
   ]
  },
  {
   "cell_type": "code",
   "execution_count": 85,
   "id": "3e7880dd",
   "metadata": {},
   "outputs": [
    {
     "data": {
      "text/plain": [
       "['555', '555', '5555']"
      ]
     },
     "execution_count": 85,
     "metadata": {},
     "output_type": "execute_result"
    }
   ],
   "source": [
    "\"555-555-5555\".split(\"-\")"
   ]
  },
  {
   "cell_type": "markdown",
   "id": "26debcb1",
   "metadata": {},
   "source": [
    "#### split on newlines"
   ]
  },
  {
   "cell_type": "code",
   "execution_count": 86,
   "id": "8f9bc104",
   "metadata": {},
   "outputs": [
    {
     "data": {
      "text/plain": [
       "['a', 'b', 'c']"
      ]
     },
     "execution_count": 86,
     "metadata": {},
     "output_type": "execute_result"
    }
   ],
   "source": [
    "\"a\\nb\\nc\\n\".splitlines()"
   ]
  },
  {
   "cell_type": "markdown",
   "id": "418cd0d1",
   "metadata": {},
   "source": [
    "#### split on pattern"
   ]
  },
  {
   "cell_type": "code",
   "execution_count": 87,
   "id": "a5d061e9",
   "metadata": {},
   "outputs": [
    {
     "data": {
      "text/plain": [
       "['github', 'com', 'git']"
      ]
     },
     "execution_count": 87,
     "metadata": {},
     "output_type": "execute_result"
    }
   ],
   "source": [
    "import re\n",
    "re.split(r\"[./]\", \"github.com/git\")"
   ]
  },
  {
   "cell_type": "markdown",
   "id": "9053d1a0",
   "metadata": {},
   "source": [
    "### dict to list"
   ]
  },
  {
   "cell_type": "code",
   "execution_count": 88,
   "id": "d1f51c97",
   "metadata": {
    "tags": [
     "thebe-init"
    ]
   },
   "outputs": [],
   "source": [
    "fruit_sizes = {'cherry': 6, 'bananna': 7, 'date': 4, 'elderberry': 10, 'apple': 5}"
   ]
  },
  {
   "cell_type": "markdown",
   "id": "97b5b1bf",
   "metadata": {},
   "source": [
    "#### keys"
   ]
  },
  {
   "cell_type": "code",
   "execution_count": 89,
   "id": "6d8f8c92",
   "metadata": {},
   "outputs": [
    {
     "data": {
      "text/plain": [
       "['cherry', 'bananna', 'date', 'elderberry', 'apple']"
      ]
     },
     "execution_count": 89,
     "metadata": {},
     "output_type": "execute_result"
    }
   ],
   "source": [
    "list(fruit_sizes)"
   ]
  },
  {
   "cell_type": "code",
   "execution_count": 90,
   "id": "b274dc6b",
   "metadata": {},
   "outputs": [
    {
     "data": {
      "text/plain": [
       "['cherry', 'bananna', 'date', 'elderberry', 'apple']"
      ]
     },
     "execution_count": 90,
     "metadata": {},
     "output_type": "execute_result"
    }
   ],
   "source": [
    "list(fruit_sizes.keys())"
   ]
  },
  {
   "cell_type": "markdown",
   "id": "3f10ce09",
   "metadata": {},
   "source": [
    "#### values"
   ]
  },
  {
   "cell_type": "code",
   "execution_count": 91,
   "id": "3db5d0e2",
   "metadata": {},
   "outputs": [
    {
     "data": {
      "text/plain": [
       "[6, 7, 4, 10, 5]"
      ]
     },
     "execution_count": 91,
     "metadata": {},
     "output_type": "execute_result"
    }
   ],
   "source": [
    "list(fruit_sizes.values())"
   ]
  },
  {
   "cell_type": "markdown",
   "id": "cff56fad",
   "metadata": {},
   "source": [
    "### list to string"
   ]
  },
  {
   "cell_type": "code",
   "execution_count": 92,
   "id": "b89c6c43",
   "metadata": {},
   "outputs": [
    {
     "data": {
      "text/plain": [
       "'abc'"
      ]
     },
     "execution_count": 92,
     "metadata": {},
     "output_type": "execute_result"
    }
   ],
   "source": [
    "\"\".join([\"a\", \"b\", \"c\"])"
   ]
  },
  {
   "cell_type": "markdown",
   "id": "6c76dd14",
   "metadata": {},
   "source": [
    "### list to dict"
   ]
  },
  {
   "cell_type": "code",
   "execution_count": 93,
   "id": "344fd774",
   "metadata": {},
   "outputs": [
    {
     "data": {
      "text/plain": [
       "{'a': 1, 'b': 2}"
      ]
     },
     "execution_count": 93,
     "metadata": {},
     "output_type": "execute_result"
    }
   ],
   "source": [
    "dict([[\"a\", 1], [\"b\", 2]])"
   ]
  },
  {
   "cell_type": "code",
   "execution_count": 94,
   "id": "5afaeb95",
   "metadata": {},
   "outputs": [
    {
     "data": {
      "text/plain": [
       "{'a': 1, 'b': 2}"
      ]
     },
     "execution_count": 94,
     "metadata": {},
     "output_type": "execute_result"
    }
   ],
   "source": [
    "dict(zip([\"a\", \"b\"], [1, 2]))"
   ]
  },
  {
   "cell_type": "markdown",
   "id": "6fab0c06",
   "metadata": {},
   "source": [
    "----\n",
    "\n",
    "% TODO\n",
    "% - [ ] nested lists\n",
    "% - [ ] comparisons"
   ]
  }
 ],
 "metadata": {
  "jupytext": {
   "formats": "md:myst",
   "text_representation": {
    "extension": ".md",
    "format_name": "myst"
   }
  },
  "kernelspec": {
   "display_name": "Python 3",
   "language": "python",
   "name": "python3"
  },
  "language_info": {
   "codemirror_mode": {
    "name": "ipython",
    "version": 3
   },
   "file_extension": ".py",
   "mimetype": "text/x-python",
   "name": "python",
   "nbconvert_exporter": "python",
   "pygments_lexer": "ipython3",
   "version": "3.8.11"
  },
  "source_map": [
   11,
   46,
   49,
   53,
   56,
   60,
   64,
   70,
   73,
   77,
   81,
   98,
   100,
   104,
   106,
   110,
   112,
   125,
   127,
   131,
   133,
   137,
   139,
   143,
   145,
   150,
   153,
   157,
   159,
   166,
   172,
   176,
   180,
   187,
   196,
   199,
   203,
   206,
   210,
   214,
   218,
   221,
   225,
   230,
   233,
   239,
   244,
   248,
   251,
   255,
   258,
   262,
   268,
   272,
   278,
   282,
   287,
   291,
   296,
   302,
   307,
   313,
   318,
   322,
   327,
   331,
   336,
   342,
   349,
   353,
   360,
   365,
   369,
   375,
   377,
   381,
   383,
   389,
   391,
   399,
   401,
   405,
   407,
   411,
   413,
   422,
   426,
   432,
   436,
   440,
   444,
   453,
   455,
   459,
   461,
   465,
   467,
   471,
   473,
   479,
   483,
   485,
   491,
   495,
   497,
   502,
   514,
   521,
   525,
   533,
   538,
   542,
   549,
   553,
   558,
   564,
   570,
   575,
   589,
   595,
   603,
   608,
   612,
   615,
   619,
   622,
   626,
   629,
   635,
   641,
   645,
   648,
   657,
   665,
   669,
   677,
   681,
   689,
   695,
   706,
   710,
   718,
   722,
   731,
   743,
   756,
   760,
   771,
   775,
   780,
   784,
   788,
   795,
   805,
   809,
   821,
   825,
   829,
   833,
   837,
   846,
   848,
   852,
   854,
   858,
   860,
   864,
   866,
   870,
   873,
   877,
   880,
   884,
   888,
   890,
   894,
   896,
   900,
   902,
   906,
   910,
   912
  ]
 },
 "nbformat": 4,
 "nbformat_minor": 5
}