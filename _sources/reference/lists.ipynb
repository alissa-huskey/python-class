{
 "cells": [
  {
   "cell_type": "markdown",
   "id": "34ce186a",
   "metadata": {},
   "source": [
    "Lists\n",
    "=====\n",
    "\n",
    "This page contains brief code snippets for `list` related operations. It is\n",
    "intended as a resource for quickly looking up the syntax for a particular task,\n",
    "most likely to jog a students memory.\n",
    "\n",
    "While you may well learn something here, it is not written as a lesson.\n",
    "\n",
    ":::{tip}\n",
    "\n",
    "You can modify and execute any of the code on this page.\n",
    "\n",
    "1. ![launch][] just click this icon at the top of the page\n",
    "1. ![live][] followed by this one\n",
    "\n",
    ":::\n",
    "\n",
    "[launch]: ../assets/rocket-icon.png\n",
    "[live]: ../assets/live-icon.png\n",
    "\n",
    "```{include} ../toc.md\n",
    "```\n",
    "\n",
    "Creating\n",
    "--------\n",
    "\n",
    "### Bracket syntax\n",
    "\n",
    "Create an empty list using `[` `]`:"
   ]
  },
  {
   "cell_type": "code",
   "execution_count": 1,
   "id": "d4ef2103",
   "metadata": {},
   "outputs": [
    {
     "name": "stdout",
     "output_type": "stream",
     "text": [
      "[]\n"
     ]
    }
   ],
   "source": [
    "a_list  = []\n",
    "print(a_list)"
   ]
  },
  {
   "cell_type": "markdown",
   "id": "f8f868d9",
   "metadata": {},
   "source": [
    "Create a list of `3` `None` elements:"
   ]
  },
  {
   "cell_type": "code",
   "execution_count": 2,
   "id": "21d601d4",
   "metadata": {},
   "outputs": [
    {
     "name": "stdout",
     "output_type": "stream",
     "text": [
      "[None, None, None]\n"
     ]
    }
   ],
   "source": [
    "b_list  = [None] * 3\n",
    "print(b_list)"
   ]
  },
  {
   "cell_type": "markdown",
   "id": "cdb0b3dd",
   "metadata": {},
   "source": [
    "Create a list with initial elements:"
   ]
  },
  {
   "cell_type": "code",
   "execution_count": 3,
   "id": "da520462",
   "metadata": {
    "tags": [
     "thebe-init"
    ]
   },
   "outputs": [
    {
     "name": "stdout",
     "output_type": "stream",
     "text": [
      "[0, 1, 2, 3, 4, 5]\n"
     ]
    }
   ],
   "source": [
    "numbers = [0, 1, 2, 3, 4, 5]\n",
    "print(numbers)"
   ]
  },
  {
   "cell_type": "markdown",
   "id": "f30b1393",
   "metadata": {},
   "source": [
    "### list constructor\n",
    "\n",
    "Create an empty list using the `list()` constructor:"
   ]
  },
  {
   "cell_type": "code",
   "execution_count": 4,
   "id": "ee5e200b",
   "metadata": {},
   "outputs": [
    {
     "name": "stdout",
     "output_type": "stream",
     "text": [
      "[]\n"
     ]
    }
   ],
   "source": [
    "c_list  = list()\n",
    "print(c_list)"
   ]
  },
  {
   "cell_type": "markdown",
   "id": "148a7787",
   "metadata": {},
   "source": [
    "Create a list from another iterable:"
   ]
  },
  {
   "cell_type": "code",
   "execution_count": 5,
   "id": "03b4bf82",
   "metadata": {
    "tags": [
     "thebe-init"
    ]
   },
   "outputs": [
    {
     "name": "stdout",
     "output_type": "stream",
     "text": [
      "['a', 'b', 'c', 'd', 'e', 'f', 'g', 'h', 'i', 'j', 'k', 'l', 'm', 'n', 'o', 'p', 'q', 'r', 's', 't', 'u', 'v', 'w', 'x', 'y', 'z']\n"
     ]
    }
   ],
   "source": [
    "letters = list(\"abcdefghijklmnopqrstuvwxyz\")\n",
    "print(letters)"
   ]
  },
  {
   "cell_type": "markdown",
   "id": "fca85bb5",
   "metadata": {},
   "source": [
    "Selecting Elements\n",
    "------------------\n",
    "\n",
    "Elements are accessed via {term}`subscription` with the syntax: {samp}`{COLLECTION}[{SELECTOR}]`.\n",
    "\n",
    "The `SELECTOR` can be:\n",
    "\n",
    "* {term}`index number`\n",
    "* {term}`negative index number`\n",
    "* {term}`slice`\n",
    "\n",
    "### Via index number\n",
    "\n",
    "First element:"
   ]
  },
  {
   "cell_type": "code",
   "execution_count": 6,
   "id": "69bba03f",
   "metadata": {},
   "outputs": [
    {
     "name": "stdout",
     "output_type": "stream",
     "text": [
      "a\n"
     ]
    }
   ],
   "source": [
    "print(letters[0])"
   ]
  },
  {
   "cell_type": "markdown",
   "id": "d2c13432",
   "metadata": {},
   "source": [
    "Second element:"
   ]
  },
  {
   "cell_type": "code",
   "execution_count": 7,
   "id": "ae9d804a",
   "metadata": {},
   "outputs": [
    {
     "name": "stdout",
     "output_type": "stream",
     "text": [
      "b\n"
     ]
    }
   ],
   "source": [
    "print(letters[1])"
   ]
  },
  {
   "cell_type": "markdown",
   "id": "fc61e2c2",
   "metadata": {},
   "source": [
    "Last element:"
   ]
  },
  {
   "cell_type": "code",
   "execution_count": 8,
   "id": "0aa72675",
   "metadata": {},
   "outputs": [
    {
     "name": "stdout",
     "output_type": "stream",
     "text": [
      "z\n"
     ]
    }
   ],
   "source": [
    "print(letters[-1])"
   ]
  },
  {
   "cell_type": "markdown",
   "id": "38cbd110",
   "metadata": {},
   "source": [
    "### Via slice\n",
    "\n",
    "Or the `SELECTOR` can be a {term}`slice`.\n",
    "\n",
    "The syntax is either of the following.\n",
    "\n",
    "* {samp}`{COLLECTION}[{START}:{STOP}]`\n",
    "* {samp}`{COLLECTION}[{START}:{STOP}:{STEP}]`\n",
    "\n",
    "From `numbers[1]` to before `numbers[3]`:"
   ]
  },
  {
   "cell_type": "code",
   "execution_count": 9,
   "id": "4cbe3905",
   "metadata": {},
   "outputs": [
    {
     "name": "stdout",
     "output_type": "stream",
     "text": [
      "[1, 2]\n"
     ]
    }
   ],
   "source": [
    "print(numbers[1:3])"
   ]
  },
  {
   "cell_type": "markdown",
   "id": "ea98a106",
   "metadata": {},
   "source": [
    "All but the first element:"
   ]
  },
  {
   "cell_type": "code",
   "execution_count": 10,
   "id": "edf45f2b",
   "metadata": {},
   "outputs": [
    {
     "name": "stdout",
     "output_type": "stream",
     "text": [
      "[1, 2, 3, 4, 5]\n"
     ]
    }
   ],
   "source": [
    "print(numbers[1:])"
   ]
  },
  {
   "cell_type": "markdown",
   "id": "22f8f75a",
   "metadata": {},
   "source": [
    "All but the last element:"
   ]
  },
  {
   "cell_type": "code",
   "execution_count": 11,
   "id": "30959ed6",
   "metadata": {},
   "outputs": [
    {
     "name": "stdout",
     "output_type": "stream",
     "text": [
      "[0, 1, 2, 3, 4]\n"
     ]
    }
   ],
   "source": [
    "print(numbers[:-1])"
   ]
  },
  {
   "cell_type": "markdown",
   "id": "40ee1354",
   "metadata": {},
   "source": [
    "Every other element from `numbers[3]` to before `numbers[15]`:"
   ]
  },
  {
   "cell_type": "code",
   "execution_count": 12,
   "id": "6d8dd0f0",
   "metadata": {},
   "outputs": [
    {
     "name": "stdout",
     "output_type": "stream",
     "text": [
      "[3, 5]\n"
     ]
    }
   ],
   "source": [
    "print(numbers[3:15:2])"
   ]
  },
  {
   "cell_type": "markdown",
   "id": "1a6274c6",
   "metadata": {},
   "source": [
    "Elements in reversed order with a negative `STEP` number and a `START` that is\n",
    "greater than `STOP`."
   ]
  },
  {
   "cell_type": "code",
   "execution_count": 13,
   "id": "823eabe5",
   "metadata": {},
   "outputs": [
    {
     "name": "stdout",
     "output_type": "stream",
     "text": [
      "[2, 1, 0]\n",
      "[5, 4]\n"
     ]
    }
   ],
   "source": [
    "print(numbers[2::-1])\n",
    "print(numbers[-1:-3:-1])"
   ]
  },
  {
   "cell_type": "markdown",
   "id": "5150df04",
   "metadata": {},
   "source": [
    "Entire list:"
   ]
  },
  {
   "cell_type": "code",
   "execution_count": 14,
   "id": "5a121dd1",
   "metadata": {},
   "outputs": [
    {
     "name": "stdout",
     "output_type": "stream",
     "text": [
      "[0, 1, 2, 3, 4, 5]\n"
     ]
    }
   ],
   "source": [
    "print(numbers[:])"
   ]
  },
  {
   "cell_type": "markdown",
   "id": "dfec17c9",
   "metadata": {},
   "source": [
    "### Exceptions\n",
    "\n",
    "An `IndexError` exception will be raised for any selectors using using\n",
    "non-existent index numbers."
   ]
  },
  {
   "cell_type": "code",
   "execution_count": 15,
   "id": "c4428410",
   "metadata": {
    "tags": [
     "raises-exception"
    ]
   },
   "outputs": [
    {
     "ename": "IndexError",
     "evalue": "list index out of range",
     "output_type": "error",
     "traceback": [
      "\u001b[0;31m---------------------------------------------------------------------------\u001b[0m",
      "\u001b[0;31mIndexError\u001b[0m                                Traceback (most recent call last)",
      "Cell \u001b[0;32mIn[15], line 1\u001b[0m\n\u001b[0;32m----> 1\u001b[0m value \u001b[38;5;241m=\u001b[39m \u001b[43mnumbers\u001b[49m\u001b[43m[\u001b[49m\u001b[38;5;241;43m10\u001b[39;49m\u001b[43m]\u001b[49m\n\u001b[1;32m      2\u001b[0m \u001b[38;5;28mprint\u001b[39m(value)\n",
      "\u001b[0;31mIndexError\u001b[0m: list index out of range"
     ]
    }
   ],
   "source": [
    "value = numbers[10]\n",
    "print(value)"
   ]
  },
  {
   "cell_type": "code",
   "execution_count": 16,
   "id": "63af3ec4",
   "metadata": {
    "tags": [
     "raises-exception"
    ]
   },
   "outputs": [
    {
     "ename": "IndexError",
     "evalue": "list index out of range",
     "output_type": "error",
     "traceback": [
      "\u001b[0;31m---------------------------------------------------------------------------\u001b[0m",
      "\u001b[0;31mIndexError\u001b[0m                                Traceback (most recent call last)",
      "Cell \u001b[0;32mIn[16], line 1\u001b[0m\n\u001b[0;32m----> 1\u001b[0m value \u001b[38;5;241m=\u001b[39m \u001b[43mnumbers\u001b[49m\u001b[43m[\u001b[49m\u001b[38;5;241;43m-\u001b[39;49m\u001b[38;5;241;43m10\u001b[39;49m\u001b[43m]\u001b[49m\n\u001b[1;32m      2\u001b[0m \u001b[38;5;28mprint\u001b[39m(value)\n",
      "\u001b[0;31mIndexError\u001b[0m: list index out of range"
     ]
    }
   ],
   "source": [
    "value = numbers[-10]\n",
    "print(value)"
   ]
  },
  {
   "cell_type": "markdown",
   "id": "d087ea7c",
   "metadata": {},
   "source": [
    "Suppress errors with a try except block:"
   ]
  },
  {
   "cell_type": "code",
   "execution_count": 17,
   "id": "9d71fef0",
   "metadata": {},
   "outputs": [
    {
     "name": "stdout",
     "output_type": "stream",
     "text": [
      "None\n"
     ]
    }
   ],
   "source": [
    "try:\n",
    "  value = numbers[10]\n",
    "except IndexError:\n",
    "  value = None\n",
    "\n",
    "print(value)"
   ]
  },
  {
   "cell_type": "markdown",
   "id": "acf40cc8",
   "metadata": {},
   "source": [
    "Modification\n",
    "------------\n",
    "\n",
    "### Change\n",
    "\n",
    "#### By index"
   ]
  },
  {
   "cell_type": "code",
   "execution_count": 18,
   "id": "8fb0a70c",
   "metadata": {},
   "outputs": [
    {
     "name": "stdout",
     "output_type": "stream",
     "text": [
      "[0, 100, 2, 3, 4, 5]\n"
     ]
    }
   ],
   "source": [
    "numbers[1] = 100\n",
    "print(numbers)"
   ]
  },
  {
   "cell_type": "markdown",
   "id": "8d2e6596",
   "metadata": {},
   "source": [
    "#### By slice"
   ]
  },
  {
   "cell_type": "code",
   "execution_count": 19,
   "id": "0bbd7ea4",
   "metadata": {},
   "outputs": [
    {
     "name": "stdout",
     "output_type": "stream",
     "text": [
      "[0, 100, 2, 300, 400, 5]\n"
     ]
    }
   ],
   "source": [
    "numbers[3:5] = [300, 400]\n",
    "print(numbers)"
   ]
  },
  {
   "cell_type": "markdown",
   "id": "7d8f17a0",
   "metadata": {},
   "source": [
    "### Add"
   ]
  },
  {
   "cell_type": "code",
   "execution_count": 20,
   "id": "3370a8ee",
   "metadata": {
    "tags": [
     "thebe-init"
    ]
   },
   "outputs": [
    {
     "name": "stdout",
     "output_type": "stream",
     "text": [
      "['bear', 'chimpanzee', 'elephant']\n"
     ]
    }
   ],
   "source": [
    "animals = [\"bear\", \"chimpanzee\", \"elephant\"]\n",
    "print(animals)"
   ]
  },
  {
   "cell_type": "markdown",
   "id": "56352b1e",
   "metadata": {},
   "source": [
    "#### To end"
   ]
  },
  {
   "cell_type": "code",
   "execution_count": 21,
   "id": "966c4fdf",
   "metadata": {},
   "outputs": [
    {
     "name": "stdout",
     "output_type": "stream",
     "text": [
      "['bear', 'chimpanzee', 'elephant', 'hedgehog']\n"
     ]
    }
   ],
   "source": [
    "animals.append(\"hedgehog\")\n",
    "print(animals)"
   ]
  },
  {
   "cell_type": "markdown",
   "id": "57238ab3",
   "metadata": {},
   "source": [
    "#### At a specific position"
   ]
  },
  {
   "cell_type": "code",
   "execution_count": 22,
   "id": "39955664",
   "metadata": {},
   "outputs": [
    {
     "name": "stdout",
     "output_type": "stream",
     "text": [
      "['bear', 'chimpanzee', 'dolphin', 'elephant', 'hedgehog']\n"
     ]
    }
   ],
   "source": [
    "animals.insert(2, \"dolphin\")\n",
    "print(animals)"
   ]
  },
  {
   "cell_type": "code",
   "execution_count": 23,
   "id": "41dd30f2",
   "metadata": {},
   "outputs": [
    {
     "name": "stdout",
     "output_type": "stream",
     "text": [
      "['antelope', 'bear', 'chimpanzee', 'dolphin', 'elephant', 'hedgehog']\n"
     ]
    }
   ],
   "source": [
    "animals.insert(0, \"antelope\")\n",
    "print(animals)"
   ]
  },
  {
   "cell_type": "markdown",
   "id": "48c12b9c",
   "metadata": {},
   "source": [
    "#### From iterable\n",
    "\n",
    "##### Using `.extend()`"
   ]
  },
  {
   "cell_type": "code",
   "execution_count": 24,
   "id": "5e3734b8",
   "metadata": {},
   "outputs": [
    {
     "name": "stdout",
     "output_type": "stream",
     "text": [
      "['antelope',\n",
      " 'bear',\n",
      " 'chimpanzee',\n",
      " 'dolphin',\n",
      " 'elephant',\n",
      " 'hedgehog',\n",
      " 'lynx',\n",
      " 'ocelot',\n",
      " 'puma']\n"
     ]
    }
   ],
   "source": [
    "from pprint import pprint\n",
    "\n",
    "animals.extend([\"lynx\", \"ocelot\", \"puma\"])\n",
    "pprint(animals)"
   ]
  },
  {
   "cell_type": "markdown",
   "id": "9a23606c",
   "metadata": {},
   "source": [
    "##### With concatenation"
   ]
  },
  {
   "cell_type": "code",
   "execution_count": 25,
   "id": "a4e0fc83",
   "metadata": {},
   "outputs": [
    {
     "name": "stdout",
     "output_type": "stream",
     "text": [
      "['antelope',\n",
      " 'bear',\n",
      " 'chimpanzee',\n",
      " 'dolphin',\n",
      " 'elephant',\n",
      " 'hedgehog',\n",
      " 'lynx',\n",
      " 'ocelot',\n",
      " 'puma',\n",
      " 'skink',\n",
      " 'turtle',\n",
      " 'viper']\n"
     ]
    }
   ],
   "source": [
    "animals = animals + [\"skink\", \"turtle\", \"viper\"]\n",
    "pprint(animals)"
   ]
  },
  {
   "cell_type": "markdown",
   "id": "bf5d0a67",
   "metadata": {},
   "source": [
    "Or using the `+=` operator:"
   ]
  },
  {
   "cell_type": "code",
   "execution_count": 26,
   "id": "d60326e5",
   "metadata": {},
   "outputs": [
    {
     "name": "stdout",
     "output_type": "stream",
     "text": [
      "['antelope',\n",
      " 'bear',\n",
      " 'chimpanzee',\n",
      " 'dolphin',\n",
      " 'elephant',\n",
      " 'hedgehog',\n",
      " 'lynx',\n",
      " 'ocelot',\n",
      " 'puma',\n",
      " 'skink',\n",
      " 'turtle',\n",
      " 'viper',\n",
      " 'wolf',\n",
      " 'zebra']\n"
     ]
    }
   ],
   "source": [
    "animals += [\"wolf\", \"zebra\"]\n",
    "pprint(animals)"
   ]
  },
  {
   "cell_type": "markdown",
   "id": "820ecb0b",
   "metadata": {},
   "source": [
    "##### Repeatedly with multiplication"
   ]
  },
  {
   "cell_type": "code",
   "execution_count": 27,
   "id": "27ce8c1b",
   "metadata": {},
   "outputs": [
    {
     "name": "stdout",
     "output_type": "stream",
     "text": [
      "['rinse', 'repeat']\n",
      "['rinse', 'repeat', 'rinse', 'repeat', 'rinse', 'repeat']\n"
     ]
    }
   ],
   "source": [
    "steps = [\"rinse\", \"repeat\"]\n",
    "print(steps)\n",
    "\n",
    "steps = (steps * 3)\n",
    "print(steps)"
   ]
  },
  {
   "cell_type": "markdown",
   "id": "070b8078",
   "metadata": {},
   "source": [
    "Or using the `*=` operator:"
   ]
  },
  {
   "cell_type": "code",
   "execution_count": 28,
   "id": "8fe2608e",
   "metadata": {},
   "outputs": [
    {
     "name": "stdout",
     "output_type": "stream",
     "text": [
      "['rinse', 'repeat']\n",
      "['rinse', 'repeat', 'rinse', 'repeat', 'rinse', 'repeat']\n"
     ]
    }
   ],
   "source": [
    "steps = [\"rinse\", \"repeat\"]\n",
    "print(steps)\n",
    "\n",
    "steps *= 3\n",
    "print(steps)"
   ]
  },
  {
   "cell_type": "markdown",
   "id": "f78b0e96",
   "metadata": {},
   "source": [
    "### Remove"
   ]
  },
  {
   "cell_type": "code",
   "execution_count": 29,
   "id": "ffeae36c",
   "metadata": {},
   "outputs": [
    {
     "name": "stdout",
     "output_type": "stream",
     "text": [
      "['H', 'e', 'l', 'l', ' ', 'w', 'o', 'r', 'l', 'd']\n"
     ]
    }
   ],
   "source": [
    "chars = list(\"Hello world\")\n",
    "\n",
    "del chars[4]\n",
    "print(chars)"
   ]
  },
  {
   "cell_type": "markdown",
   "id": "0eaee5f7",
   "metadata": {},
   "source": [
    "#### By index"
   ]
  },
  {
   "cell_type": "code",
   "execution_count": 30,
   "id": "dc83a7e4",
   "metadata": {},
   "outputs": [
    {
     "name": "stdout",
     "output_type": "stream",
     "text": [
      "['H', 'e', 'l', 'l', ' ', 'w', 'o', 'r', 'l', 'd']\n"
     ]
    }
   ],
   "source": [
    "chars = list(\"Hello world\")\n",
    "\n",
    "del chars[4]\n",
    "print(chars)"
   ]
  },
  {
   "cell_type": "markdown",
   "id": "3959c789",
   "metadata": {},
   "source": [
    "#### By value\n",
    "\n",
    "Remove first occurrence of value using the `.remove() method`:"
   ]
  },
  {
   "cell_type": "code",
   "execution_count": 31,
   "id": "0e1eadfa",
   "metadata": {},
   "outputs": [
    {
     "name": "stdout",
     "output_type": "stream",
     "text": [
      "['H', 'e', 'l', 'o', ' ', 'w', 'o', 'r', 'l', 'd']\n"
     ]
    }
   ],
   "source": [
    "chars = list(\"Hello world\")\n",
    "\n",
    "chars.remove(\"l\")\n",
    "print(chars)"
   ]
  },
  {
   "cell_type": "markdown",
   "id": "648d2d29",
   "metadata": {},
   "source": [
    "#### By slice\n",
    "\n",
    "Using the `del` keyword:"
   ]
  },
  {
   "cell_type": "code",
   "execution_count": 32,
   "id": "dfb027d8",
   "metadata": {},
   "outputs": [
    {
     "name": "stdout",
     "output_type": "stream",
     "text": [
      "['H', 'e', 'l', 'd']\n"
     ]
    }
   ],
   "source": [
    "chars = list(\"Hello world\")\n",
    "\n",
    "del chars[2:9]\n",
    "print(chars)"
   ]
  },
  {
   "cell_type": "markdown",
   "id": "10f16e64",
   "metadata": {},
   "source": [
    "By assigning to an empty list:"
   ]
  },
  {
   "cell_type": "code",
   "execution_count": 33,
   "id": "13d662f3",
   "metadata": {},
   "outputs": [
    {
     "name": "stdout",
     "output_type": "stream",
     "text": [
      "['l', 'o', ' ', 'w', 'o', 'r', 'l', 'd']\n"
     ]
    }
   ],
   "source": [
    "chars = list(\"Hello world\")\n",
    "\n",
    "chars[0:3] = []\n",
    "print(chars)"
   ]
  },
  {
   "cell_type": "markdown",
   "id": "23908c9f",
   "metadata": {},
   "source": [
    "#### All elements"
   ]
  },
  {
   "cell_type": "code",
   "execution_count": 34,
   "id": "0808ad61",
   "metadata": {},
   "outputs": [
    {
     "name": "stdout",
     "output_type": "stream",
     "text": [
      "[]\n"
     ]
    }
   ],
   "source": [
    "chars = list(\"Hello world\")\n",
    "\n",
    "chars.clear()\n",
    "print(chars)"
   ]
  },
  {
   "cell_type": "markdown",
   "id": "394b0df5",
   "metadata": {},
   "source": [
    "#### Remove and return\n",
    "\n",
    "##### The last element"
   ]
  },
  {
   "cell_type": "code",
   "execution_count": 35,
   "id": "1c038ec8",
   "metadata": {},
   "outputs": [
    {
     "name": "stdout",
     "output_type": "stream",
     "text": [
      "removed: 'd' \n",
      "\n",
      "['H', 'e', 'l', 'l', 'o', ' ', 'w', 'o', 'r', 'l']\n"
     ]
    }
   ],
   "source": [
    "chars = list(\"Hello world\")\n",
    "\n",
    "removed = chars.pop()\n",
    "\n",
    "print(\"removed:\", repr(removed), \"\\n\")\n",
    "print(chars)"
   ]
  },
  {
   "cell_type": "markdown",
   "id": "83c2e2ab",
   "metadata": {},
   "source": [
    "##### A specific element by position"
   ]
  },
  {
   "cell_type": "code",
   "execution_count": 36,
   "id": "1c4a45e1",
   "metadata": {},
   "outputs": [
    {
     "name": "stdout",
     "output_type": "stream",
     "text": [
      "removed: 'l' \n",
      "\n",
      "['H', 'e', 'l', 'o', ' ', 'w', 'o', 'r', 'l', 'd']\n"
     ]
    }
   ],
   "source": [
    "chars = list(\"Hello world\")\n",
    "\n",
    "removed = chars.pop(2)\n",
    "\n",
    "print(\"removed:\", repr(removed), \"\\n\")\n",
    "print(chars)"
   ]
  },
  {
   "cell_type": "markdown",
   "id": "f75533b8",
   "metadata": {},
   "source": [
    "Membership\n",
    "----------"
   ]
  },
  {
   "cell_type": "code",
   "execution_count": 37,
   "id": "ef263d1f",
   "metadata": {
    "tags": [
     "thebe-init"
    ]
   },
   "outputs": [],
   "source": [
    "chars = list(\"Mississippi\")\n",
    "words = ['Welcome', 'to', 'Python', 'Class']"
   ]
  },
  {
   "cell_type": "markdown",
   "id": "fac7f698",
   "metadata": {},
   "source": [
    "### Contains\n",
    "\n",
    "Check if list contains value using the `in` operator:"
   ]
  },
  {
   "cell_type": "code",
   "execution_count": 38,
   "id": "b06c766e",
   "metadata": {},
   "outputs": [
    {
     "data": {
      "text/plain": [
       "True"
      ]
     },
     "execution_count": 38,
     "metadata": {},
     "output_type": "execute_result"
    }
   ],
   "source": [
    "\"Class\" in words"
   ]
  },
  {
   "cell_type": "markdown",
   "id": "08dad2ac",
   "metadata": {},
   "source": [
    "Check if list does not contains value using the `not in` operator:"
   ]
  },
  {
   "cell_type": "code",
   "execution_count": 39,
   "id": "bac11131",
   "metadata": {},
   "outputs": [
    {
     "data": {
      "text/plain": [
       "False"
      ]
     },
     "execution_count": 39,
     "metadata": {},
     "output_type": "execute_result"
    }
   ],
   "source": [
    "\"Class\" not in words"
   ]
  },
  {
   "cell_type": "markdown",
   "id": "fbf3965e",
   "metadata": {},
   "source": [
    "### Count\n",
    "\n",
    "Number of times value occurs in list:"
   ]
  },
  {
   "cell_type": "code",
   "execution_count": 40,
   "id": "c86306e8",
   "metadata": {},
   "outputs": [
    {
     "data": {
      "text/plain": [
       "4"
      ]
     },
     "execution_count": 40,
     "metadata": {},
     "output_type": "execute_result"
    }
   ],
   "source": [
    "chars.count(\"i\")"
   ]
  },
  {
   "cell_type": "markdown",
   "id": "4e80ce30",
   "metadata": {},
   "source": [
    "### Index\n",
    "\n",
    "To look up the index number of a particular value, use the `.index()` method.\n",
    "\n",
    "Get the first index number of value:"
   ]
  },
  {
   "cell_type": "code",
   "execution_count": 41,
   "id": "f70e7ca4",
   "metadata": {},
   "outputs": [
    {
     "data": {
      "text/plain": [
       "2"
      ]
     },
     "execution_count": 41,
     "metadata": {},
     "output_type": "execute_result"
    }
   ],
   "source": [
    "chars.index(\"s\")"
   ]
  },
  {
   "cell_type": "markdown",
   "id": "29eb2a3b",
   "metadata": {},
   "source": [
    "Same, but look in `chars[3:]`:"
   ]
  },
  {
   "cell_type": "code",
   "execution_count": 42,
   "id": "4af8262b",
   "metadata": {},
   "outputs": [
    {
     "data": {
      "text/plain": [
       "3"
      ]
     },
     "execution_count": 42,
     "metadata": {},
     "output_type": "execute_result"
    }
   ],
   "source": [
    "chars.index(\"s\", 3)"
   ]
  },
  {
   "cell_type": "markdown",
   "id": "4d5df27e",
   "metadata": {},
   "source": [
    "Same, but look in `chars[5:9]`:"
   ]
  },
  {
   "cell_type": "code",
   "execution_count": 43,
   "id": "0a26d0a8",
   "metadata": {},
   "outputs": [
    {
     "data": {
      "text/plain": [
       "7"
      ]
     },
     "execution_count": 43,
     "metadata": {},
     "output_type": "execute_result"
    }
   ],
   "source": [
    "chars.index(\"i\", 5, 9)"
   ]
  },
  {
   "cell_type": "markdown",
   "id": "9d3dfa82",
   "metadata": {},
   "source": [
    "Iteration\n",
    "---------\n",
    "\n",
    "### for loop\n",
    "\n",
    "Iterate over each element:"
   ]
  },
  {
   "cell_type": "code",
   "execution_count": 44,
   "id": "d431fa1f",
   "metadata": {},
   "outputs": [
    {
     "name": "stdout",
     "output_type": "stream",
     "text": [
      "red\n",
      "blue\n",
      "green\n"
     ]
    }
   ],
   "source": [
    "colors = [\"red\", \"blue\", \"green\"]\n",
    "for item in colors:\n",
    "  print(item)"
   ]
  },
  {
   "cell_type": "markdown",
   "id": "cece227c",
   "metadata": {},
   "source": [
    "#### enumerate\n",
    "\n",
    "Iterate over each index number and element:"
   ]
  },
  {
   "cell_type": "code",
   "execution_count": 45,
   "id": "b707ba2b",
   "metadata": {},
   "outputs": [
    {
     "name": "stdout",
     "output_type": "stream",
     "text": [
      "0 breakfast\n",
      "1 lunch\n",
      "2 dinner\n"
     ]
    }
   ],
   "source": [
    "meals = [\"breakfast\", \"lunch\", \"dinner\"]\n",
    "for i, item in enumerate(meals):\n",
    "  print(i, item)"
   ]
  },
  {
   "cell_type": "markdown",
   "id": "6bce1857",
   "metadata": {},
   "source": [
    "Iterate over each index number and element value, starting `i` at `1`:"
   ]
  },
  {
   "cell_type": "code",
   "execution_count": 46,
   "id": "21a62241",
   "metadata": {},
   "outputs": [
    {
     "name": "stdout",
     "output_type": "stream",
     "text": [
      "1 water\n",
      "2 tea\n",
      "3 coffee\n"
     ]
    }
   ],
   "source": [
    "drinks = [\"water\", \"tea\", \"coffee\"]\n",
    "for i, item in enumerate(drinks, 1):\n",
    "  print(i, item)"
   ]
  },
  {
   "cell_type": "markdown",
   "id": "8f62029a",
   "metadata": {},
   "source": [
    "Aggregation\n",
    "-----------\n",
    "\n",
    "Functions that provide information about the container as a whole.\n",
    "\n",
    "### Length"
   ]
  },
  {
   "cell_type": "code",
   "execution_count": 47,
   "id": "c9b7cc71",
   "metadata": {},
   "outputs": [
    {
     "data": {
      "text/plain": [
       "4"
      ]
     },
     "execution_count": 47,
     "metadata": {},
     "output_type": "execute_result"
    }
   ],
   "source": [
    "len([0, 1, 2, 3])"
   ]
  },
  {
   "cell_type": "markdown",
   "id": "3f7d37a9",
   "metadata": {},
   "source": [
    "### Maximum value"
   ]
  },
  {
   "cell_type": "code",
   "execution_count": 48,
   "id": "5e851828",
   "metadata": {},
   "outputs": [
    {
     "data": {
      "text/plain": [
       "3"
      ]
     },
     "execution_count": 48,
     "metadata": {},
     "output_type": "execute_result"
    }
   ],
   "source": [
    "max([0, 1, 2, 3])"
   ]
  },
  {
   "cell_type": "markdown",
   "id": "432b4d1e",
   "metadata": {},
   "source": [
    "### Minimum value"
   ]
  },
  {
   "cell_type": "code",
   "execution_count": 49,
   "id": "3885b52a",
   "metadata": {},
   "outputs": [
    {
     "data": {
      "text/plain": [
       "0"
      ]
     },
     "execution_count": 49,
     "metadata": {},
     "output_type": "execute_result"
    }
   ],
   "source": [
    "min([0, 1, 2, 3])"
   ]
  },
  {
   "cell_type": "markdown",
   "id": "dea95e27",
   "metadata": {},
   "source": [
    "### Sum of values"
   ]
  },
  {
   "cell_type": "code",
   "execution_count": 50,
   "id": "d1db08ee",
   "metadata": {},
   "outputs": [
    {
     "data": {
      "text/plain": [
       "6"
      ]
     },
     "execution_count": 50,
     "metadata": {},
     "output_type": "execute_result"
    }
   ],
   "source": [
    "sum([0, 1, 2, 3])"
   ]
  },
  {
   "cell_type": "markdown",
   "id": "7ae4f076",
   "metadata": {},
   "source": [
    "### any\n",
    "\n",
    "Return `True` if any elements are truthy:"
   ]
  },
  {
   "cell_type": "code",
   "execution_count": 51,
   "id": "7a445362",
   "metadata": {},
   "outputs": [
    {
     "data": {
      "text/plain": [
       "False"
      ]
     },
     "execution_count": 51,
     "metadata": {},
     "output_type": "execute_result"
    }
   ],
   "source": [
    "any([0, False, \"\"])"
   ]
  },
  {
   "cell_type": "code",
   "execution_count": 52,
   "id": "f2e06ef6",
   "metadata": {},
   "outputs": [
    {
     "data": {
      "text/plain": [
       "True"
      ]
     },
     "execution_count": 52,
     "metadata": {},
     "output_type": "execute_result"
    }
   ],
   "source": [
    "any([0, 1, 2, 3])"
   ]
  },
  {
   "cell_type": "markdown",
   "id": "7c656fc1",
   "metadata": {},
   "source": [
    "### all\n",
    "\n",
    "Return `True` if all elements are truthy:"
   ]
  },
  {
   "cell_type": "code",
   "execution_count": 53,
   "id": "2c2d026f",
   "metadata": {},
   "outputs": [
    {
     "data": {
      "text/plain": [
       "False"
      ]
     },
     "execution_count": 53,
     "metadata": {},
     "output_type": "execute_result"
    }
   ],
   "source": [
    "all([0, 1, 2, 3])"
   ]
  },
  {
   "cell_type": "code",
   "execution_count": 54,
   "id": "beb3c61c",
   "metadata": {},
   "outputs": [
    {
     "data": {
      "text/plain": [
       "True"
      ]
     },
     "execution_count": 54,
     "metadata": {},
     "output_type": "execute_result"
    }
   ],
   "source": [
    "all([True, 1, \"hello\"])"
   ]
  },
  {
   "cell_type": "markdown",
   "id": "d1876af6",
   "metadata": {},
   "source": [
    "Copying\n",
    "-------"
   ]
  },
  {
   "cell_type": "code",
   "execution_count": 55,
   "id": "e2284583",
   "metadata": {
    "tags": [
     "thebe-init"
    ]
   },
   "outputs": [],
   "source": [
    "DEFAULTS = [\n",
    "  {\n",
    "    'name': \"Joe Smith\",\n",
    "    'email': 'joe.smith@gmail.com',\n",
    "  },\n",
    "  {\n",
    "    'name': \"Jane Doe\",\n",
    "    'email': \"jane.doe@gmail.com\"\n",
    "  }\n",
    "]"
   ]
  },
  {
   "cell_type": "markdown",
   "id": "d00f0727",
   "metadata": {},
   "source": [
    "### Alias\n",
    "\n",
    "A {term}`reference` or {term}`alias` creates a new variable that points to the\n",
    "same object."
   ]
  },
  {
   "cell_type": "code",
   "execution_count": 56,
   "id": "828e1fca",
   "metadata": {},
   "outputs": [
    {
     "data": {
      "text/plain": [
       "True"
      ]
     },
     "execution_count": 56,
     "metadata": {},
     "output_type": "execute_result"
    }
   ],
   "source": [
    "authors = DEFAULTS\n",
    "\n",
    "authors is DEFAULTS"
   ]
  },
  {
   "cell_type": "markdown",
   "id": "d797d9ce",
   "metadata": {},
   "source": [
    "### Shallow copy\n",
    "\n",
    "A {term}`shallow copy` creates a new container object then adds references to elements.\n",
    "\n",
    "Using `.copy()`:"
   ]
  },
  {
   "cell_type": "code",
   "execution_count": 57,
   "id": "af214cb1",
   "metadata": {},
   "outputs": [
    {
     "name": "stdout",
     "output_type": "stream",
     "text": [
      "False\n",
      "True\n"
     ]
    }
   ],
   "source": [
    "authors = DEFAULTS.copy()\n",
    "\n",
    "print(authors is DEFAULTS)\n",
    "print(authors[0] is DEFAULTS[0])"
   ]
  },
  {
   "cell_type": "markdown",
   "id": "28ef828e",
   "metadata": {},
   "source": [
    "Using `copy.copy()`:"
   ]
  },
  {
   "cell_type": "code",
   "execution_count": 58,
   "id": "bacbbd02",
   "metadata": {},
   "outputs": [
    {
     "name": "stdout",
     "output_type": "stream",
     "text": [
      "False\n",
      "True\n"
     ]
    }
   ],
   "source": [
    "import copy\n",
    "\n",
    "authors = copy.copy(DEFAULTS)\n",
    "\n",
    "print(authors is DEFAULTS)\n",
    "print(authors[0] is DEFAULTS[0])"
   ]
  },
  {
   "cell_type": "markdown",
   "id": "4dbcd39e",
   "metadata": {},
   "source": [
    "Using a slice:"
   ]
  },
  {
   "cell_type": "code",
   "execution_count": 59,
   "id": "dc5470f5",
   "metadata": {},
   "outputs": [
    {
     "name": "stdout",
     "output_type": "stream",
     "text": [
      "False\n",
      "True\n"
     ]
    }
   ],
   "source": [
    "authors = DEFAULTS[:]\n",
    "\n",
    "print(authors is DEFAULTS)\n",
    "print(authors[0] is DEFAULTS[0])"
   ]
  },
  {
   "cell_type": "markdown",
   "id": "6f519990",
   "metadata": {},
   "source": [
    "### Deep copy\n",
    "\n",
    "A {term}`deep copy` creates a new container object then recursively adds the copies of nested elements."
   ]
  },
  {
   "cell_type": "code",
   "execution_count": 60,
   "id": "b8142e5d",
   "metadata": {},
   "outputs": [
    {
     "name": "stdout",
     "output_type": "stream",
     "text": [
      "False\n",
      "False\n"
     ]
    }
   ],
   "source": [
    "import copy\n",
    "authors = copy.deepcopy(DEFAULTS)\n",
    "\n",
    "print(authors is DEFAULTS)\n",
    "print(authors[0] is DEFAULTS[0])"
   ]
  },
  {
   "cell_type": "markdown",
   "id": "a98fb7d3",
   "metadata": {},
   "source": [
    "Sorting\n",
    "-------"
   ]
  },
  {
   "cell_type": "code",
   "execution_count": 61,
   "id": "949221c9",
   "metadata": {
    "tags": [
     "remove-input",
     "thebe-init"
    ]
   },
   "outputs": [],
   "source": [
    "\"\"\"setup for sorting section\"\"\"\n",
    "\n",
    "from pprint import pformat\n",
    "\n",
    "def pprint(obj):\n",
    "  \"\"\"pretty print obj if defined, otherwise print an equal number of lines\"\"\"\n",
    "  if obj:\n",
    "    print(pformat(obj, width=40))\n",
    "  else:\n",
    "    print(\"-\" + (\"\\n\"*(len(FRUIT)-1)) + repr(obj))"
   ]
  },
  {
   "cell_type": "code",
   "execution_count": 62,
   "id": "5e8c216c",
   "metadata": {
    "tags": [
     "thebe-init"
    ]
   },
   "outputs": [],
   "source": [
    "\"\"\"setup for sorting section\"\"\"\n",
    "\n",
    "# define global FRUIT list\n",
    "FRUIT = [\"cherry\", \"apple\", \"date\", \"bananna\", \"elderberry\"]"
   ]
  },
  {
   "cell_type": "markdown",
   "id": "a1ce2693",
   "metadata": {},
   "source": [
    "### Returned sorting\n",
    "\n",
    "The following functions return a sorted version of the collection and leave\n",
    "original collection unmodified."
   ]
  },
  {
   "cell_type": "code",
   "execution_count": 63,
   "id": "543ef0d3",
   "metadata": {
    "tags": [
     "thebe-init"
    ]
   },
   "outputs": [
    {
     "name": "stdout",
     "output_type": "stream",
     "text": [
      "['cherry',\n",
      " 'apple',\n",
      " 'date',\n",
      " 'bananna',\n",
      " 'elderberry']\n"
     ]
    }
   ],
   "source": [
    "# copy fruit list\n",
    "fruit = FRUIT[:]\n",
    "pprint(fruit)"
   ]
  },
  {
   "cell_type": "markdown",
   "id": "f4976bd4",
   "metadata": {},
   "source": [
    "#### Ascending order"
   ]
  },
  {
   "cell_type": "code",
   "execution_count": 64,
   "id": "bac2ef0d",
   "metadata": {},
   "outputs": [
    {
     "name": "stdout",
     "output_type": "stream",
     "text": [
      "['apple',\n",
      " 'bananna',\n",
      " 'cherry',\n",
      " 'date',\n",
      " 'elderberry']\n"
     ]
    }
   ],
   "source": [
    "result = sorted(fruit)\n",
    "pprint(result)"
   ]
  },
  {
   "cell_type": "markdown",
   "id": "a917487b",
   "metadata": {},
   "source": [
    "#### Descending order"
   ]
  },
  {
   "cell_type": "code",
   "execution_count": 65,
   "id": "e303c1ad",
   "metadata": {},
   "outputs": [
    {
     "name": "stdout",
     "output_type": "stream",
     "text": [
      "['elderberry',\n",
      " 'date',\n",
      " 'cherry',\n",
      " 'bananna',\n",
      " 'apple']\n"
     ]
    }
   ],
   "source": [
    "result = sorted(fruit, reverse=True)\n",
    "pprint(result)"
   ]
  },
  {
   "cell_type": "markdown",
   "id": "5d9aec58",
   "metadata": {},
   "source": [
    "#### Reverse order"
   ]
  },
  {
   "cell_type": "code",
   "execution_count": 66,
   "id": "6ad8712a",
   "metadata": {},
   "outputs": [
    {
     "name": "stdout",
     "output_type": "stream",
     "text": [
      "['elderberry',\n",
      " 'bananna',\n",
      " 'date',\n",
      " 'apple',\n",
      " 'cherry']\n"
     ]
    }
   ],
   "source": [
    "result = list(reversed(fruit))\n",
    "pprint(result)"
   ]
  },
  {
   "cell_type": "markdown",
   "id": "17b5117b",
   "metadata": {},
   "source": [
    "#### Order by callable key\n",
    "\n",
    "Using function:"
   ]
  },
  {
   "cell_type": "code",
   "execution_count": 67,
   "id": "dd808d6e",
   "metadata": {},
   "outputs": [
    {
     "name": "stdout",
     "output_type": "stream",
     "text": [
      "['date',\n",
      " 'apple',\n",
      " 'cherry',\n",
      " 'bananna',\n",
      " 'elderberry']\n"
     ]
    }
   ],
   "source": [
    "def order_by_length(text):\n",
    "    return len(text)\n",
    "\n",
    "result = sorted(fruit, key=order_by_length)\n",
    "pprint(result)"
   ]
  },
  {
   "cell_type": "markdown",
   "id": "3d29d891",
   "metadata": {},
   "source": [
    "Using lambda:"
   ]
  },
  {
   "cell_type": "code",
   "execution_count": 68,
   "id": "1b081436",
   "metadata": {},
   "outputs": [
    {
     "name": "stdout",
     "output_type": "stream",
     "text": [
      "['date',\n",
      " 'apple',\n",
      " 'cherry',\n",
      " 'bananna',\n",
      " 'elderberry']\n"
     ]
    }
   ],
   "source": [
    "result = sorted(fruit, key=lambda v: len(v))\n",
    "pprint(result)"
   ]
  },
  {
   "cell_type": "markdown",
   "id": "af36905f",
   "metadata": {},
   "source": [
    "### In-place sorting\n",
    "\n",
    "The following methods and functions change the order of the original collection\n",
    "and return `None`.\n",
    "\n",
    "#### Ascending order"
   ]
  },
  {
   "cell_type": "code",
   "execution_count": 69,
   "id": "6b854e30",
   "metadata": {},
   "outputs": [
    {
     "name": "stdout",
     "output_type": "stream",
     "text": [
      "['cherry',\n",
      " 'apple',\n",
      " 'date',\n",
      " 'bananna',\n",
      " 'elderberry']\n",
      "--------------\n",
      "['apple',\n",
      " 'bananna',\n",
      " 'cherry',\n",
      " 'date',\n",
      " 'elderberry']\n"
     ]
    }
   ],
   "source": [
    "# reset fruit list\n",
    "fruit = FRUIT[:]\n",
    "pprint(fruit)\n",
    "print(\"--------------\")\n",
    "\n",
    "fruit.sort()\n",
    "pprint(fruit)"
   ]
  },
  {
   "cell_type": "markdown",
   "id": "0057f8e8",
   "metadata": {},
   "source": [
    "#### Descending order"
   ]
  },
  {
   "cell_type": "code",
   "execution_count": 70,
   "id": "bf64baaa",
   "metadata": {},
   "outputs": [
    {
     "name": "stdout",
     "output_type": "stream",
     "text": [
      "['cherry',\n",
      " 'apple',\n",
      " 'date',\n",
      " 'bananna',\n",
      " 'elderberry']\n",
      "--------------\n",
      "['elderberry',\n",
      " 'date',\n",
      " 'cherry',\n",
      " 'bananna',\n",
      " 'apple']\n"
     ]
    }
   ],
   "source": [
    "# reset fruit list\n",
    "fruit = FRUIT[:]\n",
    "pprint(fruit)\n",
    "print(\"--------------\")\n",
    "\n",
    "fruit.sort(reverse=True)\n",
    "pprint(fruit)"
   ]
  },
  {
   "cell_type": "markdown",
   "id": "d066ed05",
   "metadata": {},
   "source": [
    "#### Reverse order"
   ]
  },
  {
   "cell_type": "code",
   "execution_count": 71,
   "id": "e642bccb",
   "metadata": {},
   "outputs": [
    {
     "name": "stdout",
     "output_type": "stream",
     "text": [
      "['cherry',\n",
      " 'apple',\n",
      " 'date',\n",
      " 'bananna',\n",
      " 'elderberry']\n",
      "--------------\n",
      "['elderberry',\n",
      " 'bananna',\n",
      " 'date',\n",
      " 'apple',\n",
      " 'cherry']\n"
     ]
    }
   ],
   "source": [
    "# reset fruit list\n",
    "fruit = FRUIT[:]\n",
    "pprint(fruit)\n",
    "print(\"--------------\")\n",
    "\n",
    "fruit.reverse()\n",
    "pprint(fruit)"
   ]
  },
  {
   "cell_type": "markdown",
   "id": "22cf1f20",
   "metadata": {},
   "source": [
    "#### Order by callable key function\n",
    "\n",
    "Using function:"
   ]
  },
  {
   "cell_type": "code",
   "execution_count": 72,
   "id": "7f883911",
   "metadata": {},
   "outputs": [
    {
     "name": "stdout",
     "output_type": "stream",
     "text": [
      "['cherry',\n",
      " 'apple',\n",
      " 'date',\n",
      " 'bananna',\n",
      " 'elderberry']\n",
      "--------------\n",
      "['date',\n",
      " 'apple',\n",
      " 'cherry',\n",
      " 'bananna',\n",
      " 'elderberry']\n"
     ]
    }
   ],
   "source": [
    "# reset fruit list\n",
    "fruit = FRUIT[:]\n",
    "pprint(fruit)\n",
    "print(\"--------------\")\n",
    "\n",
    "def order_by_length(text):\n",
    "    return len(text)\n",
    "\n",
    "fruit.sort(key=order_by_length)\n",
    "pprint(fruit)"
   ]
  },
  {
   "cell_type": "markdown",
   "id": "59f94ffd",
   "metadata": {},
   "source": [
    "Using lambda:"
   ]
  },
  {
   "cell_type": "code",
   "execution_count": 73,
   "id": "a0a752f4",
   "metadata": {},
   "outputs": [
    {
     "name": "stdout",
     "output_type": "stream",
     "text": [
      "['cherry',\n",
      " 'apple',\n",
      " 'date',\n",
      " 'bananna',\n",
      " 'elderberry']\n",
      "--------------\n",
      "['date',\n",
      " 'apple',\n",
      " 'cherry',\n",
      " 'bananna',\n",
      " 'elderberry']\n"
     ]
    }
   ],
   "source": [
    "# reset fruit list\n",
    "fruit = FRUIT[:]\n",
    "pprint(fruit)\n",
    "print(\"--------------\")\n",
    "\n",
    "fruit.sort(key=lambda v:len(v))\n",
    "pprint(fruit)"
   ]
  },
  {
   "cell_type": "markdown",
   "id": "971eca2f",
   "metadata": {},
   "source": [
    "#### Random order"
   ]
  },
  {
   "cell_type": "code",
   "execution_count": 74,
   "id": "b73ded67",
   "metadata": {},
   "outputs": [
    {
     "name": "stdout",
     "output_type": "stream",
     "text": [
      "['cherry',\n",
      " 'apple',\n",
      " 'date',\n",
      " 'bananna',\n",
      " 'elderberry']\n",
      "--------------\n",
      "['date',\n",
      " 'apple',\n",
      " 'elderberry',\n",
      " 'cherry',\n",
      " 'bananna']\n"
     ]
    }
   ],
   "source": [
    "# reset fruit list\n",
    "fruit = FRUIT[:]\n",
    "pprint(fruit)\n",
    "print(\"--------------\")\n",
    "\n",
    "from random import shuffle\n",
    "shuffle(fruit)\n",
    "pprint(fruit)"
   ]
  },
  {
   "cell_type": "markdown",
   "id": "888ae14e",
   "metadata": {},
   "source": [
    "Transformation\n",
    "--------------\n",
    "\n",
    "Generate a modified collection.\n",
    "\n",
    "### Mapping\n",
    "\n",
    "Produce a new collection containing the results from applying a function to\n",
    "each element in a collection."
   ]
  },
  {
   "cell_type": "code",
   "execution_count": 75,
   "id": "82bde19a",
   "metadata": {
    "tags": [
     "thebe-init"
    ]
   },
   "outputs": [],
   "source": [
    "\"\"\"Setup for the Mapping section\"\"\"\n",
    "\n",
    "# the collection to base mappings on\n",
    "birth_years = [1954, 1956, 1984, 1986]\n",
    "\n",
    "# used in relative_age()\n",
    "REL_YEAR = 1994\n",
    "\n",
    "# the function to apply\n",
    "def relative_age(year):\n",
    "  return REL_YEAR - year"
   ]
  },
  {
   "cell_type": "markdown",
   "id": "7406387f",
   "metadata": {},
   "source": [
    "#### Using a for loop"
   ]
  },
  {
   "cell_type": "code",
   "execution_count": 76,
   "id": "d5172da9",
   "metadata": {},
   "outputs": [
    {
     "name": "stdout",
     "output_type": "stream",
     "text": [
      "[40, 38, 10, 8]\n"
     ]
    }
   ],
   "source": [
    "# initialize a list the same size as birth_years filled with None values\n",
    "ages = [None] * len(birth_years)\n",
    "\n",
    "# iterate over birth years and map the cooresponding element in ages to\n",
    "# the results from applying the function to that element\n",
    "for i, year in enumerate(birth_years):\n",
    "  ages[i] = relative_age(year)\n",
    "\n",
    "# print the ages list\n",
    "print(ages)"
   ]
  },
  {
   "cell_type": "markdown",
   "id": "39905595",
   "metadata": {},
   "source": [
    "#### Using list comprehension"
   ]
  },
  {
   "cell_type": "code",
   "execution_count": 77,
   "id": "1a544f30",
   "metadata": {
    "tags": [
     "thebe-init"
    ]
   },
   "outputs": [
    {
     "name": "stdout",
     "output_type": "stream",
     "text": [
      "[40, 38, 10, 8]\n"
     ]
    }
   ],
   "source": [
    "ages = [relative_age(year) for year in birth_years]\n",
    "\n",
    "print(ages)"
   ]
  },
  {
   "cell_type": "markdown",
   "id": "fee71623",
   "metadata": {},
   "source": [
    "#### Using map"
   ]
  },
  {
   "cell_type": "code",
   "execution_count": 78,
   "id": "4902052e",
   "metadata": {},
   "outputs": [
    {
     "name": "stdout",
     "output_type": "stream",
     "text": [
      "[40, 38, 10, 8]\n"
     ]
    }
   ],
   "source": [
    "ages = list(map(relative_age, birth_years))\n",
    "\n",
    "print(ages)"
   ]
  },
  {
   "cell_type": "markdown",
   "id": "0b3c6368",
   "metadata": {},
   "source": [
    "### Filtering\n",
    "\n",
    "Produce a new collection containing only elements which, when a applying a\n",
    "function, return a truthy value."
   ]
  },
  {
   "cell_type": "code",
   "execution_count": 79,
   "id": "e03a48ea",
   "metadata": {
    "tags": [
     "thebe-init"
    ]
   },
   "outputs": [
    {
     "name": "stdout",
     "output_type": "stream",
     "text": [
      "[40, 38, 10, 8]\n"
     ]
    }
   ],
   "source": [
    "\"\"\"Setup for the Filtering section\"\"\"\n",
    "\n",
    "# the function to apply\n",
    "def is_adult(age):\n",
    "  return age >= 18\n",
    "\n",
    "# print the previously created ages collection to base the filterings on\n",
    "print(ages)"
   ]
  },
  {
   "cell_type": "markdown",
   "id": "7070990b",
   "metadata": {},
   "source": [
    "#### Using a for loop"
   ]
  },
  {
   "cell_type": "code",
   "execution_count": 80,
   "id": "6e7eaf29",
   "metadata": {},
   "outputs": [
    {
     "name": "stdout",
     "output_type": "stream",
     "text": [
      "[40, 38]\n"
     ]
    }
   ],
   "source": [
    "# initialze an empty list\n",
    "adults = []\n",
    "\n",
    "# iterate over ages and append elements that results in True\n",
    "# when applying the filtering function\n",
    "for age in ages:\n",
    "  if is_adult(age):\n",
    "    adults.append(age)\n",
    "\n",
    "# print the adults list\n",
    "print(adults)"
   ]
  },
  {
   "cell_type": "markdown",
   "id": "1b4b8fe3",
   "metadata": {},
   "source": [
    "#### Using list comprehension"
   ]
  },
  {
   "cell_type": "code",
   "execution_count": 81,
   "id": "c8958a23",
   "metadata": {},
   "outputs": [
    {
     "name": "stdout",
     "output_type": "stream",
     "text": [
      "[40, 38]\n"
     ]
    }
   ],
   "source": [
    "adults = [ age for age in ages if is_adult(age) ]\n",
    "\n",
    "print(adults)"
   ]
  },
  {
   "cell_type": "markdown",
   "id": "c639a27e",
   "metadata": {},
   "source": [
    "#### Using filter"
   ]
  },
  {
   "cell_type": "code",
   "execution_count": 82,
   "id": "b42e2b86",
   "metadata": {},
   "outputs": [
    {
     "name": "stdout",
     "output_type": "stream",
     "text": [
      "[40, 38]\n"
     ]
    }
   ],
   "source": [
    "adults = list(filter(is_adult, ages))\n",
    "\n",
    "print(adults)"
   ]
  },
  {
   "cell_type": "markdown",
   "id": "058699a5",
   "metadata": {},
   "source": [
    "Typecasting\n",
    "-----------\n",
    "\n",
    "### str to list\n",
    "\n",
    "#### individual characters"
   ]
  },
  {
   "cell_type": "code",
   "execution_count": 83,
   "id": "d11514cf",
   "metadata": {},
   "outputs": [
    {
     "data": {
      "text/plain": [
       "['a', 'b', 'c']"
      ]
     },
     "execution_count": 83,
     "metadata": {},
     "output_type": "execute_result"
    }
   ],
   "source": [
    "list(\"abc\")"
   ]
  },
  {
   "cell_type": "markdown",
   "id": "5e39a8df",
   "metadata": {},
   "source": [
    "#### split on whitespace"
   ]
  },
  {
   "cell_type": "code",
   "execution_count": 84,
   "id": "eb55cbab",
   "metadata": {},
   "outputs": [
    {
     "data": {
      "text/plain": [
       "['list', 'info', 'search']"
      ]
     },
     "execution_count": 84,
     "metadata": {},
     "output_type": "execute_result"
    }
   ],
   "source": [
    "\"list info search\".split()"
   ]
  },
  {
   "cell_type": "markdown",
   "id": "e57791e8",
   "metadata": {},
   "source": [
    "#### split on delimiter"
   ]
  },
  {
   "cell_type": "code",
   "execution_count": 85,
   "id": "5d2859e5",
   "metadata": {},
   "outputs": [
    {
     "data": {
      "text/plain": [
       "['555', '555', '5555']"
      ]
     },
     "execution_count": 85,
     "metadata": {},
     "output_type": "execute_result"
    }
   ],
   "source": [
    "\"555-555-5555\".split(\"-\")"
   ]
  },
  {
   "cell_type": "markdown",
   "id": "05cb6cdf",
   "metadata": {},
   "source": [
    "#### split on newlines"
   ]
  },
  {
   "cell_type": "code",
   "execution_count": 86,
   "id": "447c128f",
   "metadata": {},
   "outputs": [
    {
     "data": {
      "text/plain": [
       "['a', 'b', 'c']"
      ]
     },
     "execution_count": 86,
     "metadata": {},
     "output_type": "execute_result"
    }
   ],
   "source": [
    "\"a\\nb\\nc\\n\".splitlines()"
   ]
  },
  {
   "cell_type": "markdown",
   "id": "84772c40",
   "metadata": {},
   "source": [
    "#### split on pattern"
   ]
  },
  {
   "cell_type": "code",
   "execution_count": 87,
   "id": "59da4457",
   "metadata": {},
   "outputs": [
    {
     "data": {
      "text/plain": [
       "['github', 'com', 'git']"
      ]
     },
     "execution_count": 87,
     "metadata": {},
     "output_type": "execute_result"
    }
   ],
   "source": [
    "import re\n",
    "re.split(r\"[./]\", \"github.com/git\")"
   ]
  },
  {
   "cell_type": "markdown",
   "id": "81255571",
   "metadata": {},
   "source": [
    "### dict to list"
   ]
  },
  {
   "cell_type": "code",
   "execution_count": 88,
   "id": "019ed4c8",
   "metadata": {
    "tags": [
     "thebe-init"
    ]
   },
   "outputs": [],
   "source": [
    "fruit_sizes = {'cherry': 6, 'bananna': 7, 'date': 4, 'elderberry': 10, 'apple': 5}"
   ]
  },
  {
   "cell_type": "markdown",
   "id": "9a4c31f5",
   "metadata": {},
   "source": [
    "#### keys"
   ]
  },
  {
   "cell_type": "code",
   "execution_count": 89,
   "id": "b9e536c1",
   "metadata": {},
   "outputs": [
    {
     "data": {
      "text/plain": [
       "['cherry', 'bananna', 'date', 'elderberry', 'apple']"
      ]
     },
     "execution_count": 89,
     "metadata": {},
     "output_type": "execute_result"
    }
   ],
   "source": [
    "list(fruit_sizes)"
   ]
  },
  {
   "cell_type": "code",
   "execution_count": 90,
   "id": "08b27fc9",
   "metadata": {},
   "outputs": [
    {
     "data": {
      "text/plain": [
       "['cherry', 'bananna', 'date', 'elderberry', 'apple']"
      ]
     },
     "execution_count": 90,
     "metadata": {},
     "output_type": "execute_result"
    }
   ],
   "source": [
    "list(fruit_sizes.keys())"
   ]
  },
  {
   "cell_type": "markdown",
   "id": "d8d3c48c",
   "metadata": {},
   "source": [
    "#### values"
   ]
  },
  {
   "cell_type": "code",
   "execution_count": 91,
   "id": "cc22c741",
   "metadata": {},
   "outputs": [
    {
     "data": {
      "text/plain": [
       "[6, 7, 4, 10, 5]"
      ]
     },
     "execution_count": 91,
     "metadata": {},
     "output_type": "execute_result"
    }
   ],
   "source": [
    "list(fruit_sizes.values())"
   ]
  },
  {
   "cell_type": "markdown",
   "id": "f9e4398b",
   "metadata": {},
   "source": [
    "### list to string"
   ]
  },
  {
   "cell_type": "code",
   "execution_count": 92,
   "id": "1f94a9cb",
   "metadata": {},
   "outputs": [
    {
     "data": {
      "text/plain": [
       "'abc'"
      ]
     },
     "execution_count": 92,
     "metadata": {},
     "output_type": "execute_result"
    }
   ],
   "source": [
    "\"\".join([\"a\", \"b\", \"c\"])"
   ]
  },
  {
   "cell_type": "markdown",
   "id": "9056542a",
   "metadata": {},
   "source": [
    "### list to dict"
   ]
  },
  {
   "cell_type": "code",
   "execution_count": 93,
   "id": "89bc8231",
   "metadata": {},
   "outputs": [
    {
     "data": {
      "text/plain": [
       "{'a': 1, 'b': 2}"
      ]
     },
     "execution_count": 93,
     "metadata": {},
     "output_type": "execute_result"
    }
   ],
   "source": [
    "dict([[\"a\", 1], [\"b\", 2]])"
   ]
  },
  {
   "cell_type": "code",
   "execution_count": 94,
   "id": "dc6af4ca",
   "metadata": {},
   "outputs": [
    {
     "data": {
      "text/plain": [
       "{'a': 1, 'b': 2}"
      ]
     },
     "execution_count": 94,
     "metadata": {},
     "output_type": "execute_result"
    }
   ],
   "source": [
    "dict(zip([\"a\", \"b\"], [1, 2]))"
   ]
  },
  {
   "cell_type": "markdown",
   "id": "dff0833f",
   "metadata": {},
   "source": [
    "----\n",
    "\n",
    "% TODO\n",
    "% - [ ] nested lists\n",
    "% - [ ] comparisons"
   ]
  }
 ],
 "metadata": {
  "jupytext": {
   "formats": "md:myst",
   "text_representation": {
    "extension": ".md",
    "format_name": "myst"
   }
  },
  "kernelspec": {
   "display_name": "Python 3",
   "language": "python",
   "name": "python3"
  },
  "language_info": {
   "codemirror_mode": {
    "name": "ipython",
    "version": 3
   },
   "file_extension": ".py",
   "mimetype": "text/x-python",
   "name": "python",
   "nbconvert_exporter": "python",
   "pygments_lexer": "ipython3",
   "version": "3.8.16"
  },
  "source_map": [
   11,
   44,
   47,
   51,
   54,
   58,
   62,
   68,
   71,
   75,
   79,
   96,
   98,
   102,
   104,
   108,
   110,
   123,
   125,
   129,
   131,
   135,
   137,
   141,
   143,
   148,
   151,
   155,
   157,
   164,
   170,
   174,
   178,
   185,
   194,
   197,
   201,
   204,
   208,
   212,
   216,
   219,
   223,
   228,
   231,
   237,
   242,
   246,
   249,
   253,
   256,
   260,
   266,
   270,
   276,
   280,
   285,
   289,
   294,
   300,
   305,
   311,
   316,
   320,
   325,
   329,
   334,
   340,
   347,
   351,
   358,
   363,
   367,
   373,
   375,
   379,
   381,
   387,
   389,
   397,
   399,
   403,
   405,
   409,
   411,
   420,
   424,
   430,
   434,
   438,
   442,
   451,
   453,
   457,
   459,
   463,
   465,
   469,
   471,
   477,
   481,
   483,
   489,
   493,
   495,
   500,
   512,
   519,
   523,
   531,
   536,
   540,
   547,
   551,
   556,
   562,
   568,
   573,
   587,
   593,
   601,
   606,
   610,
   613,
   617,
   620,
   624,
   627,
   633,
   639,
   643,
   646,
   655,
   663,
   667,
   675,
   679,
   687,
   693,
   704,
   708,
   716,
   720,
   729,
   741,
   754,
   758,
   769,
   773,
   778,
   782,
   786,
   793,
   803,
   807,
   819,
   823,
   827,
   831,
   835,
   844,
   846,
   850,
   852,
   856,
   858,
   862,
   864,
   868,
   871,
   875,
   878,
   882,
   886,
   888,
   892,
   894,
   898,
   900,
   904,
   908,
   910
  ]
 },
 "nbformat": 4,
 "nbformat_minor": 5
}