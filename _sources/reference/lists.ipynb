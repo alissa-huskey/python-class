{
 "cells": [
  {
   "cell_type": "markdown",
   "id": "cd5a5623",
   "metadata": {},
   "source": [
    "Lists\n",
    "=====\n",
    "\n",
    "This page contains brief code snippets for `list` related operations. It is\n",
    "intended as a resource for quickly looking up the syntax for a particular task,\n",
    "most likely to jog a students memory.\n",
    "\n",
    "While you may well learn something here, it is not written as a lesson.\n",
    "\n",
    ":::{tip}\n",
    "\n",
    "You can modify and execute any of the code on this page.\n",
    "\n",
    "1. ![launch][] just click this icon at the top of the page\n",
    "1. ![live][] followed by this one\n",
    "\n",
    ":::\n",
    "\n",
    "[launch]: ../assets/rocket-icon.png\n",
    "[live]: ../assets/live-icon.png\n",
    "\n",
    "```{contents} Table of Contents\n",
    ":backlinks: top\n",
    ":local:\n",
    "```\n",
    "\n",
    "Creating\n",
    "--------\n",
    "\n",
    "### Bracket syntax\n",
    "\n",
    "Create an empty list using `[` `]`:"
   ]
  },
  {
   "cell_type": "code",
   "execution_count": 1,
   "id": "01d20cf2",
   "metadata": {},
   "outputs": [
    {
     "name": "stdout",
     "output_type": "stream",
     "text": [
      "[]\n"
     ]
    }
   ],
   "source": [
    "a_list  = []\n",
    "print(a_list)"
   ]
  },
  {
   "cell_type": "markdown",
   "id": "d93e324c",
   "metadata": {},
   "source": [
    "Create a list of `3` `None` elements:"
   ]
  },
  {
   "cell_type": "code",
   "execution_count": 2,
   "id": "0aed1b0d",
   "metadata": {},
   "outputs": [
    {
     "name": "stdout",
     "output_type": "stream",
     "text": [
      "[None, None, None]\n"
     ]
    }
   ],
   "source": [
    "b_list  = [None] * 3\n",
    "print(b_list)"
   ]
  },
  {
   "cell_type": "markdown",
   "id": "56344681",
   "metadata": {},
   "source": [
    "Create a list with initial elements:"
   ]
  },
  {
   "cell_type": "code",
   "execution_count": 3,
   "id": "76ccddd2",
   "metadata": {
    "tags": [
     "thebe-init"
    ]
   },
   "outputs": [
    {
     "name": "stdout",
     "output_type": "stream",
     "text": [
      "[0, 1, 2, 3, 4, 5]\n"
     ]
    }
   ],
   "source": [
    "numbers = [0, 1, 2, 3, 4, 5]\n",
    "print(numbers)"
   ]
  },
  {
   "cell_type": "markdown",
   "id": "6464c096",
   "metadata": {},
   "source": [
    "### list constructor\n",
    "\n",
    "Create an empty list using the `list()` constructor:"
   ]
  },
  {
   "cell_type": "code",
   "execution_count": 4,
   "id": "32d0081d",
   "metadata": {},
   "outputs": [
    {
     "name": "stdout",
     "output_type": "stream",
     "text": [
      "[]\n"
     ]
    }
   ],
   "source": [
    "c_list  = list()\n",
    "print(c_list)"
   ]
  },
  {
   "cell_type": "markdown",
   "id": "aa92aba1",
   "metadata": {},
   "source": [
    "Create a list from another iterable:"
   ]
  },
  {
   "cell_type": "code",
   "execution_count": 5,
   "id": "71e7f348",
   "metadata": {
    "tags": [
     "thebe-init"
    ]
   },
   "outputs": [
    {
     "name": "stdout",
     "output_type": "stream",
     "text": [
      "['a', 'b', 'c', 'd', 'e', 'f', 'g', 'h', 'i', 'j', 'k', 'l', 'm', 'n', 'o', 'p', 'q', 'r', 's', 't', 'u', 'v', 'w', 'x', 'y', 'z']\n"
     ]
    }
   ],
   "source": [
    "letters = list(\"abcdefghijklmnopqrstuvwxyz\")\n",
    "print(letters)"
   ]
  },
  {
   "cell_type": "markdown",
   "id": "51147531",
   "metadata": {},
   "source": [
    "Selecting Elements\n",
    "------------------\n",
    "\n",
    "Elements are accessed via {term}`subscription` with the syntax: {samp}`{COLLECTION}[{SELECTOR}]`.\n",
    "\n",
    "The `SELECTOR` can be:\n",
    "\n",
    "* {term}`index number`\n",
    "* {term}`negative index number`\n",
    "* {term}`slice`\n",
    "\n",
    "### Via index number\n",
    "\n",
    "First element:"
   ]
  },
  {
   "cell_type": "code",
   "execution_count": 6,
   "id": "2301e11a",
   "metadata": {},
   "outputs": [
    {
     "name": "stdout",
     "output_type": "stream",
     "text": [
      "a\n"
     ]
    }
   ],
   "source": [
    "print(letters[0])"
   ]
  },
  {
   "cell_type": "markdown",
   "id": "a922f28e",
   "metadata": {},
   "source": [
    "Second element:"
   ]
  },
  {
   "cell_type": "code",
   "execution_count": 7,
   "id": "009faba8",
   "metadata": {},
   "outputs": [
    {
     "name": "stdout",
     "output_type": "stream",
     "text": [
      "b\n"
     ]
    }
   ],
   "source": [
    "print(letters[1])"
   ]
  },
  {
   "cell_type": "markdown",
   "id": "56b03963",
   "metadata": {},
   "source": [
    "Last element:"
   ]
  },
  {
   "cell_type": "code",
   "execution_count": 8,
   "id": "e46d59d9",
   "metadata": {},
   "outputs": [
    {
     "name": "stdout",
     "output_type": "stream",
     "text": [
      "z\n"
     ]
    }
   ],
   "source": [
    "print(letters[-1])"
   ]
  },
  {
   "cell_type": "markdown",
   "id": "9811f9de",
   "metadata": {},
   "source": [
    "### Via slice\n",
    "\n",
    "Or the `SELECTOR` can be a {term}`slice`.\n",
    "\n",
    "The synax is either of the following.\n",
    "\n",
    "* {samp}`{COLLECTION}[{START}:{STOP}]`\n",
    "* {samp}`{COLLECTION}[{START}:{STOP}:{STEP}]`\n",
    "\n",
    "From `numbers[1]` to before `numbers[3]`:"
   ]
  },
  {
   "cell_type": "code",
   "execution_count": 9,
   "id": "31a402d7",
   "metadata": {},
   "outputs": [
    {
     "name": "stdout",
     "output_type": "stream",
     "text": [
      "[1, 2]\n"
     ]
    }
   ],
   "source": [
    "print(numbers[1:3])"
   ]
  },
  {
   "cell_type": "markdown",
   "id": "821a541b",
   "metadata": {},
   "source": [
    "All but the first element:"
   ]
  },
  {
   "cell_type": "code",
   "execution_count": 10,
   "id": "46fc162b",
   "metadata": {},
   "outputs": [
    {
     "name": "stdout",
     "output_type": "stream",
     "text": [
      "[1, 2, 3, 4, 5]\n"
     ]
    }
   ],
   "source": [
    "print(numbers[1:])"
   ]
  },
  {
   "cell_type": "markdown",
   "id": "29cc7b70",
   "metadata": {},
   "source": [
    "All but the last element:"
   ]
  },
  {
   "cell_type": "code",
   "execution_count": 11,
   "id": "4e8e4950",
   "metadata": {},
   "outputs": [
    {
     "name": "stdout",
     "output_type": "stream",
     "text": [
      "[0, 1, 2, 3, 4]\n"
     ]
    }
   ],
   "source": [
    "print(numbers[:-1])"
   ]
  },
  {
   "cell_type": "markdown",
   "id": "eebccc14",
   "metadata": {},
   "source": [
    "Every other element from `numbers[3]` to before `numbers[15]`:"
   ]
  },
  {
   "cell_type": "code",
   "execution_count": 12,
   "id": "aecb9e05",
   "metadata": {},
   "outputs": [
    {
     "name": "stdout",
     "output_type": "stream",
     "text": [
      "[3, 5]\n"
     ]
    }
   ],
   "source": [
    "print(numbers[3:15:2])"
   ]
  },
  {
   "cell_type": "markdown",
   "id": "2a7c273d",
   "metadata": {},
   "source": [
    "Elements in reversed order with a negative `STEP` number and a `START` that is\n",
    "greater than `STOP`."
   ]
  },
  {
   "cell_type": "code",
   "execution_count": 13,
   "id": "d40f18f0",
   "metadata": {},
   "outputs": [
    {
     "name": "stdout",
     "output_type": "stream",
     "text": [
      "[2, 1, 0]\n",
      "[5, 4]\n"
     ]
    }
   ],
   "source": [
    "print(numbers[2::-1])\n",
    "print(numbers[-1:-3:-1])"
   ]
  },
  {
   "cell_type": "markdown",
   "id": "8f4d7062",
   "metadata": {},
   "source": [
    "Entire list:"
   ]
  },
  {
   "cell_type": "code",
   "execution_count": 14,
   "id": "9cd8eb90",
   "metadata": {},
   "outputs": [
    {
     "name": "stdout",
     "output_type": "stream",
     "text": [
      "[0, 1, 2, 3, 4, 5]\n"
     ]
    }
   ],
   "source": [
    "print(numbers[:])"
   ]
  },
  {
   "cell_type": "markdown",
   "id": "af3e18de",
   "metadata": {},
   "source": [
    "### Exceptions\n",
    "\n",
    "An `IndexError` exception will be raised for any selectors using using\n",
    "non-existant index numbers."
   ]
  },
  {
   "cell_type": "code",
   "execution_count": 15,
   "id": "80906d4b",
   "metadata": {
    "tags": [
     "raises-exception"
    ]
   },
   "outputs": [
    {
     "ename": "IndexError",
     "evalue": "list index out of range",
     "output_type": "error",
     "traceback": [
      "\u001b[0;31m---------------------------------------------------------------------------\u001b[0m",
      "\u001b[0;31mIndexError\u001b[0m                                Traceback (most recent call last)",
      "\u001b[0;32m/tmp/ipykernel_1931/2154710734.py\u001b[0m in \u001b[0;36m<module>\u001b[0;34m\u001b[0m\n\u001b[0;32m----> 1\u001b[0;31m \u001b[0mvalue\u001b[0m \u001b[0;34m=\u001b[0m \u001b[0mnumbers\u001b[0m\u001b[0;34m[\u001b[0m\u001b[0;36m10\u001b[0m\u001b[0;34m]\u001b[0m\u001b[0;34m\u001b[0m\u001b[0;34m\u001b[0m\u001b[0m\n\u001b[0m\u001b[1;32m      2\u001b[0m \u001b[0mprint\u001b[0m\u001b[0;34m(\u001b[0m\u001b[0mvalue\u001b[0m\u001b[0;34m)\u001b[0m\u001b[0;34m\u001b[0m\u001b[0;34m\u001b[0m\u001b[0m\n",
      "\u001b[0;31mIndexError\u001b[0m: list index out of range"
     ]
    }
   ],
   "source": [
    "value = numbers[10]\n",
    "print(value)"
   ]
  },
  {
   "cell_type": "code",
   "execution_count": 16,
   "id": "d0ca1d42",
   "metadata": {
    "tags": [
     "raises-exception"
    ]
   },
   "outputs": [
    {
     "ename": "IndexError",
     "evalue": "list index out of range",
     "output_type": "error",
     "traceback": [
      "\u001b[0;31m---------------------------------------------------------------------------\u001b[0m",
      "\u001b[0;31mIndexError\u001b[0m                                Traceback (most recent call last)",
      "\u001b[0;32m/tmp/ipykernel_1931/2526518119.py\u001b[0m in \u001b[0;36m<module>\u001b[0;34m\u001b[0m\n\u001b[0;32m----> 1\u001b[0;31m \u001b[0mvalue\u001b[0m \u001b[0;34m=\u001b[0m \u001b[0mnumbers\u001b[0m\u001b[0;34m[\u001b[0m\u001b[0;34m-\u001b[0m\u001b[0;36m10\u001b[0m\u001b[0;34m]\u001b[0m\u001b[0;34m\u001b[0m\u001b[0;34m\u001b[0m\u001b[0m\n\u001b[0m\u001b[1;32m      2\u001b[0m \u001b[0mprint\u001b[0m\u001b[0;34m(\u001b[0m\u001b[0mvalue\u001b[0m\u001b[0;34m)\u001b[0m\u001b[0;34m\u001b[0m\u001b[0;34m\u001b[0m\u001b[0m\n",
      "\u001b[0;31mIndexError\u001b[0m: list index out of range"
     ]
    }
   ],
   "source": [
    "value = numbers[-10]\n",
    "print(value)"
   ]
  },
  {
   "cell_type": "markdown",
   "id": "21406643",
   "metadata": {},
   "source": [
    "Suppress errors with a try except block:"
   ]
  },
  {
   "cell_type": "code",
   "execution_count": 17,
   "id": "54ef315a",
   "metadata": {},
   "outputs": [
    {
     "name": "stdout",
     "output_type": "stream",
     "text": [
      "None\n"
     ]
    }
   ],
   "source": [
    "try:\n",
    "  value = numbers[10]\n",
    "except IndexError:\n",
    "  value = None\n",
    "\n",
    "print(value)"
   ]
  },
  {
   "cell_type": "markdown",
   "id": "5e2b991d",
   "metadata": {},
   "source": [
    "Modification\n",
    "------------\n",
    "\n",
    "### Change\n",
    "\n",
    "#### By index"
   ]
  },
  {
   "cell_type": "code",
   "execution_count": 18,
   "id": "baa33b55",
   "metadata": {},
   "outputs": [
    {
     "name": "stdout",
     "output_type": "stream",
     "text": [
      "[0, 100, 2, 3, 4, 5]\n"
     ]
    }
   ],
   "source": [
    "numbers[1] = 100\n",
    "print(numbers)"
   ]
  },
  {
   "cell_type": "markdown",
   "id": "836a5d0e",
   "metadata": {},
   "source": [
    "#### By slice"
   ]
  },
  {
   "cell_type": "code",
   "execution_count": 19,
   "id": "f134f1a7",
   "metadata": {},
   "outputs": [
    {
     "name": "stdout",
     "output_type": "stream",
     "text": [
      "[0, 100, 2, 300, 400, 5]\n"
     ]
    }
   ],
   "source": [
    "numbers[3:5] = [300, 400]\n",
    "print(numbers)"
   ]
  },
  {
   "cell_type": "markdown",
   "id": "92574e05",
   "metadata": {},
   "source": [
    "### Add"
   ]
  },
  {
   "cell_type": "code",
   "execution_count": 20,
   "id": "ed71e295",
   "metadata": {
    "tags": [
     "thebe-init"
    ]
   },
   "outputs": [
    {
     "name": "stdout",
     "output_type": "stream",
     "text": [
      "['bear', 'chimpanzee', 'elephant']\n"
     ]
    }
   ],
   "source": [
    "animals = [\"bear\", \"chimpanzee\", \"elephant\"]\n",
    "print(animals)"
   ]
  },
  {
   "cell_type": "markdown",
   "id": "d82058aa",
   "metadata": {},
   "source": [
    "#### To end"
   ]
  },
  {
   "cell_type": "code",
   "execution_count": 21,
   "id": "5b6ef17e",
   "metadata": {},
   "outputs": [
    {
     "name": "stdout",
     "output_type": "stream",
     "text": [
      "['bear', 'chimpanzee', 'elephant', 'hedgehog']\n"
     ]
    }
   ],
   "source": [
    "animals.append(\"hedgehog\")\n",
    "print(animals)"
   ]
  },
  {
   "cell_type": "markdown",
   "id": "516ce4c8",
   "metadata": {},
   "source": [
    "#### At a specific position"
   ]
  },
  {
   "cell_type": "code",
   "execution_count": 22,
   "id": "80069620",
   "metadata": {},
   "outputs": [
    {
     "name": "stdout",
     "output_type": "stream",
     "text": [
      "['bear', 'chimpanzee', 'dolphin', 'elephant', 'hedgehog']\n"
     ]
    }
   ],
   "source": [
    "animals.insert(2, \"dolphin\")\n",
    "print(animals)"
   ]
  },
  {
   "cell_type": "code",
   "execution_count": 23,
   "id": "71bdb519",
   "metadata": {},
   "outputs": [
    {
     "name": "stdout",
     "output_type": "stream",
     "text": [
      "['antelope', 'bear', 'chimpanzee', 'dolphin', 'elephant', 'hedgehog']\n"
     ]
    }
   ],
   "source": [
    "animals.insert(0, \"antelope\")\n",
    "print(animals)"
   ]
  },
  {
   "cell_type": "markdown",
   "id": "d597451a",
   "metadata": {},
   "source": [
    "#### From iterable\n",
    "\n",
    "##### Using `.extend()`"
   ]
  },
  {
   "cell_type": "code",
   "execution_count": 24,
   "id": "75941f19",
   "metadata": {},
   "outputs": [
    {
     "name": "stdout",
     "output_type": "stream",
     "text": [
      "['antelope',\n",
      " 'bear',\n",
      " 'chimpanzee',\n",
      " 'dolphin',\n",
      " 'elephant',\n",
      " 'hedgehog',\n",
      " 'lynx',\n",
      " 'ocelot',\n",
      " 'puma']\n"
     ]
    }
   ],
   "source": [
    "from pprint import pprint\n",
    "\n",
    "animals.extend([\"lynx\", \"ocelot\", \"puma\"])\n",
    "pprint(animals)"
   ]
  },
  {
   "cell_type": "markdown",
   "id": "99c60e99",
   "metadata": {},
   "source": [
    "##### With concatonation"
   ]
  },
  {
   "cell_type": "code",
   "execution_count": 25,
   "id": "c8d5318d",
   "metadata": {},
   "outputs": [
    {
     "name": "stdout",
     "output_type": "stream",
     "text": [
      "['antelope',\n",
      " 'bear',\n",
      " 'chimpanzee',\n",
      " 'dolphin',\n",
      " 'elephant',\n",
      " 'hedgehog',\n",
      " 'lynx',\n",
      " 'ocelot',\n",
      " 'puma',\n",
      " 'skink',\n",
      " 'turtle',\n",
      " 'viper']\n"
     ]
    }
   ],
   "source": [
    "animals = animals + [\"skink\", \"turtle\", \"viper\"]\n",
    "pprint(animals)"
   ]
  },
  {
   "cell_type": "markdown",
   "id": "79423dae",
   "metadata": {},
   "source": [
    "Or using the `+=` operator:"
   ]
  },
  {
   "cell_type": "code",
   "execution_count": 26,
   "id": "e99a8aca",
   "metadata": {},
   "outputs": [
    {
     "name": "stdout",
     "output_type": "stream",
     "text": [
      "['antelope',\n",
      " 'bear',\n",
      " 'chimpanzee',\n",
      " 'dolphin',\n",
      " 'elephant',\n",
      " 'hedgehog',\n",
      " 'lynx',\n",
      " 'ocelot',\n",
      " 'puma',\n",
      " 'skink',\n",
      " 'turtle',\n",
      " 'viper',\n",
      " 'wolf',\n",
      " 'zebra']\n"
     ]
    }
   ],
   "source": [
    "animals += [\"wolf\", \"zebra\"]\n",
    "pprint(animals)"
   ]
  },
  {
   "cell_type": "markdown",
   "id": "275d37cd",
   "metadata": {},
   "source": [
    "##### Repeteadly with multiplication"
   ]
  },
  {
   "cell_type": "code",
   "execution_count": 27,
   "id": "589cc8e0",
   "metadata": {},
   "outputs": [
    {
     "name": "stdout",
     "output_type": "stream",
     "text": [
      "['rinse', 'repeat']\n",
      "['rinse', 'repeat', 'rinse', 'repeat', 'rinse', 'repeat']\n"
     ]
    }
   ],
   "source": [
    "steps = [\"rinse\", \"repeat\"]\n",
    "print(steps)\n",
    "\n",
    "steps = (steps * 3)\n",
    "print(steps)"
   ]
  },
  {
   "cell_type": "markdown",
   "id": "7b87540f",
   "metadata": {},
   "source": [
    "Or using the `*=` operator:"
   ]
  },
  {
   "cell_type": "code",
   "execution_count": 28,
   "id": "38ed0c26",
   "metadata": {},
   "outputs": [
    {
     "name": "stdout",
     "output_type": "stream",
     "text": [
      "['rinse', 'repeat']\n",
      "['rinse', 'repeat', 'rinse', 'repeat', 'rinse', 'repeat']\n"
     ]
    }
   ],
   "source": [
    "steps = [\"rinse\", \"repeat\"]\n",
    "print(steps)\n",
    "\n",
    "steps *= 3\n",
    "print(steps)"
   ]
  },
  {
   "cell_type": "markdown",
   "id": "8a9d1c50",
   "metadata": {},
   "source": [
    "### Remove"
   ]
  },
  {
   "cell_type": "code",
   "execution_count": 29,
   "id": "a7cb8619",
   "metadata": {},
   "outputs": [
    {
     "name": "stdout",
     "output_type": "stream",
     "text": [
      "['H', 'e', 'l', 'l', ' ', 'w', 'o', 'r', 'l', 'd']\n"
     ]
    }
   ],
   "source": [
    "chars = list(\"Hello world\")\n",
    "\n",
    "del chars[4]\n",
    "print(chars)"
   ]
  },
  {
   "cell_type": "markdown",
   "id": "be300131",
   "metadata": {},
   "source": [
    "#### By index"
   ]
  },
  {
   "cell_type": "code",
   "execution_count": 30,
   "id": "0f493060",
   "metadata": {},
   "outputs": [
    {
     "name": "stdout",
     "output_type": "stream",
     "text": [
      "['H', 'e', 'l', 'l', ' ', 'w', 'o', 'r', 'l', 'd']"
     ]
    },
    {
     "name": "stdout",
     "output_type": "stream",
     "text": [
      "\n"
     ]
    }
   ],
   "source": [
    "chars = list(\"Hello world\")\n",
    "\n",
    "del chars[4]\n",
    "print(chars)"
   ]
  },
  {
   "cell_type": "markdown",
   "id": "7468685b",
   "metadata": {},
   "source": [
    "#### By value\n",
    "\n",
    "Remove first occurance of value using the `.remove() method`:"
   ]
  },
  {
   "cell_type": "code",
   "execution_count": 31,
   "id": "e14f1339",
   "metadata": {},
   "outputs": [
    {
     "name": "stdout",
     "output_type": "stream",
     "text": [
      "['H', 'e', 'l', 'o', ' ', 'w', 'o', 'r', 'l', 'd']\n"
     ]
    }
   ],
   "source": [
    "chars = list(\"Hello world\")\n",
    "\n",
    "chars.remove(\"l\")\n",
    "print(chars)"
   ]
  },
  {
   "cell_type": "markdown",
   "id": "56fef82f",
   "metadata": {},
   "source": [
    "#### By slice\n",
    "\n",
    "Using the `del` keyword:"
   ]
  },
  {
   "cell_type": "code",
   "execution_count": 32,
   "id": "d3c779f9",
   "metadata": {},
   "outputs": [
    {
     "name": "stdout",
     "output_type": "stream",
     "text": [
      "['H', 'e', 'l', 'd']\n"
     ]
    }
   ],
   "source": [
    "chars = list(\"Hello world\")\n",
    "\n",
    "del chars[2:9]\n",
    "print(chars)"
   ]
  },
  {
   "cell_type": "markdown",
   "id": "0cdeb8a8",
   "metadata": {},
   "source": [
    "By assigning to an empty list:"
   ]
  },
  {
   "cell_type": "code",
   "execution_count": 33,
   "id": "948b4fc0",
   "metadata": {},
   "outputs": [
    {
     "name": "stdout",
     "output_type": "stream",
     "text": [
      "['l', 'o', ' ', 'w', 'o', 'r', 'l', 'd']\n"
     ]
    }
   ],
   "source": [
    "chars = list(\"Hello world\")\n",
    "\n",
    "chars[0:3] = []\n",
    "print(chars)"
   ]
  },
  {
   "cell_type": "markdown",
   "id": "8b8d581f",
   "metadata": {},
   "source": [
    "#### All elements"
   ]
  },
  {
   "cell_type": "code",
   "execution_count": 34,
   "id": "0fc1248f",
   "metadata": {},
   "outputs": [
    {
     "name": "stdout",
     "output_type": "stream",
     "text": [
      "[]\n"
     ]
    }
   ],
   "source": [
    "chars = list(\"Hello world\")\n",
    "\n",
    "chars.clear()\n",
    "print(chars)"
   ]
  },
  {
   "cell_type": "markdown",
   "id": "f8dc9838",
   "metadata": {},
   "source": [
    "#### Remove and return\n",
    "\n",
    "##### The last element"
   ]
  },
  {
   "cell_type": "code",
   "execution_count": 35,
   "id": "106cf802",
   "metadata": {},
   "outputs": [
    {
     "name": "stdout",
     "output_type": "stream",
     "text": [
      "removed: 'd' \n",
      "\n",
      "['H', 'e', 'l', 'l', 'o', ' ', 'w', 'o', 'r', 'l']\n"
     ]
    }
   ],
   "source": [
    "chars = list(\"Hello world\")\n",
    "\n",
    "removed = chars.pop()\n",
    "\n",
    "print(\"removed:\", repr(removed), \"\\n\")\n",
    "print(chars)"
   ]
  },
  {
   "cell_type": "markdown",
   "id": "2f0bc3df",
   "metadata": {},
   "source": [
    "##### A specific element by position"
   ]
  },
  {
   "cell_type": "code",
   "execution_count": 36,
   "id": "f847b480",
   "metadata": {},
   "outputs": [
    {
     "name": "stdout",
     "output_type": "stream",
     "text": [
      "removed: 'l' \n",
      "\n",
      "['H', 'e', 'l', 'o', ' ', 'w', 'o', 'r', 'l', 'd']\n"
     ]
    }
   ],
   "source": [
    "chars = list(\"Hello world\")\n",
    "\n",
    "removed = chars.pop(2)\n",
    "\n",
    "print(\"removed:\", repr(removed), \"\\n\")\n",
    "print(chars)"
   ]
  },
  {
   "cell_type": "markdown",
   "id": "66dcf9d3",
   "metadata": {},
   "source": [
    "Membership\n",
    "----------"
   ]
  },
  {
   "cell_type": "code",
   "execution_count": 37,
   "id": "9b2e5ce1",
   "metadata": {
    "tags": [
     "thebe-init"
    ]
   },
   "outputs": [],
   "source": [
    "chars = list(\"Mississippi\")\n",
    "words = ['Welcome', 'to', 'Python', 'Class']"
   ]
  },
  {
   "cell_type": "markdown",
   "id": "f1ec42ec",
   "metadata": {},
   "source": [
    "### Contains\n",
    "\n",
    "Check if list contains value using the `in` operator:"
   ]
  },
  {
   "cell_type": "code",
   "execution_count": 38,
   "id": "60409f2f",
   "metadata": {},
   "outputs": [
    {
     "data": {
      "text/plain": [
       "True"
      ]
     },
     "execution_count": 38,
     "metadata": {},
     "output_type": "execute_result"
    }
   ],
   "source": [
    "\"Class\" in words"
   ]
  },
  {
   "cell_type": "markdown",
   "id": "d0e73fa4",
   "metadata": {},
   "source": [
    "Check if list does not contains value using the `not in` operator:"
   ]
  },
  {
   "cell_type": "code",
   "execution_count": 39,
   "id": "36b04abf",
   "metadata": {},
   "outputs": [
    {
     "data": {
      "text/plain": [
       "False"
      ]
     },
     "execution_count": 39,
     "metadata": {},
     "output_type": "execute_result"
    }
   ],
   "source": [
    "\"Class\" not in words"
   ]
  },
  {
   "cell_type": "markdown",
   "id": "20d8230e",
   "metadata": {},
   "source": [
    "### Count\n",
    "\n",
    "Number of times value occurs in list:"
   ]
  },
  {
   "cell_type": "code",
   "execution_count": 40,
   "id": "b406654f",
   "metadata": {},
   "outputs": [
    {
     "data": {
      "text/plain": [
       "4"
      ]
     },
     "execution_count": 40,
     "metadata": {},
     "output_type": "execute_result"
    }
   ],
   "source": [
    "chars.count(\"i\")"
   ]
  },
  {
   "cell_type": "markdown",
   "id": "13d9d0fc",
   "metadata": {},
   "source": [
    "### Index\n",
    "\n",
    "To look up the index number of a particular value, use the `.index()` method.\n",
    "\n",
    "Get the first index number of value:"
   ]
  },
  {
   "cell_type": "code",
   "execution_count": 41,
   "id": "eb4a1fd2",
   "metadata": {},
   "outputs": [
    {
     "data": {
      "text/plain": [
       "2"
      ]
     },
     "execution_count": 41,
     "metadata": {},
     "output_type": "execute_result"
    }
   ],
   "source": [
    "chars.index(\"s\")"
   ]
  },
  {
   "cell_type": "markdown",
   "id": "63432558",
   "metadata": {},
   "source": [
    "Same, but look in `chars[3:]`:"
   ]
  },
  {
   "cell_type": "code",
   "execution_count": 42,
   "id": "f5b65be5",
   "metadata": {},
   "outputs": [
    {
     "data": {
      "text/plain": [
       "3"
      ]
     },
     "execution_count": 42,
     "metadata": {},
     "output_type": "execute_result"
    }
   ],
   "source": [
    "chars.index(\"s\", 3)"
   ]
  },
  {
   "cell_type": "markdown",
   "id": "cc4670a2",
   "metadata": {},
   "source": [
    "Same, but look in `chars[5:9]`:"
   ]
  },
  {
   "cell_type": "code",
   "execution_count": 43,
   "id": "973d77d6",
   "metadata": {},
   "outputs": [
    {
     "data": {
      "text/plain": [
       "7"
      ]
     },
     "execution_count": 43,
     "metadata": {},
     "output_type": "execute_result"
    }
   ],
   "source": [
    "chars.index(\"i\", 5, 9)"
   ]
  },
  {
   "cell_type": "markdown",
   "id": "81f48038",
   "metadata": {},
   "source": [
    "Iteration\n",
    "---------\n",
    "\n",
    "### for loop\n",
    "\n",
    "Iterate over each element:"
   ]
  },
  {
   "cell_type": "code",
   "execution_count": 44,
   "id": "cd246a91",
   "metadata": {},
   "outputs": [
    {
     "name": "stdout",
     "output_type": "stream",
     "text": [
      "red\n",
      "blue\n",
      "green\n"
     ]
    }
   ],
   "source": [
    "colors = [\"red\", \"blue\", \"green\"]\n",
    "for item in colors:\n",
    "  print(item)"
   ]
  },
  {
   "cell_type": "markdown",
   "id": "d537bff5",
   "metadata": {},
   "source": [
    "#### enumerate\n",
    "\n",
    "Iterate over each index number and element:"
   ]
  },
  {
   "cell_type": "code",
   "execution_count": 45,
   "id": "aef3e2b3",
   "metadata": {},
   "outputs": [
    {
     "name": "stdout",
     "output_type": "stream",
     "text": [
      "0 breakfast\n",
      "1 lunch\n",
      "2 dinner\n"
     ]
    }
   ],
   "source": [
    "meals = [\"breakfast\", \"lunch\", \"dinner\"]\n",
    "for i, item in enumerate(meals):\n",
    "  print(i, item)"
   ]
  },
  {
   "cell_type": "markdown",
   "id": "47f2bca8",
   "metadata": {},
   "source": [
    "Iterate over each index number and element value, starting `i` at `1`:"
   ]
  },
  {
   "cell_type": "code",
   "execution_count": 46,
   "id": "af8068d9",
   "metadata": {},
   "outputs": [
    {
     "name": "stdout",
     "output_type": "stream",
     "text": [
      "1 water\n",
      "2 tea\n",
      "3 coffee\n"
     ]
    }
   ],
   "source": [
    "drinks = [\"water\", \"tea\", \"coffee\"]\n",
    "for i, item in enumerate(drinks, 1):\n",
    "  print(i, item)"
   ]
  },
  {
   "cell_type": "markdown",
   "id": "f537e231",
   "metadata": {},
   "source": [
    "Aggregation\n",
    "-----------\n",
    "\n",
    "Functions that provide information about the container as a whole.\n",
    "\n",
    "### Length"
   ]
  },
  {
   "cell_type": "code",
   "execution_count": 47,
   "id": "5dcfb23b",
   "metadata": {},
   "outputs": [
    {
     "data": {
      "text/plain": [
       "4"
      ]
     },
     "execution_count": 47,
     "metadata": {},
     "output_type": "execute_result"
    }
   ],
   "source": [
    "len([0, 1, 2, 3])"
   ]
  },
  {
   "cell_type": "markdown",
   "id": "4a956887",
   "metadata": {},
   "source": [
    "### Maximum value"
   ]
  },
  {
   "cell_type": "code",
   "execution_count": 48,
   "id": "2efe2f31",
   "metadata": {},
   "outputs": [
    {
     "data": {
      "text/plain": [
       "3"
      ]
     },
     "execution_count": 48,
     "metadata": {},
     "output_type": "execute_result"
    }
   ],
   "source": [
    "max([0, 1, 2, 3])"
   ]
  },
  {
   "cell_type": "markdown",
   "id": "eed1f378",
   "metadata": {},
   "source": [
    "### Minimum value"
   ]
  },
  {
   "cell_type": "code",
   "execution_count": 49,
   "id": "2fdeb453",
   "metadata": {},
   "outputs": [
    {
     "data": {
      "text/plain": [
       "0"
      ]
     },
     "execution_count": 49,
     "metadata": {},
     "output_type": "execute_result"
    }
   ],
   "source": [
    "min([0, 1, 2, 3])"
   ]
  },
  {
   "cell_type": "markdown",
   "id": "4a366ecf",
   "metadata": {},
   "source": [
    "### Sum of values"
   ]
  },
  {
   "cell_type": "code",
   "execution_count": 50,
   "id": "3cd8e11b",
   "metadata": {},
   "outputs": [
    {
     "data": {
      "text/plain": [
       "6"
      ]
     },
     "execution_count": 50,
     "metadata": {},
     "output_type": "execute_result"
    }
   ],
   "source": [
    "sum([0, 1, 2, 3])"
   ]
  },
  {
   "cell_type": "markdown",
   "id": "b601a8f0",
   "metadata": {},
   "source": [
    "### any\n",
    "\n",
    "Return `True` if any elements are truthy:"
   ]
  },
  {
   "cell_type": "code",
   "execution_count": 51,
   "id": "5f102e43",
   "metadata": {},
   "outputs": [
    {
     "data": {
      "text/plain": [
       "False"
      ]
     },
     "execution_count": 51,
     "metadata": {},
     "output_type": "execute_result"
    }
   ],
   "source": [
    "any([0, False, \"\"])"
   ]
  },
  {
   "cell_type": "code",
   "execution_count": 52,
   "id": "c71a1271",
   "metadata": {},
   "outputs": [
    {
     "data": {
      "text/plain": [
       "True"
      ]
     },
     "execution_count": 52,
     "metadata": {},
     "output_type": "execute_result"
    }
   ],
   "source": [
    "any([0, 1, 2, 3])"
   ]
  },
  {
   "cell_type": "markdown",
   "id": "273c2cf1",
   "metadata": {},
   "source": [
    "### all\n",
    "\n",
    "Return `True` if all elements are truthy:"
   ]
  },
  {
   "cell_type": "code",
   "execution_count": 53,
   "id": "19505409",
   "metadata": {},
   "outputs": [
    {
     "data": {
      "text/plain": [
       "False"
      ]
     },
     "execution_count": 53,
     "metadata": {},
     "output_type": "execute_result"
    }
   ],
   "source": [
    "all([0, 1, 2, 3])"
   ]
  },
  {
   "cell_type": "code",
   "execution_count": 54,
   "id": "e42946f9",
   "metadata": {},
   "outputs": [
    {
     "data": {
      "text/plain": [
       "True"
      ]
     },
     "execution_count": 54,
     "metadata": {},
     "output_type": "execute_result"
    }
   ],
   "source": [
    "all([True, 1, \"hello\"])"
   ]
  },
  {
   "cell_type": "markdown",
   "id": "a3a66112",
   "metadata": {},
   "source": [
    "Copying\n",
    "-------"
   ]
  },
  {
   "cell_type": "code",
   "execution_count": 55,
   "id": "fcfe4499",
   "metadata": {
    "tags": [
     "thebe-init"
    ]
   },
   "outputs": [],
   "source": [
    "DEFAULTS = [\n",
    "  {\n",
    "    'name': \"Joe Smith\",\n",
    "    'email': 'joe.smith@gmail.com',\n",
    "  },\n",
    "  {\n",
    "    'name': \"Jane Doe\",\n",
    "    'email': \"jane.doe@gmail.com\"\n",
    "  }\n",
    "]"
   ]
  },
  {
   "cell_type": "markdown",
   "id": "6c9d1d73",
   "metadata": {},
   "source": [
    "### Alias\n",
    "\n",
    "A {term}`reference` or {term}`alias` creates a new variable that points to the\n",
    "same object."
   ]
  },
  {
   "cell_type": "code",
   "execution_count": 56,
   "id": "172e22ed",
   "metadata": {},
   "outputs": [
    {
     "data": {
      "text/plain": [
       "True"
      ]
     },
     "execution_count": 56,
     "metadata": {},
     "output_type": "execute_result"
    }
   ],
   "source": [
    "authors = DEFAULTS\n",
    "\n",
    "authors is DEFAULTS"
   ]
  },
  {
   "cell_type": "markdown",
   "id": "0218687d",
   "metadata": {},
   "source": [
    "### Shallow copy\n",
    "\n",
    "A {term}`shallow copy` creates a new container object then adds references to elements.\n",
    "\n",
    "Using `.copy()`:"
   ]
  },
  {
   "cell_type": "code",
   "execution_count": 57,
   "id": "35a7f42b",
   "metadata": {},
   "outputs": [
    {
     "name": "stdout",
     "output_type": "stream",
     "text": [
      "False\n",
      "True\n"
     ]
    }
   ],
   "source": [
    "authors = DEFAULTS.copy()\n",
    "\n",
    "print(authors is DEFAULTS)\n",
    "print(authors[0] is DEFAULTS[0])"
   ]
  },
  {
   "cell_type": "markdown",
   "id": "4fa70415",
   "metadata": {},
   "source": [
    "Using `copy.copy()`:"
   ]
  },
  {
   "cell_type": "code",
   "execution_count": 58,
   "id": "76936799",
   "metadata": {},
   "outputs": [
    {
     "name": "stdout",
     "output_type": "stream",
     "text": [
      "False\n",
      "True\n"
     ]
    }
   ],
   "source": [
    "import copy\n",
    "\n",
    "authors = copy.copy(DEFAULTS)\n",
    "\n",
    "print(authors is DEFAULTS)\n",
    "print(authors[0] is DEFAULTS[0])"
   ]
  },
  {
   "cell_type": "markdown",
   "id": "b8a581fd",
   "metadata": {},
   "source": [
    "Using a slice:"
   ]
  },
  {
   "cell_type": "code",
   "execution_count": 59,
   "id": "8e73462b",
   "metadata": {},
   "outputs": [
    {
     "name": "stdout",
     "output_type": "stream",
     "text": [
      "False\n",
      "True\n"
     ]
    }
   ],
   "source": [
    "authors = DEFAULTS[:]\n",
    "\n",
    "print(authors is DEFAULTS)\n",
    "print(authors[0] is DEFAULTS[0])"
   ]
  },
  {
   "cell_type": "markdown",
   "id": "4a152b3d",
   "metadata": {},
   "source": [
    "### Deep copy\n",
    "\n",
    "A {term}`deep copy` creates a new container object then recursively adds the copies of nested elements."
   ]
  },
  {
   "cell_type": "code",
   "execution_count": 60,
   "id": "57d95b6e",
   "metadata": {},
   "outputs": [
    {
     "name": "stdout",
     "output_type": "stream",
     "text": [
      "False\n",
      "False\n"
     ]
    }
   ],
   "source": [
    "import copy\n",
    "authors = copy.deepcopy(DEFAULTS)\n",
    "\n",
    "print(authors is DEFAULTS)\n",
    "print(authors[0] is DEFAULTS[0])"
   ]
  },
  {
   "cell_type": "markdown",
   "id": "400646f3",
   "metadata": {},
   "source": [
    "Sorting\n",
    "-------"
   ]
  },
  {
   "cell_type": "code",
   "execution_count": 61,
   "id": "bc692ade",
   "metadata": {
    "tags": [
     "remove-input",
     "thebe-init"
    ]
   },
   "outputs": [],
   "source": [
    "\"\"\"setup for sorting section\"\"\"\n",
    "\n",
    "from pprint import pformat\n",
    "\n",
    "def pprint(obj):\n",
    "  \"\"\"pretty print obj if defined, otherwise print an equal number of lines\"\"\"\n",
    "  if obj:\n",
    "    print(pformat(obj, width=40))\n",
    "  else:\n",
    "    print(\"-\" + (\"\\n\"*(len(FRUIT)-1)) + repr(obj))"
   ]
  },
  {
   "cell_type": "code",
   "execution_count": 62,
   "id": "3961bf74",
   "metadata": {
    "tags": [
     "thebe-init"
    ]
   },
   "outputs": [],
   "source": [
    "\"\"\"setup for sorting section\"\"\"\n",
    "\n",
    "# define global FRUIT list\n",
    "FRUIT = [\"cherry\", \"apple\", \"date\", \"bananna\", \"elderberry\"]"
   ]
  },
  {
   "cell_type": "markdown",
   "id": "147af146",
   "metadata": {},
   "source": [
    "### Returned sorting\n",
    "\n",
    "The following functions return a sorted version of the collection and leave\n",
    "original collection unmodified."
   ]
  },
  {
   "cell_type": "code",
   "execution_count": 63,
   "id": "7fe97565",
   "metadata": {
    "tags": [
     "thebe-init"
    ]
   },
   "outputs": [
    {
     "name": "stdout",
     "output_type": "stream",
     "text": [
      "['cherry',\n",
      " 'apple',\n",
      " 'date',\n",
      " 'bananna',\n",
      " 'elderberry']\n"
     ]
    }
   ],
   "source": [
    "# copy fruit list\n",
    "fruit = FRUIT[:]\n",
    "pprint(fruit)"
   ]
  },
  {
   "cell_type": "markdown",
   "id": "cc783ff0",
   "metadata": {},
   "source": [
    "#### Ascending order"
   ]
  },
  {
   "cell_type": "code",
   "execution_count": 64,
   "id": "346faf8e",
   "metadata": {},
   "outputs": [
    {
     "name": "stdout",
     "output_type": "stream",
     "text": [
      "['apple',\n",
      " 'bananna',\n",
      " 'cherry',\n",
      " 'date',\n",
      " 'elderberry']\n"
     ]
    }
   ],
   "source": [
    "result = sorted(fruit)\n",
    "pprint(result)"
   ]
  },
  {
   "cell_type": "markdown",
   "id": "e93e0047",
   "metadata": {},
   "source": [
    "#### Descending order"
   ]
  },
  {
   "cell_type": "code",
   "execution_count": 65,
   "id": "5ae062fe",
   "metadata": {},
   "outputs": [
    {
     "name": "stdout",
     "output_type": "stream",
     "text": [
      "['elderberry',\n",
      " 'date',\n",
      " 'cherry',\n",
      " 'bananna',\n",
      " 'apple']\n"
     ]
    }
   ],
   "source": [
    "result = sorted(fruit, reverse=True)\n",
    "pprint(result)"
   ]
  },
  {
   "cell_type": "markdown",
   "id": "a149e112",
   "metadata": {},
   "source": [
    "#### Reverse order"
   ]
  },
  {
   "cell_type": "code",
   "execution_count": 66,
   "id": "77dd4cb7",
   "metadata": {},
   "outputs": [
    {
     "name": "stdout",
     "output_type": "stream",
     "text": [
      "['elderberry',\n",
      " 'bananna',\n",
      " 'date',\n",
      " 'apple',\n",
      " 'cherry']\n"
     ]
    }
   ],
   "source": [
    "result = list(reversed(fruit))\n",
    "pprint(result)"
   ]
  },
  {
   "cell_type": "markdown",
   "id": "58f110aa",
   "metadata": {},
   "source": [
    "#### Order by callable key\n",
    "\n",
    "Using function:"
   ]
  },
  {
   "cell_type": "code",
   "execution_count": 67,
   "id": "2c183824",
   "metadata": {},
   "outputs": [
    {
     "name": "stdout",
     "output_type": "stream",
     "text": [
      "['date',\n",
      " 'apple',\n",
      " 'cherry',\n",
      " 'bananna',\n",
      " 'elderberry']\n"
     ]
    }
   ],
   "source": [
    "def order_by_length(text):\n",
    "    return len(text)\n",
    "\n",
    "result = sorted(fruit, key=order_by_length)\n",
    "pprint(result)"
   ]
  },
  {
   "cell_type": "markdown",
   "id": "6ae429cb",
   "metadata": {},
   "source": [
    "Using lambda:"
   ]
  },
  {
   "cell_type": "code",
   "execution_count": 68,
   "id": "93ca66a3",
   "metadata": {},
   "outputs": [
    {
     "name": "stdout",
     "output_type": "stream",
     "text": [
      "['date',\n",
      " 'apple',\n",
      " 'cherry',\n",
      " 'bananna',\n",
      " 'elderberry']\n"
     ]
    }
   ],
   "source": [
    "result = sorted(fruit, key=lambda v: len(v))\n",
    "pprint(result)"
   ]
  },
  {
   "cell_type": "markdown",
   "id": "dc35f749",
   "metadata": {},
   "source": [
    "### In-place sorting\n",
    "\n",
    "The following methods and functions change the order of the original collection\n",
    "and return `None`.\n",
    "\n",
    "#### Ascending order"
   ]
  },
  {
   "cell_type": "code",
   "execution_count": 69,
   "id": "aaabcbb4",
   "metadata": {},
   "outputs": [
    {
     "name": "stdout",
     "output_type": "stream",
     "text": [
      "['cherry',\n",
      " 'apple',\n",
      " 'date',\n",
      " 'bananna',\n",
      " 'elderberry']\n",
      "--------------\n",
      "['apple',\n",
      " 'bananna',\n",
      " 'cherry',\n",
      " 'date',\n",
      " 'elderberry']\n"
     ]
    }
   ],
   "source": [
    "# reset fruit list\n",
    "fruit = FRUIT[:]\n",
    "pprint(fruit)\n",
    "print(\"--------------\")\n",
    "\n",
    "fruit.sort()\n",
    "pprint(fruit)"
   ]
  },
  {
   "cell_type": "markdown",
   "id": "d78ddb9e",
   "metadata": {},
   "source": [
    "#### Descending order"
   ]
  },
  {
   "cell_type": "code",
   "execution_count": 70,
   "id": "4b9e11f9",
   "metadata": {},
   "outputs": [
    {
     "name": "stdout",
     "output_type": "stream",
     "text": [
      "['cherry',\n",
      " 'apple',\n",
      " 'date',\n",
      " 'bananna',\n",
      " 'elderberry']\n",
      "--------------\n",
      "['elderberry',\n",
      " 'date',\n",
      " 'cherry',\n",
      " 'bananna',\n",
      " 'apple']\n"
     ]
    }
   ],
   "source": [
    "# reset fruit list\n",
    "fruit = FRUIT[:]\n",
    "pprint(fruit)\n",
    "print(\"--------------\")\n",
    "\n",
    "fruit.sort(reverse=True)\n",
    "pprint(fruit)"
   ]
  },
  {
   "cell_type": "markdown",
   "id": "4d2a0dbb",
   "metadata": {},
   "source": [
    "#### Reverse order"
   ]
  },
  {
   "cell_type": "code",
   "execution_count": 71,
   "id": "c4485f38",
   "metadata": {},
   "outputs": [
    {
     "name": "stdout",
     "output_type": "stream",
     "text": [
      "['cherry',\n",
      " 'apple',\n",
      " 'date',\n",
      " 'bananna',\n",
      " 'elderberry']\n",
      "--------------\n",
      "['elderberry',\n",
      " 'bananna',\n",
      " 'date',\n",
      " 'apple',\n",
      " 'cherry']\n"
     ]
    }
   ],
   "source": [
    "# reset fruit list\n",
    "fruit = FRUIT[:]\n",
    "pprint(fruit)\n",
    "print(\"--------------\")\n",
    "\n",
    "fruit.reverse()\n",
    "pprint(fruit)"
   ]
  },
  {
   "cell_type": "markdown",
   "id": "75eb96b7",
   "metadata": {},
   "source": [
    "#### Order by callable key function\n",
    "\n",
    "Using function:"
   ]
  },
  {
   "cell_type": "code",
   "execution_count": 72,
   "id": "5070e57f",
   "metadata": {},
   "outputs": [
    {
     "name": "stdout",
     "output_type": "stream",
     "text": [
      "['cherry',\n",
      " 'apple',\n",
      " 'date',\n",
      " 'bananna',\n",
      " 'elderberry']\n",
      "--------------\n",
      "['date',\n",
      " 'apple',\n",
      " 'cherry',\n",
      " 'bananna',\n",
      " 'elderberry']\n"
     ]
    }
   ],
   "source": [
    "# reset fruit list\n",
    "fruit = FRUIT[:]\n",
    "pprint(fruit)\n",
    "print(\"--------------\")\n",
    "\n",
    "def order_by_length(text):\n",
    "    return len(text)\n",
    "\n",
    "fruit.sort(key=order_by_length)\n",
    "pprint(fruit)"
   ]
  },
  {
   "cell_type": "markdown",
   "id": "48e00c49",
   "metadata": {},
   "source": [
    "Using lambda:"
   ]
  },
  {
   "cell_type": "code",
   "execution_count": 73,
   "id": "03710cea",
   "metadata": {},
   "outputs": [
    {
     "name": "stdout",
     "output_type": "stream",
     "text": [
      "['cherry',\n",
      " 'apple',\n",
      " 'date',\n",
      " 'bananna',\n",
      " 'elderberry']\n",
      "--------------\n",
      "['date',\n",
      " 'apple',\n",
      " 'cherry',\n",
      " 'bananna',\n",
      " 'elderberry']\n"
     ]
    }
   ],
   "source": [
    "# reset fruit list\n",
    "fruit = FRUIT[:]\n",
    "pprint(fruit)\n",
    "print(\"--------------\")\n",
    "\n",
    "fruit.sort(key=lambda v:len(v))\n",
    "pprint(fruit)"
   ]
  },
  {
   "cell_type": "markdown",
   "id": "88b5dd9b",
   "metadata": {},
   "source": [
    "#### Random order"
   ]
  },
  {
   "cell_type": "code",
   "execution_count": 74,
   "id": "6ee5f949",
   "metadata": {},
   "outputs": [
    {
     "name": "stdout",
     "output_type": "stream",
     "text": [
      "['cherry',\n",
      " 'apple',\n",
      " 'date',\n",
      " 'bananna',\n",
      " 'elderberry']\n",
      "--------------\n",
      "['elderberry',\n",
      " 'cherry',\n",
      " 'date',\n",
      " 'apple',\n",
      " 'bananna']\n"
     ]
    }
   ],
   "source": [
    "# reset fruit list\n",
    "fruit = FRUIT[:]\n",
    "pprint(fruit)\n",
    "print(\"--------------\")\n",
    "\n",
    "from random import shuffle\n",
    "shuffle(fruit)\n",
    "pprint(fruit)"
   ]
  },
  {
   "cell_type": "markdown",
   "id": "e1bd384a",
   "metadata": {},
   "source": [
    "Transformation\n",
    "--------------\n",
    "\n",
    "Generate a modified collection.\n",
    "\n",
    "### Mapping\n",
    "\n",
    "Produce a new collection containing the results from applying a function to\n",
    "each element in a collection."
   ]
  },
  {
   "cell_type": "code",
   "execution_count": 75,
   "id": "fed3e31e",
   "metadata": {
    "tags": [
     "thebe-init"
    ]
   },
   "outputs": [],
   "source": [
    "\"\"\"Setup for the Mapping section\"\"\"\n",
    "\n",
    "# the collection to base mappings on\n",
    "birth_years = [1954, 1956, 1984, 1986]\n",
    "\n",
    "# used in relative_age()\n",
    "REL_YEAR = 1994\n",
    "\n",
    "# the function to apply\n",
    "def relative_age(year):\n",
    "  return REL_YEAR - year"
   ]
  },
  {
   "cell_type": "markdown",
   "id": "948ce4c4",
   "metadata": {},
   "source": [
    "#### Using a for loop"
   ]
  },
  {
   "cell_type": "code",
   "execution_count": 76,
   "id": "556331ba",
   "metadata": {},
   "outputs": [
    {
     "name": "stdout",
     "output_type": "stream",
     "text": [
      "[40, 38, 10, 8]\n"
     ]
    }
   ],
   "source": [
    "# initialize a list the same size as birth_years filled with None values\n",
    "ages = [None] * len(birth_years)\n",
    "\n",
    "# iterate over birth years and map the cooresponding element in ages to\n",
    "# the results from applying the function to that element\n",
    "for i, year in enumerate(birth_years):\n",
    "  ages[i] = relative_age(year)\n",
    "\n",
    "# print the ages list\n",
    "print(ages)"
   ]
  },
  {
   "cell_type": "markdown",
   "id": "2901a3d6",
   "metadata": {},
   "source": [
    "#### Using list comprehension"
   ]
  },
  {
   "cell_type": "code",
   "execution_count": 77,
   "id": "218cce0f",
   "metadata": {
    "tags": [
     "thebe-init"
    ]
   },
   "outputs": [
    {
     "name": "stdout",
     "output_type": "stream",
     "text": [
      "[40, 38, 10, 8]\n"
     ]
    }
   ],
   "source": [
    "ages = [relative_age(year) for year in birth_years]\n",
    "\n",
    "print(ages)"
   ]
  },
  {
   "cell_type": "markdown",
   "id": "d42d092f",
   "metadata": {},
   "source": [
    "#### Using map"
   ]
  },
  {
   "cell_type": "code",
   "execution_count": 78,
   "id": "b8f0e96d",
   "metadata": {},
   "outputs": [
    {
     "name": "stdout",
     "output_type": "stream",
     "text": [
      "[40, 38, 10, 8]\n"
     ]
    }
   ],
   "source": [
    "ages = list(map(relative_age, birth_years))\n",
    "\n",
    "print(ages)"
   ]
  },
  {
   "cell_type": "markdown",
   "id": "100922bc",
   "metadata": {},
   "source": [
    "### Filtering\n",
    "\n",
    "Produce a new collection containing only elements which, when a applying a\n",
    "function, return a truthy value."
   ]
  },
  {
   "cell_type": "code",
   "execution_count": 79,
   "id": "ea1bd8bb",
   "metadata": {
    "tags": [
     "thebe-init"
    ]
   },
   "outputs": [
    {
     "name": "stdout",
     "output_type": "stream",
     "text": [
      "[40, 38, 10, 8]\n"
     ]
    }
   ],
   "source": [
    "\"\"\"Setup for the Filtering section\"\"\"\n",
    "\n",
    "# the function to apply\n",
    "def is_adult(age):\n",
    "  return age >= 18\n",
    "\n",
    "# print the previously created ages collection to base the filterings on\n",
    "print(ages)"
   ]
  },
  {
   "cell_type": "markdown",
   "id": "434916b7",
   "metadata": {},
   "source": [
    "#### Using a for loop"
   ]
  },
  {
   "cell_type": "code",
   "execution_count": 80,
   "id": "1650e45e",
   "metadata": {},
   "outputs": [
    {
     "name": "stdout",
     "output_type": "stream",
     "text": [
      "[40, 38]\n"
     ]
    }
   ],
   "source": [
    "# initialze an empty list\n",
    "adults = []\n",
    "\n",
    "# iterate over ages and append elements that results in True\n",
    "# when applying the filtering function\n",
    "for age in ages:\n",
    "  if is_adult(age):\n",
    "    adults.append(age)\n",
    "\n",
    "# print the adults list\n",
    "print(adults)"
   ]
  },
  {
   "cell_type": "markdown",
   "id": "bf4a7660",
   "metadata": {},
   "source": [
    "#### Using list comprehension"
   ]
  },
  {
   "cell_type": "code",
   "execution_count": 81,
   "id": "3be35875",
   "metadata": {},
   "outputs": [
    {
     "name": "stdout",
     "output_type": "stream",
     "text": [
      "[40, 38]\n"
     ]
    }
   ],
   "source": [
    "adults = [ age for age in ages if is_adult(age) ]\n",
    "\n",
    "print(adults)"
   ]
  },
  {
   "cell_type": "markdown",
   "id": "137a09ed",
   "metadata": {},
   "source": [
    "#### Using filter"
   ]
  },
  {
   "cell_type": "code",
   "execution_count": 82,
   "id": "7c4f04b0",
   "metadata": {},
   "outputs": [
    {
     "name": "stdout",
     "output_type": "stream",
     "text": [
      "[40, 38]\n"
     ]
    }
   ],
   "source": [
    "adults = list(filter(is_adult, ages))\n",
    "\n",
    "print(adults)"
   ]
  },
  {
   "cell_type": "markdown",
   "id": "0d043f99",
   "metadata": {},
   "source": [
    "Typecasting\n",
    "-----------\n",
    "\n",
    "### str to list\n",
    "\n",
    "#### individual characters"
   ]
  },
  {
   "cell_type": "code",
   "execution_count": 83,
   "id": "2d829245",
   "metadata": {},
   "outputs": [
    {
     "data": {
      "text/plain": [
       "['a', 'b', 'c']"
      ]
     },
     "execution_count": 83,
     "metadata": {},
     "output_type": "execute_result"
    }
   ],
   "source": [
    "list(\"abc\")"
   ]
  },
  {
   "cell_type": "markdown",
   "id": "ef5d8a55",
   "metadata": {},
   "source": [
    "#### split on whitespace"
   ]
  },
  {
   "cell_type": "code",
   "execution_count": 84,
   "id": "f1bbe0da",
   "metadata": {},
   "outputs": [
    {
     "data": {
      "text/plain": [
       "['list', 'info', 'search']"
      ]
     },
     "execution_count": 84,
     "metadata": {},
     "output_type": "execute_result"
    }
   ],
   "source": [
    "\"list info search\".split()"
   ]
  },
  {
   "cell_type": "markdown",
   "id": "0cb5a165",
   "metadata": {},
   "source": [
    "#### split on delimiter"
   ]
  },
  {
   "cell_type": "code",
   "execution_count": 85,
   "id": "7a86c6f8",
   "metadata": {},
   "outputs": [
    {
     "data": {
      "text/plain": [
       "['555', '555', '5555']"
      ]
     },
     "execution_count": 85,
     "metadata": {},
     "output_type": "execute_result"
    }
   ],
   "source": [
    "\"555-555-5555\".split(\"-\")"
   ]
  },
  {
   "cell_type": "markdown",
   "id": "86111c45",
   "metadata": {},
   "source": [
    "#### split on newlines"
   ]
  },
  {
   "cell_type": "code",
   "execution_count": 86,
   "id": "6de7a707",
   "metadata": {},
   "outputs": [
    {
     "data": {
      "text/plain": [
       "['a', 'b', 'c']"
      ]
     },
     "execution_count": 86,
     "metadata": {},
     "output_type": "execute_result"
    }
   ],
   "source": [
    "\"a\\nb\\nc\\n\".splitlines()"
   ]
  },
  {
   "cell_type": "markdown",
   "id": "f05f9b72",
   "metadata": {},
   "source": [
    "#### split on pattern"
   ]
  },
  {
   "cell_type": "code",
   "execution_count": 87,
   "id": "b6f4a06f",
   "metadata": {},
   "outputs": [
    {
     "data": {
      "text/plain": [
       "['github', 'com', 'git']"
      ]
     },
     "execution_count": 87,
     "metadata": {},
     "output_type": "execute_result"
    }
   ],
   "source": [
    "import re\n",
    "re.split(r\"[./]\", \"github.com/git\")"
   ]
  },
  {
   "cell_type": "markdown",
   "id": "a3889b02",
   "metadata": {},
   "source": [
    "### dict to list"
   ]
  },
  {
   "cell_type": "code",
   "execution_count": 88,
   "id": "32008dc0",
   "metadata": {
    "tags": [
     "thebe-init"
    ]
   },
   "outputs": [],
   "source": [
    "fruit_sizes = {'cherry': 6, 'bananna': 7, 'date': 4, 'elderberry': 10, 'apple': 5}"
   ]
  },
  {
   "cell_type": "markdown",
   "id": "1330fabc",
   "metadata": {},
   "source": [
    "#### keys"
   ]
  },
  {
   "cell_type": "code",
   "execution_count": 89,
   "id": "50cc7fe6",
   "metadata": {},
   "outputs": [
    {
     "data": {
      "text/plain": [
       "['cherry', 'bananna', 'date', 'elderberry', 'apple']"
      ]
     },
     "execution_count": 89,
     "metadata": {},
     "output_type": "execute_result"
    }
   ],
   "source": [
    "list(fruit_sizes)"
   ]
  },
  {
   "cell_type": "code",
   "execution_count": 90,
   "id": "49034fea",
   "metadata": {},
   "outputs": [
    {
     "data": {
      "text/plain": [
       "['cherry', 'bananna', 'date', 'elderberry', 'apple']"
      ]
     },
     "execution_count": 90,
     "metadata": {},
     "output_type": "execute_result"
    }
   ],
   "source": [
    "list(fruit_sizes.keys())"
   ]
  },
  {
   "cell_type": "markdown",
   "id": "29c423b5",
   "metadata": {},
   "source": [
    "#### values"
   ]
  },
  {
   "cell_type": "code",
   "execution_count": 91,
   "id": "4f12b82e",
   "metadata": {},
   "outputs": [
    {
     "data": {
      "text/plain": [
       "[6, 7, 4, 10, 5]"
      ]
     },
     "execution_count": 91,
     "metadata": {},
     "output_type": "execute_result"
    }
   ],
   "source": [
    "list(fruit_sizes.values())"
   ]
  },
  {
   "cell_type": "markdown",
   "id": "5fa4f806",
   "metadata": {},
   "source": [
    "### list to string"
   ]
  },
  {
   "cell_type": "code",
   "execution_count": 92,
   "id": "72acce77",
   "metadata": {},
   "outputs": [
    {
     "data": {
      "text/plain": [
       "'abc'"
      ]
     },
     "execution_count": 92,
     "metadata": {},
     "output_type": "execute_result"
    }
   ],
   "source": [
    "\"\".join([\"a\", \"b\", \"c\"])"
   ]
  },
  {
   "cell_type": "markdown",
   "id": "411db79c",
   "metadata": {},
   "source": [
    "### list to dict"
   ]
  },
  {
   "cell_type": "code",
   "execution_count": 93,
   "id": "a3382f04",
   "metadata": {},
   "outputs": [
    {
     "data": {
      "text/plain": [
       "{'a': 1, 'b': 2}"
      ]
     },
     "execution_count": 93,
     "metadata": {},
     "output_type": "execute_result"
    }
   ],
   "source": [
    "dict([[\"a\", 1], [\"b\", 2]])"
   ]
  },
  {
   "cell_type": "code",
   "execution_count": 94,
   "id": "471bc7be",
   "metadata": {},
   "outputs": [
    {
     "data": {
      "text/plain": [
       "{'a': 1, 'b': 2}"
      ]
     },
     "execution_count": 94,
     "metadata": {},
     "output_type": "execute_result"
    }
   ],
   "source": [
    "dict(zip([\"a\", \"b\"], [1, 2]))"
   ]
  },
  {
   "cell_type": "markdown",
   "id": "2644f730",
   "metadata": {},
   "source": [
    "----\n",
    "\n",
    "% TODO\n",
    "% - [ ] nested lists\n",
    "% - [ ] comparisons"
   ]
  }
 ],
 "metadata": {
  "jupytext": {
   "formats": "md:myst",
   "text_representation": {
    "extension": ".md",
    "format_name": "myst"
   }
  },
  "kernelspec": {
   "display_name": "Python 3",
   "language": "python",
   "name": "python3"
  },
  "language_info": {
   "codemirror_mode": {
    "name": "ipython",
    "version": 3
   },
   "file_extension": ".py",
   "mimetype": "text/x-python",
   "name": "python",
   "nbconvert_exporter": "python",
   "pygments_lexer": "ipython3",
   "version": "3.8.11"
  },
  "source_map": [
   11,
   46,
   49,
   53,
   56,
   60,
   64,
   70,
   73,
   77,
   81,
   98,
   100,
   104,
   106,
   110,
   112,
   125,
   127,
   131,
   133,
   137,
   139,
   143,
   145,
   150,
   153,
   157,
   159,
   166,
   172,
   176,
   180,
   187,
   196,
   199,
   203,
   206,
   210,
   214,
   218,
   221,
   225,
   230,
   233,
   239,
   244,
   248,
   251,
   255,
   258,
   262,
   268,
   272,
   278,
   282,
   287,
   291,
   296,
   302,
   307,
   313,
   318,
   322,
   327,
   331,
   336,
   342,
   349,
   353,
   360,
   365,
   369,
   375,
   377,
   381,
   383,
   389,
   391,
   399,
   401,
   405,
   407,
   411,
   413,
   422,
   426,
   432,
   436,
   440,
   444,
   453,
   455,
   459,
   461,
   465,
   467,
   471,
   473,
   479,
   483,
   485,
   491,
   495,
   497,
   502,
   514,
   521,
   525,
   533,
   538,
   542,
   549,
   553,
   558,
   564,
   570,
   575,
   589,
   595,
   603,
   608,
   612,
   615,
   619,
   622,
   626,
   629,
   635,
   641,
   645,
   648,
   657,
   665,
   669,
   677,
   681,
   689,
   695,
   706,
   710,
   718,
   722,
   731,
   743,
   756,
   760,
   771,
   775,
   780,
   784,
   788,
   795,
   805,
   809,
   821,
   825,
   829,
   833,
   837,
   846,
   848,
   852,
   854,
   858,
   860,
   864,
   866,
   870,
   873,
   877,
   880,
   884,
   888,
   890,
   894,
   896,
   900,
   902,
   906,
   910,
   912
  ]
 },
 "nbformat": 4,
 "nbformat_minor": 5
}