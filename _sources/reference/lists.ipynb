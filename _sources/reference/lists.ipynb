{
 "cells": [
  {
   "cell_type": "markdown",
   "id": "4a8c5338",
   "metadata": {},
   "source": [
    "Lists\n",
    "=====\n",
    "\n",
    "This page contains brief code snippets for `list` related operations. It is\n",
    "intended as a resource for quickly looking up the syntax for a particular task,\n",
    "most likely to jog a students memory.\n",
    "\n",
    "While you may well learn something here, it is not written as a lesson.\n",
    "\n",
    ":::{tip}\n",
    "\n",
    "You can modify and execute any of the code on this page.\n",
    "\n",
    "1. ![launch][] just click this icon at the top of the page\n",
    "1. ![live][] followed by this one\n",
    "\n",
    ":::\n",
    "\n",
    "[launch]: ../assets/rocket-icon.png\n",
    "[live]: ../assets/live-icon.png\n",
    "\n",
    "```{contents} Table of Contents\n",
    ":backlinks: top\n",
    ":local:\n",
    "```\n",
    "\n",
    "Creating\n",
    "--------\n",
    "\n",
    "### Bracket syntax\n",
    "\n",
    "Create an empty list using `[` `]`:"
   ]
  },
  {
   "cell_type": "code",
   "execution_count": 1,
   "id": "7cf1ca6a",
   "metadata": {},
   "outputs": [
    {
     "name": "stdout",
     "output_type": "stream",
     "text": [
      "[]\n"
     ]
    }
   ],
   "source": [
    "a_list  = []\n",
    "print(a_list)"
   ]
  },
  {
   "cell_type": "markdown",
   "id": "dd1f9304",
   "metadata": {},
   "source": [
    "Create a list of `3` `None` elements:"
   ]
  },
  {
   "cell_type": "code",
   "execution_count": 2,
   "id": "0f5da435",
   "metadata": {},
   "outputs": [
    {
     "name": "stdout",
     "output_type": "stream",
     "text": [
      "[None, None, None]\n"
     ]
    }
   ],
   "source": [
    "b_list  = [None] * 3\n",
    "print(b_list)"
   ]
  },
  {
   "cell_type": "markdown",
   "id": "19f0fbf9",
   "metadata": {},
   "source": [
    "Create a list with initial elements:"
   ]
  },
  {
   "cell_type": "code",
   "execution_count": 3,
   "id": "028304cc",
   "metadata": {
    "tags": [
     "thebe-init"
    ]
   },
   "outputs": [
    {
     "name": "stdout",
     "output_type": "stream",
     "text": [
      "[0, 1, 2, 3, 4, 5]\n"
     ]
    }
   ],
   "source": [
    "numbers = [0, 1, 2, 3, 4, 5]\n",
    "print(numbers)"
   ]
  },
  {
   "cell_type": "markdown",
   "id": "25c5b22b",
   "metadata": {},
   "source": [
    "### list constructor\n",
    "\n",
    "Create an empty list using the `list()` constructor:"
   ]
  },
  {
   "cell_type": "code",
   "execution_count": 4,
   "id": "8e9ebd23",
   "metadata": {},
   "outputs": [
    {
     "name": "stdout",
     "output_type": "stream",
     "text": [
      "[]\n"
     ]
    }
   ],
   "source": [
    "c_list  = list()\n",
    "print(c_list)"
   ]
  },
  {
   "cell_type": "markdown",
   "id": "42648125",
   "metadata": {},
   "source": [
    "Create a list from another iterable:"
   ]
  },
  {
   "cell_type": "code",
   "execution_count": 5,
   "id": "5d5fb06e",
   "metadata": {
    "tags": [
     "thebe-init"
    ]
   },
   "outputs": [
    {
     "name": "stdout",
     "output_type": "stream",
     "text": [
      "['a', 'b', 'c', 'd', 'e', 'f', 'g', 'h', 'i', 'j', 'k', 'l', 'm', 'n', 'o', 'p', 'q', 'r', 's', 't', 'u', 'v', 'w', 'x', 'y', 'z']\n"
     ]
    }
   ],
   "source": [
    "letters = list(\"abcdefghijklmnopqrstuvwxyz\")\n",
    "print(letters)"
   ]
  },
  {
   "cell_type": "markdown",
   "id": "dc767cec",
   "metadata": {},
   "source": [
    "Selecting Elements\n",
    "------------------\n",
    "\n",
    "Elements are accessed via {term}`subscription` with the syntax: {samp}`{COLLECTION}[{SELECTOR}]`.\n",
    "\n",
    "The `SELECTOR` can be:\n",
    "\n",
    "* {term}`index number`\n",
    "* {term}`negative index number`\n",
    "* {term}`slice`\n",
    "\n",
    "### Via index number\n",
    "\n",
    "First element:"
   ]
  },
  {
   "cell_type": "code",
   "execution_count": 6,
   "id": "25cf8852",
   "metadata": {},
   "outputs": [
    {
     "name": "stdout",
     "output_type": "stream",
     "text": [
      "a\n"
     ]
    }
   ],
   "source": [
    "print(letters[0])"
   ]
  },
  {
   "cell_type": "markdown",
   "id": "4c7b2851",
   "metadata": {},
   "source": [
    "Second element:"
   ]
  },
  {
   "cell_type": "code",
   "execution_count": 7,
   "id": "c10f6737",
   "metadata": {},
   "outputs": [
    {
     "name": "stdout",
     "output_type": "stream",
     "text": [
      "b\n"
     ]
    }
   ],
   "source": [
    "print(letters[1])"
   ]
  },
  {
   "cell_type": "markdown",
   "id": "a4d4097a",
   "metadata": {},
   "source": [
    "Last element:"
   ]
  },
  {
   "cell_type": "code",
   "execution_count": 8,
   "id": "ab535e57",
   "metadata": {},
   "outputs": [
    {
     "name": "stdout",
     "output_type": "stream",
     "text": [
      "z\n"
     ]
    }
   ],
   "source": [
    "print(letters[-1])"
   ]
  },
  {
   "cell_type": "markdown",
   "id": "e29039a9",
   "metadata": {},
   "source": [
    "### Via slice\n",
    "\n",
    "Or the `SELECTOR` can be a {term}`slice`.\n",
    "\n",
    "The synax is either of the following.\n",
    "\n",
    "* {samp}`{COLLECTION}[{START}:{STOP}]`\n",
    "* {samp}`{COLLECTION}[{START}:{STOP}:{STEP}]`\n",
    "\n",
    "From `numbers[1]` to before `numbers[3]`:"
   ]
  },
  {
   "cell_type": "code",
   "execution_count": 9,
   "id": "4cf0b528",
   "metadata": {},
   "outputs": [
    {
     "name": "stdout",
     "output_type": "stream",
     "text": [
      "[1, 2]\n"
     ]
    }
   ],
   "source": [
    "print(numbers[1:3])"
   ]
  },
  {
   "cell_type": "markdown",
   "id": "01d201db",
   "metadata": {},
   "source": [
    "All but the first element:"
   ]
  },
  {
   "cell_type": "code",
   "execution_count": 10,
   "id": "ff1f3ae7",
   "metadata": {},
   "outputs": [
    {
     "name": "stdout",
     "output_type": "stream",
     "text": [
      "[1, 2, 3, 4, 5]\n"
     ]
    }
   ],
   "source": [
    "print(numbers[1:])"
   ]
  },
  {
   "cell_type": "markdown",
   "id": "6f8034a6",
   "metadata": {},
   "source": [
    "All but the last element:"
   ]
  },
  {
   "cell_type": "code",
   "execution_count": 11,
   "id": "9b136501",
   "metadata": {},
   "outputs": [
    {
     "name": "stdout",
     "output_type": "stream",
     "text": [
      "[0, 1, 2, 3, 4]\n"
     ]
    }
   ],
   "source": [
    "print(numbers[:-1])"
   ]
  },
  {
   "cell_type": "markdown",
   "id": "62c925e3",
   "metadata": {},
   "source": [
    "Every other element from `numbers[3]` to before `numbers[15]`:"
   ]
  },
  {
   "cell_type": "code",
   "execution_count": 12,
   "id": "2558781d",
   "metadata": {},
   "outputs": [
    {
     "name": "stdout",
     "output_type": "stream",
     "text": [
      "[3, 5]\n"
     ]
    }
   ],
   "source": [
    "print(numbers[3:15:2])"
   ]
  },
  {
   "cell_type": "markdown",
   "id": "317451ec",
   "metadata": {},
   "source": [
    "Elements in reversed order with a negative `STEP` number and a `START` that is\n",
    "greater than `STOP`."
   ]
  },
  {
   "cell_type": "code",
   "execution_count": 13,
   "id": "308e6522",
   "metadata": {},
   "outputs": [
    {
     "name": "stdout",
     "output_type": "stream",
     "text": [
      "[2, 1, 0]\n",
      "[5, 4]\n"
     ]
    }
   ],
   "source": [
    "print(numbers[2::-1])\n",
    "print(numbers[-1:-3:-1])"
   ]
  },
  {
   "cell_type": "markdown",
   "id": "8cc71c7a",
   "metadata": {},
   "source": [
    "Entire list:"
   ]
  },
  {
   "cell_type": "code",
   "execution_count": 14,
   "id": "02556a2a",
   "metadata": {},
   "outputs": [
    {
     "name": "stdout",
     "output_type": "stream",
     "text": [
      "[0, 1, 2, 3, 4, 5]\n"
     ]
    }
   ],
   "source": [
    "print(numbers[:])"
   ]
  },
  {
   "cell_type": "markdown",
   "id": "cd11683f",
   "metadata": {},
   "source": [
    "### Exceptions\n",
    "\n",
    "An `IndexError` exception will be raised for any selectors using using\n",
    "non-existant index numbers."
   ]
  },
  {
   "cell_type": "code",
   "execution_count": 15,
   "id": "cda7febb",
   "metadata": {
    "tags": [
     "raises-exception"
    ]
   },
   "outputs": [
    {
     "ename": "IndexError",
     "evalue": "list index out of range",
     "output_type": "error",
     "traceback": [
      "\u001b[0;31m---------------------------------------------------------------------------\u001b[0m",
      "\u001b[0;31mIndexError\u001b[0m                                Traceback (most recent call last)",
      "\u001b[0;32m/tmp/ipykernel_2182/2154710734.py\u001b[0m in \u001b[0;36m<module>\u001b[0;34m\u001b[0m\n\u001b[0;32m----> 1\u001b[0;31m \u001b[0mvalue\u001b[0m \u001b[0;34m=\u001b[0m \u001b[0mnumbers\u001b[0m\u001b[0;34m[\u001b[0m\u001b[0;36m10\u001b[0m\u001b[0;34m]\u001b[0m\u001b[0;34m\u001b[0m\u001b[0;34m\u001b[0m\u001b[0m\n\u001b[0m\u001b[1;32m      2\u001b[0m \u001b[0mprint\u001b[0m\u001b[0;34m(\u001b[0m\u001b[0mvalue\u001b[0m\u001b[0;34m)\u001b[0m\u001b[0;34m\u001b[0m\u001b[0;34m\u001b[0m\u001b[0m\n",
      "\u001b[0;31mIndexError\u001b[0m: list index out of range"
     ]
    }
   ],
   "source": [
    "value = numbers[10]\n",
    "print(value)"
   ]
  },
  {
   "cell_type": "code",
   "execution_count": 16,
   "id": "b94f6c81",
   "metadata": {
    "tags": [
     "raises-exception"
    ]
   },
   "outputs": [
    {
     "ename": "IndexError",
     "evalue": "list index out of range",
     "output_type": "error",
     "traceback": [
      "\u001b[0;31m---------------------------------------------------------------------------\u001b[0m",
      "\u001b[0;31mIndexError\u001b[0m                                Traceback (most recent call last)",
      "\u001b[0;32m/tmp/ipykernel_2182/2526518119.py\u001b[0m in \u001b[0;36m<module>\u001b[0;34m\u001b[0m\n\u001b[0;32m----> 1\u001b[0;31m \u001b[0mvalue\u001b[0m \u001b[0;34m=\u001b[0m \u001b[0mnumbers\u001b[0m\u001b[0;34m[\u001b[0m\u001b[0;34m-\u001b[0m\u001b[0;36m10\u001b[0m\u001b[0;34m]\u001b[0m\u001b[0;34m\u001b[0m\u001b[0;34m\u001b[0m\u001b[0m\n\u001b[0m\u001b[1;32m      2\u001b[0m \u001b[0mprint\u001b[0m\u001b[0;34m(\u001b[0m\u001b[0mvalue\u001b[0m\u001b[0;34m)\u001b[0m\u001b[0;34m\u001b[0m\u001b[0;34m\u001b[0m\u001b[0m\n",
      "\u001b[0;31mIndexError\u001b[0m: list index out of range"
     ]
    }
   ],
   "source": [
    "value = numbers[-10]\n",
    "print(value)"
   ]
  },
  {
   "cell_type": "markdown",
   "id": "54a2516f",
   "metadata": {},
   "source": [
    "Suppress errors with a try except block:"
   ]
  },
  {
   "cell_type": "code",
   "execution_count": 17,
   "id": "eeacebf6",
   "metadata": {},
   "outputs": [
    {
     "name": "stdout",
     "output_type": "stream",
     "text": [
      "None\n"
     ]
    }
   ],
   "source": [
    "try:\n",
    "  value = numbers[10]\n",
    "except IndexError:\n",
    "  value = None\n",
    "\n",
    "print(value)"
   ]
  },
  {
   "cell_type": "markdown",
   "id": "2c315874",
   "metadata": {},
   "source": [
    "Modification\n",
    "------------\n",
    "\n",
    "### Change\n",
    "\n",
    "#### By index"
   ]
  },
  {
   "cell_type": "code",
   "execution_count": 18,
   "id": "f40de036",
   "metadata": {},
   "outputs": [
    {
     "name": "stdout",
     "output_type": "stream",
     "text": [
      "[0, 100, 2, 3, 4, 5]\n"
     ]
    }
   ],
   "source": [
    "numbers[1] = 100\n",
    "print(numbers)"
   ]
  },
  {
   "cell_type": "markdown",
   "id": "232a2e14",
   "metadata": {},
   "source": [
    "#### By slice"
   ]
  },
  {
   "cell_type": "code",
   "execution_count": 19,
   "id": "fee165e9",
   "metadata": {},
   "outputs": [
    {
     "name": "stdout",
     "output_type": "stream",
     "text": [
      "[0, 100, 2, 300, 400, 5]\n"
     ]
    }
   ],
   "source": [
    "numbers[3:5] = [300, 400]\n",
    "print(numbers)"
   ]
  },
  {
   "cell_type": "markdown",
   "id": "3fa2e504",
   "metadata": {},
   "source": [
    "### Add"
   ]
  },
  {
   "cell_type": "code",
   "execution_count": 20,
   "id": "b4641466",
   "metadata": {
    "tags": [
     "thebe-init"
    ]
   },
   "outputs": [
    {
     "name": "stdout",
     "output_type": "stream",
     "text": [
      "['bear', 'chimpanzee', 'elephant']\n"
     ]
    }
   ],
   "source": [
    "animals = [\"bear\", \"chimpanzee\", \"elephant\"]\n",
    "print(animals)"
   ]
  },
  {
   "cell_type": "markdown",
   "id": "5cd898c9",
   "metadata": {},
   "source": [
    "#### To end"
   ]
  },
  {
   "cell_type": "code",
   "execution_count": 21,
   "id": "0cc95798",
   "metadata": {},
   "outputs": [
    {
     "name": "stdout",
     "output_type": "stream",
     "text": [
      "['bear', 'chimpanzee', 'elephant', 'hedgehog']\n"
     ]
    }
   ],
   "source": [
    "animals.append(\"hedgehog\")\n",
    "print(animals)"
   ]
  },
  {
   "cell_type": "markdown",
   "id": "c03f25e7",
   "metadata": {},
   "source": [
    "#### At a specific position"
   ]
  },
  {
   "cell_type": "code",
   "execution_count": 22,
   "id": "351948d4",
   "metadata": {},
   "outputs": [
    {
     "name": "stdout",
     "output_type": "stream",
     "text": [
      "['bear', 'chimpanzee', 'dolphin', 'elephant', 'hedgehog']\n"
     ]
    }
   ],
   "source": [
    "animals.insert(2, \"dolphin\")\n",
    "print(animals)"
   ]
  },
  {
   "cell_type": "code",
   "execution_count": 23,
   "id": "76894a86",
   "metadata": {},
   "outputs": [
    {
     "name": "stdout",
     "output_type": "stream",
     "text": [
      "['antelope', 'bear', 'chimpanzee', 'dolphin', 'elephant', 'hedgehog']\n"
     ]
    }
   ],
   "source": [
    "animals.insert(0, \"antelope\")\n",
    "print(animals)"
   ]
  },
  {
   "cell_type": "markdown",
   "id": "f244c08c",
   "metadata": {},
   "source": [
    "#### From iterable\n",
    "\n",
    "##### Using `.extend()`"
   ]
  },
  {
   "cell_type": "code",
   "execution_count": 24,
   "id": "fa045e40",
   "metadata": {},
   "outputs": [
    {
     "name": "stdout",
     "output_type": "stream",
     "text": [
      "['antelope',\n",
      " 'bear',\n",
      " 'chimpanzee',\n",
      " 'dolphin',\n",
      " 'elephant',\n",
      " 'hedgehog',\n",
      " 'lynx',\n",
      " 'ocelot',\n",
      " 'puma']\n"
     ]
    }
   ],
   "source": [
    "from pprint import pprint\n",
    "\n",
    "animals.extend([\"lynx\", \"ocelot\", \"puma\"])\n",
    "pprint(animals)"
   ]
  },
  {
   "cell_type": "markdown",
   "id": "ceb26d16",
   "metadata": {},
   "source": [
    "##### With concatonation"
   ]
  },
  {
   "cell_type": "code",
   "execution_count": 25,
   "id": "c205383c",
   "metadata": {},
   "outputs": [
    {
     "name": "stdout",
     "output_type": "stream",
     "text": [
      "['antelope',\n",
      " 'bear',\n",
      " 'chimpanzee',\n",
      " 'dolphin',\n",
      " 'elephant',\n",
      " 'hedgehog',\n",
      " 'lynx',\n",
      " 'ocelot',\n",
      " 'puma',\n",
      " 'skink',\n",
      " 'turtle',\n",
      " 'viper']\n"
     ]
    }
   ],
   "source": [
    "animals = animals + [\"skink\", \"turtle\", \"viper\"]\n",
    "pprint(animals)"
   ]
  },
  {
   "cell_type": "markdown",
   "id": "2da5d8dd",
   "metadata": {},
   "source": [
    "Or using the `+=` operator:"
   ]
  },
  {
   "cell_type": "code",
   "execution_count": 26,
   "id": "223f76e8",
   "metadata": {},
   "outputs": [
    {
     "name": "stdout",
     "output_type": "stream",
     "text": [
      "['antelope',\n",
      " 'bear',\n",
      " 'chimpanzee',\n",
      " 'dolphin',\n",
      " 'elephant',\n",
      " 'hedgehog',\n",
      " 'lynx',\n",
      " 'ocelot',\n",
      " 'puma',\n",
      " 'skink',\n",
      " 'turtle',\n",
      " 'viper',\n",
      " 'wolf',\n",
      " 'zebra']\n"
     ]
    }
   ],
   "source": [
    "animals += [\"wolf\", \"zebra\"]\n",
    "pprint(animals)"
   ]
  },
  {
   "cell_type": "markdown",
   "id": "fb4cc0a2",
   "metadata": {},
   "source": [
    "##### Repeteadly with multiplication"
   ]
  },
  {
   "cell_type": "code",
   "execution_count": 27,
   "id": "25d7c9e3",
   "metadata": {},
   "outputs": [
    {
     "name": "stdout",
     "output_type": "stream",
     "text": [
      "['rinse', 'repeat']\n",
      "['rinse', 'repeat', 'rinse', 'repeat', 'rinse', 'repeat']\n"
     ]
    }
   ],
   "source": [
    "steps = [\"rinse\", \"repeat\"]\n",
    "print(steps)\n",
    "\n",
    "steps = (steps * 3)\n",
    "print(steps)"
   ]
  },
  {
   "cell_type": "markdown",
   "id": "cd1f6b17",
   "metadata": {},
   "source": [
    "Or using the `*=` operator:"
   ]
  },
  {
   "cell_type": "code",
   "execution_count": 28,
   "id": "bd372834",
   "metadata": {},
   "outputs": [
    {
     "name": "stdout",
     "output_type": "stream",
     "text": [
      "['rinse', 'repeat']\n",
      "['rinse', 'repeat', 'rinse', 'repeat', 'rinse', 'repeat']\n"
     ]
    }
   ],
   "source": [
    "steps = [\"rinse\", \"repeat\"]\n",
    "print(steps)\n",
    "\n",
    "steps *= 3\n",
    "print(steps)"
   ]
  },
  {
   "cell_type": "markdown",
   "id": "591d0016",
   "metadata": {},
   "source": [
    "### Remove"
   ]
  },
  {
   "cell_type": "code",
   "execution_count": 29,
   "id": "085c8b14",
   "metadata": {},
   "outputs": [
    {
     "name": "stdout",
     "output_type": "stream",
     "text": [
      "['H', 'e', 'l', 'l', ' ', 'w', 'o', 'r', 'l', 'd']\n"
     ]
    }
   ],
   "source": [
    "chars = list(\"Hello world\")\n",
    "\n",
    "del chars[4]\n",
    "print(chars)"
   ]
  },
  {
   "cell_type": "markdown",
   "id": "227a89ca",
   "metadata": {},
   "source": [
    "#### By index"
   ]
  },
  {
   "cell_type": "code",
   "execution_count": 30,
   "id": "05b839b9",
   "metadata": {},
   "outputs": [
    {
     "name": "stdout",
     "output_type": "stream",
     "text": [
      "['H', 'e', 'l', 'l', ' ', 'w', 'o', 'r', 'l', 'd']\n"
     ]
    }
   ],
   "source": [
    "chars = list(\"Hello world\")\n",
    "\n",
    "del chars[4]\n",
    "print(chars)"
   ]
  },
  {
   "cell_type": "markdown",
   "id": "815e27ec",
   "metadata": {},
   "source": [
    "#### By value\n",
    "\n",
    "Remove first occurance of value using the `.remove() method`:"
   ]
  },
  {
   "cell_type": "code",
   "execution_count": 31,
   "id": "99e83c01",
   "metadata": {},
   "outputs": [
    {
     "name": "stdout",
     "output_type": "stream",
     "text": [
      "['H', 'e', 'l', 'o', ' ', 'w', 'o', 'r', 'l', 'd']\n"
     ]
    }
   ],
   "source": [
    "chars = list(\"Hello world\")\n",
    "\n",
    "chars.remove(\"l\")\n",
    "print(chars)"
   ]
  },
  {
   "cell_type": "markdown",
   "id": "beec51f2",
   "metadata": {},
   "source": [
    "#### By slice\n",
    "\n",
    "Using the `del` keyword:"
   ]
  },
  {
   "cell_type": "code",
   "execution_count": 32,
   "id": "d459d683",
   "metadata": {},
   "outputs": [
    {
     "name": "stdout",
     "output_type": "stream",
     "text": [
      "['H', 'e', 'l', 'd']\n"
     ]
    }
   ],
   "source": [
    "chars = list(\"Hello world\")\n",
    "\n",
    "del chars[2:9]\n",
    "print(chars)"
   ]
  },
  {
   "cell_type": "markdown",
   "id": "e4709996",
   "metadata": {},
   "source": [
    "By assigning to an empty list:"
   ]
  },
  {
   "cell_type": "code",
   "execution_count": 33,
   "id": "f960531b",
   "metadata": {},
   "outputs": [
    {
     "name": "stdout",
     "output_type": "stream",
     "text": [
      "['l', 'o', ' ', 'w', 'o', 'r', 'l', 'd']\n"
     ]
    }
   ],
   "source": [
    "chars = list(\"Hello world\")\n",
    "\n",
    "chars[0:3] = []\n",
    "print(chars)"
   ]
  },
  {
   "cell_type": "markdown",
   "id": "9109c6b8",
   "metadata": {},
   "source": [
    "#### All elements"
   ]
  },
  {
   "cell_type": "code",
   "execution_count": 34,
   "id": "f224b37c",
   "metadata": {},
   "outputs": [
    {
     "name": "stdout",
     "output_type": "stream",
     "text": [
      "[]\n"
     ]
    }
   ],
   "source": [
    "chars = list(\"Hello world\")\n",
    "\n",
    "chars.clear()\n",
    "print(chars)"
   ]
  },
  {
   "cell_type": "markdown",
   "id": "78c7825d",
   "metadata": {},
   "source": [
    "#### Remove and return\n",
    "\n",
    "##### The last element"
   ]
  },
  {
   "cell_type": "code",
   "execution_count": 35,
   "id": "739980ad",
   "metadata": {},
   "outputs": [
    {
     "name": "stdout",
     "output_type": "stream",
     "text": [
      "removed: 'd' \n",
      "\n",
      "['H', 'e', 'l', 'l', 'o', ' ', 'w', 'o', 'r', 'l']\n"
     ]
    }
   ],
   "source": [
    "chars = list(\"Hello world\")\n",
    "\n",
    "removed = chars.pop()\n",
    "\n",
    "print(\"removed:\", repr(removed), \"\\n\")\n",
    "print(chars)"
   ]
  },
  {
   "cell_type": "markdown",
   "id": "47c28946",
   "metadata": {},
   "source": [
    "##### A specific element by position"
   ]
  },
  {
   "cell_type": "code",
   "execution_count": 36,
   "id": "7a0e7b5f",
   "metadata": {},
   "outputs": [
    {
     "name": "stdout",
     "output_type": "stream",
     "text": [
      "removed: 'l' \n",
      "\n",
      "['H', 'e', 'l', 'o', ' ', 'w', 'o', 'r', 'l', 'd']\n"
     ]
    }
   ],
   "source": [
    "chars = list(\"Hello world\")\n",
    "\n",
    "removed = chars.pop(2)\n",
    "\n",
    "print(\"removed:\", repr(removed), \"\\n\")\n",
    "print(chars)"
   ]
  },
  {
   "cell_type": "markdown",
   "id": "1a0ac836",
   "metadata": {},
   "source": [
    "Membership\n",
    "----------"
   ]
  },
  {
   "cell_type": "code",
   "execution_count": 37,
   "id": "a3639e67",
   "metadata": {
    "tags": [
     "thebe-init"
    ]
   },
   "outputs": [],
   "source": [
    "chars = list(\"Mississippi\")\n",
    "words = ['Welcome', 'to', 'Python', 'Class']"
   ]
  },
  {
   "cell_type": "markdown",
   "id": "c55e4ac9",
   "metadata": {},
   "source": [
    "### Contains\n",
    "\n",
    "Check if list contains value using the `in` operator:"
   ]
  },
  {
   "cell_type": "code",
   "execution_count": 38,
   "id": "acf76821",
   "metadata": {},
   "outputs": [
    {
     "data": {
      "text/plain": [
       "True"
      ]
     },
     "execution_count": 38,
     "metadata": {},
     "output_type": "execute_result"
    }
   ],
   "source": [
    "\"Class\" in words"
   ]
  },
  {
   "cell_type": "markdown",
   "id": "44162724",
   "metadata": {},
   "source": [
    "Check if list does not contains value using the `not in` operator:"
   ]
  },
  {
   "cell_type": "code",
   "execution_count": 39,
   "id": "ff56da1f",
   "metadata": {},
   "outputs": [
    {
     "data": {
      "text/plain": [
       "False"
      ]
     },
     "execution_count": 39,
     "metadata": {},
     "output_type": "execute_result"
    }
   ],
   "source": [
    "\"Class\" not in words"
   ]
  },
  {
   "cell_type": "markdown",
   "id": "dbbb6c11",
   "metadata": {},
   "source": [
    "### Count\n",
    "\n",
    "Number of times value occurs in list:"
   ]
  },
  {
   "cell_type": "code",
   "execution_count": 40,
   "id": "a2c3e29a",
   "metadata": {},
   "outputs": [
    {
     "data": {
      "text/plain": [
       "4"
      ]
     },
     "execution_count": 40,
     "metadata": {},
     "output_type": "execute_result"
    }
   ],
   "source": [
    "chars.count(\"i\")"
   ]
  },
  {
   "cell_type": "markdown",
   "id": "b5b543e6",
   "metadata": {},
   "source": [
    "### Index\n",
    "\n",
    "To look up the index number of a particular value, use the `.index()` method.\n",
    "\n",
    "Get the first index number of value:"
   ]
  },
  {
   "cell_type": "code",
   "execution_count": 41,
   "id": "0759ac95",
   "metadata": {},
   "outputs": [
    {
     "data": {
      "text/plain": [
       "2"
      ]
     },
     "execution_count": 41,
     "metadata": {},
     "output_type": "execute_result"
    }
   ],
   "source": [
    "chars.index(\"s\")"
   ]
  },
  {
   "cell_type": "markdown",
   "id": "7035cfc2",
   "metadata": {},
   "source": [
    "Same, but look in `chars[3:]`:"
   ]
  },
  {
   "cell_type": "code",
   "execution_count": 42,
   "id": "f6171569",
   "metadata": {},
   "outputs": [
    {
     "data": {
      "text/plain": [
       "3"
      ]
     },
     "execution_count": 42,
     "metadata": {},
     "output_type": "execute_result"
    }
   ],
   "source": [
    "chars.index(\"s\", 3)"
   ]
  },
  {
   "cell_type": "markdown",
   "id": "b01bf5e6",
   "metadata": {},
   "source": [
    "Same, but look in `chars[5:9]`:"
   ]
  },
  {
   "cell_type": "code",
   "execution_count": 43,
   "id": "8aa24859",
   "metadata": {},
   "outputs": [
    {
     "data": {
      "text/plain": [
       "7"
      ]
     },
     "execution_count": 43,
     "metadata": {},
     "output_type": "execute_result"
    }
   ],
   "source": [
    "chars.index(\"i\", 5, 9)"
   ]
  },
  {
   "cell_type": "markdown",
   "id": "f8d8ec9e",
   "metadata": {},
   "source": [
    "Iteration\n",
    "---------\n",
    "\n",
    "### for loop\n",
    "\n",
    "Iterate over each element:"
   ]
  },
  {
   "cell_type": "code",
   "execution_count": 44,
   "id": "23fe89e1",
   "metadata": {},
   "outputs": [
    {
     "name": "stdout",
     "output_type": "stream",
     "text": [
      "red\n",
      "blue\n",
      "green\n"
     ]
    }
   ],
   "source": [
    "colors = [\"red\", \"blue\", \"green\"]\n",
    "for item in colors:\n",
    "  print(item)"
   ]
  },
  {
   "cell_type": "markdown",
   "id": "2365e62b",
   "metadata": {},
   "source": [
    "#### enumerate\n",
    "\n",
    "Iterate over each index number and element:"
   ]
  },
  {
   "cell_type": "code",
   "execution_count": 45,
   "id": "c1d3dc56",
   "metadata": {},
   "outputs": [
    {
     "name": "stdout",
     "output_type": "stream",
     "text": [
      "0 breakfast\n",
      "1 lunch\n",
      "2 dinner\n"
     ]
    }
   ],
   "source": [
    "meals = [\"breakfast\", \"lunch\", \"dinner\"]\n",
    "for i, item in enumerate(meals):\n",
    "  print(i, item)"
   ]
  },
  {
   "cell_type": "markdown",
   "id": "d5c26a70",
   "metadata": {},
   "source": [
    "Iterate over each index number and element value, starting `i` at `1`:"
   ]
  },
  {
   "cell_type": "code",
   "execution_count": 46,
   "id": "64db0bf9",
   "metadata": {},
   "outputs": [
    {
     "name": "stdout",
     "output_type": "stream",
     "text": [
      "1 water\n",
      "2 tea\n",
      "3 coffee\n"
     ]
    }
   ],
   "source": [
    "drinks = [\"water\", \"tea\", \"coffee\"]\n",
    "for i, item in enumerate(drinks, 1):\n",
    "  print(i, item)"
   ]
  },
  {
   "cell_type": "markdown",
   "id": "e44007a9",
   "metadata": {},
   "source": [
    "Aggregation\n",
    "-----------\n",
    "\n",
    "Functions that provide information about the container as a whole.\n",
    "\n",
    "### Length"
   ]
  },
  {
   "cell_type": "code",
   "execution_count": 47,
   "id": "1de4d3aa",
   "metadata": {},
   "outputs": [
    {
     "data": {
      "text/plain": [
       "4"
      ]
     },
     "execution_count": 47,
     "metadata": {},
     "output_type": "execute_result"
    }
   ],
   "source": [
    "len([0, 1, 2, 3])"
   ]
  },
  {
   "cell_type": "markdown",
   "id": "2542d856",
   "metadata": {},
   "source": [
    "### Maximum value"
   ]
  },
  {
   "cell_type": "code",
   "execution_count": 48,
   "id": "10bc5913",
   "metadata": {},
   "outputs": [
    {
     "data": {
      "text/plain": [
       "3"
      ]
     },
     "execution_count": 48,
     "metadata": {},
     "output_type": "execute_result"
    }
   ],
   "source": [
    "max([0, 1, 2, 3])"
   ]
  },
  {
   "cell_type": "markdown",
   "id": "e3132cfd",
   "metadata": {},
   "source": [
    "### Minimum value"
   ]
  },
  {
   "cell_type": "code",
   "execution_count": 49,
   "id": "4a7c45a4",
   "metadata": {},
   "outputs": [
    {
     "data": {
      "text/plain": [
       "0"
      ]
     },
     "execution_count": 49,
     "metadata": {},
     "output_type": "execute_result"
    }
   ],
   "source": [
    "min([0, 1, 2, 3])"
   ]
  },
  {
   "cell_type": "markdown",
   "id": "b52ec416",
   "metadata": {},
   "source": [
    "### Sum of values"
   ]
  },
  {
   "cell_type": "code",
   "execution_count": 50,
   "id": "fa1d4765",
   "metadata": {},
   "outputs": [
    {
     "data": {
      "text/plain": [
       "6"
      ]
     },
     "execution_count": 50,
     "metadata": {},
     "output_type": "execute_result"
    }
   ],
   "source": [
    "sum([0, 1, 2, 3])"
   ]
  },
  {
   "cell_type": "markdown",
   "id": "2f527633",
   "metadata": {},
   "source": [
    "### any\n",
    "\n",
    "Return `True` if any elements are truthy:"
   ]
  },
  {
   "cell_type": "code",
   "execution_count": 51,
   "id": "08e05489",
   "metadata": {},
   "outputs": [
    {
     "data": {
      "text/plain": [
       "False"
      ]
     },
     "execution_count": 51,
     "metadata": {},
     "output_type": "execute_result"
    }
   ],
   "source": [
    "any([0, False, \"\"])"
   ]
  },
  {
   "cell_type": "code",
   "execution_count": 52,
   "id": "bad98d89",
   "metadata": {},
   "outputs": [
    {
     "data": {
      "text/plain": [
       "True"
      ]
     },
     "execution_count": 52,
     "metadata": {},
     "output_type": "execute_result"
    }
   ],
   "source": [
    "any([0, 1, 2, 3])"
   ]
  },
  {
   "cell_type": "markdown",
   "id": "03792194",
   "metadata": {},
   "source": [
    "### all\n",
    "\n",
    "Return `True` if all elements are truthy:"
   ]
  },
  {
   "cell_type": "code",
   "execution_count": 53,
   "id": "685f882c",
   "metadata": {},
   "outputs": [
    {
     "data": {
      "text/plain": [
       "False"
      ]
     },
     "execution_count": 53,
     "metadata": {},
     "output_type": "execute_result"
    }
   ],
   "source": [
    "all([0, 1, 2, 3])"
   ]
  },
  {
   "cell_type": "code",
   "execution_count": 54,
   "id": "87eed3ca",
   "metadata": {},
   "outputs": [
    {
     "data": {
      "text/plain": [
       "True"
      ]
     },
     "execution_count": 54,
     "metadata": {},
     "output_type": "execute_result"
    }
   ],
   "source": [
    "all([True, 1, \"hello\"])"
   ]
  },
  {
   "cell_type": "markdown",
   "id": "47a0a3ab",
   "metadata": {},
   "source": [
    "Copying\n",
    "-------"
   ]
  },
  {
   "cell_type": "code",
   "execution_count": 55,
   "id": "534a59c4",
   "metadata": {
    "tags": [
     "thebe-init"
    ]
   },
   "outputs": [],
   "source": [
    "DEFAULTS = [\n",
    "  {\n",
    "    'name': \"Joe Smith\",\n",
    "    'email': 'joe.smith@gmail.com',\n",
    "  },\n",
    "  {\n",
    "    'name': \"Jane Doe\",\n",
    "    'email': \"jane.doe@gmail.com\"\n",
    "  }\n",
    "]"
   ]
  },
  {
   "cell_type": "markdown",
   "id": "81c6c06f",
   "metadata": {},
   "source": [
    "### Alias\n",
    "\n",
    "A {term}`reference` or {term}`alias` creates a new variable that points to the\n",
    "same object."
   ]
  },
  {
   "cell_type": "code",
   "execution_count": 56,
   "id": "ce726691",
   "metadata": {},
   "outputs": [
    {
     "data": {
      "text/plain": [
       "True"
      ]
     },
     "execution_count": 56,
     "metadata": {},
     "output_type": "execute_result"
    }
   ],
   "source": [
    "authors = DEFAULTS\n",
    "\n",
    "authors is DEFAULTS"
   ]
  },
  {
   "cell_type": "markdown",
   "id": "a5d8d4a5",
   "metadata": {},
   "source": [
    "### Shallow copy\n",
    "\n",
    "A {term}`shallow copy` creates a new container object then adds references to elements.\n",
    "\n",
    "Using `.copy()`:"
   ]
  },
  {
   "cell_type": "code",
   "execution_count": 57,
   "id": "3ab55a28",
   "metadata": {},
   "outputs": [
    {
     "name": "stdout",
     "output_type": "stream",
     "text": [
      "False\n",
      "True\n"
     ]
    }
   ],
   "source": [
    "authors = DEFAULTS.copy()\n",
    "\n",
    "print(authors is DEFAULTS)\n",
    "print(authors[0] is DEFAULTS[0])"
   ]
  },
  {
   "cell_type": "markdown",
   "id": "a0a1206b",
   "metadata": {},
   "source": [
    "Using `copy.copy()`:"
   ]
  },
  {
   "cell_type": "code",
   "execution_count": 58,
   "id": "683141e8",
   "metadata": {},
   "outputs": [
    {
     "name": "stdout",
     "output_type": "stream",
     "text": [
      "False\n",
      "True\n"
     ]
    }
   ],
   "source": [
    "import copy\n",
    "\n",
    "authors = copy.copy(DEFAULTS)\n",
    "\n",
    "print(authors is DEFAULTS)\n",
    "print(authors[0] is DEFAULTS[0])"
   ]
  },
  {
   "cell_type": "markdown",
   "id": "4f1389aa",
   "metadata": {},
   "source": [
    "Using a slice:"
   ]
  },
  {
   "cell_type": "code",
   "execution_count": 59,
   "id": "3d0449aa",
   "metadata": {},
   "outputs": [
    {
     "name": "stdout",
     "output_type": "stream",
     "text": [
      "False\n",
      "True\n"
     ]
    }
   ],
   "source": [
    "authors = DEFAULTS[:]\n",
    "\n",
    "print(authors is DEFAULTS)\n",
    "print(authors[0] is DEFAULTS[0])"
   ]
  },
  {
   "cell_type": "markdown",
   "id": "71235037",
   "metadata": {},
   "source": [
    "### Deep copy\n",
    "\n",
    "A {term}`deep copy` creates a new container object then recursively adds the copies of nested elements."
   ]
  },
  {
   "cell_type": "code",
   "execution_count": 60,
   "id": "9bbe8fa2",
   "metadata": {},
   "outputs": [
    {
     "name": "stdout",
     "output_type": "stream",
     "text": [
      "False\n",
      "False\n"
     ]
    }
   ],
   "source": [
    "import copy\n",
    "authors = copy.deepcopy(DEFAULTS)\n",
    "\n",
    "print(authors is DEFAULTS)\n",
    "print(authors[0] is DEFAULTS[0])"
   ]
  },
  {
   "cell_type": "markdown",
   "id": "6e98c129",
   "metadata": {},
   "source": [
    "Sorting\n",
    "-------"
   ]
  },
  {
   "cell_type": "code",
   "execution_count": 61,
   "id": "f79b9489",
   "metadata": {
    "tags": [
     "remove-input",
     "thebe-init"
    ]
   },
   "outputs": [],
   "source": [
    "\"\"\"setup for sorting section\"\"\"\n",
    "\n",
    "from pprint import pformat\n",
    "\n",
    "def pprint(obj):\n",
    "  \"\"\"pretty print obj if defined, otherwise print an equal number of lines\"\"\"\n",
    "  if obj:\n",
    "    print(pformat(obj, width=40))\n",
    "  else:\n",
    "    print(\"-\" + (\"\\n\"*(len(FRUIT)-1)) + repr(obj))"
   ]
  },
  {
   "cell_type": "code",
   "execution_count": 62,
   "id": "703fe7f5",
   "metadata": {
    "tags": [
     "thebe-init"
    ]
   },
   "outputs": [],
   "source": [
    "\"\"\"setup for sorting section\"\"\"\n",
    "\n",
    "# define global FRUIT list\n",
    "FRUIT = [\"cherry\", \"apple\", \"date\", \"bananna\", \"elderberry\"]"
   ]
  },
  {
   "cell_type": "markdown",
   "id": "779bc307",
   "metadata": {},
   "source": [
    "### Returned sorting\n",
    "\n",
    "The following functions return a sorted version of the collection and leave\n",
    "original collection unmodified."
   ]
  },
  {
   "cell_type": "code",
   "execution_count": 63,
   "id": "2951d541",
   "metadata": {
    "tags": [
     "thebe-init"
    ]
   },
   "outputs": [
    {
     "name": "stdout",
     "output_type": "stream",
     "text": [
      "['cherry',\n",
      " 'apple',\n",
      " 'date',\n",
      " 'bananna',\n",
      " 'elderberry']\n"
     ]
    }
   ],
   "source": [
    "# copy fruit list\n",
    "fruit = FRUIT[:]\n",
    "pprint(fruit)"
   ]
  },
  {
   "cell_type": "markdown",
   "id": "6af54535",
   "metadata": {},
   "source": [
    "#### Ascending order"
   ]
  },
  {
   "cell_type": "code",
   "execution_count": 64,
   "id": "acffbd8a",
   "metadata": {},
   "outputs": [
    {
     "name": "stdout",
     "output_type": "stream",
     "text": [
      "['apple',\n",
      " 'bananna',\n",
      " 'cherry',\n",
      " 'date',\n",
      " 'elderberry']\n"
     ]
    }
   ],
   "source": [
    "result = sorted(fruit)\n",
    "pprint(result)"
   ]
  },
  {
   "cell_type": "markdown",
   "id": "cae4c89c",
   "metadata": {},
   "source": [
    "#### Descending order"
   ]
  },
  {
   "cell_type": "code",
   "execution_count": 65,
   "id": "d969a2f3",
   "metadata": {},
   "outputs": [
    {
     "name": "stdout",
     "output_type": "stream",
     "text": [
      "['elderberry',\n",
      " 'date',\n",
      " 'cherry',\n",
      " 'bananna',\n",
      " 'apple']\n"
     ]
    }
   ],
   "source": [
    "result = sorted(fruit, reverse=True)\n",
    "pprint(result)"
   ]
  },
  {
   "cell_type": "markdown",
   "id": "a703ed80",
   "metadata": {},
   "source": [
    "#### Reverse order"
   ]
  },
  {
   "cell_type": "code",
   "execution_count": 66,
   "id": "3ef7bd5f",
   "metadata": {},
   "outputs": [
    {
     "name": "stdout",
     "output_type": "stream",
     "text": [
      "['elderberry',\n",
      " 'bananna',\n",
      " 'date',\n",
      " 'apple',\n",
      " 'cherry']\n"
     ]
    }
   ],
   "source": [
    "result = list(reversed(fruit))\n",
    "pprint(result)"
   ]
  },
  {
   "cell_type": "markdown",
   "id": "caaede51",
   "metadata": {},
   "source": [
    "#### Order by callable key\n",
    "\n",
    "Using function:"
   ]
  },
  {
   "cell_type": "code",
   "execution_count": 67,
   "id": "67071a23",
   "metadata": {},
   "outputs": [
    {
     "name": "stdout",
     "output_type": "stream",
     "text": [
      "['date',\n",
      " 'apple',\n",
      " 'cherry',\n",
      " 'bananna',\n",
      " 'elderberry']\n"
     ]
    }
   ],
   "source": [
    "def order_by_length(text):\n",
    "    return len(text)\n",
    "\n",
    "result = sorted(fruit, key=order_by_length)\n",
    "pprint(result)"
   ]
  },
  {
   "cell_type": "markdown",
   "id": "0e85bd4b",
   "metadata": {},
   "source": [
    "Using lambda:"
   ]
  },
  {
   "cell_type": "code",
   "execution_count": 68,
   "id": "e637b6ef",
   "metadata": {},
   "outputs": [
    {
     "name": "stdout",
     "output_type": "stream",
     "text": [
      "['date',\n",
      " 'apple',\n",
      " 'cherry',\n",
      " 'bananna',\n",
      " 'elderberry']\n"
     ]
    }
   ],
   "source": [
    "result = sorted(fruit, key=lambda v: len(v))\n",
    "pprint(result)"
   ]
  },
  {
   "cell_type": "markdown",
   "id": "2dd6e3cd",
   "metadata": {},
   "source": [
    "### In-place sorting\n",
    "\n",
    "The following methods and functions change the order of the original collection\n",
    "and return `None`.\n",
    "\n",
    "#### Ascending order"
   ]
  },
  {
   "cell_type": "code",
   "execution_count": 69,
   "id": "b587b38d",
   "metadata": {},
   "outputs": [
    {
     "name": "stdout",
     "output_type": "stream",
     "text": [
      "['cherry',\n",
      " 'apple',\n",
      " 'date',\n",
      " 'bananna',\n",
      " 'elderberry']\n",
      "--------------\n",
      "['apple',\n",
      " 'bananna',\n",
      " 'cherry',\n",
      " 'date',\n",
      " 'elderberry']\n"
     ]
    }
   ],
   "source": [
    "# reset fruit list\n",
    "fruit = FRUIT[:]\n",
    "pprint(fruit)\n",
    "print(\"--------------\")\n",
    "\n",
    "fruit.sort()\n",
    "pprint(fruit)"
   ]
  },
  {
   "cell_type": "markdown",
   "id": "98dcbff6",
   "metadata": {},
   "source": [
    "#### Descending order"
   ]
  },
  {
   "cell_type": "code",
   "execution_count": 70,
   "id": "09306c2f",
   "metadata": {},
   "outputs": [
    {
     "name": "stdout",
     "output_type": "stream",
     "text": [
      "['cherry',\n",
      " 'apple',\n",
      " 'date',\n",
      " 'bananna',\n",
      " 'elderberry']\n",
      "--------------\n",
      "['elderberry',\n",
      " 'date',\n",
      " 'cherry',\n",
      " 'bananna',\n",
      " 'apple']\n"
     ]
    }
   ],
   "source": [
    "# reset fruit list\n",
    "fruit = FRUIT[:]\n",
    "pprint(fruit)\n",
    "print(\"--------------\")\n",
    "\n",
    "fruit.sort(reverse=True)\n",
    "pprint(fruit)"
   ]
  },
  {
   "cell_type": "markdown",
   "id": "6cbf43c6",
   "metadata": {},
   "source": [
    "#### Reverse order"
   ]
  },
  {
   "cell_type": "code",
   "execution_count": 71,
   "id": "d88f0b69",
   "metadata": {},
   "outputs": [
    {
     "name": "stdout",
     "output_type": "stream",
     "text": [
      "['cherry',\n",
      " 'apple',\n",
      " 'date',\n",
      " 'bananna',\n",
      " 'elderberry']\n",
      "--------------\n",
      "['elderberry',\n",
      " 'bananna',\n",
      " 'date',\n",
      " 'apple',\n",
      " 'cherry']\n"
     ]
    }
   ],
   "source": [
    "# reset fruit list\n",
    "fruit = FRUIT[:]\n",
    "pprint(fruit)\n",
    "print(\"--------------\")\n",
    "\n",
    "fruit.reverse()\n",
    "pprint(fruit)"
   ]
  },
  {
   "cell_type": "markdown",
   "id": "f22baa62",
   "metadata": {},
   "source": [
    "#### Order by callable key function\n",
    "\n",
    "Using function:"
   ]
  },
  {
   "cell_type": "code",
   "execution_count": 72,
   "id": "a9f99afb",
   "metadata": {},
   "outputs": [
    {
     "name": "stdout",
     "output_type": "stream",
     "text": [
      "['cherry',\n",
      " 'apple',\n",
      " 'date',\n",
      " 'bananna',\n",
      " 'elderberry']\n",
      "--------------\n",
      "['date',\n",
      " 'apple',\n",
      " 'cherry',\n",
      " 'bananna',\n",
      " 'elderberry']\n"
     ]
    }
   ],
   "source": [
    "# reset fruit list\n",
    "fruit = FRUIT[:]\n",
    "pprint(fruit)\n",
    "print(\"--------------\")\n",
    "\n",
    "def order_by_length(text):\n",
    "    return len(text)\n",
    "\n",
    "fruit.sort(key=order_by_length)\n",
    "pprint(fruit)"
   ]
  },
  {
   "cell_type": "markdown",
   "id": "d8585ac7",
   "metadata": {},
   "source": [
    "Using lambda:"
   ]
  },
  {
   "cell_type": "code",
   "execution_count": 73,
   "id": "6a0c0173",
   "metadata": {},
   "outputs": [
    {
     "name": "stdout",
     "output_type": "stream",
     "text": [
      "['cherry',\n",
      " 'apple',\n",
      " 'date',\n",
      " 'bananna',\n",
      " 'elderberry']\n",
      "--------------\n",
      "['date',\n",
      " 'apple',\n",
      " 'cherry',\n",
      " 'bananna',\n",
      " 'elderberry']\n"
     ]
    }
   ],
   "source": [
    "# reset fruit list\n",
    "fruit = FRUIT[:]\n",
    "pprint(fruit)\n",
    "print(\"--------------\")\n",
    "\n",
    "fruit.sort(key=lambda v:len(v))\n",
    "pprint(fruit)"
   ]
  },
  {
   "cell_type": "markdown",
   "id": "9c5c628a",
   "metadata": {},
   "source": [
    "#### Random order"
   ]
  },
  {
   "cell_type": "code",
   "execution_count": 74,
   "id": "717427a1",
   "metadata": {},
   "outputs": [
    {
     "name": "stdout",
     "output_type": "stream",
     "text": [
      "['cherry',\n",
      " 'apple',\n",
      " 'date',\n",
      " 'bananna',\n",
      " 'elderberry']\n",
      "--------------\n",
      "['cherry',\n",
      " 'apple',\n",
      " 'elderberry',\n",
      " 'bananna',\n",
      " 'date']\n"
     ]
    }
   ],
   "source": [
    "# reset fruit list\n",
    "fruit = FRUIT[:]\n",
    "pprint(fruit)\n",
    "print(\"--------------\")\n",
    "\n",
    "from random import shuffle\n",
    "shuffle(fruit)\n",
    "pprint(fruit)"
   ]
  },
  {
   "cell_type": "markdown",
   "id": "a5c85051",
   "metadata": {},
   "source": [
    "Transformation\n",
    "--------------\n",
    "\n",
    "Generate a modified collection.\n",
    "\n",
    "### Mapping\n",
    "\n",
    "Produce a new collection containing the results from applying a function to\n",
    "each element in a collection."
   ]
  },
  {
   "cell_type": "code",
   "execution_count": 75,
   "id": "ce5277db",
   "metadata": {
    "tags": [
     "thebe-init"
    ]
   },
   "outputs": [],
   "source": [
    "\"\"\"Setup for the Mapping section\"\"\"\n",
    "\n",
    "# the collection to base mappings on\n",
    "birth_years = [1954, 1956, 1984, 1986]\n",
    "\n",
    "# used in relative_age()\n",
    "REL_YEAR = 1994\n",
    "\n",
    "# the function to apply\n",
    "def relative_age(year):\n",
    "  return REL_YEAR - year"
   ]
  },
  {
   "cell_type": "markdown",
   "id": "08cfd0dd",
   "metadata": {},
   "source": [
    "#### Using a for loop"
   ]
  },
  {
   "cell_type": "code",
   "execution_count": 76,
   "id": "85179cbd",
   "metadata": {},
   "outputs": [
    {
     "name": "stdout",
     "output_type": "stream",
     "text": [
      "[40, 38, 10, 8]\n"
     ]
    }
   ],
   "source": [
    "# initialize a list the same size as birth_years filled with None values\n",
    "ages = [None] * len(birth_years)\n",
    "\n",
    "# iterate over birth years and map the cooresponding element in ages to\n",
    "# the results from applying the function to that element\n",
    "for i, year in enumerate(birth_years):\n",
    "  ages[i] = relative_age(year)\n",
    "\n",
    "# print the ages list\n",
    "print(ages)"
   ]
  },
  {
   "cell_type": "markdown",
   "id": "18236949",
   "metadata": {},
   "source": [
    "#### Using list comprehension"
   ]
  },
  {
   "cell_type": "code",
   "execution_count": 77,
   "id": "1d28470c",
   "metadata": {
    "tags": [
     "thebe-init"
    ]
   },
   "outputs": [
    {
     "name": "stdout",
     "output_type": "stream",
     "text": [
      "[40, 38, 10, 8]\n"
     ]
    }
   ],
   "source": [
    "ages = [relative_age(year) for year in birth_years]\n",
    "\n",
    "print(ages)"
   ]
  },
  {
   "cell_type": "markdown",
   "id": "3b4e6523",
   "metadata": {},
   "source": [
    "#### Using map"
   ]
  },
  {
   "cell_type": "code",
   "execution_count": 78,
   "id": "3dc8f3be",
   "metadata": {},
   "outputs": [
    {
     "name": "stdout",
     "output_type": "stream",
     "text": [
      "[40, 38, 10, 8]\n"
     ]
    }
   ],
   "source": [
    "ages = list(map(relative_age, birth_years))\n",
    "\n",
    "print(ages)"
   ]
  },
  {
   "cell_type": "markdown",
   "id": "27f7520e",
   "metadata": {},
   "source": [
    "### Filtering\n",
    "\n",
    "Produce a new collection containing only elements which, when a applying a\n",
    "function, return a truthy value."
   ]
  },
  {
   "cell_type": "code",
   "execution_count": 79,
   "id": "f4628bac",
   "metadata": {
    "tags": [
     "thebe-init"
    ]
   },
   "outputs": [
    {
     "name": "stdout",
     "output_type": "stream",
     "text": [
      "[40, 38, 10, 8]\n"
     ]
    }
   ],
   "source": [
    "\"\"\"Setup for the Filtering section\"\"\"\n",
    "\n",
    "# the function to apply\n",
    "def is_adult(age):\n",
    "  return age >= 18\n",
    "\n",
    "# print the previously created ages collection to base the filterings on\n",
    "print(ages)"
   ]
  },
  {
   "cell_type": "markdown",
   "id": "678adb58",
   "metadata": {},
   "source": [
    "#### Using a for loop"
   ]
  },
  {
   "cell_type": "code",
   "execution_count": 80,
   "id": "80e3ee8f",
   "metadata": {},
   "outputs": [
    {
     "name": "stdout",
     "output_type": "stream",
     "text": [
      "[40, 38]\n"
     ]
    }
   ],
   "source": [
    "# initialze an empty list\n",
    "adults = []\n",
    "\n",
    "# iterate over ages and append elements that results in True\n",
    "# when applying the filtering function\n",
    "for age in ages:\n",
    "  if is_adult(age):\n",
    "    adults.append(age)\n",
    "\n",
    "# print the adults list\n",
    "print(adults)"
   ]
  },
  {
   "cell_type": "markdown",
   "id": "da472344",
   "metadata": {},
   "source": [
    "#### Using list comprehension"
   ]
  },
  {
   "cell_type": "code",
   "execution_count": 81,
   "id": "6817dd2e",
   "metadata": {},
   "outputs": [
    {
     "name": "stdout",
     "output_type": "stream",
     "text": [
      "[40, 38]\n"
     ]
    }
   ],
   "source": [
    "adults = [ age for age in ages if is_adult(age) ]\n",
    "\n",
    "print(adults)"
   ]
  },
  {
   "cell_type": "markdown",
   "id": "30a81d41",
   "metadata": {},
   "source": [
    "#### Using filter"
   ]
  },
  {
   "cell_type": "code",
   "execution_count": 82,
   "id": "203aa358",
   "metadata": {},
   "outputs": [
    {
     "name": "stdout",
     "output_type": "stream",
     "text": [
      "[40, 38]\n"
     ]
    }
   ],
   "source": [
    "adults = list(filter(is_adult, ages))\n",
    "\n",
    "print(adults)"
   ]
  },
  {
   "cell_type": "markdown",
   "id": "78a48dd4",
   "metadata": {},
   "source": [
    "Typecasting\n",
    "-----------\n",
    "\n",
    "### str to list\n",
    "\n",
    "#### individual characters"
   ]
  },
  {
   "cell_type": "code",
   "execution_count": 83,
   "id": "fd3be1fa",
   "metadata": {},
   "outputs": [
    {
     "data": {
      "text/plain": [
       "['a', 'b', 'c']"
      ]
     },
     "execution_count": 83,
     "metadata": {},
     "output_type": "execute_result"
    }
   ],
   "source": [
    "list(\"abc\")"
   ]
  },
  {
   "cell_type": "markdown",
   "id": "99ebc6c2",
   "metadata": {},
   "source": [
    "#### split on whitespace"
   ]
  },
  {
   "cell_type": "code",
   "execution_count": 84,
   "id": "7b3913de",
   "metadata": {},
   "outputs": [
    {
     "data": {
      "text/plain": [
       "['list', 'info', 'search']"
      ]
     },
     "execution_count": 84,
     "metadata": {},
     "output_type": "execute_result"
    }
   ],
   "source": [
    "\"list info search\".split()"
   ]
  },
  {
   "cell_type": "markdown",
   "id": "6df6e414",
   "metadata": {},
   "source": [
    "#### split on delimiter"
   ]
  },
  {
   "cell_type": "code",
   "execution_count": 85,
   "id": "83d3501e",
   "metadata": {},
   "outputs": [
    {
     "data": {
      "text/plain": [
       "['555', '555', '5555']"
      ]
     },
     "execution_count": 85,
     "metadata": {},
     "output_type": "execute_result"
    }
   ],
   "source": [
    "\"555-555-5555\".split(\"-\")"
   ]
  },
  {
   "cell_type": "markdown",
   "id": "43eee4c4",
   "metadata": {},
   "source": [
    "#### split on newlines"
   ]
  },
  {
   "cell_type": "code",
   "execution_count": 86,
   "id": "3350ccea",
   "metadata": {},
   "outputs": [
    {
     "data": {
      "text/plain": [
       "['a', 'b', 'c']"
      ]
     },
     "execution_count": 86,
     "metadata": {},
     "output_type": "execute_result"
    }
   ],
   "source": [
    "\"a\\nb\\nc\\n\".splitlines()"
   ]
  },
  {
   "cell_type": "markdown",
   "id": "dbf7c97c",
   "metadata": {},
   "source": [
    "#### split on pattern"
   ]
  },
  {
   "cell_type": "code",
   "execution_count": 87,
   "id": "0b4596db",
   "metadata": {},
   "outputs": [
    {
     "data": {
      "text/plain": [
       "['github', 'com', 'git']"
      ]
     },
     "execution_count": 87,
     "metadata": {},
     "output_type": "execute_result"
    }
   ],
   "source": [
    "import re\n",
    "re.split(r\"[./]\", \"github.com/git\")"
   ]
  },
  {
   "cell_type": "markdown",
   "id": "b680c981",
   "metadata": {},
   "source": [
    "### dict to list"
   ]
  },
  {
   "cell_type": "code",
   "execution_count": 88,
   "id": "f64b46a2",
   "metadata": {
    "tags": [
     "thebe-init"
    ]
   },
   "outputs": [],
   "source": [
    "fruit_sizes = {'cherry': 6, 'bananna': 7, 'date': 4, 'elderberry': 10, 'apple': 5}"
   ]
  },
  {
   "cell_type": "markdown",
   "id": "f61027d7",
   "metadata": {},
   "source": [
    "#### keys"
   ]
  },
  {
   "cell_type": "code",
   "execution_count": 89,
   "id": "8e5b1f75",
   "metadata": {},
   "outputs": [
    {
     "data": {
      "text/plain": [
       "['cherry', 'bananna', 'date', 'elderberry', 'apple']"
      ]
     },
     "execution_count": 89,
     "metadata": {},
     "output_type": "execute_result"
    }
   ],
   "source": [
    "list(fruit_sizes)"
   ]
  },
  {
   "cell_type": "code",
   "execution_count": 90,
   "id": "06cac66b",
   "metadata": {},
   "outputs": [
    {
     "data": {
      "text/plain": [
       "['cherry', 'bananna', 'date', 'elderberry', 'apple']"
      ]
     },
     "execution_count": 90,
     "metadata": {},
     "output_type": "execute_result"
    }
   ],
   "source": [
    "list(fruit_sizes.keys())"
   ]
  },
  {
   "cell_type": "markdown",
   "id": "0a7168c7",
   "metadata": {},
   "source": [
    "#### values"
   ]
  },
  {
   "cell_type": "code",
   "execution_count": 91,
   "id": "3cc2ac8d",
   "metadata": {},
   "outputs": [
    {
     "data": {
      "text/plain": [
       "[6, 7, 4, 10, 5]"
      ]
     },
     "execution_count": 91,
     "metadata": {},
     "output_type": "execute_result"
    }
   ],
   "source": [
    "list(fruit_sizes.values())"
   ]
  },
  {
   "cell_type": "markdown",
   "id": "d882481f",
   "metadata": {},
   "source": [
    "### list to string"
   ]
  },
  {
   "cell_type": "code",
   "execution_count": 92,
   "id": "92549547",
   "metadata": {},
   "outputs": [
    {
     "data": {
      "text/plain": [
       "'abc'"
      ]
     },
     "execution_count": 92,
     "metadata": {},
     "output_type": "execute_result"
    }
   ],
   "source": [
    "\"\".join([\"a\", \"b\", \"c\"])"
   ]
  },
  {
   "cell_type": "markdown",
   "id": "ed3cfacf",
   "metadata": {},
   "source": [
    "### list to dict"
   ]
  },
  {
   "cell_type": "code",
   "execution_count": 93,
   "id": "abf982d5",
   "metadata": {},
   "outputs": [
    {
     "data": {
      "text/plain": [
       "{'a': 1, 'b': 2}"
      ]
     },
     "execution_count": 93,
     "metadata": {},
     "output_type": "execute_result"
    }
   ],
   "source": [
    "dict([[\"a\", 1], [\"b\", 2]])"
   ]
  },
  {
   "cell_type": "code",
   "execution_count": 94,
   "id": "475906fb",
   "metadata": {},
   "outputs": [
    {
     "data": {
      "text/plain": [
       "{'a': 1, 'b': 2}"
      ]
     },
     "execution_count": 94,
     "metadata": {},
     "output_type": "execute_result"
    }
   ],
   "source": [
    "dict(zip([\"a\", \"b\"], [1, 2]))"
   ]
  },
  {
   "cell_type": "markdown",
   "id": "f0c54673",
   "metadata": {},
   "source": [
    "----\n",
    "\n",
    "% TODO\n",
    "% - [ ] nested lists\n",
    "% - [ ] comparisons"
   ]
  }
 ],
 "metadata": {
  "jupytext": {
   "formats": "md:myst",
   "text_representation": {
    "extension": ".md",
    "format_name": "myst"
   }
  },
  "kernelspec": {
   "display_name": "Python 3",
   "language": "python",
   "name": "python3"
  },
  "language_info": {
   "codemirror_mode": {
    "name": "ipython",
    "version": 3
   },
   "file_extension": ".py",
   "mimetype": "text/x-python",
   "name": "python",
   "nbconvert_exporter": "python",
   "pygments_lexer": "ipython3",
   "version": "3.8.11"
  },
  "source_map": [
   11,
   46,
   49,
   53,
   56,
   60,
   64,
   70,
   73,
   77,
   81,
   98,
   100,
   104,
   106,
   110,
   112,
   125,
   127,
   131,
   133,
   137,
   139,
   143,
   145,
   150,
   153,
   157,
   159,
   166,
   172,
   176,
   180,
   187,
   196,
   199,
   203,
   206,
   210,
   214,
   218,
   221,
   225,
   230,
   233,
   239,
   244,
   248,
   251,
   255,
   258,
   262,
   268,
   272,
   278,
   282,
   287,
   291,
   296,
   302,
   307,
   313,
   318,
   322,
   327,
   331,
   336,
   342,
   349,
   353,
   360,
   365,
   369,
   375,
   377,
   381,
   383,
   389,
   391,
   399,
   401,
   405,
   407,
   411,
   413,
   422,
   426,
   432,
   436,
   440,
   444,
   453,
   455,
   459,
   461,
   465,
   467,
   471,
   473,
   479,
   483,
   485,
   491,
   495,
   497,
   502,
   514,
   521,
   525,
   533,
   538,
   542,
   549,
   553,
   558,
   564,
   570,
   575,
   589,
   595,
   603,
   608,
   612,
   615,
   619,
   622,
   626,
   629,
   635,
   641,
   645,
   648,
   657,
   665,
   669,
   677,
   681,
   689,
   695,
   706,
   710,
   718,
   722,
   731,
   743,
   756,
   760,
   771,
   775,
   780,
   784,
   788,
   795,
   805,
   809,
   821,
   825,
   829,
   833,
   837,
   846,
   848,
   852,
   854,
   858,
   860,
   864,
   866,
   870,
   873,
   877,
   880,
   884,
   888,
   890,
   894,
   896,
   900,
   902,
   906,
   910,
   912
  ]
 },
 "nbformat": 4,
 "nbformat_minor": 5
}