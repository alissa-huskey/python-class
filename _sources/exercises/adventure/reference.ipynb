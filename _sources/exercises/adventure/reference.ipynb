{
 "cells": [
  {
   "cell_type": "markdown",
   "id": "f1249979",
   "metadata": {},
   "source": [
    "Reference\n",
    "=========\n",
    "\n",
    "Glossary\n",
    "--------\n",
    "\n",
    "```{glossary} adventure-game\n",
    "\n",
    "refactoring\n",
    "  Making changes to existing code for the sake of improving the code quality\n",
    "  without changing what the software does. Refactoring is done to improve\n",
    "  things like readability, maintainability and reliability.\n",
    "\n",
    "DRY\n",
    "Don't repeat yourself\n",
    "   A principle of software development aimed at reducing repetition of software\n",
    "   patterns, replacing it with abstractions or using data normalization to\n",
    "   avoid redundancy.\n",
    "\n",
    "TDD\n",
    "Test-Driven Development\n",
    "  A process for writing code that involves writing a test for how you want the\n",
    "  code to work before writing the code itself.\n",
    "\n",
    "```"
   ]
  }
 ],
 "metadata": {
  "jupytext": {
   "formats": "md:myst",
   "text_representation": {
    "extension": ".md",
    "format_name": "myst"
   }
  },
  "kernelspec": {
   "display_name": "Python 3",
   "language": "python",
   "name": "python3"
  },
  "language_info": {
   "codemirror_mode": {
    "name": "ipython",
    "version": 3
   },
   "file_extension": ".py",
   "mimetype": "text/x-python",
   "name": "python",
   "nbconvert_exporter": "python",
   "pygments_lexer": "ipython3",
   "version": "3.8.16"
  },
  "source_map": [
   11
  ]
 },
 "nbformat": 4,
 "nbformat_minor": 5
}