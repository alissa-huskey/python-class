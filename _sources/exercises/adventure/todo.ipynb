{
 "cells": [
  {
   "cell_type": "markdown",
   "id": "c39a1b1d",
   "metadata": {},
   "source": [
    "TODO\n",
    "====\n",
    "\n",
    "- `[ ]` Add cave to `PLACES`, dragon to `ITEMS`\n",
    "- `[ ]` Add `do_pet()` in cave\n",
    "- `[ ]` Add `do_help()`\n",
    "- `[ ]` Add item aliases\n",
    "- `[ ]` Aliases for `east`, `e` and other directions\n",
    "- `[ ]` Add items to items, so the book will only be seen when you look at the desk\n",
    "- `[ ]` Add place inventory so there can be more than one of an item in a place\n",
    "- `[ ]` Change `ITEMS` {samp}`\"can_take\": {str}` to {samp}`\"can\": {list}`\n",
    "- `[ ]` Add player health, item health points and `do_drink()`\n",
    "\n",
    "Other ideas\n",
    "-----------\n",
    "\n",
    "- `[ ]` Add saved games, ask the player's name\n",
    "- `[ ]` Run multiple commands at once or load from a file\n",
    "- `[ ]` Add something you have to fight in the forest\n",
    "- `[ ]` Add a bakery with things you can eat which may also heal\n",
    "- `[ ]` Add a wizards tower with a puzzle to solve\n",
    "- `[ ]` Items you can open, close, lift, throw, light, turn off\n",
    "- `[ ]` Places you can go in, out, up, down\n",
    "- `[ ]` People you can talk to, give things to, ask about things\n",
    "- `[ ]` Draw a map as the player goes from place to place\n",
    "- `[ ]` Add a (secret?) jump command to go straight to a place\n",
    "- `[ ]` Add search command (ie, search rubble)\n",
    "- `[ ]` Add mushrooms in the forest that you can eat"
   ]
  }
 ],
 "metadata": {
  "jupytext": {
   "formats": "md:myst",
   "text_representation": {
    "extension": ".md",
    "format_name": "myst"
   }
  },
  "kernelspec": {
   "display_name": "Python 3",
   "language": "python",
   "name": "python3"
  },
  "language_info": {
   "codemirror_mode": {
    "name": "ipython",
    "version": 3
   },
   "file_extension": ".py",
   "mimetype": "text/x-python",
   "name": "python",
   "nbconvert_exporter": "python",
   "pygments_lexer": "ipython3",
   "version": "3.8.16"
  },
  "source_map": [
   11
  ]
 },
 "nbformat": 4,
 "nbformat_minor": 5
}