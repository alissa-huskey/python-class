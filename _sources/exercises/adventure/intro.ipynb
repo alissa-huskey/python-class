{
 "cells": [
  {
   "cell_type": "markdown",
   "id": "2afac2b3",
   "metadata": {},
   "source": [
    "Adventure Game\n",
    "==============\n",
    "\n",
    "Text adventure games, sometimes called interactive fiction, are an old genre\n",
    "where the entire world is described with text. The gameplay is done through\n",
    "simple commands like `go north` or `eat pie`.\n",
    "\n",
    "Each area in the game, item, or action has its own description.\n",
    "\n",
    "You can find a [demo][game-demo] of a game like this on Replit, and the\n",
    "[source code][game-code] is on github. (Though the version we'll be writing is\n",
    "much simpler to start.).\n",
    "\n",
    "```{tableofcontents}\n",
    "```\n",
    "\n",
    "[game-demo]: https://replit.com/@alissahuskey/adventure\n",
    "[game-code]: https://github.com/alissa-huskey/adventure"
   ]
  }
 ],
 "metadata": {
  "jupytext": {
   "formats": "md:myst",
   "text_representation": {
    "extension": ".md",
    "format_name": "myst"
   }
  },
  "kernelspec": {
   "display_name": "Python 3",
   "language": "python",
   "name": "python3"
  },
  "language_info": {
   "codemirror_mode": {
    "name": "ipython",
    "version": 3
   },
   "file_extension": ".py",
   "mimetype": "text/x-python",
   "name": "python",
   "nbconvert_exporter": "python",
   "pygments_lexer": "ipython3",
   "version": "3.8.16"
  },
  "source_map": [
   11
  ]
 },
 "nbformat": 4,
 "nbformat_minor": 5
}