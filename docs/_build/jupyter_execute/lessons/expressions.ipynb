{
 "cells": [
  {
   "cell_type": "markdown",
   "metadata": {},
   "source": [
    " # Fundamentals: Expressions\n",
    " An *expression* is a unit of code that can be solved to a single value.\n",
    " This process is called *evaluating* the expression.\n",
    " Take the following simple expression that resolves to `30`."
   ]
  },
  {
   "cell_type": "code",
   "execution_count": 1,
   "metadata": {},
   "outputs": [
    {
     "data": {
      "text/plain": [
       "30"
      ]
     },
     "execution_count": 1,
     "metadata": {},
     "output_type": "execute_result"
    }
   ],
   "source": [
    "\n",
    "10 * 3\n"
   ]
  },
  {
   "cell_type": "markdown",
   "metadata": {},
   "source": [
    " It is comprised of:\n",
    "\n",
    " * the *left-hand value* (*LHV*)\n",
    " * an *operator*\n",
    " * the *right-hand value* (*RHV*)"
   ]
  },
  {
   "cell_type": "code",
   "execution_count": 2,
   "metadata": {},
   "outputs": [
    {
     "data": {
      "text/plain": [
       "30"
      ]
     },
     "execution_count": 2,
     "metadata": {},
     "output_type": "execute_result"
    }
   ],
   "source": [
    "# LHV    Operator   RHV\n",
    "10       *          3\n"
   ]
  },
  {
   "cell_type": "markdown",
   "metadata": {},
   "source": [
    " An *operator* is a symbol with special meaning that tells Python to do\n",
    " something. Some examples of operators include `+`, `=`, and `==`.\n",
    "\n",
    "  When an expression includes an operator involved in Python, there is always a\n",
    "  *left-hand value* and a *right-hand value*.\n",
    " Let's take a more complicated example."
   ]
  },
  {
   "cell_type": "code",
   "execution_count": 3,
   "metadata": {},
   "outputs": [
    {
     "data": {
      "text/plain": [
       "20"
      ]
     },
     "execution_count": 3,
     "metadata": {},
     "output_type": "execute_result"
    }
   ],
   "source": [
    "\n",
    "2 + 3 * 6\n"
   ]
  },
  {
   "cell_type": "markdown",
   "metadata": {},
   "source": [
    " In this case we have 2 operators: `+` and `*`. So then which is the left-hand\n",
    " value, and which the right-hand?\n",
    " The answer is that Python evaluates this the same way we would solve a math\n",
    " problem. That is, it breaks it down into multiple expressions."
   ]
  },
  {
   "cell_type": "code",
   "execution_count": 4,
   "metadata": {},
   "outputs": [
    {
     "data": {
      "text/plain": [
       "20"
      ]
     },
     "execution_count": 4,
     "metadata": {},
     "output_type": "execute_result"
    }
   ],
   "source": [
    "\n",
    "# Expression 1: (3 * 6)\n",
    "#   LHV    Operator   RHV\n",
    "2 + 3      *           6\n",
    "\n",
    "# Expression 2: (2 + 18)\n",
    "# LHV    Operator   RHV\n",
    "2        +          18\n"
   ]
  },
  {
   "cell_type": "markdown",
   "metadata": {},
   "source": [
    " Here are some examples of expressions"
   ]
  },
  {
   "cell_type": "code",
   "execution_count": 5,
   "metadata": {},
   "outputs": [
    {
     "ename": "StdinNotImplementedError",
     "evalue": "raw_input was called, but this frontend does not support input requests.",
     "output_type": "error",
     "traceback": [
      "\u001b[38;2;231;233;219;01m---------------------------------------------------------------------------\u001b[38;2;231;233;219m",
      "\u001b[38;2;239;97;85mStdinNotImplementedError\u001b[38;2;231;233;219m                  Traceback (most recent call last)",
      "\u001b[38;2;254;196;24m<ipython-input-5-2189e5f2256f>\u001b[38;2;231;233;219m in \u001b[38;2;239;97;85m<module>\u001b[38;2;249;155;21m\u001b[38;2;231;233;219m\n\u001b[38;2;249;155;21m      4\u001b[38;2;231;233;219m \u001b[38;2;231;233;219mtoday\u001b[0m                    \u001b[38;2;119;110;113m# a variable\u001b[0m\u001b[38;2;231;233;219m\u001b[0m\u001b[38;2;231;233;219m\u001b[0m\u001b[0m\n\u001b[38;2;249;155;21m      5\u001b[38;2;231;233;219m \u001b[38;2;231;233;219myesterday\u001b[0m \u001b[38;2;91;196;191m=\u001b[0m \u001b[38;2;231;233;219mtoday\u001b[0m \u001b[38;2;91;196;191m-\u001b[0m \u001b[38;2;249;155;21m1\u001b[0m    \u001b[38;2;119;110;113m# two expressions: #1: today - 1, #2: yesterday = 15\u001b[0m\u001b[38;2;231;233;219m\u001b[0m\u001b[38;2;231;233;219m\u001b[0m\u001b[0m\n\u001b[38;2;249;155;21m----> 6\u001b[38;2;249;155;21m \u001b[38;2;231;233;219minput\u001b[0m\u001b[38;2;91;196;191m(\u001b[0m\u001b[38;2;91;196;191m)\u001b[0m                  \u001b[38;2;119;110;113m# functions with a return value also evaluate to a value\u001b[0m\u001b[38;2;231;233;219m\u001b[0m\u001b[38;2;231;233;219m\u001b[0m\u001b[0m\n\u001b[38;2;231;233;219m",
      "\u001b[38;2;254;196;24m~/Library/Caches/pypoetry/virtualenvs/python-class-Xq3GLStO-py3.8/lib/python3.8/site-packages/ipykernel/kernelbase.py\u001b[38;2;231;233;219m in \u001b[38;2;239;97;85mraw_input\u001b[38;2;249;155;21m(self, prompt)\u001b[38;2;231;233;219m\n\u001b[38;2;249;155;21m    855\u001b[38;2;231;233;219m         \"\"\"\n\u001b[38;2;249;155;21m    856\u001b[38;2;231;233;219m         \u001b[38;2;129;91;164mif\u001b[0m \u001b[38;2;129;91;164mnot\u001b[0m \u001b[38;2;231;233;219mself\u001b[0m\u001b[38;2;91;196;191m.\u001b[0m\u001b[38;2;231;233;219m_allow_stdin\u001b[0m\u001b[38;2;91;196;191m:\u001b[0m\u001b[38;2;231;233;219m\u001b[0m\u001b[38;2;231;233;219m\u001b[0m\u001b[0m\n\u001b[38;2;249;155;21m--> 857\u001b[38;2;249;155;21m             raise StdinNotImplementedError(\n\u001b[38;2;231;233;219m\u001b[38;2;249;155;21m    858\u001b[38;2;231;233;219m                 \u001b[38;2;72;182;133m\"raw_input was called, but this frontend does not support input requests.\"\u001b[0m\u001b[38;2;231;233;219m\u001b[0m\u001b[38;2;231;233;219m\u001b[0m\u001b[0m\n\u001b[38;2;249;155;21m    859\u001b[38;2;231;233;219m             )\n",
      "\u001b[38;2;239;97;85mStdinNotImplementedError\u001b[38;2;231;233;219m: raw_input was called, but this frontend does not support input requests."
     ]
    }
   ],
   "source": [
    "\n",
    "3                        # a stand-alone vaue is the simplest expression\n",
    "\"hello\"                  # a stand-alone string value\n",
    "today = 16               # evaluates to 16\n",
    "today                    # a variable\n",
    "yesterday = today - 1    # two expressions: #1: today - 1, #2: yesterday = 15\n",
    "input()                  # functions with a return value also evaluate to a value\n"
   ]
  },
  {
   "cell_type": "markdown",
   "metadata": {},
   "source": [
    " Anywhere that we can use a value, we can also use an expression. Python will\n",
    " first evaluate the expression, then use the resulting value in its place."
   ]
  },
  {
   "cell_type": "code",
   "execution_count": null,
   "metadata": {},
   "outputs": [],
   "source": [
    "\n",
    "# using stand-alone values\n",
    "print(3)\n",
    "print(\"hello\")\n",
    "print(yesterday)\n",
    "\n",
    "# first, evaluates today-1\n",
    "# then sends 15 as an argument to print()\n",
    "print(today-1)\n",
    "\n",
    "# first calls the input() function and waits for the user response\n",
    "# then sends the result to print()\n",
    "print(input())\n"
   ]
  },
  {
   "cell_type": "markdown",
   "metadata": {},
   "source": [
    " ## Self-Quiz"
   ]
  },
  {
   "cell_type": "markdown",
   "metadata": {},
   "source": [
    " 1. What is the operator in this expression?"
   ]
  },
  {
   "cell_type": "code",
   "execution_count": null,
   "metadata": {},
   "outputs": [],
   "source": [
    "\"hello \" * 3\n"
   ]
  },
  {
   "cell_type": "markdown",
   "metadata": {},
   "source": [
    " 2. If the value of `name` is `\"Joe\"`, what is the argument that is sent to the `print()` function?"
   ]
  },
  {
   "cell_type": "code",
   "execution_count": null,
   "metadata": {},
   "outputs": [],
   "source": [
    "print(\"Hello \" + name)\n"
   ]
  },
  {
   "cell_type": "markdown",
   "metadata": {},
   "source": [
    " 3. What does the following expression evaluate to?"
   ]
  },
  {
   "cell_type": "code",
   "execution_count": null,
   "metadata": {},
   "outputs": [],
   "source": [
    "1 == 2\n"
   ]
  },
  {
   "cell_type": "markdown",
   "metadata": {},
   "source": [
    "# Today we learned\n",
    " * **value**: a piece of data or information\n",
    " * **expression**: a unit of code that can be solved to a single value\n",
    " * **evaluate**: the process of solving an expression to its resulting value\n",
    " * **left-hand value**: the value to the left of an operator\n",
    " * **right-hand value**: the value to the right of an operator\n",
    " * **operator**: a symbol that has special meaning, telling Python to do something with the values on either side"
   ]
  }
 ],
 "metadata": {
  "language_info": {
   "codemirror_mode": {
    "name": "ipython",
    "version": 3
   },
   "file_extension": ".py",
   "mimetype": "text/x-python",
   "name": "python",
   "nbconvert_exporter": "python",
   "pygments_lexer": "ipython3",
   "version": "3.8.1"
  }
 },
 "nbformat": 4,
 "nbformat_minor": 2
}