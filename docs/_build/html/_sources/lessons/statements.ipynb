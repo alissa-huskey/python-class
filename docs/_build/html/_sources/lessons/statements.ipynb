{
 "cells": [
  {
   "cell_type": "markdown",
   "metadata": {},
   "source": [
    "Statements\n",
    "==========\n",
    "\n",
    "A {term}`statement` is an instruction that Python can run or {term}`execute` as\n",
    "a unit.\n",
    "\n",
    "Like grammar in prose, statements follow syntax rules telling Python where they\n",
    "begin and end as well as how they should be handled.\n",
    "\n",
    "Python's syntax rules define statements as either a single logical line of\n",
    "code:\n",
    "\n",
    "```python\n",
    "debug_mode = True\n",
    "```\n",
    "\n",
    "Or a block of code grouping multiple statements together:\n",
    "\n",
    "```python\n",
    "if result < 0:\n",
    "  print(\"Positive number required, try again.\")\n",
    "  ```\n",
    "\n",
    "Simple Statements\n",
    "-----------------\n",
    "\n",
    "A {term}`simple statement` is a single instruction, one that does not group together\n",
    "other statements. In comprison to prose a simple statement is like a sentence.\n",
    "While there are exceptions, a simple statements is essentially a line of code.\n",
    "\n",
    "To be more accurate, a simple statement is a single instruction that could be\n",
    "written on one line by itself, even if it is actually written differently.\n",
    "This is referred to as a {term}`logical line`.\n",
    "\n",
    "\n",
    "### Single line statements\n",
    "\n",
    "Most of the time simple statements are written one per line. The newline\n",
    "character tells Python that the statement is complete.\n",
    "\n",
    "```{code-block} python\n",
    "---\n",
    "caption: examles of simple statements, each on one physical line\n",
    "---\n",
    "name = \"Alissa\"\n",
    "print(\"Hello\", name)\n",
    "import random\n",
    "colors = [\"red\", \"green\", \"blue\"]\n",
    "```\n",
    "\n",
    "### Multi-line statements\n",
    "\n",
    "A statement can be broken into multiple lines following an {term}`operator` or\n",
    "{term}`delimiter` as long it is enclosed by `(` `)`, `[` `]` or `{` `}`.\n",
    "\n",
    "This is called {term}`implicit line continuation`.\n",
    "\n",
    "```{code-block} python\n",
    "---\n",
    "linenos:\n",
    "caption: the same simple statement, shown in both single line and multi-line style\n",
    "---\n",
    "colors = [\"red\", \"green\", \"blue\"]\n",
    "colors = [\n",
    "  \"red\",\n",
    "  \"green\",\n",
    "  \"blue\",\n",
    "]\n",
    "```\n",
    "\n",
    "```{code-block} python\n",
    "---\n",
    "linenos:\n",
    "caption: two simple statement examples split via implicit line continuation\n",
    "---\n",
    "address = {\n",
    "    'street': \"1600 Pennsylvania Ave NW\",\n",
    "    'city': \"Washington\",\n",
    "    'state': \"DC\",\n",
    "    'zip': \"20500-0003\",\n",
    "    'country': \"United States\",\n",
    "}\n",
    "\n",
    "print(\"The White House: \" +\n",
    "      address['street']   + \", \" +\n",
    "      address['city']     + \", \" +\n",
    "      address['state']    + \", \" +\n",
    "      address['zip'])\n",
    "```\n",
    "\n",
    "If the operators or delimiters are not enclosed by anything you can still can\n",
    "break up a statement into multiple lines by adding a `\\` to the end of each\n",
    "line.\n",
    "\n",
    "This is called {term}`explicit line continuation`.\n",
    "\n",
    "```{code-block} python\n",
    "---\n",
    "linenos:\n",
    "caption: a single assignment statement, split via explicit line continuation\n",
    "---\n",
    "a = 1 + 2 + 3 + \\\n",
    "    4 + 5 + 6 + \\\n",
    "    7 + 8 + 9\n",
    "```\n",
    "\n",
    "### Multi-statement lines\n",
    "\n",
    "You can put multiple statements on one line by putting a `;` between each\n",
    "statement. You can think of a semicolon as a substitute newline.\n",
    "```{code-block} python\n",
    "---\n",
    "linenos:\n",
    "caption: two simple statements on one physical line\n",
    "---\n",
    "import random; random.randint(1, 10)\n",
    "```\n",
    "\n",
    "> This is usually discouraged as poor coding practice, but it's fine in the\n",
    "> Python shell where it can be a handy shortcut.\n",
    "\n",
    "Compound Statements\n",
    "-------------------\n",
    "\n",
    "A {term}`compound statement` is a a number of statements grouped together as a\n",
    "single unit.  If a simple statement like a sentence, a compound statement is\n",
    "more like a paragraph.\n",
    "\n",
    "One example is a function definition.\n",
    "\n",
    "```{code-block} python\n",
    "---\n",
    "linenos:\n",
    "caption: this function has three simple statements in its suite (lines `2`-`4`) controlled by the header (line `1`)\n",
    "---\n",
    "def welcome_player():\n",
    "  name = input(\"Player name: \")\n",
    "  print(\"Welcome\", name)\n",
    "  return name\n",
    "```\n",
    "\n",
    "A compound statement is made up of at least one {term}`header` statement and\n",
    "the group of statements, called a {term}`suite`, that belong to it.\n",
    "\n",
    "A header statement always starts with a a keyword (like `def` or `if`) and ends\n",
    "in a `:`. This header tells Python that a compound statement has started, that\n",
    "it is in charge of all of the indented lines to follow, and how and when they\n",
    "will be executed.  You can think of compound statements as a hierarchy where\n",
    "statements at the same indentation level report to the most recent header\n",
    "statement that's back one indentation level.\n",
    "\n",
    "In this silly example, the `Picard` header (line `1`) is in charge of `Riker`,\n",
    "`Data` and `Worf` (lines `2`-`4`), and the `Riker` header (line `5`) is in\n",
    "charge of `Data` and `Worf` (lines `6` and `7`).\n",
    "```{code-block} python\n",
    "---\n",
    "linenos:\n",
    "caption: a single if-statement though it contains two headers (the `if`, and `elif` lines)\n",
    "---\n",
    "if name == \"Picard\":\n",
    "  print(\"Riker\")\n",
    "  print(\"Data\")\n",
    "  print(\"Worf\")\n",
    "elif name == \"Riker\":\n",
    "  print(\"Data\")\n",
    "  print(\"Worf\")\n",
    "```\n",
    "\n",
    "Compound statements can be nested.\n",
    "\n",
    "```{code-block} python\n",
    "---\n",
    "linenos:\n",
    "caption: a single if-statement though it contains two headers (the `if`, and `elif` lines)\n",
    "---\n",
    "if name == \"Picard\":\n",
    "  print(\"Riker\")\n",
    "  print(\"Data\")\n",
    "  print(\"Worf\")\n",
    "elif name == \"Riker\":\n",
    "  print(\"Data\")\n",
    "  print(\"Worf\")\n",
    "```\n",
    "\n",
    "\n",
    "**Summary**\n",
    "\n",
    "* start with a header statement\n",
    "* which controls the statement or statements that belong to it\n",
    "* the header line always begins with a Python keyword and ends with a `:`\n",
    "* the header statement is followed by at least one body statement\n",
    "* body statements are indented one level below the header, all at the same indentation level\n",
    "* a single compound statement may have multiple headers, that are triggered by different cases\n",
    "* a compound statement may control \n",
    "\n",
    "```\n",
    "<header>:\n",
    "  <suite>\n",
    "```\n",
    "\n",
    "Another example is an if-statatement.\n",
    "\n",
    "```{code-block} python\n",
    "---\n",
    "linenos:\n",
    "caption: this is a single if-statement though it contains three headers (the `if`, `elif`, and `else` lines)\n",
    "---\n",
    "if answer < 0:\n",
    "    print(\"Answer must be a positive number\")\n",
    "elif answer > 5:\n",
    "    print(\"Answer must be less than five.\")\n",
    "else:\n",
    "    print(\"Your answer was:\", answer)\n",
    "```\n",
    "\n",
    "\n",
    "% Compound statements contain other compound statements.\n",
    "\n",
    "% Statements vs. Expressions\n",
    "% --------------------------\n",
    "\n",
    "% Expressions can be statements.\n",
    "\n",
    "% Statements may contain expressions, but expressions can't contain statements\n",
    "% that are not also expressions.\n",
    "\n",
    "% Expressions are evaluated, statements are executed.\n",
    "\n",
    "\n",
    "Self-Quiz\n",
    "---------\n",
    "\n",
    "1\\. How many statements are in the following:"
   ]
  },
  {
   "cell_type": "code",
   "execution_count": 1,
   "metadata": {
    "tags": [
     "hide-output"
    ]
   },
   "outputs": [
    {
     "name": "stdout",
     "output_type": "stream",
     "text": [
      "My favorite color is: purple\n"
     ]
    }
   ],
   "source": [
    "favs = {\n",
    "    'color': \"purple\",\n",
    "    'season': \"Fall\",\n",
    "    'food': \"cheese\"\n",
    "}\n",
    "print(\"My favorite color is:\", favs['color'])"
   ]
  },
  {
   "cell_type": "markdown",
   "metadata": {},
   "source": [
    "2\\. What is wrong with the following:"
   ]
  },
  {
   "cell_type": "code",
   "execution_count": 2,
   "metadata": {
    "tags": [
     "raises-exception",
     "hide-output"
    ]
   },
   "outputs": [
    {
     "ename": "IndentationError",
     "evalue": "expected an indented block (<ipython-input-2-45b9a87981c3>, line 4)",
     "output_type": "error",
     "traceback": [
      "\u001b[03m  File \u001b[38;2;254;196;24m\"<ipython-input-2-45b9a87981c3>\"\u001b[03m, line \u001b[38;2;249;155;21m4\u001b[38;2;231;233;219m\n\u001b[38;2;249;155;21m    print(num)\u001b[38;2;231;233;219m\n\u001b[38;2;91;196;191m    ^\u001b[38;2;231;233;219m\n\u001b[38;2;239;97;85mIndentationError\u001b[38;2;231;233;219m\u001b[38;2;239;97;85m:\u001b[38;2;231;233;219m expected an indented block\n"
     ]
    }
   ],
   "source": [
    "import random\n",
    "num = random.randint(0, 10)\n",
    "if num > 5:\n",
    "print(num)"
   ]
  },
  {
   "cell_type": "markdown",
   "metadata": {},
   "source": [
    "3\\. What is wrong with the following:"
   ]
  },
  {
   "cell_type": "code",
   "execution_count": 3,
   "metadata": {
    "tags": [
     "raises-exception",
     "hide-output"
    ]
   },
   "outputs": [
    {
     "ename": "SyntaxError",
     "evalue": "invalid syntax (<ipython-input-3-86e0c4cc9e48>, line 1)",
     "output_type": "error",
     "traceback": [
      "\u001b[03m  File \u001b[38;2;254;196;24m\"<ipython-input-3-86e0c4cc9e48>\"\u001b[03m, line \u001b[38;2;249;155;21m1\u001b[38;2;231;233;219m\n\u001b[38;2;249;155;21m    def print_header(title)\u001b[38;2;231;233;219m\n\u001b[38;2;91;196;191m                           ^\u001b[38;2;231;233;219m\n\u001b[38;2;239;97;85mSyntaxError\u001b[38;2;231;233;219m\u001b[38;2;239;97;85m:\u001b[38;2;231;233;219m invalid syntax\n"
     ]
    }
   ],
   "source": [
    "def print_header(title)\n",
    "    print(title)\n",
    "    print(\"============================================\")"
   ]
  },
  {
   "cell_type": "markdown",
   "metadata": {},
   "source": [
    "4\\. How many statements are in the following:"
   ]
  },
  {
   "cell_type": "code",
   "execution_count": 4,
   "metadata": {
    "tags": [
     "hide-output"
    ]
   },
   "outputs": [
    {
     "name": "stdout",
     "output_type": "stream",
     "text": [
      "Jack is 24 years old\n"
     ]
    }
   ],
   "source": [
    "name = \"Jack\" ; age = 24 ; print(name, \"is\", age, \"years old\")"
   ]
  },
  {
   "cell_type": "markdown",
   "metadata": {},
   "source": [
    "Reference\n",
    "----------------\n",
    "\n",
    "### Glossary\n",
    "\n",
    "```{glossary}\n",
    "statement\n",
    "  an instruction that Python can execute as a unit\n",
    "\n",
    "execute\n",
    "  when Python runs a statement (or script)\n",
    "\n",
    "simple statement\n",
    "  a statement that can be written on a single line by itself, even if it is not actually written that way\n",
    "\n",
    "compound statement\n",
    "  a number of statements grouped together as a single unit\n",
    "\n",
    "header\n",
    "  ...\n",
    "\n",
    "suite\n",
    "  ...\n",
    "\n",
    "implicit line continuation\n",
    "  when a simple statement is broken into multiple lines inside of `(` `)`, `[` `]` or `{` `}` after operators.\n",
    "\n",
    "explicit line continuation\n",
    "  when a simple statement is broken into multiple lines by appending a `\\` to the end of each line\n",
    "\n",
    "delimiter\n",
    "  a seperating symbol, most often a `,`\n",
    "\n",
    "logical line\n",
    "  - a single physical line of code containing a single complete statement\n",
    "  - multiple physical lines of code joned by explicit or implicit line continuation\n",
    "  - a single statement from a physical line of code containing multiple statements seperated by `;`\n",
    "```\n",
    "\n",
    "### More info\n",
    "\n",
    "**The Python Language Reference**\n",
    "\n",
    "* [Lexical analysis](https://docs.python.org/3/reference/lexical_analysis.html)\n",
    "* [Simple statements](https://docs.python.org/3/reference/simple_stmts.html)\n",
    "* [Compound statements](https://docs.python.org/3/reference/compound_stmts.html)"
   ]
  }
 ],
 "metadata": {
  "jupytext": {
   "formats": "md:myst",
   "text_representation": {
    "extension": ".md",
    "format_name": "myst"
   }
  },
  "kernelspec": {
   "display_name": "Python 3",
   "language": "python",
   "name": "python3"
  },
  "language_info": {
   "codemirror_mode": {
    "name": "ipython",
    "version": 3
   },
   "file_extension": ".py",
   "mimetype": "text/x-python",
   "name": "python",
   "nbconvert_exporter": "python",
   "pygments_lexer": "ipython3",
   "version": "3.8.1"
  },
  "source_map": [
   11,
   246,
   254,
   258,
   264,
   268,
   273,
   277,
   280
  ]
 },
 "nbformat": 4,
 "nbformat_minor": 4
}