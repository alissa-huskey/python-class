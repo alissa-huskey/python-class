{
 "cells": [
  {
   "cell_type": "markdown",
   "metadata": {},
   "source": [
    " # Fundamentals: Statements\n",
    " A *statement* is a valid unit of code that serve as an instruction to Python.\n",
    "\n",
    " When a statement is run, it is called *executing* the code.\n",
    " ## Simple Statements\n",
    " Most statements are a single line of code.\n",
    "\n",
    " For example:"
   ]
  },
  {
   "cell_type": "code",
   "execution_count": null,
   "metadata": {},
   "outputs": [],
   "source": [
    "\n",
    "name = \"Alissa\"\n",
    "print(\"Hello\", name)\n",
    "import random\n",
    "colors = [\"red\", \"green\", \"blue\"]\n"
   ]
  },
  {
   "cell_type": "markdown",
   "metadata": {},
   "source": [
    " You can break up part of a statement that is inside of parentheses, square\n",
    " brackets or curly braces after delimiters (seperator symbols) or operators.\n",
    " This is called *implicit line continuation*.\n",
    " > Even though these examples are broken up into multiple lines, the\n",
    " > `address =` lines make up a single statement and the `print()` lines\n",
    " > make up another single statement."
   ]
  },
  {
   "cell_type": "code",
   "execution_count": null,
   "metadata": {},
   "outputs": [],
   "source": [
    "\n",
    "address = {\n",
    "    'street': \"1600 Pennsylvania Ave NW\",\n",
    "    'city': \"Washington\",\n",
    "    'state': \"DC\",\n",
    "    'zip': \"20500-0003\",\n",
    "    'country': \"United States\",\n",
    "}\n",
    "\n",
    "print(\n",
    "    \"The White House: \" +\n",
    "    address['street'] +\n",
    "    \", \" +\n",
    "    address['city'] +\n",
    "     \", \" +\n",
    "    address['state'] +\n",
    "     \", \" +\n",
    "    address['zip']\n",
    ")\n"
   ]
  },
  {
   "cell_type": "markdown",
   "metadata": {},
   "source": [
    " Where implicit continuation won't work, you can break up a statement into\n",
    " multiple lines by adding a `\\` to the end of each line. This is called\n",
    " *explicit line continuation*.\n",
    " > Even though this example is broken up into multiple lines it is still a\n",
    " single statement"
   ]
  },
  {
   "cell_type": "code",
   "execution_count": null,
   "metadata": {},
   "outputs": [],
   "source": [
    "\n",
    "a = 1 + 2 + 3 + \\\n",
    "    4 + 5 + 6 + \\\n",
    "    7 + 8 + 9\n"
   ]
  },
  {
   "cell_type": "markdown",
   "metadata": {},
   "source": [
    " You can also put multiple statements on one line by putting a `;` between\n",
    " each statement. (Though it's not recommended in your saved code, it's\n",
    " sometimes handy in the Python shell.)\n",
    " > Even though this example is on one line there are two statements."
   ]
  },
  {
   "cell_type": "markdown",
   "metadata": {},
   "source": [
    " ## Compound Statements\n",
    " There are some cases where a number of statements are grouped together to be\n",
    " executed as a single unit. This is called a *compound statement*.\n",
    " A compound statement always has at least one *header* line that that ends in\n",
    " a `:` and controls one or more *body* statement lines that are at the same\n",
    " indentation level.\n",
    " <header>:\n",
    "   <body>\n",
    " One example is a function definition."
   ]
  },
  {
   "cell_type": "code",
   "execution_count": null,
   "metadata": {},
   "outputs": [],
   "source": [
    "\n",
    "def print_debug(text):\n",
    "    print(\"DEBUG:\", text)\n"
   ]
  },
  {
   "cell_type": "markdown",
   "metadata": {},
   "source": [
    " Another example is an if-statatement.\n",
    " > An if-statement can include multiple headers, but it is still all one statement."
   ]
  },
  {
   "cell_type": "code",
   "execution_count": null,
   "metadata": {},
   "outputs": [],
   "source": [
    "\n",
    "if answer < 0:\n",
    "    print(\"Answer must be a positive number\")\n",
    "elif answer > 5:\n",
    "    print(\"Answer must be less than five.\")\n",
    "else:\n",
    "    print(\"Your answer was:\", answer)\n",
    "\n"
   ]
  },
  {
   "cell_type": "markdown",
   "metadata": {},
   "source": [
    " ## Self-Quiz\n",
    " 1. How many statements are in the following:"
   ]
  },
  {
   "cell_type": "code",
   "execution_count": null,
   "metadata": {},
   "outputs": [],
   "source": [
    "\n",
    "favs = {\n",
    "    'color': \"purple\",\n",
    "    'season': \"Fall\",\n",
    "    'food': \"cheese\"\n",
    "}\n",
    "print(\"My favorite color is:\", favs['color'])\n"
   ]
  },
  {
   "cell_type": "markdown",
   "metadata": {},
   "source": [
    " 2. What is wrong with the following:"
   ]
  },
  {
   "cell_type": "code",
   "execution_count": 5,
   "metadata": {},
   "outputs": [
    {
     "name": "stdout",
     "output_type": "stream",
     "text": [
      "10\n"
     ]
    }
   ],
   "source": [
    "\n",
    "import random\n",
    "num = random.randint(0, 10)\n",
    "if num > 5:\n",
    "    print(num)\n"
   ]
  },
  {
   "cell_type": "markdown",
   "metadata": {},
   "source": [
    " 3. What is wrong with the following:"
   ]
  },
  {
   "cell_type": "code",
   "execution_count": 14,
   "metadata": {},
   "outputs": [
    {
     "name": "stdout",
     "output_type": "stream",
     "text": [
      "section\n",
      "============================================\n"
     ]
    }
   ],
   "source": [
    "\n",
    "def print_header(title):\n",
    "    print(title)\n",
    "    print(\"============================================\")\n",
    "\n",
    "print_header(\"section\")"
   ]
  },
  {
   "cell_type": "markdown",
   "metadata": {},
   "source": [
    " 4. How many statements are in the following:"
   ]
  },
  {
   "cell_type": "code",
   "execution_count": null,
   "metadata": {},
   "outputs": [],
   "source": [
    "\n",
    "name = \"Jack\" ; age = 24 ; print(name, \"is\", age, \"years old\")\n"
   ]
  },
  {
   "cell_type": "markdown",
   "metadata": {},
   "source": [
    "# Today we learned\n",
    " * **statement**: is a valid unit of code that serve as an instruction to Python\n",
    " * **execute**: when Python runs a piece of code\n",
    " * **simple-statement**: a statement that can be written on a single line by itself, even if it is not actually written that way\n",
    " * **compound-statement**: a number of statements grouped together as a single unit\n",
    " * **implicit line continuation**: when a simple statement is broken into multiple lines inside of `(` `)`, `[` `]` or `{` `}` after operators.\n",
    " * **explicit line continuation**: when a simple statement is broken into multiple lines by appending a `\\` to the end of each line"
   ]
  }
 ],
 "metadata": {
  "kernelspec": {
   "display_name": "Python 3",
   "language": "python",
   "name": "python3"
  },
  "language_info": {
   "codemirror_mode": {
    "name": "ipython",
    "version": 3
   },
   "file_extension": ".py",
   "mimetype": "text/x-python",
   "name": "python",
   "nbconvert_exporter": "python",
   "pygments_lexer": "ipython3",
   "version": "3.8.1"
  }
 },
 "nbformat": 4,
 "nbformat_minor": 2
}
