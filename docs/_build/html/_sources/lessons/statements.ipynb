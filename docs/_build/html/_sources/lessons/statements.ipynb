{
 "cells": [
  {
   "cell_type": "markdown",
   "metadata": {},
   "source": [
    "Fundamentals: Statements\n",
    "========================\n",
    "\n",
    "A *statement* is an instruction that Python can run or *execute* as a unit.\n",
    "\n",
    "Like grammar in prose, statements follow syntax rules telling Python where they\n",
    "begin and end as well as how they should be handled. \n",
    "\n",
    "Python's syntax rules define statements as either a single logical line of\n",
    "code:\n",
    "\n",
    "```python\n",
    "debug_mode = True\n",
    "```\n",
    "\n",
    "Or a block of code grouping multiple statements together:\n",
    "\n",
    "```python\n",
    "if result < 0:\n",
    "  print(\"Positive number required, try again.\")\n",
    "  ```\n",
    "\n",
    "Simple Statements\n",
    "-----------------\n",
    "\n",
    "A *simple statement* is a single instruction, one that does not group together\n",
    "other statements. In comprison to prose a simple statement is like a sentence.\n",
    "While there are exceptions, a simple statements is essentially a line of code.\n",
    "\n",
    "To be more accurate, a simple statement is a single instruction that could be\n",
    "written on one line by itself, even if it is actually written differently.\n",
    "This is referred to as a *logical line*.\n",
    "\n",
    "\n",
    "### Single line statements\n",
    "\n",
    "Most of the time simple statements are written one per line. The newline\n",
    "character tells Python that the statement is complete.\n",
    "\n",
    "```{code-block} python\n",
    "---\n",
    "caption: examles of simple statements, each on one physical line\n",
    "---\n",
    "name = \"Alissa\"\n",
    "print(\"Hello\", name)\n",
    "import random\n",
    "colors = [\"red\", \"green\", \"blue\"]\n",
    "```\n",
    "\n",
    "### Multi-line statements\n",
    "\n",
    "A statement can be broken into multiple lines after operators or delimiters\n",
    "(seperator symbols), as long as they are inside of parentheses, square brackets\n",
    "or curly braces.\n",
    "\n",
    "This is called *implicit line continuation*.\n",
    "\n",
    "```{code-block} python\n",
    "---\n",
    "linenos:\n",
    "caption: the same simple statement, shown on single and multiple physical lines\n",
    "---\n",
    "colors = [\"red\", \"green\", \"blue\"]\n",
    "colors = [\n",
    "  \"red\",\n",
    "  \"green\",\n",
    "  \"blue\",\n",
    "]\n",
    "```\n",
    "\n",
    "```{code-block} python\n",
    "---\n",
    "linenos:\n",
    "caption: two simple statements split via implicit line continuation\n",
    "---\n",
    "address = {\n",
    "    'street': \"1600 Pennsylvania Ave NW\",\n",
    "    'city': \"Washington\",\n",
    "    'state': \"DC\",\n",
    "    'zip': \"20500-0003\",\n",
    "    'country': \"United States\",\n",
    "}\n",
    "\n",
    "print(\"The White House: \" +\n",
    "      address['street']   + \", \" +\n",
    "      address['city']     + \", \" +\n",
    "      address['state']    + \", \" +\n",
    "      address['zip'])\n",
    "```\n",
    "\n",
    "If the operators or delimiters are not within braces or parenthesis you can\n",
    "still can break up a statement into multiple lines by adding a `\\` to the end\n",
    "of each line.\n",
    "\n",
    "This is called *explicit line continuation*.\n",
    "\n",
    "```{code-block} python\n",
    "---\n",
    "linenos:\n",
    "caption: a single assignment statement, split via explicit line continuation\n",
    "---\n",
    "a = 1 + 2 + 3 + \\\n",
    "    4 + 5 + 6 + \\\n",
    "    7 + 8 + 9\n",
    "```\n",
    "\n",
    "### Multi-statement lines\n",
    "\n",
    "You can put multiple statements on one line by putting a `;` between each\n",
    "statement.\n",
    "```{code-block} python\n",
    "---\n",
    "linenos:\n",
    "caption: two statements on one physical line\n",
    "---\n",
    "name = \"Steve\" ; print(\"Welcome\", name)\n",
    "```\n",
    "\n",
    "> While this is considered poor practice, it's fine for the Python shell and\n",
    "> can be a a handy shortcut.\n",
    "\n",
    "Compound Statements\n",
    "-------------------\n",
    "\n",
    "There are some cases where a number of statements are grouped together to be\n",
    "executed as a single unit. This is called a *compound statement*.\n",
    "\n",
    "If a simple statement like a sentence, a compound statement is like a paragraph\n",
    "in its simplest form.\n",
    "\n",
    "A compound statement always has at least one *header* line that that ends in\n",
    "a `:` and controls one or more *body* statement lines that are at the same\n",
    "indentation level.\n",
    "\n",
    "```\n",
    "<header>:\n",
    "  <body>\n",
    "```\n",
    "\n",
    "One example is a function definition.\n",
    "\n",
    "\n",
    "```python\n",
    "def print_debug(text):\n",
    "    print(\"DEBUG:\", text)\n",
    "```\n",
    "\n",
    "Another example is an if-statatement.\n",
    "\n",
    "```{code-block} python\n",
    "---\n",
    "linenos:\n",
    "caption: this is a single if-statement though it contains three headers (the `if`, `elif`, and `else` lines)\n",
    "---\n",
    "if answer < 0:\n",
    "    print(\"Answer must be a positive number\")\n",
    "elif answer > 5:\n",
    "    print(\"Answer must be less than five.\")\n",
    "else:\n",
    "    print(\"Your answer was:\", answer)\n",
    "```\n",
    "\n",
    "\n",
    "% Compound statements contain other compound statements.\n",
    "\n",
    "% Statements vs. Expressions\n",
    "% --------------------------\n",
    "\n",
    "% Expressions can be statements.\n",
    "\n",
    "% Statements may contain expressions, but expressions can't contain statements\n",
    "% that are not also expressions.\n",
    "\n",
    "% Expressions are evaluated, statements are executed.\n",
    "\n",
    "\n",
    "Self-Quiz\n",
    "---------\n",
    "\n",
    "1\\. How many statements are in the following:"
   ]
  },
  {
   "cell_type": "code",
   "execution_count": 1,
   "metadata": {
    "tags": [
     "hide-output"
    ]
   },
   "outputs": [
    {
     "name": "stdout",
     "output_type": "stream",
     "text": [
      "My favorite color is: purple\n"
     ]
    }
   ],
   "source": [
    "favs = {\n",
    "    'color': \"purple\",\n",
    "    'season': \"Fall\",\n",
    "    'food': \"cheese\"\n",
    "}\n",
    "print(\"My favorite color is:\", favs['color'])"
   ]
  },
  {
   "cell_type": "markdown",
   "metadata": {},
   "source": [
    "2\\. What is wrong with the following:"
   ]
  },
  {
   "cell_type": "code",
   "execution_count": 2,
   "metadata": {
    "tags": [
     "raises-exception",
     "hide-output"
    ]
   },
   "outputs": [
    {
     "ename": "IndentationError",
     "evalue": "expected an indented block (<ipython-input-2-45b9a87981c3>, line 4)",
     "output_type": "error",
     "traceback": [
      "\u001b[03m  File \u001b[38;2;254;196;24m\"<ipython-input-2-45b9a87981c3>\"\u001b[03m, line \u001b[38;2;249;155;21m4\u001b[38;2;231;233;219m\n\u001b[38;2;249;155;21m    print(num)\u001b[38;2;231;233;219m\n\u001b[38;2;91;196;191m    ^\u001b[38;2;231;233;219m\n\u001b[38;2;239;97;85mIndentationError\u001b[38;2;231;233;219m\u001b[38;2;239;97;85m:\u001b[38;2;231;233;219m expected an indented block\n"
     ]
    }
   ],
   "source": [
    "import random\n",
    "num = random.randint(0, 10)\n",
    "if num > 5:\n",
    "print(num)"
   ]
  },
  {
   "cell_type": "markdown",
   "metadata": {},
   "source": [
    "3\\. What is wrong with the following:"
   ]
  },
  {
   "cell_type": "code",
   "execution_count": 3,
   "metadata": {
    "tags": [
     "raises-exception",
     "hide-output"
    ]
   },
   "outputs": [
    {
     "ename": "SyntaxError",
     "evalue": "invalid syntax (<ipython-input-3-86e0c4cc9e48>, line 1)",
     "output_type": "error",
     "traceback": [
      "\u001b[03m  File \u001b[38;2;254;196;24m\"<ipython-input-3-86e0c4cc9e48>\"\u001b[03m, line \u001b[38;2;249;155;21m1\u001b[38;2;231;233;219m\n\u001b[38;2;249;155;21m    def print_header(title)\u001b[38;2;231;233;219m\n\u001b[38;2;91;196;191m                           ^\u001b[38;2;231;233;219m\n\u001b[38;2;239;97;85mSyntaxError\u001b[38;2;231;233;219m\u001b[38;2;239;97;85m:\u001b[38;2;231;233;219m invalid syntax\n"
     ]
    }
   ],
   "source": [
    "def print_header(title)\n",
    "    print(title)\n",
    "    print(\"============================================\")"
   ]
  },
  {
   "cell_type": "markdown",
   "metadata": {},
   "source": [
    "4\\. How many statements are in the following:"
   ]
  },
  {
   "cell_type": "code",
   "execution_count": 4,
   "metadata": {
    "tags": [
     "hide-output"
    ]
   },
   "outputs": [
    {
     "name": "stdout",
     "output_type": "stream",
     "text": [
      "Jack is 24 years old\n"
     ]
    }
   ],
   "source": [
    "name = \"Jack\" ; age = 24 ; print(name, \"is\", age, \"years old\")"
   ]
  },
  {
   "cell_type": "markdown",
   "metadata": {},
   "source": [
    "Today we learned\n",
    "----------------\n",
    "\n",
    "* **statement**: an instruction to Python\n",
    "* **execute**: when Python runs a statement\n",
    "* **simple-statement**: a statement that can be written on a single line by itself, even if it is not actually written that way\n",
    "* **compound-statement**: a number of statements grouped together as a single unit\n",
    "* **implicit line continuation**: when a simple statement is broken into multiple lines inside of `(` `)`, `[` `]` or `{` `}` after operators.\n",
    "* **explicit line continuation**: when a simple statement is broken into multiple lines by appending a `\\` to the end of each line"
   ]
  }
 ],
 "metadata": {
  "jupytext": {
   "formats": "md:myst",
   "text_representation": {
    "extension": ".md",
    "format_name": "myst"
   }
  },
  "kernelspec": {
   "display_name": "Python 3",
   "language": "python",
   "name": "python3"
  },
  "language_info": {
   "codemirror_mode": {
    "name": "ipython",
    "version": 3
   },
   "file_extension": ".py",
   "mimetype": "text/x-python",
   "name": "python",
   "nbconvert_exporter": "python",
   "pygments_lexer": "ipython3",
   "version": "3.8.1"
  },
  "source_map": [
   11,
   193,
   201,
   205,
   211,
   215,
   220,
   224,
   227
  ]
 },
 "nbformat": 4,
 "nbformat_minor": 4
}