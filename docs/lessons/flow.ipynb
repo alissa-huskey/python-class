{
 "cells": [
  {
   "cell_type": "markdown",
   "metadata": {},
   "source": [
    " # Program Flow"
   ]
  },
  {
   "cell_type": "markdown",
   "metadata": {},
   "source": [
    " ## Variables"
   ]
  },
  {
   "cell_type": "code",
   "execution_count": 3,
   "metadata": {},
   "outputs": [
    {
     "data": {
      "image/jpeg": "[encoded data removed]",
      "text/plain": [
       "<IPython.core.display.Image object>"
      ]
     },
     "metadata": {
      "image/jpeg": {
       "align": "right"
      }
     },
     "output_type": "display_data"
    }
   ],
   "source": [
    "\n",
    "from PIL import Image\n",
    "img = Image(\"assets/zelda-inventory.jpg\")\n",
    "display(img)\n"
   ]
  },
  {
   "cell_type": "markdown",
   "metadata": {},
   "source": [
    " ```{image} assets/zelda-inventory.jpg\n",
    " ---\n",
    " :alt: inventory\n",
    " :align: right\n",
    " ---\n",
    " ```\n",
    " When you create a variable, it is like collecting inventory.\n",
    " Variables have an *identifer* and a *value*. The identifer is the name, and\n",
    " the value is the data that is holds.\n",
    " To create a variable, you *assign* it, using the `=` operator.\n",
    "\n",
    " <identifier> = <value>"
   ]
  },
  {
   "cell_type": "code",
   "execution_count": null,
   "metadata": {},
   "outputs": [],
   "source": [
    "\n",
    "coins = 25\n",
    "potions = 0\n",
    "keys = [\n",
    "    \"silver\",\n",
    "    \"gold\",\n",
    "    \"bronze\"\n",
    "]\n"
   ]
  },
  {
   "cell_type": "markdown",
   "metadata": {},
   "source": [
    " ## Functions\n",
    " Functions are like skills or abilities.\n",
    " Creating a function is a compound statement.\n",
    " def <identifier>():\n",
    "   <body>\n",
    " ## Loops\n",
    " mario pipes\n",
    " ## If-Statements"
   ]
  }
 ],
 "metadata": {
  "kernelspec": {
   "display_name": "Python 3",
   "language": "python",
   "name": "python3"
  },
  "language_info": {
   "codemirror_mode": {
    "name": "ipython",
    "version": 3
   },
   "file_extension": ".py",
   "mimetype": "text/x-python",
   "name": "python",
   "nbconvert_exporter": "python",
   "pygments_lexer": "ipython3",
   "version": "3.8.1"
  }
 },
 "nbformat": 4,
 "nbformat_minor": 2
}
